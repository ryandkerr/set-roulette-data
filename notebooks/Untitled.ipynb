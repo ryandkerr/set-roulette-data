{
 "cells": [
  {
   "cell_type": "code",
   "execution_count": 53,
   "id": "c99f6568",
   "metadata": {},
   "outputs": [],
   "source": [
    "import pandas as pd\n",
    "import plotly.express as px\n",
    "import sqlite3\n",
    "\n",
    "pd.set_option('display.max_rows', None)"
   ]
  },
  {
   "cell_type": "markdown",
   "id": "02b17f1c",
   "metadata": {},
   "source": [
    "### Most-Played Cards / Card Winrates"
   ]
  },
  {
   "cell_type": "code",
   "execution_count": 39,
   "id": "9d24b97d",
   "metadata": {
    "collapsed": true
   },
   "outputs": [
    {
     "data": {
      "application/vnd.plotly.v1+json": {
       "config": {
        "plotlyServerURL": "https://plot.ly"
       },
       "data": [
        {
         "customdata": [
          [
           "Swamp"
          ],
          [
           "Dark Ritual"
          ],
          [
           "Gravecrawler"
          ],
          [
           "Forest"
          ],
          [
           "Diregraf Ghoul"
          ],
          [
           "Stitcher's Supplier"
          ],
          [
           "Mountain"
          ],
          [
           "Geralf's Messenger"
          ],
          [
           "Graveyard Marshal"
          ],
          [
           "Island"
          ],
          [
           "Contamination"
          ],
          [
           "Bloodsoaked Champion"
          ],
          [
           "Bloodstained Mire"
          ],
          [
           "Lord of the Undead"
          ],
          [
           "Death Baron"
          ],
          [
           "Faithless Looting"
          ],
          [
           "Plains"
          ],
          [
           "Polluted Delta"
          ],
          [
           "Phyrexian Tower"
          ],
          [
           "Time Spiral"
          ],
          [
           "Blood Scrivener"
          ],
          [
           "Duress"
          ],
          [
           "Show and Tell"
          ],
          [
           "Evolving Wilds"
          ],
          [
           "Omniscience"
          ],
          [
           "Flooded Strand"
          ],
          [
           "Tragic Slip"
          ],
          [
           "Lingering Souls"
          ],
          [
           "Nexus of Fate"
          ],
          [
           "Liliana, Untouched by Death"
          ],
          [
           "Exhume"
          ],
          [
           "Anticipate"
          ],
          [
           "Sire of Insanity"
          ],
          [
           "Tormenting Voice"
          ],
          [
           "Gamble"
          ],
          [
           "Thought Scour"
          ],
          [
           "Scoured Barrens"
          ],
          [
           "Fertile Ground"
          ],
          [
           "Exploration"
          ],
          [
           "Nomad Outpost"
          ],
          [
           "Windswept Heath"
          ],
          [
           "Remote Isle"
          ],
          [
           "Vivien Reid"
          ],
          [
           "Attunement"
          ],
          [
           "Siege Rhino"
          ],
          [
           "Sandsteppe Citadel"
          ],
          [
           "Llanowar Elves"
          ],
          [
           "Gift of Paradise"
          ],
          [
           "Shock"
          ],
          [
           "Mystic Monastery"
          ],
          [
           "Gather the Townsfolk"
          ],
          [
           "Blasted Landscape"
          ],
          [
           "Sorin, Solemn Visitor"
          ],
          [
           "Sorin, Lord of Innistrad"
          ],
          [
           "Murderous Cut"
          ],
          [
           "Jungle Hollow"
          ],
          [
           "Diabolic Intent"
          ],
          [
           "Uncovered Clues"
          ],
          [
           "Turnabout"
          ],
          [
           "Thorn Lieutenant"
          ],
          [
           "Bloodfell Caves"
          ],
          [
           "Argothian Enchantress"
          ],
          [
           "Polluted Mire"
          ],
          [
           "Narset, Enlightened Master"
          ],
          [
           "Flayer of the Hatebound"
          ],
          [
           "Diabolic Servitude"
          ],
          [
           "Anafenza, the Foremost"
          ],
          [
           "Abzan Charm"
          ],
          [
           "Voice of Resurgence"
          ],
          [
           "Star Compass"
          ],
          [
           "Divination"
          ],
          [
           "Dismissive Pyromancer"
          ],
          [
           "Wingmate Roc"
          ],
          [
           "Taigam's Scheming"
          ],
          [
           "Swiftwater Cliffs"
          ],
          [
           "Rescind"
          ],
          [
           "Blood Baron of Vizkopa"
          ],
          [
           "Stroke of Genius"
          ],
          [
           "Tranquil Cove"
          ],
          [
           "Thalia, Guardian of Thraben"
          ],
          [
           "Grim Haruspex"
          ],
          [
           "Victimize"
          ],
          [
           "Omenspeaker"
          ],
          [
           "Mentor of the Meek"
          ],
          [
           "Blast of Genius"
          ],
          [
           "Remorseful Cleric"
          ],
          [
           "Power Sink"
          ],
          [
           "Persecute"
          ],
          [
           "Blossoming Sands"
          ],
          [
           "Serra's Sanctum"
          ],
          [
           "Utter End"
          ],
          [
           "Pestilence"
          ]
         ],
         "hovertemplate": "Number of Copies (Main Deck)=%{x}<br>Win %=%{y}<br>name=%{customdata[0]}<extra></extra>",
         "legendgroup": "",
         "marker": {
          "color": "#636efa",
          "symbol": "circle"
         },
         "mode": "markers",
         "name": "",
         "orientation": "v",
         "showlegend": false,
         "type": "scatter",
         "x": [
          467,
          111,
          96,
          93,
          91,
          86,
          85,
          84,
          80,
          79,
          61,
          60,
          59,
          57,
          51,
          50,
          48,
          46,
          46,
          42,
          38,
          37,
          36,
          36,
          35,
          33,
          32,
          32,
          28,
          28,
          28,
          28,
          27,
          26,
          25,
          23,
          23,
          22,
          20,
          19,
          18,
          18,
          17,
          17,
          16,
          16,
          16,
          16,
          15,
          15,
          15,
          15,
          13,
          13,
          13,
          13,
          13,
          12,
          12,
          12,
          12,
          12,
          11,
          11,
          11,
          11,
          11,
          11,
          10,
          10,
          10,
          10,
          9,
          9,
          9,
          9,
          9,
          8,
          7,
          7,
          7,
          6,
          6,
          6,
          6,
          5,
          5,
          5,
          5,
          4,
          3,
          3
         ],
         "xaxis": "x",
         "y": [
          55,
          56,
          54,
          48,
          55,
          54,
          42,
          56,
          56,
          37,
          57,
          54,
          52,
          55,
          59,
          42,
          52,
          48,
          56,
          41,
          53,
          65,
          46,
          57,
          46,
          38,
          63,
          53,
          34,
          56,
          50,
          47,
          48,
          53,
          47,
          43,
          51,
          55,
          14,
          48,
          59,
          24,
          67,
          35,
          73,
          73,
          40,
          17,
          18,
          47,
          50,
          41,
          59,
          47,
          65,
          73,
          56,
          47,
          18,
          63,
          36,
          18,
          44,
          36,
          57,
          44,
          76,
          62,
          71,
          63,
          60,
          55,
          63,
          36,
          50,
          36,
          73,
          22,
          50,
          77,
          68,
          64,
          47,
          53,
          50,
          82,
          55,
          68,
          67,
          18,
          82,
          69
         ],
         "yaxis": "y"
        }
       ],
       "layout": {
        "legend": {
         "tracegroupgap": 0
        },
        "template": {
         "data": {
          "bar": [
           {
            "error_x": {
             "color": "#2a3f5f"
            },
            "error_y": {
             "color": "#2a3f5f"
            },
            "marker": {
             "line": {
              "color": "#E5ECF6",
              "width": 0.5
             }
            },
            "type": "bar"
           }
          ],
          "barpolar": [
           {
            "marker": {
             "line": {
              "color": "#E5ECF6",
              "width": 0.5
             }
            },
            "type": "barpolar"
           }
          ],
          "carpet": [
           {
            "aaxis": {
             "endlinecolor": "#2a3f5f",
             "gridcolor": "white",
             "linecolor": "white",
             "minorgridcolor": "white",
             "startlinecolor": "#2a3f5f"
            },
            "baxis": {
             "endlinecolor": "#2a3f5f",
             "gridcolor": "white",
             "linecolor": "white",
             "minorgridcolor": "white",
             "startlinecolor": "#2a3f5f"
            },
            "type": "carpet"
           }
          ],
          "choropleth": [
           {
            "colorbar": {
             "outlinewidth": 0,
             "ticks": ""
            },
            "type": "choropleth"
           }
          ],
          "contour": [
           {
            "colorbar": {
             "outlinewidth": 0,
             "ticks": ""
            },
            "colorscale": [
             [
              0,
              "#0d0887"
             ],
             [
              0.1111111111111111,
              "#46039f"
             ],
             [
              0.2222222222222222,
              "#7201a8"
             ],
             [
              0.3333333333333333,
              "#9c179e"
             ],
             [
              0.4444444444444444,
              "#bd3786"
             ],
             [
              0.5555555555555556,
              "#d8576b"
             ],
             [
              0.6666666666666666,
              "#ed7953"
             ],
             [
              0.7777777777777778,
              "#fb9f3a"
             ],
             [
              0.8888888888888888,
              "#fdca26"
             ],
             [
              1,
              "#f0f921"
             ]
            ],
            "type": "contour"
           }
          ],
          "contourcarpet": [
           {
            "colorbar": {
             "outlinewidth": 0,
             "ticks": ""
            },
            "type": "contourcarpet"
           }
          ],
          "heatmap": [
           {
            "colorbar": {
             "outlinewidth": 0,
             "ticks": ""
            },
            "colorscale": [
             [
              0,
              "#0d0887"
             ],
             [
              0.1111111111111111,
              "#46039f"
             ],
             [
              0.2222222222222222,
              "#7201a8"
             ],
             [
              0.3333333333333333,
              "#9c179e"
             ],
             [
              0.4444444444444444,
              "#bd3786"
             ],
             [
              0.5555555555555556,
              "#d8576b"
             ],
             [
              0.6666666666666666,
              "#ed7953"
             ],
             [
              0.7777777777777778,
              "#fb9f3a"
             ],
             [
              0.8888888888888888,
              "#fdca26"
             ],
             [
              1,
              "#f0f921"
             ]
            ],
            "type": "heatmap"
           }
          ],
          "heatmapgl": [
           {
            "colorbar": {
             "outlinewidth": 0,
             "ticks": ""
            },
            "colorscale": [
             [
              0,
              "#0d0887"
             ],
             [
              0.1111111111111111,
              "#46039f"
             ],
             [
              0.2222222222222222,
              "#7201a8"
             ],
             [
              0.3333333333333333,
              "#9c179e"
             ],
             [
              0.4444444444444444,
              "#bd3786"
             ],
             [
              0.5555555555555556,
              "#d8576b"
             ],
             [
              0.6666666666666666,
              "#ed7953"
             ],
             [
              0.7777777777777778,
              "#fb9f3a"
             ],
             [
              0.8888888888888888,
              "#fdca26"
             ],
             [
              1,
              "#f0f921"
             ]
            ],
            "type": "heatmapgl"
           }
          ],
          "histogram": [
           {
            "marker": {
             "colorbar": {
              "outlinewidth": 0,
              "ticks": ""
             }
            },
            "type": "histogram"
           }
          ],
          "histogram2d": [
           {
            "colorbar": {
             "outlinewidth": 0,
             "ticks": ""
            },
            "colorscale": [
             [
              0,
              "#0d0887"
             ],
             [
              0.1111111111111111,
              "#46039f"
             ],
             [
              0.2222222222222222,
              "#7201a8"
             ],
             [
              0.3333333333333333,
              "#9c179e"
             ],
             [
              0.4444444444444444,
              "#bd3786"
             ],
             [
              0.5555555555555556,
              "#d8576b"
             ],
             [
              0.6666666666666666,
              "#ed7953"
             ],
             [
              0.7777777777777778,
              "#fb9f3a"
             ],
             [
              0.8888888888888888,
              "#fdca26"
             ],
             [
              1,
              "#f0f921"
             ]
            ],
            "type": "histogram2d"
           }
          ],
          "histogram2dcontour": [
           {
            "colorbar": {
             "outlinewidth": 0,
             "ticks": ""
            },
            "colorscale": [
             [
              0,
              "#0d0887"
             ],
             [
              0.1111111111111111,
              "#46039f"
             ],
             [
              0.2222222222222222,
              "#7201a8"
             ],
             [
              0.3333333333333333,
              "#9c179e"
             ],
             [
              0.4444444444444444,
              "#bd3786"
             ],
             [
              0.5555555555555556,
              "#d8576b"
             ],
             [
              0.6666666666666666,
              "#ed7953"
             ],
             [
              0.7777777777777778,
              "#fb9f3a"
             ],
             [
              0.8888888888888888,
              "#fdca26"
             ],
             [
              1,
              "#f0f921"
             ]
            ],
            "type": "histogram2dcontour"
           }
          ],
          "mesh3d": [
           {
            "colorbar": {
             "outlinewidth": 0,
             "ticks": ""
            },
            "type": "mesh3d"
           }
          ],
          "parcoords": [
           {
            "line": {
             "colorbar": {
              "outlinewidth": 0,
              "ticks": ""
             }
            },
            "type": "parcoords"
           }
          ],
          "pie": [
           {
            "automargin": true,
            "type": "pie"
           }
          ],
          "scatter": [
           {
            "marker": {
             "colorbar": {
              "outlinewidth": 0,
              "ticks": ""
             }
            },
            "type": "scatter"
           }
          ],
          "scatter3d": [
           {
            "line": {
             "colorbar": {
              "outlinewidth": 0,
              "ticks": ""
             }
            },
            "marker": {
             "colorbar": {
              "outlinewidth": 0,
              "ticks": ""
             }
            },
            "type": "scatter3d"
           }
          ],
          "scattercarpet": [
           {
            "marker": {
             "colorbar": {
              "outlinewidth": 0,
              "ticks": ""
             }
            },
            "type": "scattercarpet"
           }
          ],
          "scattergeo": [
           {
            "marker": {
             "colorbar": {
              "outlinewidth": 0,
              "ticks": ""
             }
            },
            "type": "scattergeo"
           }
          ],
          "scattergl": [
           {
            "marker": {
             "colorbar": {
              "outlinewidth": 0,
              "ticks": ""
             }
            },
            "type": "scattergl"
           }
          ],
          "scattermapbox": [
           {
            "marker": {
             "colorbar": {
              "outlinewidth": 0,
              "ticks": ""
             }
            },
            "type": "scattermapbox"
           }
          ],
          "scatterpolar": [
           {
            "marker": {
             "colorbar": {
              "outlinewidth": 0,
              "ticks": ""
             }
            },
            "type": "scatterpolar"
           }
          ],
          "scatterpolargl": [
           {
            "marker": {
             "colorbar": {
              "outlinewidth": 0,
              "ticks": ""
             }
            },
            "type": "scatterpolargl"
           }
          ],
          "scatterternary": [
           {
            "marker": {
             "colorbar": {
              "outlinewidth": 0,
              "ticks": ""
             }
            },
            "type": "scatterternary"
           }
          ],
          "surface": [
           {
            "colorbar": {
             "outlinewidth": 0,
             "ticks": ""
            },
            "colorscale": [
             [
              0,
              "#0d0887"
             ],
             [
              0.1111111111111111,
              "#46039f"
             ],
             [
              0.2222222222222222,
              "#7201a8"
             ],
             [
              0.3333333333333333,
              "#9c179e"
             ],
             [
              0.4444444444444444,
              "#bd3786"
             ],
             [
              0.5555555555555556,
              "#d8576b"
             ],
             [
              0.6666666666666666,
              "#ed7953"
             ],
             [
              0.7777777777777778,
              "#fb9f3a"
             ],
             [
              0.8888888888888888,
              "#fdca26"
             ],
             [
              1,
              "#f0f921"
             ]
            ],
            "type": "surface"
           }
          ],
          "table": [
           {
            "cells": {
             "fill": {
              "color": "#EBF0F8"
             },
             "line": {
              "color": "white"
             }
            },
            "header": {
             "fill": {
              "color": "#C8D4E3"
             },
             "line": {
              "color": "white"
             }
            },
            "type": "table"
           }
          ]
         },
         "layout": {
          "annotationdefaults": {
           "arrowcolor": "#2a3f5f",
           "arrowhead": 0,
           "arrowwidth": 1
          },
          "autotypenumbers": "strict",
          "coloraxis": {
           "colorbar": {
            "outlinewidth": 0,
            "ticks": ""
           }
          },
          "colorscale": {
           "diverging": [
            [
             0,
             "#8e0152"
            ],
            [
             0.1,
             "#c51b7d"
            ],
            [
             0.2,
             "#de77ae"
            ],
            [
             0.3,
             "#f1b6da"
            ],
            [
             0.4,
             "#fde0ef"
            ],
            [
             0.5,
             "#f7f7f7"
            ],
            [
             0.6,
             "#e6f5d0"
            ],
            [
             0.7,
             "#b8e186"
            ],
            [
             0.8,
             "#7fbc41"
            ],
            [
             0.9,
             "#4d9221"
            ],
            [
             1,
             "#276419"
            ]
           ],
           "sequential": [
            [
             0,
             "#0d0887"
            ],
            [
             0.1111111111111111,
             "#46039f"
            ],
            [
             0.2222222222222222,
             "#7201a8"
            ],
            [
             0.3333333333333333,
             "#9c179e"
            ],
            [
             0.4444444444444444,
             "#bd3786"
            ],
            [
             0.5555555555555556,
             "#d8576b"
            ],
            [
             0.6666666666666666,
             "#ed7953"
            ],
            [
             0.7777777777777778,
             "#fb9f3a"
            ],
            [
             0.8888888888888888,
             "#fdca26"
            ],
            [
             1,
             "#f0f921"
            ]
           ],
           "sequentialminus": [
            [
             0,
             "#0d0887"
            ],
            [
             0.1111111111111111,
             "#46039f"
            ],
            [
             0.2222222222222222,
             "#7201a8"
            ],
            [
             0.3333333333333333,
             "#9c179e"
            ],
            [
             0.4444444444444444,
             "#bd3786"
            ],
            [
             0.5555555555555556,
             "#d8576b"
            ],
            [
             0.6666666666666666,
             "#ed7953"
            ],
            [
             0.7777777777777778,
             "#fb9f3a"
            ],
            [
             0.8888888888888888,
             "#fdca26"
            ],
            [
             1,
             "#f0f921"
            ]
           ]
          },
          "colorway": [
           "#636efa",
           "#EF553B",
           "#00cc96",
           "#ab63fa",
           "#FFA15A",
           "#19d3f3",
           "#FF6692",
           "#B6E880",
           "#FF97FF",
           "#FECB52"
          ],
          "font": {
           "color": "#2a3f5f"
          },
          "geo": {
           "bgcolor": "white",
           "lakecolor": "white",
           "landcolor": "#E5ECF6",
           "showlakes": true,
           "showland": true,
           "subunitcolor": "white"
          },
          "hoverlabel": {
           "align": "left"
          },
          "hovermode": "closest",
          "mapbox": {
           "style": "light"
          },
          "paper_bgcolor": "white",
          "plot_bgcolor": "#E5ECF6",
          "polar": {
           "angularaxis": {
            "gridcolor": "white",
            "linecolor": "white",
            "ticks": ""
           },
           "bgcolor": "#E5ECF6",
           "radialaxis": {
            "gridcolor": "white",
            "linecolor": "white",
            "ticks": ""
           }
          },
          "scene": {
           "xaxis": {
            "backgroundcolor": "#E5ECF6",
            "gridcolor": "white",
            "gridwidth": 2,
            "linecolor": "white",
            "showbackground": true,
            "ticks": "",
            "zerolinecolor": "white"
           },
           "yaxis": {
            "backgroundcolor": "#E5ECF6",
            "gridcolor": "white",
            "gridwidth": 2,
            "linecolor": "white",
            "showbackground": true,
            "ticks": "",
            "zerolinecolor": "white"
           },
           "zaxis": {
            "backgroundcolor": "#E5ECF6",
            "gridcolor": "white",
            "gridwidth": 2,
            "linecolor": "white",
            "showbackground": true,
            "ticks": "",
            "zerolinecolor": "white"
           }
          },
          "shapedefaults": {
           "line": {
            "color": "#2a3f5f"
           }
          },
          "ternary": {
           "aaxis": {
            "gridcolor": "white",
            "linecolor": "white",
            "ticks": ""
           },
           "baxis": {
            "gridcolor": "white",
            "linecolor": "white",
            "ticks": ""
           },
           "bgcolor": "#E5ECF6",
           "caxis": {
            "gridcolor": "white",
            "linecolor": "white",
            "ticks": ""
           }
          },
          "title": {
           "x": 0.05
          },
          "xaxis": {
           "automargin": true,
           "gridcolor": "white",
           "linecolor": "white",
           "ticks": "",
           "title": {
            "standoff": 15
           },
           "zerolinecolor": "white",
           "zerolinewidth": 2
          },
          "yaxis": {
           "automargin": true,
           "gridcolor": "white",
           "linecolor": "white",
           "ticks": "",
           "title": {
            "standoff": 15
           },
           "zerolinecolor": "white",
           "zerolinewidth": 2
          }
         }
        },
        "title": {
         "text": "389"
        },
        "xaxis": {
         "anchor": "y",
         "domain": [
          0,
          1
         ],
         "title": {
          "text": "Number of Copies (Main Deck)"
         }
        },
        "yaxis": {
         "anchor": "x",
         "domain": [
          0,
          1
         ],
         "title": {
          "text": "Win %"
         }
        }
       }
      },
      "text/html": [
       "<div>                            <div id=\"f690fe64-4d5e-4a80-9184-85dd51c28082\" class=\"plotly-graph-div\" style=\"height:525px; width:100%;\"></div>            <script type=\"text/javascript\">                require([\"plotly\"], function(Plotly) {                    window.PLOTLYENV=window.PLOTLYENV || {};                                    if (document.getElementById(\"f690fe64-4d5e-4a80-9184-85dd51c28082\")) {                    Plotly.newPlot(                        \"f690fe64-4d5e-4a80-9184-85dd51c28082\",                        [{\"customdata\": [[\"Swamp\"], [\"Dark Ritual\"], [\"Gravecrawler\"], [\"Forest\"], [\"Diregraf Ghoul\"], [\"Stitcher's Supplier\"], [\"Mountain\"], [\"Geralf's Messenger\"], [\"Graveyard Marshal\"], [\"Island\"], [\"Contamination\"], [\"Bloodsoaked Champion\"], [\"Bloodstained Mire\"], [\"Lord of the Undead\"], [\"Death Baron\"], [\"Faithless Looting\"], [\"Plains\"], [\"Polluted Delta\"], [\"Phyrexian Tower\"], [\"Time Spiral\"], [\"Blood Scrivener\"], [\"Duress\"], [\"Show and Tell\"], [\"Evolving Wilds\"], [\"Omniscience\"], [\"Flooded Strand\"], [\"Tragic Slip\"], [\"Lingering Souls\"], [\"Nexus of Fate\"], [\"Liliana, Untouched by Death\"], [\"Exhume\"], [\"Anticipate\"], [\"Sire of Insanity\"], [\"Tormenting Voice\"], [\"Gamble\"], [\"Thought Scour\"], [\"Scoured Barrens\"], [\"Fertile Ground\"], [\"Exploration\"], [\"Nomad Outpost\"], [\"Windswept Heath\"], [\"Remote Isle\"], [\"Vivien Reid\"], [\"Attunement\"], [\"Siege Rhino\"], [\"Sandsteppe Citadel\"], [\"Llanowar Elves\"], [\"Gift of Paradise\"], [\"Shock\"], [\"Mystic Monastery\"], [\"Gather the Townsfolk\"], [\"Blasted Landscape\"], [\"Sorin, Solemn Visitor\"], [\"Sorin, Lord of Innistrad\"], [\"Murderous Cut\"], [\"Jungle Hollow\"], [\"Diabolic Intent\"], [\"Uncovered Clues\"], [\"Turnabout\"], [\"Thorn Lieutenant\"], [\"Bloodfell Caves\"], [\"Argothian Enchantress\"], [\"Polluted Mire\"], [\"Narset, Enlightened Master\"], [\"Flayer of the Hatebound\"], [\"Diabolic Servitude\"], [\"Anafenza, the Foremost\"], [\"Abzan Charm\"], [\"Voice of Resurgence\"], [\"Star Compass\"], [\"Divination\"], [\"Dismissive Pyromancer\"], [\"Wingmate Roc\"], [\"Taigam's Scheming\"], [\"Swiftwater Cliffs\"], [\"Rescind\"], [\"Blood Baron of Vizkopa\"], [\"Stroke of Genius\"], [\"Tranquil Cove\"], [\"Thalia, Guardian of Thraben\"], [\"Grim Haruspex\"], [\"Victimize\"], [\"Omenspeaker\"], [\"Mentor of the Meek\"], [\"Blast of Genius\"], [\"Remorseful Cleric\"], [\"Power Sink\"], [\"Persecute\"], [\"Blossoming Sands\"], [\"Serra's Sanctum\"], [\"Utter End\"], [\"Pestilence\"]], \"hovertemplate\": \"Number of Copies (Main Deck)=%{x}<br>Win %=%{y}<br>name=%{customdata[0]}<extra></extra>\", \"legendgroup\": \"\", \"marker\": {\"color\": \"#636efa\", \"symbol\": \"circle\"}, \"mode\": \"markers\", \"name\": \"\", \"orientation\": \"v\", \"showlegend\": false, \"type\": \"scatter\", \"x\": [467, 111, 96, 93, 91, 86, 85, 84, 80, 79, 61, 60, 59, 57, 51, 50, 48, 46, 46, 42, 38, 37, 36, 36, 35, 33, 32, 32, 28, 28, 28, 28, 27, 26, 25, 23, 23, 22, 20, 19, 18, 18, 17, 17, 16, 16, 16, 16, 15, 15, 15, 15, 13, 13, 13, 13, 13, 12, 12, 12, 12, 12, 11, 11, 11, 11, 11, 11, 10, 10, 10, 10, 9, 9, 9, 9, 9, 8, 7, 7, 7, 6, 6, 6, 6, 5, 5, 5, 5, 4, 3, 3], \"xaxis\": \"x\", \"y\": [55.0, 56.0, 54.0, 48.0, 55.0, 54.0, 42.0, 56.0, 56.0, 37.0, 57.0, 54.0, 52.0, 55.0, 59.0, 42.0, 52.0, 48.0, 56.0, 41.0, 53.0, 65.0, 46.0, 57.0, 46.0, 38.0, 63.0, 53.0, 34.0, 56.0, 50.0, 47.0, 48.0, 53.0, 47.0, 43.0, 51.0, 55.0, 14.0, 48.0, 59.0, 24.0, 67.0, 35.0, 73.0, 73.0, 40.0, 17.0, 18.0, 47.0, 50.0, 41.0, 59.0, 47.0, 65.0, 73.0, 56.0, 47.0, 18.0, 63.0, 36.0, 18.0, 44.0, 36.0, 57.0, 44.0, 76.0, 62.0, 71.0, 63.0, 60.0, 55.0, 63.0, 36.0, 50.0, 36.0, 73.0, 22.0, 50.0, 77.0, 68.0, 64.0, 47.0, 53.0, 50.0, 82.0, 55.0, 68.0, 67.0, 18.0, 82.0, 69.0], \"yaxis\": \"y\"}],                        {\"legend\": {\"tracegroupgap\": 0}, \"template\": {\"data\": {\"bar\": [{\"error_x\": {\"color\": \"#2a3f5f\"}, \"error_y\": {\"color\": \"#2a3f5f\"}, \"marker\": {\"line\": {\"color\": \"#E5ECF6\", \"width\": 0.5}}, \"type\": \"bar\"}], \"barpolar\": [{\"marker\": {\"line\": {\"color\": \"#E5ECF6\", \"width\": 0.5}}, \"type\": \"barpolar\"}], \"carpet\": [{\"aaxis\": {\"endlinecolor\": \"#2a3f5f\", \"gridcolor\": \"white\", \"linecolor\": \"white\", \"minorgridcolor\": \"white\", \"startlinecolor\": \"#2a3f5f\"}, \"baxis\": {\"endlinecolor\": \"#2a3f5f\", \"gridcolor\": \"white\", \"linecolor\": \"white\", \"minorgridcolor\": \"white\", \"startlinecolor\": \"#2a3f5f\"}, \"type\": \"carpet\"}], \"choropleth\": [{\"colorbar\": {\"outlinewidth\": 0, \"ticks\": \"\"}, \"type\": \"choropleth\"}], \"contour\": [{\"colorbar\": {\"outlinewidth\": 0, \"ticks\": \"\"}, \"colorscale\": [[0.0, \"#0d0887\"], [0.1111111111111111, \"#46039f\"], [0.2222222222222222, \"#7201a8\"], [0.3333333333333333, \"#9c179e\"], [0.4444444444444444, \"#bd3786\"], [0.5555555555555556, \"#d8576b\"], [0.6666666666666666, \"#ed7953\"], [0.7777777777777778, \"#fb9f3a\"], [0.8888888888888888, \"#fdca26\"], [1.0, \"#f0f921\"]], \"type\": \"contour\"}], \"contourcarpet\": [{\"colorbar\": {\"outlinewidth\": 0, \"ticks\": \"\"}, \"type\": \"contourcarpet\"}], \"heatmap\": [{\"colorbar\": {\"outlinewidth\": 0, \"ticks\": \"\"}, \"colorscale\": [[0.0, \"#0d0887\"], [0.1111111111111111, \"#46039f\"], [0.2222222222222222, \"#7201a8\"], [0.3333333333333333, \"#9c179e\"], [0.4444444444444444, \"#bd3786\"], [0.5555555555555556, \"#d8576b\"], [0.6666666666666666, \"#ed7953\"], [0.7777777777777778, \"#fb9f3a\"], [0.8888888888888888, \"#fdca26\"], [1.0, \"#f0f921\"]], \"type\": \"heatmap\"}], \"heatmapgl\": [{\"colorbar\": {\"outlinewidth\": 0, \"ticks\": \"\"}, \"colorscale\": [[0.0, \"#0d0887\"], [0.1111111111111111, \"#46039f\"], [0.2222222222222222, \"#7201a8\"], [0.3333333333333333, \"#9c179e\"], [0.4444444444444444, \"#bd3786\"], [0.5555555555555556, \"#d8576b\"], [0.6666666666666666, \"#ed7953\"], [0.7777777777777778, \"#fb9f3a\"], [0.8888888888888888, \"#fdca26\"], [1.0, \"#f0f921\"]], \"type\": \"heatmapgl\"}], \"histogram\": [{\"marker\": {\"colorbar\": {\"outlinewidth\": 0, \"ticks\": \"\"}}, \"type\": \"histogram\"}], \"histogram2d\": [{\"colorbar\": {\"outlinewidth\": 0, \"ticks\": \"\"}, \"colorscale\": [[0.0, \"#0d0887\"], [0.1111111111111111, \"#46039f\"], [0.2222222222222222, \"#7201a8\"], [0.3333333333333333, \"#9c179e\"], [0.4444444444444444, \"#bd3786\"], [0.5555555555555556, \"#d8576b\"], [0.6666666666666666, \"#ed7953\"], [0.7777777777777778, \"#fb9f3a\"], [0.8888888888888888, \"#fdca26\"], [1.0, \"#f0f921\"]], \"type\": \"histogram2d\"}], \"histogram2dcontour\": [{\"colorbar\": {\"outlinewidth\": 0, \"ticks\": \"\"}, \"colorscale\": [[0.0, \"#0d0887\"], [0.1111111111111111, \"#46039f\"], [0.2222222222222222, \"#7201a8\"], [0.3333333333333333, \"#9c179e\"], [0.4444444444444444, \"#bd3786\"], [0.5555555555555556, \"#d8576b\"], [0.6666666666666666, \"#ed7953\"], [0.7777777777777778, \"#fb9f3a\"], [0.8888888888888888, \"#fdca26\"], [1.0, \"#f0f921\"]], \"type\": \"histogram2dcontour\"}], \"mesh3d\": [{\"colorbar\": {\"outlinewidth\": 0, \"ticks\": \"\"}, \"type\": \"mesh3d\"}], \"parcoords\": [{\"line\": {\"colorbar\": {\"outlinewidth\": 0, \"ticks\": \"\"}}, \"type\": \"parcoords\"}], \"pie\": [{\"automargin\": true, \"type\": \"pie\"}], \"scatter\": [{\"marker\": {\"colorbar\": {\"outlinewidth\": 0, \"ticks\": \"\"}}, \"type\": \"scatter\"}], \"scatter3d\": [{\"line\": {\"colorbar\": {\"outlinewidth\": 0, \"ticks\": \"\"}}, \"marker\": {\"colorbar\": {\"outlinewidth\": 0, \"ticks\": \"\"}}, \"type\": \"scatter3d\"}], \"scattercarpet\": [{\"marker\": {\"colorbar\": {\"outlinewidth\": 0, \"ticks\": \"\"}}, \"type\": \"scattercarpet\"}], \"scattergeo\": [{\"marker\": {\"colorbar\": {\"outlinewidth\": 0, \"ticks\": \"\"}}, \"type\": \"scattergeo\"}], \"scattergl\": [{\"marker\": {\"colorbar\": {\"outlinewidth\": 0, \"ticks\": \"\"}}, \"type\": \"scattergl\"}], \"scattermapbox\": [{\"marker\": {\"colorbar\": {\"outlinewidth\": 0, \"ticks\": \"\"}}, \"type\": \"scattermapbox\"}], \"scatterpolar\": [{\"marker\": {\"colorbar\": {\"outlinewidth\": 0, \"ticks\": \"\"}}, \"type\": \"scatterpolar\"}], \"scatterpolargl\": [{\"marker\": {\"colorbar\": {\"outlinewidth\": 0, \"ticks\": \"\"}}, \"type\": \"scatterpolargl\"}], \"scatterternary\": [{\"marker\": {\"colorbar\": {\"outlinewidth\": 0, \"ticks\": \"\"}}, \"type\": \"scatterternary\"}], \"surface\": [{\"colorbar\": {\"outlinewidth\": 0, \"ticks\": \"\"}, \"colorscale\": [[0.0, \"#0d0887\"], [0.1111111111111111, \"#46039f\"], [0.2222222222222222, \"#7201a8\"], [0.3333333333333333, \"#9c179e\"], [0.4444444444444444, \"#bd3786\"], [0.5555555555555556, \"#d8576b\"], [0.6666666666666666, \"#ed7953\"], [0.7777777777777778, \"#fb9f3a\"], [0.8888888888888888, \"#fdca26\"], [1.0, \"#f0f921\"]], \"type\": \"surface\"}], \"table\": [{\"cells\": {\"fill\": {\"color\": \"#EBF0F8\"}, \"line\": {\"color\": \"white\"}}, \"header\": {\"fill\": {\"color\": \"#C8D4E3\"}, \"line\": {\"color\": \"white\"}}, \"type\": \"table\"}]}, \"layout\": {\"annotationdefaults\": {\"arrowcolor\": \"#2a3f5f\", \"arrowhead\": 0, \"arrowwidth\": 1}, \"autotypenumbers\": \"strict\", \"coloraxis\": {\"colorbar\": {\"outlinewidth\": 0, \"ticks\": \"\"}}, \"colorscale\": {\"diverging\": [[0, \"#8e0152\"], [0.1, \"#c51b7d\"], [0.2, \"#de77ae\"], [0.3, \"#f1b6da\"], [0.4, \"#fde0ef\"], [0.5, \"#f7f7f7\"], [0.6, \"#e6f5d0\"], [0.7, \"#b8e186\"], [0.8, \"#7fbc41\"], [0.9, \"#4d9221\"], [1, \"#276419\"]], \"sequential\": [[0.0, \"#0d0887\"], [0.1111111111111111, \"#46039f\"], [0.2222222222222222, \"#7201a8\"], [0.3333333333333333, \"#9c179e\"], [0.4444444444444444, \"#bd3786\"], [0.5555555555555556, \"#d8576b\"], [0.6666666666666666, \"#ed7953\"], [0.7777777777777778, \"#fb9f3a\"], [0.8888888888888888, \"#fdca26\"], [1.0, \"#f0f921\"]], \"sequentialminus\": [[0.0, \"#0d0887\"], [0.1111111111111111, \"#46039f\"], [0.2222222222222222, \"#7201a8\"], [0.3333333333333333, \"#9c179e\"], [0.4444444444444444, \"#bd3786\"], [0.5555555555555556, \"#d8576b\"], [0.6666666666666666, \"#ed7953\"], [0.7777777777777778, \"#fb9f3a\"], [0.8888888888888888, \"#fdca26\"], [1.0, \"#f0f921\"]]}, \"colorway\": [\"#636efa\", \"#EF553B\", \"#00cc96\", \"#ab63fa\", \"#FFA15A\", \"#19d3f3\", \"#FF6692\", \"#B6E880\", \"#FF97FF\", \"#FECB52\"], \"font\": {\"color\": \"#2a3f5f\"}, \"geo\": {\"bgcolor\": \"white\", \"lakecolor\": \"white\", \"landcolor\": \"#E5ECF6\", \"showlakes\": true, \"showland\": true, \"subunitcolor\": \"white\"}, \"hoverlabel\": {\"align\": \"left\"}, \"hovermode\": \"closest\", \"mapbox\": {\"style\": \"light\"}, \"paper_bgcolor\": \"white\", \"plot_bgcolor\": \"#E5ECF6\", \"polar\": {\"angularaxis\": {\"gridcolor\": \"white\", \"linecolor\": \"white\", \"ticks\": \"\"}, \"bgcolor\": \"#E5ECF6\", \"radialaxis\": {\"gridcolor\": \"white\", \"linecolor\": \"white\", \"ticks\": \"\"}}, \"scene\": {\"xaxis\": {\"backgroundcolor\": \"#E5ECF6\", \"gridcolor\": \"white\", \"gridwidth\": 2, \"linecolor\": \"white\", \"showbackground\": true, \"ticks\": \"\", \"zerolinecolor\": \"white\"}, \"yaxis\": {\"backgroundcolor\": \"#E5ECF6\", \"gridcolor\": \"white\", \"gridwidth\": 2, \"linecolor\": \"white\", \"showbackground\": true, \"ticks\": \"\", \"zerolinecolor\": \"white\"}, \"zaxis\": {\"backgroundcolor\": \"#E5ECF6\", \"gridcolor\": \"white\", \"gridwidth\": 2, \"linecolor\": \"white\", \"showbackground\": true, \"ticks\": \"\", \"zerolinecolor\": \"white\"}}, \"shapedefaults\": {\"line\": {\"color\": \"#2a3f5f\"}}, \"ternary\": {\"aaxis\": {\"gridcolor\": \"white\", \"linecolor\": \"white\", \"ticks\": \"\"}, \"baxis\": {\"gridcolor\": \"white\", \"linecolor\": \"white\", \"ticks\": \"\"}, \"bgcolor\": \"#E5ECF6\", \"caxis\": {\"gridcolor\": \"white\", \"linecolor\": \"white\", \"ticks\": \"\"}}, \"title\": {\"x\": 0.05}, \"xaxis\": {\"automargin\": true, \"gridcolor\": \"white\", \"linecolor\": \"white\", \"ticks\": \"\", \"title\": {\"standoff\": 15}, \"zerolinecolor\": \"white\", \"zerolinewidth\": 2}, \"yaxis\": {\"automargin\": true, \"gridcolor\": \"white\", \"linecolor\": \"white\", \"ticks\": \"\", \"title\": {\"standoff\": 15}, \"zerolinecolor\": \"white\", \"zerolinewidth\": 2}}}, \"title\": {\"text\": \"389\"}, \"xaxis\": {\"anchor\": \"y\", \"domain\": [0.0, 1.0], \"title\": {\"text\": \"Number of Copies (Main Deck)\"}}, \"yaxis\": {\"anchor\": \"x\", \"domain\": [0.0, 1.0], \"title\": {\"text\": \"Win %\"}}},                        {\"responsive\": true}                    ).then(function(){\n",
       "                            \n",
       "var gd = document.getElementById('f690fe64-4d5e-4a80-9184-85dd51c28082');\n",
       "var x = new MutationObserver(function (mutations, observer) {{\n",
       "        var display = window.getComputedStyle(gd).display;\n",
       "        if (!display || display === 'none') {{\n",
       "            console.log([gd, 'removed!']);\n",
       "            Plotly.purge(gd);\n",
       "            observer.disconnect();\n",
       "        }}\n",
       "}});\n",
       "\n",
       "// Listen for the removal of the full notebook cells\n",
       "var notebookContainer = gd.closest('#notebook-container');\n",
       "if (notebookContainer) {{\n",
       "    x.observe(notebookContainer, {childList: true});\n",
       "}}\n",
       "\n",
       "// Listen for the clearing of the current output cell\n",
       "var outputEl = gd.closest('.output');\n",
       "if (outputEl) {{\n",
       "    x.observe(outputEl, {childList: true});\n",
       "}}\n",
       "\n",
       "                        })                };                });            </script>        </div>"
      ]
     },
     "metadata": {},
     "output_type": "display_data"
    },
    {
     "data": {
      "application/vnd.plotly.v1+json": {
       "config": {
        "plotlyServerURL": "https://plot.ly"
       },
       "data": [
        {
         "customdata": [
          [
           "Forest"
          ],
          [
           "Bayou"
          ],
          [
           "Island"
          ],
          [
           "Tropical Island"
          ],
          [
           "Elves of Deep Shadow"
          ],
          [
           "Breeding Pool"
          ],
          [
           "Skullclamp"
          ],
          [
           "Utopia Sprawl"
          ],
          [
           "Mind Twist"
          ],
          [
           "Mana Drain"
          ],
          [
           "Three Visits"
          ],
          [
           "Swamp"
          ],
          [
           "Volcanic Island"
          ],
          [
           "Fact or Fiction"
          ],
          [
           "Coiling Oracle"
          ],
          [
           "Trygon Predator"
          ],
          [
           "Woodland Wanderer"
          ],
          [
           "Plains"
          ],
          [
           "Blisterpod"
          ],
          [
           "Lumbering Falls"
          ],
          [
           "Aether Vial"
          ],
          [
           "Opt"
          ],
          [
           "Zulaport Cutthroat"
          ],
          [
           "Scrubland"
          ],
          [
           "Skyrider Elf"
          ],
          [
           "Hallowed Fountain"
          ],
          [
           "Blinkmoth Nexus"
          ],
          [
           "Ulamog, the Ceaseless Hunger"
          ],
          [
           "Catacomb Sifter"
          ],
          [
           "Blood Crypt"
          ],
          [
           "Eldrazi Skyspawner"
          ],
          [
           "Arcbound Worker"
          ],
          [
           "Arcbound Ravager"
          ],
          [
           "Tribal Flames"
          ],
          [
           "Genesis Chamber"
          ],
          [
           "Carrier Thrall"
          ],
          [
           "Phyrexian Altar"
          ],
          [
           "Mountain"
          ],
          [
           "Myr Moonvessel"
          ],
          [
           "Cinder Glade"
          ],
          [
           "Sword of Fire and Ice"
          ],
          [
           "Recoil"
          ],
          [
           "Drowner of Hope"
          ],
          [
           "Chain Lightning"
          ],
          [
           "Arcbound Stinger"
          ],
          [
           "Arcbound Slith"
          ],
          [
           "Smothering Abomination"
          ],
          [
           "Ob Nixilis Reignited"
          ],
          [
           "Chromatic Sphere"
          ],
          [
           "Sunken Hollow"
          ],
          [
           "Force Spike"
          ],
          [
           "Caller of the Claw"
          ],
          [
           "Prairie Stream"
          ],
          [
           "Molten Nursery"
          ],
          [
           "Loyal Retainers"
          ],
          [
           "Gideon, Ally of Zendikar"
          ],
          [
           "Capture of Jingzhou"
          ],
          [
           "Strategic Planning"
          ],
          [
           "Plateau"
          ],
          [
           "Land Tax"
          ],
          [
           "Kobolds of Kher Keep"
          ],
          [
           "Crimson Kobolds"
          ],
          [
           "Canopy Vista"
          ],
          [
           "Ruinous Path"
          ],
          [
           "Patagia Viper"
          ],
          [
           "Painful Truths"
          ],
          [
           "Oxidize"
          ],
          [
           "Echoing Decay"
          ],
          [
           "Absorb"
          ],
          [
           "Sword of Light and Shadow"
          ],
          [
           "Scatter to the Winds"
          ],
          [
           "Living Plane"
          ],
          [
           "Herald of Kozilek"
          ],
          [
           "False Defeat"
          ],
          [
           "Viridian Zealot"
          ],
          [
           "Spell Snare"
          ],
          [
           "Salt Marsh"
          ],
          [
           "Ravenous Rats"
          ],
          [
           "Fire Ambush"
          ],
          [
           "Bring to Light"
          ],
          [
           "Azorius Signet"
          ],
          [
           "Smoldering Marsh"
          ],
          [
           "Probe"
          ],
          [
           "Karakas"
          ],
          [
           "Rout"
          ],
          [
           "Pulse of the Grid"
          ],
          [
           "Drana, Liberator of Malakir"
          ],
          [
           "Disenchant"
          ],
          [
           "Bone Splinters"
          ],
          [
           "Quirion Elves"
          ],
          [
           "Condemn"
          ],
          [
           "Disrupt"
          ]
         ],
         "hovertemplate": "Number of Copies (Main Deck)=%{x}<br>Win %=%{y}<br>name=%{customdata[0]}<extra></extra>",
         "legendgroup": "",
         "marker": {
          "color": "#636efa",
          "symbol": "circle"
         },
         "mode": "markers",
         "name": "",
         "orientation": "v",
         "showlegend": false,
         "type": "scatter",
         "x": [
          145,
          142,
          125,
          119,
          108,
          103,
          96,
          92,
          92,
          91,
          62,
          62,
          52,
          50,
          48,
          45,
          42,
          41,
          40,
          37,
          36,
          35,
          34,
          34,
          33,
          31,
          29,
          28,
          28,
          26,
          25,
          23,
          23,
          22,
          22,
          21,
          20,
          19,
          18,
          18,
          17,
          17,
          16,
          16,
          16,
          16,
          14,
          14,
          14,
          13,
          13,
          13,
          12,
          12,
          12,
          12,
          12,
          11,
          11,
          11,
          11,
          11,
          11,
          10,
          10,
          10,
          10,
          10,
          10,
          9,
          9,
          9,
          9,
          9,
          8,
          8,
          8,
          8,
          8,
          8,
          8,
          7,
          7,
          7,
          6,
          6,
          6,
          6,
          6,
          5,
          5,
          3
         ],
         "xaxis": "x",
         "y": [
          51,
          51,
          45,
          53,
          52,
          52,
          50,
          51,
          50,
          45,
          44,
          49,
          57,
          46,
          40,
          60,
          62,
          52,
          48,
          52,
          54,
          39,
          44,
          59,
          65,
          53,
          51,
          32,
          40,
          36,
          56,
          50,
          50,
          47,
          44,
          42,
          47,
          62,
          49,
          46,
          64,
          68,
          23,
          52,
          58,
          58,
          46,
          40,
          50,
          33,
          46,
          38,
          53,
          56,
          50,
          47,
          46,
          50,
          58,
          47,
          59,
          59,
          50,
          44,
          46,
          52,
          58,
          56,
          46,
          38,
          50,
          53,
          56,
          50,
          53,
          55,
          46,
          64,
          64,
          55,
          54,
          45,
          64,
          49,
          46,
          64,
          64,
          45,
          50,
          64,
          55,
          54
         ],
         "yaxis": "y"
        }
       ],
       "layout": {
        "legend": {
         "tracegroupgap": 0
        },
        "template": {
         "data": {
          "bar": [
           {
            "error_x": {
             "color": "#2a3f5f"
            },
            "error_y": {
             "color": "#2a3f5f"
            },
            "marker": {
             "line": {
              "color": "#E5ECF6",
              "width": 0.5
             }
            },
            "type": "bar"
           }
          ],
          "barpolar": [
           {
            "marker": {
             "line": {
              "color": "#E5ECF6",
              "width": 0.5
             }
            },
            "type": "barpolar"
           }
          ],
          "carpet": [
           {
            "aaxis": {
             "endlinecolor": "#2a3f5f",
             "gridcolor": "white",
             "linecolor": "white",
             "minorgridcolor": "white",
             "startlinecolor": "#2a3f5f"
            },
            "baxis": {
             "endlinecolor": "#2a3f5f",
             "gridcolor": "white",
             "linecolor": "white",
             "minorgridcolor": "white",
             "startlinecolor": "#2a3f5f"
            },
            "type": "carpet"
           }
          ],
          "choropleth": [
           {
            "colorbar": {
             "outlinewidth": 0,
             "ticks": ""
            },
            "type": "choropleth"
           }
          ],
          "contour": [
           {
            "colorbar": {
             "outlinewidth": 0,
             "ticks": ""
            },
            "colorscale": [
             [
              0,
              "#0d0887"
             ],
             [
              0.1111111111111111,
              "#46039f"
             ],
             [
              0.2222222222222222,
              "#7201a8"
             ],
             [
              0.3333333333333333,
              "#9c179e"
             ],
             [
              0.4444444444444444,
              "#bd3786"
             ],
             [
              0.5555555555555556,
              "#d8576b"
             ],
             [
              0.6666666666666666,
              "#ed7953"
             ],
             [
              0.7777777777777778,
              "#fb9f3a"
             ],
             [
              0.8888888888888888,
              "#fdca26"
             ],
             [
              1,
              "#f0f921"
             ]
            ],
            "type": "contour"
           }
          ],
          "contourcarpet": [
           {
            "colorbar": {
             "outlinewidth": 0,
             "ticks": ""
            },
            "type": "contourcarpet"
           }
          ],
          "heatmap": [
           {
            "colorbar": {
             "outlinewidth": 0,
             "ticks": ""
            },
            "colorscale": [
             [
              0,
              "#0d0887"
             ],
             [
              0.1111111111111111,
              "#46039f"
             ],
             [
              0.2222222222222222,
              "#7201a8"
             ],
             [
              0.3333333333333333,
              "#9c179e"
             ],
             [
              0.4444444444444444,
              "#bd3786"
             ],
             [
              0.5555555555555556,
              "#d8576b"
             ],
             [
              0.6666666666666666,
              "#ed7953"
             ],
             [
              0.7777777777777778,
              "#fb9f3a"
             ],
             [
              0.8888888888888888,
              "#fdca26"
             ],
             [
              1,
              "#f0f921"
             ]
            ],
            "type": "heatmap"
           }
          ],
          "heatmapgl": [
           {
            "colorbar": {
             "outlinewidth": 0,
             "ticks": ""
            },
            "colorscale": [
             [
              0,
              "#0d0887"
             ],
             [
              0.1111111111111111,
              "#46039f"
             ],
             [
              0.2222222222222222,
              "#7201a8"
             ],
             [
              0.3333333333333333,
              "#9c179e"
             ],
             [
              0.4444444444444444,
              "#bd3786"
             ],
             [
              0.5555555555555556,
              "#d8576b"
             ],
             [
              0.6666666666666666,
              "#ed7953"
             ],
             [
              0.7777777777777778,
              "#fb9f3a"
             ],
             [
              0.8888888888888888,
              "#fdca26"
             ],
             [
              1,
              "#f0f921"
             ]
            ],
            "type": "heatmapgl"
           }
          ],
          "histogram": [
           {
            "marker": {
             "colorbar": {
              "outlinewidth": 0,
              "ticks": ""
             }
            },
            "type": "histogram"
           }
          ],
          "histogram2d": [
           {
            "colorbar": {
             "outlinewidth": 0,
             "ticks": ""
            },
            "colorscale": [
             [
              0,
              "#0d0887"
             ],
             [
              0.1111111111111111,
              "#46039f"
             ],
             [
              0.2222222222222222,
              "#7201a8"
             ],
             [
              0.3333333333333333,
              "#9c179e"
             ],
             [
              0.4444444444444444,
              "#bd3786"
             ],
             [
              0.5555555555555556,
              "#d8576b"
             ],
             [
              0.6666666666666666,
              "#ed7953"
             ],
             [
              0.7777777777777778,
              "#fb9f3a"
             ],
             [
              0.8888888888888888,
              "#fdca26"
             ],
             [
              1,
              "#f0f921"
             ]
            ],
            "type": "histogram2d"
           }
          ],
          "histogram2dcontour": [
           {
            "colorbar": {
             "outlinewidth": 0,
             "ticks": ""
            },
            "colorscale": [
             [
              0,
              "#0d0887"
             ],
             [
              0.1111111111111111,
              "#46039f"
             ],
             [
              0.2222222222222222,
              "#7201a8"
             ],
             [
              0.3333333333333333,
              "#9c179e"
             ],
             [
              0.4444444444444444,
              "#bd3786"
             ],
             [
              0.5555555555555556,
              "#d8576b"
             ],
             [
              0.6666666666666666,
              "#ed7953"
             ],
             [
              0.7777777777777778,
              "#fb9f3a"
             ],
             [
              0.8888888888888888,
              "#fdca26"
             ],
             [
              1,
              "#f0f921"
             ]
            ],
            "type": "histogram2dcontour"
           }
          ],
          "mesh3d": [
           {
            "colorbar": {
             "outlinewidth": 0,
             "ticks": ""
            },
            "type": "mesh3d"
           }
          ],
          "parcoords": [
           {
            "line": {
             "colorbar": {
              "outlinewidth": 0,
              "ticks": ""
             }
            },
            "type": "parcoords"
           }
          ],
          "pie": [
           {
            "automargin": true,
            "type": "pie"
           }
          ],
          "scatter": [
           {
            "marker": {
             "colorbar": {
              "outlinewidth": 0,
              "ticks": ""
             }
            },
            "type": "scatter"
           }
          ],
          "scatter3d": [
           {
            "line": {
             "colorbar": {
              "outlinewidth": 0,
              "ticks": ""
             }
            },
            "marker": {
             "colorbar": {
              "outlinewidth": 0,
              "ticks": ""
             }
            },
            "type": "scatter3d"
           }
          ],
          "scattercarpet": [
           {
            "marker": {
             "colorbar": {
              "outlinewidth": 0,
              "ticks": ""
             }
            },
            "type": "scattercarpet"
           }
          ],
          "scattergeo": [
           {
            "marker": {
             "colorbar": {
              "outlinewidth": 0,
              "ticks": ""
             }
            },
            "type": "scattergeo"
           }
          ],
          "scattergl": [
           {
            "marker": {
             "colorbar": {
              "outlinewidth": 0,
              "ticks": ""
             }
            },
            "type": "scattergl"
           }
          ],
          "scattermapbox": [
           {
            "marker": {
             "colorbar": {
              "outlinewidth": 0,
              "ticks": ""
             }
            },
            "type": "scattermapbox"
           }
          ],
          "scatterpolar": [
           {
            "marker": {
             "colorbar": {
              "outlinewidth": 0,
              "ticks": ""
             }
            },
            "type": "scatterpolar"
           }
          ],
          "scatterpolargl": [
           {
            "marker": {
             "colorbar": {
              "outlinewidth": 0,
              "ticks": ""
             }
            },
            "type": "scatterpolargl"
           }
          ],
          "scatterternary": [
           {
            "marker": {
             "colorbar": {
              "outlinewidth": 0,
              "ticks": ""
             }
            },
            "type": "scatterternary"
           }
          ],
          "surface": [
           {
            "colorbar": {
             "outlinewidth": 0,
             "ticks": ""
            },
            "colorscale": [
             [
              0,
              "#0d0887"
             ],
             [
              0.1111111111111111,
              "#46039f"
             ],
             [
              0.2222222222222222,
              "#7201a8"
             ],
             [
              0.3333333333333333,
              "#9c179e"
             ],
             [
              0.4444444444444444,
              "#bd3786"
             ],
             [
              0.5555555555555556,
              "#d8576b"
             ],
             [
              0.6666666666666666,
              "#ed7953"
             ],
             [
              0.7777777777777778,
              "#fb9f3a"
             ],
             [
              0.8888888888888888,
              "#fdca26"
             ],
             [
              1,
              "#f0f921"
             ]
            ],
            "type": "surface"
           }
          ],
          "table": [
           {
            "cells": {
             "fill": {
              "color": "#EBF0F8"
             },
             "line": {
              "color": "white"
             }
            },
            "header": {
             "fill": {
              "color": "#C8D4E3"
             },
             "line": {
              "color": "white"
             }
            },
            "type": "table"
           }
          ]
         },
         "layout": {
          "annotationdefaults": {
           "arrowcolor": "#2a3f5f",
           "arrowhead": 0,
           "arrowwidth": 1
          },
          "autotypenumbers": "strict",
          "coloraxis": {
           "colorbar": {
            "outlinewidth": 0,
            "ticks": ""
           }
          },
          "colorscale": {
           "diverging": [
            [
             0,
             "#8e0152"
            ],
            [
             0.1,
             "#c51b7d"
            ],
            [
             0.2,
             "#de77ae"
            ],
            [
             0.3,
             "#f1b6da"
            ],
            [
             0.4,
             "#fde0ef"
            ],
            [
             0.5,
             "#f7f7f7"
            ],
            [
             0.6,
             "#e6f5d0"
            ],
            [
             0.7,
             "#b8e186"
            ],
            [
             0.8,
             "#7fbc41"
            ],
            [
             0.9,
             "#4d9221"
            ],
            [
             1,
             "#276419"
            ]
           ],
           "sequential": [
            [
             0,
             "#0d0887"
            ],
            [
             0.1111111111111111,
             "#46039f"
            ],
            [
             0.2222222222222222,
             "#7201a8"
            ],
            [
             0.3333333333333333,
             "#9c179e"
            ],
            [
             0.4444444444444444,
             "#bd3786"
            ],
            [
             0.5555555555555556,
             "#d8576b"
            ],
            [
             0.6666666666666666,
             "#ed7953"
            ],
            [
             0.7777777777777778,
             "#fb9f3a"
            ],
            [
             0.8888888888888888,
             "#fdca26"
            ],
            [
             1,
             "#f0f921"
            ]
           ],
           "sequentialminus": [
            [
             0,
             "#0d0887"
            ],
            [
             0.1111111111111111,
             "#46039f"
            ],
            [
             0.2222222222222222,
             "#7201a8"
            ],
            [
             0.3333333333333333,
             "#9c179e"
            ],
            [
             0.4444444444444444,
             "#bd3786"
            ],
            [
             0.5555555555555556,
             "#d8576b"
            ],
            [
             0.6666666666666666,
             "#ed7953"
            ],
            [
             0.7777777777777778,
             "#fb9f3a"
            ],
            [
             0.8888888888888888,
             "#fdca26"
            ],
            [
             1,
             "#f0f921"
            ]
           ]
          },
          "colorway": [
           "#636efa",
           "#EF553B",
           "#00cc96",
           "#ab63fa",
           "#FFA15A",
           "#19d3f3",
           "#FF6692",
           "#B6E880",
           "#FF97FF",
           "#FECB52"
          ],
          "font": {
           "color": "#2a3f5f"
          },
          "geo": {
           "bgcolor": "white",
           "lakecolor": "white",
           "landcolor": "#E5ECF6",
           "showlakes": true,
           "showland": true,
           "subunitcolor": "white"
          },
          "hoverlabel": {
           "align": "left"
          },
          "hovermode": "closest",
          "mapbox": {
           "style": "light"
          },
          "paper_bgcolor": "white",
          "plot_bgcolor": "#E5ECF6",
          "polar": {
           "angularaxis": {
            "gridcolor": "white",
            "linecolor": "white",
            "ticks": ""
           },
           "bgcolor": "#E5ECF6",
           "radialaxis": {
            "gridcolor": "white",
            "linecolor": "white",
            "ticks": ""
           }
          },
          "scene": {
           "xaxis": {
            "backgroundcolor": "#E5ECF6",
            "gridcolor": "white",
            "gridwidth": 2,
            "linecolor": "white",
            "showbackground": true,
            "ticks": "",
            "zerolinecolor": "white"
           },
           "yaxis": {
            "backgroundcolor": "#E5ECF6",
            "gridcolor": "white",
            "gridwidth": 2,
            "linecolor": "white",
            "showbackground": true,
            "ticks": "",
            "zerolinecolor": "white"
           },
           "zaxis": {
            "backgroundcolor": "#E5ECF6",
            "gridcolor": "white",
            "gridwidth": 2,
            "linecolor": "white",
            "showbackground": true,
            "ticks": "",
            "zerolinecolor": "white"
           }
          },
          "shapedefaults": {
           "line": {
            "color": "#2a3f5f"
           }
          },
          "ternary": {
           "aaxis": {
            "gridcolor": "white",
            "linecolor": "white",
            "ticks": ""
           },
           "baxis": {
            "gridcolor": "white",
            "linecolor": "white",
            "ticks": ""
           },
           "bgcolor": "#E5ECF6",
           "caxis": {
            "gridcolor": "white",
            "linecolor": "white",
            "ticks": ""
           }
          },
          "title": {
           "x": 0.05
          },
          "xaxis": {
           "automargin": true,
           "gridcolor": "white",
           "linecolor": "white",
           "ticks": "",
           "title": {
            "standoff": 15
           },
           "zerolinecolor": "white",
           "zerolinewidth": 2
          },
          "yaxis": {
           "automargin": true,
           "gridcolor": "white",
           "linecolor": "white",
           "ticks": "",
           "title": {
            "standoff": 15
           },
           "zerolinecolor": "white",
           "zerolinewidth": 2
          }
         }
        },
        "title": {
         "text": "691"
        },
        "xaxis": {
         "anchor": "y",
         "domain": [
          0,
          1
         ],
         "title": {
          "text": "Number of Copies (Main Deck)"
         }
        },
        "yaxis": {
         "anchor": "x",
         "domain": [
          0,
          1
         ],
         "title": {
          "text": "Win %"
         }
        }
       }
      },
      "text/html": [
       "<div>                            <div id=\"b12a6133-b928-4322-8103-cc6f982e468f\" class=\"plotly-graph-div\" style=\"height:525px; width:100%;\"></div>            <script type=\"text/javascript\">                require([\"plotly\"], function(Plotly) {                    window.PLOTLYENV=window.PLOTLYENV || {};                                    if (document.getElementById(\"b12a6133-b928-4322-8103-cc6f982e468f\")) {                    Plotly.newPlot(                        \"b12a6133-b928-4322-8103-cc6f982e468f\",                        [{\"customdata\": [[\"Forest\"], [\"Bayou\"], [\"Island\"], [\"Tropical Island\"], [\"Elves of Deep Shadow\"], [\"Breeding Pool\"], [\"Skullclamp\"], [\"Utopia Sprawl\"], [\"Mind Twist\"], [\"Mana Drain\"], [\"Three Visits\"], [\"Swamp\"], [\"Volcanic Island\"], [\"Fact or Fiction\"], [\"Coiling Oracle\"], [\"Trygon Predator\"], [\"Woodland Wanderer\"], [\"Plains\"], [\"Blisterpod\"], [\"Lumbering Falls\"], [\"Aether Vial\"], [\"Opt\"], [\"Zulaport Cutthroat\"], [\"Scrubland\"], [\"Skyrider Elf\"], [\"Hallowed Fountain\"], [\"Blinkmoth Nexus\"], [\"Ulamog, the Ceaseless Hunger\"], [\"Catacomb Sifter\"], [\"Blood Crypt\"], [\"Eldrazi Skyspawner\"], [\"Arcbound Worker\"], [\"Arcbound Ravager\"], [\"Tribal Flames\"], [\"Genesis Chamber\"], [\"Carrier Thrall\"], [\"Phyrexian Altar\"], [\"Mountain\"], [\"Myr Moonvessel\"], [\"Cinder Glade\"], [\"Sword of Fire and Ice\"], [\"Recoil\"], [\"Drowner of Hope\"], [\"Chain Lightning\"], [\"Arcbound Stinger\"], [\"Arcbound Slith\"], [\"Smothering Abomination\"], [\"Ob Nixilis Reignited\"], [\"Chromatic Sphere\"], [\"Sunken Hollow\"], [\"Force Spike\"], [\"Caller of the Claw\"], [\"Prairie Stream\"], [\"Molten Nursery\"], [\"Loyal Retainers\"], [\"Gideon, Ally of Zendikar\"], [\"Capture of Jingzhou\"], [\"Strategic Planning\"], [\"Plateau\"], [\"Land Tax\"], [\"Kobolds of Kher Keep\"], [\"Crimson Kobolds\"], [\"Canopy Vista\"], [\"Ruinous Path\"], [\"Patagia Viper\"], [\"Painful Truths\"], [\"Oxidize\"], [\"Echoing Decay\"], [\"Absorb\"], [\"Sword of Light and Shadow\"], [\"Scatter to the Winds\"], [\"Living Plane\"], [\"Herald of Kozilek\"], [\"False Defeat\"], [\"Viridian Zealot\"], [\"Spell Snare\"], [\"Salt Marsh\"], [\"Ravenous Rats\"], [\"Fire Ambush\"], [\"Bring to Light\"], [\"Azorius Signet\"], [\"Smoldering Marsh\"], [\"Probe\"], [\"Karakas\"], [\"Rout\"], [\"Pulse of the Grid\"], [\"Drana, Liberator of Malakir\"], [\"Disenchant\"], [\"Bone Splinters\"], [\"Quirion Elves\"], [\"Condemn\"], [\"Disrupt\"]], \"hovertemplate\": \"Number of Copies (Main Deck)=%{x}<br>Win %=%{y}<br>name=%{customdata[0]}<extra></extra>\", \"legendgroup\": \"\", \"marker\": {\"color\": \"#636efa\", \"symbol\": \"circle\"}, \"mode\": \"markers\", \"name\": \"\", \"orientation\": \"v\", \"showlegend\": false, \"type\": \"scatter\", \"x\": [145, 142, 125, 119, 108, 103, 96, 92, 92, 91, 62, 62, 52, 50, 48, 45, 42, 41, 40, 37, 36, 35, 34, 34, 33, 31, 29, 28, 28, 26, 25, 23, 23, 22, 22, 21, 20, 19, 18, 18, 17, 17, 16, 16, 16, 16, 14, 14, 14, 13, 13, 13, 12, 12, 12, 12, 12, 11, 11, 11, 11, 11, 11, 10, 10, 10, 10, 10, 10, 9, 9, 9, 9, 9, 8, 8, 8, 8, 8, 8, 8, 7, 7, 7, 6, 6, 6, 6, 6, 5, 5, 3], \"xaxis\": \"x\", \"y\": [51.0, 51.0, 45.0, 53.0, 52.0, 52.0, 50.0, 51.0, 50.0, 45.0, 44.0, 49.0, 57.0, 46.0, 40.0, 60.0, 62.0, 52.0, 48.0, 52.0, 54.0, 39.0, 44.0, 59.0, 65.0, 53.0, 51.0, 32.0, 40.0, 36.0, 56.0, 50.0, 50.0, 47.0, 44.0, 42.0, 47.0, 62.0, 49.0, 46.0, 64.0, 68.0, 23.0, 52.0, 58.0, 58.0, 46.0, 40.0, 50.0, 33.0, 46.0, 38.0, 53.0, 56.0, 50.0, 47.0, 46.0, 50.0, 58.0, 47.0, 59.0, 59.0, 50.0, 44.0, 46.0, 52.0, 58.0, 56.0, 46.0, 38.0, 50.0, 53.0, 56.0, 50.0, 53.0, 55.0, 46.0, 64.0, 64.0, 55.0, 54.0, 45.0, 64.0, 49.0, 46.0, 64.0, 64.0, 45.0, 50.0, 64.0, 55.0, 54.0], \"yaxis\": \"y\"}],                        {\"legend\": {\"tracegroupgap\": 0}, \"template\": {\"data\": {\"bar\": [{\"error_x\": {\"color\": \"#2a3f5f\"}, \"error_y\": {\"color\": \"#2a3f5f\"}, \"marker\": {\"line\": {\"color\": \"#E5ECF6\", \"width\": 0.5}}, \"type\": \"bar\"}], \"barpolar\": [{\"marker\": {\"line\": {\"color\": \"#E5ECF6\", \"width\": 0.5}}, \"type\": \"barpolar\"}], \"carpet\": [{\"aaxis\": {\"endlinecolor\": \"#2a3f5f\", \"gridcolor\": \"white\", \"linecolor\": \"white\", \"minorgridcolor\": \"white\", \"startlinecolor\": \"#2a3f5f\"}, \"baxis\": {\"endlinecolor\": \"#2a3f5f\", \"gridcolor\": \"white\", \"linecolor\": \"white\", \"minorgridcolor\": \"white\", \"startlinecolor\": \"#2a3f5f\"}, \"type\": \"carpet\"}], \"choropleth\": [{\"colorbar\": {\"outlinewidth\": 0, \"ticks\": \"\"}, \"type\": \"choropleth\"}], \"contour\": [{\"colorbar\": {\"outlinewidth\": 0, \"ticks\": \"\"}, \"colorscale\": [[0.0, \"#0d0887\"], [0.1111111111111111, \"#46039f\"], [0.2222222222222222, \"#7201a8\"], [0.3333333333333333, \"#9c179e\"], [0.4444444444444444, \"#bd3786\"], [0.5555555555555556, \"#d8576b\"], [0.6666666666666666, \"#ed7953\"], [0.7777777777777778, \"#fb9f3a\"], [0.8888888888888888, \"#fdca26\"], [1.0, \"#f0f921\"]], \"type\": \"contour\"}], \"contourcarpet\": [{\"colorbar\": {\"outlinewidth\": 0, \"ticks\": \"\"}, \"type\": \"contourcarpet\"}], \"heatmap\": [{\"colorbar\": {\"outlinewidth\": 0, \"ticks\": \"\"}, \"colorscale\": [[0.0, \"#0d0887\"], [0.1111111111111111, \"#46039f\"], [0.2222222222222222, \"#7201a8\"], [0.3333333333333333, \"#9c179e\"], [0.4444444444444444, \"#bd3786\"], [0.5555555555555556, \"#d8576b\"], [0.6666666666666666, \"#ed7953\"], [0.7777777777777778, \"#fb9f3a\"], [0.8888888888888888, \"#fdca26\"], [1.0, \"#f0f921\"]], \"type\": \"heatmap\"}], \"heatmapgl\": [{\"colorbar\": {\"outlinewidth\": 0, \"ticks\": \"\"}, \"colorscale\": [[0.0, \"#0d0887\"], [0.1111111111111111, \"#46039f\"], [0.2222222222222222, \"#7201a8\"], [0.3333333333333333, \"#9c179e\"], [0.4444444444444444, \"#bd3786\"], [0.5555555555555556, \"#d8576b\"], [0.6666666666666666, \"#ed7953\"], [0.7777777777777778, \"#fb9f3a\"], [0.8888888888888888, \"#fdca26\"], [1.0, \"#f0f921\"]], \"type\": \"heatmapgl\"}], \"histogram\": [{\"marker\": {\"colorbar\": {\"outlinewidth\": 0, \"ticks\": \"\"}}, \"type\": \"histogram\"}], \"histogram2d\": [{\"colorbar\": {\"outlinewidth\": 0, \"ticks\": \"\"}, \"colorscale\": [[0.0, \"#0d0887\"], [0.1111111111111111, \"#46039f\"], [0.2222222222222222, \"#7201a8\"], [0.3333333333333333, \"#9c179e\"], [0.4444444444444444, \"#bd3786\"], [0.5555555555555556, \"#d8576b\"], [0.6666666666666666, \"#ed7953\"], [0.7777777777777778, \"#fb9f3a\"], [0.8888888888888888, \"#fdca26\"], [1.0, \"#f0f921\"]], \"type\": \"histogram2d\"}], \"histogram2dcontour\": [{\"colorbar\": {\"outlinewidth\": 0, \"ticks\": \"\"}, \"colorscale\": [[0.0, \"#0d0887\"], [0.1111111111111111, \"#46039f\"], [0.2222222222222222, \"#7201a8\"], [0.3333333333333333, \"#9c179e\"], [0.4444444444444444, \"#bd3786\"], [0.5555555555555556, \"#d8576b\"], [0.6666666666666666, \"#ed7953\"], [0.7777777777777778, \"#fb9f3a\"], [0.8888888888888888, \"#fdca26\"], [1.0, \"#f0f921\"]], \"type\": \"histogram2dcontour\"}], \"mesh3d\": [{\"colorbar\": {\"outlinewidth\": 0, \"ticks\": \"\"}, \"type\": \"mesh3d\"}], \"parcoords\": [{\"line\": {\"colorbar\": {\"outlinewidth\": 0, \"ticks\": \"\"}}, \"type\": \"parcoords\"}], \"pie\": [{\"automargin\": true, \"type\": \"pie\"}], \"scatter\": [{\"marker\": {\"colorbar\": {\"outlinewidth\": 0, \"ticks\": \"\"}}, \"type\": \"scatter\"}], \"scatter3d\": [{\"line\": {\"colorbar\": {\"outlinewidth\": 0, \"ticks\": \"\"}}, \"marker\": {\"colorbar\": {\"outlinewidth\": 0, \"ticks\": \"\"}}, \"type\": \"scatter3d\"}], \"scattercarpet\": [{\"marker\": {\"colorbar\": {\"outlinewidth\": 0, \"ticks\": \"\"}}, \"type\": \"scattercarpet\"}], \"scattergeo\": [{\"marker\": {\"colorbar\": {\"outlinewidth\": 0, \"ticks\": \"\"}}, \"type\": \"scattergeo\"}], \"scattergl\": [{\"marker\": {\"colorbar\": {\"outlinewidth\": 0, \"ticks\": \"\"}}, \"type\": \"scattergl\"}], \"scattermapbox\": [{\"marker\": {\"colorbar\": {\"outlinewidth\": 0, \"ticks\": \"\"}}, \"type\": \"scattermapbox\"}], \"scatterpolar\": [{\"marker\": {\"colorbar\": {\"outlinewidth\": 0, \"ticks\": \"\"}}, \"type\": \"scatterpolar\"}], \"scatterpolargl\": [{\"marker\": {\"colorbar\": {\"outlinewidth\": 0, \"ticks\": \"\"}}, \"type\": \"scatterpolargl\"}], \"scatterternary\": [{\"marker\": {\"colorbar\": {\"outlinewidth\": 0, \"ticks\": \"\"}}, \"type\": \"scatterternary\"}], \"surface\": [{\"colorbar\": {\"outlinewidth\": 0, \"ticks\": \"\"}, \"colorscale\": [[0.0, \"#0d0887\"], [0.1111111111111111, \"#46039f\"], [0.2222222222222222, \"#7201a8\"], [0.3333333333333333, \"#9c179e\"], [0.4444444444444444, \"#bd3786\"], [0.5555555555555556, \"#d8576b\"], [0.6666666666666666, \"#ed7953\"], [0.7777777777777778, \"#fb9f3a\"], [0.8888888888888888, \"#fdca26\"], [1.0, \"#f0f921\"]], \"type\": \"surface\"}], \"table\": [{\"cells\": {\"fill\": {\"color\": \"#EBF0F8\"}, \"line\": {\"color\": \"white\"}}, \"header\": {\"fill\": {\"color\": \"#C8D4E3\"}, \"line\": {\"color\": \"white\"}}, \"type\": \"table\"}]}, \"layout\": {\"annotationdefaults\": {\"arrowcolor\": \"#2a3f5f\", \"arrowhead\": 0, \"arrowwidth\": 1}, \"autotypenumbers\": \"strict\", \"coloraxis\": {\"colorbar\": {\"outlinewidth\": 0, \"ticks\": \"\"}}, \"colorscale\": {\"diverging\": [[0, \"#8e0152\"], [0.1, \"#c51b7d\"], [0.2, \"#de77ae\"], [0.3, \"#f1b6da\"], [0.4, \"#fde0ef\"], [0.5, \"#f7f7f7\"], [0.6, \"#e6f5d0\"], [0.7, \"#b8e186\"], [0.8, \"#7fbc41\"], [0.9, \"#4d9221\"], [1, \"#276419\"]], \"sequential\": [[0.0, \"#0d0887\"], [0.1111111111111111, \"#46039f\"], [0.2222222222222222, \"#7201a8\"], [0.3333333333333333, \"#9c179e\"], [0.4444444444444444, \"#bd3786\"], [0.5555555555555556, \"#d8576b\"], [0.6666666666666666, \"#ed7953\"], [0.7777777777777778, \"#fb9f3a\"], [0.8888888888888888, \"#fdca26\"], [1.0, \"#f0f921\"]], \"sequentialminus\": [[0.0, \"#0d0887\"], [0.1111111111111111, \"#46039f\"], [0.2222222222222222, \"#7201a8\"], [0.3333333333333333, \"#9c179e\"], [0.4444444444444444, \"#bd3786\"], [0.5555555555555556, \"#d8576b\"], [0.6666666666666666, \"#ed7953\"], [0.7777777777777778, \"#fb9f3a\"], [0.8888888888888888, \"#fdca26\"], [1.0, \"#f0f921\"]]}, \"colorway\": [\"#636efa\", \"#EF553B\", \"#00cc96\", \"#ab63fa\", \"#FFA15A\", \"#19d3f3\", \"#FF6692\", \"#B6E880\", \"#FF97FF\", \"#FECB52\"], \"font\": {\"color\": \"#2a3f5f\"}, \"geo\": {\"bgcolor\": \"white\", \"lakecolor\": \"white\", \"landcolor\": \"#E5ECF6\", \"showlakes\": true, \"showland\": true, \"subunitcolor\": \"white\"}, \"hoverlabel\": {\"align\": \"left\"}, \"hovermode\": \"closest\", \"mapbox\": {\"style\": \"light\"}, \"paper_bgcolor\": \"white\", \"plot_bgcolor\": \"#E5ECF6\", \"polar\": {\"angularaxis\": {\"gridcolor\": \"white\", \"linecolor\": \"white\", \"ticks\": \"\"}, \"bgcolor\": \"#E5ECF6\", \"radialaxis\": {\"gridcolor\": \"white\", \"linecolor\": \"white\", \"ticks\": \"\"}}, \"scene\": {\"xaxis\": {\"backgroundcolor\": \"#E5ECF6\", \"gridcolor\": \"white\", \"gridwidth\": 2, \"linecolor\": \"white\", \"showbackground\": true, \"ticks\": \"\", \"zerolinecolor\": \"white\"}, \"yaxis\": {\"backgroundcolor\": \"#E5ECF6\", \"gridcolor\": \"white\", \"gridwidth\": 2, \"linecolor\": \"white\", \"showbackground\": true, \"ticks\": \"\", \"zerolinecolor\": \"white\"}, \"zaxis\": {\"backgroundcolor\": \"#E5ECF6\", \"gridcolor\": \"white\", \"gridwidth\": 2, \"linecolor\": \"white\", \"showbackground\": true, \"ticks\": \"\", \"zerolinecolor\": \"white\"}}, \"shapedefaults\": {\"line\": {\"color\": \"#2a3f5f\"}}, \"ternary\": {\"aaxis\": {\"gridcolor\": \"white\", \"linecolor\": \"white\", \"ticks\": \"\"}, \"baxis\": {\"gridcolor\": \"white\", \"linecolor\": \"white\", \"ticks\": \"\"}, \"bgcolor\": \"#E5ECF6\", \"caxis\": {\"gridcolor\": \"white\", \"linecolor\": \"white\", \"ticks\": \"\"}}, \"title\": {\"x\": 0.05}, \"xaxis\": {\"automargin\": true, \"gridcolor\": \"white\", \"linecolor\": \"white\", \"ticks\": \"\", \"title\": {\"standoff\": 15}, \"zerolinecolor\": \"white\", \"zerolinewidth\": 2}, \"yaxis\": {\"automargin\": true, \"gridcolor\": \"white\", \"linecolor\": \"white\", \"ticks\": \"\", \"title\": {\"standoff\": 15}, \"zerolinecolor\": \"white\", \"zerolinewidth\": 2}}}, \"title\": {\"text\": \"691\"}, \"xaxis\": {\"anchor\": \"y\", \"domain\": [0.0, 1.0], \"title\": {\"text\": \"Number of Copies (Main Deck)\"}}, \"yaxis\": {\"anchor\": \"x\", \"domain\": [0.0, 1.0], \"title\": {\"text\": \"Win %\"}}},                        {\"responsive\": true}                    ).then(function(){\n",
       "                            \n",
       "var gd = document.getElementById('b12a6133-b928-4322-8103-cc6f982e468f');\n",
       "var x = new MutationObserver(function (mutations, observer) {{\n",
       "        var display = window.getComputedStyle(gd).display;\n",
       "        if (!display || display === 'none') {{\n",
       "            console.log([gd, 'removed!']);\n",
       "            Plotly.purge(gd);\n",
       "            observer.disconnect();\n",
       "        }}\n",
       "}});\n",
       "\n",
       "// Listen for the removal of the full notebook cells\n",
       "var notebookContainer = gd.closest('#notebook-container');\n",
       "if (notebookContainer) {{\n",
       "    x.observe(notebookContainer, {childList: true});\n",
       "}}\n",
       "\n",
       "// Listen for the clearing of the current output cell\n",
       "var outputEl = gd.closest('.output');\n",
       "if (outputEl) {{\n",
       "    x.observe(outputEl, {childList: true});\n",
       "}}\n",
       "\n",
       "                        })                };                });            </script>        </div>"
      ]
     },
     "metadata": {},
     "output_type": "display_data"
    },
    {
     "data": {
      "application/vnd.plotly.v1+json": {
       "config": {
        "plotlyServerURL": "https://plot.ly"
       },
       "data": [
        {
         "customdata": [
          [
           "Mountain"
          ],
          [
           "Island"
          ],
          [
           "Champion of Wits"
          ],
          [
           "Mana Leak"
          ],
          [
           "Swamp"
          ],
          [
           "Forest"
          ],
          [
           "Kitchen Finks"
          ],
          [
           "Reflecting Pool"
          ],
          [
           "Polluted Delta"
          ],
          [
           "Bloodbraid Elf"
          ],
          [
           "Terminate"
          ],
          [
           "The Scarab God"
          ],
          [
           "City of Brass"
          ],
          [
           "Plains"
          ],
          [
           "Strategic Planning"
          ],
          [
           "Grand Coliseum"
          ],
          [
           "Sunken Ruins"
          ],
          [
           "Graven Cairns"
          ],
          [
           "Wooded Foothills"
          ],
          [
           "Mystic Gate"
          ],
          [
           "Wrath of God"
          ],
          [
           "Bloodstained Mire"
          ],
          [
           "Birds of Paradise"
          ],
          [
           "Shock"
          ],
          [
           "Flooded Strand"
          ],
          [
           "Swans of Bryn Argoll"
          ],
          [
           "Boggart Ram-Gang"
          ],
          [
           "Tattermunge Maniac"
          ],
          [
           "Supreme Will"
          ],
          [
           "Ramunap Ruins"
          ],
          [
           "Mind Stone"
          ],
          [
           "Chain of Plasma"
          ],
          [
           "Fire-Lit Thicket"
          ],
          [
           "Salt Marsh"
          ],
          [
           "Maelstrom Pulse"
          ],
          [
           "Earthshaker Khenra"
          ],
          [
           "Argivian Restoration"
          ],
          [
           "Volcanic Hammer"
          ],
          [
           "Mudbrawler Cohort"
          ],
          [
           "Forgotten Cave"
          ],
          [
           "Coastal Tower"
          ],
          [
           "Smother"
          ],
          [
           "Doomfall"
          ],
          [
           "Sphinx of the Steel Wind"
          ],
          [
           "Demigod of Revenge"
          ],
          [
           "Windswept Heath"
          ],
          [
           "God-Pharaoh's Gift"
          ],
          [
           "Buried Alive"
          ],
          [
           "Boartusk Liege"
          ],
          [
           "Abrade"
          ],
          [
           "Wooded Bastion"
          ],
          [
           "Seismic Assault"
          ],
          [
           "Rampant Growth"
          ],
          [
           "Hollow One"
          ],
          [
           "Flame Javelin"
          ],
          [
           "Secluded Steppe"
          ],
          [
           "Read the Runes"
          ],
          [
           "Merfolk Traders"
          ],
          [
           "Astral Slide"
          ],
          [
           "Manamorphose"
          ],
          [
           "Fertile Ground"
          ],
          [
           "Barren Moor"
          ],
          [
           "Urza's Tower"
          ],
          [
           "Urza's Power Plant"
          ],
          [
           "Urza's Mine"
          ],
          [
           "Monstrous Carabid"
          ],
          [
           "Lonely Sandbar"
          ],
          [
           "Intimidator Initiate"
          ],
          [
           "Gemstone Mine"
          ],
          [
           "Striped Riverwinder"
          ],
          [
           "Nimble Obstructionist"
          ],
          [
           "Goblin Sledder"
          ],
          [
           "Concentrate"
          ],
          [
           "Trace of Abundance"
          ],
          [
           "Hour of Glory"
          ],
          [
           "Grim Poppet"
          ],
          [
           "Worship"
          ],
          [
           "Vile Manifestation"
          ],
          [
           "Tranquil Thicket"
          ],
          [
           "Lurching Rotbeast"
          ],
          [
           "Lightning Rift"
          ],
          [
           "Goblin Piledriver"
          ],
          [
           "Goblin King"
          ],
          [
           "Countervailing Winds"
          ],
          [
           "Putrid Leech"
          ],
          [
           "Nicol Bolas, God-Pharaoh"
          ],
          [
           "Soul Manipulation"
          ],
          [
           "Renewed Faith"
          ],
          [
           "Akroma's Blessing"
          ],
          [
           "Torment of Hailfire"
          ],
          [
           "Phyrexian Arena"
          ],
          [
           "Glassdust Hulk"
          ],
          [
           "Architects of Will"
          ],
          [
           "Urborg Volcano"
          ],
          [
           "Shield of the Oversoul"
          ],
          [
           "Scavenger Grounds"
          ],
          [
           "Qasali Pridemage"
          ],
          [
           "Oversold Cemetery"
          ],
          [
           "Lotus Vale"
          ],
          [
           "Jund Hackblade"
          ],
          [
           "Hashep Oasis"
          ],
          [
           "Fulminator Mage"
          ],
          [
           "Flux"
          ],
          [
           "Consign // Oblivion"
          ],
          [
           "Blackmail"
          ],
          [
           "Bituminous Blast"
          ],
          [
           "Starstorm"
          ],
          [
           "Ifnir Deadlands"
          ],
          [
           "Wilt-Leaf Liege"
          ],
          [
           "Undead Gladiator"
          ],
          [
           "Tragic Lesson"
          ],
          [
           "Sparksmith"
          ],
          [
           "Skirk Prospector"
          ],
          [
           "Remove Soul"
          ],
          [
           "Mistvein Borderpost"
          ],
          [
           "Inspiration"
          ],
          [
           "Hostile Desert"
          ],
          [
           "Desert of the Fervent"
          ],
          [
           "Crown of Fury"
          ],
          [
           "Complicate"
          ],
          [
           "Akroma's Vengeance"
          ],
          [
           "Samut, the Tested"
          ],
          [
           "Persecute"
          ],
          [
           "Hour of Devastation"
          ],
          [
           "Desert of the Indomitable"
          ],
          [
           "Burning-Fist Minotaur"
          ],
          [
           "Goblin Sharpshooter"
          ],
          [
           "Faerie Macabre"
          ],
          [
           "Crypt of the Eternals"
          ],
          [
           "Bant Sureblade"
          ],
          [
           "Oona, Queen of the Fae"
          ],
          [
           "Cinder Barrens"
          ]
         ],
         "hovertemplate": "Number of Copies (Main Deck)=%{x}<br>Win %=%{y}<br>name=%{customdata[0]}<extra></extra>",
         "legendgroup": "",
         "marker": {
          "color": "#636efa",
          "symbol": "circle"
         },
         "mode": "markers",
         "name": "",
         "orientation": "v",
         "showlegend": false,
         "type": "scatter",
         "x": [
          172,
          130,
          115,
          111,
          103,
          96,
          78,
          73,
          68,
          66,
          63,
          61,
          61,
          59,
          56,
          55,
          54,
          54,
          52,
          50,
          48,
          48,
          48,
          47,
          46,
          44,
          44,
          40,
          40,
          40,
          40,
          39,
          35,
          34,
          30,
          28,
          28,
          27,
          26,
          26,
          26,
          25,
          25,
          24,
          24,
          22,
          22,
          22,
          22,
          22,
          21,
          20,
          20,
          20,
          20,
          19,
          19,
          19,
          19,
          18,
          18,
          18,
          16,
          16,
          16,
          16,
          16,
          16,
          16,
          15,
          15,
          15,
          14,
          13,
          13,
          13,
          12,
          12,
          12,
          12,
          12,
          12,
          12,
          12,
          11,
          11,
          10,
          10,
          10,
          9,
          9,
          9,
          9,
          8,
          8,
          8,
          8,
          8,
          8,
          8,
          8,
          8,
          8,
          8,
          8,
          8,
          7,
          7,
          6,
          6,
          6,
          6,
          6,
          6,
          6,
          6,
          6,
          6,
          6,
          6,
          6,
          5,
          5,
          5,
          5,
          5,
          4,
          4,
          4,
          4,
          3,
          3
         ],
         "xaxis": "x",
         "y": [
          53,
          46,
          46,
          43,
          50,
          54,
          45,
          54,
          45,
          57,
          56,
          47,
          54,
          43,
          41,
          47,
          49,
          58,
          51,
          38,
          38,
          54,
          47,
          55,
          32,
          59,
          58,
          57,
          48,
          57,
          48,
          52,
          59,
          46,
          53,
          67,
          43,
          62,
          60,
          57,
          43,
          39,
          45,
          30,
          50,
          42,
          41,
          50,
          58,
          61,
          59,
          59,
          42,
          43,
          67,
          43,
          35,
          43,
          42,
          55,
          36,
          61,
          52,
          52,
          52,
          58,
          48,
          71,
          54,
          44,
          38,
          48,
          55,
          35,
          41,
          47,
          31,
          63,
          68,
          59,
          60,
          40,
          40,
          36,
          53,
          44,
          38,
          36,
          56,
          42,
          47,
          50,
          63,
          59,
          62,
          55,
          62,
          63,
          73,
          55,
          65,
          55,
          55,
          45,
          38,
          65,
          54,
          42,
          62,
          36,
          42,
          40,
          40,
          45,
          37,
          48,
          53,
          77,
          40,
          42,
          36,
          43,
          44,
          54,
          74,
          58,
          40,
          63,
          45,
          62,
          47,
          55
         ],
         "yaxis": "y"
        }
       ],
       "layout": {
        "legend": {
         "tracegroupgap": 0
        },
        "template": {
         "data": {
          "bar": [
           {
            "error_x": {
             "color": "#2a3f5f"
            },
            "error_y": {
             "color": "#2a3f5f"
            },
            "marker": {
             "line": {
              "color": "#E5ECF6",
              "width": 0.5
             }
            },
            "type": "bar"
           }
          ],
          "barpolar": [
           {
            "marker": {
             "line": {
              "color": "#E5ECF6",
              "width": 0.5
             }
            },
            "type": "barpolar"
           }
          ],
          "carpet": [
           {
            "aaxis": {
             "endlinecolor": "#2a3f5f",
             "gridcolor": "white",
             "linecolor": "white",
             "minorgridcolor": "white",
             "startlinecolor": "#2a3f5f"
            },
            "baxis": {
             "endlinecolor": "#2a3f5f",
             "gridcolor": "white",
             "linecolor": "white",
             "minorgridcolor": "white",
             "startlinecolor": "#2a3f5f"
            },
            "type": "carpet"
           }
          ],
          "choropleth": [
           {
            "colorbar": {
             "outlinewidth": 0,
             "ticks": ""
            },
            "type": "choropleth"
           }
          ],
          "contour": [
           {
            "colorbar": {
             "outlinewidth": 0,
             "ticks": ""
            },
            "colorscale": [
             [
              0,
              "#0d0887"
             ],
             [
              0.1111111111111111,
              "#46039f"
             ],
             [
              0.2222222222222222,
              "#7201a8"
             ],
             [
              0.3333333333333333,
              "#9c179e"
             ],
             [
              0.4444444444444444,
              "#bd3786"
             ],
             [
              0.5555555555555556,
              "#d8576b"
             ],
             [
              0.6666666666666666,
              "#ed7953"
             ],
             [
              0.7777777777777778,
              "#fb9f3a"
             ],
             [
              0.8888888888888888,
              "#fdca26"
             ],
             [
              1,
              "#f0f921"
             ]
            ],
            "type": "contour"
           }
          ],
          "contourcarpet": [
           {
            "colorbar": {
             "outlinewidth": 0,
             "ticks": ""
            },
            "type": "contourcarpet"
           }
          ],
          "heatmap": [
           {
            "colorbar": {
             "outlinewidth": 0,
             "ticks": ""
            },
            "colorscale": [
             [
              0,
              "#0d0887"
             ],
             [
              0.1111111111111111,
              "#46039f"
             ],
             [
              0.2222222222222222,
              "#7201a8"
             ],
             [
              0.3333333333333333,
              "#9c179e"
             ],
             [
              0.4444444444444444,
              "#bd3786"
             ],
             [
              0.5555555555555556,
              "#d8576b"
             ],
             [
              0.6666666666666666,
              "#ed7953"
             ],
             [
              0.7777777777777778,
              "#fb9f3a"
             ],
             [
              0.8888888888888888,
              "#fdca26"
             ],
             [
              1,
              "#f0f921"
             ]
            ],
            "type": "heatmap"
           }
          ],
          "heatmapgl": [
           {
            "colorbar": {
             "outlinewidth": 0,
             "ticks": ""
            },
            "colorscale": [
             [
              0,
              "#0d0887"
             ],
             [
              0.1111111111111111,
              "#46039f"
             ],
             [
              0.2222222222222222,
              "#7201a8"
             ],
             [
              0.3333333333333333,
              "#9c179e"
             ],
             [
              0.4444444444444444,
              "#bd3786"
             ],
             [
              0.5555555555555556,
              "#d8576b"
             ],
             [
              0.6666666666666666,
              "#ed7953"
             ],
             [
              0.7777777777777778,
              "#fb9f3a"
             ],
             [
              0.8888888888888888,
              "#fdca26"
             ],
             [
              1,
              "#f0f921"
             ]
            ],
            "type": "heatmapgl"
           }
          ],
          "histogram": [
           {
            "marker": {
             "colorbar": {
              "outlinewidth": 0,
              "ticks": ""
             }
            },
            "type": "histogram"
           }
          ],
          "histogram2d": [
           {
            "colorbar": {
             "outlinewidth": 0,
             "ticks": ""
            },
            "colorscale": [
             [
              0,
              "#0d0887"
             ],
             [
              0.1111111111111111,
              "#46039f"
             ],
             [
              0.2222222222222222,
              "#7201a8"
             ],
             [
              0.3333333333333333,
              "#9c179e"
             ],
             [
              0.4444444444444444,
              "#bd3786"
             ],
             [
              0.5555555555555556,
              "#d8576b"
             ],
             [
              0.6666666666666666,
              "#ed7953"
             ],
             [
              0.7777777777777778,
              "#fb9f3a"
             ],
             [
              0.8888888888888888,
              "#fdca26"
             ],
             [
              1,
              "#f0f921"
             ]
            ],
            "type": "histogram2d"
           }
          ],
          "histogram2dcontour": [
           {
            "colorbar": {
             "outlinewidth": 0,
             "ticks": ""
            },
            "colorscale": [
             [
              0,
              "#0d0887"
             ],
             [
              0.1111111111111111,
              "#46039f"
             ],
             [
              0.2222222222222222,
              "#7201a8"
             ],
             [
              0.3333333333333333,
              "#9c179e"
             ],
             [
              0.4444444444444444,
              "#bd3786"
             ],
             [
              0.5555555555555556,
              "#d8576b"
             ],
             [
              0.6666666666666666,
              "#ed7953"
             ],
             [
              0.7777777777777778,
              "#fb9f3a"
             ],
             [
              0.8888888888888888,
              "#fdca26"
             ],
             [
              1,
              "#f0f921"
             ]
            ],
            "type": "histogram2dcontour"
           }
          ],
          "mesh3d": [
           {
            "colorbar": {
             "outlinewidth": 0,
             "ticks": ""
            },
            "type": "mesh3d"
           }
          ],
          "parcoords": [
           {
            "line": {
             "colorbar": {
              "outlinewidth": 0,
              "ticks": ""
             }
            },
            "type": "parcoords"
           }
          ],
          "pie": [
           {
            "automargin": true,
            "type": "pie"
           }
          ],
          "scatter": [
           {
            "marker": {
             "colorbar": {
              "outlinewidth": 0,
              "ticks": ""
             }
            },
            "type": "scatter"
           }
          ],
          "scatter3d": [
           {
            "line": {
             "colorbar": {
              "outlinewidth": 0,
              "ticks": ""
             }
            },
            "marker": {
             "colorbar": {
              "outlinewidth": 0,
              "ticks": ""
             }
            },
            "type": "scatter3d"
           }
          ],
          "scattercarpet": [
           {
            "marker": {
             "colorbar": {
              "outlinewidth": 0,
              "ticks": ""
             }
            },
            "type": "scattercarpet"
           }
          ],
          "scattergeo": [
           {
            "marker": {
             "colorbar": {
              "outlinewidth": 0,
              "ticks": ""
             }
            },
            "type": "scattergeo"
           }
          ],
          "scattergl": [
           {
            "marker": {
             "colorbar": {
              "outlinewidth": 0,
              "ticks": ""
             }
            },
            "type": "scattergl"
           }
          ],
          "scattermapbox": [
           {
            "marker": {
             "colorbar": {
              "outlinewidth": 0,
              "ticks": ""
             }
            },
            "type": "scattermapbox"
           }
          ],
          "scatterpolar": [
           {
            "marker": {
             "colorbar": {
              "outlinewidth": 0,
              "ticks": ""
             }
            },
            "type": "scatterpolar"
           }
          ],
          "scatterpolargl": [
           {
            "marker": {
             "colorbar": {
              "outlinewidth": 0,
              "ticks": ""
             }
            },
            "type": "scatterpolargl"
           }
          ],
          "scatterternary": [
           {
            "marker": {
             "colorbar": {
              "outlinewidth": 0,
              "ticks": ""
             }
            },
            "type": "scatterternary"
           }
          ],
          "surface": [
           {
            "colorbar": {
             "outlinewidth": 0,
             "ticks": ""
            },
            "colorscale": [
             [
              0,
              "#0d0887"
             ],
             [
              0.1111111111111111,
              "#46039f"
             ],
             [
              0.2222222222222222,
              "#7201a8"
             ],
             [
              0.3333333333333333,
              "#9c179e"
             ],
             [
              0.4444444444444444,
              "#bd3786"
             ],
             [
              0.5555555555555556,
              "#d8576b"
             ],
             [
              0.6666666666666666,
              "#ed7953"
             ],
             [
              0.7777777777777778,
              "#fb9f3a"
             ],
             [
              0.8888888888888888,
              "#fdca26"
             ],
             [
              1,
              "#f0f921"
             ]
            ],
            "type": "surface"
           }
          ],
          "table": [
           {
            "cells": {
             "fill": {
              "color": "#EBF0F8"
             },
             "line": {
              "color": "white"
             }
            },
            "header": {
             "fill": {
              "color": "#C8D4E3"
             },
             "line": {
              "color": "white"
             }
            },
            "type": "table"
           }
          ]
         },
         "layout": {
          "annotationdefaults": {
           "arrowcolor": "#2a3f5f",
           "arrowhead": 0,
           "arrowwidth": 1
          },
          "autotypenumbers": "strict",
          "coloraxis": {
           "colorbar": {
            "outlinewidth": 0,
            "ticks": ""
           }
          },
          "colorscale": {
           "diverging": [
            [
             0,
             "#8e0152"
            ],
            [
             0.1,
             "#c51b7d"
            ],
            [
             0.2,
             "#de77ae"
            ],
            [
             0.3,
             "#f1b6da"
            ],
            [
             0.4,
             "#fde0ef"
            ],
            [
             0.5,
             "#f7f7f7"
            ],
            [
             0.6,
             "#e6f5d0"
            ],
            [
             0.7,
             "#b8e186"
            ],
            [
             0.8,
             "#7fbc41"
            ],
            [
             0.9,
             "#4d9221"
            ],
            [
             1,
             "#276419"
            ]
           ],
           "sequential": [
            [
             0,
             "#0d0887"
            ],
            [
             0.1111111111111111,
             "#46039f"
            ],
            [
             0.2222222222222222,
             "#7201a8"
            ],
            [
             0.3333333333333333,
             "#9c179e"
            ],
            [
             0.4444444444444444,
             "#bd3786"
            ],
            [
             0.5555555555555556,
             "#d8576b"
            ],
            [
             0.6666666666666666,
             "#ed7953"
            ],
            [
             0.7777777777777778,
             "#fb9f3a"
            ],
            [
             0.8888888888888888,
             "#fdca26"
            ],
            [
             1,
             "#f0f921"
            ]
           ],
           "sequentialminus": [
            [
             0,
             "#0d0887"
            ],
            [
             0.1111111111111111,
             "#46039f"
            ],
            [
             0.2222222222222222,
             "#7201a8"
            ],
            [
             0.3333333333333333,
             "#9c179e"
            ],
            [
             0.4444444444444444,
             "#bd3786"
            ],
            [
             0.5555555555555556,
             "#d8576b"
            ],
            [
             0.6666666666666666,
             "#ed7953"
            ],
            [
             0.7777777777777778,
             "#fb9f3a"
            ],
            [
             0.8888888888888888,
             "#fdca26"
            ],
            [
             1,
             "#f0f921"
            ]
           ]
          },
          "colorway": [
           "#636efa",
           "#EF553B",
           "#00cc96",
           "#ab63fa",
           "#FFA15A",
           "#19d3f3",
           "#FF6692",
           "#B6E880",
           "#FF97FF",
           "#FECB52"
          ],
          "font": {
           "color": "#2a3f5f"
          },
          "geo": {
           "bgcolor": "white",
           "lakecolor": "white",
           "landcolor": "#E5ECF6",
           "showlakes": true,
           "showland": true,
           "subunitcolor": "white"
          },
          "hoverlabel": {
           "align": "left"
          },
          "hovermode": "closest",
          "mapbox": {
           "style": "light"
          },
          "paper_bgcolor": "white",
          "plot_bgcolor": "#E5ECF6",
          "polar": {
           "angularaxis": {
            "gridcolor": "white",
            "linecolor": "white",
            "ticks": ""
           },
           "bgcolor": "#E5ECF6",
           "radialaxis": {
            "gridcolor": "white",
            "linecolor": "white",
            "ticks": ""
           }
          },
          "scene": {
           "xaxis": {
            "backgroundcolor": "#E5ECF6",
            "gridcolor": "white",
            "gridwidth": 2,
            "linecolor": "white",
            "showbackground": true,
            "ticks": "",
            "zerolinecolor": "white"
           },
           "yaxis": {
            "backgroundcolor": "#E5ECF6",
            "gridcolor": "white",
            "gridwidth": 2,
            "linecolor": "white",
            "showbackground": true,
            "ticks": "",
            "zerolinecolor": "white"
           },
           "zaxis": {
            "backgroundcolor": "#E5ECF6",
            "gridcolor": "white",
            "gridwidth": 2,
            "linecolor": "white",
            "showbackground": true,
            "ticks": "",
            "zerolinecolor": "white"
           }
          },
          "shapedefaults": {
           "line": {
            "color": "#2a3f5f"
           }
          },
          "ternary": {
           "aaxis": {
            "gridcolor": "white",
            "linecolor": "white",
            "ticks": ""
           },
           "baxis": {
            "gridcolor": "white",
            "linecolor": "white",
            "ticks": ""
           },
           "bgcolor": "#E5ECF6",
           "caxis": {
            "gridcolor": "white",
            "linecolor": "white",
            "ticks": ""
           }
          },
          "title": {
           "x": 0.05
          },
          "xaxis": {
           "automargin": true,
           "gridcolor": "white",
           "linecolor": "white",
           "ticks": "",
           "title": {
            "standoff": 15
           },
           "zerolinecolor": "white",
           "zerolinewidth": 2
          },
          "yaxis": {
           "automargin": true,
           "gridcolor": "white",
           "linecolor": "white",
           "ticks": "",
           "title": {
            "standoff": 15
           },
           "zerolinecolor": "white",
           "zerolinewidth": 2
          }
         }
        },
        "title": {
         "text": "1463"
        },
        "xaxis": {
         "anchor": "y",
         "domain": [
          0,
          1
         ],
         "title": {
          "text": "Number of Copies (Main Deck)"
         }
        },
        "yaxis": {
         "anchor": "x",
         "domain": [
          0,
          1
         ],
         "title": {
          "text": "Win %"
         }
        }
       }
      },
      "text/html": [
       "<div>                            <div id=\"f53d9d4b-d5ff-4c1d-9d4a-ef90aad08505\" class=\"plotly-graph-div\" style=\"height:525px; width:100%;\"></div>            <script type=\"text/javascript\">                require([\"plotly\"], function(Plotly) {                    window.PLOTLYENV=window.PLOTLYENV || {};                                    if (document.getElementById(\"f53d9d4b-d5ff-4c1d-9d4a-ef90aad08505\")) {                    Plotly.newPlot(                        \"f53d9d4b-d5ff-4c1d-9d4a-ef90aad08505\",                        [{\"customdata\": [[\"Mountain\"], [\"Island\"], [\"Champion of Wits\"], [\"Mana Leak\"], [\"Swamp\"], [\"Forest\"], [\"Kitchen Finks\"], [\"Reflecting Pool\"], [\"Polluted Delta\"], [\"Bloodbraid Elf\"], [\"Terminate\"], [\"The Scarab God\"], [\"City of Brass\"], [\"Plains\"], [\"Strategic Planning\"], [\"Grand Coliseum\"], [\"Sunken Ruins\"], [\"Graven Cairns\"], [\"Wooded Foothills\"], [\"Mystic Gate\"], [\"Wrath of God\"], [\"Bloodstained Mire\"], [\"Birds of Paradise\"], [\"Shock\"], [\"Flooded Strand\"], [\"Swans of Bryn Argoll\"], [\"Boggart Ram-Gang\"], [\"Tattermunge Maniac\"], [\"Supreme Will\"], [\"Ramunap Ruins\"], [\"Mind Stone\"], [\"Chain of Plasma\"], [\"Fire-Lit Thicket\"], [\"Salt Marsh\"], [\"Maelstrom Pulse\"], [\"Earthshaker Khenra\"], [\"Argivian Restoration\"], [\"Volcanic Hammer\"], [\"Mudbrawler Cohort\"], [\"Forgotten Cave\"], [\"Coastal Tower\"], [\"Smother\"], [\"Doomfall\"], [\"Sphinx of the Steel Wind\"], [\"Demigod of Revenge\"], [\"Windswept Heath\"], [\"God-Pharaoh's Gift\"], [\"Buried Alive\"], [\"Boartusk Liege\"], [\"Abrade\"], [\"Wooded Bastion\"], [\"Seismic Assault\"], [\"Rampant Growth\"], [\"Hollow One\"], [\"Flame Javelin\"], [\"Secluded Steppe\"], [\"Read the Runes\"], [\"Merfolk Traders\"], [\"Astral Slide\"], [\"Manamorphose\"], [\"Fertile Ground\"], [\"Barren Moor\"], [\"Urza's Tower\"], [\"Urza's Power Plant\"], [\"Urza's Mine\"], [\"Monstrous Carabid\"], [\"Lonely Sandbar\"], [\"Intimidator Initiate\"], [\"Gemstone Mine\"], [\"Striped Riverwinder\"], [\"Nimble Obstructionist\"], [\"Goblin Sledder\"], [\"Concentrate\"], [\"Trace of Abundance\"], [\"Hour of Glory\"], [\"Grim Poppet\"], [\"Worship\"], [\"Vile Manifestation\"], [\"Tranquil Thicket\"], [\"Lurching Rotbeast\"], [\"Lightning Rift\"], [\"Goblin Piledriver\"], [\"Goblin King\"], [\"Countervailing Winds\"], [\"Putrid Leech\"], [\"Nicol Bolas, God-Pharaoh\"], [\"Soul Manipulation\"], [\"Renewed Faith\"], [\"Akroma's Blessing\"], [\"Torment of Hailfire\"], [\"Phyrexian Arena\"], [\"Glassdust Hulk\"], [\"Architects of Will\"], [\"Urborg Volcano\"], [\"Shield of the Oversoul\"], [\"Scavenger Grounds\"], [\"Qasali Pridemage\"], [\"Oversold Cemetery\"], [\"Lotus Vale\"], [\"Jund Hackblade\"], [\"Hashep Oasis\"], [\"Fulminator Mage\"], [\"Flux\"], [\"Consign // Oblivion\"], [\"Blackmail\"], [\"Bituminous Blast\"], [\"Starstorm\"], [\"Ifnir Deadlands\"], [\"Wilt-Leaf Liege\"], [\"Undead Gladiator\"], [\"Tragic Lesson\"], [\"Sparksmith\"], [\"Skirk Prospector\"], [\"Remove Soul\"], [\"Mistvein Borderpost\"], [\"Inspiration\"], [\"Hostile Desert\"], [\"Desert of the Fervent\"], [\"Crown of Fury\"], [\"Complicate\"], [\"Akroma's Vengeance\"], [\"Samut, the Tested\"], [\"Persecute\"], [\"Hour of Devastation\"], [\"Desert of the Indomitable\"], [\"Burning-Fist Minotaur\"], [\"Goblin Sharpshooter\"], [\"Faerie Macabre\"], [\"Crypt of the Eternals\"], [\"Bant Sureblade\"], [\"Oona, Queen of the Fae\"], [\"Cinder Barrens\"]], \"hovertemplate\": \"Number of Copies (Main Deck)=%{x}<br>Win %=%{y}<br>name=%{customdata[0]}<extra></extra>\", \"legendgroup\": \"\", \"marker\": {\"color\": \"#636efa\", \"symbol\": \"circle\"}, \"mode\": \"markers\", \"name\": \"\", \"orientation\": \"v\", \"showlegend\": false, \"type\": \"scatter\", \"x\": [172, 130, 115, 111, 103, 96, 78, 73, 68, 66, 63, 61, 61, 59, 56, 55, 54, 54, 52, 50, 48, 48, 48, 47, 46, 44, 44, 40, 40, 40, 40, 39, 35, 34, 30, 28, 28, 27, 26, 26, 26, 25, 25, 24, 24, 22, 22, 22, 22, 22, 21, 20, 20, 20, 20, 19, 19, 19, 19, 18, 18, 18, 16, 16, 16, 16, 16, 16, 16, 15, 15, 15, 14, 13, 13, 13, 12, 12, 12, 12, 12, 12, 12, 12, 11, 11, 10, 10, 10, 9, 9, 9, 9, 8, 8, 8, 8, 8, 8, 8, 8, 8, 8, 8, 8, 8, 7, 7, 6, 6, 6, 6, 6, 6, 6, 6, 6, 6, 6, 6, 6, 5, 5, 5, 5, 5, 4, 4, 4, 4, 3, 3], \"xaxis\": \"x\", \"y\": [53.0, 46.0, 46.0, 43.0, 50.0, 54.0, 45.0, 54.0, 45.0, 57.0, 56.0, 47.0, 54.0, 43.0, 41.0, 47.0, 49.0, 58.0, 51.0, 38.0, 38.0, 54.0, 47.0, 55.0, 32.0, 59.0, 58.0, 57.0, 48.0, 57.0, 48.0, 52.0, 59.0, 46.0, 53.0, 67.0, 43.0, 62.0, 60.0, 57.0, 43.0, 39.0, 45.0, 30.0, 50.0, 42.0, 41.0, 50.0, 58.0, 61.0, 59.0, 59.0, 42.0, 43.0, 67.0, 43.0, 35.0, 43.0, 42.0, 55.0, 36.0, 61.0, 52.0, 52.0, 52.0, 58.0, 48.0, 71.0, 54.0, 44.0, 38.0, 48.0, 55.0, 35.0, 41.0, 47.0, 31.0, 63.0, 68.0, 59.0, 60.0, 40.0, 40.0, 36.0, 53.0, 44.0, 38.0, 36.0, 56.0, 42.0, 47.0, 50.0, 63.0, 59.0, 62.0, 55.0, 62.0, 63.0, 73.0, 55.0, 65.0, 55.0, 55.0, 45.0, 38.0, 65.0, 54.0, 42.0, 62.0, 36.0, 42.0, 40.0, 40.0, 45.0, 37.0, 48.0, 53.0, 77.0, 40.0, 42.0, 36.0, 43.0, 44.0, 54.0, 74.0, 58.0, 40.0, 63.0, 45.0, 62.0, 47.0, 55.0], \"yaxis\": \"y\"}],                        {\"legend\": {\"tracegroupgap\": 0}, \"template\": {\"data\": {\"bar\": [{\"error_x\": {\"color\": \"#2a3f5f\"}, \"error_y\": {\"color\": \"#2a3f5f\"}, \"marker\": {\"line\": {\"color\": \"#E5ECF6\", \"width\": 0.5}}, \"type\": \"bar\"}], \"barpolar\": [{\"marker\": {\"line\": {\"color\": \"#E5ECF6\", \"width\": 0.5}}, \"type\": \"barpolar\"}], \"carpet\": [{\"aaxis\": {\"endlinecolor\": \"#2a3f5f\", \"gridcolor\": \"white\", \"linecolor\": \"white\", \"minorgridcolor\": \"white\", \"startlinecolor\": \"#2a3f5f\"}, \"baxis\": {\"endlinecolor\": \"#2a3f5f\", \"gridcolor\": \"white\", \"linecolor\": \"white\", \"minorgridcolor\": \"white\", \"startlinecolor\": \"#2a3f5f\"}, \"type\": \"carpet\"}], \"choropleth\": [{\"colorbar\": {\"outlinewidth\": 0, \"ticks\": \"\"}, \"type\": \"choropleth\"}], \"contour\": [{\"colorbar\": {\"outlinewidth\": 0, \"ticks\": \"\"}, \"colorscale\": [[0.0, \"#0d0887\"], [0.1111111111111111, \"#46039f\"], [0.2222222222222222, \"#7201a8\"], [0.3333333333333333, \"#9c179e\"], [0.4444444444444444, \"#bd3786\"], [0.5555555555555556, \"#d8576b\"], [0.6666666666666666, \"#ed7953\"], [0.7777777777777778, \"#fb9f3a\"], [0.8888888888888888, \"#fdca26\"], [1.0, \"#f0f921\"]], \"type\": \"contour\"}], \"contourcarpet\": [{\"colorbar\": {\"outlinewidth\": 0, \"ticks\": \"\"}, \"type\": \"contourcarpet\"}], \"heatmap\": [{\"colorbar\": {\"outlinewidth\": 0, \"ticks\": \"\"}, \"colorscale\": [[0.0, \"#0d0887\"], [0.1111111111111111, \"#46039f\"], [0.2222222222222222, \"#7201a8\"], [0.3333333333333333, \"#9c179e\"], [0.4444444444444444, \"#bd3786\"], [0.5555555555555556, \"#d8576b\"], [0.6666666666666666, \"#ed7953\"], [0.7777777777777778, \"#fb9f3a\"], [0.8888888888888888, \"#fdca26\"], [1.0, \"#f0f921\"]], \"type\": \"heatmap\"}], \"heatmapgl\": [{\"colorbar\": {\"outlinewidth\": 0, \"ticks\": \"\"}, \"colorscale\": [[0.0, \"#0d0887\"], [0.1111111111111111, \"#46039f\"], [0.2222222222222222, \"#7201a8\"], [0.3333333333333333, \"#9c179e\"], [0.4444444444444444, \"#bd3786\"], [0.5555555555555556, \"#d8576b\"], [0.6666666666666666, \"#ed7953\"], [0.7777777777777778, \"#fb9f3a\"], [0.8888888888888888, \"#fdca26\"], [1.0, \"#f0f921\"]], \"type\": \"heatmapgl\"}], \"histogram\": [{\"marker\": {\"colorbar\": {\"outlinewidth\": 0, \"ticks\": \"\"}}, \"type\": \"histogram\"}], \"histogram2d\": [{\"colorbar\": {\"outlinewidth\": 0, \"ticks\": \"\"}, \"colorscale\": [[0.0, \"#0d0887\"], [0.1111111111111111, \"#46039f\"], [0.2222222222222222, \"#7201a8\"], [0.3333333333333333, \"#9c179e\"], [0.4444444444444444, \"#bd3786\"], [0.5555555555555556, \"#d8576b\"], [0.6666666666666666, \"#ed7953\"], [0.7777777777777778, \"#fb9f3a\"], [0.8888888888888888, \"#fdca26\"], [1.0, \"#f0f921\"]], \"type\": \"histogram2d\"}], \"histogram2dcontour\": [{\"colorbar\": {\"outlinewidth\": 0, \"ticks\": \"\"}, \"colorscale\": [[0.0, \"#0d0887\"], [0.1111111111111111, \"#46039f\"], [0.2222222222222222, \"#7201a8\"], [0.3333333333333333, \"#9c179e\"], [0.4444444444444444, \"#bd3786\"], [0.5555555555555556, \"#d8576b\"], [0.6666666666666666, \"#ed7953\"], [0.7777777777777778, \"#fb9f3a\"], [0.8888888888888888, \"#fdca26\"], [1.0, \"#f0f921\"]], \"type\": \"histogram2dcontour\"}], \"mesh3d\": [{\"colorbar\": {\"outlinewidth\": 0, \"ticks\": \"\"}, \"type\": \"mesh3d\"}], \"parcoords\": [{\"line\": {\"colorbar\": {\"outlinewidth\": 0, \"ticks\": \"\"}}, \"type\": \"parcoords\"}], \"pie\": [{\"automargin\": true, \"type\": \"pie\"}], \"scatter\": [{\"marker\": {\"colorbar\": {\"outlinewidth\": 0, \"ticks\": \"\"}}, \"type\": \"scatter\"}], \"scatter3d\": [{\"line\": {\"colorbar\": {\"outlinewidth\": 0, \"ticks\": \"\"}}, \"marker\": {\"colorbar\": {\"outlinewidth\": 0, \"ticks\": \"\"}}, \"type\": \"scatter3d\"}], \"scattercarpet\": [{\"marker\": {\"colorbar\": {\"outlinewidth\": 0, \"ticks\": \"\"}}, \"type\": \"scattercarpet\"}], \"scattergeo\": [{\"marker\": {\"colorbar\": {\"outlinewidth\": 0, \"ticks\": \"\"}}, \"type\": \"scattergeo\"}], \"scattergl\": [{\"marker\": {\"colorbar\": {\"outlinewidth\": 0, \"ticks\": \"\"}}, \"type\": \"scattergl\"}], \"scattermapbox\": [{\"marker\": {\"colorbar\": {\"outlinewidth\": 0, \"ticks\": \"\"}}, \"type\": \"scattermapbox\"}], \"scatterpolar\": [{\"marker\": {\"colorbar\": {\"outlinewidth\": 0, \"ticks\": \"\"}}, \"type\": \"scatterpolar\"}], \"scatterpolargl\": [{\"marker\": {\"colorbar\": {\"outlinewidth\": 0, \"ticks\": \"\"}}, \"type\": \"scatterpolargl\"}], \"scatterternary\": [{\"marker\": {\"colorbar\": {\"outlinewidth\": 0, \"ticks\": \"\"}}, \"type\": \"scatterternary\"}], \"surface\": [{\"colorbar\": {\"outlinewidth\": 0, \"ticks\": \"\"}, \"colorscale\": [[0.0, \"#0d0887\"], [0.1111111111111111, \"#46039f\"], [0.2222222222222222, \"#7201a8\"], [0.3333333333333333, \"#9c179e\"], [0.4444444444444444, \"#bd3786\"], [0.5555555555555556, \"#d8576b\"], [0.6666666666666666, \"#ed7953\"], [0.7777777777777778, \"#fb9f3a\"], [0.8888888888888888, \"#fdca26\"], [1.0, \"#f0f921\"]], \"type\": \"surface\"}], \"table\": [{\"cells\": {\"fill\": {\"color\": \"#EBF0F8\"}, \"line\": {\"color\": \"white\"}}, \"header\": {\"fill\": {\"color\": \"#C8D4E3\"}, \"line\": {\"color\": \"white\"}}, \"type\": \"table\"}]}, \"layout\": {\"annotationdefaults\": {\"arrowcolor\": \"#2a3f5f\", \"arrowhead\": 0, \"arrowwidth\": 1}, \"autotypenumbers\": \"strict\", \"coloraxis\": {\"colorbar\": {\"outlinewidth\": 0, \"ticks\": \"\"}}, \"colorscale\": {\"diverging\": [[0, \"#8e0152\"], [0.1, \"#c51b7d\"], [0.2, \"#de77ae\"], [0.3, \"#f1b6da\"], [0.4, \"#fde0ef\"], [0.5, \"#f7f7f7\"], [0.6, \"#e6f5d0\"], [0.7, \"#b8e186\"], [0.8, \"#7fbc41\"], [0.9, \"#4d9221\"], [1, \"#276419\"]], \"sequential\": [[0.0, \"#0d0887\"], [0.1111111111111111, \"#46039f\"], [0.2222222222222222, \"#7201a8\"], [0.3333333333333333, \"#9c179e\"], [0.4444444444444444, \"#bd3786\"], [0.5555555555555556, \"#d8576b\"], [0.6666666666666666, \"#ed7953\"], [0.7777777777777778, \"#fb9f3a\"], [0.8888888888888888, \"#fdca26\"], [1.0, \"#f0f921\"]], \"sequentialminus\": [[0.0, \"#0d0887\"], [0.1111111111111111, \"#46039f\"], [0.2222222222222222, \"#7201a8\"], [0.3333333333333333, \"#9c179e\"], [0.4444444444444444, \"#bd3786\"], [0.5555555555555556, \"#d8576b\"], [0.6666666666666666, \"#ed7953\"], [0.7777777777777778, \"#fb9f3a\"], [0.8888888888888888, \"#fdca26\"], [1.0, \"#f0f921\"]]}, \"colorway\": [\"#636efa\", \"#EF553B\", \"#00cc96\", \"#ab63fa\", \"#FFA15A\", \"#19d3f3\", \"#FF6692\", \"#B6E880\", \"#FF97FF\", \"#FECB52\"], \"font\": {\"color\": \"#2a3f5f\"}, \"geo\": {\"bgcolor\": \"white\", \"lakecolor\": \"white\", \"landcolor\": \"#E5ECF6\", \"showlakes\": true, \"showland\": true, \"subunitcolor\": \"white\"}, \"hoverlabel\": {\"align\": \"left\"}, \"hovermode\": \"closest\", \"mapbox\": {\"style\": \"light\"}, \"paper_bgcolor\": \"white\", \"plot_bgcolor\": \"#E5ECF6\", \"polar\": {\"angularaxis\": {\"gridcolor\": \"white\", \"linecolor\": \"white\", \"ticks\": \"\"}, \"bgcolor\": \"#E5ECF6\", \"radialaxis\": {\"gridcolor\": \"white\", \"linecolor\": \"white\", \"ticks\": \"\"}}, \"scene\": {\"xaxis\": {\"backgroundcolor\": \"#E5ECF6\", \"gridcolor\": \"white\", \"gridwidth\": 2, \"linecolor\": \"white\", \"showbackground\": true, \"ticks\": \"\", \"zerolinecolor\": \"white\"}, \"yaxis\": {\"backgroundcolor\": \"#E5ECF6\", \"gridcolor\": \"white\", \"gridwidth\": 2, \"linecolor\": \"white\", \"showbackground\": true, \"ticks\": \"\", \"zerolinecolor\": \"white\"}, \"zaxis\": {\"backgroundcolor\": \"#E5ECF6\", \"gridcolor\": \"white\", \"gridwidth\": 2, \"linecolor\": \"white\", \"showbackground\": true, \"ticks\": \"\", \"zerolinecolor\": \"white\"}}, \"shapedefaults\": {\"line\": {\"color\": \"#2a3f5f\"}}, \"ternary\": {\"aaxis\": {\"gridcolor\": \"white\", \"linecolor\": \"white\", \"ticks\": \"\"}, \"baxis\": {\"gridcolor\": \"white\", \"linecolor\": \"white\", \"ticks\": \"\"}, \"bgcolor\": \"#E5ECF6\", \"caxis\": {\"gridcolor\": \"white\", \"linecolor\": \"white\", \"ticks\": \"\"}}, \"title\": {\"x\": 0.05}, \"xaxis\": {\"automargin\": true, \"gridcolor\": \"white\", \"linecolor\": \"white\", \"ticks\": \"\", \"title\": {\"standoff\": 15}, \"zerolinecolor\": \"white\", \"zerolinewidth\": 2}, \"yaxis\": {\"automargin\": true, \"gridcolor\": \"white\", \"linecolor\": \"white\", \"ticks\": \"\", \"title\": {\"standoff\": 15}, \"zerolinecolor\": \"white\", \"zerolinewidth\": 2}}}, \"title\": {\"text\": \"1463\"}, \"xaxis\": {\"anchor\": \"y\", \"domain\": [0.0, 1.0], \"title\": {\"text\": \"Number of Copies (Main Deck)\"}}, \"yaxis\": {\"anchor\": \"x\", \"domain\": [0.0, 1.0], \"title\": {\"text\": \"Win %\"}}},                        {\"responsive\": true}                    ).then(function(){\n",
       "                            \n",
       "var gd = document.getElementById('f53d9d4b-d5ff-4c1d-9d4a-ef90aad08505');\n",
       "var x = new MutationObserver(function (mutations, observer) {{\n",
       "        var display = window.getComputedStyle(gd).display;\n",
       "        if (!display || display === 'none') {{\n",
       "            console.log([gd, 'removed!']);\n",
       "            Plotly.purge(gd);\n",
       "            observer.disconnect();\n",
       "        }}\n",
       "}});\n",
       "\n",
       "// Listen for the removal of the full notebook cells\n",
       "var notebookContainer = gd.closest('#notebook-container');\n",
       "if (notebookContainer) {{\n",
       "    x.observe(notebookContainer, {childList: true});\n",
       "}}\n",
       "\n",
       "// Listen for the clearing of the current output cell\n",
       "var outputEl = gd.closest('.output');\n",
       "if (outputEl) {{\n",
       "    x.observe(outputEl, {childList: true});\n",
       "}}\n",
       "\n",
       "                        })                };                });            </script>        </div>"
      ]
     },
     "metadata": {},
     "output_type": "display_data"
    },
    {
     "data": {
      "application/vnd.plotly.v1+json": {
       "config": {
        "plotlyServerURL": "https://plot.ly"
       },
       "data": [
        {
         "customdata": [
          [
           "Forest"
          ],
          [
           "Aether Hub"
          ],
          [
           "Island"
          ],
          [
           "Botanical Sanctum"
          ],
          [
           "Attune with Aether"
          ],
          [
           "Jace, the Mind Sculptor"
          ],
          [
           "Mountain"
          ],
          [
           "Harnessed Lightning"
          ],
          [
           "Yavimaya Coast"
          ],
          [
           "Servant of the Conduit"
          ],
          [
           "Smuggler's Copter"
          ],
          [
           "Serum Visions"
          ],
          [
           "Spirebluff Canal"
          ],
          [
           "Aetherworks Marvel"
          ],
          [
           "Whirler Virtuoso"
          ],
          [
           "Woodweaver's Puzzleknot"
          ],
          [
           "Karplusan Forest"
          ],
          [
           "Time Stretch"
          ],
          [
           "Scrapheap Scrounger"
          ],
          [
           "Incinerate"
          ],
          [
           "Glimmer of Genius"
          ],
          [
           "Plains"
          ],
          [
           "Longtusk Cub"
          ],
          [
           "Mind Stone"
          ],
          [
           "Birds of Paradise"
          ],
          [
           "Adarkar Wastes"
          ],
          [
           "Sulfurous Springs"
          ],
          [
           "Toolcraft Exemplar"
          ],
          [
           "Swamp"
          ],
          [
           "Raging Ravine"
          ],
          [
           "Caves of Koilos"
          ],
          [
           "Bristling Hydra"
          ],
          [
           "Battlefield Forge"
          ],
          [
           "Unlicensed Disintegration"
          ],
          [
           "Llanowar Elves"
          ],
          [
           "Concealed Courtyard"
          ],
          [
           "Bomat Courier"
          ],
          [
           "Inspiring Vantage"
          ],
          [
           "Condescend"
          ],
          [
           "Terastodon"
          ],
          [
           "Chromatic Star"
          ],
          [
           "Prophetic Prism"
          ],
          [
           "Inventor's Apprentice"
          ],
          [
           "Blossoming Defense"
          ],
          [
           "Chandra, Torch of Defiance"
          ],
          [
           "Moment's Peace"
          ],
          [
           "Tectonic Edge"
          ],
          [
           "Celestial Colonnade"
          ],
          [
           "Shivan Reef"
          ],
          [
           "Nissa, Vital Force"
          ],
          [
           "Inventors' Fair"
          ],
          [
           "Pithing Needle"
          ],
          [
           "Pia Nalaar"
          ],
          [
           "Krark-Clan Ironworks"
          ],
          [
           "Torrential Gearhulk"
          ],
          [
           "Stoneforge Mystic"
          ],
          [
           "Explore"
          ],
          [
           "Engineered Explosives"
          ],
          [
           "Blooming Marsh"
          ],
          [
           "Glint-Nest Crane"
          ],
          [
           "Glassblower's Puzzleknot"
          ],
          [
           "Everflowing Chalice"
          ],
          [
           "Cancel"
          ],
          [
           "Viridian Shaman"
          ],
          [
           "Terramorphic Expanse"
          ],
          [
           "Wrath of God"
          ],
          [
           "Condemn"
          ],
          [
           "Voltaic Brawler"
          ],
          [
           "Metalspinner's Puzzleknot"
          ],
          [
           "Dynavolt Tower"
          ],
          [
           "Arbor Elf"
          ],
          [
           "Veteran Motorist"
          ],
          [
           "Predict"
          ],
          [
           "Eternal Witness"
          ],
          [
           "Verdurous Gearhulk"
          ],
          [
           "Electrostatic Pummeler"
          ],
          [
           "Underground River"
          ],
          [
           "Skycloud Expanse"
          ],
          [
           "Larger Than Life"
          ],
          [
           "Zombify"
          ],
          [
           "Troll Ascetic"
          ],
          [
           "Shock"
          ],
          [
           "Leatherback Baloth"
          ],
          [
           "Howling Mine"
          ],
          [
           "Entomb"
          ],
          [
           "Conjurer's Bauble"
          ],
          [
           "Roar of Reclamation"
          ],
          [
           "Ornithopter"
          ],
          [
           "Cultivator's Caravan"
          ],
          [
           "Careful Study"
          ],
          [
           "Metalwork Colossus"
          ],
          [
           "Llanowar Wastes"
          ],
          [
           "Cephalid Coliseum"
          ],
          [
           "Trinket Mage"
          ],
          [
           "Siege-Gang Commander"
          ],
          [
           "Remove Soul"
          ],
          [
           "Reckless Charge"
          ],
          [
           "Paradoxical Outcome"
          ],
          [
           "Crucible of Worlds"
          ],
          [
           "Built to Smash"
          ],
          [
           "Basilisk Collar"
          ],
          [
           "Aetherflux Reservoir"
          ],
          [
           "Treetop Village"
          ],
          [
           "Standstill"
          ],
          [
           "Pentad Prism"
          ],
          [
           "Nature's Claim"
          ],
          [
           "Lavaclaw Reaches"
          ],
          [
           "Cranial Plating"
          ],
          [
           "Aether Meltdown"
          ],
          [
           "Tel-Jilad Justice"
          ],
          [
           "Firebolt"
          ],
          [
           "Creeping Tar Pit"
          ],
          [
           "Confiscation Coup"
          ],
          [
           "Combustible Gearhulk"
          ],
          [
           "Skysovereign, Consul Flagship"
          ],
          [
           "Grafted Wargear"
          ],
          [
           "Faerie Conclave"
          ],
          [
           "Ray of Distortion"
          ],
          [
           "Padeem, Consul of Innovation"
          ],
          [
           "Fragmentize"
          ]
         ],
         "hovertemplate": "Number of Copies (Main Deck)=%{x}<br>Win %=%{y}<br>name=%{customdata[0]}<extra></extra>",
         "legendgroup": "",
         "marker": {
          "color": "#636efa",
          "symbol": "circle"
         },
         "mode": "markers",
         "name": "",
         "orientation": "v",
         "showlegend": false,
         "type": "scatter",
         "x": [
          189,
          179,
          145,
          130,
          124,
          112,
          107,
          105,
          90,
          88,
          81,
          81,
          76,
          72,
          68,
          67,
          62,
          58,
          56,
          56,
          56,
          50,
          48,
          46,
          46,
          44,
          41,
          40,
          40,
          39,
          39,
          39,
          39,
          38,
          37,
          37,
          36,
          35,
          35,
          34,
          34,
          32,
          32,
          32,
          30,
          29,
          28,
          27,
          25,
          25,
          25,
          24,
          24,
          24,
          23,
          23,
          23,
          23,
          23,
          22,
          22,
          21,
          21,
          20,
          20,
          19,
          19,
          18,
          18,
          18,
          18,
          16,
          16,
          16,
          15,
          15,
          14,
          14,
          14,
          12,
          12,
          12,
          12,
          12,
          12,
          12,
          11,
          11,
          11,
          11,
          10,
          10,
          10,
          9,
          8,
          8,
          8,
          8,
          8,
          8,
          8,
          8,
          7,
          7,
          6,
          6,
          6,
          6,
          6,
          5,
          5,
          5,
          5,
          5,
          4,
          4,
          4,
          3,
          2,
          2
         ],
         "xaxis": "x",
         "y": [
          52,
          49,
          49,
          52,
          53,
          52,
          52,
          50,
          51,
          57,
          51,
          48,
          48,
          54,
          53,
          54,
          52,
          54,
          56,
          50,
          49,
          54,
          52,
          47,
          51,
          47,
          57,
          53,
          44,
          58,
          52,
          53,
          56,
          59,
          53,
          53,
          62,
          58,
          46,
          60,
          44,
          44,
          62,
          54,
          55,
          50,
          54,
          52,
          40,
          48,
          41,
          40,
          61,
          42,
          40,
          50,
          46,
          51,
          53,
          39,
          50,
          44,
          51,
          55,
          47,
          52,
          57,
          50,
          43,
          35,
          54,
          63,
          53,
          53,
          52,
          54,
          33,
          58,
          54,
          33,
          56,
          43,
          56,
          42,
          33,
          50,
          44,
          31,
          41,
          33,
          44,
          53,
          45,
          55,
          65,
          54,
          50,
          45,
          52,
          55,
          55,
          40,
          53,
          62,
          46,
          44,
          64,
          52,
          46,
          53,
          65,
          50,
          45,
          36,
          44,
          57,
          62,
          57,
          42,
          79
         ],
         "yaxis": "y"
        }
       ],
       "layout": {
        "legend": {
         "tracegroupgap": 0
        },
        "template": {
         "data": {
          "bar": [
           {
            "error_x": {
             "color": "#2a3f5f"
            },
            "error_y": {
             "color": "#2a3f5f"
            },
            "marker": {
             "line": {
              "color": "#E5ECF6",
              "width": 0.5
             }
            },
            "type": "bar"
           }
          ],
          "barpolar": [
           {
            "marker": {
             "line": {
              "color": "#E5ECF6",
              "width": 0.5
             }
            },
            "type": "barpolar"
           }
          ],
          "carpet": [
           {
            "aaxis": {
             "endlinecolor": "#2a3f5f",
             "gridcolor": "white",
             "linecolor": "white",
             "minorgridcolor": "white",
             "startlinecolor": "#2a3f5f"
            },
            "baxis": {
             "endlinecolor": "#2a3f5f",
             "gridcolor": "white",
             "linecolor": "white",
             "minorgridcolor": "white",
             "startlinecolor": "#2a3f5f"
            },
            "type": "carpet"
           }
          ],
          "choropleth": [
           {
            "colorbar": {
             "outlinewidth": 0,
             "ticks": ""
            },
            "type": "choropleth"
           }
          ],
          "contour": [
           {
            "colorbar": {
             "outlinewidth": 0,
             "ticks": ""
            },
            "colorscale": [
             [
              0,
              "#0d0887"
             ],
             [
              0.1111111111111111,
              "#46039f"
             ],
             [
              0.2222222222222222,
              "#7201a8"
             ],
             [
              0.3333333333333333,
              "#9c179e"
             ],
             [
              0.4444444444444444,
              "#bd3786"
             ],
             [
              0.5555555555555556,
              "#d8576b"
             ],
             [
              0.6666666666666666,
              "#ed7953"
             ],
             [
              0.7777777777777778,
              "#fb9f3a"
             ],
             [
              0.8888888888888888,
              "#fdca26"
             ],
             [
              1,
              "#f0f921"
             ]
            ],
            "type": "contour"
           }
          ],
          "contourcarpet": [
           {
            "colorbar": {
             "outlinewidth": 0,
             "ticks": ""
            },
            "type": "contourcarpet"
           }
          ],
          "heatmap": [
           {
            "colorbar": {
             "outlinewidth": 0,
             "ticks": ""
            },
            "colorscale": [
             [
              0,
              "#0d0887"
             ],
             [
              0.1111111111111111,
              "#46039f"
             ],
             [
              0.2222222222222222,
              "#7201a8"
             ],
             [
              0.3333333333333333,
              "#9c179e"
             ],
             [
              0.4444444444444444,
              "#bd3786"
             ],
             [
              0.5555555555555556,
              "#d8576b"
             ],
             [
              0.6666666666666666,
              "#ed7953"
             ],
             [
              0.7777777777777778,
              "#fb9f3a"
             ],
             [
              0.8888888888888888,
              "#fdca26"
             ],
             [
              1,
              "#f0f921"
             ]
            ],
            "type": "heatmap"
           }
          ],
          "heatmapgl": [
           {
            "colorbar": {
             "outlinewidth": 0,
             "ticks": ""
            },
            "colorscale": [
             [
              0,
              "#0d0887"
             ],
             [
              0.1111111111111111,
              "#46039f"
             ],
             [
              0.2222222222222222,
              "#7201a8"
             ],
             [
              0.3333333333333333,
              "#9c179e"
             ],
             [
              0.4444444444444444,
              "#bd3786"
             ],
             [
              0.5555555555555556,
              "#d8576b"
             ],
             [
              0.6666666666666666,
              "#ed7953"
             ],
             [
              0.7777777777777778,
              "#fb9f3a"
             ],
             [
              0.8888888888888888,
              "#fdca26"
             ],
             [
              1,
              "#f0f921"
             ]
            ],
            "type": "heatmapgl"
           }
          ],
          "histogram": [
           {
            "marker": {
             "colorbar": {
              "outlinewidth": 0,
              "ticks": ""
             }
            },
            "type": "histogram"
           }
          ],
          "histogram2d": [
           {
            "colorbar": {
             "outlinewidth": 0,
             "ticks": ""
            },
            "colorscale": [
             [
              0,
              "#0d0887"
             ],
             [
              0.1111111111111111,
              "#46039f"
             ],
             [
              0.2222222222222222,
              "#7201a8"
             ],
             [
              0.3333333333333333,
              "#9c179e"
             ],
             [
              0.4444444444444444,
              "#bd3786"
             ],
             [
              0.5555555555555556,
              "#d8576b"
             ],
             [
              0.6666666666666666,
              "#ed7953"
             ],
             [
              0.7777777777777778,
              "#fb9f3a"
             ],
             [
              0.8888888888888888,
              "#fdca26"
             ],
             [
              1,
              "#f0f921"
             ]
            ],
            "type": "histogram2d"
           }
          ],
          "histogram2dcontour": [
           {
            "colorbar": {
             "outlinewidth": 0,
             "ticks": ""
            },
            "colorscale": [
             [
              0,
              "#0d0887"
             ],
             [
              0.1111111111111111,
              "#46039f"
             ],
             [
              0.2222222222222222,
              "#7201a8"
             ],
             [
              0.3333333333333333,
              "#9c179e"
             ],
             [
              0.4444444444444444,
              "#bd3786"
             ],
             [
              0.5555555555555556,
              "#d8576b"
             ],
             [
              0.6666666666666666,
              "#ed7953"
             ],
             [
              0.7777777777777778,
              "#fb9f3a"
             ],
             [
              0.8888888888888888,
              "#fdca26"
             ],
             [
              1,
              "#f0f921"
             ]
            ],
            "type": "histogram2dcontour"
           }
          ],
          "mesh3d": [
           {
            "colorbar": {
             "outlinewidth": 0,
             "ticks": ""
            },
            "type": "mesh3d"
           }
          ],
          "parcoords": [
           {
            "line": {
             "colorbar": {
              "outlinewidth": 0,
              "ticks": ""
             }
            },
            "type": "parcoords"
           }
          ],
          "pie": [
           {
            "automargin": true,
            "type": "pie"
           }
          ],
          "scatter": [
           {
            "marker": {
             "colorbar": {
              "outlinewidth": 0,
              "ticks": ""
             }
            },
            "type": "scatter"
           }
          ],
          "scatter3d": [
           {
            "line": {
             "colorbar": {
              "outlinewidth": 0,
              "ticks": ""
             }
            },
            "marker": {
             "colorbar": {
              "outlinewidth": 0,
              "ticks": ""
             }
            },
            "type": "scatter3d"
           }
          ],
          "scattercarpet": [
           {
            "marker": {
             "colorbar": {
              "outlinewidth": 0,
              "ticks": ""
             }
            },
            "type": "scattercarpet"
           }
          ],
          "scattergeo": [
           {
            "marker": {
             "colorbar": {
              "outlinewidth": 0,
              "ticks": ""
             }
            },
            "type": "scattergeo"
           }
          ],
          "scattergl": [
           {
            "marker": {
             "colorbar": {
              "outlinewidth": 0,
              "ticks": ""
             }
            },
            "type": "scattergl"
           }
          ],
          "scattermapbox": [
           {
            "marker": {
             "colorbar": {
              "outlinewidth": 0,
              "ticks": ""
             }
            },
            "type": "scattermapbox"
           }
          ],
          "scatterpolar": [
           {
            "marker": {
             "colorbar": {
              "outlinewidth": 0,
              "ticks": ""
             }
            },
            "type": "scatterpolar"
           }
          ],
          "scatterpolargl": [
           {
            "marker": {
             "colorbar": {
              "outlinewidth": 0,
              "ticks": ""
             }
            },
            "type": "scatterpolargl"
           }
          ],
          "scatterternary": [
           {
            "marker": {
             "colorbar": {
              "outlinewidth": 0,
              "ticks": ""
             }
            },
            "type": "scatterternary"
           }
          ],
          "surface": [
           {
            "colorbar": {
             "outlinewidth": 0,
             "ticks": ""
            },
            "colorscale": [
             [
              0,
              "#0d0887"
             ],
             [
              0.1111111111111111,
              "#46039f"
             ],
             [
              0.2222222222222222,
              "#7201a8"
             ],
             [
              0.3333333333333333,
              "#9c179e"
             ],
             [
              0.4444444444444444,
              "#bd3786"
             ],
             [
              0.5555555555555556,
              "#d8576b"
             ],
             [
              0.6666666666666666,
              "#ed7953"
             ],
             [
              0.7777777777777778,
              "#fb9f3a"
             ],
             [
              0.8888888888888888,
              "#fdca26"
             ],
             [
              1,
              "#f0f921"
             ]
            ],
            "type": "surface"
           }
          ],
          "table": [
           {
            "cells": {
             "fill": {
              "color": "#EBF0F8"
             },
             "line": {
              "color": "white"
             }
            },
            "header": {
             "fill": {
              "color": "#C8D4E3"
             },
             "line": {
              "color": "white"
             }
            },
            "type": "table"
           }
          ]
         },
         "layout": {
          "annotationdefaults": {
           "arrowcolor": "#2a3f5f",
           "arrowhead": 0,
           "arrowwidth": 1
          },
          "autotypenumbers": "strict",
          "coloraxis": {
           "colorbar": {
            "outlinewidth": 0,
            "ticks": ""
           }
          },
          "colorscale": {
           "diverging": [
            [
             0,
             "#8e0152"
            ],
            [
             0.1,
             "#c51b7d"
            ],
            [
             0.2,
             "#de77ae"
            ],
            [
             0.3,
             "#f1b6da"
            ],
            [
             0.4,
             "#fde0ef"
            ],
            [
             0.5,
             "#f7f7f7"
            ],
            [
             0.6,
             "#e6f5d0"
            ],
            [
             0.7,
             "#b8e186"
            ],
            [
             0.8,
             "#7fbc41"
            ],
            [
             0.9,
             "#4d9221"
            ],
            [
             1,
             "#276419"
            ]
           ],
           "sequential": [
            [
             0,
             "#0d0887"
            ],
            [
             0.1111111111111111,
             "#46039f"
            ],
            [
             0.2222222222222222,
             "#7201a8"
            ],
            [
             0.3333333333333333,
             "#9c179e"
            ],
            [
             0.4444444444444444,
             "#bd3786"
            ],
            [
             0.5555555555555556,
             "#d8576b"
            ],
            [
             0.6666666666666666,
             "#ed7953"
            ],
            [
             0.7777777777777778,
             "#fb9f3a"
            ],
            [
             0.8888888888888888,
             "#fdca26"
            ],
            [
             1,
             "#f0f921"
            ]
           ],
           "sequentialminus": [
            [
             0,
             "#0d0887"
            ],
            [
             0.1111111111111111,
             "#46039f"
            ],
            [
             0.2222222222222222,
             "#7201a8"
            ],
            [
             0.3333333333333333,
             "#9c179e"
            ],
            [
             0.4444444444444444,
             "#bd3786"
            ],
            [
             0.5555555555555556,
             "#d8576b"
            ],
            [
             0.6666666666666666,
             "#ed7953"
            ],
            [
             0.7777777777777778,
             "#fb9f3a"
            ],
            [
             0.8888888888888888,
             "#fdca26"
            ],
            [
             1,
             "#f0f921"
            ]
           ]
          },
          "colorway": [
           "#636efa",
           "#EF553B",
           "#00cc96",
           "#ab63fa",
           "#FFA15A",
           "#19d3f3",
           "#FF6692",
           "#B6E880",
           "#FF97FF",
           "#FECB52"
          ],
          "font": {
           "color": "#2a3f5f"
          },
          "geo": {
           "bgcolor": "white",
           "lakecolor": "white",
           "landcolor": "#E5ECF6",
           "showlakes": true,
           "showland": true,
           "subunitcolor": "white"
          },
          "hoverlabel": {
           "align": "left"
          },
          "hovermode": "closest",
          "mapbox": {
           "style": "light"
          },
          "paper_bgcolor": "white",
          "plot_bgcolor": "#E5ECF6",
          "polar": {
           "angularaxis": {
            "gridcolor": "white",
            "linecolor": "white",
            "ticks": ""
           },
           "bgcolor": "#E5ECF6",
           "radialaxis": {
            "gridcolor": "white",
            "linecolor": "white",
            "ticks": ""
           }
          },
          "scene": {
           "xaxis": {
            "backgroundcolor": "#E5ECF6",
            "gridcolor": "white",
            "gridwidth": 2,
            "linecolor": "white",
            "showbackground": true,
            "ticks": "",
            "zerolinecolor": "white"
           },
           "yaxis": {
            "backgroundcolor": "#E5ECF6",
            "gridcolor": "white",
            "gridwidth": 2,
            "linecolor": "white",
            "showbackground": true,
            "ticks": "",
            "zerolinecolor": "white"
           },
           "zaxis": {
            "backgroundcolor": "#E5ECF6",
            "gridcolor": "white",
            "gridwidth": 2,
            "linecolor": "white",
            "showbackground": true,
            "ticks": "",
            "zerolinecolor": "white"
           }
          },
          "shapedefaults": {
           "line": {
            "color": "#2a3f5f"
           }
          },
          "ternary": {
           "aaxis": {
            "gridcolor": "white",
            "linecolor": "white",
            "ticks": ""
           },
           "baxis": {
            "gridcolor": "white",
            "linecolor": "white",
            "ticks": ""
           },
           "bgcolor": "#E5ECF6",
           "caxis": {
            "gridcolor": "white",
            "linecolor": "white",
            "ticks": ""
           }
          },
          "title": {
           "x": 0.05
          },
          "xaxis": {
           "automargin": true,
           "gridcolor": "white",
           "linecolor": "white",
           "ticks": "",
           "title": {
            "standoff": 15
           },
           "zerolinecolor": "white",
           "zerolinewidth": 2
          },
          "yaxis": {
           "automargin": true,
           "gridcolor": "white",
           "linecolor": "white",
           "ticks": "",
           "title": {
            "standoff": 15
           },
           "zerolinecolor": "white",
           "zerolinewidth": 2
          }
         }
        },
        "title": {
         "text": "2112"
        },
        "xaxis": {
         "anchor": "y",
         "domain": [
          0,
          1
         ],
         "title": {
          "text": "Number of Copies (Main Deck)"
         }
        },
        "yaxis": {
         "anchor": "x",
         "domain": [
          0,
          1
         ],
         "title": {
          "text": "Win %"
         }
        }
       }
      },
      "text/html": [
       "<div>                            <div id=\"0f44986b-6f47-4c80-82ef-ef92a35d2d3c\" class=\"plotly-graph-div\" style=\"height:525px; width:100%;\"></div>            <script type=\"text/javascript\">                require([\"plotly\"], function(Plotly) {                    window.PLOTLYENV=window.PLOTLYENV || {};                                    if (document.getElementById(\"0f44986b-6f47-4c80-82ef-ef92a35d2d3c\")) {                    Plotly.newPlot(                        \"0f44986b-6f47-4c80-82ef-ef92a35d2d3c\",                        [{\"customdata\": [[\"Forest\"], [\"Aether Hub\"], [\"Island\"], [\"Botanical Sanctum\"], [\"Attune with Aether\"], [\"Jace, the Mind Sculptor\"], [\"Mountain\"], [\"Harnessed Lightning\"], [\"Yavimaya Coast\"], [\"Servant of the Conduit\"], [\"Smuggler's Copter\"], [\"Serum Visions\"], [\"Spirebluff Canal\"], [\"Aetherworks Marvel\"], [\"Whirler Virtuoso\"], [\"Woodweaver's Puzzleknot\"], [\"Karplusan Forest\"], [\"Time Stretch\"], [\"Scrapheap Scrounger\"], [\"Incinerate\"], [\"Glimmer of Genius\"], [\"Plains\"], [\"Longtusk Cub\"], [\"Mind Stone\"], [\"Birds of Paradise\"], [\"Adarkar Wastes\"], [\"Sulfurous Springs\"], [\"Toolcraft Exemplar\"], [\"Swamp\"], [\"Raging Ravine\"], [\"Caves of Koilos\"], [\"Bristling Hydra\"], [\"Battlefield Forge\"], [\"Unlicensed Disintegration\"], [\"Llanowar Elves\"], [\"Concealed Courtyard\"], [\"Bomat Courier\"], [\"Inspiring Vantage\"], [\"Condescend\"], [\"Terastodon\"], [\"Chromatic Star\"], [\"Prophetic Prism\"], [\"Inventor's Apprentice\"], [\"Blossoming Defense\"], [\"Chandra, Torch of Defiance\"], [\"Moment's Peace\"], [\"Tectonic Edge\"], [\"Celestial Colonnade\"], [\"Shivan Reef\"], [\"Nissa, Vital Force\"], [\"Inventors' Fair\"], [\"Pithing Needle\"], [\"Pia Nalaar\"], [\"Krark-Clan Ironworks\"], [\"Torrential Gearhulk\"], [\"Stoneforge Mystic\"], [\"Explore\"], [\"Engineered Explosives\"], [\"Blooming Marsh\"], [\"Glint-Nest Crane\"], [\"Glassblower's Puzzleknot\"], [\"Everflowing Chalice\"], [\"Cancel\"], [\"Viridian Shaman\"], [\"Terramorphic Expanse\"], [\"Wrath of God\"], [\"Condemn\"], [\"Voltaic Brawler\"], [\"Metalspinner's Puzzleknot\"], [\"Dynavolt Tower\"], [\"Arbor Elf\"], [\"Veteran Motorist\"], [\"Predict\"], [\"Eternal Witness\"], [\"Verdurous Gearhulk\"], [\"Electrostatic Pummeler\"], [\"Underground River\"], [\"Skycloud Expanse\"], [\"Larger Than Life\"], [\"Zombify\"], [\"Troll Ascetic\"], [\"Shock\"], [\"Leatherback Baloth\"], [\"Howling Mine\"], [\"Entomb\"], [\"Conjurer's Bauble\"], [\"Roar of Reclamation\"], [\"Ornithopter\"], [\"Cultivator's Caravan\"], [\"Careful Study\"], [\"Metalwork Colossus\"], [\"Llanowar Wastes\"], [\"Cephalid Coliseum\"], [\"Trinket Mage\"], [\"Siege-Gang Commander\"], [\"Remove Soul\"], [\"Reckless Charge\"], [\"Paradoxical Outcome\"], [\"Crucible of Worlds\"], [\"Built to Smash\"], [\"Basilisk Collar\"], [\"Aetherflux Reservoir\"], [\"Treetop Village\"], [\"Standstill\"], [\"Pentad Prism\"], [\"Nature's Claim\"], [\"Lavaclaw Reaches\"], [\"Cranial Plating\"], [\"Aether Meltdown\"], [\"Tel-Jilad Justice\"], [\"Firebolt\"], [\"Creeping Tar Pit\"], [\"Confiscation Coup\"], [\"Combustible Gearhulk\"], [\"Skysovereign, Consul Flagship\"], [\"Grafted Wargear\"], [\"Faerie Conclave\"], [\"Ray of Distortion\"], [\"Padeem, Consul of Innovation\"], [\"Fragmentize\"]], \"hovertemplate\": \"Number of Copies (Main Deck)=%{x}<br>Win %=%{y}<br>name=%{customdata[0]}<extra></extra>\", \"legendgroup\": \"\", \"marker\": {\"color\": \"#636efa\", \"symbol\": \"circle\"}, \"mode\": \"markers\", \"name\": \"\", \"orientation\": \"v\", \"showlegend\": false, \"type\": \"scatter\", \"x\": [189, 179, 145, 130, 124, 112, 107, 105, 90, 88, 81, 81, 76, 72, 68, 67, 62, 58, 56, 56, 56, 50, 48, 46, 46, 44, 41, 40, 40, 39, 39, 39, 39, 38, 37, 37, 36, 35, 35, 34, 34, 32, 32, 32, 30, 29, 28, 27, 25, 25, 25, 24, 24, 24, 23, 23, 23, 23, 23, 22, 22, 21, 21, 20, 20, 19, 19, 18, 18, 18, 18, 16, 16, 16, 15, 15, 14, 14, 14, 12, 12, 12, 12, 12, 12, 12, 11, 11, 11, 11, 10, 10, 10, 9, 8, 8, 8, 8, 8, 8, 8, 8, 7, 7, 6, 6, 6, 6, 6, 5, 5, 5, 5, 5, 4, 4, 4, 3, 2, 2], \"xaxis\": \"x\", \"y\": [52.0, 49.0, 49.0, 52.0, 53.0, 52.0, 52.0, 50.0, 51.0, 57.0, 51.0, 48.0, 48.0, 54.0, 53.0, 54.0, 52.0, 54.0, 56.0, 50.0, 49.0, 54.0, 52.0, 47.0, 51.0, 47.0, 57.0, 53.0, 44.0, 58.0, 52.0, 53.0, 56.0, 59.0, 53.0, 53.0, 62.0, 58.0, 46.0, 60.0, 44.0, 44.0, 62.0, 54.0, 55.0, 50.0, 54.0, 52.0, 40.0, 48.0, 41.0, 40.0, 61.0, 42.0, 40.0, 50.0, 46.0, 51.0, 53.0, 39.0, 50.0, 44.0, 51.0, 55.0, 47.0, 52.0, 57.0, 50.0, 43.0, 35.0, 54.0, 63.0, 53.0, 53.0, 52.0, 54.0, 33.0, 58.0, 54.0, 33.0, 56.0, 43.0, 56.0, 42.0, 33.0, 50.0, 44.0, 31.0, 41.0, 33.0, 44.0, 53.0, 45.0, 55.0, 65.0, 54.0, 50.0, 45.0, 52.0, 55.0, 55.0, 40.0, 53.0, 62.0, 46.0, 44.0, 64.0, 52.0, 46.0, 53.0, 65.0, 50.0, 45.0, 36.0, 44.0, 57.0, 62.0, 57.0, 42.0, 79.0], \"yaxis\": \"y\"}],                        {\"legend\": {\"tracegroupgap\": 0}, \"template\": {\"data\": {\"bar\": [{\"error_x\": {\"color\": \"#2a3f5f\"}, \"error_y\": {\"color\": \"#2a3f5f\"}, \"marker\": {\"line\": {\"color\": \"#E5ECF6\", \"width\": 0.5}}, \"type\": \"bar\"}], \"barpolar\": [{\"marker\": {\"line\": {\"color\": \"#E5ECF6\", \"width\": 0.5}}, \"type\": \"barpolar\"}], \"carpet\": [{\"aaxis\": {\"endlinecolor\": \"#2a3f5f\", \"gridcolor\": \"white\", \"linecolor\": \"white\", \"minorgridcolor\": \"white\", \"startlinecolor\": \"#2a3f5f\"}, \"baxis\": {\"endlinecolor\": \"#2a3f5f\", \"gridcolor\": \"white\", \"linecolor\": \"white\", \"minorgridcolor\": \"white\", \"startlinecolor\": \"#2a3f5f\"}, \"type\": \"carpet\"}], \"choropleth\": [{\"colorbar\": {\"outlinewidth\": 0, \"ticks\": \"\"}, \"type\": \"choropleth\"}], \"contour\": [{\"colorbar\": {\"outlinewidth\": 0, \"ticks\": \"\"}, \"colorscale\": [[0.0, \"#0d0887\"], [0.1111111111111111, \"#46039f\"], [0.2222222222222222, \"#7201a8\"], [0.3333333333333333, \"#9c179e\"], [0.4444444444444444, \"#bd3786\"], [0.5555555555555556, \"#d8576b\"], [0.6666666666666666, \"#ed7953\"], [0.7777777777777778, \"#fb9f3a\"], [0.8888888888888888, \"#fdca26\"], [1.0, \"#f0f921\"]], \"type\": \"contour\"}], \"contourcarpet\": [{\"colorbar\": {\"outlinewidth\": 0, \"ticks\": \"\"}, \"type\": \"contourcarpet\"}], \"heatmap\": [{\"colorbar\": {\"outlinewidth\": 0, \"ticks\": \"\"}, \"colorscale\": [[0.0, \"#0d0887\"], [0.1111111111111111, \"#46039f\"], [0.2222222222222222, \"#7201a8\"], [0.3333333333333333, \"#9c179e\"], [0.4444444444444444, \"#bd3786\"], [0.5555555555555556, \"#d8576b\"], [0.6666666666666666, \"#ed7953\"], [0.7777777777777778, \"#fb9f3a\"], [0.8888888888888888, \"#fdca26\"], [1.0, \"#f0f921\"]], \"type\": \"heatmap\"}], \"heatmapgl\": [{\"colorbar\": {\"outlinewidth\": 0, \"ticks\": \"\"}, \"colorscale\": [[0.0, \"#0d0887\"], [0.1111111111111111, \"#46039f\"], [0.2222222222222222, \"#7201a8\"], [0.3333333333333333, \"#9c179e\"], [0.4444444444444444, \"#bd3786\"], [0.5555555555555556, \"#d8576b\"], [0.6666666666666666, \"#ed7953\"], [0.7777777777777778, \"#fb9f3a\"], [0.8888888888888888, \"#fdca26\"], [1.0, \"#f0f921\"]], \"type\": \"heatmapgl\"}], \"histogram\": [{\"marker\": {\"colorbar\": {\"outlinewidth\": 0, \"ticks\": \"\"}}, \"type\": \"histogram\"}], \"histogram2d\": [{\"colorbar\": {\"outlinewidth\": 0, \"ticks\": \"\"}, \"colorscale\": [[0.0, \"#0d0887\"], [0.1111111111111111, \"#46039f\"], [0.2222222222222222, \"#7201a8\"], [0.3333333333333333, \"#9c179e\"], [0.4444444444444444, \"#bd3786\"], [0.5555555555555556, \"#d8576b\"], [0.6666666666666666, \"#ed7953\"], [0.7777777777777778, \"#fb9f3a\"], [0.8888888888888888, \"#fdca26\"], [1.0, \"#f0f921\"]], \"type\": \"histogram2d\"}], \"histogram2dcontour\": [{\"colorbar\": {\"outlinewidth\": 0, \"ticks\": \"\"}, \"colorscale\": [[0.0, \"#0d0887\"], [0.1111111111111111, \"#46039f\"], [0.2222222222222222, \"#7201a8\"], [0.3333333333333333, \"#9c179e\"], [0.4444444444444444, \"#bd3786\"], [0.5555555555555556, \"#d8576b\"], [0.6666666666666666, \"#ed7953\"], [0.7777777777777778, \"#fb9f3a\"], [0.8888888888888888, \"#fdca26\"], [1.0, \"#f0f921\"]], \"type\": \"histogram2dcontour\"}], \"mesh3d\": [{\"colorbar\": {\"outlinewidth\": 0, \"ticks\": \"\"}, \"type\": \"mesh3d\"}], \"parcoords\": [{\"line\": {\"colorbar\": {\"outlinewidth\": 0, \"ticks\": \"\"}}, \"type\": \"parcoords\"}], \"pie\": [{\"automargin\": true, \"type\": \"pie\"}], \"scatter\": [{\"marker\": {\"colorbar\": {\"outlinewidth\": 0, \"ticks\": \"\"}}, \"type\": \"scatter\"}], \"scatter3d\": [{\"line\": {\"colorbar\": {\"outlinewidth\": 0, \"ticks\": \"\"}}, \"marker\": {\"colorbar\": {\"outlinewidth\": 0, \"ticks\": \"\"}}, \"type\": \"scatter3d\"}], \"scattercarpet\": [{\"marker\": {\"colorbar\": {\"outlinewidth\": 0, \"ticks\": \"\"}}, \"type\": \"scattercarpet\"}], \"scattergeo\": [{\"marker\": {\"colorbar\": {\"outlinewidth\": 0, \"ticks\": \"\"}}, \"type\": \"scattergeo\"}], \"scattergl\": [{\"marker\": {\"colorbar\": {\"outlinewidth\": 0, \"ticks\": \"\"}}, \"type\": \"scattergl\"}], \"scattermapbox\": [{\"marker\": {\"colorbar\": {\"outlinewidth\": 0, \"ticks\": \"\"}}, \"type\": \"scattermapbox\"}], \"scatterpolar\": [{\"marker\": {\"colorbar\": {\"outlinewidth\": 0, \"ticks\": \"\"}}, \"type\": \"scatterpolar\"}], \"scatterpolargl\": [{\"marker\": {\"colorbar\": {\"outlinewidth\": 0, \"ticks\": \"\"}}, \"type\": \"scatterpolargl\"}], \"scatterternary\": [{\"marker\": {\"colorbar\": {\"outlinewidth\": 0, \"ticks\": \"\"}}, \"type\": \"scatterternary\"}], \"surface\": [{\"colorbar\": {\"outlinewidth\": 0, \"ticks\": \"\"}, \"colorscale\": [[0.0, \"#0d0887\"], [0.1111111111111111, \"#46039f\"], [0.2222222222222222, \"#7201a8\"], [0.3333333333333333, \"#9c179e\"], [0.4444444444444444, \"#bd3786\"], [0.5555555555555556, \"#d8576b\"], [0.6666666666666666, \"#ed7953\"], [0.7777777777777778, \"#fb9f3a\"], [0.8888888888888888, \"#fdca26\"], [1.0, \"#f0f921\"]], \"type\": \"surface\"}], \"table\": [{\"cells\": {\"fill\": {\"color\": \"#EBF0F8\"}, \"line\": {\"color\": \"white\"}}, \"header\": {\"fill\": {\"color\": \"#C8D4E3\"}, \"line\": {\"color\": \"white\"}}, \"type\": \"table\"}]}, \"layout\": {\"annotationdefaults\": {\"arrowcolor\": \"#2a3f5f\", \"arrowhead\": 0, \"arrowwidth\": 1}, \"autotypenumbers\": \"strict\", \"coloraxis\": {\"colorbar\": {\"outlinewidth\": 0, \"ticks\": \"\"}}, \"colorscale\": {\"diverging\": [[0, \"#8e0152\"], [0.1, \"#c51b7d\"], [0.2, \"#de77ae\"], [0.3, \"#f1b6da\"], [0.4, \"#fde0ef\"], [0.5, \"#f7f7f7\"], [0.6, \"#e6f5d0\"], [0.7, \"#b8e186\"], [0.8, \"#7fbc41\"], [0.9, \"#4d9221\"], [1, \"#276419\"]], \"sequential\": [[0.0, \"#0d0887\"], [0.1111111111111111, \"#46039f\"], [0.2222222222222222, \"#7201a8\"], [0.3333333333333333, \"#9c179e\"], [0.4444444444444444, \"#bd3786\"], [0.5555555555555556, \"#d8576b\"], [0.6666666666666666, \"#ed7953\"], [0.7777777777777778, \"#fb9f3a\"], [0.8888888888888888, \"#fdca26\"], [1.0, \"#f0f921\"]], \"sequentialminus\": [[0.0, \"#0d0887\"], [0.1111111111111111, \"#46039f\"], [0.2222222222222222, \"#7201a8\"], [0.3333333333333333, \"#9c179e\"], [0.4444444444444444, \"#bd3786\"], [0.5555555555555556, \"#d8576b\"], [0.6666666666666666, \"#ed7953\"], [0.7777777777777778, \"#fb9f3a\"], [0.8888888888888888, \"#fdca26\"], [1.0, \"#f0f921\"]]}, \"colorway\": [\"#636efa\", \"#EF553B\", \"#00cc96\", \"#ab63fa\", \"#FFA15A\", \"#19d3f3\", \"#FF6692\", \"#B6E880\", \"#FF97FF\", \"#FECB52\"], \"font\": {\"color\": \"#2a3f5f\"}, \"geo\": {\"bgcolor\": \"white\", \"lakecolor\": \"white\", \"landcolor\": \"#E5ECF6\", \"showlakes\": true, \"showland\": true, \"subunitcolor\": \"white\"}, \"hoverlabel\": {\"align\": \"left\"}, \"hovermode\": \"closest\", \"mapbox\": {\"style\": \"light\"}, \"paper_bgcolor\": \"white\", \"plot_bgcolor\": \"#E5ECF6\", \"polar\": {\"angularaxis\": {\"gridcolor\": \"white\", \"linecolor\": \"white\", \"ticks\": \"\"}, \"bgcolor\": \"#E5ECF6\", \"radialaxis\": {\"gridcolor\": \"white\", \"linecolor\": \"white\", \"ticks\": \"\"}}, \"scene\": {\"xaxis\": {\"backgroundcolor\": \"#E5ECF6\", \"gridcolor\": \"white\", \"gridwidth\": 2, \"linecolor\": \"white\", \"showbackground\": true, \"ticks\": \"\", \"zerolinecolor\": \"white\"}, \"yaxis\": {\"backgroundcolor\": \"#E5ECF6\", \"gridcolor\": \"white\", \"gridwidth\": 2, \"linecolor\": \"white\", \"showbackground\": true, \"ticks\": \"\", \"zerolinecolor\": \"white\"}, \"zaxis\": {\"backgroundcolor\": \"#E5ECF6\", \"gridcolor\": \"white\", \"gridwidth\": 2, \"linecolor\": \"white\", \"showbackground\": true, \"ticks\": \"\", \"zerolinecolor\": \"white\"}}, \"shapedefaults\": {\"line\": {\"color\": \"#2a3f5f\"}}, \"ternary\": {\"aaxis\": {\"gridcolor\": \"white\", \"linecolor\": \"white\", \"ticks\": \"\"}, \"baxis\": {\"gridcolor\": \"white\", \"linecolor\": \"white\", \"ticks\": \"\"}, \"bgcolor\": \"#E5ECF6\", \"caxis\": {\"gridcolor\": \"white\", \"linecolor\": \"white\", \"ticks\": \"\"}}, \"title\": {\"x\": 0.05}, \"xaxis\": {\"automargin\": true, \"gridcolor\": \"white\", \"linecolor\": \"white\", \"ticks\": \"\", \"title\": {\"standoff\": 15}, \"zerolinecolor\": \"white\", \"zerolinewidth\": 2}, \"yaxis\": {\"automargin\": true, \"gridcolor\": \"white\", \"linecolor\": \"white\", \"ticks\": \"\", \"title\": {\"standoff\": 15}, \"zerolinecolor\": \"white\", \"zerolinewidth\": 2}}}, \"title\": {\"text\": \"2112\"}, \"xaxis\": {\"anchor\": \"y\", \"domain\": [0.0, 1.0], \"title\": {\"text\": \"Number of Copies (Main Deck)\"}}, \"yaxis\": {\"anchor\": \"x\", \"domain\": [0.0, 1.0], \"title\": {\"text\": \"Win %\"}}},                        {\"responsive\": true}                    ).then(function(){\n",
       "                            \n",
       "var gd = document.getElementById('0f44986b-6f47-4c80-82ef-ef92a35d2d3c');\n",
       "var x = new MutationObserver(function (mutations, observer) {{\n",
       "        var display = window.getComputedStyle(gd).display;\n",
       "        if (!display || display === 'none') {{\n",
       "            console.log([gd, 'removed!']);\n",
       "            Plotly.purge(gd);\n",
       "            observer.disconnect();\n",
       "        }}\n",
       "}});\n",
       "\n",
       "// Listen for the removal of the full notebook cells\n",
       "var notebookContainer = gd.closest('#notebook-container');\n",
       "if (notebookContainer) {{\n",
       "    x.observe(notebookContainer, {childList: true});\n",
       "}}\n",
       "\n",
       "// Listen for the clearing of the current output cell\n",
       "var outputEl = gd.closest('.output');\n",
       "if (outputEl) {{\n",
       "    x.observe(outputEl, {childList: true});\n",
       "}}\n",
       "\n",
       "                        })                };                });            </script>        </div>"
      ]
     },
     "metadata": {},
     "output_type": "display_data"
    },
    {
     "data": {
      "application/vnd.plotly.v1+json": {
       "config": {
        "plotlyServerURL": "https://plot.ly"
       },
       "data": [
        {
         "customdata": [
          [
           "Island"
          ],
          [
           "Counterspell"
          ],
          [
           "Swamp"
          ],
          [
           "Worldspine Wurm"
          ],
          [
           "Flash"
          ],
          [
           "Sleight of Hand"
          ],
          [
           "Accumulated Knowledge"
          ],
          [
           "Mystical Tutor"
          ],
          [
           "Hallowed Fountain"
          ],
          [
           "Duress"
          ],
          [
           "City of Brass"
          ],
          [
           "Adarkar Wastes"
          ],
          [
           "Cabal Therapy"
          ],
          [
           "Dispel"
          ],
          [
           "Daze"
          ],
          [
           "Detention Sphere"
          ],
          [
           "Cunning Wish"
          ],
          [
           "Plains"
          ],
          [
           "Temple Garden"
          ],
          [
           "Supreme Verdict"
          ],
          [
           "Flood Plain"
          ],
          [
           "Underground River"
          ],
          [
           "Mountain"
          ],
          [
           "Sphinx's Revelation"
          ],
          [
           "Jace, Architect of Thought"
          ],
          [
           "Bad River"
          ],
          [
           "Memory Lapse"
          ],
          [
           "Forest"
          ],
          [
           "Azorius Charm"
          ],
          [
           "Consecrated Sphinx"
          ],
          [
           "Overgrown Tomb"
          ],
          [
           "Steam Vents"
          ],
          [
           "Dark Ritual"
          ],
          [
           "Blood Crypt"
          ],
          [
           "Living Wish"
          ],
          [
           "Inkmoth Nexus"
          ],
          [
           "Birds of Paradise"
          ],
          [
           "Krosan Verge"
          ],
          [
           "Judge's Familiar"
          ],
          [
           "Worldly Tutor"
          ],
          [
           "Karplusan Forest"
          ],
          [
           "Incinerate"
          ],
          [
           "Pack Rat"
          ],
          [
           "Underworld Connections"
          ],
          [
           "Tangle Wire"
          ],
          [
           "Mountain Valley"
          ],
          [
           "Sulfurous Springs"
          ],
          [
           "Power Sink"
          ],
          [
           "Deathrite Shaman"
          ],
          [
           "Azorius Guildgate"
          ],
          [
           "Sword of Feast and Famine"
          ],
          [
           "Signal Pest"
          ],
          [
           "Brushland"
          ],
          [
           "Thrun, the Last Troll"
          ],
          [
           "Persecute"
          ],
          [
           "Wrath of God"
          ],
          [
           "Volcanic Hammer"
          ],
          [
           "Stronghold Gambit"
          ],
          [
           "Rakdos Cackler"
          ],
          [
           "Plague Myr"
          ],
          [
           "Phyrexian Crusader"
          ],
          [
           "Llanowar Elves"
          ],
          [
           "Goblin Electromancer"
          ],
          [
           "Flayer Husk"
          ],
          [
           "Cyclonic Rift"
          ],
          [
           "Burning Wish"
          ],
          [
           "Ash Zealot"
          ],
          [
           "Loxodon Smiter"
          ],
          [
           "Go for the Throat"
          ],
          [
           "Dryad Militant"
          ],
          [
           "Dreg Mangler"
          ],
          [
           "Dissipate"
          ],
          [
           "Lava Dart"
          ],
          [
           "Grasslands"
          ],
          [
           "Flash of Insight"
          ],
          [
           "Desecration Demon"
          ],
          [
           "Abrupt Decay"
          ],
          [
           "Shock"
          ],
          [
           "Phyrexian Vatmother"
          ],
          [
           "Ostracize"
          ],
          [
           "Mental Note"
          ],
          [
           "Flame Rift"
          ],
          [
           "Blue Sun's Zenith"
          ],
          [
           "Blistercoil Weird"
          ],
          [
           "Mirari's Wake"
          ],
          [
           "Guttersnipe"
          ],
          [
           "Angel of Serenity"
          ],
          [
           "Enlightened Tutor"
          ],
          [
           "White Sun's Zenith"
          ],
          [
           "Shallow Grave"
          ],
          [
           "Nivmagus Elemental"
          ],
          [
           "Dreadbore"
          ],
          [
           "Piston Sledge"
          ],
          [
           "Mizzium Mortars"
          ],
          [
           "Mana Clash"
          ],
          [
           "Kor Haven"
          ],
          [
           "Rocky Tar Pit"
          ],
          [
           "Polymorph"
          ],
          [
           "Hibernation"
          ]
         ],
         "hovertemplate": "Number of Copies (Main Deck)=%{x}<br>Win %=%{y}<br>name=%{customdata[0]}<extra></extra>",
         "legendgroup": "",
         "marker": {
          "color": "#636efa",
          "symbol": "circle"
         },
         "mode": "markers",
         "name": "",
         "orientation": "v",
         "showlegend": false,
         "type": "scatter",
         "x": [
          443,
          155,
          137,
          136,
          130,
          126,
          119,
          102,
          96,
          95,
          92,
          89,
          83,
          82,
          79,
          77,
          73,
          71,
          64,
          61,
          61,
          56,
          55,
          54,
          51,
          50,
          46,
          46,
          46,
          43,
          41,
          37,
          36,
          36,
          35,
          33,
          31,
          27,
          27,
          24,
          24,
          21,
          19,
          17,
          16,
          16,
          15,
          15,
          15,
          15,
          14,
          14,
          14,
          13,
          13,
          12,
          12,
          12,
          12,
          12,
          12,
          12,
          12,
          12,
          12,
          12,
          12,
          11,
          11,
          11,
          11,
          11,
          10,
          10,
          10,
          10,
          10,
          8,
          8,
          8,
          8,
          8,
          8,
          8,
          7,
          7,
          7,
          6,
          5,
          5,
          5,
          5,
          4,
          4,
          4,
          4,
          3,
          3,
          3
         ],
         "xaxis": "x",
         "y": [
          52,
          51,
          54,
          54,
          54,
          56,
          52,
          54,
          42,
          54,
          48,
          43,
          53,
          52,
          52,
          41,
          57,
          41,
          43,
          45,
          43,
          58,
          47,
          44,
          50,
          54,
          51,
          43,
          38,
          54,
          51,
          58,
          55,
          53,
          49,
          53,
          40,
          46,
          42,
          43,
          47,
          53,
          54,
          38,
          57,
          50,
          54,
          44,
          45,
          48,
          50,
          33,
          35,
          45,
          61,
          44,
          53,
          64,
          53,
          55,
          55,
          44,
          53,
          53,
          44,
          59,
          53,
          44,
          50,
          45,
          43,
          37,
          53,
          41,
          68,
          36,
          48,
          57,
          57,
          64,
          83,
          57,
          44,
          57,
          48,
          57,
          47,
          33,
          48,
          55,
          57,
          36,
          57,
          45,
          57,
          50,
          57,
          65,
          68
         ],
         "yaxis": "y"
        }
       ],
       "layout": {
        "legend": {
         "tracegroupgap": 0
        },
        "template": {
         "data": {
          "bar": [
           {
            "error_x": {
             "color": "#2a3f5f"
            },
            "error_y": {
             "color": "#2a3f5f"
            },
            "marker": {
             "line": {
              "color": "#E5ECF6",
              "width": 0.5
             }
            },
            "type": "bar"
           }
          ],
          "barpolar": [
           {
            "marker": {
             "line": {
              "color": "#E5ECF6",
              "width": 0.5
             }
            },
            "type": "barpolar"
           }
          ],
          "carpet": [
           {
            "aaxis": {
             "endlinecolor": "#2a3f5f",
             "gridcolor": "white",
             "linecolor": "white",
             "minorgridcolor": "white",
             "startlinecolor": "#2a3f5f"
            },
            "baxis": {
             "endlinecolor": "#2a3f5f",
             "gridcolor": "white",
             "linecolor": "white",
             "minorgridcolor": "white",
             "startlinecolor": "#2a3f5f"
            },
            "type": "carpet"
           }
          ],
          "choropleth": [
           {
            "colorbar": {
             "outlinewidth": 0,
             "ticks": ""
            },
            "type": "choropleth"
           }
          ],
          "contour": [
           {
            "colorbar": {
             "outlinewidth": 0,
             "ticks": ""
            },
            "colorscale": [
             [
              0,
              "#0d0887"
             ],
             [
              0.1111111111111111,
              "#46039f"
             ],
             [
              0.2222222222222222,
              "#7201a8"
             ],
             [
              0.3333333333333333,
              "#9c179e"
             ],
             [
              0.4444444444444444,
              "#bd3786"
             ],
             [
              0.5555555555555556,
              "#d8576b"
             ],
             [
              0.6666666666666666,
              "#ed7953"
             ],
             [
              0.7777777777777778,
              "#fb9f3a"
             ],
             [
              0.8888888888888888,
              "#fdca26"
             ],
             [
              1,
              "#f0f921"
             ]
            ],
            "type": "contour"
           }
          ],
          "contourcarpet": [
           {
            "colorbar": {
             "outlinewidth": 0,
             "ticks": ""
            },
            "type": "contourcarpet"
           }
          ],
          "heatmap": [
           {
            "colorbar": {
             "outlinewidth": 0,
             "ticks": ""
            },
            "colorscale": [
             [
              0,
              "#0d0887"
             ],
             [
              0.1111111111111111,
              "#46039f"
             ],
             [
              0.2222222222222222,
              "#7201a8"
             ],
             [
              0.3333333333333333,
              "#9c179e"
             ],
             [
              0.4444444444444444,
              "#bd3786"
             ],
             [
              0.5555555555555556,
              "#d8576b"
             ],
             [
              0.6666666666666666,
              "#ed7953"
             ],
             [
              0.7777777777777778,
              "#fb9f3a"
             ],
             [
              0.8888888888888888,
              "#fdca26"
             ],
             [
              1,
              "#f0f921"
             ]
            ],
            "type": "heatmap"
           }
          ],
          "heatmapgl": [
           {
            "colorbar": {
             "outlinewidth": 0,
             "ticks": ""
            },
            "colorscale": [
             [
              0,
              "#0d0887"
             ],
             [
              0.1111111111111111,
              "#46039f"
             ],
             [
              0.2222222222222222,
              "#7201a8"
             ],
             [
              0.3333333333333333,
              "#9c179e"
             ],
             [
              0.4444444444444444,
              "#bd3786"
             ],
             [
              0.5555555555555556,
              "#d8576b"
             ],
             [
              0.6666666666666666,
              "#ed7953"
             ],
             [
              0.7777777777777778,
              "#fb9f3a"
             ],
             [
              0.8888888888888888,
              "#fdca26"
             ],
             [
              1,
              "#f0f921"
             ]
            ],
            "type": "heatmapgl"
           }
          ],
          "histogram": [
           {
            "marker": {
             "colorbar": {
              "outlinewidth": 0,
              "ticks": ""
             }
            },
            "type": "histogram"
           }
          ],
          "histogram2d": [
           {
            "colorbar": {
             "outlinewidth": 0,
             "ticks": ""
            },
            "colorscale": [
             [
              0,
              "#0d0887"
             ],
             [
              0.1111111111111111,
              "#46039f"
             ],
             [
              0.2222222222222222,
              "#7201a8"
             ],
             [
              0.3333333333333333,
              "#9c179e"
             ],
             [
              0.4444444444444444,
              "#bd3786"
             ],
             [
              0.5555555555555556,
              "#d8576b"
             ],
             [
              0.6666666666666666,
              "#ed7953"
             ],
             [
              0.7777777777777778,
              "#fb9f3a"
             ],
             [
              0.8888888888888888,
              "#fdca26"
             ],
             [
              1,
              "#f0f921"
             ]
            ],
            "type": "histogram2d"
           }
          ],
          "histogram2dcontour": [
           {
            "colorbar": {
             "outlinewidth": 0,
             "ticks": ""
            },
            "colorscale": [
             [
              0,
              "#0d0887"
             ],
             [
              0.1111111111111111,
              "#46039f"
             ],
             [
              0.2222222222222222,
              "#7201a8"
             ],
             [
              0.3333333333333333,
              "#9c179e"
             ],
             [
              0.4444444444444444,
              "#bd3786"
             ],
             [
              0.5555555555555556,
              "#d8576b"
             ],
             [
              0.6666666666666666,
              "#ed7953"
             ],
             [
              0.7777777777777778,
              "#fb9f3a"
             ],
             [
              0.8888888888888888,
              "#fdca26"
             ],
             [
              1,
              "#f0f921"
             ]
            ],
            "type": "histogram2dcontour"
           }
          ],
          "mesh3d": [
           {
            "colorbar": {
             "outlinewidth": 0,
             "ticks": ""
            },
            "type": "mesh3d"
           }
          ],
          "parcoords": [
           {
            "line": {
             "colorbar": {
              "outlinewidth": 0,
              "ticks": ""
             }
            },
            "type": "parcoords"
           }
          ],
          "pie": [
           {
            "automargin": true,
            "type": "pie"
           }
          ],
          "scatter": [
           {
            "marker": {
             "colorbar": {
              "outlinewidth": 0,
              "ticks": ""
             }
            },
            "type": "scatter"
           }
          ],
          "scatter3d": [
           {
            "line": {
             "colorbar": {
              "outlinewidth": 0,
              "ticks": ""
             }
            },
            "marker": {
             "colorbar": {
              "outlinewidth": 0,
              "ticks": ""
             }
            },
            "type": "scatter3d"
           }
          ],
          "scattercarpet": [
           {
            "marker": {
             "colorbar": {
              "outlinewidth": 0,
              "ticks": ""
             }
            },
            "type": "scattercarpet"
           }
          ],
          "scattergeo": [
           {
            "marker": {
             "colorbar": {
              "outlinewidth": 0,
              "ticks": ""
             }
            },
            "type": "scattergeo"
           }
          ],
          "scattergl": [
           {
            "marker": {
             "colorbar": {
              "outlinewidth": 0,
              "ticks": ""
             }
            },
            "type": "scattergl"
           }
          ],
          "scattermapbox": [
           {
            "marker": {
             "colorbar": {
              "outlinewidth": 0,
              "ticks": ""
             }
            },
            "type": "scattermapbox"
           }
          ],
          "scatterpolar": [
           {
            "marker": {
             "colorbar": {
              "outlinewidth": 0,
              "ticks": ""
             }
            },
            "type": "scatterpolar"
           }
          ],
          "scatterpolargl": [
           {
            "marker": {
             "colorbar": {
              "outlinewidth": 0,
              "ticks": ""
             }
            },
            "type": "scatterpolargl"
           }
          ],
          "scatterternary": [
           {
            "marker": {
             "colorbar": {
              "outlinewidth": 0,
              "ticks": ""
             }
            },
            "type": "scatterternary"
           }
          ],
          "surface": [
           {
            "colorbar": {
             "outlinewidth": 0,
             "ticks": ""
            },
            "colorscale": [
             [
              0,
              "#0d0887"
             ],
             [
              0.1111111111111111,
              "#46039f"
             ],
             [
              0.2222222222222222,
              "#7201a8"
             ],
             [
              0.3333333333333333,
              "#9c179e"
             ],
             [
              0.4444444444444444,
              "#bd3786"
             ],
             [
              0.5555555555555556,
              "#d8576b"
             ],
             [
              0.6666666666666666,
              "#ed7953"
             ],
             [
              0.7777777777777778,
              "#fb9f3a"
             ],
             [
              0.8888888888888888,
              "#fdca26"
             ],
             [
              1,
              "#f0f921"
             ]
            ],
            "type": "surface"
           }
          ],
          "table": [
           {
            "cells": {
             "fill": {
              "color": "#EBF0F8"
             },
             "line": {
              "color": "white"
             }
            },
            "header": {
             "fill": {
              "color": "#C8D4E3"
             },
             "line": {
              "color": "white"
             }
            },
            "type": "table"
           }
          ]
         },
         "layout": {
          "annotationdefaults": {
           "arrowcolor": "#2a3f5f",
           "arrowhead": 0,
           "arrowwidth": 1
          },
          "autotypenumbers": "strict",
          "coloraxis": {
           "colorbar": {
            "outlinewidth": 0,
            "ticks": ""
           }
          },
          "colorscale": {
           "diverging": [
            [
             0,
             "#8e0152"
            ],
            [
             0.1,
             "#c51b7d"
            ],
            [
             0.2,
             "#de77ae"
            ],
            [
             0.3,
             "#f1b6da"
            ],
            [
             0.4,
             "#fde0ef"
            ],
            [
             0.5,
             "#f7f7f7"
            ],
            [
             0.6,
             "#e6f5d0"
            ],
            [
             0.7,
             "#b8e186"
            ],
            [
             0.8,
             "#7fbc41"
            ],
            [
             0.9,
             "#4d9221"
            ],
            [
             1,
             "#276419"
            ]
           ],
           "sequential": [
            [
             0,
             "#0d0887"
            ],
            [
             0.1111111111111111,
             "#46039f"
            ],
            [
             0.2222222222222222,
             "#7201a8"
            ],
            [
             0.3333333333333333,
             "#9c179e"
            ],
            [
             0.4444444444444444,
             "#bd3786"
            ],
            [
             0.5555555555555556,
             "#d8576b"
            ],
            [
             0.6666666666666666,
             "#ed7953"
            ],
            [
             0.7777777777777778,
             "#fb9f3a"
            ],
            [
             0.8888888888888888,
             "#fdca26"
            ],
            [
             1,
             "#f0f921"
            ]
           ],
           "sequentialminus": [
            [
             0,
             "#0d0887"
            ],
            [
             0.1111111111111111,
             "#46039f"
            ],
            [
             0.2222222222222222,
             "#7201a8"
            ],
            [
             0.3333333333333333,
             "#9c179e"
            ],
            [
             0.4444444444444444,
             "#bd3786"
            ],
            [
             0.5555555555555556,
             "#d8576b"
            ],
            [
             0.6666666666666666,
             "#ed7953"
            ],
            [
             0.7777777777777778,
             "#fb9f3a"
            ],
            [
             0.8888888888888888,
             "#fdca26"
            ],
            [
             1,
             "#f0f921"
            ]
           ]
          },
          "colorway": [
           "#636efa",
           "#EF553B",
           "#00cc96",
           "#ab63fa",
           "#FFA15A",
           "#19d3f3",
           "#FF6692",
           "#B6E880",
           "#FF97FF",
           "#FECB52"
          ],
          "font": {
           "color": "#2a3f5f"
          },
          "geo": {
           "bgcolor": "white",
           "lakecolor": "white",
           "landcolor": "#E5ECF6",
           "showlakes": true,
           "showland": true,
           "subunitcolor": "white"
          },
          "hoverlabel": {
           "align": "left"
          },
          "hovermode": "closest",
          "mapbox": {
           "style": "light"
          },
          "paper_bgcolor": "white",
          "plot_bgcolor": "#E5ECF6",
          "polar": {
           "angularaxis": {
            "gridcolor": "white",
            "linecolor": "white",
            "ticks": ""
           },
           "bgcolor": "#E5ECF6",
           "radialaxis": {
            "gridcolor": "white",
            "linecolor": "white",
            "ticks": ""
           }
          },
          "scene": {
           "xaxis": {
            "backgroundcolor": "#E5ECF6",
            "gridcolor": "white",
            "gridwidth": 2,
            "linecolor": "white",
            "showbackground": true,
            "ticks": "",
            "zerolinecolor": "white"
           },
           "yaxis": {
            "backgroundcolor": "#E5ECF6",
            "gridcolor": "white",
            "gridwidth": 2,
            "linecolor": "white",
            "showbackground": true,
            "ticks": "",
            "zerolinecolor": "white"
           },
           "zaxis": {
            "backgroundcolor": "#E5ECF6",
            "gridcolor": "white",
            "gridwidth": 2,
            "linecolor": "white",
            "showbackground": true,
            "ticks": "",
            "zerolinecolor": "white"
           }
          },
          "shapedefaults": {
           "line": {
            "color": "#2a3f5f"
           }
          },
          "ternary": {
           "aaxis": {
            "gridcolor": "white",
            "linecolor": "white",
            "ticks": ""
           },
           "baxis": {
            "gridcolor": "white",
            "linecolor": "white",
            "ticks": ""
           },
           "bgcolor": "#E5ECF6",
           "caxis": {
            "gridcolor": "white",
            "linecolor": "white",
            "ticks": ""
           }
          },
          "title": {
           "x": 0.05
          },
          "xaxis": {
           "automargin": true,
           "gridcolor": "white",
           "linecolor": "white",
           "ticks": "",
           "title": {
            "standoff": 15
           },
           "zerolinecolor": "white",
           "zerolinewidth": 2
          },
          "yaxis": {
           "automargin": true,
           "gridcolor": "white",
           "linecolor": "white",
           "ticks": "",
           "title": {
            "standoff": 15
           },
           "zerolinecolor": "white",
           "zerolinewidth": 2
          }
         }
        },
        "title": {
         "text": "2480"
        },
        "xaxis": {
         "anchor": "y",
         "domain": [
          0,
          1
         ],
         "title": {
          "text": "Number of Copies (Main Deck)"
         }
        },
        "yaxis": {
         "anchor": "x",
         "domain": [
          0,
          1
         ],
         "title": {
          "text": "Win %"
         }
        }
       }
      },
      "text/html": [
       "<div>                            <div id=\"7d5d189c-1169-48c9-8534-18470a46ef4d\" class=\"plotly-graph-div\" style=\"height:525px; width:100%;\"></div>            <script type=\"text/javascript\">                require([\"plotly\"], function(Plotly) {                    window.PLOTLYENV=window.PLOTLYENV || {};                                    if (document.getElementById(\"7d5d189c-1169-48c9-8534-18470a46ef4d\")) {                    Plotly.newPlot(                        \"7d5d189c-1169-48c9-8534-18470a46ef4d\",                        [{\"customdata\": [[\"Island\"], [\"Counterspell\"], [\"Swamp\"], [\"Worldspine Wurm\"], [\"Flash\"], [\"Sleight of Hand\"], [\"Accumulated Knowledge\"], [\"Mystical Tutor\"], [\"Hallowed Fountain\"], [\"Duress\"], [\"City of Brass\"], [\"Adarkar Wastes\"], [\"Cabal Therapy\"], [\"Dispel\"], [\"Daze\"], [\"Detention Sphere\"], [\"Cunning Wish\"], [\"Plains\"], [\"Temple Garden\"], [\"Supreme Verdict\"], [\"Flood Plain\"], [\"Underground River\"], [\"Mountain\"], [\"Sphinx's Revelation\"], [\"Jace, Architect of Thought\"], [\"Bad River\"], [\"Memory Lapse\"], [\"Forest\"], [\"Azorius Charm\"], [\"Consecrated Sphinx\"], [\"Overgrown Tomb\"], [\"Steam Vents\"], [\"Dark Ritual\"], [\"Blood Crypt\"], [\"Living Wish\"], [\"Inkmoth Nexus\"], [\"Birds of Paradise\"], [\"Krosan Verge\"], [\"Judge's Familiar\"], [\"Worldly Tutor\"], [\"Karplusan Forest\"], [\"Incinerate\"], [\"Pack Rat\"], [\"Underworld Connections\"], [\"Tangle Wire\"], [\"Mountain Valley\"], [\"Sulfurous Springs\"], [\"Power Sink\"], [\"Deathrite Shaman\"], [\"Azorius Guildgate\"], [\"Sword of Feast and Famine\"], [\"Signal Pest\"], [\"Brushland\"], [\"Thrun, the Last Troll\"], [\"Persecute\"], [\"Wrath of God\"], [\"Volcanic Hammer\"], [\"Stronghold Gambit\"], [\"Rakdos Cackler\"], [\"Plague Myr\"], [\"Phyrexian Crusader\"], [\"Llanowar Elves\"], [\"Goblin Electromancer\"], [\"Flayer Husk\"], [\"Cyclonic Rift\"], [\"Burning Wish\"], [\"Ash Zealot\"], [\"Loxodon Smiter\"], [\"Go for the Throat\"], [\"Dryad Militant\"], [\"Dreg Mangler\"], [\"Dissipate\"], [\"Lava Dart\"], [\"Grasslands\"], [\"Flash of Insight\"], [\"Desecration Demon\"], [\"Abrupt Decay\"], [\"Shock\"], [\"Phyrexian Vatmother\"], [\"Ostracize\"], [\"Mental Note\"], [\"Flame Rift\"], [\"Blue Sun's Zenith\"], [\"Blistercoil Weird\"], [\"Mirari's Wake\"], [\"Guttersnipe\"], [\"Angel of Serenity\"], [\"Enlightened Tutor\"], [\"White Sun's Zenith\"], [\"Shallow Grave\"], [\"Nivmagus Elemental\"], [\"Dreadbore\"], [\"Piston Sledge\"], [\"Mizzium Mortars\"], [\"Mana Clash\"], [\"Kor Haven\"], [\"Rocky Tar Pit\"], [\"Polymorph\"], [\"Hibernation\"]], \"hovertemplate\": \"Number of Copies (Main Deck)=%{x}<br>Win %=%{y}<br>name=%{customdata[0]}<extra></extra>\", \"legendgroup\": \"\", \"marker\": {\"color\": \"#636efa\", \"symbol\": \"circle\"}, \"mode\": \"markers\", \"name\": \"\", \"orientation\": \"v\", \"showlegend\": false, \"type\": \"scatter\", \"x\": [443, 155, 137, 136, 130, 126, 119, 102, 96, 95, 92, 89, 83, 82, 79, 77, 73, 71, 64, 61, 61, 56, 55, 54, 51, 50, 46, 46, 46, 43, 41, 37, 36, 36, 35, 33, 31, 27, 27, 24, 24, 21, 19, 17, 16, 16, 15, 15, 15, 15, 14, 14, 14, 13, 13, 12, 12, 12, 12, 12, 12, 12, 12, 12, 12, 12, 12, 11, 11, 11, 11, 11, 10, 10, 10, 10, 10, 8, 8, 8, 8, 8, 8, 8, 7, 7, 7, 6, 5, 5, 5, 5, 4, 4, 4, 4, 3, 3, 3], \"xaxis\": \"x\", \"y\": [52.0, 51.0, 54.0, 54.0, 54.0, 56.0, 52.0, 54.0, 42.0, 54.0, 48.0, 43.0, 53.0, 52.0, 52.0, 41.0, 57.0, 41.0, 43.0, 45.0, 43.0, 58.0, 47.0, 44.0, 50.0, 54.0, 51.0, 43.0, 38.0, 54.0, 51.0, 58.0, 55.0, 53.0, 49.0, 53.0, 40.0, 46.0, 42.0, 43.0, 47.0, 53.0, 54.0, 38.0, 57.0, 50.0, 54.0, 44.0, 45.0, 48.0, 50.0, 33.0, 35.0, 45.0, 61.0, 44.0, 53.0, 64.0, 53.0, 55.0, 55.0, 44.0, 53.0, 53.0, 44.0, 59.0, 53.0, 44.0, 50.0, 45.0, 43.0, 37.0, 53.0, 41.0, 68.0, 36.0, 48.0, 57.0, 57.0, 64.0, 83.0, 57.0, 44.0, 57.0, 48.0, 57.0, 47.0, 33.0, 48.0, 55.0, 57.0, 36.0, 57.0, 45.0, 57.0, 50.0, 57.0, 65.0, 68.0], \"yaxis\": \"y\"}],                        {\"legend\": {\"tracegroupgap\": 0}, \"template\": {\"data\": {\"bar\": [{\"error_x\": {\"color\": \"#2a3f5f\"}, \"error_y\": {\"color\": \"#2a3f5f\"}, \"marker\": {\"line\": {\"color\": \"#E5ECF6\", \"width\": 0.5}}, \"type\": \"bar\"}], \"barpolar\": [{\"marker\": {\"line\": {\"color\": \"#E5ECF6\", \"width\": 0.5}}, \"type\": \"barpolar\"}], \"carpet\": [{\"aaxis\": {\"endlinecolor\": \"#2a3f5f\", \"gridcolor\": \"white\", \"linecolor\": \"white\", \"minorgridcolor\": \"white\", \"startlinecolor\": \"#2a3f5f\"}, \"baxis\": {\"endlinecolor\": \"#2a3f5f\", \"gridcolor\": \"white\", \"linecolor\": \"white\", \"minorgridcolor\": \"white\", \"startlinecolor\": \"#2a3f5f\"}, \"type\": \"carpet\"}], \"choropleth\": [{\"colorbar\": {\"outlinewidth\": 0, \"ticks\": \"\"}, \"type\": \"choropleth\"}], \"contour\": [{\"colorbar\": {\"outlinewidth\": 0, \"ticks\": \"\"}, \"colorscale\": [[0.0, \"#0d0887\"], [0.1111111111111111, \"#46039f\"], [0.2222222222222222, \"#7201a8\"], [0.3333333333333333, \"#9c179e\"], [0.4444444444444444, \"#bd3786\"], [0.5555555555555556, \"#d8576b\"], [0.6666666666666666, \"#ed7953\"], [0.7777777777777778, \"#fb9f3a\"], [0.8888888888888888, \"#fdca26\"], [1.0, \"#f0f921\"]], \"type\": \"contour\"}], \"contourcarpet\": [{\"colorbar\": {\"outlinewidth\": 0, \"ticks\": \"\"}, \"type\": \"contourcarpet\"}], \"heatmap\": [{\"colorbar\": {\"outlinewidth\": 0, \"ticks\": \"\"}, \"colorscale\": [[0.0, \"#0d0887\"], [0.1111111111111111, \"#46039f\"], [0.2222222222222222, \"#7201a8\"], [0.3333333333333333, \"#9c179e\"], [0.4444444444444444, \"#bd3786\"], [0.5555555555555556, \"#d8576b\"], [0.6666666666666666, \"#ed7953\"], [0.7777777777777778, \"#fb9f3a\"], [0.8888888888888888, \"#fdca26\"], [1.0, \"#f0f921\"]], \"type\": \"heatmap\"}], \"heatmapgl\": [{\"colorbar\": {\"outlinewidth\": 0, \"ticks\": \"\"}, \"colorscale\": [[0.0, \"#0d0887\"], [0.1111111111111111, \"#46039f\"], [0.2222222222222222, \"#7201a8\"], [0.3333333333333333, \"#9c179e\"], [0.4444444444444444, \"#bd3786\"], [0.5555555555555556, \"#d8576b\"], [0.6666666666666666, \"#ed7953\"], [0.7777777777777778, \"#fb9f3a\"], [0.8888888888888888, \"#fdca26\"], [1.0, \"#f0f921\"]], \"type\": \"heatmapgl\"}], \"histogram\": [{\"marker\": {\"colorbar\": {\"outlinewidth\": 0, \"ticks\": \"\"}}, \"type\": \"histogram\"}], \"histogram2d\": [{\"colorbar\": {\"outlinewidth\": 0, \"ticks\": \"\"}, \"colorscale\": [[0.0, \"#0d0887\"], [0.1111111111111111, \"#46039f\"], [0.2222222222222222, \"#7201a8\"], [0.3333333333333333, \"#9c179e\"], [0.4444444444444444, \"#bd3786\"], [0.5555555555555556, \"#d8576b\"], [0.6666666666666666, \"#ed7953\"], [0.7777777777777778, \"#fb9f3a\"], [0.8888888888888888, \"#fdca26\"], [1.0, \"#f0f921\"]], \"type\": \"histogram2d\"}], \"histogram2dcontour\": [{\"colorbar\": {\"outlinewidth\": 0, \"ticks\": \"\"}, \"colorscale\": [[0.0, \"#0d0887\"], [0.1111111111111111, \"#46039f\"], [0.2222222222222222, \"#7201a8\"], [0.3333333333333333, \"#9c179e\"], [0.4444444444444444, \"#bd3786\"], [0.5555555555555556, \"#d8576b\"], [0.6666666666666666, \"#ed7953\"], [0.7777777777777778, \"#fb9f3a\"], [0.8888888888888888, \"#fdca26\"], [1.0, \"#f0f921\"]], \"type\": \"histogram2dcontour\"}], \"mesh3d\": [{\"colorbar\": {\"outlinewidth\": 0, \"ticks\": \"\"}, \"type\": \"mesh3d\"}], \"parcoords\": [{\"line\": {\"colorbar\": {\"outlinewidth\": 0, \"ticks\": \"\"}}, \"type\": \"parcoords\"}], \"pie\": [{\"automargin\": true, \"type\": \"pie\"}], \"scatter\": [{\"marker\": {\"colorbar\": {\"outlinewidth\": 0, \"ticks\": \"\"}}, \"type\": \"scatter\"}], \"scatter3d\": [{\"line\": {\"colorbar\": {\"outlinewidth\": 0, \"ticks\": \"\"}}, \"marker\": {\"colorbar\": {\"outlinewidth\": 0, \"ticks\": \"\"}}, \"type\": \"scatter3d\"}], \"scattercarpet\": [{\"marker\": {\"colorbar\": {\"outlinewidth\": 0, \"ticks\": \"\"}}, \"type\": \"scattercarpet\"}], \"scattergeo\": [{\"marker\": {\"colorbar\": {\"outlinewidth\": 0, \"ticks\": \"\"}}, \"type\": \"scattergeo\"}], \"scattergl\": [{\"marker\": {\"colorbar\": {\"outlinewidth\": 0, \"ticks\": \"\"}}, \"type\": \"scattergl\"}], \"scattermapbox\": [{\"marker\": {\"colorbar\": {\"outlinewidth\": 0, \"ticks\": \"\"}}, \"type\": \"scattermapbox\"}], \"scatterpolar\": [{\"marker\": {\"colorbar\": {\"outlinewidth\": 0, \"ticks\": \"\"}}, \"type\": \"scatterpolar\"}], \"scatterpolargl\": [{\"marker\": {\"colorbar\": {\"outlinewidth\": 0, \"ticks\": \"\"}}, \"type\": \"scatterpolargl\"}], \"scatterternary\": [{\"marker\": {\"colorbar\": {\"outlinewidth\": 0, \"ticks\": \"\"}}, \"type\": \"scatterternary\"}], \"surface\": [{\"colorbar\": {\"outlinewidth\": 0, \"ticks\": \"\"}, \"colorscale\": [[0.0, \"#0d0887\"], [0.1111111111111111, \"#46039f\"], [0.2222222222222222, \"#7201a8\"], [0.3333333333333333, \"#9c179e\"], [0.4444444444444444, \"#bd3786\"], [0.5555555555555556, \"#d8576b\"], [0.6666666666666666, \"#ed7953\"], [0.7777777777777778, \"#fb9f3a\"], [0.8888888888888888, \"#fdca26\"], [1.0, \"#f0f921\"]], \"type\": \"surface\"}], \"table\": [{\"cells\": {\"fill\": {\"color\": \"#EBF0F8\"}, \"line\": {\"color\": \"white\"}}, \"header\": {\"fill\": {\"color\": \"#C8D4E3\"}, \"line\": {\"color\": \"white\"}}, \"type\": \"table\"}]}, \"layout\": {\"annotationdefaults\": {\"arrowcolor\": \"#2a3f5f\", \"arrowhead\": 0, \"arrowwidth\": 1}, \"autotypenumbers\": \"strict\", \"coloraxis\": {\"colorbar\": {\"outlinewidth\": 0, \"ticks\": \"\"}}, \"colorscale\": {\"diverging\": [[0, \"#8e0152\"], [0.1, \"#c51b7d\"], [0.2, \"#de77ae\"], [0.3, \"#f1b6da\"], [0.4, \"#fde0ef\"], [0.5, \"#f7f7f7\"], [0.6, \"#e6f5d0\"], [0.7, \"#b8e186\"], [0.8, \"#7fbc41\"], [0.9, \"#4d9221\"], [1, \"#276419\"]], \"sequential\": [[0.0, \"#0d0887\"], [0.1111111111111111, \"#46039f\"], [0.2222222222222222, \"#7201a8\"], [0.3333333333333333, \"#9c179e\"], [0.4444444444444444, \"#bd3786\"], [0.5555555555555556, \"#d8576b\"], [0.6666666666666666, \"#ed7953\"], [0.7777777777777778, \"#fb9f3a\"], [0.8888888888888888, \"#fdca26\"], [1.0, \"#f0f921\"]], \"sequentialminus\": [[0.0, \"#0d0887\"], [0.1111111111111111, \"#46039f\"], [0.2222222222222222, \"#7201a8\"], [0.3333333333333333, \"#9c179e\"], [0.4444444444444444, \"#bd3786\"], [0.5555555555555556, \"#d8576b\"], [0.6666666666666666, \"#ed7953\"], [0.7777777777777778, \"#fb9f3a\"], [0.8888888888888888, \"#fdca26\"], [1.0, \"#f0f921\"]]}, \"colorway\": [\"#636efa\", \"#EF553B\", \"#00cc96\", \"#ab63fa\", \"#FFA15A\", \"#19d3f3\", \"#FF6692\", \"#B6E880\", \"#FF97FF\", \"#FECB52\"], \"font\": {\"color\": \"#2a3f5f\"}, \"geo\": {\"bgcolor\": \"white\", \"lakecolor\": \"white\", \"landcolor\": \"#E5ECF6\", \"showlakes\": true, \"showland\": true, \"subunitcolor\": \"white\"}, \"hoverlabel\": {\"align\": \"left\"}, \"hovermode\": \"closest\", \"mapbox\": {\"style\": \"light\"}, \"paper_bgcolor\": \"white\", \"plot_bgcolor\": \"#E5ECF6\", \"polar\": {\"angularaxis\": {\"gridcolor\": \"white\", \"linecolor\": \"white\", \"ticks\": \"\"}, \"bgcolor\": \"#E5ECF6\", \"radialaxis\": {\"gridcolor\": \"white\", \"linecolor\": \"white\", \"ticks\": \"\"}}, \"scene\": {\"xaxis\": {\"backgroundcolor\": \"#E5ECF6\", \"gridcolor\": \"white\", \"gridwidth\": 2, \"linecolor\": \"white\", \"showbackground\": true, \"ticks\": \"\", \"zerolinecolor\": \"white\"}, \"yaxis\": {\"backgroundcolor\": \"#E5ECF6\", \"gridcolor\": \"white\", \"gridwidth\": 2, \"linecolor\": \"white\", \"showbackground\": true, \"ticks\": \"\", \"zerolinecolor\": \"white\"}, \"zaxis\": {\"backgroundcolor\": \"#E5ECF6\", \"gridcolor\": \"white\", \"gridwidth\": 2, \"linecolor\": \"white\", \"showbackground\": true, \"ticks\": \"\", \"zerolinecolor\": \"white\"}}, \"shapedefaults\": {\"line\": {\"color\": \"#2a3f5f\"}}, \"ternary\": {\"aaxis\": {\"gridcolor\": \"white\", \"linecolor\": \"white\", \"ticks\": \"\"}, \"baxis\": {\"gridcolor\": \"white\", \"linecolor\": \"white\", \"ticks\": \"\"}, \"bgcolor\": \"#E5ECF6\", \"caxis\": {\"gridcolor\": \"white\", \"linecolor\": \"white\", \"ticks\": \"\"}}, \"title\": {\"x\": 0.05}, \"xaxis\": {\"automargin\": true, \"gridcolor\": \"white\", \"linecolor\": \"white\", \"ticks\": \"\", \"title\": {\"standoff\": 15}, \"zerolinecolor\": \"white\", \"zerolinewidth\": 2}, \"yaxis\": {\"automargin\": true, \"gridcolor\": \"white\", \"linecolor\": \"white\", \"ticks\": \"\", \"title\": {\"standoff\": 15}, \"zerolinecolor\": \"white\", \"zerolinewidth\": 2}}}, \"title\": {\"text\": \"2480\"}, \"xaxis\": {\"anchor\": \"y\", \"domain\": [0.0, 1.0], \"title\": {\"text\": \"Number of Copies (Main Deck)\"}}, \"yaxis\": {\"anchor\": \"x\", \"domain\": [0.0, 1.0], \"title\": {\"text\": \"Win %\"}}},                        {\"responsive\": true}                    ).then(function(){\n",
       "                            \n",
       "var gd = document.getElementById('7d5d189c-1169-48c9-8534-18470a46ef4d');\n",
       "var x = new MutationObserver(function (mutations, observer) {{\n",
       "        var display = window.getComputedStyle(gd).display;\n",
       "        if (!display || display === 'none') {{\n",
       "            console.log([gd, 'removed!']);\n",
       "            Plotly.purge(gd);\n",
       "            observer.disconnect();\n",
       "        }}\n",
       "}});\n",
       "\n",
       "// Listen for the removal of the full notebook cells\n",
       "var notebookContainer = gd.closest('#notebook-container');\n",
       "if (notebookContainer) {{\n",
       "    x.observe(notebookContainer, {childList: true});\n",
       "}}\n",
       "\n",
       "// Listen for the clearing of the current output cell\n",
       "var outputEl = gd.closest('.output');\n",
       "if (outputEl) {{\n",
       "    x.observe(outputEl, {childList: true});\n",
       "}}\n",
       "\n",
       "                        })                };                });            </script>        </div>"
      ]
     },
     "metadata": {},
     "output_type": "display_data"
    },
    {
     "data": {
      "application/vnd.plotly.v1+json": {
       "config": {
        "plotlyServerURL": "https://plot.ly"
       },
       "data": [
        {
         "customdata": [
          [
           "Mountain"
          ],
          [
           "Lightning Bolt"
          ],
          [
           "Arid Mesa"
          ],
          [
           "Scalding Tarn"
          ],
          [
           "Stomping Ground"
          ],
          [
           "Primeval Titan"
          ],
          [
           "Valakut, the Molten Pinnacle"
          ],
          [
           "Harrow"
          ],
          [
           "Inferno Titan"
          ],
          [
           "Khalni Heart Expedition"
          ],
          [
           "Plains"
          ],
          [
           "Lotus Cobra"
          ],
          [
           "Gruul Signet"
          ],
          [
           "Preordain"
          ],
          [
           "Forest"
          ],
          [
           "Steam Vents"
          ],
          [
           "Misty Rainforest"
          ],
          [
           "Oracle of Mul Daya"
          ],
          [
           "Island"
          ],
          [
           "Mana Leak"
          ],
          [
           "Figure of Destiny"
          ],
          [
           "Burst Lightning"
          ],
          [
           "Obstinate Baloth"
          ],
          [
           "Cultivate"
          ],
          [
           "Verdant Catacombs"
          ],
          [
           "Glacial Fortress"
          ],
          [
           "Pyroclasm"
          ],
          [
           "Marsh Flats"
          ],
          [
           "Electrolyze"
          ],
          [
           "Bonfire of the Damned"
          ],
          [
           "Condemn"
          ],
          [
           "Goblin Guide"
          ],
          [
           "Summoning Trap"
          ],
          [
           "Godless Shrine"
          ],
          [
           "Day of Judgment"
          ],
          [
           "Birds of Paradise"
          ],
          [
           "Bedlam Reveler"
          ],
          [
           "Cavern of Souls"
          ],
          [
           "Vexing Devil"
          ],
          [
           "Swamp"
          ],
          [
           "Steppe Lynx"
          ],
          [
           "Rugged Prairie"
          ],
          [
           "Incendiary Flow"
          ],
          [
           "Quicken"
          ],
          [
           "Baneslayer Angel"
          ],
          [
           "Take Inventory"
          ],
          [
           "Selfless Spirit"
          ],
          [
           "Sejiri Refuge"
          ],
          [
           "Plated Geopede"
          ],
          [
           "Pillar of Flame"
          ],
          [
           "Leyline of Sanctity"
          ],
          [
           "Cancel"
          ],
          [
           "Grapple with the Past"
          ],
          [
           "Llanowar Elves"
          ],
          [
           "Foresee"
          ],
          [
           "Blessed Alliance"
          ],
          [
           "Eldritch Evolution"
          ],
          [
           "Thermo-Alchemist"
          ],
          [
           "Squadron Hawk"
          ],
          [
           "Pyromancer Ascension"
          ],
          [
           "Jace's Ingenuity"
          ],
          [
           "Honor of the Pure"
          ],
          [
           "Gwyllion Hedge-Mage"
          ],
          [
           "Elite Vanguard"
          ],
          [
           "Doom Blade"
          ],
          [
           "Brave the Elements"
          ],
          [
           "Hanweir Battlements"
          ],
          [
           "Giant Solifuge"
          ],
          [
           "Collective Defiance"
          ],
          [
           "Cascade Bluffs"
          ],
          [
           "Ajani Goldmane"
          ],
          [
           "Wistful Selkie"
          ],
          [
           "Vampire Nighthawk"
          ],
          [
           "Unsubstantiate"
          ],
          [
           "Sylvan Ranger"
          ],
          [
           "Spreading Seas"
          ],
          [
           "Spell Queller"
          ],
          [
           "Restoration Angel"
          ],
          [
           "Goblin Bushwhacker"
          ],
          [
           "Garruk Wildspeaker"
          ],
          [
           "Foul Emissary"
          ],
          [
           "Elder Deep-Fiend"
          ],
          [
           "Castigate"
          ],
          [
           "Teetering Peaks"
          ],
          [
           "Gruul Turf"
          ],
          [
           "Emrakul, the Promised End"
          ],
          [
           "Thalia, Heretic Cathar"
          ],
          [
           "Mortify"
          ],
          [
           "Entreat the Angels"
          ],
          [
           "Desolate Lighthouse"
          ],
          [
           "Acidic Slime"
          ],
          [
           "Frost Titan"
          ],
          [
           "Zealous Conscripts"
          ],
          [
           "Elixir of Immortality"
          ],
          [
           "Imprisoned in the Moon"
          ]
         ],
         "hovertemplate": "Number of Copies (Main Deck)=%{x}<br>Win %=%{y}<br>name=%{customdata[0]}<extra></extra>",
         "legendgroup": "",
         "marker": {
          "color": "#636efa",
          "symbol": "circle"
         },
         "mode": "markers",
         "name": "",
         "orientation": "v",
         "showlegend": false,
         "type": "scatter",
         "x": [
          355,
          211,
          183,
          174,
          137,
          124,
          117,
          105,
          91,
          84,
          83,
          82,
          82,
          72,
          68,
          67,
          65,
          61,
          60,
          56,
          56,
          54,
          50,
          46,
          39,
          36,
          34,
          33,
          33,
          33,
          32,
          28,
          24,
          24,
          24,
          24,
          22,
          21,
          20,
          20,
          20,
          19,
          18,
          17,
          17,
          16,
          16,
          16,
          16,
          16,
          16,
          16,
          15,
          14,
          14,
          14,
          13,
          12,
          12,
          12,
          12,
          12,
          12,
          12,
          12,
          12,
          11,
          10,
          10,
          9,
          9,
          8,
          8,
          8,
          8,
          8,
          8,
          8,
          8,
          8,
          8,
          8,
          8,
          7,
          7,
          7,
          6,
          6,
          6,
          6,
          6,
          5,
          4,
          4,
          2
         ],
         "xaxis": "x",
         "y": [
          50,
          49,
          52,
          53,
          51,
          51,
          51,
          51,
          52,
          54,
          49,
          48,
          51,
          49,
          51,
          50,
          50,
          47,
          47,
          48,
          54,
          49,
          44,
          54,
          46,
          49,
          51,
          48,
          45,
          54,
          50,
          56,
          52,
          44,
          48,
          49,
          50,
          48,
          58,
          24,
          59,
          38,
          55,
          59,
          38,
          41,
          57,
          61,
          50,
          50,
          61,
          52,
          45,
          50,
          61,
          57,
          35,
          67,
          59,
          46,
          48,
          59,
          59,
          59,
          24,
          59,
          42,
          56,
          38,
          48,
          59,
          62,
          18,
          46,
          62,
          47,
          50,
          50,
          77,
          54,
          62,
          62,
          18,
          59,
          43,
          37,
          59,
          18,
          61,
          62,
          20,
          62,
          36,
          61,
          77
         ],
         "yaxis": "y"
        }
       ],
       "layout": {
        "legend": {
         "tracegroupgap": 0
        },
        "template": {
         "data": {
          "bar": [
           {
            "error_x": {
             "color": "#2a3f5f"
            },
            "error_y": {
             "color": "#2a3f5f"
            },
            "marker": {
             "line": {
              "color": "#E5ECF6",
              "width": 0.5
             }
            },
            "type": "bar"
           }
          ],
          "barpolar": [
           {
            "marker": {
             "line": {
              "color": "#E5ECF6",
              "width": 0.5
             }
            },
            "type": "barpolar"
           }
          ],
          "carpet": [
           {
            "aaxis": {
             "endlinecolor": "#2a3f5f",
             "gridcolor": "white",
             "linecolor": "white",
             "minorgridcolor": "white",
             "startlinecolor": "#2a3f5f"
            },
            "baxis": {
             "endlinecolor": "#2a3f5f",
             "gridcolor": "white",
             "linecolor": "white",
             "minorgridcolor": "white",
             "startlinecolor": "#2a3f5f"
            },
            "type": "carpet"
           }
          ],
          "choropleth": [
           {
            "colorbar": {
             "outlinewidth": 0,
             "ticks": ""
            },
            "type": "choropleth"
           }
          ],
          "contour": [
           {
            "colorbar": {
             "outlinewidth": 0,
             "ticks": ""
            },
            "colorscale": [
             [
              0,
              "#0d0887"
             ],
             [
              0.1111111111111111,
              "#46039f"
             ],
             [
              0.2222222222222222,
              "#7201a8"
             ],
             [
              0.3333333333333333,
              "#9c179e"
             ],
             [
              0.4444444444444444,
              "#bd3786"
             ],
             [
              0.5555555555555556,
              "#d8576b"
             ],
             [
              0.6666666666666666,
              "#ed7953"
             ],
             [
              0.7777777777777778,
              "#fb9f3a"
             ],
             [
              0.8888888888888888,
              "#fdca26"
             ],
             [
              1,
              "#f0f921"
             ]
            ],
            "type": "contour"
           }
          ],
          "contourcarpet": [
           {
            "colorbar": {
             "outlinewidth": 0,
             "ticks": ""
            },
            "type": "contourcarpet"
           }
          ],
          "heatmap": [
           {
            "colorbar": {
             "outlinewidth": 0,
             "ticks": ""
            },
            "colorscale": [
             [
              0,
              "#0d0887"
             ],
             [
              0.1111111111111111,
              "#46039f"
             ],
             [
              0.2222222222222222,
              "#7201a8"
             ],
             [
              0.3333333333333333,
              "#9c179e"
             ],
             [
              0.4444444444444444,
              "#bd3786"
             ],
             [
              0.5555555555555556,
              "#d8576b"
             ],
             [
              0.6666666666666666,
              "#ed7953"
             ],
             [
              0.7777777777777778,
              "#fb9f3a"
             ],
             [
              0.8888888888888888,
              "#fdca26"
             ],
             [
              1,
              "#f0f921"
             ]
            ],
            "type": "heatmap"
           }
          ],
          "heatmapgl": [
           {
            "colorbar": {
             "outlinewidth": 0,
             "ticks": ""
            },
            "colorscale": [
             [
              0,
              "#0d0887"
             ],
             [
              0.1111111111111111,
              "#46039f"
             ],
             [
              0.2222222222222222,
              "#7201a8"
             ],
             [
              0.3333333333333333,
              "#9c179e"
             ],
             [
              0.4444444444444444,
              "#bd3786"
             ],
             [
              0.5555555555555556,
              "#d8576b"
             ],
             [
              0.6666666666666666,
              "#ed7953"
             ],
             [
              0.7777777777777778,
              "#fb9f3a"
             ],
             [
              0.8888888888888888,
              "#fdca26"
             ],
             [
              1,
              "#f0f921"
             ]
            ],
            "type": "heatmapgl"
           }
          ],
          "histogram": [
           {
            "marker": {
             "colorbar": {
              "outlinewidth": 0,
              "ticks": ""
             }
            },
            "type": "histogram"
           }
          ],
          "histogram2d": [
           {
            "colorbar": {
             "outlinewidth": 0,
             "ticks": ""
            },
            "colorscale": [
             [
              0,
              "#0d0887"
             ],
             [
              0.1111111111111111,
              "#46039f"
             ],
             [
              0.2222222222222222,
              "#7201a8"
             ],
             [
              0.3333333333333333,
              "#9c179e"
             ],
             [
              0.4444444444444444,
              "#bd3786"
             ],
             [
              0.5555555555555556,
              "#d8576b"
             ],
             [
              0.6666666666666666,
              "#ed7953"
             ],
             [
              0.7777777777777778,
              "#fb9f3a"
             ],
             [
              0.8888888888888888,
              "#fdca26"
             ],
             [
              1,
              "#f0f921"
             ]
            ],
            "type": "histogram2d"
           }
          ],
          "histogram2dcontour": [
           {
            "colorbar": {
             "outlinewidth": 0,
             "ticks": ""
            },
            "colorscale": [
             [
              0,
              "#0d0887"
             ],
             [
              0.1111111111111111,
              "#46039f"
             ],
             [
              0.2222222222222222,
              "#7201a8"
             ],
             [
              0.3333333333333333,
              "#9c179e"
             ],
             [
              0.4444444444444444,
              "#bd3786"
             ],
             [
              0.5555555555555556,
              "#d8576b"
             ],
             [
              0.6666666666666666,
              "#ed7953"
             ],
             [
              0.7777777777777778,
              "#fb9f3a"
             ],
             [
              0.8888888888888888,
              "#fdca26"
             ],
             [
              1,
              "#f0f921"
             ]
            ],
            "type": "histogram2dcontour"
           }
          ],
          "mesh3d": [
           {
            "colorbar": {
             "outlinewidth": 0,
             "ticks": ""
            },
            "type": "mesh3d"
           }
          ],
          "parcoords": [
           {
            "line": {
             "colorbar": {
              "outlinewidth": 0,
              "ticks": ""
             }
            },
            "type": "parcoords"
           }
          ],
          "pie": [
           {
            "automargin": true,
            "type": "pie"
           }
          ],
          "scatter": [
           {
            "marker": {
             "colorbar": {
              "outlinewidth": 0,
              "ticks": ""
             }
            },
            "type": "scatter"
           }
          ],
          "scatter3d": [
           {
            "line": {
             "colorbar": {
              "outlinewidth": 0,
              "ticks": ""
             }
            },
            "marker": {
             "colorbar": {
              "outlinewidth": 0,
              "ticks": ""
             }
            },
            "type": "scatter3d"
           }
          ],
          "scattercarpet": [
           {
            "marker": {
             "colorbar": {
              "outlinewidth": 0,
              "ticks": ""
             }
            },
            "type": "scattercarpet"
           }
          ],
          "scattergeo": [
           {
            "marker": {
             "colorbar": {
              "outlinewidth": 0,
              "ticks": ""
             }
            },
            "type": "scattergeo"
           }
          ],
          "scattergl": [
           {
            "marker": {
             "colorbar": {
              "outlinewidth": 0,
              "ticks": ""
             }
            },
            "type": "scattergl"
           }
          ],
          "scattermapbox": [
           {
            "marker": {
             "colorbar": {
              "outlinewidth": 0,
              "ticks": ""
             }
            },
            "type": "scattermapbox"
           }
          ],
          "scatterpolar": [
           {
            "marker": {
             "colorbar": {
              "outlinewidth": 0,
              "ticks": ""
             }
            },
            "type": "scatterpolar"
           }
          ],
          "scatterpolargl": [
           {
            "marker": {
             "colorbar": {
              "outlinewidth": 0,
              "ticks": ""
             }
            },
            "type": "scatterpolargl"
           }
          ],
          "scatterternary": [
           {
            "marker": {
             "colorbar": {
              "outlinewidth": 0,
              "ticks": ""
             }
            },
            "type": "scatterternary"
           }
          ],
          "surface": [
           {
            "colorbar": {
             "outlinewidth": 0,
             "ticks": ""
            },
            "colorscale": [
             [
              0,
              "#0d0887"
             ],
             [
              0.1111111111111111,
              "#46039f"
             ],
             [
              0.2222222222222222,
              "#7201a8"
             ],
             [
              0.3333333333333333,
              "#9c179e"
             ],
             [
              0.4444444444444444,
              "#bd3786"
             ],
             [
              0.5555555555555556,
              "#d8576b"
             ],
             [
              0.6666666666666666,
              "#ed7953"
             ],
             [
              0.7777777777777778,
              "#fb9f3a"
             ],
             [
              0.8888888888888888,
              "#fdca26"
             ],
             [
              1,
              "#f0f921"
             ]
            ],
            "type": "surface"
           }
          ],
          "table": [
           {
            "cells": {
             "fill": {
              "color": "#EBF0F8"
             },
             "line": {
              "color": "white"
             }
            },
            "header": {
             "fill": {
              "color": "#C8D4E3"
             },
             "line": {
              "color": "white"
             }
            },
            "type": "table"
           }
          ]
         },
         "layout": {
          "annotationdefaults": {
           "arrowcolor": "#2a3f5f",
           "arrowhead": 0,
           "arrowwidth": 1
          },
          "autotypenumbers": "strict",
          "coloraxis": {
           "colorbar": {
            "outlinewidth": 0,
            "ticks": ""
           }
          },
          "colorscale": {
           "diverging": [
            [
             0,
             "#8e0152"
            ],
            [
             0.1,
             "#c51b7d"
            ],
            [
             0.2,
             "#de77ae"
            ],
            [
             0.3,
             "#f1b6da"
            ],
            [
             0.4,
             "#fde0ef"
            ],
            [
             0.5,
             "#f7f7f7"
            ],
            [
             0.6,
             "#e6f5d0"
            ],
            [
             0.7,
             "#b8e186"
            ],
            [
             0.8,
             "#7fbc41"
            ],
            [
             0.9,
             "#4d9221"
            ],
            [
             1,
             "#276419"
            ]
           ],
           "sequential": [
            [
             0,
             "#0d0887"
            ],
            [
             0.1111111111111111,
             "#46039f"
            ],
            [
             0.2222222222222222,
             "#7201a8"
            ],
            [
             0.3333333333333333,
             "#9c179e"
            ],
            [
             0.4444444444444444,
             "#bd3786"
            ],
            [
             0.5555555555555556,
             "#d8576b"
            ],
            [
             0.6666666666666666,
             "#ed7953"
            ],
            [
             0.7777777777777778,
             "#fb9f3a"
            ],
            [
             0.8888888888888888,
             "#fdca26"
            ],
            [
             1,
             "#f0f921"
            ]
           ],
           "sequentialminus": [
            [
             0,
             "#0d0887"
            ],
            [
             0.1111111111111111,
             "#46039f"
            ],
            [
             0.2222222222222222,
             "#7201a8"
            ],
            [
             0.3333333333333333,
             "#9c179e"
            ],
            [
             0.4444444444444444,
             "#bd3786"
            ],
            [
             0.5555555555555556,
             "#d8576b"
            ],
            [
             0.6666666666666666,
             "#ed7953"
            ],
            [
             0.7777777777777778,
             "#fb9f3a"
            ],
            [
             0.8888888888888888,
             "#fdca26"
            ],
            [
             1,
             "#f0f921"
            ]
           ]
          },
          "colorway": [
           "#636efa",
           "#EF553B",
           "#00cc96",
           "#ab63fa",
           "#FFA15A",
           "#19d3f3",
           "#FF6692",
           "#B6E880",
           "#FF97FF",
           "#FECB52"
          ],
          "font": {
           "color": "#2a3f5f"
          },
          "geo": {
           "bgcolor": "white",
           "lakecolor": "white",
           "landcolor": "#E5ECF6",
           "showlakes": true,
           "showland": true,
           "subunitcolor": "white"
          },
          "hoverlabel": {
           "align": "left"
          },
          "hovermode": "closest",
          "mapbox": {
           "style": "light"
          },
          "paper_bgcolor": "white",
          "plot_bgcolor": "#E5ECF6",
          "polar": {
           "angularaxis": {
            "gridcolor": "white",
            "linecolor": "white",
            "ticks": ""
           },
           "bgcolor": "#E5ECF6",
           "radialaxis": {
            "gridcolor": "white",
            "linecolor": "white",
            "ticks": ""
           }
          },
          "scene": {
           "xaxis": {
            "backgroundcolor": "#E5ECF6",
            "gridcolor": "white",
            "gridwidth": 2,
            "linecolor": "white",
            "showbackground": true,
            "ticks": "",
            "zerolinecolor": "white"
           },
           "yaxis": {
            "backgroundcolor": "#E5ECF6",
            "gridcolor": "white",
            "gridwidth": 2,
            "linecolor": "white",
            "showbackground": true,
            "ticks": "",
            "zerolinecolor": "white"
           },
           "zaxis": {
            "backgroundcolor": "#E5ECF6",
            "gridcolor": "white",
            "gridwidth": 2,
            "linecolor": "white",
            "showbackground": true,
            "ticks": "",
            "zerolinecolor": "white"
           }
          },
          "shapedefaults": {
           "line": {
            "color": "#2a3f5f"
           }
          },
          "ternary": {
           "aaxis": {
            "gridcolor": "white",
            "linecolor": "white",
            "ticks": ""
           },
           "baxis": {
            "gridcolor": "white",
            "linecolor": "white",
            "ticks": ""
           },
           "bgcolor": "#E5ECF6",
           "caxis": {
            "gridcolor": "white",
            "linecolor": "white",
            "ticks": ""
           }
          },
          "title": {
           "x": 0.05
          },
          "xaxis": {
           "automargin": true,
           "gridcolor": "white",
           "linecolor": "white",
           "ticks": "",
           "title": {
            "standoff": 15
           },
           "zerolinecolor": "white",
           "zerolinewidth": 2
          },
          "yaxis": {
           "automargin": true,
           "gridcolor": "white",
           "linecolor": "white",
           "ticks": "",
           "title": {
            "standoff": 15
           },
           "zerolinecolor": "white",
           "zerolinewidth": 2
          }
         }
        },
        "title": {
         "text": "3223"
        },
        "xaxis": {
         "anchor": "y",
         "domain": [
          0,
          1
         ],
         "title": {
          "text": "Number of Copies (Main Deck)"
         }
        },
        "yaxis": {
         "anchor": "x",
         "domain": [
          0,
          1
         ],
         "title": {
          "text": "Win %"
         }
        }
       }
      },
      "text/html": [
       "<div>                            <div id=\"6351f948-22f9-4cd5-aa3a-35331987a554\" class=\"plotly-graph-div\" style=\"height:525px; width:100%;\"></div>            <script type=\"text/javascript\">                require([\"plotly\"], function(Plotly) {                    window.PLOTLYENV=window.PLOTLYENV || {};                                    if (document.getElementById(\"6351f948-22f9-4cd5-aa3a-35331987a554\")) {                    Plotly.newPlot(                        \"6351f948-22f9-4cd5-aa3a-35331987a554\",                        [{\"customdata\": [[\"Mountain\"], [\"Lightning Bolt\"], [\"Arid Mesa\"], [\"Scalding Tarn\"], [\"Stomping Ground\"], [\"Primeval Titan\"], [\"Valakut, the Molten Pinnacle\"], [\"Harrow\"], [\"Inferno Titan\"], [\"Khalni Heart Expedition\"], [\"Plains\"], [\"Lotus Cobra\"], [\"Gruul Signet\"], [\"Preordain\"], [\"Forest\"], [\"Steam Vents\"], [\"Misty Rainforest\"], [\"Oracle of Mul Daya\"], [\"Island\"], [\"Mana Leak\"], [\"Figure of Destiny\"], [\"Burst Lightning\"], [\"Obstinate Baloth\"], [\"Cultivate\"], [\"Verdant Catacombs\"], [\"Glacial Fortress\"], [\"Pyroclasm\"], [\"Marsh Flats\"], [\"Electrolyze\"], [\"Bonfire of the Damned\"], [\"Condemn\"], [\"Goblin Guide\"], [\"Summoning Trap\"], [\"Godless Shrine\"], [\"Day of Judgment\"], [\"Birds of Paradise\"], [\"Bedlam Reveler\"], [\"Cavern of Souls\"], [\"Vexing Devil\"], [\"Swamp\"], [\"Steppe Lynx\"], [\"Rugged Prairie\"], [\"Incendiary Flow\"], [\"Quicken\"], [\"Baneslayer Angel\"], [\"Take Inventory\"], [\"Selfless Spirit\"], [\"Sejiri Refuge\"], [\"Plated Geopede\"], [\"Pillar of Flame\"], [\"Leyline of Sanctity\"], [\"Cancel\"], [\"Grapple with the Past\"], [\"Llanowar Elves\"], [\"Foresee\"], [\"Blessed Alliance\"], [\"Eldritch Evolution\"], [\"Thermo-Alchemist\"], [\"Squadron Hawk\"], [\"Pyromancer Ascension\"], [\"Jace's Ingenuity\"], [\"Honor of the Pure\"], [\"Gwyllion Hedge-Mage\"], [\"Elite Vanguard\"], [\"Doom Blade\"], [\"Brave the Elements\"], [\"Hanweir Battlements\"], [\"Giant Solifuge\"], [\"Collective Defiance\"], [\"Cascade Bluffs\"], [\"Ajani Goldmane\"], [\"Wistful Selkie\"], [\"Vampire Nighthawk\"], [\"Unsubstantiate\"], [\"Sylvan Ranger\"], [\"Spreading Seas\"], [\"Spell Queller\"], [\"Restoration Angel\"], [\"Goblin Bushwhacker\"], [\"Garruk Wildspeaker\"], [\"Foul Emissary\"], [\"Elder Deep-Fiend\"], [\"Castigate\"], [\"Teetering Peaks\"], [\"Gruul Turf\"], [\"Emrakul, the Promised End\"], [\"Thalia, Heretic Cathar\"], [\"Mortify\"], [\"Entreat the Angels\"], [\"Desolate Lighthouse\"], [\"Acidic Slime\"], [\"Frost Titan\"], [\"Zealous Conscripts\"], [\"Elixir of Immortality\"], [\"Imprisoned in the Moon\"]], \"hovertemplate\": \"Number of Copies (Main Deck)=%{x}<br>Win %=%{y}<br>name=%{customdata[0]}<extra></extra>\", \"legendgroup\": \"\", \"marker\": {\"color\": \"#636efa\", \"symbol\": \"circle\"}, \"mode\": \"markers\", \"name\": \"\", \"orientation\": \"v\", \"showlegend\": false, \"type\": \"scatter\", \"x\": [355, 211, 183, 174, 137, 124, 117, 105, 91, 84, 83, 82, 82, 72, 68, 67, 65, 61, 60, 56, 56, 54, 50, 46, 39, 36, 34, 33, 33, 33, 32, 28, 24, 24, 24, 24, 22, 21, 20, 20, 20, 19, 18, 17, 17, 16, 16, 16, 16, 16, 16, 16, 15, 14, 14, 14, 13, 12, 12, 12, 12, 12, 12, 12, 12, 12, 11, 10, 10, 9, 9, 8, 8, 8, 8, 8, 8, 8, 8, 8, 8, 8, 8, 7, 7, 7, 6, 6, 6, 6, 6, 5, 4, 4, 2], \"xaxis\": \"x\", \"y\": [50.0, 49.0, 52.0, 53.0, 51.0, 51.0, 51.0, 51.0, 52.0, 54.0, 49.0, 48.0, 51.0, 49.0, 51.0, 50.0, 50.0, 47.0, 47.0, 48.0, 54.0, 49.0, 44.0, 54.0, 46.0, 49.0, 51.0, 48.0, 45.0, 54.0, 50.0, 56.0, 52.0, 44.0, 48.0, 49.0, 50.0, 48.0, 58.0, 24.0, 59.0, 38.0, 55.0, 59.0, 38.0, 41.0, 57.0, 61.0, 50.0, 50.0, 61.0, 52.0, 45.0, 50.0, 61.0, 57.0, 35.0, 67.0, 59.0, 46.0, 48.0, 59.0, 59.0, 59.0, 24.0, 59.0, 42.0, 56.0, 38.0, 48.0, 59.0, 62.0, 18.0, 46.0, 62.0, 47.0, 50.0, 50.0, 77.0, 54.0, 62.0, 62.0, 18.0, 59.0, 43.0, 37.0, 59.0, 18.0, 61.0, 62.0, 20.0, 62.0, 36.0, 61.0, 77.0], \"yaxis\": \"y\"}],                        {\"legend\": {\"tracegroupgap\": 0}, \"template\": {\"data\": {\"bar\": [{\"error_x\": {\"color\": \"#2a3f5f\"}, \"error_y\": {\"color\": \"#2a3f5f\"}, \"marker\": {\"line\": {\"color\": \"#E5ECF6\", \"width\": 0.5}}, \"type\": \"bar\"}], \"barpolar\": [{\"marker\": {\"line\": {\"color\": \"#E5ECF6\", \"width\": 0.5}}, \"type\": \"barpolar\"}], \"carpet\": [{\"aaxis\": {\"endlinecolor\": \"#2a3f5f\", \"gridcolor\": \"white\", \"linecolor\": \"white\", \"minorgridcolor\": \"white\", \"startlinecolor\": \"#2a3f5f\"}, \"baxis\": {\"endlinecolor\": \"#2a3f5f\", \"gridcolor\": \"white\", \"linecolor\": \"white\", \"minorgridcolor\": \"white\", \"startlinecolor\": \"#2a3f5f\"}, \"type\": \"carpet\"}], \"choropleth\": [{\"colorbar\": {\"outlinewidth\": 0, \"ticks\": \"\"}, \"type\": \"choropleth\"}], \"contour\": [{\"colorbar\": {\"outlinewidth\": 0, \"ticks\": \"\"}, \"colorscale\": [[0.0, \"#0d0887\"], [0.1111111111111111, \"#46039f\"], [0.2222222222222222, \"#7201a8\"], [0.3333333333333333, \"#9c179e\"], [0.4444444444444444, \"#bd3786\"], [0.5555555555555556, \"#d8576b\"], [0.6666666666666666, \"#ed7953\"], [0.7777777777777778, \"#fb9f3a\"], [0.8888888888888888, \"#fdca26\"], [1.0, \"#f0f921\"]], \"type\": \"contour\"}], \"contourcarpet\": [{\"colorbar\": {\"outlinewidth\": 0, \"ticks\": \"\"}, \"type\": \"contourcarpet\"}], \"heatmap\": [{\"colorbar\": {\"outlinewidth\": 0, \"ticks\": \"\"}, \"colorscale\": [[0.0, \"#0d0887\"], [0.1111111111111111, \"#46039f\"], [0.2222222222222222, \"#7201a8\"], [0.3333333333333333, \"#9c179e\"], [0.4444444444444444, \"#bd3786\"], [0.5555555555555556, \"#d8576b\"], [0.6666666666666666, \"#ed7953\"], [0.7777777777777778, \"#fb9f3a\"], [0.8888888888888888, \"#fdca26\"], [1.0, \"#f0f921\"]], \"type\": \"heatmap\"}], \"heatmapgl\": [{\"colorbar\": {\"outlinewidth\": 0, \"ticks\": \"\"}, \"colorscale\": [[0.0, \"#0d0887\"], [0.1111111111111111, \"#46039f\"], [0.2222222222222222, \"#7201a8\"], [0.3333333333333333, \"#9c179e\"], [0.4444444444444444, \"#bd3786\"], [0.5555555555555556, \"#d8576b\"], [0.6666666666666666, \"#ed7953\"], [0.7777777777777778, \"#fb9f3a\"], [0.8888888888888888, \"#fdca26\"], [1.0, \"#f0f921\"]], \"type\": \"heatmapgl\"}], \"histogram\": [{\"marker\": {\"colorbar\": {\"outlinewidth\": 0, \"ticks\": \"\"}}, \"type\": \"histogram\"}], \"histogram2d\": [{\"colorbar\": {\"outlinewidth\": 0, \"ticks\": \"\"}, \"colorscale\": [[0.0, \"#0d0887\"], [0.1111111111111111, \"#46039f\"], [0.2222222222222222, \"#7201a8\"], [0.3333333333333333, \"#9c179e\"], [0.4444444444444444, \"#bd3786\"], [0.5555555555555556, \"#d8576b\"], [0.6666666666666666, \"#ed7953\"], [0.7777777777777778, \"#fb9f3a\"], [0.8888888888888888, \"#fdca26\"], [1.0, \"#f0f921\"]], \"type\": \"histogram2d\"}], \"histogram2dcontour\": [{\"colorbar\": {\"outlinewidth\": 0, \"ticks\": \"\"}, \"colorscale\": [[0.0, \"#0d0887\"], [0.1111111111111111, \"#46039f\"], [0.2222222222222222, \"#7201a8\"], [0.3333333333333333, \"#9c179e\"], [0.4444444444444444, \"#bd3786\"], [0.5555555555555556, \"#d8576b\"], [0.6666666666666666, \"#ed7953\"], [0.7777777777777778, \"#fb9f3a\"], [0.8888888888888888, \"#fdca26\"], [1.0, \"#f0f921\"]], \"type\": \"histogram2dcontour\"}], \"mesh3d\": [{\"colorbar\": {\"outlinewidth\": 0, \"ticks\": \"\"}, \"type\": \"mesh3d\"}], \"parcoords\": [{\"line\": {\"colorbar\": {\"outlinewidth\": 0, \"ticks\": \"\"}}, \"type\": \"parcoords\"}], \"pie\": [{\"automargin\": true, \"type\": \"pie\"}], \"scatter\": [{\"marker\": {\"colorbar\": {\"outlinewidth\": 0, \"ticks\": \"\"}}, \"type\": \"scatter\"}], \"scatter3d\": [{\"line\": {\"colorbar\": {\"outlinewidth\": 0, \"ticks\": \"\"}}, \"marker\": {\"colorbar\": {\"outlinewidth\": 0, \"ticks\": \"\"}}, \"type\": \"scatter3d\"}], \"scattercarpet\": [{\"marker\": {\"colorbar\": {\"outlinewidth\": 0, \"ticks\": \"\"}}, \"type\": \"scattercarpet\"}], \"scattergeo\": [{\"marker\": {\"colorbar\": {\"outlinewidth\": 0, \"ticks\": \"\"}}, \"type\": \"scattergeo\"}], \"scattergl\": [{\"marker\": {\"colorbar\": {\"outlinewidth\": 0, \"ticks\": \"\"}}, \"type\": \"scattergl\"}], \"scattermapbox\": [{\"marker\": {\"colorbar\": {\"outlinewidth\": 0, \"ticks\": \"\"}}, \"type\": \"scattermapbox\"}], \"scatterpolar\": [{\"marker\": {\"colorbar\": {\"outlinewidth\": 0, \"ticks\": \"\"}}, \"type\": \"scatterpolar\"}], \"scatterpolargl\": [{\"marker\": {\"colorbar\": {\"outlinewidth\": 0, \"ticks\": \"\"}}, \"type\": \"scatterpolargl\"}], \"scatterternary\": [{\"marker\": {\"colorbar\": {\"outlinewidth\": 0, \"ticks\": \"\"}}, \"type\": \"scatterternary\"}], \"surface\": [{\"colorbar\": {\"outlinewidth\": 0, \"ticks\": \"\"}, \"colorscale\": [[0.0, \"#0d0887\"], [0.1111111111111111, \"#46039f\"], [0.2222222222222222, \"#7201a8\"], [0.3333333333333333, \"#9c179e\"], [0.4444444444444444, \"#bd3786\"], [0.5555555555555556, \"#d8576b\"], [0.6666666666666666, \"#ed7953\"], [0.7777777777777778, \"#fb9f3a\"], [0.8888888888888888, \"#fdca26\"], [1.0, \"#f0f921\"]], \"type\": \"surface\"}], \"table\": [{\"cells\": {\"fill\": {\"color\": \"#EBF0F8\"}, \"line\": {\"color\": \"white\"}}, \"header\": {\"fill\": {\"color\": \"#C8D4E3\"}, \"line\": {\"color\": \"white\"}}, \"type\": \"table\"}]}, \"layout\": {\"annotationdefaults\": {\"arrowcolor\": \"#2a3f5f\", \"arrowhead\": 0, \"arrowwidth\": 1}, \"autotypenumbers\": \"strict\", \"coloraxis\": {\"colorbar\": {\"outlinewidth\": 0, \"ticks\": \"\"}}, \"colorscale\": {\"diverging\": [[0, \"#8e0152\"], [0.1, \"#c51b7d\"], [0.2, \"#de77ae\"], [0.3, \"#f1b6da\"], [0.4, \"#fde0ef\"], [0.5, \"#f7f7f7\"], [0.6, \"#e6f5d0\"], [0.7, \"#b8e186\"], [0.8, \"#7fbc41\"], [0.9, \"#4d9221\"], [1, \"#276419\"]], \"sequential\": [[0.0, \"#0d0887\"], [0.1111111111111111, \"#46039f\"], [0.2222222222222222, \"#7201a8\"], [0.3333333333333333, \"#9c179e\"], [0.4444444444444444, \"#bd3786\"], [0.5555555555555556, \"#d8576b\"], [0.6666666666666666, \"#ed7953\"], [0.7777777777777778, \"#fb9f3a\"], [0.8888888888888888, \"#fdca26\"], [1.0, \"#f0f921\"]], \"sequentialminus\": [[0.0, \"#0d0887\"], [0.1111111111111111, \"#46039f\"], [0.2222222222222222, \"#7201a8\"], [0.3333333333333333, \"#9c179e\"], [0.4444444444444444, \"#bd3786\"], [0.5555555555555556, \"#d8576b\"], [0.6666666666666666, \"#ed7953\"], [0.7777777777777778, \"#fb9f3a\"], [0.8888888888888888, \"#fdca26\"], [1.0, \"#f0f921\"]]}, \"colorway\": [\"#636efa\", \"#EF553B\", \"#00cc96\", \"#ab63fa\", \"#FFA15A\", \"#19d3f3\", \"#FF6692\", \"#B6E880\", \"#FF97FF\", \"#FECB52\"], \"font\": {\"color\": \"#2a3f5f\"}, \"geo\": {\"bgcolor\": \"white\", \"lakecolor\": \"white\", \"landcolor\": \"#E5ECF6\", \"showlakes\": true, \"showland\": true, \"subunitcolor\": \"white\"}, \"hoverlabel\": {\"align\": \"left\"}, \"hovermode\": \"closest\", \"mapbox\": {\"style\": \"light\"}, \"paper_bgcolor\": \"white\", \"plot_bgcolor\": \"#E5ECF6\", \"polar\": {\"angularaxis\": {\"gridcolor\": \"white\", \"linecolor\": \"white\", \"ticks\": \"\"}, \"bgcolor\": \"#E5ECF6\", \"radialaxis\": {\"gridcolor\": \"white\", \"linecolor\": \"white\", \"ticks\": \"\"}}, \"scene\": {\"xaxis\": {\"backgroundcolor\": \"#E5ECF6\", \"gridcolor\": \"white\", \"gridwidth\": 2, \"linecolor\": \"white\", \"showbackground\": true, \"ticks\": \"\", \"zerolinecolor\": \"white\"}, \"yaxis\": {\"backgroundcolor\": \"#E5ECF6\", \"gridcolor\": \"white\", \"gridwidth\": 2, \"linecolor\": \"white\", \"showbackground\": true, \"ticks\": \"\", \"zerolinecolor\": \"white\"}, \"zaxis\": {\"backgroundcolor\": \"#E5ECF6\", \"gridcolor\": \"white\", \"gridwidth\": 2, \"linecolor\": \"white\", \"showbackground\": true, \"ticks\": \"\", \"zerolinecolor\": \"white\"}}, \"shapedefaults\": {\"line\": {\"color\": \"#2a3f5f\"}}, \"ternary\": {\"aaxis\": {\"gridcolor\": \"white\", \"linecolor\": \"white\", \"ticks\": \"\"}, \"baxis\": {\"gridcolor\": \"white\", \"linecolor\": \"white\", \"ticks\": \"\"}, \"bgcolor\": \"#E5ECF6\", \"caxis\": {\"gridcolor\": \"white\", \"linecolor\": \"white\", \"ticks\": \"\"}}, \"title\": {\"x\": 0.05}, \"xaxis\": {\"automargin\": true, \"gridcolor\": \"white\", \"linecolor\": \"white\", \"ticks\": \"\", \"title\": {\"standoff\": 15}, \"zerolinecolor\": \"white\", \"zerolinewidth\": 2}, \"yaxis\": {\"automargin\": true, \"gridcolor\": \"white\", \"linecolor\": \"white\", \"ticks\": \"\", \"title\": {\"standoff\": 15}, \"zerolinecolor\": \"white\", \"zerolinewidth\": 2}}}, \"title\": {\"text\": \"3223\"}, \"xaxis\": {\"anchor\": \"y\", \"domain\": [0.0, 1.0], \"title\": {\"text\": \"Number of Copies (Main Deck)\"}}, \"yaxis\": {\"anchor\": \"x\", \"domain\": [0.0, 1.0], \"title\": {\"text\": \"Win %\"}}},                        {\"responsive\": true}                    ).then(function(){\n",
       "                            \n",
       "var gd = document.getElementById('6351f948-22f9-4cd5-aa3a-35331987a554');\n",
       "var x = new MutationObserver(function (mutations, observer) {{\n",
       "        var display = window.getComputedStyle(gd).display;\n",
       "        if (!display || display === 'none') {{\n",
       "            console.log([gd, 'removed!']);\n",
       "            Plotly.purge(gd);\n",
       "            observer.disconnect();\n",
       "        }}\n",
       "}});\n",
       "\n",
       "// Listen for the removal of the full notebook cells\n",
       "var notebookContainer = gd.closest('#notebook-container');\n",
       "if (notebookContainer) {{\n",
       "    x.observe(notebookContainer, {childList: true});\n",
       "}}\n",
       "\n",
       "// Listen for the clearing of the current output cell\n",
       "var outputEl = gd.closest('.output');\n",
       "if (outputEl) {{\n",
       "    x.observe(outputEl, {childList: true});\n",
       "}}\n",
       "\n",
       "                        })                };                });            </script>        </div>"
      ]
     },
     "metadata": {},
     "output_type": "display_data"
    },
    {
     "data": {
      "application/vnd.plotly.v1+json": {
       "config": {
        "plotlyServerURL": "https://plot.ly"
       },
       "data": [
        {
         "customdata": [
          [
           "Snow-Covered Mountain"
          ],
          [
           "Snow-Covered Forest"
          ],
          [
           "Swamp"
          ],
          [
           "Wasteland"
          ],
          [
           "Plains"
          ],
          [
           "Ancient Tomb"
          ],
          [
           "Chrome Mox"
          ],
          [
           "Island"
          ],
          [
           "Thundermaw Hellkite"
          ],
          [
           "Cursed Scroll"
          ],
          [
           "Great Furnace"
          ],
          [
           "Thragtusk"
          ],
          [
           "Snow-Covered Island"
          ],
          [
           "Shrapnel Blast"
          ],
          [
           "Searing Spear"
          ],
          [
           "Lotus Petal"
          ],
          [
           "Skred"
          ],
          [
           "Solemn Simulacrum"
          ],
          [
           "Seat of the Synod"
          ],
          [
           "Dark Ritual"
          ],
          [
           "Bonesplitter"
          ],
          [
           "Mountain"
          ],
          [
           "Thoughtcast"
          ],
          [
           "Slith Firewalker"
          ],
          [
           "Eidolon of the Great Revel"
          ],
          [
           "Into the North"
          ],
          [
           "Acidic Slime"
          ],
          [
           "Mogg Fanatic"
          ],
          [
           "Jackal Pup"
          ],
          [
           "Gnarled Scarhide"
          ],
          [
           "Dauthi Slayer"
          ],
          [
           "Brain Maggot"
          ],
          [
           "Rootbound Crag"
          ],
          [
           "Glimmervoid"
          ],
          [
           "Coldsteel Heart"
          ],
          [
           "Vault of Whispers"
          ],
          [
           "Mishra's Bauble"
          ],
          [
           "Frogmite"
          ],
          [
           "Chromatic Sphere"
          ],
          [
           "Boreal Druid"
          ],
          [
           "Arbor Elf"
          ],
          [
           "Thirst for Knowledge"
          ],
          [
           "Myr Enforcer"
          ],
          [
           "Dauthi Horror"
          ],
          [
           "Somber Hoverguard"
          ],
          [
           "Scrying Sheets"
          ],
          [
           "Intuition"
          ],
          [
           "Evolving Wilds"
          ],
          [
           "Counterspell"
          ],
          [
           "Seething Song"
          ],
          [
           "Sarcomancy"
          ],
          [
           "Rite of Flame"
          ],
          [
           "Elvish Visionary"
          ],
          [
           "Viridian Shaman"
          ],
          [
           "Ohran Viper"
          ],
          [
           "Garruk, Primal Hunter"
          ],
          [
           "War Falcon"
          ],
          [
           "Stone Rain"
          ],
          [
           "Soltari Trooper"
          ],
          [
           "Soltari Foot Soldier"
          ],
          [
           "Raise the Alarm"
          ],
          [
           "Jinxed Choker"
          ],
          [
           "Talisman of Impulse"
          ],
          [
           "Molten Rain"
          ],
          [
           "Mana Confluence"
          ],
          [
           "Arc-Slogger"
          ],
          [
           "Rune Snag"
          ],
          [
           "Oblivion Ring"
          ],
          [
           "Master of the Feast"
          ],
          [
           "Mana Severance"
          ],
          [
           "Magmaquake"
          ],
          [
           "Knight of Infamy"
          ],
          [
           "Kataki, War's Wage"
          ],
          [
           "Goblin Charbelcher"
          ],
          [
           "Field Marshal"
          ],
          [
           "Duress"
          ],
          [
           "Drowned Catacomb"
          ],
          [
           "Dictate of Kruphix"
          ],
          [
           "Atog"
          ],
          [
           "Ajani, Caller of the Pride"
          ],
          [
           "Vampire Nighthawk"
          ],
          [
           "Ideas Unbound"
          ],
          [
           "Aegis of the Gods"
          ],
          [
           "Nightmare Lash"
          ],
          [
           "Chandra, the Firebrand"
          ],
          [
           "Capsize"
          ],
          [
           "Tormented Soul"
          ],
          [
           "Talisman of Dominance"
          ],
          [
           "Reflecting Pool"
          ],
          [
           "Prophetic Flamespeaker"
          ],
          [
           "Ornithopter"
          ],
          [
           "Living Death"
          ],
          [
           "Kindle"
          ],
          [
           "Highland Weald"
          ],
          [
           "Welding Jar"
          ],
          [
           "Mask of Memory"
          ],
          [
           "Jace, Memory Adept"
          ],
          [
           "Elixir of Immortality"
          ],
          [
           "Auriok Steelshaper"
          ],
          [
           "Sublime Archangel"
          ],
          [
           "Reanimate"
          ],
          [
           "Murder"
          ],
          [
           "Loxodon Warhammer"
          ],
          [
           "Elderscale Wurm"
          ],
          [
           "Staff of Nin"
          ],
          [
           "Pithing Needle"
          ],
          [
           "Dictate of Heliod"
          ],
          [
           "Crusader of Odric"
          ],
          [
           "Tomb of Urami"
          ],
          [
           "Pyrite Spellbomb"
          ],
          [
           "Mouth of Ronom"
          ],
          [
           "Mind's Eye"
          ],
          [
           "Launch the Fleet"
          ],
          [
           "Isochron Scepter"
          ],
          [
           "Garza's Assassin"
          ],
          [
           "Banishing Light"
          ],
          [
           "Hall of Triumph"
          ],
          [
           "Duplicant"
          ]
         ],
         "hovertemplate": "Number of Copies (Main Deck)=%{x}<br>Win %=%{y}<br>name=%{customdata[0]}<extra></extra>",
         "legendgroup": "",
         "marker": {
          "color": "#636efa",
          "symbol": "circle"
         },
         "mode": "markers",
         "name": "",
         "orientation": "v",
         "showlegend": false,
         "type": "scatter",
         "x": [
          175,
          129,
          95,
          78,
          73,
          67,
          61,
          57,
          56,
          55,
          50,
          49,
          48,
          47,
          46,
          44,
          41,
          39,
          36,
          36,
          36,
          33,
          32,
          32,
          32,
          30,
          29,
          28,
          28,
          28,
          28,
          27,
          26,
          26,
          25,
          24,
          24,
          24,
          24,
          24,
          24,
          23,
          23,
          23,
          22,
          22,
          22,
          22,
          21,
          20,
          20,
          20,
          20,
          18,
          18,
          18,
          16,
          16,
          16,
          16,
          16,
          16,
          15,
          14,
          14,
          13,
          12,
          12,
          12,
          12,
          12,
          12,
          12,
          12,
          12,
          12,
          12,
          12,
          12,
          11,
          10,
          10,
          10,
          9,
          9,
          9,
          8,
          8,
          8,
          8,
          8,
          8,
          8,
          8,
          7,
          7,
          7,
          7,
          7,
          6,
          6,
          6,
          6,
          6,
          5,
          5,
          5,
          5,
          4,
          4,
          4,
          4,
          4,
          4,
          4,
          4,
          2,
          2
         ],
         "xaxis": "x",
         "y": [
          49,
          46,
          49,
          48,
          57,
          49,
          56,
          57,
          53,
          49,
          55,
          50,
          35,
          54,
          50,
          49,
          46,
          51,
          44,
          52,
          55,
          59,
          47,
          56,
          56,
          44,
          50,
          57,
          58,
          44,
          44,
          41,
          46,
          48,
          45,
          42,
          39,
          48,
          39,
          52,
          56,
          56,
          48,
          44,
          48,
          40,
          53,
          52,
          43,
          50,
          43,
          50,
          50,
          50,
          50,
          44,
          64,
          44,
          64,
          64,
          55,
          60,
          48,
          44,
          30,
          50,
          50,
          35,
          43,
          36,
          55,
          48,
          57,
          36,
          61,
          41,
          63,
          33,
          44,
          56,
          42,
          63,
          41,
          45,
          47,
          40,
          45,
          60,
          46,
          50,
          67,
          69,
          55,
          42,
          50,
          45,
          40,
          18,
          58,
          62,
          75,
          43,
          46,
          75,
          42,
          55,
          60,
          67,
          42,
          45,
          52,
          55,
          58,
          55,
          45,
          50,
          58,
          80
         ],
         "yaxis": "y"
        }
       ],
       "layout": {
        "legend": {
         "tracegroupgap": 0
        },
        "template": {
         "data": {
          "bar": [
           {
            "error_x": {
             "color": "#2a3f5f"
            },
            "error_y": {
             "color": "#2a3f5f"
            },
            "marker": {
             "line": {
              "color": "#E5ECF6",
              "width": 0.5
             }
            },
            "type": "bar"
           }
          ],
          "barpolar": [
           {
            "marker": {
             "line": {
              "color": "#E5ECF6",
              "width": 0.5
             }
            },
            "type": "barpolar"
           }
          ],
          "carpet": [
           {
            "aaxis": {
             "endlinecolor": "#2a3f5f",
             "gridcolor": "white",
             "linecolor": "white",
             "minorgridcolor": "white",
             "startlinecolor": "#2a3f5f"
            },
            "baxis": {
             "endlinecolor": "#2a3f5f",
             "gridcolor": "white",
             "linecolor": "white",
             "minorgridcolor": "white",
             "startlinecolor": "#2a3f5f"
            },
            "type": "carpet"
           }
          ],
          "choropleth": [
           {
            "colorbar": {
             "outlinewidth": 0,
             "ticks": ""
            },
            "type": "choropleth"
           }
          ],
          "contour": [
           {
            "colorbar": {
             "outlinewidth": 0,
             "ticks": ""
            },
            "colorscale": [
             [
              0,
              "#0d0887"
             ],
             [
              0.1111111111111111,
              "#46039f"
             ],
             [
              0.2222222222222222,
              "#7201a8"
             ],
             [
              0.3333333333333333,
              "#9c179e"
             ],
             [
              0.4444444444444444,
              "#bd3786"
             ],
             [
              0.5555555555555556,
              "#d8576b"
             ],
             [
              0.6666666666666666,
              "#ed7953"
             ],
             [
              0.7777777777777778,
              "#fb9f3a"
             ],
             [
              0.8888888888888888,
              "#fdca26"
             ],
             [
              1,
              "#f0f921"
             ]
            ],
            "type": "contour"
           }
          ],
          "contourcarpet": [
           {
            "colorbar": {
             "outlinewidth": 0,
             "ticks": ""
            },
            "type": "contourcarpet"
           }
          ],
          "heatmap": [
           {
            "colorbar": {
             "outlinewidth": 0,
             "ticks": ""
            },
            "colorscale": [
             [
              0,
              "#0d0887"
             ],
             [
              0.1111111111111111,
              "#46039f"
             ],
             [
              0.2222222222222222,
              "#7201a8"
             ],
             [
              0.3333333333333333,
              "#9c179e"
             ],
             [
              0.4444444444444444,
              "#bd3786"
             ],
             [
              0.5555555555555556,
              "#d8576b"
             ],
             [
              0.6666666666666666,
              "#ed7953"
             ],
             [
              0.7777777777777778,
              "#fb9f3a"
             ],
             [
              0.8888888888888888,
              "#fdca26"
             ],
             [
              1,
              "#f0f921"
             ]
            ],
            "type": "heatmap"
           }
          ],
          "heatmapgl": [
           {
            "colorbar": {
             "outlinewidth": 0,
             "ticks": ""
            },
            "colorscale": [
             [
              0,
              "#0d0887"
             ],
             [
              0.1111111111111111,
              "#46039f"
             ],
             [
              0.2222222222222222,
              "#7201a8"
             ],
             [
              0.3333333333333333,
              "#9c179e"
             ],
             [
              0.4444444444444444,
              "#bd3786"
             ],
             [
              0.5555555555555556,
              "#d8576b"
             ],
             [
              0.6666666666666666,
              "#ed7953"
             ],
             [
              0.7777777777777778,
              "#fb9f3a"
             ],
             [
              0.8888888888888888,
              "#fdca26"
             ],
             [
              1,
              "#f0f921"
             ]
            ],
            "type": "heatmapgl"
           }
          ],
          "histogram": [
           {
            "marker": {
             "colorbar": {
              "outlinewidth": 0,
              "ticks": ""
             }
            },
            "type": "histogram"
           }
          ],
          "histogram2d": [
           {
            "colorbar": {
             "outlinewidth": 0,
             "ticks": ""
            },
            "colorscale": [
             [
              0,
              "#0d0887"
             ],
             [
              0.1111111111111111,
              "#46039f"
             ],
             [
              0.2222222222222222,
              "#7201a8"
             ],
             [
              0.3333333333333333,
              "#9c179e"
             ],
             [
              0.4444444444444444,
              "#bd3786"
             ],
             [
              0.5555555555555556,
              "#d8576b"
             ],
             [
              0.6666666666666666,
              "#ed7953"
             ],
             [
              0.7777777777777778,
              "#fb9f3a"
             ],
             [
              0.8888888888888888,
              "#fdca26"
             ],
             [
              1,
              "#f0f921"
             ]
            ],
            "type": "histogram2d"
           }
          ],
          "histogram2dcontour": [
           {
            "colorbar": {
             "outlinewidth": 0,
             "ticks": ""
            },
            "colorscale": [
             [
              0,
              "#0d0887"
             ],
             [
              0.1111111111111111,
              "#46039f"
             ],
             [
              0.2222222222222222,
              "#7201a8"
             ],
             [
              0.3333333333333333,
              "#9c179e"
             ],
             [
              0.4444444444444444,
              "#bd3786"
             ],
             [
              0.5555555555555556,
              "#d8576b"
             ],
             [
              0.6666666666666666,
              "#ed7953"
             ],
             [
              0.7777777777777778,
              "#fb9f3a"
             ],
             [
              0.8888888888888888,
              "#fdca26"
             ],
             [
              1,
              "#f0f921"
             ]
            ],
            "type": "histogram2dcontour"
           }
          ],
          "mesh3d": [
           {
            "colorbar": {
             "outlinewidth": 0,
             "ticks": ""
            },
            "type": "mesh3d"
           }
          ],
          "parcoords": [
           {
            "line": {
             "colorbar": {
              "outlinewidth": 0,
              "ticks": ""
             }
            },
            "type": "parcoords"
           }
          ],
          "pie": [
           {
            "automargin": true,
            "type": "pie"
           }
          ],
          "scatter": [
           {
            "marker": {
             "colorbar": {
              "outlinewidth": 0,
              "ticks": ""
             }
            },
            "type": "scatter"
           }
          ],
          "scatter3d": [
           {
            "line": {
             "colorbar": {
              "outlinewidth": 0,
              "ticks": ""
             }
            },
            "marker": {
             "colorbar": {
              "outlinewidth": 0,
              "ticks": ""
             }
            },
            "type": "scatter3d"
           }
          ],
          "scattercarpet": [
           {
            "marker": {
             "colorbar": {
              "outlinewidth": 0,
              "ticks": ""
             }
            },
            "type": "scattercarpet"
           }
          ],
          "scattergeo": [
           {
            "marker": {
             "colorbar": {
              "outlinewidth": 0,
              "ticks": ""
             }
            },
            "type": "scattergeo"
           }
          ],
          "scattergl": [
           {
            "marker": {
             "colorbar": {
              "outlinewidth": 0,
              "ticks": ""
             }
            },
            "type": "scattergl"
           }
          ],
          "scattermapbox": [
           {
            "marker": {
             "colorbar": {
              "outlinewidth": 0,
              "ticks": ""
             }
            },
            "type": "scattermapbox"
           }
          ],
          "scatterpolar": [
           {
            "marker": {
             "colorbar": {
              "outlinewidth": 0,
              "ticks": ""
             }
            },
            "type": "scatterpolar"
           }
          ],
          "scatterpolargl": [
           {
            "marker": {
             "colorbar": {
              "outlinewidth": 0,
              "ticks": ""
             }
            },
            "type": "scatterpolargl"
           }
          ],
          "scatterternary": [
           {
            "marker": {
             "colorbar": {
              "outlinewidth": 0,
              "ticks": ""
             }
            },
            "type": "scatterternary"
           }
          ],
          "surface": [
           {
            "colorbar": {
             "outlinewidth": 0,
             "ticks": ""
            },
            "colorscale": [
             [
              0,
              "#0d0887"
             ],
             [
              0.1111111111111111,
              "#46039f"
             ],
             [
              0.2222222222222222,
              "#7201a8"
             ],
             [
              0.3333333333333333,
              "#9c179e"
             ],
             [
              0.4444444444444444,
              "#bd3786"
             ],
             [
              0.5555555555555556,
              "#d8576b"
             ],
             [
              0.6666666666666666,
              "#ed7953"
             ],
             [
              0.7777777777777778,
              "#fb9f3a"
             ],
             [
              0.8888888888888888,
              "#fdca26"
             ],
             [
              1,
              "#f0f921"
             ]
            ],
            "type": "surface"
           }
          ],
          "table": [
           {
            "cells": {
             "fill": {
              "color": "#EBF0F8"
             },
             "line": {
              "color": "white"
             }
            },
            "header": {
             "fill": {
              "color": "#C8D4E3"
             },
             "line": {
              "color": "white"
             }
            },
            "type": "table"
           }
          ]
         },
         "layout": {
          "annotationdefaults": {
           "arrowcolor": "#2a3f5f",
           "arrowhead": 0,
           "arrowwidth": 1
          },
          "autotypenumbers": "strict",
          "coloraxis": {
           "colorbar": {
            "outlinewidth": 0,
            "ticks": ""
           }
          },
          "colorscale": {
           "diverging": [
            [
             0,
             "#8e0152"
            ],
            [
             0.1,
             "#c51b7d"
            ],
            [
             0.2,
             "#de77ae"
            ],
            [
             0.3,
             "#f1b6da"
            ],
            [
             0.4,
             "#fde0ef"
            ],
            [
             0.5,
             "#f7f7f7"
            ],
            [
             0.6,
             "#e6f5d0"
            ],
            [
             0.7,
             "#b8e186"
            ],
            [
             0.8,
             "#7fbc41"
            ],
            [
             0.9,
             "#4d9221"
            ],
            [
             1,
             "#276419"
            ]
           ],
           "sequential": [
            [
             0,
             "#0d0887"
            ],
            [
             0.1111111111111111,
             "#46039f"
            ],
            [
             0.2222222222222222,
             "#7201a8"
            ],
            [
             0.3333333333333333,
             "#9c179e"
            ],
            [
             0.4444444444444444,
             "#bd3786"
            ],
            [
             0.5555555555555556,
             "#d8576b"
            ],
            [
             0.6666666666666666,
             "#ed7953"
            ],
            [
             0.7777777777777778,
             "#fb9f3a"
            ],
            [
             0.8888888888888888,
             "#fdca26"
            ],
            [
             1,
             "#f0f921"
            ]
           ],
           "sequentialminus": [
            [
             0,
             "#0d0887"
            ],
            [
             0.1111111111111111,
             "#46039f"
            ],
            [
             0.2222222222222222,
             "#7201a8"
            ],
            [
             0.3333333333333333,
             "#9c179e"
            ],
            [
             0.4444444444444444,
             "#bd3786"
            ],
            [
             0.5555555555555556,
             "#d8576b"
            ],
            [
             0.6666666666666666,
             "#ed7953"
            ],
            [
             0.7777777777777778,
             "#fb9f3a"
            ],
            [
             0.8888888888888888,
             "#fdca26"
            ],
            [
             1,
             "#f0f921"
            ]
           ]
          },
          "colorway": [
           "#636efa",
           "#EF553B",
           "#00cc96",
           "#ab63fa",
           "#FFA15A",
           "#19d3f3",
           "#FF6692",
           "#B6E880",
           "#FF97FF",
           "#FECB52"
          ],
          "font": {
           "color": "#2a3f5f"
          },
          "geo": {
           "bgcolor": "white",
           "lakecolor": "white",
           "landcolor": "#E5ECF6",
           "showlakes": true,
           "showland": true,
           "subunitcolor": "white"
          },
          "hoverlabel": {
           "align": "left"
          },
          "hovermode": "closest",
          "mapbox": {
           "style": "light"
          },
          "paper_bgcolor": "white",
          "plot_bgcolor": "#E5ECF6",
          "polar": {
           "angularaxis": {
            "gridcolor": "white",
            "linecolor": "white",
            "ticks": ""
           },
           "bgcolor": "#E5ECF6",
           "radialaxis": {
            "gridcolor": "white",
            "linecolor": "white",
            "ticks": ""
           }
          },
          "scene": {
           "xaxis": {
            "backgroundcolor": "#E5ECF6",
            "gridcolor": "white",
            "gridwidth": 2,
            "linecolor": "white",
            "showbackground": true,
            "ticks": "",
            "zerolinecolor": "white"
           },
           "yaxis": {
            "backgroundcolor": "#E5ECF6",
            "gridcolor": "white",
            "gridwidth": 2,
            "linecolor": "white",
            "showbackground": true,
            "ticks": "",
            "zerolinecolor": "white"
           },
           "zaxis": {
            "backgroundcolor": "#E5ECF6",
            "gridcolor": "white",
            "gridwidth": 2,
            "linecolor": "white",
            "showbackground": true,
            "ticks": "",
            "zerolinecolor": "white"
           }
          },
          "shapedefaults": {
           "line": {
            "color": "#2a3f5f"
           }
          },
          "ternary": {
           "aaxis": {
            "gridcolor": "white",
            "linecolor": "white",
            "ticks": ""
           },
           "baxis": {
            "gridcolor": "white",
            "linecolor": "white",
            "ticks": ""
           },
           "bgcolor": "#E5ECF6",
           "caxis": {
            "gridcolor": "white",
            "linecolor": "white",
            "ticks": ""
           }
          },
          "title": {
           "x": 0.05
          },
          "xaxis": {
           "automargin": true,
           "gridcolor": "white",
           "linecolor": "white",
           "ticks": "",
           "title": {
            "standoff": 15
           },
           "zerolinecolor": "white",
           "zerolinewidth": 2
          },
          "yaxis": {
           "automargin": true,
           "gridcolor": "white",
           "linecolor": "white",
           "ticks": "",
           "title": {
            "standoff": 15
           },
           "zerolinecolor": "white",
           "zerolinewidth": 2
          }
         }
        },
        "title": {
         "text": "3668"
        },
        "xaxis": {
         "anchor": "y",
         "domain": [
          0,
          1
         ],
         "title": {
          "text": "Number of Copies (Main Deck)"
         }
        },
        "yaxis": {
         "anchor": "x",
         "domain": [
          0,
          1
         ],
         "title": {
          "text": "Win %"
         }
        }
       }
      },
      "text/html": [
       "<div>                            <div id=\"09598360-cf16-4083-b5ee-44f4da731acf\" class=\"plotly-graph-div\" style=\"height:525px; width:100%;\"></div>            <script type=\"text/javascript\">                require([\"plotly\"], function(Plotly) {                    window.PLOTLYENV=window.PLOTLYENV || {};                                    if (document.getElementById(\"09598360-cf16-4083-b5ee-44f4da731acf\")) {                    Plotly.newPlot(                        \"09598360-cf16-4083-b5ee-44f4da731acf\",                        [{\"customdata\": [[\"Snow-Covered Mountain\"], [\"Snow-Covered Forest\"], [\"Swamp\"], [\"Wasteland\"], [\"Plains\"], [\"Ancient Tomb\"], [\"Chrome Mox\"], [\"Island\"], [\"Thundermaw Hellkite\"], [\"Cursed Scroll\"], [\"Great Furnace\"], [\"Thragtusk\"], [\"Snow-Covered Island\"], [\"Shrapnel Blast\"], [\"Searing Spear\"], [\"Lotus Petal\"], [\"Skred\"], [\"Solemn Simulacrum\"], [\"Seat of the Synod\"], [\"Dark Ritual\"], [\"Bonesplitter\"], [\"Mountain\"], [\"Thoughtcast\"], [\"Slith Firewalker\"], [\"Eidolon of the Great Revel\"], [\"Into the North\"], [\"Acidic Slime\"], [\"Mogg Fanatic\"], [\"Jackal Pup\"], [\"Gnarled Scarhide\"], [\"Dauthi Slayer\"], [\"Brain Maggot\"], [\"Rootbound Crag\"], [\"Glimmervoid\"], [\"Coldsteel Heart\"], [\"Vault of Whispers\"], [\"Mishra's Bauble\"], [\"Frogmite\"], [\"Chromatic Sphere\"], [\"Boreal Druid\"], [\"Arbor Elf\"], [\"Thirst for Knowledge\"], [\"Myr Enforcer\"], [\"Dauthi Horror\"], [\"Somber Hoverguard\"], [\"Scrying Sheets\"], [\"Intuition\"], [\"Evolving Wilds\"], [\"Counterspell\"], [\"Seething Song\"], [\"Sarcomancy\"], [\"Rite of Flame\"], [\"Elvish Visionary\"], [\"Viridian Shaman\"], [\"Ohran Viper\"], [\"Garruk, Primal Hunter\"], [\"War Falcon\"], [\"Stone Rain\"], [\"Soltari Trooper\"], [\"Soltari Foot Soldier\"], [\"Raise the Alarm\"], [\"Jinxed Choker\"], [\"Talisman of Impulse\"], [\"Molten Rain\"], [\"Mana Confluence\"], [\"Arc-Slogger\"], [\"Rune Snag\"], [\"Oblivion Ring\"], [\"Master of the Feast\"], [\"Mana Severance\"], [\"Magmaquake\"], [\"Knight of Infamy\"], [\"Kataki, War's Wage\"], [\"Goblin Charbelcher\"], [\"Field Marshal\"], [\"Duress\"], [\"Drowned Catacomb\"], [\"Dictate of Kruphix\"], [\"Atog\"], [\"Ajani, Caller of the Pride\"], [\"Vampire Nighthawk\"], [\"Ideas Unbound\"], [\"Aegis of the Gods\"], [\"Nightmare Lash\"], [\"Chandra, the Firebrand\"], [\"Capsize\"], [\"Tormented Soul\"], [\"Talisman of Dominance\"], [\"Reflecting Pool\"], [\"Prophetic Flamespeaker\"], [\"Ornithopter\"], [\"Living Death\"], [\"Kindle\"], [\"Highland Weald\"], [\"Welding Jar\"], [\"Mask of Memory\"], [\"Jace, Memory Adept\"], [\"Elixir of Immortality\"], [\"Auriok Steelshaper\"], [\"Sublime Archangel\"], [\"Reanimate\"], [\"Murder\"], [\"Loxodon Warhammer\"], [\"Elderscale Wurm\"], [\"Staff of Nin\"], [\"Pithing Needle\"], [\"Dictate of Heliod\"], [\"Crusader of Odric\"], [\"Tomb of Urami\"], [\"Pyrite Spellbomb\"], [\"Mouth of Ronom\"], [\"Mind's Eye\"], [\"Launch the Fleet\"], [\"Isochron Scepter\"], [\"Garza's Assassin\"], [\"Banishing Light\"], [\"Hall of Triumph\"], [\"Duplicant\"]], \"hovertemplate\": \"Number of Copies (Main Deck)=%{x}<br>Win %=%{y}<br>name=%{customdata[0]}<extra></extra>\", \"legendgroup\": \"\", \"marker\": {\"color\": \"#636efa\", \"symbol\": \"circle\"}, \"mode\": \"markers\", \"name\": \"\", \"orientation\": \"v\", \"showlegend\": false, \"type\": \"scatter\", \"x\": [175, 129, 95, 78, 73, 67, 61, 57, 56, 55, 50, 49, 48, 47, 46, 44, 41, 39, 36, 36, 36, 33, 32, 32, 32, 30, 29, 28, 28, 28, 28, 27, 26, 26, 25, 24, 24, 24, 24, 24, 24, 23, 23, 23, 22, 22, 22, 22, 21, 20, 20, 20, 20, 18, 18, 18, 16, 16, 16, 16, 16, 16, 15, 14, 14, 13, 12, 12, 12, 12, 12, 12, 12, 12, 12, 12, 12, 12, 12, 11, 10, 10, 10, 9, 9, 9, 8, 8, 8, 8, 8, 8, 8, 8, 7, 7, 7, 7, 7, 6, 6, 6, 6, 6, 5, 5, 5, 5, 4, 4, 4, 4, 4, 4, 4, 4, 2, 2], \"xaxis\": \"x\", \"y\": [49.0, 46.0, 49.0, 48.0, 57.0, 49.0, 56.0, 57.0, 53.0, 49.0, 55.0, 50.0, 35.0, 54.0, 50.0, 49.0, 46.0, 51.0, 44.0, 52.0, 55.0, 59.0, 47.0, 56.0, 56.0, 44.0, 50.0, 57.0, 58.0, 44.0, 44.0, 41.0, 46.0, 48.0, 45.0, 42.0, 39.0, 48.0, 39.0, 52.0, 56.0, 56.0, 48.0, 44.0, 48.0, 40.0, 53.0, 52.0, 43.0, 50.0, 43.0, 50.0, 50.0, 50.0, 50.0, 44.0, 64.0, 44.0, 64.0, 64.0, 55.0, 60.0, 48.0, 44.0, 30.0, 50.0, 50.0, 35.0, 43.0, 36.0, 55.0, 48.0, 57.0, 36.0, 61.0, 41.0, 63.0, 33.0, 44.0, 56.0, 42.0, 63.0, 41.0, 45.0, 47.0, 40.0, 45.0, 60.0, 46.0, 50.0, 67.0, 69.0, 55.0, 42.0, 50.0, 45.0, 40.0, 18.0, 58.0, 62.0, 75.0, 43.0, 46.0, 75.0, 42.0, 55.0, 60.0, 67.0, 42.0, 45.0, 52.0, 55.0, 58.0, 55.0, 45.0, 50.0, 58.0, 80.0], \"yaxis\": \"y\"}],                        {\"legend\": {\"tracegroupgap\": 0}, \"template\": {\"data\": {\"bar\": [{\"error_x\": {\"color\": \"#2a3f5f\"}, \"error_y\": {\"color\": \"#2a3f5f\"}, \"marker\": {\"line\": {\"color\": \"#E5ECF6\", \"width\": 0.5}}, \"type\": \"bar\"}], \"barpolar\": [{\"marker\": {\"line\": {\"color\": \"#E5ECF6\", \"width\": 0.5}}, \"type\": \"barpolar\"}], \"carpet\": [{\"aaxis\": {\"endlinecolor\": \"#2a3f5f\", \"gridcolor\": \"white\", \"linecolor\": \"white\", \"minorgridcolor\": \"white\", \"startlinecolor\": \"#2a3f5f\"}, \"baxis\": {\"endlinecolor\": \"#2a3f5f\", \"gridcolor\": \"white\", \"linecolor\": \"white\", \"minorgridcolor\": \"white\", \"startlinecolor\": \"#2a3f5f\"}, \"type\": \"carpet\"}], \"choropleth\": [{\"colorbar\": {\"outlinewidth\": 0, \"ticks\": \"\"}, \"type\": \"choropleth\"}], \"contour\": [{\"colorbar\": {\"outlinewidth\": 0, \"ticks\": \"\"}, \"colorscale\": [[0.0, \"#0d0887\"], [0.1111111111111111, \"#46039f\"], [0.2222222222222222, \"#7201a8\"], [0.3333333333333333, \"#9c179e\"], [0.4444444444444444, \"#bd3786\"], [0.5555555555555556, \"#d8576b\"], [0.6666666666666666, \"#ed7953\"], [0.7777777777777778, \"#fb9f3a\"], [0.8888888888888888, \"#fdca26\"], [1.0, \"#f0f921\"]], \"type\": \"contour\"}], \"contourcarpet\": [{\"colorbar\": {\"outlinewidth\": 0, \"ticks\": \"\"}, \"type\": \"contourcarpet\"}], \"heatmap\": [{\"colorbar\": {\"outlinewidth\": 0, \"ticks\": \"\"}, \"colorscale\": [[0.0, \"#0d0887\"], [0.1111111111111111, \"#46039f\"], [0.2222222222222222, \"#7201a8\"], [0.3333333333333333, \"#9c179e\"], [0.4444444444444444, \"#bd3786\"], [0.5555555555555556, \"#d8576b\"], [0.6666666666666666, \"#ed7953\"], [0.7777777777777778, \"#fb9f3a\"], [0.8888888888888888, \"#fdca26\"], [1.0, \"#f0f921\"]], \"type\": \"heatmap\"}], \"heatmapgl\": [{\"colorbar\": {\"outlinewidth\": 0, \"ticks\": \"\"}, \"colorscale\": [[0.0, \"#0d0887\"], [0.1111111111111111, \"#46039f\"], [0.2222222222222222, \"#7201a8\"], [0.3333333333333333, \"#9c179e\"], [0.4444444444444444, \"#bd3786\"], [0.5555555555555556, \"#d8576b\"], [0.6666666666666666, \"#ed7953\"], [0.7777777777777778, \"#fb9f3a\"], [0.8888888888888888, \"#fdca26\"], [1.0, \"#f0f921\"]], \"type\": \"heatmapgl\"}], \"histogram\": [{\"marker\": {\"colorbar\": {\"outlinewidth\": 0, \"ticks\": \"\"}}, \"type\": \"histogram\"}], \"histogram2d\": [{\"colorbar\": {\"outlinewidth\": 0, \"ticks\": \"\"}, \"colorscale\": [[0.0, \"#0d0887\"], [0.1111111111111111, \"#46039f\"], [0.2222222222222222, \"#7201a8\"], [0.3333333333333333, \"#9c179e\"], [0.4444444444444444, \"#bd3786\"], [0.5555555555555556, \"#d8576b\"], [0.6666666666666666, \"#ed7953\"], [0.7777777777777778, \"#fb9f3a\"], [0.8888888888888888, \"#fdca26\"], [1.0, \"#f0f921\"]], \"type\": \"histogram2d\"}], \"histogram2dcontour\": [{\"colorbar\": {\"outlinewidth\": 0, \"ticks\": \"\"}, \"colorscale\": [[0.0, \"#0d0887\"], [0.1111111111111111, \"#46039f\"], [0.2222222222222222, \"#7201a8\"], [0.3333333333333333, \"#9c179e\"], [0.4444444444444444, \"#bd3786\"], [0.5555555555555556, \"#d8576b\"], [0.6666666666666666, \"#ed7953\"], [0.7777777777777778, \"#fb9f3a\"], [0.8888888888888888, \"#fdca26\"], [1.0, \"#f0f921\"]], \"type\": \"histogram2dcontour\"}], \"mesh3d\": [{\"colorbar\": {\"outlinewidth\": 0, \"ticks\": \"\"}, \"type\": \"mesh3d\"}], \"parcoords\": [{\"line\": {\"colorbar\": {\"outlinewidth\": 0, \"ticks\": \"\"}}, \"type\": \"parcoords\"}], \"pie\": [{\"automargin\": true, \"type\": \"pie\"}], \"scatter\": [{\"marker\": {\"colorbar\": {\"outlinewidth\": 0, \"ticks\": \"\"}}, \"type\": \"scatter\"}], \"scatter3d\": [{\"line\": {\"colorbar\": {\"outlinewidth\": 0, \"ticks\": \"\"}}, \"marker\": {\"colorbar\": {\"outlinewidth\": 0, \"ticks\": \"\"}}, \"type\": \"scatter3d\"}], \"scattercarpet\": [{\"marker\": {\"colorbar\": {\"outlinewidth\": 0, \"ticks\": \"\"}}, \"type\": \"scattercarpet\"}], \"scattergeo\": [{\"marker\": {\"colorbar\": {\"outlinewidth\": 0, \"ticks\": \"\"}}, \"type\": \"scattergeo\"}], \"scattergl\": [{\"marker\": {\"colorbar\": {\"outlinewidth\": 0, \"ticks\": \"\"}}, \"type\": \"scattergl\"}], \"scattermapbox\": [{\"marker\": {\"colorbar\": {\"outlinewidth\": 0, \"ticks\": \"\"}}, \"type\": \"scattermapbox\"}], \"scatterpolar\": [{\"marker\": {\"colorbar\": {\"outlinewidth\": 0, \"ticks\": \"\"}}, \"type\": \"scatterpolar\"}], \"scatterpolargl\": [{\"marker\": {\"colorbar\": {\"outlinewidth\": 0, \"ticks\": \"\"}}, \"type\": \"scatterpolargl\"}], \"scatterternary\": [{\"marker\": {\"colorbar\": {\"outlinewidth\": 0, \"ticks\": \"\"}}, \"type\": \"scatterternary\"}], \"surface\": [{\"colorbar\": {\"outlinewidth\": 0, \"ticks\": \"\"}, \"colorscale\": [[0.0, \"#0d0887\"], [0.1111111111111111, \"#46039f\"], [0.2222222222222222, \"#7201a8\"], [0.3333333333333333, \"#9c179e\"], [0.4444444444444444, \"#bd3786\"], [0.5555555555555556, \"#d8576b\"], [0.6666666666666666, \"#ed7953\"], [0.7777777777777778, \"#fb9f3a\"], [0.8888888888888888, \"#fdca26\"], [1.0, \"#f0f921\"]], \"type\": \"surface\"}], \"table\": [{\"cells\": {\"fill\": {\"color\": \"#EBF0F8\"}, \"line\": {\"color\": \"white\"}}, \"header\": {\"fill\": {\"color\": \"#C8D4E3\"}, \"line\": {\"color\": \"white\"}}, \"type\": \"table\"}]}, \"layout\": {\"annotationdefaults\": {\"arrowcolor\": \"#2a3f5f\", \"arrowhead\": 0, \"arrowwidth\": 1}, \"autotypenumbers\": \"strict\", \"coloraxis\": {\"colorbar\": {\"outlinewidth\": 0, \"ticks\": \"\"}}, \"colorscale\": {\"diverging\": [[0, \"#8e0152\"], [0.1, \"#c51b7d\"], [0.2, \"#de77ae\"], [0.3, \"#f1b6da\"], [0.4, \"#fde0ef\"], [0.5, \"#f7f7f7\"], [0.6, \"#e6f5d0\"], [0.7, \"#b8e186\"], [0.8, \"#7fbc41\"], [0.9, \"#4d9221\"], [1, \"#276419\"]], \"sequential\": [[0.0, \"#0d0887\"], [0.1111111111111111, \"#46039f\"], [0.2222222222222222, \"#7201a8\"], [0.3333333333333333, \"#9c179e\"], [0.4444444444444444, \"#bd3786\"], [0.5555555555555556, \"#d8576b\"], [0.6666666666666666, \"#ed7953\"], [0.7777777777777778, \"#fb9f3a\"], [0.8888888888888888, \"#fdca26\"], [1.0, \"#f0f921\"]], \"sequentialminus\": [[0.0, \"#0d0887\"], [0.1111111111111111, \"#46039f\"], [0.2222222222222222, \"#7201a8\"], [0.3333333333333333, \"#9c179e\"], [0.4444444444444444, \"#bd3786\"], [0.5555555555555556, \"#d8576b\"], [0.6666666666666666, \"#ed7953\"], [0.7777777777777778, \"#fb9f3a\"], [0.8888888888888888, \"#fdca26\"], [1.0, \"#f0f921\"]]}, \"colorway\": [\"#636efa\", \"#EF553B\", \"#00cc96\", \"#ab63fa\", \"#FFA15A\", \"#19d3f3\", \"#FF6692\", \"#B6E880\", \"#FF97FF\", \"#FECB52\"], \"font\": {\"color\": \"#2a3f5f\"}, \"geo\": {\"bgcolor\": \"white\", \"lakecolor\": \"white\", \"landcolor\": \"#E5ECF6\", \"showlakes\": true, \"showland\": true, \"subunitcolor\": \"white\"}, \"hoverlabel\": {\"align\": \"left\"}, \"hovermode\": \"closest\", \"mapbox\": {\"style\": \"light\"}, \"paper_bgcolor\": \"white\", \"plot_bgcolor\": \"#E5ECF6\", \"polar\": {\"angularaxis\": {\"gridcolor\": \"white\", \"linecolor\": \"white\", \"ticks\": \"\"}, \"bgcolor\": \"#E5ECF6\", \"radialaxis\": {\"gridcolor\": \"white\", \"linecolor\": \"white\", \"ticks\": \"\"}}, \"scene\": {\"xaxis\": {\"backgroundcolor\": \"#E5ECF6\", \"gridcolor\": \"white\", \"gridwidth\": 2, \"linecolor\": \"white\", \"showbackground\": true, \"ticks\": \"\", \"zerolinecolor\": \"white\"}, \"yaxis\": {\"backgroundcolor\": \"#E5ECF6\", \"gridcolor\": \"white\", \"gridwidth\": 2, \"linecolor\": \"white\", \"showbackground\": true, \"ticks\": \"\", \"zerolinecolor\": \"white\"}, \"zaxis\": {\"backgroundcolor\": \"#E5ECF6\", \"gridcolor\": \"white\", \"gridwidth\": 2, \"linecolor\": \"white\", \"showbackground\": true, \"ticks\": \"\", \"zerolinecolor\": \"white\"}}, \"shapedefaults\": {\"line\": {\"color\": \"#2a3f5f\"}}, \"ternary\": {\"aaxis\": {\"gridcolor\": \"white\", \"linecolor\": \"white\", \"ticks\": \"\"}, \"baxis\": {\"gridcolor\": \"white\", \"linecolor\": \"white\", \"ticks\": \"\"}, \"bgcolor\": \"#E5ECF6\", \"caxis\": {\"gridcolor\": \"white\", \"linecolor\": \"white\", \"ticks\": \"\"}}, \"title\": {\"x\": 0.05}, \"xaxis\": {\"automargin\": true, \"gridcolor\": \"white\", \"linecolor\": \"white\", \"ticks\": \"\", \"title\": {\"standoff\": 15}, \"zerolinecolor\": \"white\", \"zerolinewidth\": 2}, \"yaxis\": {\"automargin\": true, \"gridcolor\": \"white\", \"linecolor\": \"white\", \"ticks\": \"\", \"title\": {\"standoff\": 15}, \"zerolinecolor\": \"white\", \"zerolinewidth\": 2}}}, \"title\": {\"text\": \"3668\"}, \"xaxis\": {\"anchor\": \"y\", \"domain\": [0.0, 1.0], \"title\": {\"text\": \"Number of Copies (Main Deck)\"}}, \"yaxis\": {\"anchor\": \"x\", \"domain\": [0.0, 1.0], \"title\": {\"text\": \"Win %\"}}},                        {\"responsive\": true}                    ).then(function(){\n",
       "                            \n",
       "var gd = document.getElementById('09598360-cf16-4083-b5ee-44f4da731acf');\n",
       "var x = new MutationObserver(function (mutations, observer) {{\n",
       "        var display = window.getComputedStyle(gd).display;\n",
       "        if (!display || display === 'none') {{\n",
       "            console.log([gd, 'removed!']);\n",
       "            Plotly.purge(gd);\n",
       "            observer.disconnect();\n",
       "        }}\n",
       "}});\n",
       "\n",
       "// Listen for the removal of the full notebook cells\n",
       "var notebookContainer = gd.closest('#notebook-container');\n",
       "if (notebookContainer) {{\n",
       "    x.observe(notebookContainer, {childList: true});\n",
       "}}\n",
       "\n",
       "// Listen for the clearing of the current output cell\n",
       "var outputEl = gd.closest('.output');\n",
       "if (outputEl) {{\n",
       "    x.observe(outputEl, {childList: true});\n",
       "}}\n",
       "\n",
       "                        })                };                });            </script>        </div>"
      ]
     },
     "metadata": {},
     "output_type": "display_data"
    },
    {
     "data": {
      "application/vnd.plotly.v1+json": {
       "config": {
        "plotlyServerURL": "https://plot.ly"
       },
       "data": [
        {
         "customdata": [
          [
           "Swamp"
          ],
          [
           "Plains"
          ],
          [
           "Forest"
          ],
          [
           "Mountain"
          ],
          [
           "Island"
          ],
          [
           "Dismember"
          ],
          [
           "Fatal Push"
          ],
          [
           "Walking Ballista"
          ],
          [
           "Karn, Scion of Urza"
          ],
          [
           "Bitterblossom"
          ],
          [
           "Sensei's Divining Top"
          ],
          [
           "Glint-Sleeve Siphoner"
          ],
          [
           "Renegade Map"
          ],
          [
           "Isolated Chapel"
          ],
          [
           "Heart of Kiran"
          ],
          [
           "Sakura-Tribe Elder"
          ],
          [
           "Porcelain Legionnaire"
          ],
          [
           "Elvish Mystic"
          ],
          [
           "Woodland Cemetery"
          ],
          [
           "Llanowar Elves"
          ],
          [
           "Gifted Aetherborn"
          ],
          [
           "Mutavault"
          ],
          [
           "Hinterland Harbor"
          ],
          [
           "Teferi, Hero of Dominaria"
          ],
          [
           "Lashwrithe"
          ],
          [
           "Kodama's Reach"
          ],
          [
           "Isamaru, Hound of Konda"
          ],
          [
           "Batterskull"
          ],
          [
           "Lava Spike"
          ],
          [
           "Gifts Ungiven"
          ],
          [
           "Ghitu Lavarunner"
          ],
          [
           "Aethersphere Harvester"
          ],
          [
           "Shrine of Burning Rage"
          ],
          [
           "Greenbelt Rampager"
          ],
          [
           "Ajani, Caller of the Pride"
          ],
          [
           "History of Benalia"
          ],
          [
           "Doom Blade"
          ],
          [
           "Cast Down"
          ],
          [
           "Rishkar, Peema Renegade"
          ],
          [
           "Sulfur Falls"
          ],
          [
           "Spire of Industry"
          ],
          [
           "Shock"
          ],
          [
           "Gut Shot"
          ],
          [
           "Goblin Chainwhirler"
          ],
          [
           "Dauntless Bodyguard"
          ],
          [
           "Chameleon Colossus"
          ],
          [
           "Benalish Marshal"
          ],
          [
           "Yahenni's Expertise"
          ],
          [
           "The Eldest Reborn"
          ],
          [
           "Phyrexian Obliterator"
          ],
          [
           "Meandering River"
          ],
          [
           "Knight of Grace"
          ],
          [
           "Karn Liberated"
          ],
          [
           "Kari Zev, Skyship Raider"
          ],
          [
           "Gitaxian Probe"
          ],
          [
           "Duress"
          ],
          [
           "Distress"
          ],
          [
           "Young Pyromancer"
          ],
          [
           "Chandra's Phoenix"
          ],
          [
           "Submerged Boneyard"
          ],
          [
           "Scavenging Ooze"
          ],
          [
           "Phyrexian Metamorph"
          ],
          [
           "Mycosynth Wellspring"
          ],
          [
           "Shard Volley"
          ],
          [
           "Metallic Rebuke"
          ],
          [
           "Winding Constrictor"
          ],
          [
           "Steel Leaf Champion"
          ],
          [
           "Powerstone Shard"
          ],
          [
           "Godo, Bandit Warlord"
          ],
          [
           "Dread Shade"
          ],
          [
           "Clifftop Retreat"
          ],
          [
           "Wizard's Lightning"
          ],
          [
           "Urza's Ruinous Blast"
          ],
          [
           "The Flame of Keld"
          ],
          [
           "Eiganjo Castle"
          ],
          [
           "Cabal Stronghold"
          ],
          [
           "Vendilion Clique"
          ],
          [
           "Vault Skirge"
          ],
          [
           "Traxos, Scourge of Kroog"
          ],
          [
           "Ratchet Bomb"
          ],
          [
           "Murmuring Bosk"
          ],
          [
           "Brave the Elements"
          ],
          [
           "Whir of Invention"
          ],
          [
           "Shalai, Voice of Plenty"
          ],
          [
           "Pristine Talisman"
          ],
          [
           "Memorial to Folly"
          ],
          [
           "Kalonian Tusker"
          ],
          [
           "Eight-and-a-Half-Tails"
          ],
          [
           "Deceiver Exarch"
          ],
          [
           "Night of Souls' Betrayal"
          ],
          [
           "Mox Amber"
          ],
          [
           "Baral, Chief of Compliance"
          ],
          [
           "Opt"
          ],
          [
           "Okina, Temple to the Grandfathers"
          ],
          [
           "Kiki-Jiki, Mirror Breaker"
          ],
          [
           "Divination"
          ],
          [
           "Disallow"
          ],
          [
           "Spellskite"
          ],
          [
           "Mutagenic Growth"
          ],
          [
           "Lyra Dawnbringer"
          ],
          [
           "Hex Parasite"
          ],
          [
           "Danitha Capashen, Paragon"
          ],
          [
           "Syncopate"
          ],
          [
           "Sram, Senior Edificer"
          ],
          [
           "Metallic Mimic"
          ],
          [
           "Marwyn, the Nurturer"
          ],
          [
           "Heritage Druid"
          ],
          [
           "Glimpse of Nature"
          ],
          [
           "Felidar Guardian"
          ],
          [
           "Blade Splicer"
          ],
          [
           "Ridgescale Tusker"
          ],
          [
           "Paradox Engine"
          ],
          [
           "Negate"
          ],
          [
           "Untaidake, the Cloud Keeper"
          ],
          [
           "Reveillark"
          ],
          [
           "Noxious Revival"
          ],
          [
           "Life's Finale"
          ],
          [
           "Imposing Sovereign"
          ],
          [
           "Blink of an Eye"
          ],
          [
           "Trading Post"
          ],
          [
           "The Mirari Conjecture"
          ],
          [
           "Nature's Spiral"
          ],
          [
           "Whipflare"
          ],
          [
           "Minamo, School at Water's Edge"
          ],
          [
           "Helm of the Host"
          ],
          [
           "Essence Scatter"
          ],
          [
           "Shinka, the Bloodsoaked Keep"
          ],
          [
           "Memorial to Genius"
          ],
          [
           "Lifecrafter's Bestiary"
          ],
          [
           "Corrupt"
          ],
          [
           "Blackblade Reforged"
          ]
         ],
         "hovertemplate": "Number of Copies (Main Deck)=%{x}<br>Win %=%{y}<br>name=%{customdata[0]}<extra></extra>",
         "legendgroup": "",
         "marker": {
          "color": "#636efa",
          "symbol": "circle"
         },
         "mode": "markers",
         "name": "",
         "orientation": "v",
         "showlegend": false,
         "type": "scatter",
         "x": [
          443,
          200,
          200,
          161,
          129,
          95,
          80,
          74,
          57,
          50,
          49,
          48,
          41,
          41,
          37,
          36,
          36,
          36,
          35,
          34,
          34,
          33,
          32,
          30,
          30,
          29,
          29,
          29,
          28,
          28,
          28,
          28,
          27,
          27,
          27,
          26,
          26,
          26,
          25,
          24,
          24,
          24,
          24,
          24,
          24,
          24,
          24,
          23,
          23,
          23,
          22,
          22,
          22,
          20,
          20,
          20,
          20,
          19,
          19,
          18,
          18,
          18,
          18,
          17,
          17,
          16,
          16,
          16,
          16,
          16,
          16,
          15,
          15,
          15,
          15,
          14,
          13,
          13,
          13,
          13,
          13,
          13,
          12,
          12,
          12,
          12,
          12,
          12,
          12,
          11,
          11,
          11,
          10,
          10,
          10,
          10,
          10,
          9,
          9,
          9,
          9,
          9,
          8,
          8,
          8,
          8,
          8,
          8,
          8,
          8,
          7,
          7,
          7,
          6,
          6,
          6,
          6,
          6,
          6,
          5,
          5,
          5,
          4,
          4,
          4,
          4,
          3,
          3,
          3,
          3,
          3
         ],
         "xaxis": "x",
         "y": [
          48,
          53,
          58,
          33,
          40,
          54,
          47,
          51,
          54,
          46,
          35,
          56,
          48,
          42,
          63,
          45,
          51,
          60,
          57,
          60,
          52,
          57,
          42,
          54,
          53,
          46,
          55,
          44,
          41,
          33,
          41,
          61,
          41,
          71,
          56,
          54,
          41,
          39,
          69,
          19,
          20,
          44,
          35,
          36,
          57,
          66,
          57,
          41,
          51,
          56,
          52,
          57,
          43,
          41,
          36,
          49,
          49,
          48,
          43,
          33,
          63,
          25,
          12,
          42,
          12,
          67,
          71,
          17,
          17,
          58,
          33,
          36,
          61,
          41,
          58,
          50,
          57,
          52,
          55,
          20,
          57,
          57,
          17,
          39,
          45,
          60,
          76,
          55,
          29,
          25,
          50,
          64,
          67,
          62,
          29,
          25,
          69,
          17,
          71,
          40,
          56,
          50,
          74,
          50,
          46,
          54,
          54,
          54,
          36,
          31,
          67,
          32,
          44,
          55,
          36,
          33,
          50,
          58,
          41,
          19,
          39,
          39,
          17,
          60,
          17,
          67,
          43,
          67,
          54,
          58,
          50
         ],
         "yaxis": "y"
        }
       ],
       "layout": {
        "legend": {
         "tracegroupgap": 0
        },
        "template": {
         "data": {
          "bar": [
           {
            "error_x": {
             "color": "#2a3f5f"
            },
            "error_y": {
             "color": "#2a3f5f"
            },
            "marker": {
             "line": {
              "color": "#E5ECF6",
              "width": 0.5
             }
            },
            "type": "bar"
           }
          ],
          "barpolar": [
           {
            "marker": {
             "line": {
              "color": "#E5ECF6",
              "width": 0.5
             }
            },
            "type": "barpolar"
           }
          ],
          "carpet": [
           {
            "aaxis": {
             "endlinecolor": "#2a3f5f",
             "gridcolor": "white",
             "linecolor": "white",
             "minorgridcolor": "white",
             "startlinecolor": "#2a3f5f"
            },
            "baxis": {
             "endlinecolor": "#2a3f5f",
             "gridcolor": "white",
             "linecolor": "white",
             "minorgridcolor": "white",
             "startlinecolor": "#2a3f5f"
            },
            "type": "carpet"
           }
          ],
          "choropleth": [
           {
            "colorbar": {
             "outlinewidth": 0,
             "ticks": ""
            },
            "type": "choropleth"
           }
          ],
          "contour": [
           {
            "colorbar": {
             "outlinewidth": 0,
             "ticks": ""
            },
            "colorscale": [
             [
              0,
              "#0d0887"
             ],
             [
              0.1111111111111111,
              "#46039f"
             ],
             [
              0.2222222222222222,
              "#7201a8"
             ],
             [
              0.3333333333333333,
              "#9c179e"
             ],
             [
              0.4444444444444444,
              "#bd3786"
             ],
             [
              0.5555555555555556,
              "#d8576b"
             ],
             [
              0.6666666666666666,
              "#ed7953"
             ],
             [
              0.7777777777777778,
              "#fb9f3a"
             ],
             [
              0.8888888888888888,
              "#fdca26"
             ],
             [
              1,
              "#f0f921"
             ]
            ],
            "type": "contour"
           }
          ],
          "contourcarpet": [
           {
            "colorbar": {
             "outlinewidth": 0,
             "ticks": ""
            },
            "type": "contourcarpet"
           }
          ],
          "heatmap": [
           {
            "colorbar": {
             "outlinewidth": 0,
             "ticks": ""
            },
            "colorscale": [
             [
              0,
              "#0d0887"
             ],
             [
              0.1111111111111111,
              "#46039f"
             ],
             [
              0.2222222222222222,
              "#7201a8"
             ],
             [
              0.3333333333333333,
              "#9c179e"
             ],
             [
              0.4444444444444444,
              "#bd3786"
             ],
             [
              0.5555555555555556,
              "#d8576b"
             ],
             [
              0.6666666666666666,
              "#ed7953"
             ],
             [
              0.7777777777777778,
              "#fb9f3a"
             ],
             [
              0.8888888888888888,
              "#fdca26"
             ],
             [
              1,
              "#f0f921"
             ]
            ],
            "type": "heatmap"
           }
          ],
          "heatmapgl": [
           {
            "colorbar": {
             "outlinewidth": 0,
             "ticks": ""
            },
            "colorscale": [
             [
              0,
              "#0d0887"
             ],
             [
              0.1111111111111111,
              "#46039f"
             ],
             [
              0.2222222222222222,
              "#7201a8"
             ],
             [
              0.3333333333333333,
              "#9c179e"
             ],
             [
              0.4444444444444444,
              "#bd3786"
             ],
             [
              0.5555555555555556,
              "#d8576b"
             ],
             [
              0.6666666666666666,
              "#ed7953"
             ],
             [
              0.7777777777777778,
              "#fb9f3a"
             ],
             [
              0.8888888888888888,
              "#fdca26"
             ],
             [
              1,
              "#f0f921"
             ]
            ],
            "type": "heatmapgl"
           }
          ],
          "histogram": [
           {
            "marker": {
             "colorbar": {
              "outlinewidth": 0,
              "ticks": ""
             }
            },
            "type": "histogram"
           }
          ],
          "histogram2d": [
           {
            "colorbar": {
             "outlinewidth": 0,
             "ticks": ""
            },
            "colorscale": [
             [
              0,
              "#0d0887"
             ],
             [
              0.1111111111111111,
              "#46039f"
             ],
             [
              0.2222222222222222,
              "#7201a8"
             ],
             [
              0.3333333333333333,
              "#9c179e"
             ],
             [
              0.4444444444444444,
              "#bd3786"
             ],
             [
              0.5555555555555556,
              "#d8576b"
             ],
             [
              0.6666666666666666,
              "#ed7953"
             ],
             [
              0.7777777777777778,
              "#fb9f3a"
             ],
             [
              0.8888888888888888,
              "#fdca26"
             ],
             [
              1,
              "#f0f921"
             ]
            ],
            "type": "histogram2d"
           }
          ],
          "histogram2dcontour": [
           {
            "colorbar": {
             "outlinewidth": 0,
             "ticks": ""
            },
            "colorscale": [
             [
              0,
              "#0d0887"
             ],
             [
              0.1111111111111111,
              "#46039f"
             ],
             [
              0.2222222222222222,
              "#7201a8"
             ],
             [
              0.3333333333333333,
              "#9c179e"
             ],
             [
              0.4444444444444444,
              "#bd3786"
             ],
             [
              0.5555555555555556,
              "#d8576b"
             ],
             [
              0.6666666666666666,
              "#ed7953"
             ],
             [
              0.7777777777777778,
              "#fb9f3a"
             ],
             [
              0.8888888888888888,
              "#fdca26"
             ],
             [
              1,
              "#f0f921"
             ]
            ],
            "type": "histogram2dcontour"
           }
          ],
          "mesh3d": [
           {
            "colorbar": {
             "outlinewidth": 0,
             "ticks": ""
            },
            "type": "mesh3d"
           }
          ],
          "parcoords": [
           {
            "line": {
             "colorbar": {
              "outlinewidth": 0,
              "ticks": ""
             }
            },
            "type": "parcoords"
           }
          ],
          "pie": [
           {
            "automargin": true,
            "type": "pie"
           }
          ],
          "scatter": [
           {
            "marker": {
             "colorbar": {
              "outlinewidth": 0,
              "ticks": ""
             }
            },
            "type": "scatter"
           }
          ],
          "scatter3d": [
           {
            "line": {
             "colorbar": {
              "outlinewidth": 0,
              "ticks": ""
             }
            },
            "marker": {
             "colorbar": {
              "outlinewidth": 0,
              "ticks": ""
             }
            },
            "type": "scatter3d"
           }
          ],
          "scattercarpet": [
           {
            "marker": {
             "colorbar": {
              "outlinewidth": 0,
              "ticks": ""
             }
            },
            "type": "scattercarpet"
           }
          ],
          "scattergeo": [
           {
            "marker": {
             "colorbar": {
              "outlinewidth": 0,
              "ticks": ""
             }
            },
            "type": "scattergeo"
           }
          ],
          "scattergl": [
           {
            "marker": {
             "colorbar": {
              "outlinewidth": 0,
              "ticks": ""
             }
            },
            "type": "scattergl"
           }
          ],
          "scattermapbox": [
           {
            "marker": {
             "colorbar": {
              "outlinewidth": 0,
              "ticks": ""
             }
            },
            "type": "scattermapbox"
           }
          ],
          "scatterpolar": [
           {
            "marker": {
             "colorbar": {
              "outlinewidth": 0,
              "ticks": ""
             }
            },
            "type": "scatterpolar"
           }
          ],
          "scatterpolargl": [
           {
            "marker": {
             "colorbar": {
              "outlinewidth": 0,
              "ticks": ""
             }
            },
            "type": "scatterpolargl"
           }
          ],
          "scatterternary": [
           {
            "marker": {
             "colorbar": {
              "outlinewidth": 0,
              "ticks": ""
             }
            },
            "type": "scatterternary"
           }
          ],
          "surface": [
           {
            "colorbar": {
             "outlinewidth": 0,
             "ticks": ""
            },
            "colorscale": [
             [
              0,
              "#0d0887"
             ],
             [
              0.1111111111111111,
              "#46039f"
             ],
             [
              0.2222222222222222,
              "#7201a8"
             ],
             [
              0.3333333333333333,
              "#9c179e"
             ],
             [
              0.4444444444444444,
              "#bd3786"
             ],
             [
              0.5555555555555556,
              "#d8576b"
             ],
             [
              0.6666666666666666,
              "#ed7953"
             ],
             [
              0.7777777777777778,
              "#fb9f3a"
             ],
             [
              0.8888888888888888,
              "#fdca26"
             ],
             [
              1,
              "#f0f921"
             ]
            ],
            "type": "surface"
           }
          ],
          "table": [
           {
            "cells": {
             "fill": {
              "color": "#EBF0F8"
             },
             "line": {
              "color": "white"
             }
            },
            "header": {
             "fill": {
              "color": "#C8D4E3"
             },
             "line": {
              "color": "white"
             }
            },
            "type": "table"
           }
          ]
         },
         "layout": {
          "annotationdefaults": {
           "arrowcolor": "#2a3f5f",
           "arrowhead": 0,
           "arrowwidth": 1
          },
          "autotypenumbers": "strict",
          "coloraxis": {
           "colorbar": {
            "outlinewidth": 0,
            "ticks": ""
           }
          },
          "colorscale": {
           "diverging": [
            [
             0,
             "#8e0152"
            ],
            [
             0.1,
             "#c51b7d"
            ],
            [
             0.2,
             "#de77ae"
            ],
            [
             0.3,
             "#f1b6da"
            ],
            [
             0.4,
             "#fde0ef"
            ],
            [
             0.5,
             "#f7f7f7"
            ],
            [
             0.6,
             "#e6f5d0"
            ],
            [
             0.7,
             "#b8e186"
            ],
            [
             0.8,
             "#7fbc41"
            ],
            [
             0.9,
             "#4d9221"
            ],
            [
             1,
             "#276419"
            ]
           ],
           "sequential": [
            [
             0,
             "#0d0887"
            ],
            [
             0.1111111111111111,
             "#46039f"
            ],
            [
             0.2222222222222222,
             "#7201a8"
            ],
            [
             0.3333333333333333,
             "#9c179e"
            ],
            [
             0.4444444444444444,
             "#bd3786"
            ],
            [
             0.5555555555555556,
             "#d8576b"
            ],
            [
             0.6666666666666666,
             "#ed7953"
            ],
            [
             0.7777777777777778,
             "#fb9f3a"
            ],
            [
             0.8888888888888888,
             "#fdca26"
            ],
            [
             1,
             "#f0f921"
            ]
           ],
           "sequentialminus": [
            [
             0,
             "#0d0887"
            ],
            [
             0.1111111111111111,
             "#46039f"
            ],
            [
             0.2222222222222222,
             "#7201a8"
            ],
            [
             0.3333333333333333,
             "#9c179e"
            ],
            [
             0.4444444444444444,
             "#bd3786"
            ],
            [
             0.5555555555555556,
             "#d8576b"
            ],
            [
             0.6666666666666666,
             "#ed7953"
            ],
            [
             0.7777777777777778,
             "#fb9f3a"
            ],
            [
             0.8888888888888888,
             "#fdca26"
            ],
            [
             1,
             "#f0f921"
            ]
           ]
          },
          "colorway": [
           "#636efa",
           "#EF553B",
           "#00cc96",
           "#ab63fa",
           "#FFA15A",
           "#19d3f3",
           "#FF6692",
           "#B6E880",
           "#FF97FF",
           "#FECB52"
          ],
          "font": {
           "color": "#2a3f5f"
          },
          "geo": {
           "bgcolor": "white",
           "lakecolor": "white",
           "landcolor": "#E5ECF6",
           "showlakes": true,
           "showland": true,
           "subunitcolor": "white"
          },
          "hoverlabel": {
           "align": "left"
          },
          "hovermode": "closest",
          "mapbox": {
           "style": "light"
          },
          "paper_bgcolor": "white",
          "plot_bgcolor": "#E5ECF6",
          "polar": {
           "angularaxis": {
            "gridcolor": "white",
            "linecolor": "white",
            "ticks": ""
           },
           "bgcolor": "#E5ECF6",
           "radialaxis": {
            "gridcolor": "white",
            "linecolor": "white",
            "ticks": ""
           }
          },
          "scene": {
           "xaxis": {
            "backgroundcolor": "#E5ECF6",
            "gridcolor": "white",
            "gridwidth": 2,
            "linecolor": "white",
            "showbackground": true,
            "ticks": "",
            "zerolinecolor": "white"
           },
           "yaxis": {
            "backgroundcolor": "#E5ECF6",
            "gridcolor": "white",
            "gridwidth": 2,
            "linecolor": "white",
            "showbackground": true,
            "ticks": "",
            "zerolinecolor": "white"
           },
           "zaxis": {
            "backgroundcolor": "#E5ECF6",
            "gridcolor": "white",
            "gridwidth": 2,
            "linecolor": "white",
            "showbackground": true,
            "ticks": "",
            "zerolinecolor": "white"
           }
          },
          "shapedefaults": {
           "line": {
            "color": "#2a3f5f"
           }
          },
          "ternary": {
           "aaxis": {
            "gridcolor": "white",
            "linecolor": "white",
            "ticks": ""
           },
           "baxis": {
            "gridcolor": "white",
            "linecolor": "white",
            "ticks": ""
           },
           "bgcolor": "#E5ECF6",
           "caxis": {
            "gridcolor": "white",
            "linecolor": "white",
            "ticks": ""
           }
          },
          "title": {
           "x": 0.05
          },
          "xaxis": {
           "automargin": true,
           "gridcolor": "white",
           "linecolor": "white",
           "ticks": "",
           "title": {
            "standoff": 15
           },
           "zerolinecolor": "white",
           "zerolinewidth": 2
          },
          "yaxis": {
           "automargin": true,
           "gridcolor": "white",
           "linecolor": "white",
           "ticks": "",
           "title": {
            "standoff": 15
           },
           "zerolinecolor": "white",
           "zerolinewidth": 2
          }
         }
        },
        "title": {
         "text": "3956"
        },
        "xaxis": {
         "anchor": "y",
         "domain": [
          0,
          1
         ],
         "title": {
          "text": "Number of Copies (Main Deck)"
         }
        },
        "yaxis": {
         "anchor": "x",
         "domain": [
          0,
          1
         ],
         "title": {
          "text": "Win %"
         }
        }
       }
      },
      "text/html": [
       "<div>                            <div id=\"dec79689-4279-452d-9ab0-daff573258f4\" class=\"plotly-graph-div\" style=\"height:525px; width:100%;\"></div>            <script type=\"text/javascript\">                require([\"plotly\"], function(Plotly) {                    window.PLOTLYENV=window.PLOTLYENV || {};                                    if (document.getElementById(\"dec79689-4279-452d-9ab0-daff573258f4\")) {                    Plotly.newPlot(                        \"dec79689-4279-452d-9ab0-daff573258f4\",                        [{\"customdata\": [[\"Swamp\"], [\"Plains\"], [\"Forest\"], [\"Mountain\"], [\"Island\"], [\"Dismember\"], [\"Fatal Push\"], [\"Walking Ballista\"], [\"Karn, Scion of Urza\"], [\"Bitterblossom\"], [\"Sensei's Divining Top\"], [\"Glint-Sleeve Siphoner\"], [\"Renegade Map\"], [\"Isolated Chapel\"], [\"Heart of Kiran\"], [\"Sakura-Tribe Elder\"], [\"Porcelain Legionnaire\"], [\"Elvish Mystic\"], [\"Woodland Cemetery\"], [\"Llanowar Elves\"], [\"Gifted Aetherborn\"], [\"Mutavault\"], [\"Hinterland Harbor\"], [\"Teferi, Hero of Dominaria\"], [\"Lashwrithe\"], [\"Kodama's Reach\"], [\"Isamaru, Hound of Konda\"], [\"Batterskull\"], [\"Lava Spike\"], [\"Gifts Ungiven\"], [\"Ghitu Lavarunner\"], [\"Aethersphere Harvester\"], [\"Shrine of Burning Rage\"], [\"Greenbelt Rampager\"], [\"Ajani, Caller of the Pride\"], [\"History of Benalia\"], [\"Doom Blade\"], [\"Cast Down\"], [\"Rishkar, Peema Renegade\"], [\"Sulfur Falls\"], [\"Spire of Industry\"], [\"Shock\"], [\"Gut Shot\"], [\"Goblin Chainwhirler\"], [\"Dauntless Bodyguard\"], [\"Chameleon Colossus\"], [\"Benalish Marshal\"], [\"Yahenni's Expertise\"], [\"The Eldest Reborn\"], [\"Phyrexian Obliterator\"], [\"Meandering River\"], [\"Knight of Grace\"], [\"Karn Liberated\"], [\"Kari Zev, Skyship Raider\"], [\"Gitaxian Probe\"], [\"Duress\"], [\"Distress\"], [\"Young Pyromancer\"], [\"Chandra's Phoenix\"], [\"Submerged Boneyard\"], [\"Scavenging Ooze\"], [\"Phyrexian Metamorph\"], [\"Mycosynth Wellspring\"], [\"Shard Volley\"], [\"Metallic Rebuke\"], [\"Winding Constrictor\"], [\"Steel Leaf Champion\"], [\"Powerstone Shard\"], [\"Godo, Bandit Warlord\"], [\"Dread Shade\"], [\"Clifftop Retreat\"], [\"Wizard's Lightning\"], [\"Urza's Ruinous Blast\"], [\"The Flame of Keld\"], [\"Eiganjo Castle\"], [\"Cabal Stronghold\"], [\"Vendilion Clique\"], [\"Vault Skirge\"], [\"Traxos, Scourge of Kroog\"], [\"Ratchet Bomb\"], [\"Murmuring Bosk\"], [\"Brave the Elements\"], [\"Whir of Invention\"], [\"Shalai, Voice of Plenty\"], [\"Pristine Talisman\"], [\"Memorial to Folly\"], [\"Kalonian Tusker\"], [\"Eight-and-a-Half-Tails\"], [\"Deceiver Exarch\"], [\"Night of Souls' Betrayal\"], [\"Mox Amber\"], [\"Baral, Chief of Compliance\"], [\"Opt\"], [\"Okina, Temple to the Grandfathers\"], [\"Kiki-Jiki, Mirror Breaker\"], [\"Divination\"], [\"Disallow\"], [\"Spellskite\"], [\"Mutagenic Growth\"], [\"Lyra Dawnbringer\"], [\"Hex Parasite\"], [\"Danitha Capashen, Paragon\"], [\"Syncopate\"], [\"Sram, Senior Edificer\"], [\"Metallic Mimic\"], [\"Marwyn, the Nurturer\"], [\"Heritage Druid\"], [\"Glimpse of Nature\"], [\"Felidar Guardian\"], [\"Blade Splicer\"], [\"Ridgescale Tusker\"], [\"Paradox Engine\"], [\"Negate\"], [\"Untaidake, the Cloud Keeper\"], [\"Reveillark\"], [\"Noxious Revival\"], [\"Life's Finale\"], [\"Imposing Sovereign\"], [\"Blink of an Eye\"], [\"Trading Post\"], [\"The Mirari Conjecture\"], [\"Nature's Spiral\"], [\"Whipflare\"], [\"Minamo, School at Water's Edge\"], [\"Helm of the Host\"], [\"Essence Scatter\"], [\"Shinka, the Bloodsoaked Keep\"], [\"Memorial to Genius\"], [\"Lifecrafter's Bestiary\"], [\"Corrupt\"], [\"Blackblade Reforged\"]], \"hovertemplate\": \"Number of Copies (Main Deck)=%{x}<br>Win %=%{y}<br>name=%{customdata[0]}<extra></extra>\", \"legendgroup\": \"\", \"marker\": {\"color\": \"#636efa\", \"symbol\": \"circle\"}, \"mode\": \"markers\", \"name\": \"\", \"orientation\": \"v\", \"showlegend\": false, \"type\": \"scatter\", \"x\": [443, 200, 200, 161, 129, 95, 80, 74, 57, 50, 49, 48, 41, 41, 37, 36, 36, 36, 35, 34, 34, 33, 32, 30, 30, 29, 29, 29, 28, 28, 28, 28, 27, 27, 27, 26, 26, 26, 25, 24, 24, 24, 24, 24, 24, 24, 24, 23, 23, 23, 22, 22, 22, 20, 20, 20, 20, 19, 19, 18, 18, 18, 18, 17, 17, 16, 16, 16, 16, 16, 16, 15, 15, 15, 15, 14, 13, 13, 13, 13, 13, 13, 12, 12, 12, 12, 12, 12, 12, 11, 11, 11, 10, 10, 10, 10, 10, 9, 9, 9, 9, 9, 8, 8, 8, 8, 8, 8, 8, 8, 7, 7, 7, 6, 6, 6, 6, 6, 6, 5, 5, 5, 4, 4, 4, 4, 3, 3, 3, 3, 3], \"xaxis\": \"x\", \"y\": [48.0, 53.0, 58.0, 33.0, 40.0, 54.0, 47.0, 51.0, 54.0, 46.0, 35.0, 56.0, 48.0, 42.0, 63.0, 45.0, 51.0, 60.0, 57.0, 60.0, 52.0, 57.0, 42.0, 54.0, 53.0, 46.0, 55.0, 44.0, 41.0, 33.0, 41.0, 61.0, 41.0, 71.0, 56.0, 54.0, 41.0, 39.0, 69.0, 19.0, 20.0, 44.0, 35.0, 36.0, 57.0, 66.0, 57.0, 41.0, 51.0, 56.0, 52.0, 57.0, 43.0, 41.0, 36.0, 49.0, 49.0, 48.0, 43.0, 33.0, 63.0, 25.0, 12.0, 42.0, 12.0, 67.0, 71.0, 17.0, 17.0, 58.0, 33.0, 36.0, 61.0, 41.0, 58.0, 50.0, 57.0, 52.0, 55.0, 20.0, 57.0, 57.0, 17.0, 39.0, 45.0, 60.0, 76.0, 55.0, 29.0, 25.0, 50.0, 64.0, 67.0, 62.0, 29.0, 25.0, 69.0, 17.0, 71.0, 40.0, 56.0, 50.0, 74.0, 50.0, 46.0, 54.0, 54.0, 54.0, 36.0, 31.0, 67.0, 32.0, 44.0, 55.0, 36.0, 33.0, 50.0, 58.0, 41.0, 19.0, 39.0, 39.0, 17.0, 60.0, 17.0, 67.0, 43.0, 67.0, 54.0, 58.0, 50.0], \"yaxis\": \"y\"}],                        {\"legend\": {\"tracegroupgap\": 0}, \"template\": {\"data\": {\"bar\": [{\"error_x\": {\"color\": \"#2a3f5f\"}, \"error_y\": {\"color\": \"#2a3f5f\"}, \"marker\": {\"line\": {\"color\": \"#E5ECF6\", \"width\": 0.5}}, \"type\": \"bar\"}], \"barpolar\": [{\"marker\": {\"line\": {\"color\": \"#E5ECF6\", \"width\": 0.5}}, \"type\": \"barpolar\"}], \"carpet\": [{\"aaxis\": {\"endlinecolor\": \"#2a3f5f\", \"gridcolor\": \"white\", \"linecolor\": \"white\", \"minorgridcolor\": \"white\", \"startlinecolor\": \"#2a3f5f\"}, \"baxis\": {\"endlinecolor\": \"#2a3f5f\", \"gridcolor\": \"white\", \"linecolor\": \"white\", \"minorgridcolor\": \"white\", \"startlinecolor\": \"#2a3f5f\"}, \"type\": \"carpet\"}], \"choropleth\": [{\"colorbar\": {\"outlinewidth\": 0, \"ticks\": \"\"}, \"type\": \"choropleth\"}], \"contour\": [{\"colorbar\": {\"outlinewidth\": 0, \"ticks\": \"\"}, \"colorscale\": [[0.0, \"#0d0887\"], [0.1111111111111111, \"#46039f\"], [0.2222222222222222, \"#7201a8\"], [0.3333333333333333, \"#9c179e\"], [0.4444444444444444, \"#bd3786\"], [0.5555555555555556, \"#d8576b\"], [0.6666666666666666, \"#ed7953\"], [0.7777777777777778, \"#fb9f3a\"], [0.8888888888888888, \"#fdca26\"], [1.0, \"#f0f921\"]], \"type\": \"contour\"}], \"contourcarpet\": [{\"colorbar\": {\"outlinewidth\": 0, \"ticks\": \"\"}, \"type\": \"contourcarpet\"}], \"heatmap\": [{\"colorbar\": {\"outlinewidth\": 0, \"ticks\": \"\"}, \"colorscale\": [[0.0, \"#0d0887\"], [0.1111111111111111, \"#46039f\"], [0.2222222222222222, \"#7201a8\"], [0.3333333333333333, \"#9c179e\"], [0.4444444444444444, \"#bd3786\"], [0.5555555555555556, \"#d8576b\"], [0.6666666666666666, \"#ed7953\"], [0.7777777777777778, \"#fb9f3a\"], [0.8888888888888888, \"#fdca26\"], [1.0, \"#f0f921\"]], \"type\": \"heatmap\"}], \"heatmapgl\": [{\"colorbar\": {\"outlinewidth\": 0, \"ticks\": \"\"}, \"colorscale\": [[0.0, \"#0d0887\"], [0.1111111111111111, \"#46039f\"], [0.2222222222222222, \"#7201a8\"], [0.3333333333333333, \"#9c179e\"], [0.4444444444444444, \"#bd3786\"], [0.5555555555555556, \"#d8576b\"], [0.6666666666666666, \"#ed7953\"], [0.7777777777777778, \"#fb9f3a\"], [0.8888888888888888, \"#fdca26\"], [1.0, \"#f0f921\"]], \"type\": \"heatmapgl\"}], \"histogram\": [{\"marker\": {\"colorbar\": {\"outlinewidth\": 0, \"ticks\": \"\"}}, \"type\": \"histogram\"}], \"histogram2d\": [{\"colorbar\": {\"outlinewidth\": 0, \"ticks\": \"\"}, \"colorscale\": [[0.0, \"#0d0887\"], [0.1111111111111111, \"#46039f\"], [0.2222222222222222, \"#7201a8\"], [0.3333333333333333, \"#9c179e\"], [0.4444444444444444, \"#bd3786\"], [0.5555555555555556, \"#d8576b\"], [0.6666666666666666, \"#ed7953\"], [0.7777777777777778, \"#fb9f3a\"], [0.8888888888888888, \"#fdca26\"], [1.0, \"#f0f921\"]], \"type\": \"histogram2d\"}], \"histogram2dcontour\": [{\"colorbar\": {\"outlinewidth\": 0, \"ticks\": \"\"}, \"colorscale\": [[0.0, \"#0d0887\"], [0.1111111111111111, \"#46039f\"], [0.2222222222222222, \"#7201a8\"], [0.3333333333333333, \"#9c179e\"], [0.4444444444444444, \"#bd3786\"], [0.5555555555555556, \"#d8576b\"], [0.6666666666666666, \"#ed7953\"], [0.7777777777777778, \"#fb9f3a\"], [0.8888888888888888, \"#fdca26\"], [1.0, \"#f0f921\"]], \"type\": \"histogram2dcontour\"}], \"mesh3d\": [{\"colorbar\": {\"outlinewidth\": 0, \"ticks\": \"\"}, \"type\": \"mesh3d\"}], \"parcoords\": [{\"line\": {\"colorbar\": {\"outlinewidth\": 0, \"ticks\": \"\"}}, \"type\": \"parcoords\"}], \"pie\": [{\"automargin\": true, \"type\": \"pie\"}], \"scatter\": [{\"marker\": {\"colorbar\": {\"outlinewidth\": 0, \"ticks\": \"\"}}, \"type\": \"scatter\"}], \"scatter3d\": [{\"line\": {\"colorbar\": {\"outlinewidth\": 0, \"ticks\": \"\"}}, \"marker\": {\"colorbar\": {\"outlinewidth\": 0, \"ticks\": \"\"}}, \"type\": \"scatter3d\"}], \"scattercarpet\": [{\"marker\": {\"colorbar\": {\"outlinewidth\": 0, \"ticks\": \"\"}}, \"type\": \"scattercarpet\"}], \"scattergeo\": [{\"marker\": {\"colorbar\": {\"outlinewidth\": 0, \"ticks\": \"\"}}, \"type\": \"scattergeo\"}], \"scattergl\": [{\"marker\": {\"colorbar\": {\"outlinewidth\": 0, \"ticks\": \"\"}}, \"type\": \"scattergl\"}], \"scattermapbox\": [{\"marker\": {\"colorbar\": {\"outlinewidth\": 0, \"ticks\": \"\"}}, \"type\": \"scattermapbox\"}], \"scatterpolar\": [{\"marker\": {\"colorbar\": {\"outlinewidth\": 0, \"ticks\": \"\"}}, \"type\": \"scatterpolar\"}], \"scatterpolargl\": [{\"marker\": {\"colorbar\": {\"outlinewidth\": 0, \"ticks\": \"\"}}, \"type\": \"scatterpolargl\"}], \"scatterternary\": [{\"marker\": {\"colorbar\": {\"outlinewidth\": 0, \"ticks\": \"\"}}, \"type\": \"scatterternary\"}], \"surface\": [{\"colorbar\": {\"outlinewidth\": 0, \"ticks\": \"\"}, \"colorscale\": [[0.0, \"#0d0887\"], [0.1111111111111111, \"#46039f\"], [0.2222222222222222, \"#7201a8\"], [0.3333333333333333, \"#9c179e\"], [0.4444444444444444, \"#bd3786\"], [0.5555555555555556, \"#d8576b\"], [0.6666666666666666, \"#ed7953\"], [0.7777777777777778, \"#fb9f3a\"], [0.8888888888888888, \"#fdca26\"], [1.0, \"#f0f921\"]], \"type\": \"surface\"}], \"table\": [{\"cells\": {\"fill\": {\"color\": \"#EBF0F8\"}, \"line\": {\"color\": \"white\"}}, \"header\": {\"fill\": {\"color\": \"#C8D4E3\"}, \"line\": {\"color\": \"white\"}}, \"type\": \"table\"}]}, \"layout\": {\"annotationdefaults\": {\"arrowcolor\": \"#2a3f5f\", \"arrowhead\": 0, \"arrowwidth\": 1}, \"autotypenumbers\": \"strict\", \"coloraxis\": {\"colorbar\": {\"outlinewidth\": 0, \"ticks\": \"\"}}, \"colorscale\": {\"diverging\": [[0, \"#8e0152\"], [0.1, \"#c51b7d\"], [0.2, \"#de77ae\"], [0.3, \"#f1b6da\"], [0.4, \"#fde0ef\"], [0.5, \"#f7f7f7\"], [0.6, \"#e6f5d0\"], [0.7, \"#b8e186\"], [0.8, \"#7fbc41\"], [0.9, \"#4d9221\"], [1, \"#276419\"]], \"sequential\": [[0.0, \"#0d0887\"], [0.1111111111111111, \"#46039f\"], [0.2222222222222222, \"#7201a8\"], [0.3333333333333333, \"#9c179e\"], [0.4444444444444444, \"#bd3786\"], [0.5555555555555556, \"#d8576b\"], [0.6666666666666666, \"#ed7953\"], [0.7777777777777778, \"#fb9f3a\"], [0.8888888888888888, \"#fdca26\"], [1.0, \"#f0f921\"]], \"sequentialminus\": [[0.0, \"#0d0887\"], [0.1111111111111111, \"#46039f\"], [0.2222222222222222, \"#7201a8\"], [0.3333333333333333, \"#9c179e\"], [0.4444444444444444, \"#bd3786\"], [0.5555555555555556, \"#d8576b\"], [0.6666666666666666, \"#ed7953\"], [0.7777777777777778, \"#fb9f3a\"], [0.8888888888888888, \"#fdca26\"], [1.0, \"#f0f921\"]]}, \"colorway\": [\"#636efa\", \"#EF553B\", \"#00cc96\", \"#ab63fa\", \"#FFA15A\", \"#19d3f3\", \"#FF6692\", \"#B6E880\", \"#FF97FF\", \"#FECB52\"], \"font\": {\"color\": \"#2a3f5f\"}, \"geo\": {\"bgcolor\": \"white\", \"lakecolor\": \"white\", \"landcolor\": \"#E5ECF6\", \"showlakes\": true, \"showland\": true, \"subunitcolor\": \"white\"}, \"hoverlabel\": {\"align\": \"left\"}, \"hovermode\": \"closest\", \"mapbox\": {\"style\": \"light\"}, \"paper_bgcolor\": \"white\", \"plot_bgcolor\": \"#E5ECF6\", \"polar\": {\"angularaxis\": {\"gridcolor\": \"white\", \"linecolor\": \"white\", \"ticks\": \"\"}, \"bgcolor\": \"#E5ECF6\", \"radialaxis\": {\"gridcolor\": \"white\", \"linecolor\": \"white\", \"ticks\": \"\"}}, \"scene\": {\"xaxis\": {\"backgroundcolor\": \"#E5ECF6\", \"gridcolor\": \"white\", \"gridwidth\": 2, \"linecolor\": \"white\", \"showbackground\": true, \"ticks\": \"\", \"zerolinecolor\": \"white\"}, \"yaxis\": {\"backgroundcolor\": \"#E5ECF6\", \"gridcolor\": \"white\", \"gridwidth\": 2, \"linecolor\": \"white\", \"showbackground\": true, \"ticks\": \"\", \"zerolinecolor\": \"white\"}, \"zaxis\": {\"backgroundcolor\": \"#E5ECF6\", \"gridcolor\": \"white\", \"gridwidth\": 2, \"linecolor\": \"white\", \"showbackground\": true, \"ticks\": \"\", \"zerolinecolor\": \"white\"}}, \"shapedefaults\": {\"line\": {\"color\": \"#2a3f5f\"}}, \"ternary\": {\"aaxis\": {\"gridcolor\": \"white\", \"linecolor\": \"white\", \"ticks\": \"\"}, \"baxis\": {\"gridcolor\": \"white\", \"linecolor\": \"white\", \"ticks\": \"\"}, \"bgcolor\": \"#E5ECF6\", \"caxis\": {\"gridcolor\": \"white\", \"linecolor\": \"white\", \"ticks\": \"\"}}, \"title\": {\"x\": 0.05}, \"xaxis\": {\"automargin\": true, \"gridcolor\": \"white\", \"linecolor\": \"white\", \"ticks\": \"\", \"title\": {\"standoff\": 15}, \"zerolinecolor\": \"white\", \"zerolinewidth\": 2}, \"yaxis\": {\"automargin\": true, \"gridcolor\": \"white\", \"linecolor\": \"white\", \"ticks\": \"\", \"title\": {\"standoff\": 15}, \"zerolinecolor\": \"white\", \"zerolinewidth\": 2}}}, \"title\": {\"text\": \"3956\"}, \"xaxis\": {\"anchor\": \"y\", \"domain\": [0.0, 1.0], \"title\": {\"text\": \"Number of Copies (Main Deck)\"}}, \"yaxis\": {\"anchor\": \"x\", \"domain\": [0.0, 1.0], \"title\": {\"text\": \"Win %\"}}},                        {\"responsive\": true}                    ).then(function(){\n",
       "                            \n",
       "var gd = document.getElementById('dec79689-4279-452d-9ab0-daff573258f4');\n",
       "var x = new MutationObserver(function (mutations, observer) {{\n",
       "        var display = window.getComputedStyle(gd).display;\n",
       "        if (!display || display === 'none') {{\n",
       "            console.log([gd, 'removed!']);\n",
       "            Plotly.purge(gd);\n",
       "            observer.disconnect();\n",
       "        }}\n",
       "}});\n",
       "\n",
       "// Listen for the removal of the full notebook cells\n",
       "var notebookContainer = gd.closest('#notebook-container');\n",
       "if (notebookContainer) {{\n",
       "    x.observe(notebookContainer, {childList: true});\n",
       "}}\n",
       "\n",
       "// Listen for the clearing of the current output cell\n",
       "var outputEl = gd.closest('.output');\n",
       "if (outputEl) {{\n",
       "    x.observe(outputEl, {childList: true});\n",
       "}}\n",
       "\n",
       "                        })                };                });            </script>        </div>"
      ]
     },
     "metadata": {},
     "output_type": "display_data"
    },
    {
     "data": {
      "application/vnd.plotly.v1+json": {
       "config": {
        "plotlyServerURL": "https://plot.ly"
       },
       "data": [
        {
         "customdata": [
          [
           "Forest"
          ],
          [
           "Island"
          ],
          [
           "Survival of the Fittest"
          ],
          [
           "Breeding Pool"
          ],
          [
           "Vengevine"
          ],
          [
           "Mountain"
          ],
          [
           "Joraga Treespeaker"
          ],
          [
           "Swamp"
          ],
          [
           "Yavimaya Coast"
          ],
          [
           "Frantic Search"
          ],
          [
           "Jace, Vryn's Prodigy // Jace, Telepath Unbound"
          ],
          [
           "Watery Grave"
          ],
          [
           "Hangarback Walker"
          ],
          [
           "Inquisition of Kozilek"
          ],
          [
           "Emrakul, the Aeons Torn"
          ],
          [
           "Goryo's Vengeance"
          ],
          [
           "Plains"
          ],
          [
           "Miscalculation"
          ],
          [
           "Llanowar Wastes"
          ],
          [
           "Cloud of Faeries"
          ],
          [
           "Burning-Tree Emissary"
          ],
          [
           "Nest Invader"
          ],
          [
           "Experiment One"
          ],
          [
           "Evolving Wilds"
          ],
          [
           "Caustic Caterpillar"
          ],
          [
           "Bounding Krasis"
          ],
          [
           "Treetop Village"
          ],
          [
           "Umezawa's Jitte"
          ],
          [
           "Negate"
          ],
          [
           "Tinker"
          ],
          [
           "Stomping Ground"
          ],
          [
           "Shivan Reef"
          ],
          [
           "Prophetic Prism"
          ],
          [
           "Oath of Druids"
          ],
          [
           "Elvish Visionary"
          ],
          [
           "Godless Shrine"
          ],
          [
           "Caves of Koilos"
          ],
          [
           "Skyshroud Elite"
          ],
          [
           "See Beyond"
          ],
          [
           "Faerie Conclave"
          ],
          [
           "Disrupting Shoal"
          ],
          [
           "Memory Jar"
          ],
          [
           "Grim Monolith"
          ],
          [
           "Sacred Foundry"
          ],
          [
           "Recurring Nightmare"
          ],
          [
           "City of Traitors"
          ],
          [
           "Tendo Ice Bridge"
          ],
          [
           "Dimir Guildgate"
          ],
          [
           "Splinter Twin"
          ],
          [
           "Mind Over Matter"
          ],
          [
           "Forbid"
          ],
          [
           "Abbot of Keral Keep"
          ],
          [
           "Naturalize"
          ],
          [
           "Fiery Impulse"
          ],
          [
           "Mother of Runes"
          ],
          [
           "Forked Bolt"
          ],
          [
           "Battlefield Forge"
          ],
          [
           "Artificer's Epiphany"
          ],
          [
           "Merfolk Looter"
          ],
          [
           "Infinite Obliteration"
          ],
          [
           "Enclave Cryptologist"
          ],
          [
           "Boros Charm"
          ],
          [
           "Knight of the White Orchid"
          ],
          [
           "Alchemist's Vial"
          ],
          [
           "Vendetta"
          ],
          [
           "Sea Gate Oracle"
          ],
          [
           "Price of Progress"
          ],
          [
           "Titan's Strength"
          ],
          [
           "Student of Warfare"
          ],
          [
           "Skullcrack"
          ],
          [
           "Simic Guildgate"
          ],
          [
           "Orzhov Guildgate"
          ],
          [
           "Obzedat, Ghost Council"
          ],
          [
           "Foundry Street Denizen"
          ],
          [
           "Exquisite Firecraft"
          ],
          [
           "Devour Flesh"
          ],
          [
           "Ancient Stirrings"
          ],
          [
           "Slaughterhorn"
          ],
          [
           "Read the Bones"
          ],
          [
           "Opportunity"
          ],
          [
           "Legion Loyalist"
          ],
          [
           "Kami of False Hope"
          ],
          [
           "Bone Shredder"
          ],
          [
           "Wall of Omens"
          ],
          [
           "Liliana, Heretical Healer // Liliana, Defiant Necromancer"
          ],
          [
           "Languish"
          ],
          [
           "Boros Reckoner"
          ],
          [
           "Shirei, Shizo's Caretaker"
          ],
          [
           "Rancor"
          ],
          [
           "Managorger Hydra"
          ],
          [
           "Honored Hierarch"
          ],
          [
           "Dreamstone Hedron"
          ],
          [
           "Archangel of Tithes"
          ],
          [
           "Ulamog, the Infinite Gyre"
          ],
          [
           "Quicksilver Amulet"
          ],
          [
           "Ghitu Encampment"
          ],
          [
           "Erase"
          ],
          [
           "Wood Elves"
          ],
          [
           "Tajuru Preserver"
          ],
          [
           "Nissa, Vastwood Seer // Nissa, Sage Animist"
          ],
          [
           "Gideon Jura"
          ],
          [
           "Palinchron"
          ],
          [
           "Evolutionary Leap"
          ],
          [
           "Teardrop Kami"
          ],
          [
           "Suffer the Past"
          ],
          [
           "Kozilek, Butcher of Truth"
          ],
          [
           "Whirler Rogue"
          ],
          [
           "Spike Weaver"
          ],
          [
           "Simic Keyrune"
          ],
          [
           "Raven Familiar"
          ],
          [
           "Fleshbag Marauder"
          ],
          [
           "Cloudfin Raptor"
          ],
          [
           "Alhammarret's Archive"
          ],
          [
           "Weatherseed Treefolk"
          ]
         ],
         "hovertemplate": "Number of Copies (Main Deck)=%{x}<br>Win %=%{y}<br>name=%{customdata[0]}<extra></extra>",
         "legendgroup": "",
         "marker": {
          "color": "#636efa",
          "symbol": "circle"
         },
         "mode": "markers",
         "name": "",
         "orientation": "v",
         "showlegend": false,
         "type": "scatter",
         "x": [
          310,
          155,
          123,
          120,
          116,
          116,
          112,
          104,
          103,
          91,
          90,
          88,
          88,
          86,
          78,
          64,
          63,
          59,
          56,
          47,
          47,
          44,
          44,
          43,
          42,
          41,
          40,
          39,
          37,
          32,
          32,
          32,
          32,
          32,
          31,
          28,
          28,
          27,
          27,
          27,
          26,
          24,
          24,
          22,
          22,
          22,
          21,
          21,
          20,
          20,
          20,
          20,
          19,
          18,
          16,
          16,
          16,
          16,
          15,
          15,
          15,
          15,
          14,
          14,
          13,
          13,
          13,
          12,
          12,
          12,
          12,
          12,
          12,
          12,
          12,
          12,
          12,
          11,
          11,
          11,
          11,
          11,
          11,
          10,
          10,
          10,
          10,
          8,
          8,
          8,
          8,
          8,
          8,
          7,
          7,
          7,
          7,
          6,
          6,
          6,
          6,
          5,
          5,
          4,
          4,
          4,
          3,
          3,
          3,
          3,
          3,
          3,
          3,
          2
         ],
         "xaxis": "x",
         "y": [
          54,
          45,
          56,
          51,
          56,
          47,
          57,
          43,
          54,
          45,
          38,
          43,
          56,
          46,
          39,
          43,
          58,
          41,
          44,
          54,
          55,
          60,
          60,
          47,
          57,
          57,
          63,
          60,
          42,
          32,
          53,
          50,
          32,
          40,
          64,
          63,
          63,
          61,
          51,
          40,
          40,
          33,
          33,
          44,
          54,
          30,
          41,
          41,
          55,
          35,
          33,
          40,
          51,
          52,
          44,
          36,
          47,
          39,
          41,
          48,
          35,
          47,
          63,
          18,
          56,
          65,
          42,
          45,
          67,
          47,
          74,
          70,
          56,
          45,
          31,
          54,
          46,
          52,
          52,
          43,
          54,
          46,
          27,
          68,
          46,
          48,
          63,
          46,
          47,
          57,
          64,
          35,
          75,
          63,
          56,
          36,
          67,
          67,
          63,
          59,
          75,
          62,
          67,
          68,
          44,
          23,
          74,
          46,
          46,
          74,
          62,
          74,
          46,
          57
         ],
         "yaxis": "y"
        }
       ],
       "layout": {
        "legend": {
         "tracegroupgap": 0
        },
        "template": {
         "data": {
          "bar": [
           {
            "error_x": {
             "color": "#2a3f5f"
            },
            "error_y": {
             "color": "#2a3f5f"
            },
            "marker": {
             "line": {
              "color": "#E5ECF6",
              "width": 0.5
             }
            },
            "type": "bar"
           }
          ],
          "barpolar": [
           {
            "marker": {
             "line": {
              "color": "#E5ECF6",
              "width": 0.5
             }
            },
            "type": "barpolar"
           }
          ],
          "carpet": [
           {
            "aaxis": {
             "endlinecolor": "#2a3f5f",
             "gridcolor": "white",
             "linecolor": "white",
             "minorgridcolor": "white",
             "startlinecolor": "#2a3f5f"
            },
            "baxis": {
             "endlinecolor": "#2a3f5f",
             "gridcolor": "white",
             "linecolor": "white",
             "minorgridcolor": "white",
             "startlinecolor": "#2a3f5f"
            },
            "type": "carpet"
           }
          ],
          "choropleth": [
           {
            "colorbar": {
             "outlinewidth": 0,
             "ticks": ""
            },
            "type": "choropleth"
           }
          ],
          "contour": [
           {
            "colorbar": {
             "outlinewidth": 0,
             "ticks": ""
            },
            "colorscale": [
             [
              0,
              "#0d0887"
             ],
             [
              0.1111111111111111,
              "#46039f"
             ],
             [
              0.2222222222222222,
              "#7201a8"
             ],
             [
              0.3333333333333333,
              "#9c179e"
             ],
             [
              0.4444444444444444,
              "#bd3786"
             ],
             [
              0.5555555555555556,
              "#d8576b"
             ],
             [
              0.6666666666666666,
              "#ed7953"
             ],
             [
              0.7777777777777778,
              "#fb9f3a"
             ],
             [
              0.8888888888888888,
              "#fdca26"
             ],
             [
              1,
              "#f0f921"
             ]
            ],
            "type": "contour"
           }
          ],
          "contourcarpet": [
           {
            "colorbar": {
             "outlinewidth": 0,
             "ticks": ""
            },
            "type": "contourcarpet"
           }
          ],
          "heatmap": [
           {
            "colorbar": {
             "outlinewidth": 0,
             "ticks": ""
            },
            "colorscale": [
             [
              0,
              "#0d0887"
             ],
             [
              0.1111111111111111,
              "#46039f"
             ],
             [
              0.2222222222222222,
              "#7201a8"
             ],
             [
              0.3333333333333333,
              "#9c179e"
             ],
             [
              0.4444444444444444,
              "#bd3786"
             ],
             [
              0.5555555555555556,
              "#d8576b"
             ],
             [
              0.6666666666666666,
              "#ed7953"
             ],
             [
              0.7777777777777778,
              "#fb9f3a"
             ],
             [
              0.8888888888888888,
              "#fdca26"
             ],
             [
              1,
              "#f0f921"
             ]
            ],
            "type": "heatmap"
           }
          ],
          "heatmapgl": [
           {
            "colorbar": {
             "outlinewidth": 0,
             "ticks": ""
            },
            "colorscale": [
             [
              0,
              "#0d0887"
             ],
             [
              0.1111111111111111,
              "#46039f"
             ],
             [
              0.2222222222222222,
              "#7201a8"
             ],
             [
              0.3333333333333333,
              "#9c179e"
             ],
             [
              0.4444444444444444,
              "#bd3786"
             ],
             [
              0.5555555555555556,
              "#d8576b"
             ],
             [
              0.6666666666666666,
              "#ed7953"
             ],
             [
              0.7777777777777778,
              "#fb9f3a"
             ],
             [
              0.8888888888888888,
              "#fdca26"
             ],
             [
              1,
              "#f0f921"
             ]
            ],
            "type": "heatmapgl"
           }
          ],
          "histogram": [
           {
            "marker": {
             "colorbar": {
              "outlinewidth": 0,
              "ticks": ""
             }
            },
            "type": "histogram"
           }
          ],
          "histogram2d": [
           {
            "colorbar": {
             "outlinewidth": 0,
             "ticks": ""
            },
            "colorscale": [
             [
              0,
              "#0d0887"
             ],
             [
              0.1111111111111111,
              "#46039f"
             ],
             [
              0.2222222222222222,
              "#7201a8"
             ],
             [
              0.3333333333333333,
              "#9c179e"
             ],
             [
              0.4444444444444444,
              "#bd3786"
             ],
             [
              0.5555555555555556,
              "#d8576b"
             ],
             [
              0.6666666666666666,
              "#ed7953"
             ],
             [
              0.7777777777777778,
              "#fb9f3a"
             ],
             [
              0.8888888888888888,
              "#fdca26"
             ],
             [
              1,
              "#f0f921"
             ]
            ],
            "type": "histogram2d"
           }
          ],
          "histogram2dcontour": [
           {
            "colorbar": {
             "outlinewidth": 0,
             "ticks": ""
            },
            "colorscale": [
             [
              0,
              "#0d0887"
             ],
             [
              0.1111111111111111,
              "#46039f"
             ],
             [
              0.2222222222222222,
              "#7201a8"
             ],
             [
              0.3333333333333333,
              "#9c179e"
             ],
             [
              0.4444444444444444,
              "#bd3786"
             ],
             [
              0.5555555555555556,
              "#d8576b"
             ],
             [
              0.6666666666666666,
              "#ed7953"
             ],
             [
              0.7777777777777778,
              "#fb9f3a"
             ],
             [
              0.8888888888888888,
              "#fdca26"
             ],
             [
              1,
              "#f0f921"
             ]
            ],
            "type": "histogram2dcontour"
           }
          ],
          "mesh3d": [
           {
            "colorbar": {
             "outlinewidth": 0,
             "ticks": ""
            },
            "type": "mesh3d"
           }
          ],
          "parcoords": [
           {
            "line": {
             "colorbar": {
              "outlinewidth": 0,
              "ticks": ""
             }
            },
            "type": "parcoords"
           }
          ],
          "pie": [
           {
            "automargin": true,
            "type": "pie"
           }
          ],
          "scatter": [
           {
            "marker": {
             "colorbar": {
              "outlinewidth": 0,
              "ticks": ""
             }
            },
            "type": "scatter"
           }
          ],
          "scatter3d": [
           {
            "line": {
             "colorbar": {
              "outlinewidth": 0,
              "ticks": ""
             }
            },
            "marker": {
             "colorbar": {
              "outlinewidth": 0,
              "ticks": ""
             }
            },
            "type": "scatter3d"
           }
          ],
          "scattercarpet": [
           {
            "marker": {
             "colorbar": {
              "outlinewidth": 0,
              "ticks": ""
             }
            },
            "type": "scattercarpet"
           }
          ],
          "scattergeo": [
           {
            "marker": {
             "colorbar": {
              "outlinewidth": 0,
              "ticks": ""
             }
            },
            "type": "scattergeo"
           }
          ],
          "scattergl": [
           {
            "marker": {
             "colorbar": {
              "outlinewidth": 0,
              "ticks": ""
             }
            },
            "type": "scattergl"
           }
          ],
          "scattermapbox": [
           {
            "marker": {
             "colorbar": {
              "outlinewidth": 0,
              "ticks": ""
             }
            },
            "type": "scattermapbox"
           }
          ],
          "scatterpolar": [
           {
            "marker": {
             "colorbar": {
              "outlinewidth": 0,
              "ticks": ""
             }
            },
            "type": "scatterpolar"
           }
          ],
          "scatterpolargl": [
           {
            "marker": {
             "colorbar": {
              "outlinewidth": 0,
              "ticks": ""
             }
            },
            "type": "scatterpolargl"
           }
          ],
          "scatterternary": [
           {
            "marker": {
             "colorbar": {
              "outlinewidth": 0,
              "ticks": ""
             }
            },
            "type": "scatterternary"
           }
          ],
          "surface": [
           {
            "colorbar": {
             "outlinewidth": 0,
             "ticks": ""
            },
            "colorscale": [
             [
              0,
              "#0d0887"
             ],
             [
              0.1111111111111111,
              "#46039f"
             ],
             [
              0.2222222222222222,
              "#7201a8"
             ],
             [
              0.3333333333333333,
              "#9c179e"
             ],
             [
              0.4444444444444444,
              "#bd3786"
             ],
             [
              0.5555555555555556,
              "#d8576b"
             ],
             [
              0.6666666666666666,
              "#ed7953"
             ],
             [
              0.7777777777777778,
              "#fb9f3a"
             ],
             [
              0.8888888888888888,
              "#fdca26"
             ],
             [
              1,
              "#f0f921"
             ]
            ],
            "type": "surface"
           }
          ],
          "table": [
           {
            "cells": {
             "fill": {
              "color": "#EBF0F8"
             },
             "line": {
              "color": "white"
             }
            },
            "header": {
             "fill": {
              "color": "#C8D4E3"
             },
             "line": {
              "color": "white"
             }
            },
            "type": "table"
           }
          ]
         },
         "layout": {
          "annotationdefaults": {
           "arrowcolor": "#2a3f5f",
           "arrowhead": 0,
           "arrowwidth": 1
          },
          "autotypenumbers": "strict",
          "coloraxis": {
           "colorbar": {
            "outlinewidth": 0,
            "ticks": ""
           }
          },
          "colorscale": {
           "diverging": [
            [
             0,
             "#8e0152"
            ],
            [
             0.1,
             "#c51b7d"
            ],
            [
             0.2,
             "#de77ae"
            ],
            [
             0.3,
             "#f1b6da"
            ],
            [
             0.4,
             "#fde0ef"
            ],
            [
             0.5,
             "#f7f7f7"
            ],
            [
             0.6,
             "#e6f5d0"
            ],
            [
             0.7,
             "#b8e186"
            ],
            [
             0.8,
             "#7fbc41"
            ],
            [
             0.9,
             "#4d9221"
            ],
            [
             1,
             "#276419"
            ]
           ],
           "sequential": [
            [
             0,
             "#0d0887"
            ],
            [
             0.1111111111111111,
             "#46039f"
            ],
            [
             0.2222222222222222,
             "#7201a8"
            ],
            [
             0.3333333333333333,
             "#9c179e"
            ],
            [
             0.4444444444444444,
             "#bd3786"
            ],
            [
             0.5555555555555556,
             "#d8576b"
            ],
            [
             0.6666666666666666,
             "#ed7953"
            ],
            [
             0.7777777777777778,
             "#fb9f3a"
            ],
            [
             0.8888888888888888,
             "#fdca26"
            ],
            [
             1,
             "#f0f921"
            ]
           ],
           "sequentialminus": [
            [
             0,
             "#0d0887"
            ],
            [
             0.1111111111111111,
             "#46039f"
            ],
            [
             0.2222222222222222,
             "#7201a8"
            ],
            [
             0.3333333333333333,
             "#9c179e"
            ],
            [
             0.4444444444444444,
             "#bd3786"
            ],
            [
             0.5555555555555556,
             "#d8576b"
            ],
            [
             0.6666666666666666,
             "#ed7953"
            ],
            [
             0.7777777777777778,
             "#fb9f3a"
            ],
            [
             0.8888888888888888,
             "#fdca26"
            ],
            [
             1,
             "#f0f921"
            ]
           ]
          },
          "colorway": [
           "#636efa",
           "#EF553B",
           "#00cc96",
           "#ab63fa",
           "#FFA15A",
           "#19d3f3",
           "#FF6692",
           "#B6E880",
           "#FF97FF",
           "#FECB52"
          ],
          "font": {
           "color": "#2a3f5f"
          },
          "geo": {
           "bgcolor": "white",
           "lakecolor": "white",
           "landcolor": "#E5ECF6",
           "showlakes": true,
           "showland": true,
           "subunitcolor": "white"
          },
          "hoverlabel": {
           "align": "left"
          },
          "hovermode": "closest",
          "mapbox": {
           "style": "light"
          },
          "paper_bgcolor": "white",
          "plot_bgcolor": "#E5ECF6",
          "polar": {
           "angularaxis": {
            "gridcolor": "white",
            "linecolor": "white",
            "ticks": ""
           },
           "bgcolor": "#E5ECF6",
           "radialaxis": {
            "gridcolor": "white",
            "linecolor": "white",
            "ticks": ""
           }
          },
          "scene": {
           "xaxis": {
            "backgroundcolor": "#E5ECF6",
            "gridcolor": "white",
            "gridwidth": 2,
            "linecolor": "white",
            "showbackground": true,
            "ticks": "",
            "zerolinecolor": "white"
           },
           "yaxis": {
            "backgroundcolor": "#E5ECF6",
            "gridcolor": "white",
            "gridwidth": 2,
            "linecolor": "white",
            "showbackground": true,
            "ticks": "",
            "zerolinecolor": "white"
           },
           "zaxis": {
            "backgroundcolor": "#E5ECF6",
            "gridcolor": "white",
            "gridwidth": 2,
            "linecolor": "white",
            "showbackground": true,
            "ticks": "",
            "zerolinecolor": "white"
           }
          },
          "shapedefaults": {
           "line": {
            "color": "#2a3f5f"
           }
          },
          "ternary": {
           "aaxis": {
            "gridcolor": "white",
            "linecolor": "white",
            "ticks": ""
           },
           "baxis": {
            "gridcolor": "white",
            "linecolor": "white",
            "ticks": ""
           },
           "bgcolor": "#E5ECF6",
           "caxis": {
            "gridcolor": "white",
            "linecolor": "white",
            "ticks": ""
           }
          },
          "title": {
           "x": 0.05
          },
          "xaxis": {
           "automargin": true,
           "gridcolor": "white",
           "linecolor": "white",
           "ticks": "",
           "title": {
            "standoff": 15
           },
           "zerolinecolor": "white",
           "zerolinewidth": 2
          },
          "yaxis": {
           "automargin": true,
           "gridcolor": "white",
           "linecolor": "white",
           "ticks": "",
           "title": {
            "standoff": 15
           },
           "zerolinecolor": "white",
           "zerolinewidth": 2
          }
         }
        },
        "title": {
         "text": "4315"
        },
        "xaxis": {
         "anchor": "y",
         "domain": [
          0,
          1
         ],
         "title": {
          "text": "Number of Copies (Main Deck)"
         }
        },
        "yaxis": {
         "anchor": "x",
         "domain": [
          0,
          1
         ],
         "title": {
          "text": "Win %"
         }
        }
       }
      },
      "text/html": [
       "<div>                            <div id=\"1de4afea-f48e-4888-bef1-095fcbf46413\" class=\"plotly-graph-div\" style=\"height:525px; width:100%;\"></div>            <script type=\"text/javascript\">                require([\"plotly\"], function(Plotly) {                    window.PLOTLYENV=window.PLOTLYENV || {};                                    if (document.getElementById(\"1de4afea-f48e-4888-bef1-095fcbf46413\")) {                    Plotly.newPlot(                        \"1de4afea-f48e-4888-bef1-095fcbf46413\",                        [{\"customdata\": [[\"Forest\"], [\"Island\"], [\"Survival of the Fittest\"], [\"Breeding Pool\"], [\"Vengevine\"], [\"Mountain\"], [\"Joraga Treespeaker\"], [\"Swamp\"], [\"Yavimaya Coast\"], [\"Frantic Search\"], [\"Jace, Vryn's Prodigy // Jace, Telepath Unbound\"], [\"Watery Grave\"], [\"Hangarback Walker\"], [\"Inquisition of Kozilek\"], [\"Emrakul, the Aeons Torn\"], [\"Goryo's Vengeance\"], [\"Plains\"], [\"Miscalculation\"], [\"Llanowar Wastes\"], [\"Cloud of Faeries\"], [\"Burning-Tree Emissary\"], [\"Nest Invader\"], [\"Experiment One\"], [\"Evolving Wilds\"], [\"Caustic Caterpillar\"], [\"Bounding Krasis\"], [\"Treetop Village\"], [\"Umezawa's Jitte\"], [\"Negate\"], [\"Tinker\"], [\"Stomping Ground\"], [\"Shivan Reef\"], [\"Prophetic Prism\"], [\"Oath of Druids\"], [\"Elvish Visionary\"], [\"Godless Shrine\"], [\"Caves of Koilos\"], [\"Skyshroud Elite\"], [\"See Beyond\"], [\"Faerie Conclave\"], [\"Disrupting Shoal\"], [\"Memory Jar\"], [\"Grim Monolith\"], [\"Sacred Foundry\"], [\"Recurring Nightmare\"], [\"City of Traitors\"], [\"Tendo Ice Bridge\"], [\"Dimir Guildgate\"], [\"Splinter Twin\"], [\"Mind Over Matter\"], [\"Forbid\"], [\"Abbot of Keral Keep\"], [\"Naturalize\"], [\"Fiery Impulse\"], [\"Mother of Runes\"], [\"Forked Bolt\"], [\"Battlefield Forge\"], [\"Artificer's Epiphany\"], [\"Merfolk Looter\"], [\"Infinite Obliteration\"], [\"Enclave Cryptologist\"], [\"Boros Charm\"], [\"Knight of the White Orchid\"], [\"Alchemist's Vial\"], [\"Vendetta\"], [\"Sea Gate Oracle\"], [\"Price of Progress\"], [\"Titan's Strength\"], [\"Student of Warfare\"], [\"Skullcrack\"], [\"Simic Guildgate\"], [\"Orzhov Guildgate\"], [\"Obzedat, Ghost Council\"], [\"Foundry Street Denizen\"], [\"Exquisite Firecraft\"], [\"Devour Flesh\"], [\"Ancient Stirrings\"], [\"Slaughterhorn\"], [\"Read the Bones\"], [\"Opportunity\"], [\"Legion Loyalist\"], [\"Kami of False Hope\"], [\"Bone Shredder\"], [\"Wall of Omens\"], [\"Liliana, Heretical Healer // Liliana, Defiant Necromancer\"], [\"Languish\"], [\"Boros Reckoner\"], [\"Shirei, Shizo's Caretaker\"], [\"Rancor\"], [\"Managorger Hydra\"], [\"Honored Hierarch\"], [\"Dreamstone Hedron\"], [\"Archangel of Tithes\"], [\"Ulamog, the Infinite Gyre\"], [\"Quicksilver Amulet\"], [\"Ghitu Encampment\"], [\"Erase\"], [\"Wood Elves\"], [\"Tajuru Preserver\"], [\"Nissa, Vastwood Seer // Nissa, Sage Animist\"], [\"Gideon Jura\"], [\"Palinchron\"], [\"Evolutionary Leap\"], [\"Teardrop Kami\"], [\"Suffer the Past\"], [\"Kozilek, Butcher of Truth\"], [\"Whirler Rogue\"], [\"Spike Weaver\"], [\"Simic Keyrune\"], [\"Raven Familiar\"], [\"Fleshbag Marauder\"], [\"Cloudfin Raptor\"], [\"Alhammarret's Archive\"], [\"Weatherseed Treefolk\"]], \"hovertemplate\": \"Number of Copies (Main Deck)=%{x}<br>Win %=%{y}<br>name=%{customdata[0]}<extra></extra>\", \"legendgroup\": \"\", \"marker\": {\"color\": \"#636efa\", \"symbol\": \"circle\"}, \"mode\": \"markers\", \"name\": \"\", \"orientation\": \"v\", \"showlegend\": false, \"type\": \"scatter\", \"x\": [310, 155, 123, 120, 116, 116, 112, 104, 103, 91, 90, 88, 88, 86, 78, 64, 63, 59, 56, 47, 47, 44, 44, 43, 42, 41, 40, 39, 37, 32, 32, 32, 32, 32, 31, 28, 28, 27, 27, 27, 26, 24, 24, 22, 22, 22, 21, 21, 20, 20, 20, 20, 19, 18, 16, 16, 16, 16, 15, 15, 15, 15, 14, 14, 13, 13, 13, 12, 12, 12, 12, 12, 12, 12, 12, 12, 12, 11, 11, 11, 11, 11, 11, 10, 10, 10, 10, 8, 8, 8, 8, 8, 8, 7, 7, 7, 7, 6, 6, 6, 6, 5, 5, 4, 4, 4, 3, 3, 3, 3, 3, 3, 3, 2], \"xaxis\": \"x\", \"y\": [54.0, 45.0, 56.0, 51.0, 56.0, 47.0, 57.0, 43.0, 54.0, 45.0, 38.0, 43.0, 56.0, 46.0, 39.0, 43.0, 58.0, 41.0, 44.0, 54.0, 55.0, 60.0, 60.0, 47.0, 57.0, 57.0, 63.0, 60.0, 42.0, 32.0, 53.0, 50.0, 32.0, 40.0, 64.0, 63.0, 63.0, 61.0, 51.0, 40.0, 40.0, 33.0, 33.0, 44.0, 54.0, 30.0, 41.0, 41.0, 55.0, 35.0, 33.0, 40.0, 51.0, 52.0, 44.0, 36.0, 47.0, 39.0, 41.0, 48.0, 35.0, 47.0, 63.0, 18.0, 56.0, 65.0, 42.0, 45.0, 67.0, 47.0, 74.0, 70.0, 56.0, 45.0, 31.0, 54.0, 46.0, 52.0, 52.0, 43.0, 54.0, 46.0, 27.0, 68.0, 46.0, 48.0, 63.0, 46.0, 47.0, 57.0, 64.0, 35.0, 75.0, 63.0, 56.0, 36.0, 67.0, 67.0, 63.0, 59.0, 75.0, 62.0, 67.0, 68.0, 44.0, 23.0, 74.0, 46.0, 46.0, 74.0, 62.0, 74.0, 46.0, 57.0], \"yaxis\": \"y\"}],                        {\"legend\": {\"tracegroupgap\": 0}, \"template\": {\"data\": {\"bar\": [{\"error_x\": {\"color\": \"#2a3f5f\"}, \"error_y\": {\"color\": \"#2a3f5f\"}, \"marker\": {\"line\": {\"color\": \"#E5ECF6\", \"width\": 0.5}}, \"type\": \"bar\"}], \"barpolar\": [{\"marker\": {\"line\": {\"color\": \"#E5ECF6\", \"width\": 0.5}}, \"type\": \"barpolar\"}], \"carpet\": [{\"aaxis\": {\"endlinecolor\": \"#2a3f5f\", \"gridcolor\": \"white\", \"linecolor\": \"white\", \"minorgridcolor\": \"white\", \"startlinecolor\": \"#2a3f5f\"}, \"baxis\": {\"endlinecolor\": \"#2a3f5f\", \"gridcolor\": \"white\", \"linecolor\": \"white\", \"minorgridcolor\": \"white\", \"startlinecolor\": \"#2a3f5f\"}, \"type\": \"carpet\"}], \"choropleth\": [{\"colorbar\": {\"outlinewidth\": 0, \"ticks\": \"\"}, \"type\": \"choropleth\"}], \"contour\": [{\"colorbar\": {\"outlinewidth\": 0, \"ticks\": \"\"}, \"colorscale\": [[0.0, \"#0d0887\"], [0.1111111111111111, \"#46039f\"], [0.2222222222222222, \"#7201a8\"], [0.3333333333333333, \"#9c179e\"], [0.4444444444444444, \"#bd3786\"], [0.5555555555555556, \"#d8576b\"], [0.6666666666666666, \"#ed7953\"], [0.7777777777777778, \"#fb9f3a\"], [0.8888888888888888, \"#fdca26\"], [1.0, \"#f0f921\"]], \"type\": \"contour\"}], \"contourcarpet\": [{\"colorbar\": {\"outlinewidth\": 0, \"ticks\": \"\"}, \"type\": \"contourcarpet\"}], \"heatmap\": [{\"colorbar\": {\"outlinewidth\": 0, \"ticks\": \"\"}, \"colorscale\": [[0.0, \"#0d0887\"], [0.1111111111111111, \"#46039f\"], [0.2222222222222222, \"#7201a8\"], [0.3333333333333333, \"#9c179e\"], [0.4444444444444444, \"#bd3786\"], [0.5555555555555556, \"#d8576b\"], [0.6666666666666666, \"#ed7953\"], [0.7777777777777778, \"#fb9f3a\"], [0.8888888888888888, \"#fdca26\"], [1.0, \"#f0f921\"]], \"type\": \"heatmap\"}], \"heatmapgl\": [{\"colorbar\": {\"outlinewidth\": 0, \"ticks\": \"\"}, \"colorscale\": [[0.0, \"#0d0887\"], [0.1111111111111111, \"#46039f\"], [0.2222222222222222, \"#7201a8\"], [0.3333333333333333, \"#9c179e\"], [0.4444444444444444, \"#bd3786\"], [0.5555555555555556, \"#d8576b\"], [0.6666666666666666, \"#ed7953\"], [0.7777777777777778, \"#fb9f3a\"], [0.8888888888888888, \"#fdca26\"], [1.0, \"#f0f921\"]], \"type\": \"heatmapgl\"}], \"histogram\": [{\"marker\": {\"colorbar\": {\"outlinewidth\": 0, \"ticks\": \"\"}}, \"type\": \"histogram\"}], \"histogram2d\": [{\"colorbar\": {\"outlinewidth\": 0, \"ticks\": \"\"}, \"colorscale\": [[0.0, \"#0d0887\"], [0.1111111111111111, \"#46039f\"], [0.2222222222222222, \"#7201a8\"], [0.3333333333333333, \"#9c179e\"], [0.4444444444444444, \"#bd3786\"], [0.5555555555555556, \"#d8576b\"], [0.6666666666666666, \"#ed7953\"], [0.7777777777777778, \"#fb9f3a\"], [0.8888888888888888, \"#fdca26\"], [1.0, \"#f0f921\"]], \"type\": \"histogram2d\"}], \"histogram2dcontour\": [{\"colorbar\": {\"outlinewidth\": 0, \"ticks\": \"\"}, \"colorscale\": [[0.0, \"#0d0887\"], [0.1111111111111111, \"#46039f\"], [0.2222222222222222, \"#7201a8\"], [0.3333333333333333, \"#9c179e\"], [0.4444444444444444, \"#bd3786\"], [0.5555555555555556, \"#d8576b\"], [0.6666666666666666, \"#ed7953\"], [0.7777777777777778, \"#fb9f3a\"], [0.8888888888888888, \"#fdca26\"], [1.0, \"#f0f921\"]], \"type\": \"histogram2dcontour\"}], \"mesh3d\": [{\"colorbar\": {\"outlinewidth\": 0, \"ticks\": \"\"}, \"type\": \"mesh3d\"}], \"parcoords\": [{\"line\": {\"colorbar\": {\"outlinewidth\": 0, \"ticks\": \"\"}}, \"type\": \"parcoords\"}], \"pie\": [{\"automargin\": true, \"type\": \"pie\"}], \"scatter\": [{\"marker\": {\"colorbar\": {\"outlinewidth\": 0, \"ticks\": \"\"}}, \"type\": \"scatter\"}], \"scatter3d\": [{\"line\": {\"colorbar\": {\"outlinewidth\": 0, \"ticks\": \"\"}}, \"marker\": {\"colorbar\": {\"outlinewidth\": 0, \"ticks\": \"\"}}, \"type\": \"scatter3d\"}], \"scattercarpet\": [{\"marker\": {\"colorbar\": {\"outlinewidth\": 0, \"ticks\": \"\"}}, \"type\": \"scattercarpet\"}], \"scattergeo\": [{\"marker\": {\"colorbar\": {\"outlinewidth\": 0, \"ticks\": \"\"}}, \"type\": \"scattergeo\"}], \"scattergl\": [{\"marker\": {\"colorbar\": {\"outlinewidth\": 0, \"ticks\": \"\"}}, \"type\": \"scattergl\"}], \"scattermapbox\": [{\"marker\": {\"colorbar\": {\"outlinewidth\": 0, \"ticks\": \"\"}}, \"type\": \"scattermapbox\"}], \"scatterpolar\": [{\"marker\": {\"colorbar\": {\"outlinewidth\": 0, \"ticks\": \"\"}}, \"type\": \"scatterpolar\"}], \"scatterpolargl\": [{\"marker\": {\"colorbar\": {\"outlinewidth\": 0, \"ticks\": \"\"}}, \"type\": \"scatterpolargl\"}], \"scatterternary\": [{\"marker\": {\"colorbar\": {\"outlinewidth\": 0, \"ticks\": \"\"}}, \"type\": \"scatterternary\"}], \"surface\": [{\"colorbar\": {\"outlinewidth\": 0, \"ticks\": \"\"}, \"colorscale\": [[0.0, \"#0d0887\"], [0.1111111111111111, \"#46039f\"], [0.2222222222222222, \"#7201a8\"], [0.3333333333333333, \"#9c179e\"], [0.4444444444444444, \"#bd3786\"], [0.5555555555555556, \"#d8576b\"], [0.6666666666666666, \"#ed7953\"], [0.7777777777777778, \"#fb9f3a\"], [0.8888888888888888, \"#fdca26\"], [1.0, \"#f0f921\"]], \"type\": \"surface\"}], \"table\": [{\"cells\": {\"fill\": {\"color\": \"#EBF0F8\"}, \"line\": {\"color\": \"white\"}}, \"header\": {\"fill\": {\"color\": \"#C8D4E3\"}, \"line\": {\"color\": \"white\"}}, \"type\": \"table\"}]}, \"layout\": {\"annotationdefaults\": {\"arrowcolor\": \"#2a3f5f\", \"arrowhead\": 0, \"arrowwidth\": 1}, \"autotypenumbers\": \"strict\", \"coloraxis\": {\"colorbar\": {\"outlinewidth\": 0, \"ticks\": \"\"}}, \"colorscale\": {\"diverging\": [[0, \"#8e0152\"], [0.1, \"#c51b7d\"], [0.2, \"#de77ae\"], [0.3, \"#f1b6da\"], [0.4, \"#fde0ef\"], [0.5, \"#f7f7f7\"], [0.6, \"#e6f5d0\"], [0.7, \"#b8e186\"], [0.8, \"#7fbc41\"], [0.9, \"#4d9221\"], [1, \"#276419\"]], \"sequential\": [[0.0, \"#0d0887\"], [0.1111111111111111, \"#46039f\"], [0.2222222222222222, \"#7201a8\"], [0.3333333333333333, \"#9c179e\"], [0.4444444444444444, \"#bd3786\"], [0.5555555555555556, \"#d8576b\"], [0.6666666666666666, \"#ed7953\"], [0.7777777777777778, \"#fb9f3a\"], [0.8888888888888888, \"#fdca26\"], [1.0, \"#f0f921\"]], \"sequentialminus\": [[0.0, \"#0d0887\"], [0.1111111111111111, \"#46039f\"], [0.2222222222222222, \"#7201a8\"], [0.3333333333333333, \"#9c179e\"], [0.4444444444444444, \"#bd3786\"], [0.5555555555555556, \"#d8576b\"], [0.6666666666666666, \"#ed7953\"], [0.7777777777777778, \"#fb9f3a\"], [0.8888888888888888, \"#fdca26\"], [1.0, \"#f0f921\"]]}, \"colorway\": [\"#636efa\", \"#EF553B\", \"#00cc96\", \"#ab63fa\", \"#FFA15A\", \"#19d3f3\", \"#FF6692\", \"#B6E880\", \"#FF97FF\", \"#FECB52\"], \"font\": {\"color\": \"#2a3f5f\"}, \"geo\": {\"bgcolor\": \"white\", \"lakecolor\": \"white\", \"landcolor\": \"#E5ECF6\", \"showlakes\": true, \"showland\": true, \"subunitcolor\": \"white\"}, \"hoverlabel\": {\"align\": \"left\"}, \"hovermode\": \"closest\", \"mapbox\": {\"style\": \"light\"}, \"paper_bgcolor\": \"white\", \"plot_bgcolor\": \"#E5ECF6\", \"polar\": {\"angularaxis\": {\"gridcolor\": \"white\", \"linecolor\": \"white\", \"ticks\": \"\"}, \"bgcolor\": \"#E5ECF6\", \"radialaxis\": {\"gridcolor\": \"white\", \"linecolor\": \"white\", \"ticks\": \"\"}}, \"scene\": {\"xaxis\": {\"backgroundcolor\": \"#E5ECF6\", \"gridcolor\": \"white\", \"gridwidth\": 2, \"linecolor\": \"white\", \"showbackground\": true, \"ticks\": \"\", \"zerolinecolor\": \"white\"}, \"yaxis\": {\"backgroundcolor\": \"#E5ECF6\", \"gridcolor\": \"white\", \"gridwidth\": 2, \"linecolor\": \"white\", \"showbackground\": true, \"ticks\": \"\", \"zerolinecolor\": \"white\"}, \"zaxis\": {\"backgroundcolor\": \"#E5ECF6\", \"gridcolor\": \"white\", \"gridwidth\": 2, \"linecolor\": \"white\", \"showbackground\": true, \"ticks\": \"\", \"zerolinecolor\": \"white\"}}, \"shapedefaults\": {\"line\": {\"color\": \"#2a3f5f\"}}, \"ternary\": {\"aaxis\": {\"gridcolor\": \"white\", \"linecolor\": \"white\", \"ticks\": \"\"}, \"baxis\": {\"gridcolor\": \"white\", \"linecolor\": \"white\", \"ticks\": \"\"}, \"bgcolor\": \"#E5ECF6\", \"caxis\": {\"gridcolor\": \"white\", \"linecolor\": \"white\", \"ticks\": \"\"}}, \"title\": {\"x\": 0.05}, \"xaxis\": {\"automargin\": true, \"gridcolor\": \"white\", \"linecolor\": \"white\", \"ticks\": \"\", \"title\": {\"standoff\": 15}, \"zerolinecolor\": \"white\", \"zerolinewidth\": 2}, \"yaxis\": {\"automargin\": true, \"gridcolor\": \"white\", \"linecolor\": \"white\", \"ticks\": \"\", \"title\": {\"standoff\": 15}, \"zerolinecolor\": \"white\", \"zerolinewidth\": 2}}}, \"title\": {\"text\": \"4315\"}, \"xaxis\": {\"anchor\": \"y\", \"domain\": [0.0, 1.0], \"title\": {\"text\": \"Number of Copies (Main Deck)\"}}, \"yaxis\": {\"anchor\": \"x\", \"domain\": [0.0, 1.0], \"title\": {\"text\": \"Win %\"}}},                        {\"responsive\": true}                    ).then(function(){\n",
       "                            \n",
       "var gd = document.getElementById('1de4afea-f48e-4888-bef1-095fcbf46413');\n",
       "var x = new MutationObserver(function (mutations, observer) {{\n",
       "        var display = window.getComputedStyle(gd).display;\n",
       "        if (!display || display === 'none') {{\n",
       "            console.log([gd, 'removed!']);\n",
       "            Plotly.purge(gd);\n",
       "            observer.disconnect();\n",
       "        }}\n",
       "}});\n",
       "\n",
       "// Listen for the removal of the full notebook cells\n",
       "var notebookContainer = gd.closest('#notebook-container');\n",
       "if (notebookContainer) {{\n",
       "    x.observe(notebookContainer, {childList: true});\n",
       "}}\n",
       "\n",
       "// Listen for the clearing of the current output cell\n",
       "var outputEl = gd.closest('.output');\n",
       "if (outputEl) {{\n",
       "    x.observe(outputEl, {childList: true});\n",
       "}}\n",
       "\n",
       "                        })                };                });            </script>        </div>"
      ]
     },
     "metadata": {},
     "output_type": "display_data"
    },
    {
     "data": {
      "application/vnd.plotly.v1+json": {
       "config": {
        "plotlyServerURL": "https://plot.ly"
       },
       "data": [
        {
         "customdata": [
          [
           "Sol Ring"
          ],
          [
           "Demonic Tutor"
          ],
          [
           "Mana Vault"
          ],
          [
           "Thought-Knot Seer"
          ],
          [
           "Bayou"
          ],
          [
           "Reality Smasher"
          ],
          [
           "Llanowar Wastes"
          ],
          [
           "Strip Mine"
          ],
          [
           "Channel"
          ],
          [
           "Kozilek, the Great Distortion"
          ],
          [
           "Fastbond"
          ],
          [
           "Wheel of Fortune"
          ],
          [
           "Land Grant"
          ],
          [
           "Gush"
          ],
          [
           "Tropical Island"
          ],
          [
           "Underground Sea"
          ],
          [
           "Overgrown Tomb"
          ],
          [
           "Taiga"
          ],
          [
           "Regrowth"
          ],
          [
           "Forest"
          ],
          [
           "Eldrazi Mimic"
          ],
          [
           "Rishadan Port"
          ],
          [
           "Volcanic Island"
          ],
          [
           "Brainstorm"
          ],
          [
           "Warping Wail"
          ],
          [
           "Library of Alexandria"
          ],
          [
           "Endbringer"
          ],
          [
           "Dark Ritual"
          ],
          [
           "Horn of Ramos"
          ],
          [
           "Natural State"
          ],
          [
           "Golgari Signet"
          ],
          [
           "Eldrazi Displacer"
          ],
          [
           "City of Brass"
          ],
          [
           "Plateau"
          ],
          [
           "Eldrazi Obligator"
          ],
          [
           "Battlefield Forge"
          ],
          [
           "Sacred Foundry"
          ],
          [
           "Swords to Plowshares"
          ],
          [
           "Matter Reshaper"
          ],
          [
           "Mishra's Workshop"
          ],
          [
           "Dark Heart of the Wood"
          ],
          [
           "Sea Gate Wreckage"
          ],
          [
           "Life from the Loam"
          ],
          [
           "World Breaker"
          ],
          [
           "Monkey Cage"
          ],
          [
           "Boros Signet"
          ],
          [
           "Juggernaut"
          ],
          [
           "Tundra"
          ],
          [
           "The Immortal Sun"
          ],
          [
           "Caves of Koilos"
          ],
          [
           "Yavimaya Coast"
          ],
          [
           "Savannah"
          ],
          [
           "Cloudstone Curio"
          ],
          [
           "Balance"
          ],
          [
           "Watery Grave"
          ],
          [
           "Crumbling Vestige"
          ],
          [
           "Remand"
          ],
          [
           "Unmask"
          ],
          [
           "Temple Garden"
          ],
          [
           "Sleight of Hand"
          ],
          [
           "Hickory Woodlot"
          ],
          [
           "Maze of Ith"
          ],
          [
           "Fall of the Titans"
          ],
          [
           "Sunhome, Fortress of the Legion"
          ],
          [
           "Counterspell"
          ],
          [
           "Badlands"
          ],
          [
           "Snuff Out"
          ],
          [
           "Scrubland"
          ],
          [
           "Fireball"
          ],
          [
           "Dust Bowl"
          ],
          [
           "Crush of Tentacles"
          ],
          [
           "Nezahal, Primal Tide"
          ],
          [
           "Mastermind's Acquisition"
          ],
          [
           "Bottled Cloister"
          ],
          [
           "Selesnya Signet"
          ],
          [
           "Muddle the Mixture"
          ],
          [
           "Island"
          ],
          [
           "Ghalta, Primal Hunger"
          ],
          [
           "Natural Affinity"
          ],
          [
           "Flood of Recollection"
          ]
         ],
         "hovertemplate": "Number of Copies (Main Deck)=%{x}<br>Win %=%{y}<br>name=%{customdata[0]}<extra></extra>",
         "legendgroup": "",
         "marker": {
          "color": "#636efa",
          "symbol": "circle"
         },
         "mode": "markers",
         "name": "",
         "orientation": "v",
         "showlegend": false,
         "type": "scatter",
         "x": [
          178,
          156,
          154,
          152,
          147,
          128,
          104,
          103,
          103,
          93,
          92,
          80,
          76,
          76,
          74,
          69,
          69,
          67,
          62,
          62,
          60,
          58,
          57,
          57,
          54,
          47,
          47,
          47,
          44,
          43,
          42,
          42,
          41,
          40,
          38,
          36,
          30,
          28,
          28,
          27,
          27,
          26,
          24,
          20,
          20,
          20,
          19,
          18,
          18,
          18,
          17,
          16,
          16,
          16,
          14,
          14,
          13,
          12,
          12,
          12,
          12,
          11,
          10,
          9,
          9,
          8,
          7,
          7,
          6,
          6,
          6,
          5,
          5,
          5,
          4,
          4,
          3,
          3,
          2,
          2
         ],
         "xaxis": "x",
         "y": [
          52,
          48,
          52,
          54,
          50,
          53,
          50,
          53,
          49,
          50,
          48,
          41,
          47,
          44,
          43,
          43,
          48,
          41,
          41,
          52,
          56,
          57,
          38,
          46,
          55,
          46,
          49,
          34,
          52,
          57,
          59,
          57,
          52,
          54,
          54,
          54,
          55,
          62,
          50,
          52,
          48,
          59,
          45,
          55,
          58,
          46,
          64,
          33,
          57,
          56,
          37,
          57,
          38,
          45,
          55,
          43,
          59,
          27,
          69,
          38,
          60,
          37,
          38,
          46,
          67,
          53,
          68,
          42,
          30,
          69,
          57,
          63,
          35,
          71,
          79,
          58,
          71,
          71,
          58,
          58
         ],
         "yaxis": "y"
        }
       ],
       "layout": {
        "legend": {
         "tracegroupgap": 0
        },
        "template": {
         "data": {
          "bar": [
           {
            "error_x": {
             "color": "#2a3f5f"
            },
            "error_y": {
             "color": "#2a3f5f"
            },
            "marker": {
             "line": {
              "color": "#E5ECF6",
              "width": 0.5
             }
            },
            "type": "bar"
           }
          ],
          "barpolar": [
           {
            "marker": {
             "line": {
              "color": "#E5ECF6",
              "width": 0.5
             }
            },
            "type": "barpolar"
           }
          ],
          "carpet": [
           {
            "aaxis": {
             "endlinecolor": "#2a3f5f",
             "gridcolor": "white",
             "linecolor": "white",
             "minorgridcolor": "white",
             "startlinecolor": "#2a3f5f"
            },
            "baxis": {
             "endlinecolor": "#2a3f5f",
             "gridcolor": "white",
             "linecolor": "white",
             "minorgridcolor": "white",
             "startlinecolor": "#2a3f5f"
            },
            "type": "carpet"
           }
          ],
          "choropleth": [
           {
            "colorbar": {
             "outlinewidth": 0,
             "ticks": ""
            },
            "type": "choropleth"
           }
          ],
          "contour": [
           {
            "colorbar": {
             "outlinewidth": 0,
             "ticks": ""
            },
            "colorscale": [
             [
              0,
              "#0d0887"
             ],
             [
              0.1111111111111111,
              "#46039f"
             ],
             [
              0.2222222222222222,
              "#7201a8"
             ],
             [
              0.3333333333333333,
              "#9c179e"
             ],
             [
              0.4444444444444444,
              "#bd3786"
             ],
             [
              0.5555555555555556,
              "#d8576b"
             ],
             [
              0.6666666666666666,
              "#ed7953"
             ],
             [
              0.7777777777777778,
              "#fb9f3a"
             ],
             [
              0.8888888888888888,
              "#fdca26"
             ],
             [
              1,
              "#f0f921"
             ]
            ],
            "type": "contour"
           }
          ],
          "contourcarpet": [
           {
            "colorbar": {
             "outlinewidth": 0,
             "ticks": ""
            },
            "type": "contourcarpet"
           }
          ],
          "heatmap": [
           {
            "colorbar": {
             "outlinewidth": 0,
             "ticks": ""
            },
            "colorscale": [
             [
              0,
              "#0d0887"
             ],
             [
              0.1111111111111111,
              "#46039f"
             ],
             [
              0.2222222222222222,
              "#7201a8"
             ],
             [
              0.3333333333333333,
              "#9c179e"
             ],
             [
              0.4444444444444444,
              "#bd3786"
             ],
             [
              0.5555555555555556,
              "#d8576b"
             ],
             [
              0.6666666666666666,
              "#ed7953"
             ],
             [
              0.7777777777777778,
              "#fb9f3a"
             ],
             [
              0.8888888888888888,
              "#fdca26"
             ],
             [
              1,
              "#f0f921"
             ]
            ],
            "type": "heatmap"
           }
          ],
          "heatmapgl": [
           {
            "colorbar": {
             "outlinewidth": 0,
             "ticks": ""
            },
            "colorscale": [
             [
              0,
              "#0d0887"
             ],
             [
              0.1111111111111111,
              "#46039f"
             ],
             [
              0.2222222222222222,
              "#7201a8"
             ],
             [
              0.3333333333333333,
              "#9c179e"
             ],
             [
              0.4444444444444444,
              "#bd3786"
             ],
             [
              0.5555555555555556,
              "#d8576b"
             ],
             [
              0.6666666666666666,
              "#ed7953"
             ],
             [
              0.7777777777777778,
              "#fb9f3a"
             ],
             [
              0.8888888888888888,
              "#fdca26"
             ],
             [
              1,
              "#f0f921"
             ]
            ],
            "type": "heatmapgl"
           }
          ],
          "histogram": [
           {
            "marker": {
             "colorbar": {
              "outlinewidth": 0,
              "ticks": ""
             }
            },
            "type": "histogram"
           }
          ],
          "histogram2d": [
           {
            "colorbar": {
             "outlinewidth": 0,
             "ticks": ""
            },
            "colorscale": [
             [
              0,
              "#0d0887"
             ],
             [
              0.1111111111111111,
              "#46039f"
             ],
             [
              0.2222222222222222,
              "#7201a8"
             ],
             [
              0.3333333333333333,
              "#9c179e"
             ],
             [
              0.4444444444444444,
              "#bd3786"
             ],
             [
              0.5555555555555556,
              "#d8576b"
             ],
             [
              0.6666666666666666,
              "#ed7953"
             ],
             [
              0.7777777777777778,
              "#fb9f3a"
             ],
             [
              0.8888888888888888,
              "#fdca26"
             ],
             [
              1,
              "#f0f921"
             ]
            ],
            "type": "histogram2d"
           }
          ],
          "histogram2dcontour": [
           {
            "colorbar": {
             "outlinewidth": 0,
             "ticks": ""
            },
            "colorscale": [
             [
              0,
              "#0d0887"
             ],
             [
              0.1111111111111111,
              "#46039f"
             ],
             [
              0.2222222222222222,
              "#7201a8"
             ],
             [
              0.3333333333333333,
              "#9c179e"
             ],
             [
              0.4444444444444444,
              "#bd3786"
             ],
             [
              0.5555555555555556,
              "#d8576b"
             ],
             [
              0.6666666666666666,
              "#ed7953"
             ],
             [
              0.7777777777777778,
              "#fb9f3a"
             ],
             [
              0.8888888888888888,
              "#fdca26"
             ],
             [
              1,
              "#f0f921"
             ]
            ],
            "type": "histogram2dcontour"
           }
          ],
          "mesh3d": [
           {
            "colorbar": {
             "outlinewidth": 0,
             "ticks": ""
            },
            "type": "mesh3d"
           }
          ],
          "parcoords": [
           {
            "line": {
             "colorbar": {
              "outlinewidth": 0,
              "ticks": ""
             }
            },
            "type": "parcoords"
           }
          ],
          "pie": [
           {
            "automargin": true,
            "type": "pie"
           }
          ],
          "scatter": [
           {
            "marker": {
             "colorbar": {
              "outlinewidth": 0,
              "ticks": ""
             }
            },
            "type": "scatter"
           }
          ],
          "scatter3d": [
           {
            "line": {
             "colorbar": {
              "outlinewidth": 0,
              "ticks": ""
             }
            },
            "marker": {
             "colorbar": {
              "outlinewidth": 0,
              "ticks": ""
             }
            },
            "type": "scatter3d"
           }
          ],
          "scattercarpet": [
           {
            "marker": {
             "colorbar": {
              "outlinewidth": 0,
              "ticks": ""
             }
            },
            "type": "scattercarpet"
           }
          ],
          "scattergeo": [
           {
            "marker": {
             "colorbar": {
              "outlinewidth": 0,
              "ticks": ""
             }
            },
            "type": "scattergeo"
           }
          ],
          "scattergl": [
           {
            "marker": {
             "colorbar": {
              "outlinewidth": 0,
              "ticks": ""
             }
            },
            "type": "scattergl"
           }
          ],
          "scattermapbox": [
           {
            "marker": {
             "colorbar": {
              "outlinewidth": 0,
              "ticks": ""
             }
            },
            "type": "scattermapbox"
           }
          ],
          "scatterpolar": [
           {
            "marker": {
             "colorbar": {
              "outlinewidth": 0,
              "ticks": ""
             }
            },
            "type": "scatterpolar"
           }
          ],
          "scatterpolargl": [
           {
            "marker": {
             "colorbar": {
              "outlinewidth": 0,
              "ticks": ""
             }
            },
            "type": "scatterpolargl"
           }
          ],
          "scatterternary": [
           {
            "marker": {
             "colorbar": {
              "outlinewidth": 0,
              "ticks": ""
             }
            },
            "type": "scatterternary"
           }
          ],
          "surface": [
           {
            "colorbar": {
             "outlinewidth": 0,
             "ticks": ""
            },
            "colorscale": [
             [
              0,
              "#0d0887"
             ],
             [
              0.1111111111111111,
              "#46039f"
             ],
             [
              0.2222222222222222,
              "#7201a8"
             ],
             [
              0.3333333333333333,
              "#9c179e"
             ],
             [
              0.4444444444444444,
              "#bd3786"
             ],
             [
              0.5555555555555556,
              "#d8576b"
             ],
             [
              0.6666666666666666,
              "#ed7953"
             ],
             [
              0.7777777777777778,
              "#fb9f3a"
             ],
             [
              0.8888888888888888,
              "#fdca26"
             ],
             [
              1,
              "#f0f921"
             ]
            ],
            "type": "surface"
           }
          ],
          "table": [
           {
            "cells": {
             "fill": {
              "color": "#EBF0F8"
             },
             "line": {
              "color": "white"
             }
            },
            "header": {
             "fill": {
              "color": "#C8D4E3"
             },
             "line": {
              "color": "white"
             }
            },
            "type": "table"
           }
          ]
         },
         "layout": {
          "annotationdefaults": {
           "arrowcolor": "#2a3f5f",
           "arrowhead": 0,
           "arrowwidth": 1
          },
          "autotypenumbers": "strict",
          "coloraxis": {
           "colorbar": {
            "outlinewidth": 0,
            "ticks": ""
           }
          },
          "colorscale": {
           "diverging": [
            [
             0,
             "#8e0152"
            ],
            [
             0.1,
             "#c51b7d"
            ],
            [
             0.2,
             "#de77ae"
            ],
            [
             0.3,
             "#f1b6da"
            ],
            [
             0.4,
             "#fde0ef"
            ],
            [
             0.5,
             "#f7f7f7"
            ],
            [
             0.6,
             "#e6f5d0"
            ],
            [
             0.7,
             "#b8e186"
            ],
            [
             0.8,
             "#7fbc41"
            ],
            [
             0.9,
             "#4d9221"
            ],
            [
             1,
             "#276419"
            ]
           ],
           "sequential": [
            [
             0,
             "#0d0887"
            ],
            [
             0.1111111111111111,
             "#46039f"
            ],
            [
             0.2222222222222222,
             "#7201a8"
            ],
            [
             0.3333333333333333,
             "#9c179e"
            ],
            [
             0.4444444444444444,
             "#bd3786"
            ],
            [
             0.5555555555555556,
             "#d8576b"
            ],
            [
             0.6666666666666666,
             "#ed7953"
            ],
            [
             0.7777777777777778,
             "#fb9f3a"
            ],
            [
             0.8888888888888888,
             "#fdca26"
            ],
            [
             1,
             "#f0f921"
            ]
           ],
           "sequentialminus": [
            [
             0,
             "#0d0887"
            ],
            [
             0.1111111111111111,
             "#46039f"
            ],
            [
             0.2222222222222222,
             "#7201a8"
            ],
            [
             0.3333333333333333,
             "#9c179e"
            ],
            [
             0.4444444444444444,
             "#bd3786"
            ],
            [
             0.5555555555555556,
             "#d8576b"
            ],
            [
             0.6666666666666666,
             "#ed7953"
            ],
            [
             0.7777777777777778,
             "#fb9f3a"
            ],
            [
             0.8888888888888888,
             "#fdca26"
            ],
            [
             1,
             "#f0f921"
            ]
           ]
          },
          "colorway": [
           "#636efa",
           "#EF553B",
           "#00cc96",
           "#ab63fa",
           "#FFA15A",
           "#19d3f3",
           "#FF6692",
           "#B6E880",
           "#FF97FF",
           "#FECB52"
          ],
          "font": {
           "color": "#2a3f5f"
          },
          "geo": {
           "bgcolor": "white",
           "lakecolor": "white",
           "landcolor": "#E5ECF6",
           "showlakes": true,
           "showland": true,
           "subunitcolor": "white"
          },
          "hoverlabel": {
           "align": "left"
          },
          "hovermode": "closest",
          "mapbox": {
           "style": "light"
          },
          "paper_bgcolor": "white",
          "plot_bgcolor": "#E5ECF6",
          "polar": {
           "angularaxis": {
            "gridcolor": "white",
            "linecolor": "white",
            "ticks": ""
           },
           "bgcolor": "#E5ECF6",
           "radialaxis": {
            "gridcolor": "white",
            "linecolor": "white",
            "ticks": ""
           }
          },
          "scene": {
           "xaxis": {
            "backgroundcolor": "#E5ECF6",
            "gridcolor": "white",
            "gridwidth": 2,
            "linecolor": "white",
            "showbackground": true,
            "ticks": "",
            "zerolinecolor": "white"
           },
           "yaxis": {
            "backgroundcolor": "#E5ECF6",
            "gridcolor": "white",
            "gridwidth": 2,
            "linecolor": "white",
            "showbackground": true,
            "ticks": "",
            "zerolinecolor": "white"
           },
           "zaxis": {
            "backgroundcolor": "#E5ECF6",
            "gridcolor": "white",
            "gridwidth": 2,
            "linecolor": "white",
            "showbackground": true,
            "ticks": "",
            "zerolinecolor": "white"
           }
          },
          "shapedefaults": {
           "line": {
            "color": "#2a3f5f"
           }
          },
          "ternary": {
           "aaxis": {
            "gridcolor": "white",
            "linecolor": "white",
            "ticks": ""
           },
           "baxis": {
            "gridcolor": "white",
            "linecolor": "white",
            "ticks": ""
           },
           "bgcolor": "#E5ECF6",
           "caxis": {
            "gridcolor": "white",
            "linecolor": "white",
            "ticks": ""
           }
          },
          "title": {
           "x": 0.05
          },
          "xaxis": {
           "automargin": true,
           "gridcolor": "white",
           "linecolor": "white",
           "ticks": "",
           "title": {
            "standoff": 15
           },
           "zerolinecolor": "white",
           "zerolinewidth": 2
          },
          "yaxis": {
           "automargin": true,
           "gridcolor": "white",
           "linecolor": "white",
           "ticks": "",
           "title": {
            "standoff": 15
           },
           "zerolinecolor": "white",
           "zerolinewidth": 2
          }
         }
        },
        "title": {
         "text": "4610"
        },
        "xaxis": {
         "anchor": "y",
         "domain": [
          0,
          1
         ],
         "title": {
          "text": "Number of Copies (Main Deck)"
         }
        },
        "yaxis": {
         "anchor": "x",
         "domain": [
          0,
          1
         ],
         "title": {
          "text": "Win %"
         }
        }
       }
      },
      "text/html": [
       "<div>                            <div id=\"9442388d-eabb-435a-be0e-39e7b10b31b0\" class=\"plotly-graph-div\" style=\"height:525px; width:100%;\"></div>            <script type=\"text/javascript\">                require([\"plotly\"], function(Plotly) {                    window.PLOTLYENV=window.PLOTLYENV || {};                                    if (document.getElementById(\"9442388d-eabb-435a-be0e-39e7b10b31b0\")) {                    Plotly.newPlot(                        \"9442388d-eabb-435a-be0e-39e7b10b31b0\",                        [{\"customdata\": [[\"Sol Ring\"], [\"Demonic Tutor\"], [\"Mana Vault\"], [\"Thought-Knot Seer\"], [\"Bayou\"], [\"Reality Smasher\"], [\"Llanowar Wastes\"], [\"Strip Mine\"], [\"Channel\"], [\"Kozilek, the Great Distortion\"], [\"Fastbond\"], [\"Wheel of Fortune\"], [\"Land Grant\"], [\"Gush\"], [\"Tropical Island\"], [\"Underground Sea\"], [\"Overgrown Tomb\"], [\"Taiga\"], [\"Regrowth\"], [\"Forest\"], [\"Eldrazi Mimic\"], [\"Rishadan Port\"], [\"Volcanic Island\"], [\"Brainstorm\"], [\"Warping Wail\"], [\"Library of Alexandria\"], [\"Endbringer\"], [\"Dark Ritual\"], [\"Horn of Ramos\"], [\"Natural State\"], [\"Golgari Signet\"], [\"Eldrazi Displacer\"], [\"City of Brass\"], [\"Plateau\"], [\"Eldrazi Obligator\"], [\"Battlefield Forge\"], [\"Sacred Foundry\"], [\"Swords to Plowshares\"], [\"Matter Reshaper\"], [\"Mishra's Workshop\"], [\"Dark Heart of the Wood\"], [\"Sea Gate Wreckage\"], [\"Life from the Loam\"], [\"World Breaker\"], [\"Monkey Cage\"], [\"Boros Signet\"], [\"Juggernaut\"], [\"Tundra\"], [\"The Immortal Sun\"], [\"Caves of Koilos\"], [\"Yavimaya Coast\"], [\"Savannah\"], [\"Cloudstone Curio\"], [\"Balance\"], [\"Watery Grave\"], [\"Crumbling Vestige\"], [\"Remand\"], [\"Unmask\"], [\"Temple Garden\"], [\"Sleight of Hand\"], [\"Hickory Woodlot\"], [\"Maze of Ith\"], [\"Fall of the Titans\"], [\"Sunhome, Fortress of the Legion\"], [\"Counterspell\"], [\"Badlands\"], [\"Snuff Out\"], [\"Scrubland\"], [\"Fireball\"], [\"Dust Bowl\"], [\"Crush of Tentacles\"], [\"Nezahal, Primal Tide\"], [\"Mastermind's Acquisition\"], [\"Bottled Cloister\"], [\"Selesnya Signet\"], [\"Muddle the Mixture\"], [\"Island\"], [\"Ghalta, Primal Hunger\"], [\"Natural Affinity\"], [\"Flood of Recollection\"]], \"hovertemplate\": \"Number of Copies (Main Deck)=%{x}<br>Win %=%{y}<br>name=%{customdata[0]}<extra></extra>\", \"legendgroup\": \"\", \"marker\": {\"color\": \"#636efa\", \"symbol\": \"circle\"}, \"mode\": \"markers\", \"name\": \"\", \"orientation\": \"v\", \"showlegend\": false, \"type\": \"scatter\", \"x\": [178, 156, 154, 152, 147, 128, 104, 103, 103, 93, 92, 80, 76, 76, 74, 69, 69, 67, 62, 62, 60, 58, 57, 57, 54, 47, 47, 47, 44, 43, 42, 42, 41, 40, 38, 36, 30, 28, 28, 27, 27, 26, 24, 20, 20, 20, 19, 18, 18, 18, 17, 16, 16, 16, 14, 14, 13, 12, 12, 12, 12, 11, 10, 9, 9, 8, 7, 7, 6, 6, 6, 5, 5, 5, 4, 4, 3, 3, 2, 2], \"xaxis\": \"x\", \"y\": [52.0, 48.0, 52.0, 54.0, 50.0, 53.0, 50.0, 53.0, 49.0, 50.0, 48.0, 41.0, 47.0, 44.0, 43.0, 43.0, 48.0, 41.0, 41.0, 52.0, 56.0, 57.0, 38.0, 46.0, 55.0, 46.0, 49.0, 34.0, 52.0, 57.0, 59.0, 57.0, 52.0, 54.0, 54.0, 54.0, 55.0, 62.0, 50.0, 52.0, 48.0, 59.0, 45.0, 55.0, 58.0, 46.0, 64.0, 33.0, 57.0, 56.0, 37.0, 57.0, 38.0, 45.0, 55.0, 43.0, 59.0, 27.0, 69.0, 38.0, 60.0, 37.0, 38.0, 46.0, 67.0, 53.0, 68.0, 42.0, 30.0, 69.0, 57.0, 63.0, 35.0, 71.0, 79.0, 58.0, 71.0, 71.0, 58.0, 58.0], \"yaxis\": \"y\"}],                        {\"legend\": {\"tracegroupgap\": 0}, \"template\": {\"data\": {\"bar\": [{\"error_x\": {\"color\": \"#2a3f5f\"}, \"error_y\": {\"color\": \"#2a3f5f\"}, \"marker\": {\"line\": {\"color\": \"#E5ECF6\", \"width\": 0.5}}, \"type\": \"bar\"}], \"barpolar\": [{\"marker\": {\"line\": {\"color\": \"#E5ECF6\", \"width\": 0.5}}, \"type\": \"barpolar\"}], \"carpet\": [{\"aaxis\": {\"endlinecolor\": \"#2a3f5f\", \"gridcolor\": \"white\", \"linecolor\": \"white\", \"minorgridcolor\": \"white\", \"startlinecolor\": \"#2a3f5f\"}, \"baxis\": {\"endlinecolor\": \"#2a3f5f\", \"gridcolor\": \"white\", \"linecolor\": \"white\", \"minorgridcolor\": \"white\", \"startlinecolor\": \"#2a3f5f\"}, \"type\": \"carpet\"}], \"choropleth\": [{\"colorbar\": {\"outlinewidth\": 0, \"ticks\": \"\"}, \"type\": \"choropleth\"}], \"contour\": [{\"colorbar\": {\"outlinewidth\": 0, \"ticks\": \"\"}, \"colorscale\": [[0.0, \"#0d0887\"], [0.1111111111111111, \"#46039f\"], [0.2222222222222222, \"#7201a8\"], [0.3333333333333333, \"#9c179e\"], [0.4444444444444444, \"#bd3786\"], [0.5555555555555556, \"#d8576b\"], [0.6666666666666666, \"#ed7953\"], [0.7777777777777778, \"#fb9f3a\"], [0.8888888888888888, \"#fdca26\"], [1.0, \"#f0f921\"]], \"type\": \"contour\"}], \"contourcarpet\": [{\"colorbar\": {\"outlinewidth\": 0, \"ticks\": \"\"}, \"type\": \"contourcarpet\"}], \"heatmap\": [{\"colorbar\": {\"outlinewidth\": 0, \"ticks\": \"\"}, \"colorscale\": [[0.0, \"#0d0887\"], [0.1111111111111111, \"#46039f\"], [0.2222222222222222, \"#7201a8\"], [0.3333333333333333, \"#9c179e\"], [0.4444444444444444, \"#bd3786\"], [0.5555555555555556, \"#d8576b\"], [0.6666666666666666, \"#ed7953\"], [0.7777777777777778, \"#fb9f3a\"], [0.8888888888888888, \"#fdca26\"], [1.0, \"#f0f921\"]], \"type\": \"heatmap\"}], \"heatmapgl\": [{\"colorbar\": {\"outlinewidth\": 0, \"ticks\": \"\"}, \"colorscale\": [[0.0, \"#0d0887\"], [0.1111111111111111, \"#46039f\"], [0.2222222222222222, \"#7201a8\"], [0.3333333333333333, \"#9c179e\"], [0.4444444444444444, \"#bd3786\"], [0.5555555555555556, \"#d8576b\"], [0.6666666666666666, \"#ed7953\"], [0.7777777777777778, \"#fb9f3a\"], [0.8888888888888888, \"#fdca26\"], [1.0, \"#f0f921\"]], \"type\": \"heatmapgl\"}], \"histogram\": [{\"marker\": {\"colorbar\": {\"outlinewidth\": 0, \"ticks\": \"\"}}, \"type\": \"histogram\"}], \"histogram2d\": [{\"colorbar\": {\"outlinewidth\": 0, \"ticks\": \"\"}, \"colorscale\": [[0.0, \"#0d0887\"], [0.1111111111111111, \"#46039f\"], [0.2222222222222222, \"#7201a8\"], [0.3333333333333333, \"#9c179e\"], [0.4444444444444444, \"#bd3786\"], [0.5555555555555556, \"#d8576b\"], [0.6666666666666666, \"#ed7953\"], [0.7777777777777778, \"#fb9f3a\"], [0.8888888888888888, \"#fdca26\"], [1.0, \"#f0f921\"]], \"type\": \"histogram2d\"}], \"histogram2dcontour\": [{\"colorbar\": {\"outlinewidth\": 0, \"ticks\": \"\"}, \"colorscale\": [[0.0, \"#0d0887\"], [0.1111111111111111, \"#46039f\"], [0.2222222222222222, \"#7201a8\"], [0.3333333333333333, \"#9c179e\"], [0.4444444444444444, \"#bd3786\"], [0.5555555555555556, \"#d8576b\"], [0.6666666666666666, \"#ed7953\"], [0.7777777777777778, \"#fb9f3a\"], [0.8888888888888888, \"#fdca26\"], [1.0, \"#f0f921\"]], \"type\": \"histogram2dcontour\"}], \"mesh3d\": [{\"colorbar\": {\"outlinewidth\": 0, \"ticks\": \"\"}, \"type\": \"mesh3d\"}], \"parcoords\": [{\"line\": {\"colorbar\": {\"outlinewidth\": 0, \"ticks\": \"\"}}, \"type\": \"parcoords\"}], \"pie\": [{\"automargin\": true, \"type\": \"pie\"}], \"scatter\": [{\"marker\": {\"colorbar\": {\"outlinewidth\": 0, \"ticks\": \"\"}}, \"type\": \"scatter\"}], \"scatter3d\": [{\"line\": {\"colorbar\": {\"outlinewidth\": 0, \"ticks\": \"\"}}, \"marker\": {\"colorbar\": {\"outlinewidth\": 0, \"ticks\": \"\"}}, \"type\": \"scatter3d\"}], \"scattercarpet\": [{\"marker\": {\"colorbar\": {\"outlinewidth\": 0, \"ticks\": \"\"}}, \"type\": \"scattercarpet\"}], \"scattergeo\": [{\"marker\": {\"colorbar\": {\"outlinewidth\": 0, \"ticks\": \"\"}}, \"type\": \"scattergeo\"}], \"scattergl\": [{\"marker\": {\"colorbar\": {\"outlinewidth\": 0, \"ticks\": \"\"}}, \"type\": \"scattergl\"}], \"scattermapbox\": [{\"marker\": {\"colorbar\": {\"outlinewidth\": 0, \"ticks\": \"\"}}, \"type\": \"scattermapbox\"}], \"scatterpolar\": [{\"marker\": {\"colorbar\": {\"outlinewidth\": 0, \"ticks\": \"\"}}, \"type\": \"scatterpolar\"}], \"scatterpolargl\": [{\"marker\": {\"colorbar\": {\"outlinewidth\": 0, \"ticks\": \"\"}}, \"type\": \"scatterpolargl\"}], \"scatterternary\": [{\"marker\": {\"colorbar\": {\"outlinewidth\": 0, \"ticks\": \"\"}}, \"type\": \"scatterternary\"}], \"surface\": [{\"colorbar\": {\"outlinewidth\": 0, \"ticks\": \"\"}, \"colorscale\": [[0.0, \"#0d0887\"], [0.1111111111111111, \"#46039f\"], [0.2222222222222222, \"#7201a8\"], [0.3333333333333333, \"#9c179e\"], [0.4444444444444444, \"#bd3786\"], [0.5555555555555556, \"#d8576b\"], [0.6666666666666666, \"#ed7953\"], [0.7777777777777778, \"#fb9f3a\"], [0.8888888888888888, \"#fdca26\"], [1.0, \"#f0f921\"]], \"type\": \"surface\"}], \"table\": [{\"cells\": {\"fill\": {\"color\": \"#EBF0F8\"}, \"line\": {\"color\": \"white\"}}, \"header\": {\"fill\": {\"color\": \"#C8D4E3\"}, \"line\": {\"color\": \"white\"}}, \"type\": \"table\"}]}, \"layout\": {\"annotationdefaults\": {\"arrowcolor\": \"#2a3f5f\", \"arrowhead\": 0, \"arrowwidth\": 1}, \"autotypenumbers\": \"strict\", \"coloraxis\": {\"colorbar\": {\"outlinewidth\": 0, \"ticks\": \"\"}}, \"colorscale\": {\"diverging\": [[0, \"#8e0152\"], [0.1, \"#c51b7d\"], [0.2, \"#de77ae\"], [0.3, \"#f1b6da\"], [0.4, \"#fde0ef\"], [0.5, \"#f7f7f7\"], [0.6, \"#e6f5d0\"], [0.7, \"#b8e186\"], [0.8, \"#7fbc41\"], [0.9, \"#4d9221\"], [1, \"#276419\"]], \"sequential\": [[0.0, \"#0d0887\"], [0.1111111111111111, \"#46039f\"], [0.2222222222222222, \"#7201a8\"], [0.3333333333333333, \"#9c179e\"], [0.4444444444444444, \"#bd3786\"], [0.5555555555555556, \"#d8576b\"], [0.6666666666666666, \"#ed7953\"], [0.7777777777777778, \"#fb9f3a\"], [0.8888888888888888, \"#fdca26\"], [1.0, \"#f0f921\"]], \"sequentialminus\": [[0.0, \"#0d0887\"], [0.1111111111111111, \"#46039f\"], [0.2222222222222222, \"#7201a8\"], [0.3333333333333333, \"#9c179e\"], [0.4444444444444444, \"#bd3786\"], [0.5555555555555556, \"#d8576b\"], [0.6666666666666666, \"#ed7953\"], [0.7777777777777778, \"#fb9f3a\"], [0.8888888888888888, \"#fdca26\"], [1.0, \"#f0f921\"]]}, \"colorway\": [\"#636efa\", \"#EF553B\", \"#00cc96\", \"#ab63fa\", \"#FFA15A\", \"#19d3f3\", \"#FF6692\", \"#B6E880\", \"#FF97FF\", \"#FECB52\"], \"font\": {\"color\": \"#2a3f5f\"}, \"geo\": {\"bgcolor\": \"white\", \"lakecolor\": \"white\", \"landcolor\": \"#E5ECF6\", \"showlakes\": true, \"showland\": true, \"subunitcolor\": \"white\"}, \"hoverlabel\": {\"align\": \"left\"}, \"hovermode\": \"closest\", \"mapbox\": {\"style\": \"light\"}, \"paper_bgcolor\": \"white\", \"plot_bgcolor\": \"#E5ECF6\", \"polar\": {\"angularaxis\": {\"gridcolor\": \"white\", \"linecolor\": \"white\", \"ticks\": \"\"}, \"bgcolor\": \"#E5ECF6\", \"radialaxis\": {\"gridcolor\": \"white\", \"linecolor\": \"white\", \"ticks\": \"\"}}, \"scene\": {\"xaxis\": {\"backgroundcolor\": \"#E5ECF6\", \"gridcolor\": \"white\", \"gridwidth\": 2, \"linecolor\": \"white\", \"showbackground\": true, \"ticks\": \"\", \"zerolinecolor\": \"white\"}, \"yaxis\": {\"backgroundcolor\": \"#E5ECF6\", \"gridcolor\": \"white\", \"gridwidth\": 2, \"linecolor\": \"white\", \"showbackground\": true, \"ticks\": \"\", \"zerolinecolor\": \"white\"}, \"zaxis\": {\"backgroundcolor\": \"#E5ECF6\", \"gridcolor\": \"white\", \"gridwidth\": 2, \"linecolor\": \"white\", \"showbackground\": true, \"ticks\": \"\", \"zerolinecolor\": \"white\"}}, \"shapedefaults\": {\"line\": {\"color\": \"#2a3f5f\"}}, \"ternary\": {\"aaxis\": {\"gridcolor\": \"white\", \"linecolor\": \"white\", \"ticks\": \"\"}, \"baxis\": {\"gridcolor\": \"white\", \"linecolor\": \"white\", \"ticks\": \"\"}, \"bgcolor\": \"#E5ECF6\", \"caxis\": {\"gridcolor\": \"white\", \"linecolor\": \"white\", \"ticks\": \"\"}}, \"title\": {\"x\": 0.05}, \"xaxis\": {\"automargin\": true, \"gridcolor\": \"white\", \"linecolor\": \"white\", \"ticks\": \"\", \"title\": {\"standoff\": 15}, \"zerolinecolor\": \"white\", \"zerolinewidth\": 2}, \"yaxis\": {\"automargin\": true, \"gridcolor\": \"white\", \"linecolor\": \"white\", \"ticks\": \"\", \"title\": {\"standoff\": 15}, \"zerolinecolor\": \"white\", \"zerolinewidth\": 2}}}, \"title\": {\"text\": \"4610\"}, \"xaxis\": {\"anchor\": \"y\", \"domain\": [0.0, 1.0], \"title\": {\"text\": \"Number of Copies (Main Deck)\"}}, \"yaxis\": {\"anchor\": \"x\", \"domain\": [0.0, 1.0], \"title\": {\"text\": \"Win %\"}}},                        {\"responsive\": true}                    ).then(function(){\n",
       "                            \n",
       "var gd = document.getElementById('9442388d-eabb-435a-be0e-39e7b10b31b0');\n",
       "var x = new MutationObserver(function (mutations, observer) {{\n",
       "        var display = window.getComputedStyle(gd).display;\n",
       "        if (!display || display === 'none') {{\n",
       "            console.log([gd, 'removed!']);\n",
       "            Plotly.purge(gd);\n",
       "            observer.disconnect();\n",
       "        }}\n",
       "}});\n",
       "\n",
       "// Listen for the removal of the full notebook cells\n",
       "var notebookContainer = gd.closest('#notebook-container');\n",
       "if (notebookContainer) {{\n",
       "    x.observe(notebookContainer, {childList: true});\n",
       "}}\n",
       "\n",
       "// Listen for the clearing of the current output cell\n",
       "var outputEl = gd.closest('.output');\n",
       "if (outputEl) {{\n",
       "    x.observe(outputEl, {childList: true});\n",
       "}}\n",
       "\n",
       "                        })                };                });            </script>        </div>"
      ]
     },
     "metadata": {},
     "output_type": "display_data"
    },
    {
     "data": {
      "application/vnd.plotly.v1+json": {
       "config": {
        "plotlyServerURL": "https://plot.ly"
       },
       "data": [
        {
         "customdata": [
          [
           "Forest"
          ],
          [
           "Plains"
          ],
          [
           "Mountain"
          ],
          [
           "Llanowar Elves"
          ],
          [
           "Birds of Paradise"
          ],
          [
           "Rofellos, Llanowar Emissary"
          ],
          [
           "Natural Order"
          ],
          [
           "Island"
          ],
          [
           "Tireless Tracker"
          ],
          [
           "Swamp"
          ],
          [
           "Primeval Titan"
          ],
          [
           "Garruk, Primal Hunter"
          ],
          [
           "Ugin, the Spirit Dragon"
          ],
          [
           "Whisperwood Elemental"
          ],
          [
           "Quirion Ranger"
          ],
          [
           "Mana Leak"
          ],
          [
           "Elvish Archdruid"
          ],
          [
           "Drowned Catacomb"
          ],
          [
           "Ponder"
          ],
          [
           "Impulse"
          ],
          [
           "Doom Blade"
          ],
          [
           "Hellkite Overlord"
          ],
          [
           "Glacial Fortress"
          ],
          [
           "Day of Judgment"
          ],
          [
           "Westvale Abbey // Ormendahl, Profane Prince"
          ],
          [
           "Arcane Sanctum"
          ],
          [
           "Yavimaya Elder"
          ],
          [
           "Vampiric Tutor"
          ],
          [
           "Wild Slash"
          ],
          [
           "Thraben Inspector"
          ],
          [
           "Thalia's Lieutenant"
          ],
          [
           "Rampant Growth"
          ],
          [
           "Necromancy"
          ],
          [
           "Mardu Woe-Reaper"
          ],
          [
           "Incinerate"
          ],
          [
           "Honor of the Pure"
          ],
          [
           "Fireblast"
          ],
          [
           "Elvish Visionary"
          ],
          [
           "Esper Charm"
          ],
          [
           "Elite Vanguard"
          ],
          [
           "Yavimaya Hollow"
          ],
          [
           "Grave Titan"
          ],
          [
           "Dungrove Elder"
          ],
          [
           "Negate"
          ],
          [
           "Choked Estuary"
          ],
          [
           "Shock"
          ],
          [
           "Jace, Unraveler of Secrets"
          ],
          [
           "Inferno Titan"
          ],
          [
           "Goblin Fireslinger"
          ],
          [
           "Falkenrath Gorger"
          ],
          [
           "Dragonskull Summit"
          ],
          [
           "Heart Warden"
          ],
          [
           "Gideon Jura"
          ],
          [
           "Declaration in Stone"
          ],
          [
           "Acidic Slime"
          ],
          [
           "Oblivion Ring"
          ],
          [
           "Funeral Charm"
          ],
          [
           "Treachery"
          ],
          [
           "Solemn Simulacrum"
          ],
          [
           "Scoured Barrens"
          ],
          [
           "Grim Lavamancer"
          ],
          [
           "Tasigur, the Golden Fang"
          ],
          [
           "Chandra's Phoenix"
          ],
          [
           "Broken Concentration"
          ],
          [
           "Anvil of Bogardan"
          ],
          [
           "Timely Reinforcements"
          ],
          [
           "Stormblood Berserker"
          ],
          [
           "Port Town"
          ],
          [
           "Crux of Fate"
          ],
          [
           "Reckless Abandon"
          ],
          [
           "Plow Under"
          ],
          [
           "Anguished Unmaking"
          ],
          [
           "Sorin, Grim Nemesis"
          ],
          [
           "Sinister Concoction"
          ],
          [
           "Overrun"
          ],
          [
           "Goblin Heelcutter"
          ],
          [
           "Flashfreeze"
          ],
          [
           "Temur Sabertooth"
          ],
          [
           "Stingerfling Spider"
          ],
          [
           "Rabid Bite"
          ],
          [
           "Emerald Charm"
          ],
          [
           "Dismal Backwater"
          ]
         ],
         "hovertemplate": "Number of Copies (Main Deck)=%{x}<br>Win %=%{y}<br>name=%{customdata[0]}<extra></extra>",
         "legendgroup": "",
         "marker": {
          "color": "#636efa",
          "symbol": "circle"
         },
         "mode": "markers",
         "name": "",
         "orientation": "v",
         "showlegend": false,
         "type": "scatter",
         "x": [
          488,
          113,
          94,
          92,
          88,
          84,
          84,
          70,
          67,
          62,
          59,
          55,
          44,
          42,
          41,
          40,
          39,
          31,
          28,
          26,
          26,
          25,
          24,
          22,
          20,
          20,
          19,
          19,
          16,
          16,
          16,
          16,
          16,
          16,
          16,
          16,
          16,
          16,
          15,
          15,
          14,
          14,
          14,
          13,
          13,
          12,
          12,
          12,
          12,
          12,
          12,
          11,
          11,
          11,
          11,
          10,
          10,
          9,
          9,
          9,
          9,
          8,
          8,
          8,
          8,
          7,
          7,
          7,
          7,
          6,
          6,
          6,
          5,
          5,
          5,
          5,
          5,
          4,
          4,
          4,
          2,
          2
         ],
         "xaxis": "x",
         "y": [
          50,
          43,
          46,
          53,
          53,
          54,
          53,
          56,
          51,
          45,
          53,
          58,
          53,
          53,
          55,
          59,
          55,
          59,
          52,
          59,
          56,
          53,
          58,
          61,
          50,
          60,
          44,
          23,
          55,
          33,
          33,
          38,
          25,
          33,
          60,
          33,
          60,
          50,
          67,
          33,
          56,
          40,
          59,
          61,
          54,
          65,
          66,
          31,
          65,
          65,
          33,
          60,
          64,
          42,
          53,
          35,
          44,
          50,
          50,
          50,
          65,
          56,
          71,
          67,
          25,
          46,
          71,
          50,
          50,
          64,
          25,
          67,
          50,
          18,
          61,
          65,
          73,
          56,
          58,
          58,
          58,
          67
         ],
         "yaxis": "y"
        }
       ],
       "layout": {
        "legend": {
         "tracegroupgap": 0
        },
        "template": {
         "data": {
          "bar": [
           {
            "error_x": {
             "color": "#2a3f5f"
            },
            "error_y": {
             "color": "#2a3f5f"
            },
            "marker": {
             "line": {
              "color": "#E5ECF6",
              "width": 0.5
             }
            },
            "type": "bar"
           }
          ],
          "barpolar": [
           {
            "marker": {
             "line": {
              "color": "#E5ECF6",
              "width": 0.5
             }
            },
            "type": "barpolar"
           }
          ],
          "carpet": [
           {
            "aaxis": {
             "endlinecolor": "#2a3f5f",
             "gridcolor": "white",
             "linecolor": "white",
             "minorgridcolor": "white",
             "startlinecolor": "#2a3f5f"
            },
            "baxis": {
             "endlinecolor": "#2a3f5f",
             "gridcolor": "white",
             "linecolor": "white",
             "minorgridcolor": "white",
             "startlinecolor": "#2a3f5f"
            },
            "type": "carpet"
           }
          ],
          "choropleth": [
           {
            "colorbar": {
             "outlinewidth": 0,
             "ticks": ""
            },
            "type": "choropleth"
           }
          ],
          "contour": [
           {
            "colorbar": {
             "outlinewidth": 0,
             "ticks": ""
            },
            "colorscale": [
             [
              0,
              "#0d0887"
             ],
             [
              0.1111111111111111,
              "#46039f"
             ],
             [
              0.2222222222222222,
              "#7201a8"
             ],
             [
              0.3333333333333333,
              "#9c179e"
             ],
             [
              0.4444444444444444,
              "#bd3786"
             ],
             [
              0.5555555555555556,
              "#d8576b"
             ],
             [
              0.6666666666666666,
              "#ed7953"
             ],
             [
              0.7777777777777778,
              "#fb9f3a"
             ],
             [
              0.8888888888888888,
              "#fdca26"
             ],
             [
              1,
              "#f0f921"
             ]
            ],
            "type": "contour"
           }
          ],
          "contourcarpet": [
           {
            "colorbar": {
             "outlinewidth": 0,
             "ticks": ""
            },
            "type": "contourcarpet"
           }
          ],
          "heatmap": [
           {
            "colorbar": {
             "outlinewidth": 0,
             "ticks": ""
            },
            "colorscale": [
             [
              0,
              "#0d0887"
             ],
             [
              0.1111111111111111,
              "#46039f"
             ],
             [
              0.2222222222222222,
              "#7201a8"
             ],
             [
              0.3333333333333333,
              "#9c179e"
             ],
             [
              0.4444444444444444,
              "#bd3786"
             ],
             [
              0.5555555555555556,
              "#d8576b"
             ],
             [
              0.6666666666666666,
              "#ed7953"
             ],
             [
              0.7777777777777778,
              "#fb9f3a"
             ],
             [
              0.8888888888888888,
              "#fdca26"
             ],
             [
              1,
              "#f0f921"
             ]
            ],
            "type": "heatmap"
           }
          ],
          "heatmapgl": [
           {
            "colorbar": {
             "outlinewidth": 0,
             "ticks": ""
            },
            "colorscale": [
             [
              0,
              "#0d0887"
             ],
             [
              0.1111111111111111,
              "#46039f"
             ],
             [
              0.2222222222222222,
              "#7201a8"
             ],
             [
              0.3333333333333333,
              "#9c179e"
             ],
             [
              0.4444444444444444,
              "#bd3786"
             ],
             [
              0.5555555555555556,
              "#d8576b"
             ],
             [
              0.6666666666666666,
              "#ed7953"
             ],
             [
              0.7777777777777778,
              "#fb9f3a"
             ],
             [
              0.8888888888888888,
              "#fdca26"
             ],
             [
              1,
              "#f0f921"
             ]
            ],
            "type": "heatmapgl"
           }
          ],
          "histogram": [
           {
            "marker": {
             "colorbar": {
              "outlinewidth": 0,
              "ticks": ""
             }
            },
            "type": "histogram"
           }
          ],
          "histogram2d": [
           {
            "colorbar": {
             "outlinewidth": 0,
             "ticks": ""
            },
            "colorscale": [
             [
              0,
              "#0d0887"
             ],
             [
              0.1111111111111111,
              "#46039f"
             ],
             [
              0.2222222222222222,
              "#7201a8"
             ],
             [
              0.3333333333333333,
              "#9c179e"
             ],
             [
              0.4444444444444444,
              "#bd3786"
             ],
             [
              0.5555555555555556,
              "#d8576b"
             ],
             [
              0.6666666666666666,
              "#ed7953"
             ],
             [
              0.7777777777777778,
              "#fb9f3a"
             ],
             [
              0.8888888888888888,
              "#fdca26"
             ],
             [
              1,
              "#f0f921"
             ]
            ],
            "type": "histogram2d"
           }
          ],
          "histogram2dcontour": [
           {
            "colorbar": {
             "outlinewidth": 0,
             "ticks": ""
            },
            "colorscale": [
             [
              0,
              "#0d0887"
             ],
             [
              0.1111111111111111,
              "#46039f"
             ],
             [
              0.2222222222222222,
              "#7201a8"
             ],
             [
              0.3333333333333333,
              "#9c179e"
             ],
             [
              0.4444444444444444,
              "#bd3786"
             ],
             [
              0.5555555555555556,
              "#d8576b"
             ],
             [
              0.6666666666666666,
              "#ed7953"
             ],
             [
              0.7777777777777778,
              "#fb9f3a"
             ],
             [
              0.8888888888888888,
              "#fdca26"
             ],
             [
              1,
              "#f0f921"
             ]
            ],
            "type": "histogram2dcontour"
           }
          ],
          "mesh3d": [
           {
            "colorbar": {
             "outlinewidth": 0,
             "ticks": ""
            },
            "type": "mesh3d"
           }
          ],
          "parcoords": [
           {
            "line": {
             "colorbar": {
              "outlinewidth": 0,
              "ticks": ""
             }
            },
            "type": "parcoords"
           }
          ],
          "pie": [
           {
            "automargin": true,
            "type": "pie"
           }
          ],
          "scatter": [
           {
            "marker": {
             "colorbar": {
              "outlinewidth": 0,
              "ticks": ""
             }
            },
            "type": "scatter"
           }
          ],
          "scatter3d": [
           {
            "line": {
             "colorbar": {
              "outlinewidth": 0,
              "ticks": ""
             }
            },
            "marker": {
             "colorbar": {
              "outlinewidth": 0,
              "ticks": ""
             }
            },
            "type": "scatter3d"
           }
          ],
          "scattercarpet": [
           {
            "marker": {
             "colorbar": {
              "outlinewidth": 0,
              "ticks": ""
             }
            },
            "type": "scattercarpet"
           }
          ],
          "scattergeo": [
           {
            "marker": {
             "colorbar": {
              "outlinewidth": 0,
              "ticks": ""
             }
            },
            "type": "scattergeo"
           }
          ],
          "scattergl": [
           {
            "marker": {
             "colorbar": {
              "outlinewidth": 0,
              "ticks": ""
             }
            },
            "type": "scattergl"
           }
          ],
          "scattermapbox": [
           {
            "marker": {
             "colorbar": {
              "outlinewidth": 0,
              "ticks": ""
             }
            },
            "type": "scattermapbox"
           }
          ],
          "scatterpolar": [
           {
            "marker": {
             "colorbar": {
              "outlinewidth": 0,
              "ticks": ""
             }
            },
            "type": "scatterpolar"
           }
          ],
          "scatterpolargl": [
           {
            "marker": {
             "colorbar": {
              "outlinewidth": 0,
              "ticks": ""
             }
            },
            "type": "scatterpolargl"
           }
          ],
          "scatterternary": [
           {
            "marker": {
             "colorbar": {
              "outlinewidth": 0,
              "ticks": ""
             }
            },
            "type": "scatterternary"
           }
          ],
          "surface": [
           {
            "colorbar": {
             "outlinewidth": 0,
             "ticks": ""
            },
            "colorscale": [
             [
              0,
              "#0d0887"
             ],
             [
              0.1111111111111111,
              "#46039f"
             ],
             [
              0.2222222222222222,
              "#7201a8"
             ],
             [
              0.3333333333333333,
              "#9c179e"
             ],
             [
              0.4444444444444444,
              "#bd3786"
             ],
             [
              0.5555555555555556,
              "#d8576b"
             ],
             [
              0.6666666666666666,
              "#ed7953"
             ],
             [
              0.7777777777777778,
              "#fb9f3a"
             ],
             [
              0.8888888888888888,
              "#fdca26"
             ],
             [
              1,
              "#f0f921"
             ]
            ],
            "type": "surface"
           }
          ],
          "table": [
           {
            "cells": {
             "fill": {
              "color": "#EBF0F8"
             },
             "line": {
              "color": "white"
             }
            },
            "header": {
             "fill": {
              "color": "#C8D4E3"
             },
             "line": {
              "color": "white"
             }
            },
            "type": "table"
           }
          ]
         },
         "layout": {
          "annotationdefaults": {
           "arrowcolor": "#2a3f5f",
           "arrowhead": 0,
           "arrowwidth": 1
          },
          "autotypenumbers": "strict",
          "coloraxis": {
           "colorbar": {
            "outlinewidth": 0,
            "ticks": ""
           }
          },
          "colorscale": {
           "diverging": [
            [
             0,
             "#8e0152"
            ],
            [
             0.1,
             "#c51b7d"
            ],
            [
             0.2,
             "#de77ae"
            ],
            [
             0.3,
             "#f1b6da"
            ],
            [
             0.4,
             "#fde0ef"
            ],
            [
             0.5,
             "#f7f7f7"
            ],
            [
             0.6,
             "#e6f5d0"
            ],
            [
             0.7,
             "#b8e186"
            ],
            [
             0.8,
             "#7fbc41"
            ],
            [
             0.9,
             "#4d9221"
            ],
            [
             1,
             "#276419"
            ]
           ],
           "sequential": [
            [
             0,
             "#0d0887"
            ],
            [
             0.1111111111111111,
             "#46039f"
            ],
            [
             0.2222222222222222,
             "#7201a8"
            ],
            [
             0.3333333333333333,
             "#9c179e"
            ],
            [
             0.4444444444444444,
             "#bd3786"
            ],
            [
             0.5555555555555556,
             "#d8576b"
            ],
            [
             0.6666666666666666,
             "#ed7953"
            ],
            [
             0.7777777777777778,
             "#fb9f3a"
            ],
            [
             0.8888888888888888,
             "#fdca26"
            ],
            [
             1,
             "#f0f921"
            ]
           ],
           "sequentialminus": [
            [
             0,
             "#0d0887"
            ],
            [
             0.1111111111111111,
             "#46039f"
            ],
            [
             0.2222222222222222,
             "#7201a8"
            ],
            [
             0.3333333333333333,
             "#9c179e"
            ],
            [
             0.4444444444444444,
             "#bd3786"
            ],
            [
             0.5555555555555556,
             "#d8576b"
            ],
            [
             0.6666666666666666,
             "#ed7953"
            ],
            [
             0.7777777777777778,
             "#fb9f3a"
            ],
            [
             0.8888888888888888,
             "#fdca26"
            ],
            [
             1,
             "#f0f921"
            ]
           ]
          },
          "colorway": [
           "#636efa",
           "#EF553B",
           "#00cc96",
           "#ab63fa",
           "#FFA15A",
           "#19d3f3",
           "#FF6692",
           "#B6E880",
           "#FF97FF",
           "#FECB52"
          ],
          "font": {
           "color": "#2a3f5f"
          },
          "geo": {
           "bgcolor": "white",
           "lakecolor": "white",
           "landcolor": "#E5ECF6",
           "showlakes": true,
           "showland": true,
           "subunitcolor": "white"
          },
          "hoverlabel": {
           "align": "left"
          },
          "hovermode": "closest",
          "mapbox": {
           "style": "light"
          },
          "paper_bgcolor": "white",
          "plot_bgcolor": "#E5ECF6",
          "polar": {
           "angularaxis": {
            "gridcolor": "white",
            "linecolor": "white",
            "ticks": ""
           },
           "bgcolor": "#E5ECF6",
           "radialaxis": {
            "gridcolor": "white",
            "linecolor": "white",
            "ticks": ""
           }
          },
          "scene": {
           "xaxis": {
            "backgroundcolor": "#E5ECF6",
            "gridcolor": "white",
            "gridwidth": 2,
            "linecolor": "white",
            "showbackground": true,
            "ticks": "",
            "zerolinecolor": "white"
           },
           "yaxis": {
            "backgroundcolor": "#E5ECF6",
            "gridcolor": "white",
            "gridwidth": 2,
            "linecolor": "white",
            "showbackground": true,
            "ticks": "",
            "zerolinecolor": "white"
           },
           "zaxis": {
            "backgroundcolor": "#E5ECF6",
            "gridcolor": "white",
            "gridwidth": 2,
            "linecolor": "white",
            "showbackground": true,
            "ticks": "",
            "zerolinecolor": "white"
           }
          },
          "shapedefaults": {
           "line": {
            "color": "#2a3f5f"
           }
          },
          "ternary": {
           "aaxis": {
            "gridcolor": "white",
            "linecolor": "white",
            "ticks": ""
           },
           "baxis": {
            "gridcolor": "white",
            "linecolor": "white",
            "ticks": ""
           },
           "bgcolor": "#E5ECF6",
           "caxis": {
            "gridcolor": "white",
            "linecolor": "white",
            "ticks": ""
           }
          },
          "title": {
           "x": 0.05
          },
          "xaxis": {
           "automargin": true,
           "gridcolor": "white",
           "linecolor": "white",
           "ticks": "",
           "title": {
            "standoff": 15
           },
           "zerolinecolor": "white",
           "zerolinewidth": 2
          },
          "yaxis": {
           "automargin": true,
           "gridcolor": "white",
           "linecolor": "white",
           "ticks": "",
           "title": {
            "standoff": 15
           },
           "zerolinecolor": "white",
           "zerolinewidth": 2
          }
         }
        },
        "title": {
         "text": "4985"
        },
        "xaxis": {
         "anchor": "y",
         "domain": [
          0,
          1
         ],
         "title": {
          "text": "Number of Copies (Main Deck)"
         }
        },
        "yaxis": {
         "anchor": "x",
         "domain": [
          0,
          1
         ],
         "title": {
          "text": "Win %"
         }
        }
       }
      },
      "text/html": [
       "<div>                            <div id=\"c2446ff2-3271-4254-bd32-4d991fb6ca23\" class=\"plotly-graph-div\" style=\"height:525px; width:100%;\"></div>            <script type=\"text/javascript\">                require([\"plotly\"], function(Plotly) {                    window.PLOTLYENV=window.PLOTLYENV || {};                                    if (document.getElementById(\"c2446ff2-3271-4254-bd32-4d991fb6ca23\")) {                    Plotly.newPlot(                        \"c2446ff2-3271-4254-bd32-4d991fb6ca23\",                        [{\"customdata\": [[\"Forest\"], [\"Plains\"], [\"Mountain\"], [\"Llanowar Elves\"], [\"Birds of Paradise\"], [\"Rofellos, Llanowar Emissary\"], [\"Natural Order\"], [\"Island\"], [\"Tireless Tracker\"], [\"Swamp\"], [\"Primeval Titan\"], [\"Garruk, Primal Hunter\"], [\"Ugin, the Spirit Dragon\"], [\"Whisperwood Elemental\"], [\"Quirion Ranger\"], [\"Mana Leak\"], [\"Elvish Archdruid\"], [\"Drowned Catacomb\"], [\"Ponder\"], [\"Impulse\"], [\"Doom Blade\"], [\"Hellkite Overlord\"], [\"Glacial Fortress\"], [\"Day of Judgment\"], [\"Westvale Abbey // Ormendahl, Profane Prince\"], [\"Arcane Sanctum\"], [\"Yavimaya Elder\"], [\"Vampiric Tutor\"], [\"Wild Slash\"], [\"Thraben Inspector\"], [\"Thalia's Lieutenant\"], [\"Rampant Growth\"], [\"Necromancy\"], [\"Mardu Woe-Reaper\"], [\"Incinerate\"], [\"Honor of the Pure\"], [\"Fireblast\"], [\"Elvish Visionary\"], [\"Esper Charm\"], [\"Elite Vanguard\"], [\"Yavimaya Hollow\"], [\"Grave Titan\"], [\"Dungrove Elder\"], [\"Negate\"], [\"Choked Estuary\"], [\"Shock\"], [\"Jace, Unraveler of Secrets\"], [\"Inferno Titan\"], [\"Goblin Fireslinger\"], [\"Falkenrath Gorger\"], [\"Dragonskull Summit\"], [\"Heart Warden\"], [\"Gideon Jura\"], [\"Declaration in Stone\"], [\"Acidic Slime\"], [\"Oblivion Ring\"], [\"Funeral Charm\"], [\"Treachery\"], [\"Solemn Simulacrum\"], [\"Scoured Barrens\"], [\"Grim Lavamancer\"], [\"Tasigur, the Golden Fang\"], [\"Chandra's Phoenix\"], [\"Broken Concentration\"], [\"Anvil of Bogardan\"], [\"Timely Reinforcements\"], [\"Stormblood Berserker\"], [\"Port Town\"], [\"Crux of Fate\"], [\"Reckless Abandon\"], [\"Plow Under\"], [\"Anguished Unmaking\"], [\"Sorin, Grim Nemesis\"], [\"Sinister Concoction\"], [\"Overrun\"], [\"Goblin Heelcutter\"], [\"Flashfreeze\"], [\"Temur Sabertooth\"], [\"Stingerfling Spider\"], [\"Rabid Bite\"], [\"Emerald Charm\"], [\"Dismal Backwater\"]], \"hovertemplate\": \"Number of Copies (Main Deck)=%{x}<br>Win %=%{y}<br>name=%{customdata[0]}<extra></extra>\", \"legendgroup\": \"\", \"marker\": {\"color\": \"#636efa\", \"symbol\": \"circle\"}, \"mode\": \"markers\", \"name\": \"\", \"orientation\": \"v\", \"showlegend\": false, \"type\": \"scatter\", \"x\": [488, 113, 94, 92, 88, 84, 84, 70, 67, 62, 59, 55, 44, 42, 41, 40, 39, 31, 28, 26, 26, 25, 24, 22, 20, 20, 19, 19, 16, 16, 16, 16, 16, 16, 16, 16, 16, 16, 15, 15, 14, 14, 14, 13, 13, 12, 12, 12, 12, 12, 12, 11, 11, 11, 11, 10, 10, 9, 9, 9, 9, 8, 8, 8, 8, 7, 7, 7, 7, 6, 6, 6, 5, 5, 5, 5, 5, 4, 4, 4, 2, 2], \"xaxis\": \"x\", \"y\": [50.0, 43.0, 46.0, 53.0, 53.0, 54.0, 53.0, 56.0, 51.0, 45.0, 53.0, 58.0, 53.0, 53.0, 55.0, 59.0, 55.0, 59.0, 52.0, 59.0, 56.0, 53.0, 58.0, 61.0, 50.0, 60.0, 44.0, 23.0, 55.0, 33.0, 33.0, 38.0, 25.0, 33.0, 60.0, 33.0, 60.0, 50.0, 67.0, 33.0, 56.0, 40.0, 59.0, 61.0, 54.0, 65.0, 66.0, 31.0, 65.0, 65.0, 33.0, 60.0, 64.0, 42.0, 53.0, 35.0, 44.0, 50.0, 50.0, 50.0, 65.0, 56.0, 71.0, 67.0, 25.0, 46.0, 71.0, 50.0, 50.0, 64.0, 25.0, 67.0, 50.0, 18.0, 61.0, 65.0, 73.0, 56.0, 58.0, 58.0, 58.0, 67.0], \"yaxis\": \"y\"}],                        {\"legend\": {\"tracegroupgap\": 0}, \"template\": {\"data\": {\"bar\": [{\"error_x\": {\"color\": \"#2a3f5f\"}, \"error_y\": {\"color\": \"#2a3f5f\"}, \"marker\": {\"line\": {\"color\": \"#E5ECF6\", \"width\": 0.5}}, \"type\": \"bar\"}], \"barpolar\": [{\"marker\": {\"line\": {\"color\": \"#E5ECF6\", \"width\": 0.5}}, \"type\": \"barpolar\"}], \"carpet\": [{\"aaxis\": {\"endlinecolor\": \"#2a3f5f\", \"gridcolor\": \"white\", \"linecolor\": \"white\", \"minorgridcolor\": \"white\", \"startlinecolor\": \"#2a3f5f\"}, \"baxis\": {\"endlinecolor\": \"#2a3f5f\", \"gridcolor\": \"white\", \"linecolor\": \"white\", \"minorgridcolor\": \"white\", \"startlinecolor\": \"#2a3f5f\"}, \"type\": \"carpet\"}], \"choropleth\": [{\"colorbar\": {\"outlinewidth\": 0, \"ticks\": \"\"}, \"type\": \"choropleth\"}], \"contour\": [{\"colorbar\": {\"outlinewidth\": 0, \"ticks\": \"\"}, \"colorscale\": [[0.0, \"#0d0887\"], [0.1111111111111111, \"#46039f\"], [0.2222222222222222, \"#7201a8\"], [0.3333333333333333, \"#9c179e\"], [0.4444444444444444, \"#bd3786\"], [0.5555555555555556, \"#d8576b\"], [0.6666666666666666, \"#ed7953\"], [0.7777777777777778, \"#fb9f3a\"], [0.8888888888888888, \"#fdca26\"], [1.0, \"#f0f921\"]], \"type\": \"contour\"}], \"contourcarpet\": [{\"colorbar\": {\"outlinewidth\": 0, \"ticks\": \"\"}, \"type\": \"contourcarpet\"}], \"heatmap\": [{\"colorbar\": {\"outlinewidth\": 0, \"ticks\": \"\"}, \"colorscale\": [[0.0, \"#0d0887\"], [0.1111111111111111, \"#46039f\"], [0.2222222222222222, \"#7201a8\"], [0.3333333333333333, \"#9c179e\"], [0.4444444444444444, \"#bd3786\"], [0.5555555555555556, \"#d8576b\"], [0.6666666666666666, \"#ed7953\"], [0.7777777777777778, \"#fb9f3a\"], [0.8888888888888888, \"#fdca26\"], [1.0, \"#f0f921\"]], \"type\": \"heatmap\"}], \"heatmapgl\": [{\"colorbar\": {\"outlinewidth\": 0, \"ticks\": \"\"}, \"colorscale\": [[0.0, \"#0d0887\"], [0.1111111111111111, \"#46039f\"], [0.2222222222222222, \"#7201a8\"], [0.3333333333333333, \"#9c179e\"], [0.4444444444444444, \"#bd3786\"], [0.5555555555555556, \"#d8576b\"], [0.6666666666666666, \"#ed7953\"], [0.7777777777777778, \"#fb9f3a\"], [0.8888888888888888, \"#fdca26\"], [1.0, \"#f0f921\"]], \"type\": \"heatmapgl\"}], \"histogram\": [{\"marker\": {\"colorbar\": {\"outlinewidth\": 0, \"ticks\": \"\"}}, \"type\": \"histogram\"}], \"histogram2d\": [{\"colorbar\": {\"outlinewidth\": 0, \"ticks\": \"\"}, \"colorscale\": [[0.0, \"#0d0887\"], [0.1111111111111111, \"#46039f\"], [0.2222222222222222, \"#7201a8\"], [0.3333333333333333, \"#9c179e\"], [0.4444444444444444, \"#bd3786\"], [0.5555555555555556, \"#d8576b\"], [0.6666666666666666, \"#ed7953\"], [0.7777777777777778, \"#fb9f3a\"], [0.8888888888888888, \"#fdca26\"], [1.0, \"#f0f921\"]], \"type\": \"histogram2d\"}], \"histogram2dcontour\": [{\"colorbar\": {\"outlinewidth\": 0, \"ticks\": \"\"}, \"colorscale\": [[0.0, \"#0d0887\"], [0.1111111111111111, \"#46039f\"], [0.2222222222222222, \"#7201a8\"], [0.3333333333333333, \"#9c179e\"], [0.4444444444444444, \"#bd3786\"], [0.5555555555555556, \"#d8576b\"], [0.6666666666666666, \"#ed7953\"], [0.7777777777777778, \"#fb9f3a\"], [0.8888888888888888, \"#fdca26\"], [1.0, \"#f0f921\"]], \"type\": \"histogram2dcontour\"}], \"mesh3d\": [{\"colorbar\": {\"outlinewidth\": 0, \"ticks\": \"\"}, \"type\": \"mesh3d\"}], \"parcoords\": [{\"line\": {\"colorbar\": {\"outlinewidth\": 0, \"ticks\": \"\"}}, \"type\": \"parcoords\"}], \"pie\": [{\"automargin\": true, \"type\": \"pie\"}], \"scatter\": [{\"marker\": {\"colorbar\": {\"outlinewidth\": 0, \"ticks\": \"\"}}, \"type\": \"scatter\"}], \"scatter3d\": [{\"line\": {\"colorbar\": {\"outlinewidth\": 0, \"ticks\": \"\"}}, \"marker\": {\"colorbar\": {\"outlinewidth\": 0, \"ticks\": \"\"}}, \"type\": \"scatter3d\"}], \"scattercarpet\": [{\"marker\": {\"colorbar\": {\"outlinewidth\": 0, \"ticks\": \"\"}}, \"type\": \"scattercarpet\"}], \"scattergeo\": [{\"marker\": {\"colorbar\": {\"outlinewidth\": 0, \"ticks\": \"\"}}, \"type\": \"scattergeo\"}], \"scattergl\": [{\"marker\": {\"colorbar\": {\"outlinewidth\": 0, \"ticks\": \"\"}}, \"type\": \"scattergl\"}], \"scattermapbox\": [{\"marker\": {\"colorbar\": {\"outlinewidth\": 0, \"ticks\": \"\"}}, \"type\": \"scattermapbox\"}], \"scatterpolar\": [{\"marker\": {\"colorbar\": {\"outlinewidth\": 0, \"ticks\": \"\"}}, \"type\": \"scatterpolar\"}], \"scatterpolargl\": [{\"marker\": {\"colorbar\": {\"outlinewidth\": 0, \"ticks\": \"\"}}, \"type\": \"scatterpolargl\"}], \"scatterternary\": [{\"marker\": {\"colorbar\": {\"outlinewidth\": 0, \"ticks\": \"\"}}, \"type\": \"scatterternary\"}], \"surface\": [{\"colorbar\": {\"outlinewidth\": 0, \"ticks\": \"\"}, \"colorscale\": [[0.0, \"#0d0887\"], [0.1111111111111111, \"#46039f\"], [0.2222222222222222, \"#7201a8\"], [0.3333333333333333, \"#9c179e\"], [0.4444444444444444, \"#bd3786\"], [0.5555555555555556, \"#d8576b\"], [0.6666666666666666, \"#ed7953\"], [0.7777777777777778, \"#fb9f3a\"], [0.8888888888888888, \"#fdca26\"], [1.0, \"#f0f921\"]], \"type\": \"surface\"}], \"table\": [{\"cells\": {\"fill\": {\"color\": \"#EBF0F8\"}, \"line\": {\"color\": \"white\"}}, \"header\": {\"fill\": {\"color\": \"#C8D4E3\"}, \"line\": {\"color\": \"white\"}}, \"type\": \"table\"}]}, \"layout\": {\"annotationdefaults\": {\"arrowcolor\": \"#2a3f5f\", \"arrowhead\": 0, \"arrowwidth\": 1}, \"autotypenumbers\": \"strict\", \"coloraxis\": {\"colorbar\": {\"outlinewidth\": 0, \"ticks\": \"\"}}, \"colorscale\": {\"diverging\": [[0, \"#8e0152\"], [0.1, \"#c51b7d\"], [0.2, \"#de77ae\"], [0.3, \"#f1b6da\"], [0.4, \"#fde0ef\"], [0.5, \"#f7f7f7\"], [0.6, \"#e6f5d0\"], [0.7, \"#b8e186\"], [0.8, \"#7fbc41\"], [0.9, \"#4d9221\"], [1, \"#276419\"]], \"sequential\": [[0.0, \"#0d0887\"], [0.1111111111111111, \"#46039f\"], [0.2222222222222222, \"#7201a8\"], [0.3333333333333333, \"#9c179e\"], [0.4444444444444444, \"#bd3786\"], [0.5555555555555556, \"#d8576b\"], [0.6666666666666666, \"#ed7953\"], [0.7777777777777778, \"#fb9f3a\"], [0.8888888888888888, \"#fdca26\"], [1.0, \"#f0f921\"]], \"sequentialminus\": [[0.0, \"#0d0887\"], [0.1111111111111111, \"#46039f\"], [0.2222222222222222, \"#7201a8\"], [0.3333333333333333, \"#9c179e\"], [0.4444444444444444, \"#bd3786\"], [0.5555555555555556, \"#d8576b\"], [0.6666666666666666, \"#ed7953\"], [0.7777777777777778, \"#fb9f3a\"], [0.8888888888888888, \"#fdca26\"], [1.0, \"#f0f921\"]]}, \"colorway\": [\"#636efa\", \"#EF553B\", \"#00cc96\", \"#ab63fa\", \"#FFA15A\", \"#19d3f3\", \"#FF6692\", \"#B6E880\", \"#FF97FF\", \"#FECB52\"], \"font\": {\"color\": \"#2a3f5f\"}, \"geo\": {\"bgcolor\": \"white\", \"lakecolor\": \"white\", \"landcolor\": \"#E5ECF6\", \"showlakes\": true, \"showland\": true, \"subunitcolor\": \"white\"}, \"hoverlabel\": {\"align\": \"left\"}, \"hovermode\": \"closest\", \"mapbox\": {\"style\": \"light\"}, \"paper_bgcolor\": \"white\", \"plot_bgcolor\": \"#E5ECF6\", \"polar\": {\"angularaxis\": {\"gridcolor\": \"white\", \"linecolor\": \"white\", \"ticks\": \"\"}, \"bgcolor\": \"#E5ECF6\", \"radialaxis\": {\"gridcolor\": \"white\", \"linecolor\": \"white\", \"ticks\": \"\"}}, \"scene\": {\"xaxis\": {\"backgroundcolor\": \"#E5ECF6\", \"gridcolor\": \"white\", \"gridwidth\": 2, \"linecolor\": \"white\", \"showbackground\": true, \"ticks\": \"\", \"zerolinecolor\": \"white\"}, \"yaxis\": {\"backgroundcolor\": \"#E5ECF6\", \"gridcolor\": \"white\", \"gridwidth\": 2, \"linecolor\": \"white\", \"showbackground\": true, \"ticks\": \"\", \"zerolinecolor\": \"white\"}, \"zaxis\": {\"backgroundcolor\": \"#E5ECF6\", \"gridcolor\": \"white\", \"gridwidth\": 2, \"linecolor\": \"white\", \"showbackground\": true, \"ticks\": \"\", \"zerolinecolor\": \"white\"}}, \"shapedefaults\": {\"line\": {\"color\": \"#2a3f5f\"}}, \"ternary\": {\"aaxis\": {\"gridcolor\": \"white\", \"linecolor\": \"white\", \"ticks\": \"\"}, \"baxis\": {\"gridcolor\": \"white\", \"linecolor\": \"white\", \"ticks\": \"\"}, \"bgcolor\": \"#E5ECF6\", \"caxis\": {\"gridcolor\": \"white\", \"linecolor\": \"white\", \"ticks\": \"\"}}, \"title\": {\"x\": 0.05}, \"xaxis\": {\"automargin\": true, \"gridcolor\": \"white\", \"linecolor\": \"white\", \"ticks\": \"\", \"title\": {\"standoff\": 15}, \"zerolinecolor\": \"white\", \"zerolinewidth\": 2}, \"yaxis\": {\"automargin\": true, \"gridcolor\": \"white\", \"linecolor\": \"white\", \"ticks\": \"\", \"title\": {\"standoff\": 15}, \"zerolinecolor\": \"white\", \"zerolinewidth\": 2}}}, \"title\": {\"text\": \"4985\"}, \"xaxis\": {\"anchor\": \"y\", \"domain\": [0.0, 1.0], \"title\": {\"text\": \"Number of Copies (Main Deck)\"}}, \"yaxis\": {\"anchor\": \"x\", \"domain\": [0.0, 1.0], \"title\": {\"text\": \"Win %\"}}},                        {\"responsive\": true}                    ).then(function(){\n",
       "                            \n",
       "var gd = document.getElementById('c2446ff2-3271-4254-bd32-4d991fb6ca23');\n",
       "var x = new MutationObserver(function (mutations, observer) {{\n",
       "        var display = window.getComputedStyle(gd).display;\n",
       "        if (!display || display === 'none') {{\n",
       "            console.log([gd, 'removed!']);\n",
       "            Plotly.purge(gd);\n",
       "            observer.disconnect();\n",
       "        }}\n",
       "}});\n",
       "\n",
       "// Listen for the removal of the full notebook cells\n",
       "var notebookContainer = gd.closest('#notebook-container');\n",
       "if (notebookContainer) {{\n",
       "    x.observe(notebookContainer, {childList: true});\n",
       "}}\n",
       "\n",
       "// Listen for the clearing of the current output cell\n",
       "var outputEl = gd.closest('.output');\n",
       "if (outputEl) {{\n",
       "    x.observe(outputEl, {childList: true});\n",
       "}}\n",
       "\n",
       "                        })                };                });            </script>        </div>"
      ]
     },
     "metadata": {},
     "output_type": "display_data"
    },
    {
     "data": {
      "application/vnd.plotly.v1+json": {
       "config": {
        "plotlyServerURL": "https://plot.ly"
       },
       "data": [
        {
         "customdata": [
          [
           "Swamp"
          ],
          [
           "Forest"
          ],
          [
           "Island"
          ],
          [
           "Thoughtseize"
          ],
          [
           "Hypnotic Specter"
          ],
          [
           "Mountain"
          ],
          [
           "Hero's Downfall"
          ],
          [
           "Temple of Mystery"
          ],
          [
           "Plains"
          ],
          [
           "Birds of Paradise"
          ],
          [
           "Sign in Blood"
          ],
          [
           "Ponder"
          ],
          [
           "Gray Merchant of Asphodel"
          ],
          [
           "Nantuko Shade"
          ],
          [
           "Mox Diamond"
          ],
          [
           "Prismatic Lens"
          ],
          [
           "Noble Hierarch"
          ],
          [
           "Elspeth, Sun's Champion"
          ],
          [
           "Lightning Bolt"
          ],
          [
           "Garruk Wildspeaker"
          ],
          [
           "Mesmeric Fiend"
          ],
          [
           "Read the Bones"
          ],
          [
           "Path to Exile"
          ],
          [
           "Temple of Silence"
          ],
          [
           "Nykthos, Shrine to Nyx"
          ],
          [
           "Dream Halls"
          ],
          [
           "Conflux"
          ],
          [
           "Sunpetal Grove"
          ],
          [
           "Ancestral Vision"
          ],
          [
           "Rootbound Crag"
          ],
          [
           "Dauthi Slayer"
          ],
          [
           "Temple of Abandon"
          ],
          [
           "Mana Leak"
          ],
          [
           "Gemstone Mine"
          ],
          [
           "Temple of Deceit"
          ],
          [
           "Sylvan Caryatid"
          ],
          [
           "Tainted Field"
          ],
          [
           "Fleecemane Lion"
          ],
          [
           "Chainer's Edict"
          ],
          [
           "Baneslayer Angel"
          ],
          [
           "Deep Analysis"
          ],
          [
           "Polukranos, World Eater"
          ],
          [
           "Commune with the Gods"
          ],
          [
           "Dread Return"
          ],
          [
           "Underworld Dreams"
          ],
          [
           "Time Warp"
          ],
          [
           "Boon Satyr"
          ],
          [
           "Terramorphic Expanse"
          ],
          [
           "Llanowar Elves"
          ],
          [
           "Jace Beleren"
          ],
          [
           "Call of the Herd"
          ],
          [
           "Volrath's Stronghold"
          ],
          [
           "Glacial Fortress"
          ],
          [
           "Tormented Hero"
          ],
          [
           "Stormbreath Dragon"
          ],
          [
           "Progenitus"
          ],
          [
           "Pendelhaven"
          ],
          [
           "Intruder Alarm"
          ],
          [
           "Hermit Druid"
          ],
          [
           "Drowned Catacomb"
          ],
          [
           "Whip of Erebos"
          ],
          [
           "Nyxathid"
          ],
          [
           "Cabal Coffers"
          ],
          [
           "Breakthrough"
          ],
          [
           "Tendrils of Corruption"
          ],
          [
           "Rampant Growth"
          ],
          [
           "Mutilate"
          ],
          [
           "Duress"
          ],
          [
           "Doom Blade"
          ],
          [
           "Basking Rootwalla"
          ],
          [
           "Acorn Harvest"
          ],
          [
           "Acidic Slime"
          ],
          [
           "Xenagos, the Reveler"
          ],
          [
           "Walk the Aeons"
          ],
          [
           "Purphoros, God of the Forge"
          ],
          [
           "Flagstones of Trokair"
          ],
          [
           "Temple of Triumph"
          ],
          [
           "Swan Song"
          ],
          [
           "Nostalgic Dreams"
          ],
          [
           "Mistcutter Hydra"
          ],
          [
           "Master of the Wild Hunt"
          ],
          [
           "Lotus Bloom"
          ],
          [
           "Think Twice"
          ],
          [
           "Griffin Guide"
          ],
          [
           "Erebos, God of the Dead"
          ],
          [
           "Ashen Rider"
          ],
          [
           "Rotting Rats"
          ],
          [
           "Pharika's Cure"
          ],
          [
           "Ichorid"
          ],
          [
           "Gemstone Caverns"
          ],
          [
           "Dreadship Reef"
          ],
          [
           "Ant Queen"
          ],
          [
           "Thornling"
          ],
          [
           "Gaea's Blessing"
          ],
          [
           "Calciform Pools"
          ],
          [
           "Nylea, God of the Hunt"
          ],
          [
           "Nylea's Presence"
          ],
          [
           "Inkwell Leviathan"
          ],
          [
           "Fungal Reaches"
          ],
          [
           "Consume Spirit"
          ],
          [
           "Arbor Colossus"
          ],
          [
           "Abhorrent Overlord"
          ],
          [
           "Withered Wretch"
          ],
          [
           "Urza's Factory"
          ],
          [
           "Phyrexian Totem"
          ],
          [
           "Liliana Vess"
          ],
          [
           "Funeral Charm"
          ],
          [
           "Colossus of Akros"
          ],
          [
           "Coalition Victory"
          ]
         ],
         "hovertemplate": "Number of Copies (Main Deck)=%{x}<br>Win %=%{y}<br>name=%{customdata[0]}<extra></extra>",
         "legendgroup": "",
         "marker": {
          "color": "#636efa",
          "symbol": "circle"
         },
         "mode": "markers",
         "name": "",
         "orientation": "v",
         "showlegend": false,
         "type": "scatter",
         "x": [
          344,
          155,
          115,
          84,
          55,
          54,
          51,
          50,
          48,
          48,
          45,
          36,
          36,
          35,
          33,
          32,
          32,
          32,
          31,
          31,
          30,
          29,
          29,
          28,
          28,
          28,
          28,
          26,
          26,
          24,
          24,
          23,
          23,
          22,
          21,
          21,
          20,
          20,
          20,
          20,
          19,
          18,
          18,
          17,
          16,
          16,
          16,
          15,
          15,
          15,
          14,
          13,
          13,
          12,
          12,
          12,
          12,
          12,
          12,
          12,
          11,
          11,
          11,
          11,
          10,
          10,
          10,
          10,
          10,
          10,
          10,
          10,
          9,
          9,
          9,
          9,
          8,
          8,
          8,
          8,
          8,
          8,
          7,
          7,
          7,
          7,
          6,
          6,
          6,
          6,
          6,
          6,
          5,
          5,
          5,
          4,
          4,
          4,
          4,
          4,
          4,
          4,
          3,
          3,
          3,
          3,
          3,
          3,
          3
         ],
         "xaxis": "x",
         "y": [
          42,
          49,
          48,
          44,
          39,
          43,
          43,
          43,
          48,
          57,
          45,
          48,
          51,
          51,
          47,
          46,
          54,
          49,
          54,
          60,
          48,
          43,
          49,
          34,
          52,
          55,
          55,
          47,
          54,
          45,
          44,
          57,
          55,
          41,
          39,
          43,
          33,
          54,
          51,
          33,
          44,
          60,
          30,
          44,
          54,
          52,
          65,
          42,
          59,
          44,
          65,
          41,
          43,
          50,
          63,
          55,
          54,
          31,
          50,
          38,
          35,
          50,
          48,
          47,
          48,
          57,
          53,
          60,
          37,
          61,
          52,
          47,
          63,
          60,
          62,
          74,
          70,
          53,
          42,
          59,
          65,
          58,
          62,
          81,
          45,
          55,
          64,
          47,
          64,
          33,
          50,
          61,
          58,
          50,
          58,
          67,
          36,
          55,
          57,
          45,
          64,
          67,
          64,
          50,
          33,
          55,
          64,
          45,
          36
         ],
         "yaxis": "y"
        }
       ],
       "layout": {
        "legend": {
         "tracegroupgap": 0
        },
        "template": {
         "data": {
          "bar": [
           {
            "error_x": {
             "color": "#2a3f5f"
            },
            "error_y": {
             "color": "#2a3f5f"
            },
            "marker": {
             "line": {
              "color": "#E5ECF6",
              "width": 0.5
             }
            },
            "type": "bar"
           }
          ],
          "barpolar": [
           {
            "marker": {
             "line": {
              "color": "#E5ECF6",
              "width": 0.5
             }
            },
            "type": "barpolar"
           }
          ],
          "carpet": [
           {
            "aaxis": {
             "endlinecolor": "#2a3f5f",
             "gridcolor": "white",
             "linecolor": "white",
             "minorgridcolor": "white",
             "startlinecolor": "#2a3f5f"
            },
            "baxis": {
             "endlinecolor": "#2a3f5f",
             "gridcolor": "white",
             "linecolor": "white",
             "minorgridcolor": "white",
             "startlinecolor": "#2a3f5f"
            },
            "type": "carpet"
           }
          ],
          "choropleth": [
           {
            "colorbar": {
             "outlinewidth": 0,
             "ticks": ""
            },
            "type": "choropleth"
           }
          ],
          "contour": [
           {
            "colorbar": {
             "outlinewidth": 0,
             "ticks": ""
            },
            "colorscale": [
             [
              0,
              "#0d0887"
             ],
             [
              0.1111111111111111,
              "#46039f"
             ],
             [
              0.2222222222222222,
              "#7201a8"
             ],
             [
              0.3333333333333333,
              "#9c179e"
             ],
             [
              0.4444444444444444,
              "#bd3786"
             ],
             [
              0.5555555555555556,
              "#d8576b"
             ],
             [
              0.6666666666666666,
              "#ed7953"
             ],
             [
              0.7777777777777778,
              "#fb9f3a"
             ],
             [
              0.8888888888888888,
              "#fdca26"
             ],
             [
              1,
              "#f0f921"
             ]
            ],
            "type": "contour"
           }
          ],
          "contourcarpet": [
           {
            "colorbar": {
             "outlinewidth": 0,
             "ticks": ""
            },
            "type": "contourcarpet"
           }
          ],
          "heatmap": [
           {
            "colorbar": {
             "outlinewidth": 0,
             "ticks": ""
            },
            "colorscale": [
             [
              0,
              "#0d0887"
             ],
             [
              0.1111111111111111,
              "#46039f"
             ],
             [
              0.2222222222222222,
              "#7201a8"
             ],
             [
              0.3333333333333333,
              "#9c179e"
             ],
             [
              0.4444444444444444,
              "#bd3786"
             ],
             [
              0.5555555555555556,
              "#d8576b"
             ],
             [
              0.6666666666666666,
              "#ed7953"
             ],
             [
              0.7777777777777778,
              "#fb9f3a"
             ],
             [
              0.8888888888888888,
              "#fdca26"
             ],
             [
              1,
              "#f0f921"
             ]
            ],
            "type": "heatmap"
           }
          ],
          "heatmapgl": [
           {
            "colorbar": {
             "outlinewidth": 0,
             "ticks": ""
            },
            "colorscale": [
             [
              0,
              "#0d0887"
             ],
             [
              0.1111111111111111,
              "#46039f"
             ],
             [
              0.2222222222222222,
              "#7201a8"
             ],
             [
              0.3333333333333333,
              "#9c179e"
             ],
             [
              0.4444444444444444,
              "#bd3786"
             ],
             [
              0.5555555555555556,
              "#d8576b"
             ],
             [
              0.6666666666666666,
              "#ed7953"
             ],
             [
              0.7777777777777778,
              "#fb9f3a"
             ],
             [
              0.8888888888888888,
              "#fdca26"
             ],
             [
              1,
              "#f0f921"
             ]
            ],
            "type": "heatmapgl"
           }
          ],
          "histogram": [
           {
            "marker": {
             "colorbar": {
              "outlinewidth": 0,
              "ticks": ""
             }
            },
            "type": "histogram"
           }
          ],
          "histogram2d": [
           {
            "colorbar": {
             "outlinewidth": 0,
             "ticks": ""
            },
            "colorscale": [
             [
              0,
              "#0d0887"
             ],
             [
              0.1111111111111111,
              "#46039f"
             ],
             [
              0.2222222222222222,
              "#7201a8"
             ],
             [
              0.3333333333333333,
              "#9c179e"
             ],
             [
              0.4444444444444444,
              "#bd3786"
             ],
             [
              0.5555555555555556,
              "#d8576b"
             ],
             [
              0.6666666666666666,
              "#ed7953"
             ],
             [
              0.7777777777777778,
              "#fb9f3a"
             ],
             [
              0.8888888888888888,
              "#fdca26"
             ],
             [
              1,
              "#f0f921"
             ]
            ],
            "type": "histogram2d"
           }
          ],
          "histogram2dcontour": [
           {
            "colorbar": {
             "outlinewidth": 0,
             "ticks": ""
            },
            "colorscale": [
             [
              0,
              "#0d0887"
             ],
             [
              0.1111111111111111,
              "#46039f"
             ],
             [
              0.2222222222222222,
              "#7201a8"
             ],
             [
              0.3333333333333333,
              "#9c179e"
             ],
             [
              0.4444444444444444,
              "#bd3786"
             ],
             [
              0.5555555555555556,
              "#d8576b"
             ],
             [
              0.6666666666666666,
              "#ed7953"
             ],
             [
              0.7777777777777778,
              "#fb9f3a"
             ],
             [
              0.8888888888888888,
              "#fdca26"
             ],
             [
              1,
              "#f0f921"
             ]
            ],
            "type": "histogram2dcontour"
           }
          ],
          "mesh3d": [
           {
            "colorbar": {
             "outlinewidth": 0,
             "ticks": ""
            },
            "type": "mesh3d"
           }
          ],
          "parcoords": [
           {
            "line": {
             "colorbar": {
              "outlinewidth": 0,
              "ticks": ""
             }
            },
            "type": "parcoords"
           }
          ],
          "pie": [
           {
            "automargin": true,
            "type": "pie"
           }
          ],
          "scatter": [
           {
            "marker": {
             "colorbar": {
              "outlinewidth": 0,
              "ticks": ""
             }
            },
            "type": "scatter"
           }
          ],
          "scatter3d": [
           {
            "line": {
             "colorbar": {
              "outlinewidth": 0,
              "ticks": ""
             }
            },
            "marker": {
             "colorbar": {
              "outlinewidth": 0,
              "ticks": ""
             }
            },
            "type": "scatter3d"
           }
          ],
          "scattercarpet": [
           {
            "marker": {
             "colorbar": {
              "outlinewidth": 0,
              "ticks": ""
             }
            },
            "type": "scattercarpet"
           }
          ],
          "scattergeo": [
           {
            "marker": {
             "colorbar": {
              "outlinewidth": 0,
              "ticks": ""
             }
            },
            "type": "scattergeo"
           }
          ],
          "scattergl": [
           {
            "marker": {
             "colorbar": {
              "outlinewidth": 0,
              "ticks": ""
             }
            },
            "type": "scattergl"
           }
          ],
          "scattermapbox": [
           {
            "marker": {
             "colorbar": {
              "outlinewidth": 0,
              "ticks": ""
             }
            },
            "type": "scattermapbox"
           }
          ],
          "scatterpolar": [
           {
            "marker": {
             "colorbar": {
              "outlinewidth": 0,
              "ticks": ""
             }
            },
            "type": "scatterpolar"
           }
          ],
          "scatterpolargl": [
           {
            "marker": {
             "colorbar": {
              "outlinewidth": 0,
              "ticks": ""
             }
            },
            "type": "scatterpolargl"
           }
          ],
          "scatterternary": [
           {
            "marker": {
             "colorbar": {
              "outlinewidth": 0,
              "ticks": ""
             }
            },
            "type": "scatterternary"
           }
          ],
          "surface": [
           {
            "colorbar": {
             "outlinewidth": 0,
             "ticks": ""
            },
            "colorscale": [
             [
              0,
              "#0d0887"
             ],
             [
              0.1111111111111111,
              "#46039f"
             ],
             [
              0.2222222222222222,
              "#7201a8"
             ],
             [
              0.3333333333333333,
              "#9c179e"
             ],
             [
              0.4444444444444444,
              "#bd3786"
             ],
             [
              0.5555555555555556,
              "#d8576b"
             ],
             [
              0.6666666666666666,
              "#ed7953"
             ],
             [
              0.7777777777777778,
              "#fb9f3a"
             ],
             [
              0.8888888888888888,
              "#fdca26"
             ],
             [
              1,
              "#f0f921"
             ]
            ],
            "type": "surface"
           }
          ],
          "table": [
           {
            "cells": {
             "fill": {
              "color": "#EBF0F8"
             },
             "line": {
              "color": "white"
             }
            },
            "header": {
             "fill": {
              "color": "#C8D4E3"
             },
             "line": {
              "color": "white"
             }
            },
            "type": "table"
           }
          ]
         },
         "layout": {
          "annotationdefaults": {
           "arrowcolor": "#2a3f5f",
           "arrowhead": 0,
           "arrowwidth": 1
          },
          "autotypenumbers": "strict",
          "coloraxis": {
           "colorbar": {
            "outlinewidth": 0,
            "ticks": ""
           }
          },
          "colorscale": {
           "diverging": [
            [
             0,
             "#8e0152"
            ],
            [
             0.1,
             "#c51b7d"
            ],
            [
             0.2,
             "#de77ae"
            ],
            [
             0.3,
             "#f1b6da"
            ],
            [
             0.4,
             "#fde0ef"
            ],
            [
             0.5,
             "#f7f7f7"
            ],
            [
             0.6,
             "#e6f5d0"
            ],
            [
             0.7,
             "#b8e186"
            ],
            [
             0.8,
             "#7fbc41"
            ],
            [
             0.9,
             "#4d9221"
            ],
            [
             1,
             "#276419"
            ]
           ],
           "sequential": [
            [
             0,
             "#0d0887"
            ],
            [
             0.1111111111111111,
             "#46039f"
            ],
            [
             0.2222222222222222,
             "#7201a8"
            ],
            [
             0.3333333333333333,
             "#9c179e"
            ],
            [
             0.4444444444444444,
             "#bd3786"
            ],
            [
             0.5555555555555556,
             "#d8576b"
            ],
            [
             0.6666666666666666,
             "#ed7953"
            ],
            [
             0.7777777777777778,
             "#fb9f3a"
            ],
            [
             0.8888888888888888,
             "#fdca26"
            ],
            [
             1,
             "#f0f921"
            ]
           ],
           "sequentialminus": [
            [
             0,
             "#0d0887"
            ],
            [
             0.1111111111111111,
             "#46039f"
            ],
            [
             0.2222222222222222,
             "#7201a8"
            ],
            [
             0.3333333333333333,
             "#9c179e"
            ],
            [
             0.4444444444444444,
             "#bd3786"
            ],
            [
             0.5555555555555556,
             "#d8576b"
            ],
            [
             0.6666666666666666,
             "#ed7953"
            ],
            [
             0.7777777777777778,
             "#fb9f3a"
            ],
            [
             0.8888888888888888,
             "#fdca26"
            ],
            [
             1,
             "#f0f921"
            ]
           ]
          },
          "colorway": [
           "#636efa",
           "#EF553B",
           "#00cc96",
           "#ab63fa",
           "#FFA15A",
           "#19d3f3",
           "#FF6692",
           "#B6E880",
           "#FF97FF",
           "#FECB52"
          ],
          "font": {
           "color": "#2a3f5f"
          },
          "geo": {
           "bgcolor": "white",
           "lakecolor": "white",
           "landcolor": "#E5ECF6",
           "showlakes": true,
           "showland": true,
           "subunitcolor": "white"
          },
          "hoverlabel": {
           "align": "left"
          },
          "hovermode": "closest",
          "mapbox": {
           "style": "light"
          },
          "paper_bgcolor": "white",
          "plot_bgcolor": "#E5ECF6",
          "polar": {
           "angularaxis": {
            "gridcolor": "white",
            "linecolor": "white",
            "ticks": ""
           },
           "bgcolor": "#E5ECF6",
           "radialaxis": {
            "gridcolor": "white",
            "linecolor": "white",
            "ticks": ""
           }
          },
          "scene": {
           "xaxis": {
            "backgroundcolor": "#E5ECF6",
            "gridcolor": "white",
            "gridwidth": 2,
            "linecolor": "white",
            "showbackground": true,
            "ticks": "",
            "zerolinecolor": "white"
           },
           "yaxis": {
            "backgroundcolor": "#E5ECF6",
            "gridcolor": "white",
            "gridwidth": 2,
            "linecolor": "white",
            "showbackground": true,
            "ticks": "",
            "zerolinecolor": "white"
           },
           "zaxis": {
            "backgroundcolor": "#E5ECF6",
            "gridcolor": "white",
            "gridwidth": 2,
            "linecolor": "white",
            "showbackground": true,
            "ticks": "",
            "zerolinecolor": "white"
           }
          },
          "shapedefaults": {
           "line": {
            "color": "#2a3f5f"
           }
          },
          "ternary": {
           "aaxis": {
            "gridcolor": "white",
            "linecolor": "white",
            "ticks": ""
           },
           "baxis": {
            "gridcolor": "white",
            "linecolor": "white",
            "ticks": ""
           },
           "bgcolor": "#E5ECF6",
           "caxis": {
            "gridcolor": "white",
            "linecolor": "white",
            "ticks": ""
           }
          },
          "title": {
           "x": 0.05
          },
          "xaxis": {
           "automargin": true,
           "gridcolor": "white",
           "linecolor": "white",
           "ticks": "",
           "title": {
            "standoff": 15
           },
           "zerolinecolor": "white",
           "zerolinewidth": 2
          },
          "yaxis": {
           "automargin": true,
           "gridcolor": "white",
           "linecolor": "white",
           "ticks": "",
           "title": {
            "standoff": 15
           },
           "zerolinecolor": "white",
           "zerolinewidth": 2
          }
         }
        },
        "title": {
         "text": "5437"
        },
        "xaxis": {
         "anchor": "y",
         "domain": [
          0,
          1
         ],
         "title": {
          "text": "Number of Copies (Main Deck)"
         }
        },
        "yaxis": {
         "anchor": "x",
         "domain": [
          0,
          1
         ],
         "title": {
          "text": "Win %"
         }
        }
       }
      },
      "text/html": [
       "<div>                            <div id=\"83854bdd-ac75-42cb-8663-9f6dda8c7f78\" class=\"plotly-graph-div\" style=\"height:525px; width:100%;\"></div>            <script type=\"text/javascript\">                require([\"plotly\"], function(Plotly) {                    window.PLOTLYENV=window.PLOTLYENV || {};                                    if (document.getElementById(\"83854bdd-ac75-42cb-8663-9f6dda8c7f78\")) {                    Plotly.newPlot(                        \"83854bdd-ac75-42cb-8663-9f6dda8c7f78\",                        [{\"customdata\": [[\"Swamp\"], [\"Forest\"], [\"Island\"], [\"Thoughtseize\"], [\"Hypnotic Specter\"], [\"Mountain\"], [\"Hero's Downfall\"], [\"Temple of Mystery\"], [\"Plains\"], [\"Birds of Paradise\"], [\"Sign in Blood\"], [\"Ponder\"], [\"Gray Merchant of Asphodel\"], [\"Nantuko Shade\"], [\"Mox Diamond\"], [\"Prismatic Lens\"], [\"Noble Hierarch\"], [\"Elspeth, Sun's Champion\"], [\"Lightning Bolt\"], [\"Garruk Wildspeaker\"], [\"Mesmeric Fiend\"], [\"Read the Bones\"], [\"Path to Exile\"], [\"Temple of Silence\"], [\"Nykthos, Shrine to Nyx\"], [\"Dream Halls\"], [\"Conflux\"], [\"Sunpetal Grove\"], [\"Ancestral Vision\"], [\"Rootbound Crag\"], [\"Dauthi Slayer\"], [\"Temple of Abandon\"], [\"Mana Leak\"], [\"Gemstone Mine\"], [\"Temple of Deceit\"], [\"Sylvan Caryatid\"], [\"Tainted Field\"], [\"Fleecemane Lion\"], [\"Chainer's Edict\"], [\"Baneslayer Angel\"], [\"Deep Analysis\"], [\"Polukranos, World Eater\"], [\"Commune with the Gods\"], [\"Dread Return\"], [\"Underworld Dreams\"], [\"Time Warp\"], [\"Boon Satyr\"], [\"Terramorphic Expanse\"], [\"Llanowar Elves\"], [\"Jace Beleren\"], [\"Call of the Herd\"], [\"Volrath's Stronghold\"], [\"Glacial Fortress\"], [\"Tormented Hero\"], [\"Stormbreath Dragon\"], [\"Progenitus\"], [\"Pendelhaven\"], [\"Intruder Alarm\"], [\"Hermit Druid\"], [\"Drowned Catacomb\"], [\"Whip of Erebos\"], [\"Nyxathid\"], [\"Cabal Coffers\"], [\"Breakthrough\"], [\"Tendrils of Corruption\"], [\"Rampant Growth\"], [\"Mutilate\"], [\"Duress\"], [\"Doom Blade\"], [\"Basking Rootwalla\"], [\"Acorn Harvest\"], [\"Acidic Slime\"], [\"Xenagos, the Reveler\"], [\"Walk the Aeons\"], [\"Purphoros, God of the Forge\"], [\"Flagstones of Trokair\"], [\"Temple of Triumph\"], [\"Swan Song\"], [\"Nostalgic Dreams\"], [\"Mistcutter Hydra\"], [\"Master of the Wild Hunt\"], [\"Lotus Bloom\"], [\"Think Twice\"], [\"Griffin Guide\"], [\"Erebos, God of the Dead\"], [\"Ashen Rider\"], [\"Rotting Rats\"], [\"Pharika's Cure\"], [\"Ichorid\"], [\"Gemstone Caverns\"], [\"Dreadship Reef\"], [\"Ant Queen\"], [\"Thornling\"], [\"Gaea's Blessing\"], [\"Calciform Pools\"], [\"Nylea, God of the Hunt\"], [\"Nylea's Presence\"], [\"Inkwell Leviathan\"], [\"Fungal Reaches\"], [\"Consume Spirit\"], [\"Arbor Colossus\"], [\"Abhorrent Overlord\"], [\"Withered Wretch\"], [\"Urza's Factory\"], [\"Phyrexian Totem\"], [\"Liliana Vess\"], [\"Funeral Charm\"], [\"Colossus of Akros\"], [\"Coalition Victory\"]], \"hovertemplate\": \"Number of Copies (Main Deck)=%{x}<br>Win %=%{y}<br>name=%{customdata[0]}<extra></extra>\", \"legendgroup\": \"\", \"marker\": {\"color\": \"#636efa\", \"symbol\": \"circle\"}, \"mode\": \"markers\", \"name\": \"\", \"orientation\": \"v\", \"showlegend\": false, \"type\": \"scatter\", \"x\": [344, 155, 115, 84, 55, 54, 51, 50, 48, 48, 45, 36, 36, 35, 33, 32, 32, 32, 31, 31, 30, 29, 29, 28, 28, 28, 28, 26, 26, 24, 24, 23, 23, 22, 21, 21, 20, 20, 20, 20, 19, 18, 18, 17, 16, 16, 16, 15, 15, 15, 14, 13, 13, 12, 12, 12, 12, 12, 12, 12, 11, 11, 11, 11, 10, 10, 10, 10, 10, 10, 10, 10, 9, 9, 9, 9, 8, 8, 8, 8, 8, 8, 7, 7, 7, 7, 6, 6, 6, 6, 6, 6, 5, 5, 5, 4, 4, 4, 4, 4, 4, 4, 3, 3, 3, 3, 3, 3, 3], \"xaxis\": \"x\", \"y\": [42.0, 49.0, 48.0, 44.0, 39.0, 43.0, 43.0, 43.0, 48.0, 57.0, 45.0, 48.0, 51.0, 51.0, 47.0, 46.0, 54.0, 49.0, 54.0, 60.0, 48.0, 43.0, 49.0, 34.0, 52.0, 55.0, 55.0, 47.0, 54.0, 45.0, 44.0, 57.0, 55.0, 41.0, 39.0, 43.0, 33.0, 54.0, 51.0, 33.0, 44.0, 60.0, 30.0, 44.0, 54.0, 52.0, 65.0, 42.0, 59.0, 44.0, 65.0, 41.0, 43.0, 50.0, 63.0, 55.0, 54.0, 31.0, 50.0, 38.0, 35.0, 50.0, 48.0, 47.0, 48.0, 57.0, 53.0, 60.0, 37.0, 61.0, 52.0, 47.0, 63.0, 60.0, 62.0, 74.0, 70.0, 53.0, 42.0, 59.0, 65.0, 58.0, 62.0, 81.0, 45.0, 55.0, 64.0, 47.0, 64.0, 33.0, 50.0, 61.0, 58.0, 50.0, 58.0, 67.0, 36.0, 55.0, 57.0, 45.0, 64.0, 67.0, 64.0, 50.0, 33.0, 55.0, 64.0, 45.0, 36.0], \"yaxis\": \"y\"}],                        {\"legend\": {\"tracegroupgap\": 0}, \"template\": {\"data\": {\"bar\": [{\"error_x\": {\"color\": \"#2a3f5f\"}, \"error_y\": {\"color\": \"#2a3f5f\"}, \"marker\": {\"line\": {\"color\": \"#E5ECF6\", \"width\": 0.5}}, \"type\": \"bar\"}], \"barpolar\": [{\"marker\": {\"line\": {\"color\": \"#E5ECF6\", \"width\": 0.5}}, \"type\": \"barpolar\"}], \"carpet\": [{\"aaxis\": {\"endlinecolor\": \"#2a3f5f\", \"gridcolor\": \"white\", \"linecolor\": \"white\", \"minorgridcolor\": \"white\", \"startlinecolor\": \"#2a3f5f\"}, \"baxis\": {\"endlinecolor\": \"#2a3f5f\", \"gridcolor\": \"white\", \"linecolor\": \"white\", \"minorgridcolor\": \"white\", \"startlinecolor\": \"#2a3f5f\"}, \"type\": \"carpet\"}], \"choropleth\": [{\"colorbar\": {\"outlinewidth\": 0, \"ticks\": \"\"}, \"type\": \"choropleth\"}], \"contour\": [{\"colorbar\": {\"outlinewidth\": 0, \"ticks\": \"\"}, \"colorscale\": [[0.0, \"#0d0887\"], [0.1111111111111111, \"#46039f\"], [0.2222222222222222, \"#7201a8\"], [0.3333333333333333, \"#9c179e\"], [0.4444444444444444, \"#bd3786\"], [0.5555555555555556, \"#d8576b\"], [0.6666666666666666, \"#ed7953\"], [0.7777777777777778, \"#fb9f3a\"], [0.8888888888888888, \"#fdca26\"], [1.0, \"#f0f921\"]], \"type\": \"contour\"}], \"contourcarpet\": [{\"colorbar\": {\"outlinewidth\": 0, \"ticks\": \"\"}, \"type\": \"contourcarpet\"}], \"heatmap\": [{\"colorbar\": {\"outlinewidth\": 0, \"ticks\": \"\"}, \"colorscale\": [[0.0, \"#0d0887\"], [0.1111111111111111, \"#46039f\"], [0.2222222222222222, \"#7201a8\"], [0.3333333333333333, \"#9c179e\"], [0.4444444444444444, \"#bd3786\"], [0.5555555555555556, \"#d8576b\"], [0.6666666666666666, \"#ed7953\"], [0.7777777777777778, \"#fb9f3a\"], [0.8888888888888888, \"#fdca26\"], [1.0, \"#f0f921\"]], \"type\": \"heatmap\"}], \"heatmapgl\": [{\"colorbar\": {\"outlinewidth\": 0, \"ticks\": \"\"}, \"colorscale\": [[0.0, \"#0d0887\"], [0.1111111111111111, \"#46039f\"], [0.2222222222222222, \"#7201a8\"], [0.3333333333333333, \"#9c179e\"], [0.4444444444444444, \"#bd3786\"], [0.5555555555555556, \"#d8576b\"], [0.6666666666666666, \"#ed7953\"], [0.7777777777777778, \"#fb9f3a\"], [0.8888888888888888, \"#fdca26\"], [1.0, \"#f0f921\"]], \"type\": \"heatmapgl\"}], \"histogram\": [{\"marker\": {\"colorbar\": {\"outlinewidth\": 0, \"ticks\": \"\"}}, \"type\": \"histogram\"}], \"histogram2d\": [{\"colorbar\": {\"outlinewidth\": 0, \"ticks\": \"\"}, \"colorscale\": [[0.0, \"#0d0887\"], [0.1111111111111111, \"#46039f\"], [0.2222222222222222, \"#7201a8\"], [0.3333333333333333, \"#9c179e\"], [0.4444444444444444, \"#bd3786\"], [0.5555555555555556, \"#d8576b\"], [0.6666666666666666, \"#ed7953\"], [0.7777777777777778, \"#fb9f3a\"], [0.8888888888888888, \"#fdca26\"], [1.0, \"#f0f921\"]], \"type\": \"histogram2d\"}], \"histogram2dcontour\": [{\"colorbar\": {\"outlinewidth\": 0, \"ticks\": \"\"}, \"colorscale\": [[0.0, \"#0d0887\"], [0.1111111111111111, \"#46039f\"], [0.2222222222222222, \"#7201a8\"], [0.3333333333333333, \"#9c179e\"], [0.4444444444444444, \"#bd3786\"], [0.5555555555555556, \"#d8576b\"], [0.6666666666666666, \"#ed7953\"], [0.7777777777777778, \"#fb9f3a\"], [0.8888888888888888, \"#fdca26\"], [1.0, \"#f0f921\"]], \"type\": \"histogram2dcontour\"}], \"mesh3d\": [{\"colorbar\": {\"outlinewidth\": 0, \"ticks\": \"\"}, \"type\": \"mesh3d\"}], \"parcoords\": [{\"line\": {\"colorbar\": {\"outlinewidth\": 0, \"ticks\": \"\"}}, \"type\": \"parcoords\"}], \"pie\": [{\"automargin\": true, \"type\": \"pie\"}], \"scatter\": [{\"marker\": {\"colorbar\": {\"outlinewidth\": 0, \"ticks\": \"\"}}, \"type\": \"scatter\"}], \"scatter3d\": [{\"line\": {\"colorbar\": {\"outlinewidth\": 0, \"ticks\": \"\"}}, \"marker\": {\"colorbar\": {\"outlinewidth\": 0, \"ticks\": \"\"}}, \"type\": \"scatter3d\"}], \"scattercarpet\": [{\"marker\": {\"colorbar\": {\"outlinewidth\": 0, \"ticks\": \"\"}}, \"type\": \"scattercarpet\"}], \"scattergeo\": [{\"marker\": {\"colorbar\": {\"outlinewidth\": 0, \"ticks\": \"\"}}, \"type\": \"scattergeo\"}], \"scattergl\": [{\"marker\": {\"colorbar\": {\"outlinewidth\": 0, \"ticks\": \"\"}}, \"type\": \"scattergl\"}], \"scattermapbox\": [{\"marker\": {\"colorbar\": {\"outlinewidth\": 0, \"ticks\": \"\"}}, \"type\": \"scattermapbox\"}], \"scatterpolar\": [{\"marker\": {\"colorbar\": {\"outlinewidth\": 0, \"ticks\": \"\"}}, \"type\": \"scatterpolar\"}], \"scatterpolargl\": [{\"marker\": {\"colorbar\": {\"outlinewidth\": 0, \"ticks\": \"\"}}, \"type\": \"scatterpolargl\"}], \"scatterternary\": [{\"marker\": {\"colorbar\": {\"outlinewidth\": 0, \"ticks\": \"\"}}, \"type\": \"scatterternary\"}], \"surface\": [{\"colorbar\": {\"outlinewidth\": 0, \"ticks\": \"\"}, \"colorscale\": [[0.0, \"#0d0887\"], [0.1111111111111111, \"#46039f\"], [0.2222222222222222, \"#7201a8\"], [0.3333333333333333, \"#9c179e\"], [0.4444444444444444, \"#bd3786\"], [0.5555555555555556, \"#d8576b\"], [0.6666666666666666, \"#ed7953\"], [0.7777777777777778, \"#fb9f3a\"], [0.8888888888888888, \"#fdca26\"], [1.0, \"#f0f921\"]], \"type\": \"surface\"}], \"table\": [{\"cells\": {\"fill\": {\"color\": \"#EBF0F8\"}, \"line\": {\"color\": \"white\"}}, \"header\": {\"fill\": {\"color\": \"#C8D4E3\"}, \"line\": {\"color\": \"white\"}}, \"type\": \"table\"}]}, \"layout\": {\"annotationdefaults\": {\"arrowcolor\": \"#2a3f5f\", \"arrowhead\": 0, \"arrowwidth\": 1}, \"autotypenumbers\": \"strict\", \"coloraxis\": {\"colorbar\": {\"outlinewidth\": 0, \"ticks\": \"\"}}, \"colorscale\": {\"diverging\": [[0, \"#8e0152\"], [0.1, \"#c51b7d\"], [0.2, \"#de77ae\"], [0.3, \"#f1b6da\"], [0.4, \"#fde0ef\"], [0.5, \"#f7f7f7\"], [0.6, \"#e6f5d0\"], [0.7, \"#b8e186\"], [0.8, \"#7fbc41\"], [0.9, \"#4d9221\"], [1, \"#276419\"]], \"sequential\": [[0.0, \"#0d0887\"], [0.1111111111111111, \"#46039f\"], [0.2222222222222222, \"#7201a8\"], [0.3333333333333333, \"#9c179e\"], [0.4444444444444444, \"#bd3786\"], [0.5555555555555556, \"#d8576b\"], [0.6666666666666666, \"#ed7953\"], [0.7777777777777778, \"#fb9f3a\"], [0.8888888888888888, \"#fdca26\"], [1.0, \"#f0f921\"]], \"sequentialminus\": [[0.0, \"#0d0887\"], [0.1111111111111111, \"#46039f\"], [0.2222222222222222, \"#7201a8\"], [0.3333333333333333, \"#9c179e\"], [0.4444444444444444, \"#bd3786\"], [0.5555555555555556, \"#d8576b\"], [0.6666666666666666, \"#ed7953\"], [0.7777777777777778, \"#fb9f3a\"], [0.8888888888888888, \"#fdca26\"], [1.0, \"#f0f921\"]]}, \"colorway\": [\"#636efa\", \"#EF553B\", \"#00cc96\", \"#ab63fa\", \"#FFA15A\", \"#19d3f3\", \"#FF6692\", \"#B6E880\", \"#FF97FF\", \"#FECB52\"], \"font\": {\"color\": \"#2a3f5f\"}, \"geo\": {\"bgcolor\": \"white\", \"lakecolor\": \"white\", \"landcolor\": \"#E5ECF6\", \"showlakes\": true, \"showland\": true, \"subunitcolor\": \"white\"}, \"hoverlabel\": {\"align\": \"left\"}, \"hovermode\": \"closest\", \"mapbox\": {\"style\": \"light\"}, \"paper_bgcolor\": \"white\", \"plot_bgcolor\": \"#E5ECF6\", \"polar\": {\"angularaxis\": {\"gridcolor\": \"white\", \"linecolor\": \"white\", \"ticks\": \"\"}, \"bgcolor\": \"#E5ECF6\", \"radialaxis\": {\"gridcolor\": \"white\", \"linecolor\": \"white\", \"ticks\": \"\"}}, \"scene\": {\"xaxis\": {\"backgroundcolor\": \"#E5ECF6\", \"gridcolor\": \"white\", \"gridwidth\": 2, \"linecolor\": \"white\", \"showbackground\": true, \"ticks\": \"\", \"zerolinecolor\": \"white\"}, \"yaxis\": {\"backgroundcolor\": \"#E5ECF6\", \"gridcolor\": \"white\", \"gridwidth\": 2, \"linecolor\": \"white\", \"showbackground\": true, \"ticks\": \"\", \"zerolinecolor\": \"white\"}, \"zaxis\": {\"backgroundcolor\": \"#E5ECF6\", \"gridcolor\": \"white\", \"gridwidth\": 2, \"linecolor\": \"white\", \"showbackground\": true, \"ticks\": \"\", \"zerolinecolor\": \"white\"}}, \"shapedefaults\": {\"line\": {\"color\": \"#2a3f5f\"}}, \"ternary\": {\"aaxis\": {\"gridcolor\": \"white\", \"linecolor\": \"white\", \"ticks\": \"\"}, \"baxis\": {\"gridcolor\": \"white\", \"linecolor\": \"white\", \"ticks\": \"\"}, \"bgcolor\": \"#E5ECF6\", \"caxis\": {\"gridcolor\": \"white\", \"linecolor\": \"white\", \"ticks\": \"\"}}, \"title\": {\"x\": 0.05}, \"xaxis\": {\"automargin\": true, \"gridcolor\": \"white\", \"linecolor\": \"white\", \"ticks\": \"\", \"title\": {\"standoff\": 15}, \"zerolinecolor\": \"white\", \"zerolinewidth\": 2}, \"yaxis\": {\"automargin\": true, \"gridcolor\": \"white\", \"linecolor\": \"white\", \"ticks\": \"\", \"title\": {\"standoff\": 15}, \"zerolinecolor\": \"white\", \"zerolinewidth\": 2}}}, \"title\": {\"text\": \"5437\"}, \"xaxis\": {\"anchor\": \"y\", \"domain\": [0.0, 1.0], \"title\": {\"text\": \"Number of Copies (Main Deck)\"}}, \"yaxis\": {\"anchor\": \"x\", \"domain\": [0.0, 1.0], \"title\": {\"text\": \"Win %\"}}},                        {\"responsive\": true}                    ).then(function(){\n",
       "                            \n",
       "var gd = document.getElementById('83854bdd-ac75-42cb-8663-9f6dda8c7f78');\n",
       "var x = new MutationObserver(function (mutations, observer) {{\n",
       "        var display = window.getComputedStyle(gd).display;\n",
       "        if (!display || display === 'none') {{\n",
       "            console.log([gd, 'removed!']);\n",
       "            Plotly.purge(gd);\n",
       "            observer.disconnect();\n",
       "        }}\n",
       "}});\n",
       "\n",
       "// Listen for the removal of the full notebook cells\n",
       "var notebookContainer = gd.closest('#notebook-container');\n",
       "if (notebookContainer) {{\n",
       "    x.observe(notebookContainer, {childList: true});\n",
       "}}\n",
       "\n",
       "// Listen for the clearing of the current output cell\n",
       "var outputEl = gd.closest('.output');\n",
       "if (outputEl) {{\n",
       "    x.observe(outputEl, {childList: true});\n",
       "}}\n",
       "\n",
       "                        })                };                });            </script>        </div>"
      ]
     },
     "metadata": {},
     "output_type": "display_data"
    },
    {
     "data": {
      "application/vnd.plotly.v1+json": {
       "config": {
        "plotlyServerURL": "https://plot.ly"
       },
       "data": [
        {
         "customdata": [
          [
           "Mountain"
          ],
          [
           "Swamp"
          ],
          [
           "Forest"
          ],
          [
           "Lightning Bolt"
          ],
          [
           "Stomping Ground"
          ],
          [
           "Kitchen Finks"
          ],
          [
           "Incendiary Flow"
          ],
          [
           "Birds of Paradise"
          ],
          [
           "Liliana, the Last Hope"
          ],
          [
           "Safehold Elite"
          ],
          [
           "Boggart Ram-Gang"
          ],
          [
           "Demigod of Revenge"
          ],
          [
           "Burning-Tree Emissary"
          ],
          [
           "Sign in Blood"
          ],
          [
           "Rootbound Crag"
          ],
          [
           "Dragonskull Summit"
          ],
          [
           "Murderous Redcap"
          ],
          [
           "Graven Cairns"
          ],
          [
           "Thermo-Alchemist"
          ],
          [
           "Llanowar Elves"
          ],
          [
           "Carrion Feeder"
          ],
          [
           "Skullcrack"
          ],
          [
           "Breeding Pool"
          ],
          [
           "Sulfuric Vortex"
          ],
          [
           "Foundry Street Denizen"
          ],
          [
           "Elvish Visionary"
          ],
          [
           "Tainted Peak"
          ],
          [
           "Garruk Wildspeaker"
          ],
          [
           "Eldritch Evolution"
          ],
          [
           "Tattermunge Maniac"
          ],
          [
           "Mutilate"
          ],
          [
           "Master Biomancer"
          ],
          [
           "Legion Loyalist"
          ],
          [
           "Domri Rade"
          ],
          [
           "Boros Reckoner"
          ],
          [
           "Boartusk Liege"
          ],
          [
           "Sacred Foundry"
          ],
          [
           "Plains"
          ],
          [
           "Wilt-Leaf Liege"
          ],
          [
           "Sunpetal Grove"
          ],
          [
           "Goblin Chieftain"
          ],
          [
           "Flame Javelin"
          ],
          [
           "Collective Brutality"
          ],
          [
           "Mudbrawler Cohort"
          ],
          [
           "Ghor-Clan Rampager"
          ],
          [
           "Watery Grave"
          ],
          [
           "Island"
          ],
          [
           "Wilt-Leaf Cavaliers"
          ],
          [
           "Manamorphose"
          ],
          [
           "Collective Defiance"
          ],
          [
           "Master of the Wild Hunt"
          ],
          [
           "Fire-Lit Thicket"
          ],
          [
           "Wooded Bastion"
          ],
          [
           "Terramorphic Expanse"
          ],
          [
           "Hanweir Garrison"
          ],
          [
           "Grim Lavamancer"
          ],
          [
           "Boros Charm"
          ],
          [
           "Fulminator Mage"
          ],
          [
           "Bedlam Reveler"
          ],
          [
           "Reflecting Pool"
          ],
          [
           "Mesmeric Fiend"
          ],
          [
           "Godless Shrine"
          ],
          [
           "Distended Mindbender"
          ],
          [
           "Bloodhall Priest"
          ],
          [
           "Doom Blade"
          ],
          [
           "Chainer's Edict"
          ],
          [
           "Primal Druid"
          ],
          [
           "Cryptbreaker"
          ],
          [
           "Spark Spray"
          ],
          [
           "Selfless Spirit"
          ],
          [
           "Overmaster"
          ],
          [
           "Orzhov Guildgate"
          ],
          [
           "Devoted Druid"
          ],
          [
           "Boros Guildgate"
          ],
          [
           "Baneslayer Angel"
          ],
          [
           "Tattermunge Witch"
          ],
          [
           "Decree of Pain"
          ],
          [
           "Siege-Gang Commander"
          ],
          [
           "Merciless Eviction"
          ]
         ],
         "hovertemplate": "Number of Copies (Main Deck)=%{x}<br>Win %=%{y}<br>name=%{customdata[0]}<extra></extra>",
         "legendgroup": "",
         "marker": {
          "color": "#636efa",
          "symbol": "circle"
         },
         "mode": "markers",
         "name": "",
         "orientation": "v",
         "showlegend": false,
         "type": "scatter",
         "x": [
          266,
          185,
          139,
          111,
          66,
          62,
          62,
          56,
          46,
          43,
          42,
          40,
          40,
          39,
          37,
          35,
          34,
          33,
          32,
          32,
          32,
          31,
          31,
          28,
          28,
          28,
          26,
          26,
          26,
          25,
          24,
          24,
          24,
          24,
          24,
          23,
          21,
          21,
          20,
          20,
          20,
          20,
          20,
          19,
          18,
          17,
          17,
          16,
          16,
          16,
          15,
          15,
          14,
          14,
          14,
          14,
          14,
          13,
          13,
          12,
          12,
          12,
          12,
          12,
          11,
          11,
          10,
          10,
          8,
          8,
          8,
          8,
          8,
          8,
          7,
          6,
          5,
          3,
          3
         ],
         "xaxis": "x",
         "y": [
          44,
          53,
          53,
          49,
          49,
          55,
          51,
          54,
          52,
          55,
          46,
          60,
          41,
          58,
          45,
          58,
          55,
          58,
          45,
          55,
          52,
          32,
          49,
          36,
          30,
          54,
          56,
          59,
          54,
          30,
          60,
          52,
          30,
          50,
          51,
          48,
          50,
          44,
          59,
          58,
          32,
          54,
          43,
          35,
          56,
          54,
          50,
          58,
          47,
          50,
          50,
          56,
          57,
          56,
          50,
          38,
          44,
          63,
          52,
          55,
          43,
          43,
          63,
          42,
          50,
          56,
          54,
          53,
          55,
          54,
          55,
          45,
          72,
          54,
          47,
          33,
          62,
          64,
          45
         ],
         "yaxis": "y"
        }
       ],
       "layout": {
        "legend": {
         "tracegroupgap": 0
        },
        "template": {
         "data": {
          "bar": [
           {
            "error_x": {
             "color": "#2a3f5f"
            },
            "error_y": {
             "color": "#2a3f5f"
            },
            "marker": {
             "line": {
              "color": "#E5ECF6",
              "width": 0.5
             }
            },
            "type": "bar"
           }
          ],
          "barpolar": [
           {
            "marker": {
             "line": {
              "color": "#E5ECF6",
              "width": 0.5
             }
            },
            "type": "barpolar"
           }
          ],
          "carpet": [
           {
            "aaxis": {
             "endlinecolor": "#2a3f5f",
             "gridcolor": "white",
             "linecolor": "white",
             "minorgridcolor": "white",
             "startlinecolor": "#2a3f5f"
            },
            "baxis": {
             "endlinecolor": "#2a3f5f",
             "gridcolor": "white",
             "linecolor": "white",
             "minorgridcolor": "white",
             "startlinecolor": "#2a3f5f"
            },
            "type": "carpet"
           }
          ],
          "choropleth": [
           {
            "colorbar": {
             "outlinewidth": 0,
             "ticks": ""
            },
            "type": "choropleth"
           }
          ],
          "contour": [
           {
            "colorbar": {
             "outlinewidth": 0,
             "ticks": ""
            },
            "colorscale": [
             [
              0,
              "#0d0887"
             ],
             [
              0.1111111111111111,
              "#46039f"
             ],
             [
              0.2222222222222222,
              "#7201a8"
             ],
             [
              0.3333333333333333,
              "#9c179e"
             ],
             [
              0.4444444444444444,
              "#bd3786"
             ],
             [
              0.5555555555555556,
              "#d8576b"
             ],
             [
              0.6666666666666666,
              "#ed7953"
             ],
             [
              0.7777777777777778,
              "#fb9f3a"
             ],
             [
              0.8888888888888888,
              "#fdca26"
             ],
             [
              1,
              "#f0f921"
             ]
            ],
            "type": "contour"
           }
          ],
          "contourcarpet": [
           {
            "colorbar": {
             "outlinewidth": 0,
             "ticks": ""
            },
            "type": "contourcarpet"
           }
          ],
          "heatmap": [
           {
            "colorbar": {
             "outlinewidth": 0,
             "ticks": ""
            },
            "colorscale": [
             [
              0,
              "#0d0887"
             ],
             [
              0.1111111111111111,
              "#46039f"
             ],
             [
              0.2222222222222222,
              "#7201a8"
             ],
             [
              0.3333333333333333,
              "#9c179e"
             ],
             [
              0.4444444444444444,
              "#bd3786"
             ],
             [
              0.5555555555555556,
              "#d8576b"
             ],
             [
              0.6666666666666666,
              "#ed7953"
             ],
             [
              0.7777777777777778,
              "#fb9f3a"
             ],
             [
              0.8888888888888888,
              "#fdca26"
             ],
             [
              1,
              "#f0f921"
             ]
            ],
            "type": "heatmap"
           }
          ],
          "heatmapgl": [
           {
            "colorbar": {
             "outlinewidth": 0,
             "ticks": ""
            },
            "colorscale": [
             [
              0,
              "#0d0887"
             ],
             [
              0.1111111111111111,
              "#46039f"
             ],
             [
              0.2222222222222222,
              "#7201a8"
             ],
             [
              0.3333333333333333,
              "#9c179e"
             ],
             [
              0.4444444444444444,
              "#bd3786"
             ],
             [
              0.5555555555555556,
              "#d8576b"
             ],
             [
              0.6666666666666666,
              "#ed7953"
             ],
             [
              0.7777777777777778,
              "#fb9f3a"
             ],
             [
              0.8888888888888888,
              "#fdca26"
             ],
             [
              1,
              "#f0f921"
             ]
            ],
            "type": "heatmapgl"
           }
          ],
          "histogram": [
           {
            "marker": {
             "colorbar": {
              "outlinewidth": 0,
              "ticks": ""
             }
            },
            "type": "histogram"
           }
          ],
          "histogram2d": [
           {
            "colorbar": {
             "outlinewidth": 0,
             "ticks": ""
            },
            "colorscale": [
             [
              0,
              "#0d0887"
             ],
             [
              0.1111111111111111,
              "#46039f"
             ],
             [
              0.2222222222222222,
              "#7201a8"
             ],
             [
              0.3333333333333333,
              "#9c179e"
             ],
             [
              0.4444444444444444,
              "#bd3786"
             ],
             [
              0.5555555555555556,
              "#d8576b"
             ],
             [
              0.6666666666666666,
              "#ed7953"
             ],
             [
              0.7777777777777778,
              "#fb9f3a"
             ],
             [
              0.8888888888888888,
              "#fdca26"
             ],
             [
              1,
              "#f0f921"
             ]
            ],
            "type": "histogram2d"
           }
          ],
          "histogram2dcontour": [
           {
            "colorbar": {
             "outlinewidth": 0,
             "ticks": ""
            },
            "colorscale": [
             [
              0,
              "#0d0887"
             ],
             [
              0.1111111111111111,
              "#46039f"
             ],
             [
              0.2222222222222222,
              "#7201a8"
             ],
             [
              0.3333333333333333,
              "#9c179e"
             ],
             [
              0.4444444444444444,
              "#bd3786"
             ],
             [
              0.5555555555555556,
              "#d8576b"
             ],
             [
              0.6666666666666666,
              "#ed7953"
             ],
             [
              0.7777777777777778,
              "#fb9f3a"
             ],
             [
              0.8888888888888888,
              "#fdca26"
             ],
             [
              1,
              "#f0f921"
             ]
            ],
            "type": "histogram2dcontour"
           }
          ],
          "mesh3d": [
           {
            "colorbar": {
             "outlinewidth": 0,
             "ticks": ""
            },
            "type": "mesh3d"
           }
          ],
          "parcoords": [
           {
            "line": {
             "colorbar": {
              "outlinewidth": 0,
              "ticks": ""
             }
            },
            "type": "parcoords"
           }
          ],
          "pie": [
           {
            "automargin": true,
            "type": "pie"
           }
          ],
          "scatter": [
           {
            "marker": {
             "colorbar": {
              "outlinewidth": 0,
              "ticks": ""
             }
            },
            "type": "scatter"
           }
          ],
          "scatter3d": [
           {
            "line": {
             "colorbar": {
              "outlinewidth": 0,
              "ticks": ""
             }
            },
            "marker": {
             "colorbar": {
              "outlinewidth": 0,
              "ticks": ""
             }
            },
            "type": "scatter3d"
           }
          ],
          "scattercarpet": [
           {
            "marker": {
             "colorbar": {
              "outlinewidth": 0,
              "ticks": ""
             }
            },
            "type": "scattercarpet"
           }
          ],
          "scattergeo": [
           {
            "marker": {
             "colorbar": {
              "outlinewidth": 0,
              "ticks": ""
             }
            },
            "type": "scattergeo"
           }
          ],
          "scattergl": [
           {
            "marker": {
             "colorbar": {
              "outlinewidth": 0,
              "ticks": ""
             }
            },
            "type": "scattergl"
           }
          ],
          "scattermapbox": [
           {
            "marker": {
             "colorbar": {
              "outlinewidth": 0,
              "ticks": ""
             }
            },
            "type": "scattermapbox"
           }
          ],
          "scatterpolar": [
           {
            "marker": {
             "colorbar": {
              "outlinewidth": 0,
              "ticks": ""
             }
            },
            "type": "scatterpolar"
           }
          ],
          "scatterpolargl": [
           {
            "marker": {
             "colorbar": {
              "outlinewidth": 0,
              "ticks": ""
             }
            },
            "type": "scatterpolargl"
           }
          ],
          "scatterternary": [
           {
            "marker": {
             "colorbar": {
              "outlinewidth": 0,
              "ticks": ""
             }
            },
            "type": "scatterternary"
           }
          ],
          "surface": [
           {
            "colorbar": {
             "outlinewidth": 0,
             "ticks": ""
            },
            "colorscale": [
             [
              0,
              "#0d0887"
             ],
             [
              0.1111111111111111,
              "#46039f"
             ],
             [
              0.2222222222222222,
              "#7201a8"
             ],
             [
              0.3333333333333333,
              "#9c179e"
             ],
             [
              0.4444444444444444,
              "#bd3786"
             ],
             [
              0.5555555555555556,
              "#d8576b"
             ],
             [
              0.6666666666666666,
              "#ed7953"
             ],
             [
              0.7777777777777778,
              "#fb9f3a"
             ],
             [
              0.8888888888888888,
              "#fdca26"
             ],
             [
              1,
              "#f0f921"
             ]
            ],
            "type": "surface"
           }
          ],
          "table": [
           {
            "cells": {
             "fill": {
              "color": "#EBF0F8"
             },
             "line": {
              "color": "white"
             }
            },
            "header": {
             "fill": {
              "color": "#C8D4E3"
             },
             "line": {
              "color": "white"
             }
            },
            "type": "table"
           }
          ]
         },
         "layout": {
          "annotationdefaults": {
           "arrowcolor": "#2a3f5f",
           "arrowhead": 0,
           "arrowwidth": 1
          },
          "autotypenumbers": "strict",
          "coloraxis": {
           "colorbar": {
            "outlinewidth": 0,
            "ticks": ""
           }
          },
          "colorscale": {
           "diverging": [
            [
             0,
             "#8e0152"
            ],
            [
             0.1,
             "#c51b7d"
            ],
            [
             0.2,
             "#de77ae"
            ],
            [
             0.3,
             "#f1b6da"
            ],
            [
             0.4,
             "#fde0ef"
            ],
            [
             0.5,
             "#f7f7f7"
            ],
            [
             0.6,
             "#e6f5d0"
            ],
            [
             0.7,
             "#b8e186"
            ],
            [
             0.8,
             "#7fbc41"
            ],
            [
             0.9,
             "#4d9221"
            ],
            [
             1,
             "#276419"
            ]
           ],
           "sequential": [
            [
             0,
             "#0d0887"
            ],
            [
             0.1111111111111111,
             "#46039f"
            ],
            [
             0.2222222222222222,
             "#7201a8"
            ],
            [
             0.3333333333333333,
             "#9c179e"
            ],
            [
             0.4444444444444444,
             "#bd3786"
            ],
            [
             0.5555555555555556,
             "#d8576b"
            ],
            [
             0.6666666666666666,
             "#ed7953"
            ],
            [
             0.7777777777777778,
             "#fb9f3a"
            ],
            [
             0.8888888888888888,
             "#fdca26"
            ],
            [
             1,
             "#f0f921"
            ]
           ],
           "sequentialminus": [
            [
             0,
             "#0d0887"
            ],
            [
             0.1111111111111111,
             "#46039f"
            ],
            [
             0.2222222222222222,
             "#7201a8"
            ],
            [
             0.3333333333333333,
             "#9c179e"
            ],
            [
             0.4444444444444444,
             "#bd3786"
            ],
            [
             0.5555555555555556,
             "#d8576b"
            ],
            [
             0.6666666666666666,
             "#ed7953"
            ],
            [
             0.7777777777777778,
             "#fb9f3a"
            ],
            [
             0.8888888888888888,
             "#fdca26"
            ],
            [
             1,
             "#f0f921"
            ]
           ]
          },
          "colorway": [
           "#636efa",
           "#EF553B",
           "#00cc96",
           "#ab63fa",
           "#FFA15A",
           "#19d3f3",
           "#FF6692",
           "#B6E880",
           "#FF97FF",
           "#FECB52"
          ],
          "font": {
           "color": "#2a3f5f"
          },
          "geo": {
           "bgcolor": "white",
           "lakecolor": "white",
           "landcolor": "#E5ECF6",
           "showlakes": true,
           "showland": true,
           "subunitcolor": "white"
          },
          "hoverlabel": {
           "align": "left"
          },
          "hovermode": "closest",
          "mapbox": {
           "style": "light"
          },
          "paper_bgcolor": "white",
          "plot_bgcolor": "#E5ECF6",
          "polar": {
           "angularaxis": {
            "gridcolor": "white",
            "linecolor": "white",
            "ticks": ""
           },
           "bgcolor": "#E5ECF6",
           "radialaxis": {
            "gridcolor": "white",
            "linecolor": "white",
            "ticks": ""
           }
          },
          "scene": {
           "xaxis": {
            "backgroundcolor": "#E5ECF6",
            "gridcolor": "white",
            "gridwidth": 2,
            "linecolor": "white",
            "showbackground": true,
            "ticks": "",
            "zerolinecolor": "white"
           },
           "yaxis": {
            "backgroundcolor": "#E5ECF6",
            "gridcolor": "white",
            "gridwidth": 2,
            "linecolor": "white",
            "showbackground": true,
            "ticks": "",
            "zerolinecolor": "white"
           },
           "zaxis": {
            "backgroundcolor": "#E5ECF6",
            "gridcolor": "white",
            "gridwidth": 2,
            "linecolor": "white",
            "showbackground": true,
            "ticks": "",
            "zerolinecolor": "white"
           }
          },
          "shapedefaults": {
           "line": {
            "color": "#2a3f5f"
           }
          },
          "ternary": {
           "aaxis": {
            "gridcolor": "white",
            "linecolor": "white",
            "ticks": ""
           },
           "baxis": {
            "gridcolor": "white",
            "linecolor": "white",
            "ticks": ""
           },
           "bgcolor": "#E5ECF6",
           "caxis": {
            "gridcolor": "white",
            "linecolor": "white",
            "ticks": ""
           }
          },
          "title": {
           "x": 0.05
          },
          "xaxis": {
           "automargin": true,
           "gridcolor": "white",
           "linecolor": "white",
           "ticks": "",
           "title": {
            "standoff": 15
           },
           "zerolinecolor": "white",
           "zerolinewidth": 2
          },
          "yaxis": {
           "automargin": true,
           "gridcolor": "white",
           "linecolor": "white",
           "ticks": "",
           "title": {
            "standoff": 15
           },
           "zerolinecolor": "white",
           "zerolinewidth": 2
          }
         }
        },
        "title": {
         "text": "5940"
        },
        "xaxis": {
         "anchor": "y",
         "domain": [
          0,
          1
         ],
         "title": {
          "text": "Number of Copies (Main Deck)"
         }
        },
        "yaxis": {
         "anchor": "x",
         "domain": [
          0,
          1
         ],
         "title": {
          "text": "Win %"
         }
        }
       }
      },
      "text/html": [
       "<div>                            <div id=\"14e0db12-2435-4771-82fa-936675b6ccfd\" class=\"plotly-graph-div\" style=\"height:525px; width:100%;\"></div>            <script type=\"text/javascript\">                require([\"plotly\"], function(Plotly) {                    window.PLOTLYENV=window.PLOTLYENV || {};                                    if (document.getElementById(\"14e0db12-2435-4771-82fa-936675b6ccfd\")) {                    Plotly.newPlot(                        \"14e0db12-2435-4771-82fa-936675b6ccfd\",                        [{\"customdata\": [[\"Mountain\"], [\"Swamp\"], [\"Forest\"], [\"Lightning Bolt\"], [\"Stomping Ground\"], [\"Kitchen Finks\"], [\"Incendiary Flow\"], [\"Birds of Paradise\"], [\"Liliana, the Last Hope\"], [\"Safehold Elite\"], [\"Boggart Ram-Gang\"], [\"Demigod of Revenge\"], [\"Burning-Tree Emissary\"], [\"Sign in Blood\"], [\"Rootbound Crag\"], [\"Dragonskull Summit\"], [\"Murderous Redcap\"], [\"Graven Cairns\"], [\"Thermo-Alchemist\"], [\"Llanowar Elves\"], [\"Carrion Feeder\"], [\"Skullcrack\"], [\"Breeding Pool\"], [\"Sulfuric Vortex\"], [\"Foundry Street Denizen\"], [\"Elvish Visionary\"], [\"Tainted Peak\"], [\"Garruk Wildspeaker\"], [\"Eldritch Evolution\"], [\"Tattermunge Maniac\"], [\"Mutilate\"], [\"Master Biomancer\"], [\"Legion Loyalist\"], [\"Domri Rade\"], [\"Boros Reckoner\"], [\"Boartusk Liege\"], [\"Sacred Foundry\"], [\"Plains\"], [\"Wilt-Leaf Liege\"], [\"Sunpetal Grove\"], [\"Goblin Chieftain\"], [\"Flame Javelin\"], [\"Collective Brutality\"], [\"Mudbrawler Cohort\"], [\"Ghor-Clan Rampager\"], [\"Watery Grave\"], [\"Island\"], [\"Wilt-Leaf Cavaliers\"], [\"Manamorphose\"], [\"Collective Defiance\"], [\"Master of the Wild Hunt\"], [\"Fire-Lit Thicket\"], [\"Wooded Bastion\"], [\"Terramorphic Expanse\"], [\"Hanweir Garrison\"], [\"Grim Lavamancer\"], [\"Boros Charm\"], [\"Fulminator Mage\"], [\"Bedlam Reveler\"], [\"Reflecting Pool\"], [\"Mesmeric Fiend\"], [\"Godless Shrine\"], [\"Distended Mindbender\"], [\"Bloodhall Priest\"], [\"Doom Blade\"], [\"Chainer's Edict\"], [\"Primal Druid\"], [\"Cryptbreaker\"], [\"Spark Spray\"], [\"Selfless Spirit\"], [\"Overmaster\"], [\"Orzhov Guildgate\"], [\"Devoted Druid\"], [\"Boros Guildgate\"], [\"Baneslayer Angel\"], [\"Tattermunge Witch\"], [\"Decree of Pain\"], [\"Siege-Gang Commander\"], [\"Merciless Eviction\"]], \"hovertemplate\": \"Number of Copies (Main Deck)=%{x}<br>Win %=%{y}<br>name=%{customdata[0]}<extra></extra>\", \"legendgroup\": \"\", \"marker\": {\"color\": \"#636efa\", \"symbol\": \"circle\"}, \"mode\": \"markers\", \"name\": \"\", \"orientation\": \"v\", \"showlegend\": false, \"type\": \"scatter\", \"x\": [266, 185, 139, 111, 66, 62, 62, 56, 46, 43, 42, 40, 40, 39, 37, 35, 34, 33, 32, 32, 32, 31, 31, 28, 28, 28, 26, 26, 26, 25, 24, 24, 24, 24, 24, 23, 21, 21, 20, 20, 20, 20, 20, 19, 18, 17, 17, 16, 16, 16, 15, 15, 14, 14, 14, 14, 14, 13, 13, 12, 12, 12, 12, 12, 11, 11, 10, 10, 8, 8, 8, 8, 8, 8, 7, 6, 5, 3, 3], \"xaxis\": \"x\", \"y\": [44.0, 53.0, 53.0, 49.0, 49.0, 55.0, 51.0, 54.0, 52.0, 55.0, 46.0, 60.0, 41.0, 58.0, 45.0, 58.0, 55.0, 58.0, 45.0, 55.0, 52.0, 32.0, 49.0, 36.0, 30.0, 54.0, 56.0, 59.0, 54.0, 30.0, 60.0, 52.0, 30.0, 50.0, 51.0, 48.0, 50.0, 44.0, 59.0, 58.0, 32.0, 54.0, 43.0, 35.0, 56.0, 54.0, 50.0, 58.0, 47.0, 50.0, 50.0, 56.0, 57.0, 56.0, 50.0, 38.0, 44.0, 63.0, 52.0, 55.0, 43.0, 43.0, 63.0, 42.0, 50.0, 56.0, 54.0, 53.0, 55.0, 54.0, 55.0, 45.0, 72.0, 54.0, 47.0, 33.0, 62.0, 64.0, 45.0], \"yaxis\": \"y\"}],                        {\"legend\": {\"tracegroupgap\": 0}, \"template\": {\"data\": {\"bar\": [{\"error_x\": {\"color\": \"#2a3f5f\"}, \"error_y\": {\"color\": \"#2a3f5f\"}, \"marker\": {\"line\": {\"color\": \"#E5ECF6\", \"width\": 0.5}}, \"type\": \"bar\"}], \"barpolar\": [{\"marker\": {\"line\": {\"color\": \"#E5ECF6\", \"width\": 0.5}}, \"type\": \"barpolar\"}], \"carpet\": [{\"aaxis\": {\"endlinecolor\": \"#2a3f5f\", \"gridcolor\": \"white\", \"linecolor\": \"white\", \"minorgridcolor\": \"white\", \"startlinecolor\": \"#2a3f5f\"}, \"baxis\": {\"endlinecolor\": \"#2a3f5f\", \"gridcolor\": \"white\", \"linecolor\": \"white\", \"minorgridcolor\": \"white\", \"startlinecolor\": \"#2a3f5f\"}, \"type\": \"carpet\"}], \"choropleth\": [{\"colorbar\": {\"outlinewidth\": 0, \"ticks\": \"\"}, \"type\": \"choropleth\"}], \"contour\": [{\"colorbar\": {\"outlinewidth\": 0, \"ticks\": \"\"}, \"colorscale\": [[0.0, \"#0d0887\"], [0.1111111111111111, \"#46039f\"], [0.2222222222222222, \"#7201a8\"], [0.3333333333333333, \"#9c179e\"], [0.4444444444444444, \"#bd3786\"], [0.5555555555555556, \"#d8576b\"], [0.6666666666666666, \"#ed7953\"], [0.7777777777777778, \"#fb9f3a\"], [0.8888888888888888, \"#fdca26\"], [1.0, \"#f0f921\"]], \"type\": \"contour\"}], \"contourcarpet\": [{\"colorbar\": {\"outlinewidth\": 0, \"ticks\": \"\"}, \"type\": \"contourcarpet\"}], \"heatmap\": [{\"colorbar\": {\"outlinewidth\": 0, \"ticks\": \"\"}, \"colorscale\": [[0.0, \"#0d0887\"], [0.1111111111111111, \"#46039f\"], [0.2222222222222222, \"#7201a8\"], [0.3333333333333333, \"#9c179e\"], [0.4444444444444444, \"#bd3786\"], [0.5555555555555556, \"#d8576b\"], [0.6666666666666666, \"#ed7953\"], [0.7777777777777778, \"#fb9f3a\"], [0.8888888888888888, \"#fdca26\"], [1.0, \"#f0f921\"]], \"type\": \"heatmap\"}], \"heatmapgl\": [{\"colorbar\": {\"outlinewidth\": 0, \"ticks\": \"\"}, \"colorscale\": [[0.0, \"#0d0887\"], [0.1111111111111111, \"#46039f\"], [0.2222222222222222, \"#7201a8\"], [0.3333333333333333, \"#9c179e\"], [0.4444444444444444, \"#bd3786\"], [0.5555555555555556, \"#d8576b\"], [0.6666666666666666, \"#ed7953\"], [0.7777777777777778, \"#fb9f3a\"], [0.8888888888888888, \"#fdca26\"], [1.0, \"#f0f921\"]], \"type\": \"heatmapgl\"}], \"histogram\": [{\"marker\": {\"colorbar\": {\"outlinewidth\": 0, \"ticks\": \"\"}}, \"type\": \"histogram\"}], \"histogram2d\": [{\"colorbar\": {\"outlinewidth\": 0, \"ticks\": \"\"}, \"colorscale\": [[0.0, \"#0d0887\"], [0.1111111111111111, \"#46039f\"], [0.2222222222222222, \"#7201a8\"], [0.3333333333333333, \"#9c179e\"], [0.4444444444444444, \"#bd3786\"], [0.5555555555555556, \"#d8576b\"], [0.6666666666666666, \"#ed7953\"], [0.7777777777777778, \"#fb9f3a\"], [0.8888888888888888, \"#fdca26\"], [1.0, \"#f0f921\"]], \"type\": \"histogram2d\"}], \"histogram2dcontour\": [{\"colorbar\": {\"outlinewidth\": 0, \"ticks\": \"\"}, \"colorscale\": [[0.0, \"#0d0887\"], [0.1111111111111111, \"#46039f\"], [0.2222222222222222, \"#7201a8\"], [0.3333333333333333, \"#9c179e\"], [0.4444444444444444, \"#bd3786\"], [0.5555555555555556, \"#d8576b\"], [0.6666666666666666, \"#ed7953\"], [0.7777777777777778, \"#fb9f3a\"], [0.8888888888888888, \"#fdca26\"], [1.0, \"#f0f921\"]], \"type\": \"histogram2dcontour\"}], \"mesh3d\": [{\"colorbar\": {\"outlinewidth\": 0, \"ticks\": \"\"}, \"type\": \"mesh3d\"}], \"parcoords\": [{\"line\": {\"colorbar\": {\"outlinewidth\": 0, \"ticks\": \"\"}}, \"type\": \"parcoords\"}], \"pie\": [{\"automargin\": true, \"type\": \"pie\"}], \"scatter\": [{\"marker\": {\"colorbar\": {\"outlinewidth\": 0, \"ticks\": \"\"}}, \"type\": \"scatter\"}], \"scatter3d\": [{\"line\": {\"colorbar\": {\"outlinewidth\": 0, \"ticks\": \"\"}}, \"marker\": {\"colorbar\": {\"outlinewidth\": 0, \"ticks\": \"\"}}, \"type\": \"scatter3d\"}], \"scattercarpet\": [{\"marker\": {\"colorbar\": {\"outlinewidth\": 0, \"ticks\": \"\"}}, \"type\": \"scattercarpet\"}], \"scattergeo\": [{\"marker\": {\"colorbar\": {\"outlinewidth\": 0, \"ticks\": \"\"}}, \"type\": \"scattergeo\"}], \"scattergl\": [{\"marker\": {\"colorbar\": {\"outlinewidth\": 0, \"ticks\": \"\"}}, \"type\": \"scattergl\"}], \"scattermapbox\": [{\"marker\": {\"colorbar\": {\"outlinewidth\": 0, \"ticks\": \"\"}}, \"type\": \"scattermapbox\"}], \"scatterpolar\": [{\"marker\": {\"colorbar\": {\"outlinewidth\": 0, \"ticks\": \"\"}}, \"type\": \"scatterpolar\"}], \"scatterpolargl\": [{\"marker\": {\"colorbar\": {\"outlinewidth\": 0, \"ticks\": \"\"}}, \"type\": \"scatterpolargl\"}], \"scatterternary\": [{\"marker\": {\"colorbar\": {\"outlinewidth\": 0, \"ticks\": \"\"}}, \"type\": \"scatterternary\"}], \"surface\": [{\"colorbar\": {\"outlinewidth\": 0, \"ticks\": \"\"}, \"colorscale\": [[0.0, \"#0d0887\"], [0.1111111111111111, \"#46039f\"], [0.2222222222222222, \"#7201a8\"], [0.3333333333333333, \"#9c179e\"], [0.4444444444444444, \"#bd3786\"], [0.5555555555555556, \"#d8576b\"], [0.6666666666666666, \"#ed7953\"], [0.7777777777777778, \"#fb9f3a\"], [0.8888888888888888, \"#fdca26\"], [1.0, \"#f0f921\"]], \"type\": \"surface\"}], \"table\": [{\"cells\": {\"fill\": {\"color\": \"#EBF0F8\"}, \"line\": {\"color\": \"white\"}}, \"header\": {\"fill\": {\"color\": \"#C8D4E3\"}, \"line\": {\"color\": \"white\"}}, \"type\": \"table\"}]}, \"layout\": {\"annotationdefaults\": {\"arrowcolor\": \"#2a3f5f\", \"arrowhead\": 0, \"arrowwidth\": 1}, \"autotypenumbers\": \"strict\", \"coloraxis\": {\"colorbar\": {\"outlinewidth\": 0, \"ticks\": \"\"}}, \"colorscale\": {\"diverging\": [[0, \"#8e0152\"], [0.1, \"#c51b7d\"], [0.2, \"#de77ae\"], [0.3, \"#f1b6da\"], [0.4, \"#fde0ef\"], [0.5, \"#f7f7f7\"], [0.6, \"#e6f5d0\"], [0.7, \"#b8e186\"], [0.8, \"#7fbc41\"], [0.9, \"#4d9221\"], [1, \"#276419\"]], \"sequential\": [[0.0, \"#0d0887\"], [0.1111111111111111, \"#46039f\"], [0.2222222222222222, \"#7201a8\"], [0.3333333333333333, \"#9c179e\"], [0.4444444444444444, \"#bd3786\"], [0.5555555555555556, \"#d8576b\"], [0.6666666666666666, \"#ed7953\"], [0.7777777777777778, \"#fb9f3a\"], [0.8888888888888888, \"#fdca26\"], [1.0, \"#f0f921\"]], \"sequentialminus\": [[0.0, \"#0d0887\"], [0.1111111111111111, \"#46039f\"], [0.2222222222222222, \"#7201a8\"], [0.3333333333333333, \"#9c179e\"], [0.4444444444444444, \"#bd3786\"], [0.5555555555555556, \"#d8576b\"], [0.6666666666666666, \"#ed7953\"], [0.7777777777777778, \"#fb9f3a\"], [0.8888888888888888, \"#fdca26\"], [1.0, \"#f0f921\"]]}, \"colorway\": [\"#636efa\", \"#EF553B\", \"#00cc96\", \"#ab63fa\", \"#FFA15A\", \"#19d3f3\", \"#FF6692\", \"#B6E880\", \"#FF97FF\", \"#FECB52\"], \"font\": {\"color\": \"#2a3f5f\"}, \"geo\": {\"bgcolor\": \"white\", \"lakecolor\": \"white\", \"landcolor\": \"#E5ECF6\", \"showlakes\": true, \"showland\": true, \"subunitcolor\": \"white\"}, \"hoverlabel\": {\"align\": \"left\"}, \"hovermode\": \"closest\", \"mapbox\": {\"style\": \"light\"}, \"paper_bgcolor\": \"white\", \"plot_bgcolor\": \"#E5ECF6\", \"polar\": {\"angularaxis\": {\"gridcolor\": \"white\", \"linecolor\": \"white\", \"ticks\": \"\"}, \"bgcolor\": \"#E5ECF6\", \"radialaxis\": {\"gridcolor\": \"white\", \"linecolor\": \"white\", \"ticks\": \"\"}}, \"scene\": {\"xaxis\": {\"backgroundcolor\": \"#E5ECF6\", \"gridcolor\": \"white\", \"gridwidth\": 2, \"linecolor\": \"white\", \"showbackground\": true, \"ticks\": \"\", \"zerolinecolor\": \"white\"}, \"yaxis\": {\"backgroundcolor\": \"#E5ECF6\", \"gridcolor\": \"white\", \"gridwidth\": 2, \"linecolor\": \"white\", \"showbackground\": true, \"ticks\": \"\", \"zerolinecolor\": \"white\"}, \"zaxis\": {\"backgroundcolor\": \"#E5ECF6\", \"gridcolor\": \"white\", \"gridwidth\": 2, \"linecolor\": \"white\", \"showbackground\": true, \"ticks\": \"\", \"zerolinecolor\": \"white\"}}, \"shapedefaults\": {\"line\": {\"color\": \"#2a3f5f\"}}, \"ternary\": {\"aaxis\": {\"gridcolor\": \"white\", \"linecolor\": \"white\", \"ticks\": \"\"}, \"baxis\": {\"gridcolor\": \"white\", \"linecolor\": \"white\", \"ticks\": \"\"}, \"bgcolor\": \"#E5ECF6\", \"caxis\": {\"gridcolor\": \"white\", \"linecolor\": \"white\", \"ticks\": \"\"}}, \"title\": {\"x\": 0.05}, \"xaxis\": {\"automargin\": true, \"gridcolor\": \"white\", \"linecolor\": \"white\", \"ticks\": \"\", \"title\": {\"standoff\": 15}, \"zerolinecolor\": \"white\", \"zerolinewidth\": 2}, \"yaxis\": {\"automargin\": true, \"gridcolor\": \"white\", \"linecolor\": \"white\", \"ticks\": \"\", \"title\": {\"standoff\": 15}, \"zerolinecolor\": \"white\", \"zerolinewidth\": 2}}}, \"title\": {\"text\": \"5940\"}, \"xaxis\": {\"anchor\": \"y\", \"domain\": [0.0, 1.0], \"title\": {\"text\": \"Number of Copies (Main Deck)\"}}, \"yaxis\": {\"anchor\": \"x\", \"domain\": [0.0, 1.0], \"title\": {\"text\": \"Win %\"}}},                        {\"responsive\": true}                    ).then(function(){\n",
       "                            \n",
       "var gd = document.getElementById('14e0db12-2435-4771-82fa-936675b6ccfd');\n",
       "var x = new MutationObserver(function (mutations, observer) {{\n",
       "        var display = window.getComputedStyle(gd).display;\n",
       "        if (!display || display === 'none') {{\n",
       "            console.log([gd, 'removed!']);\n",
       "            Plotly.purge(gd);\n",
       "            observer.disconnect();\n",
       "        }}\n",
       "}});\n",
       "\n",
       "// Listen for the removal of the full notebook cells\n",
       "var notebookContainer = gd.closest('#notebook-container');\n",
       "if (notebookContainer) {{\n",
       "    x.observe(notebookContainer, {childList: true});\n",
       "}}\n",
       "\n",
       "// Listen for the clearing of the current output cell\n",
       "var outputEl = gd.closest('.output');\n",
       "if (outputEl) {{\n",
       "    x.observe(outputEl, {childList: true});\n",
       "}}\n",
       "\n",
       "                        })                };                });            </script>        </div>"
      ]
     },
     "metadata": {},
     "output_type": "display_data"
    }
   ],
   "source": [
    "conn = sqlite3.connect(\"../mtgmelee.db\")\n",
    "query = \"\"\"\n",
    "WITH full_results as (\n",
    "SELECT\n",
    "  player1_id,\n",
    "  player1_deck_id,\n",
    "  winner_id\n",
    "FROM results\n",
    "WHERE player2_id IS NOT NULL\n",
    "\n",
    "UNION ALL\n",
    "SELECT\n",
    "  player2_id as player1_id,\n",
    "  player2_deck_id as player1_deck_id,\n",
    "  winner_id\n",
    "FROM results\n",
    "WHERE player2_id IS NOT NULL\n",
    "),\n",
    "\n",
    "results_summary as (\n",
    "SELECT\n",
    "  d.tournament_id,\n",
    "  d.id,\n",
    "  d.player_id,\n",
    "  SUM(CASE WHEN r.winner_id = r.player1_id THEN 1 ELSE 0 END) as wins,\n",
    "  SUM(CASE WHEN r.winner_id != r.player1_id THEN 1 ELSE 0 END) as losses,\n",
    "  SUM(CASE WHEN r.winner_id = r.player1_id THEN 1 ELSE 0 END)  * 1.0 / COUNT(*) as win_pct  \n",
    "FROM decks d\n",
    "JOIN full_results r\n",
    "  on d.id = r.player1_deck_id\n",
    "GROUP BY 1, 2, 3\n",
    "ORDER BY 1, 4 DESC , 6 DESC\n",
    ")\n",
    "\n",
    "SELECT\n",
    "  r.tournament_id,\n",
    "  c.name,\n",
    "  SUM(wins) as wins,\n",
    "  SUM(losses) as losses,\n",
    "  SUM(quantity) as num_copies_main,\n",
    "  ROUND(SUM(wins) * 100.0 / SUM(wins + losses)) as win_pct\n",
    "FROM results_summary r\n",
    "JOIN cards c\n",
    "  ON r.id = c.deck_id\n",
    "  AND c.is_sideboard = 0\n",
    "GROUP BY 1, 2\n",
    "HAVING\n",
    "  SUM(wins + losses) > 10\n",
    "ORDER BY 1, SUM(quantity) DESC\n",
    "\"\"\"\n",
    "\n",
    "df = pd.read_sql_query(query, conn)\n",
    "tournaments = list(set(df['tournament_id']))\n",
    "tournaments.sort()\n",
    "\n",
    "for tournament in tournaments:\n",
    "    df_t = df[df['tournament_id']==tournament]\n",
    "    fig = px.scatter(df_t, x='num_copies_main', y='win_pct',\n",
    "                     hover_data=['name'], title=tournament,\n",
    "                     labels=dict(num_copies_main='Number of Copies (Main Deck)',\n",
    "                                 win_pct='Win %')\n",
    "                    )\n",
    "    fig.show()\n",
    "\n"
   ]
  },
  {
   "cell_type": "markdown",
   "id": "1cc69ff2",
   "metadata": {},
   "source": [
    "### Player Winrates"
   ]
  },
  {
   "cell_type": "code",
   "execution_count": 56,
   "id": "7595e041",
   "metadata": {
    "scrolled": true
   },
   "outputs": [
    {
     "data": {
      "text/html": [
       "<div>\n",
       "<style scoped>\n",
       "    .dataframe tbody tr th:only-of-type {\n",
       "        vertical-align: middle;\n",
       "    }\n",
       "\n",
       "    .dataframe tbody tr th {\n",
       "        vertical-align: top;\n",
       "    }\n",
       "\n",
       "    .dataframe thead th {\n",
       "        text-align: right;\n",
       "    }\n",
       "</style>\n",
       "<table border=\"1\" class=\"dataframe\">\n",
       "  <thead>\n",
       "    <tr style=\"text-align: right;\">\n",
       "      <th></th>\n",
       "      <th>player</th>\n",
       "      <th>name</th>\n",
       "      <th>wins</th>\n",
       "      <th>losses</th>\n",
       "      <th>matches_played</th>\n",
       "      <th>win_pct</th>\n",
       "    </tr>\n",
       "  </thead>\n",
       "  <tbody>\n",
       "    <tr>\n",
       "      <th>0</th>\n",
       "      <td>Juggler314</td>\n",
       "      <td>Jack Kiefer</td>\n",
       "      <td>48</td>\n",
       "      <td>23</td>\n",
       "      <td>71</td>\n",
       "      <td>68.0</td>\n",
       "    </tr>\n",
       "    <tr>\n",
       "      <th>1</th>\n",
       "      <td>zach_dubin</td>\n",
       "      <td>Zach Dubin</td>\n",
       "      <td>45</td>\n",
       "      <td>31</td>\n",
       "      <td>76</td>\n",
       "      <td>59.0</td>\n",
       "    </tr>\n",
       "    <tr>\n",
       "      <th>2</th>\n",
       "      <td>TESpacito</td>\n",
       "      <td>Jamie Miller</td>\n",
       "      <td>41</td>\n",
       "      <td>30</td>\n",
       "      <td>71</td>\n",
       "      <td>58.0</td>\n",
       "    </tr>\n",
       "    <tr>\n",
       "      <th>3</th>\n",
       "      <td>TombSimon</td>\n",
       "      <td>Simon Nielsen</td>\n",
       "      <td>41</td>\n",
       "      <td>26</td>\n",
       "      <td>67</td>\n",
       "      <td>61.0</td>\n",
       "    </tr>\n",
       "    <tr>\n",
       "      <th>4</th>\n",
       "      <td>CeciliaJupe</td>\n",
       "      <td>Ty Thomason</td>\n",
       "      <td>39</td>\n",
       "      <td>17</td>\n",
       "      <td>56</td>\n",
       "      <td>70.0</td>\n",
       "    </tr>\n",
       "    <tr>\n",
       "      <th>5</th>\n",
       "      <td>bparis15</td>\n",
       "      <td>Bryan Paris</td>\n",
       "      <td>38</td>\n",
       "      <td>21</td>\n",
       "      <td>59</td>\n",
       "      <td>64.0</td>\n",
       "    </tr>\n",
       "    <tr>\n",
       "      <th>6</th>\n",
       "      <td>Worldwaker2</td>\n",
       "      <td>Philip Steudel</td>\n",
       "      <td>37</td>\n",
       "      <td>24</td>\n",
       "      <td>61</td>\n",
       "      <td>61.0</td>\n",
       "    </tr>\n",
       "    <tr>\n",
       "      <th>7</th>\n",
       "      <td>Valorj</td>\n",
       "      <td>Joshua Bausch</td>\n",
       "      <td>35</td>\n",
       "      <td>25</td>\n",
       "      <td>60</td>\n",
       "      <td>58.0</td>\n",
       "    </tr>\n",
       "    <tr>\n",
       "      <th>8</th>\n",
       "      <td>fabfoe</td>\n",
       "      <td>Fabian Thiele</td>\n",
       "      <td>35</td>\n",
       "      <td>30</td>\n",
       "      <td>65</td>\n",
       "      <td>54.0</td>\n",
       "    </tr>\n",
       "    <tr>\n",
       "      <th>9</th>\n",
       "      <td>BanjoCargo</td>\n",
       "      <td>Jacob Nagro</td>\n",
       "      <td>32</td>\n",
       "      <td>20</td>\n",
       "      <td>52</td>\n",
       "      <td>62.0</td>\n",
       "    </tr>\n",
       "    <tr>\n",
       "      <th>10</th>\n",
       "      <td>AlexPoulosky</td>\n",
       "      <td>Alex Poulosky</td>\n",
       "      <td>30</td>\n",
       "      <td>26</td>\n",
       "      <td>56</td>\n",
       "      <td>54.0</td>\n",
       "    </tr>\n",
       "    <tr>\n",
       "      <th>11</th>\n",
       "      <td>fadetoblack1183</td>\n",
       "      <td>Andrew Frank</td>\n",
       "      <td>30</td>\n",
       "      <td>34</td>\n",
       "      <td>64</td>\n",
       "      <td>47.0</td>\n",
       "    </tr>\n",
       "    <tr>\n",
       "      <th>12</th>\n",
       "      <td>DrumDevil</td>\n",
       "      <td>Alec Levy</td>\n",
       "      <td>28</td>\n",
       "      <td>26</td>\n",
       "      <td>54</td>\n",
       "      <td>52.0</td>\n",
       "    </tr>\n",
       "    <tr>\n",
       "      <th>13</th>\n",
       "      <td>pg8</td>\n",
       "      <td>Paul Green</td>\n",
       "      <td>28</td>\n",
       "      <td>20</td>\n",
       "      <td>48</td>\n",
       "      <td>58.0</td>\n",
       "    </tr>\n",
       "    <tr>\n",
       "      <th>14</th>\n",
       "      <td>Alakazimdk</td>\n",
       "      <td>Anders Thiesen</td>\n",
       "      <td>27</td>\n",
       "      <td>10</td>\n",
       "      <td>37</td>\n",
       "      <td>73.0</td>\n",
       "    </tr>\n",
       "    <tr>\n",
       "      <th>15</th>\n",
       "      <td>ElectricSweater</td>\n",
       "      <td>Stuart Fleisher</td>\n",
       "      <td>26</td>\n",
       "      <td>23</td>\n",
       "      <td>49</td>\n",
       "      <td>53.0</td>\n",
       "    </tr>\n",
       "    <tr>\n",
       "      <th>16</th>\n",
       "      <td>domhrv</td>\n",
       "      <td>Dominic Harvey</td>\n",
       "      <td>26</td>\n",
       "      <td>19</td>\n",
       "      <td>45</td>\n",
       "      <td>58.0</td>\n",
       "    </tr>\n",
       "    <tr>\n",
       "      <th>17</th>\n",
       "      <td>Ferrando</td>\n",
       "      <td>Matthew Ferrando</td>\n",
       "      <td>25</td>\n",
       "      <td>31</td>\n",
       "      <td>56</td>\n",
       "      <td>45.0</td>\n",
       "    </tr>\n",
       "    <tr>\n",
       "      <th>18</th>\n",
       "      <td>alanalana</td>\n",
       "      <td>Jess Robkin</td>\n",
       "      <td>24</td>\n",
       "      <td>21</td>\n",
       "      <td>45</td>\n",
       "      <td>53.0</td>\n",
       "    </tr>\n",
       "    <tr>\n",
       "      <th>19</th>\n",
       "      <td>fireshoes</td>\n",
       "      <td>Robert Taylor</td>\n",
       "      <td>22</td>\n",
       "      <td>15</td>\n",
       "      <td>37</td>\n",
       "      <td>59.0</td>\n",
       "    </tr>\n",
       "    <tr>\n",
       "      <th>20</th>\n",
       "      <td>greenprinny</td>\n",
       "      <td>michael smith</td>\n",
       "      <td>22</td>\n",
       "      <td>18</td>\n",
       "      <td>40</td>\n",
       "      <td>55.0</td>\n",
       "    </tr>\n",
       "    <tr>\n",
       "      <th>21</th>\n",
       "      <td>Shadaro</td>\n",
       "      <td>Mason Buonadonna</td>\n",
       "      <td>21</td>\n",
       "      <td>12</td>\n",
       "      <td>33</td>\n",
       "      <td>64.0</td>\n",
       "    </tr>\n",
       "    <tr>\n",
       "      <th>22</th>\n",
       "      <td>jaaaaabs21</td>\n",
       "      <td>Andrew Jabs</td>\n",
       "      <td>21</td>\n",
       "      <td>14</td>\n",
       "      <td>35</td>\n",
       "      <td>60.0</td>\n",
       "    </tr>\n",
       "    <tr>\n",
       "      <th>23</th>\n",
       "      <td>FrostytheSnoman</td>\n",
       "      <td>John Forsyth</td>\n",
       "      <td>19</td>\n",
       "      <td>18</td>\n",
       "      <td>37</td>\n",
       "      <td>51.0</td>\n",
       "    </tr>\n",
       "    <tr>\n",
       "      <th>24</th>\n",
       "      <td>thelguy</td>\n",
       "      <td>Luca M</td>\n",
       "      <td>19</td>\n",
       "      <td>22</td>\n",
       "      <td>41</td>\n",
       "      <td>46.0</td>\n",
       "    </tr>\n",
       "    <tr>\n",
       "      <th>25</th>\n",
       "      <td>Massapo</td>\n",
       "      <td>Elijah Woodbury</td>\n",
       "      <td>18</td>\n",
       "      <td>18</td>\n",
       "      <td>36</td>\n",
       "      <td>50.0</td>\n",
       "    </tr>\n",
       "    <tr>\n",
       "      <th>26</th>\n",
       "      <td>MdvWin</td>\n",
       "      <td>Miles Voenell</td>\n",
       "      <td>18</td>\n",
       "      <td>11</td>\n",
       "      <td>29</td>\n",
       "      <td>62.0</td>\n",
       "    </tr>\n",
       "    <tr>\n",
       "      <th>27</th>\n",
       "      <td>1yo2yo</td>\n",
       "      <td>Jack Cummins</td>\n",
       "      <td>17</td>\n",
       "      <td>13</td>\n",
       "      <td>30</td>\n",
       "      <td>57.0</td>\n",
       "    </tr>\n",
       "    <tr>\n",
       "      <th>28</th>\n",
       "      <td>Trivialriot</td>\n",
       "      <td>Will Lowry</td>\n",
       "      <td>17</td>\n",
       "      <td>18</td>\n",
       "      <td>35</td>\n",
       "      <td>49.0</td>\n",
       "    </tr>\n",
       "    <tr>\n",
       "      <th>29</th>\n",
       "      <td>djbeatle</td>\n",
       "      <td>Max Richards</td>\n",
       "      <td>17</td>\n",
       "      <td>23</td>\n",
       "      <td>40</td>\n",
       "      <td>43.0</td>\n",
       "    </tr>\n",
       "    <tr>\n",
       "      <th>30</th>\n",
       "      <td>faradan</td>\n",
       "      <td>Hunter Garrett</td>\n",
       "      <td>17</td>\n",
       "      <td>18</td>\n",
       "      <td>35</td>\n",
       "      <td>49.0</td>\n",
       "    </tr>\n",
       "    <tr>\n",
       "      <th>31</th>\n",
       "      <td>HandsomeValley</td>\n",
       "      <td>John Slimak</td>\n",
       "      <td>16</td>\n",
       "      <td>21</td>\n",
       "      <td>37</td>\n",
       "      <td>43.0</td>\n",
       "    </tr>\n",
       "    <tr>\n",
       "      <th>32</th>\n",
       "      <td>Scuta04</td>\n",
       "      <td>Koby Keller</td>\n",
       "      <td>16</td>\n",
       "      <td>11</td>\n",
       "      <td>27</td>\n",
       "      <td>59.0</td>\n",
       "    </tr>\n",
       "    <tr>\n",
       "      <th>33</th>\n",
       "      <td>Tsq11</td>\n",
       "      <td>Shea Strausman</td>\n",
       "      <td>16</td>\n",
       "      <td>16</td>\n",
       "      <td>32</td>\n",
       "      <td>50.0</td>\n",
       "    </tr>\n",
       "    <tr>\n",
       "      <th>34</th>\n",
       "      <td>bsweitz</td>\n",
       "      <td>Ben Weitz</td>\n",
       "      <td>16</td>\n",
       "      <td>8</td>\n",
       "      <td>24</td>\n",
       "      <td>67.0</td>\n",
       "    </tr>\n",
       "    <tr>\n",
       "      <th>35</th>\n",
       "      <td>specialkid</td>\n",
       "      <td>Tyler Hatchel</td>\n",
       "      <td>16</td>\n",
       "      <td>12</td>\n",
       "      <td>28</td>\n",
       "      <td>57.0</td>\n",
       "    </tr>\n",
       "    <tr>\n",
       "      <th>36</th>\n",
       "      <td>Ranchtr33</td>\n",
       "      <td>Collin Rountree</td>\n",
       "      <td>15</td>\n",
       "      <td>12</td>\n",
       "      <td>27</td>\n",
       "      <td>56.0</td>\n",
       "    </tr>\n",
       "    <tr>\n",
       "      <th>37</th>\n",
       "      <td>watsonx71</td>\n",
       "      <td>Matthew Watts</td>\n",
       "      <td>15</td>\n",
       "      <td>16</td>\n",
       "      <td>31</td>\n",
       "      <td>48.0</td>\n",
       "    </tr>\n",
       "    <tr>\n",
       "      <th>38</th>\n",
       "      <td>mrkatz</td>\n",
       "      <td>Matt Katz</td>\n",
       "      <td>14</td>\n",
       "      <td>14</td>\n",
       "      <td>28</td>\n",
       "      <td>50.0</td>\n",
       "    </tr>\n",
       "    <tr>\n",
       "      <th>39</th>\n",
       "      <td>timp</td>\n",
       "      <td>tim pollard</td>\n",
       "      <td>14</td>\n",
       "      <td>25</td>\n",
       "      <td>39</td>\n",
       "      <td>36.0</td>\n",
       "    </tr>\n",
       "    <tr>\n",
       "      <th>40</th>\n",
       "      <td>Axehurdle</td>\n",
       "      <td>Andrew Blank</td>\n",
       "      <td>13</td>\n",
       "      <td>22</td>\n",
       "      <td>35</td>\n",
       "      <td>37.0</td>\n",
       "    </tr>\n",
       "    <tr>\n",
       "      <th>41</th>\n",
       "      <td>Metal_Buddha</td>\n",
       "      <td>Bryan Cole</td>\n",
       "      <td>13</td>\n",
       "      <td>13</td>\n",
       "      <td>26</td>\n",
       "      <td>50.0</td>\n",
       "    </tr>\n",
       "    <tr>\n",
       "      <th>42</th>\n",
       "      <td>SaborDeSoledad</td>\n",
       "      <td>Matthew Heising</td>\n",
       "      <td>13</td>\n",
       "      <td>10</td>\n",
       "      <td>23</td>\n",
       "      <td>57.0</td>\n",
       "    </tr>\n",
       "    <tr>\n",
       "      <th>43</th>\n",
       "      <td>SparksCoop</td>\n",
       "      <td>Cooper Livingston</td>\n",
       "      <td>13</td>\n",
       "      <td>22</td>\n",
       "      <td>35</td>\n",
       "      <td>37.0</td>\n",
       "    </tr>\n",
       "    <tr>\n",
       "      <th>44</th>\n",
       "      <td>adamwasmo</td>\n",
       "      <td>Adam Wasburn-Moses</td>\n",
       "      <td>13</td>\n",
       "      <td>20</td>\n",
       "      <td>33</td>\n",
       "      <td>39.0</td>\n",
       "    </tr>\n",
       "    <tr>\n",
       "      <th>45</th>\n",
       "      <td>popohad</td>\n",
       "      <td>Avi Grinberg</td>\n",
       "      <td>13</td>\n",
       "      <td>15</td>\n",
       "      <td>28</td>\n",
       "      <td>46.0</td>\n",
       "    </tr>\n",
       "    <tr>\n",
       "      <th>46</th>\n",
       "      <td>Can_of_Chips</td>\n",
       "      <td>Can_of_Chips</td>\n",
       "      <td>12</td>\n",
       "      <td>13</td>\n",
       "      <td>25</td>\n",
       "      <td>48.0</td>\n",
       "    </tr>\n",
       "    <tr>\n",
       "      <th>47</th>\n",
       "      <td>JimDavisMTG</td>\n",
       "      <td>Jim Davis</td>\n",
       "      <td>12</td>\n",
       "      <td>11</td>\n",
       "      <td>23</td>\n",
       "      <td>52.0</td>\n",
       "    </tr>\n",
       "    <tr>\n",
       "      <th>48</th>\n",
       "      <td>kewentian</td>\n",
       "      <td>Ryan Kerr</td>\n",
       "      <td>12</td>\n",
       "      <td>14</td>\n",
       "      <td>26</td>\n",
       "      <td>46.0</td>\n",
       "    </tr>\n",
       "    <tr>\n",
       "      <th>49</th>\n",
       "      <td>Amnesiac</td>\n",
       "      <td>Matthew Garnham</td>\n",
       "      <td>11</td>\n",
       "      <td>8</td>\n",
       "      <td>19</td>\n",
       "      <td>58.0</td>\n",
       "    </tr>\n",
       "    <tr>\n",
       "      <th>50</th>\n",
       "      <td>RemiFortier</td>\n",
       "      <td>Rémi Fortier</td>\n",
       "      <td>11</td>\n",
       "      <td>3</td>\n",
       "      <td>14</td>\n",
       "      <td>79.0</td>\n",
       "    </tr>\n",
       "    <tr>\n",
       "      <th>51</th>\n",
       "      <td>Searzist</td>\n",
       "      <td>Jason Williamson</td>\n",
       "      <td>11</td>\n",
       "      <td>7</td>\n",
       "      <td>18</td>\n",
       "      <td>61.0</td>\n",
       "    </tr>\n",
       "    <tr>\n",
       "      <th>52</th>\n",
       "      <td>crazy_alex</td>\n",
       "      <td>Alexander Rosenberger</td>\n",
       "      <td>11</td>\n",
       "      <td>9</td>\n",
       "      <td>20</td>\n",
       "      <td>55.0</td>\n",
       "    </tr>\n",
       "    <tr>\n",
       "      <th>53</th>\n",
       "      <td>papamat25</td>\n",
       "      <td>Matt Iles</td>\n",
       "      <td>11</td>\n",
       "      <td>17</td>\n",
       "      <td>28</td>\n",
       "      <td>39.0</td>\n",
       "    </tr>\n",
       "    <tr>\n",
       "      <th>54</th>\n",
       "      <td>ANDYWILSON</td>\n",
       "      <td>ANDYWILSON</td>\n",
       "      <td>10</td>\n",
       "      <td>7</td>\n",
       "      <td>17</td>\n",
       "      <td>59.0</td>\n",
       "    </tr>\n",
       "    <tr>\n",
       "      <th>55</th>\n",
       "      <td>Telperionkaadu</td>\n",
       "      <td>Samantha Murphy</td>\n",
       "      <td>10</td>\n",
       "      <td>17</td>\n",
       "      <td>27</td>\n",
       "      <td>37.0</td>\n",
       "    </tr>\n",
       "    <tr>\n",
       "      <th>56</th>\n",
       "      <td>d00mwake</td>\n",
       "      <td>Devon O'Donnell</td>\n",
       "      <td>10</td>\n",
       "      <td>7</td>\n",
       "      <td>17</td>\n",
       "      <td>59.0</td>\n",
       "    </tr>\n",
       "    <tr>\n",
       "      <th>57</th>\n",
       "      <td>wingsfan24</td>\n",
       "      <td>wingsfan24</td>\n",
       "      <td>10</td>\n",
       "      <td>13</td>\n",
       "      <td>23</td>\n",
       "      <td>43.0</td>\n",
       "    </tr>\n",
       "    <tr>\n",
       "      <th>58</th>\n",
       "      <td>AnarchistAbe</td>\n",
       "      <td>Randy Larsen</td>\n",
       "      <td>9</td>\n",
       "      <td>9</td>\n",
       "      <td>18</td>\n",
       "      <td>50.0</td>\n",
       "    </tr>\n",
       "    <tr>\n",
       "      <th>59</th>\n",
       "      <td>DrMaD</td>\n",
       "      <td>DrMaD</td>\n",
       "      <td>9</td>\n",
       "      <td>10</td>\n",
       "      <td>19</td>\n",
       "      <td>47.0</td>\n",
       "    </tr>\n",
       "    <tr>\n",
       "      <th>60</th>\n",
       "      <td>FabianKlein</td>\n",
       "      <td>Fabian Klein</td>\n",
       "      <td>9</td>\n",
       "      <td>10</td>\n",
       "      <td>19</td>\n",
       "      <td>47.0</td>\n",
       "    </tr>\n",
       "    <tr>\n",
       "      <th>61</th>\n",
       "      <td>FlxEx</td>\n",
       "      <td>Felix G</td>\n",
       "      <td>9</td>\n",
       "      <td>16</td>\n",
       "      <td>25</td>\n",
       "      <td>36.0</td>\n",
       "    </tr>\n",
       "    <tr>\n",
       "      <th>62</th>\n",
       "      <td>Kwestin</td>\n",
       "      <td>Kyle Weston</td>\n",
       "      <td>9</td>\n",
       "      <td>9</td>\n",
       "      <td>18</td>\n",
       "      <td>50.0</td>\n",
       "    </tr>\n",
       "    <tr>\n",
       "      <th>63</th>\n",
       "      <td>L3D91</td>\n",
       "      <td>Lev Ducenko</td>\n",
       "      <td>9</td>\n",
       "      <td>12</td>\n",
       "      <td>21</td>\n",
       "      <td>43.0</td>\n",
       "    </tr>\n",
       "    <tr>\n",
       "      <th>64</th>\n",
       "      <td>SamuelGraebner</td>\n",
       "      <td>Samuel Graebner</td>\n",
       "      <td>9</td>\n",
       "      <td>10</td>\n",
       "      <td>19</td>\n",
       "      <td>47.0</td>\n",
       "    </tr>\n",
       "    <tr>\n",
       "      <th>65</th>\n",
       "      <td>dknox5</td>\n",
       "      <td>Daniel Knox</td>\n",
       "      <td>9</td>\n",
       "      <td>4</td>\n",
       "      <td>13</td>\n",
       "      <td>69.0</td>\n",
       "    </tr>\n",
       "    <tr>\n",
       "      <th>66</th>\n",
       "      <td>indianpancake</td>\n",
       "      <td>Travis Williams</td>\n",
       "      <td>9</td>\n",
       "      <td>8</td>\n",
       "      <td>17</td>\n",
       "      <td>53.0</td>\n",
       "    </tr>\n",
       "    <tr>\n",
       "      <th>67</th>\n",
       "      <td>klbaxxx</td>\n",
       "      <td>Bastien Perez Assael</td>\n",
       "      <td>9</td>\n",
       "      <td>4</td>\n",
       "      <td>13</td>\n",
       "      <td>69.0</td>\n",
       "    </tr>\n",
       "    <tr>\n",
       "      <th>68</th>\n",
       "      <td>sandydogmtg</td>\n",
       "      <td>sandydogmtg</td>\n",
       "      <td>9</td>\n",
       "      <td>5</td>\n",
       "      <td>14</td>\n",
       "      <td>64.0</td>\n",
       "    </tr>\n",
       "    <tr>\n",
       "      <th>69</th>\n",
       "      <td>Borowicz50</td>\n",
       "      <td>Brandon Borowicz</td>\n",
       "      <td>8</td>\n",
       "      <td>5</td>\n",
       "      <td>13</td>\n",
       "      <td>62.0</td>\n",
       "    </tr>\n",
       "    <tr>\n",
       "      <th>70</th>\n",
       "      <td>BrentCohen</td>\n",
       "      <td>Brent Cohen</td>\n",
       "      <td>8</td>\n",
       "      <td>18</td>\n",
       "      <td>26</td>\n",
       "      <td>31.0</td>\n",
       "    </tr>\n",
       "    <tr>\n",
       "      <th>71</th>\n",
       "      <td>MoxSquirrel</td>\n",
       "      <td>Steven Stierman</td>\n",
       "      <td>8</td>\n",
       "      <td>8</td>\n",
       "      <td>16</td>\n",
       "      <td>50.0</td>\n",
       "    </tr>\n",
       "    <tr>\n",
       "      <th>72</th>\n",
       "      <td>Nephtyz</td>\n",
       "      <td>Stefan Jacobs</td>\n",
       "      <td>8</td>\n",
       "      <td>5</td>\n",
       "      <td>13</td>\n",
       "      <td>62.0</td>\n",
       "    </tr>\n",
       "    <tr>\n",
       "      <th>73</th>\n",
       "      <td>TISH</td>\n",
       "      <td>Isaac Sherman</td>\n",
       "      <td>8</td>\n",
       "      <td>4</td>\n",
       "      <td>12</td>\n",
       "      <td>67.0</td>\n",
       "    </tr>\n",
       "    <tr>\n",
       "      <th>74</th>\n",
       "      <td>Xenoneb</td>\n",
       "      <td>Xenoneb</td>\n",
       "      <td>8</td>\n",
       "      <td>11</td>\n",
       "      <td>19</td>\n",
       "      <td>42.0</td>\n",
       "    </tr>\n",
       "    <tr>\n",
       "      <th>75</th>\n",
       "      <td>killersuv</td>\n",
       "      <td>Mciahel DeBenedetto-Plummer</td>\n",
       "      <td>8</td>\n",
       "      <td>4</td>\n",
       "      <td>12</td>\n",
       "      <td>67.0</td>\n",
       "    </tr>\n",
       "    <tr>\n",
       "      <th>76</th>\n",
       "      <td>EldraziWinter</td>\n",
       "      <td>Cameron Eaton</td>\n",
       "      <td>7</td>\n",
       "      <td>9</td>\n",
       "      <td>16</td>\n",
       "      <td>44.0</td>\n",
       "    </tr>\n",
       "    <tr>\n",
       "      <th>77</th>\n",
       "      <td>Hologram001</td>\n",
       "      <td>Grant Christopher</td>\n",
       "      <td>7</td>\n",
       "      <td>14</td>\n",
       "      <td>21</td>\n",
       "      <td>33.0</td>\n",
       "    </tr>\n",
       "    <tr>\n",
       "      <th>78</th>\n",
       "      <td>JMM</td>\n",
       "      <td>Jan-Moritz Merkel</td>\n",
       "      <td>7</td>\n",
       "      <td>7</td>\n",
       "      <td>14</td>\n",
       "      <td>50.0</td>\n",
       "    </tr>\n",
       "    <tr>\n",
       "      <th>79</th>\n",
       "      <td>Kalamence</td>\n",
       "      <td>Ryan Sheehan</td>\n",
       "      <td>7</td>\n",
       "      <td>8</td>\n",
       "      <td>15</td>\n",
       "      <td>47.0</td>\n",
       "    </tr>\n",
       "    <tr>\n",
       "      <th>80</th>\n",
       "      <td>PTarts2win</td>\n",
       "      <td>PTarts2win</td>\n",
       "      <td>7</td>\n",
       "      <td>2</td>\n",
       "      <td>9</td>\n",
       "      <td>78.0</td>\n",
       "    </tr>\n",
       "    <tr>\n",
       "      <th>81</th>\n",
       "      <td>Pethanator</td>\n",
       "      <td>Ethan King</td>\n",
       "      <td>7</td>\n",
       "      <td>8</td>\n",
       "      <td>15</td>\n",
       "      <td>47.0</td>\n",
       "    </tr>\n",
       "    <tr>\n",
       "      <th>82</th>\n",
       "      <td>PhoenixFlame</td>\n",
       "      <td>Anna Heggerud</td>\n",
       "      <td>7</td>\n",
       "      <td>10</td>\n",
       "      <td>17</td>\n",
       "      <td>41.0</td>\n",
       "    </tr>\n",
       "    <tr>\n",
       "      <th>83</th>\n",
       "      <td>Sunbird17</td>\n",
       "      <td>Lydia Aldrich</td>\n",
       "      <td>7</td>\n",
       "      <td>20</td>\n",
       "      <td>27</td>\n",
       "      <td>26.0</td>\n",
       "    </tr>\n",
       "    <tr>\n",
       "      <th>84</th>\n",
       "      <td>eappleton1</td>\n",
       "      <td>Evan Appleton</td>\n",
       "      <td>7</td>\n",
       "      <td>2</td>\n",
       "      <td>9</td>\n",
       "      <td>78.0</td>\n",
       "    </tr>\n",
       "    <tr>\n",
       "      <th>85</th>\n",
       "      <td>jarvisyu</td>\n",
       "      <td>Jarvis Yu</td>\n",
       "      <td>7</td>\n",
       "      <td>4</td>\n",
       "      <td>11</td>\n",
       "      <td>64.0</td>\n",
       "    </tr>\n",
       "    <tr>\n",
       "      <th>86</th>\n",
       "      <td>Boofra</td>\n",
       "      <td>Benjamin Briggs</td>\n",
       "      <td>6</td>\n",
       "      <td>1</td>\n",
       "      <td>7</td>\n",
       "      <td>86.0</td>\n",
       "    </tr>\n",
       "    <tr>\n",
       "      <th>87</th>\n",
       "      <td>DuelmasterJ</td>\n",
       "      <td>Joe Schram</td>\n",
       "      <td>6</td>\n",
       "      <td>9</td>\n",
       "      <td>15</td>\n",
       "      <td>40.0</td>\n",
       "    </tr>\n",
       "    <tr>\n",
       "      <th>88</th>\n",
       "      <td>TheBigSmooth</td>\n",
       "      <td>Collin Holson</td>\n",
       "      <td>6</td>\n",
       "      <td>4</td>\n",
       "      <td>10</td>\n",
       "      <td>60.0</td>\n",
       "    </tr>\n",
       "    <tr>\n",
       "      <th>89</th>\n",
       "      <td>WanderingVenser</td>\n",
       "      <td>Steven Boston</td>\n",
       "      <td>6</td>\n",
       "      <td>2</td>\n",
       "      <td>8</td>\n",
       "      <td>75.0</td>\n",
       "    </tr>\n",
       "    <tr>\n",
       "      <th>90</th>\n",
       "      <td>Zach_ofalltrades</td>\n",
       "      <td>Zach_ofalltrades</td>\n",
       "      <td>6</td>\n",
       "      <td>8</td>\n",
       "      <td>14</td>\n",
       "      <td>43.0</td>\n",
       "    </tr>\n",
       "    <tr>\n",
       "      <th>91</th>\n",
       "      <td>asihtos</td>\n",
       "      <td>Dmitri Konorev</td>\n",
       "      <td>6</td>\n",
       "      <td>5</td>\n",
       "      <td>11</td>\n",
       "      <td>55.0</td>\n",
       "    </tr>\n",
       "    <tr>\n",
       "      <th>92</th>\n",
       "      <td>cpata</td>\n",
       "      <td>Christopher Patalano</td>\n",
       "      <td>6</td>\n",
       "      <td>9</td>\n",
       "      <td>15</td>\n",
       "      <td>40.0</td>\n",
       "    </tr>\n",
       "    <tr>\n",
       "      <th>93</th>\n",
       "      <td>fr0z3nsun</td>\n",
       "      <td>Tim Hatch</td>\n",
       "      <td>6</td>\n",
       "      <td>2</td>\n",
       "      <td>8</td>\n",
       "      <td>75.0</td>\n",
       "    </tr>\n",
       "    <tr>\n",
       "      <th>94</th>\n",
       "      <td>pistols4pandas5</td>\n",
       "      <td>Ian Carle</td>\n",
       "      <td>6</td>\n",
       "      <td>7</td>\n",
       "      <td>13</td>\n",
       "      <td>46.0</td>\n",
       "    </tr>\n",
       "    <tr>\n",
       "      <th>95</th>\n",
       "      <td>redryansox</td>\n",
       "      <td>Ryan Condon</td>\n",
       "      <td>6</td>\n",
       "      <td>6</td>\n",
       "      <td>12</td>\n",
       "      <td>50.0</td>\n",
       "    </tr>\n",
       "    <tr>\n",
       "      <th>96</th>\n",
       "      <td>BalexBelson</td>\n",
       "      <td>Alex Nelson</td>\n",
       "      <td>5</td>\n",
       "      <td>2</td>\n",
       "      <td>7</td>\n",
       "      <td>71.0</td>\n",
       "    </tr>\n",
       "    <tr>\n",
       "      <th>97</th>\n",
       "      <td>DreamingofDucks</td>\n",
       "      <td>Albert Hahn</td>\n",
       "      <td>5</td>\n",
       "      <td>5</td>\n",
       "      <td>10</td>\n",
       "      <td>50.0</td>\n",
       "    </tr>\n",
       "    <tr>\n",
       "      <th>98</th>\n",
       "      <td>HarryCook</td>\n",
       "      <td>Harry Cook</td>\n",
       "      <td>5</td>\n",
       "      <td>7</td>\n",
       "      <td>12</td>\n",
       "      <td>42.0</td>\n",
       "    </tr>\n",
       "    <tr>\n",
       "      <th>99</th>\n",
       "      <td>IGotDead</td>\n",
       "      <td>Victoria McCoy</td>\n",
       "      <td>5</td>\n",
       "      <td>10</td>\n",
       "      <td>15</td>\n",
       "      <td>33.0</td>\n",
       "    </tr>\n",
       "    <tr>\n",
       "      <th>100</th>\n",
       "      <td>IslandGoSAMe</td>\n",
       "      <td>Sam Bogue</td>\n",
       "      <td>5</td>\n",
       "      <td>4</td>\n",
       "      <td>9</td>\n",
       "      <td>56.0</td>\n",
       "    </tr>\n",
       "    <tr>\n",
       "      <th>101</th>\n",
       "      <td>KhanofDakir</td>\n",
       "      <td>Aleksandar Dakic</td>\n",
       "      <td>5</td>\n",
       "      <td>2</td>\n",
       "      <td>7</td>\n",
       "      <td>71.0</td>\n",
       "    </tr>\n",
       "    <tr>\n",
       "      <th>102</th>\n",
       "      <td>ManicAxiom</td>\n",
       "      <td>Josef Welbes</td>\n",
       "      <td>5</td>\n",
       "      <td>2</td>\n",
       "      <td>7</td>\n",
       "      <td>71.0</td>\n",
       "    </tr>\n",
       "    <tr>\n",
       "      <th>103</th>\n",
       "      <td>Mazemtg</td>\n",
       "      <td>Oliver Frith</td>\n",
       "      <td>5</td>\n",
       "      <td>2</td>\n",
       "      <td>7</td>\n",
       "      <td>71.0</td>\n",
       "    </tr>\n",
       "    <tr>\n",
       "      <th>104</th>\n",
       "      <td>Stroodle43</td>\n",
       "      <td>Austin Herrick</td>\n",
       "      <td>5</td>\n",
       "      <td>6</td>\n",
       "      <td>11</td>\n",
       "      <td>45.0</td>\n",
       "    </tr>\n",
       "    <tr>\n",
       "      <th>105</th>\n",
       "      <td>Terragoth</td>\n",
       "      <td>Dan Gluck</td>\n",
       "      <td>5</td>\n",
       "      <td>8</td>\n",
       "      <td>13</td>\n",
       "      <td>38.0</td>\n",
       "    </tr>\n",
       "    <tr>\n",
       "      <th>106</th>\n",
       "      <td>Wub</td>\n",
       "      <td>Aaron Cunningham</td>\n",
       "      <td>5</td>\n",
       "      <td>5</td>\n",
       "      <td>10</td>\n",
       "      <td>50.0</td>\n",
       "    </tr>\n",
       "    <tr>\n",
       "      <th>107</th>\n",
       "      <td>armlx</td>\n",
       "      <td>Ari Lax</td>\n",
       "      <td>5</td>\n",
       "      <td>3</td>\n",
       "      <td>8</td>\n",
       "      <td>63.0</td>\n",
       "    </tr>\n",
       "    <tr>\n",
       "      <th>108</th>\n",
       "      <td>awebb</td>\n",
       "      <td>Andrew Webb</td>\n",
       "      <td>5</td>\n",
       "      <td>6</td>\n",
       "      <td>11</td>\n",
       "      <td>45.0</td>\n",
       "    </tr>\n",
       "    <tr>\n",
       "      <th>109</th>\n",
       "      <td>e_mouchet</td>\n",
       "      <td>Martin KRAWIES</td>\n",
       "      <td>5</td>\n",
       "      <td>3</td>\n",
       "      <td>8</td>\n",
       "      <td>63.0</td>\n",
       "    </tr>\n",
       "    <tr>\n",
       "      <th>110</th>\n",
       "      <td>einbrick1</td>\n",
       "      <td>Eric Baker</td>\n",
       "      <td>5</td>\n",
       "      <td>5</td>\n",
       "      <td>10</td>\n",
       "      <td>50.0</td>\n",
       "    </tr>\n",
       "    <tr>\n",
       "      <th>111</th>\n",
       "      <td>louigi</td>\n",
       "      <td>louigi</td>\n",
       "      <td>5</td>\n",
       "      <td>2</td>\n",
       "      <td>7</td>\n",
       "      <td>71.0</td>\n",
       "    </tr>\n",
       "    <tr>\n",
       "      <th>112</th>\n",
       "      <td>mlgskeletons</td>\n",
       "      <td>Ryan Brozovich</td>\n",
       "      <td>5</td>\n",
       "      <td>2</td>\n",
       "      <td>7</td>\n",
       "      <td>71.0</td>\n",
       "    </tr>\n",
       "    <tr>\n",
       "      <th>113</th>\n",
       "      <td>mtgpirate</td>\n",
       "      <td>Quinn Kiefer</td>\n",
       "      <td>5</td>\n",
       "      <td>7</td>\n",
       "      <td>12</td>\n",
       "      <td>42.0</td>\n",
       "    </tr>\n",
       "    <tr>\n",
       "      <th>114</th>\n",
       "      <td>nathansteuer</td>\n",
       "      <td>Nathan Steuer</td>\n",
       "      <td>5</td>\n",
       "      <td>2</td>\n",
       "      <td>7</td>\n",
       "      <td>71.0</td>\n",
       "    </tr>\n",
       "    <tr>\n",
       "      <th>115</th>\n",
       "      <td>oppodump</td>\n",
       "      <td>Cameron Sullivan</td>\n",
       "      <td>5</td>\n",
       "      <td>7</td>\n",
       "      <td>12</td>\n",
       "      <td>42.0</td>\n",
       "    </tr>\n",
       "    <tr>\n",
       "      <th>116</th>\n",
       "      <td>tobyr6</td>\n",
       "      <td>Tobias Roos</td>\n",
       "      <td>5</td>\n",
       "      <td>2</td>\n",
       "      <td>7</td>\n",
       "      <td>71.0</td>\n",
       "    </tr>\n",
       "    <tr>\n",
       "      <th>117</th>\n",
       "      <td>ElasticSalmon</td>\n",
       "      <td>Keith Murray</td>\n",
       "      <td>4</td>\n",
       "      <td>6</td>\n",
       "      <td>10</td>\n",
       "      <td>40.0</td>\n",
       "    </tr>\n",
       "    <tr>\n",
       "      <th>118</th>\n",
       "      <td>GhostEmpire</td>\n",
       "      <td>Markus Thibeau</td>\n",
       "      <td>4</td>\n",
       "      <td>2</td>\n",
       "      <td>6</td>\n",
       "      <td>67.0</td>\n",
       "    </tr>\n",
       "    <tr>\n",
       "      <th>119</th>\n",
       "      <td>Liam_mtgo</td>\n",
       "      <td>Liam Cahalan</td>\n",
       "      <td>4</td>\n",
       "      <td>5</td>\n",
       "      <td>9</td>\n",
       "      <td>44.0</td>\n",
       "    </tr>\n",
       "    <tr>\n",
       "      <th>120</th>\n",
       "      <td>Ma7x</td>\n",
       "      <td>Maxim Bélanger</td>\n",
       "      <td>4</td>\n",
       "      <td>3</td>\n",
       "      <td>7</td>\n",
       "      <td>57.0</td>\n",
       "    </tr>\n",
       "    <tr>\n",
       "      <th>121</th>\n",
       "      <td>Masongrode</td>\n",
       "      <td>Mason Grode</td>\n",
       "      <td>4</td>\n",
       "      <td>7</td>\n",
       "      <td>11</td>\n",
       "      <td>36.0</td>\n",
       "    </tr>\n",
       "    <tr>\n",
       "      <th>122</th>\n",
       "      <td>Raydan</td>\n",
       "      <td>Richard Nguyen</td>\n",
       "      <td>4</td>\n",
       "      <td>2</td>\n",
       "      <td>6</td>\n",
       "      <td>67.0</td>\n",
       "    </tr>\n",
       "    <tr>\n",
       "      <th>123</th>\n",
       "      <td>Slasher21</td>\n",
       "      <td>Ryan Haddad</td>\n",
       "      <td>4</td>\n",
       "      <td>3</td>\n",
       "      <td>7</td>\n",
       "      <td>57.0</td>\n",
       "    </tr>\n",
       "    <tr>\n",
       "      <th>124</th>\n",
       "      <td>Stompy45</td>\n",
       "      <td>Stompy45</td>\n",
       "      <td>4</td>\n",
       "      <td>8</td>\n",
       "      <td>12</td>\n",
       "      <td>33.0</td>\n",
       "    </tr>\n",
       "    <tr>\n",
       "      <th>125</th>\n",
       "      <td>Zlaxen</td>\n",
       "      <td>Zach Laxen</td>\n",
       "      <td>4</td>\n",
       "      <td>4</td>\n",
       "      <td>8</td>\n",
       "      <td>50.0</td>\n",
       "    </tr>\n",
       "    <tr>\n",
       "      <th>126</th>\n",
       "      <td>baiburqueno</td>\n",
       "      <td>Christopher Clawson</td>\n",
       "      <td>4</td>\n",
       "      <td>3</td>\n",
       "      <td>7</td>\n",
       "      <td>57.0</td>\n",
       "    </tr>\n",
       "    <tr>\n",
       "      <th>127</th>\n",
       "      <td>bakedkale</td>\n",
       "      <td>Qail Shivji</td>\n",
       "      <td>4</td>\n",
       "      <td>2</td>\n",
       "      <td>6</td>\n",
       "      <td>67.0</td>\n",
       "    </tr>\n",
       "    <tr>\n",
       "      <th>128</th>\n",
       "      <td>chauckster</td>\n",
       "      <td>Christian Hauck</td>\n",
       "      <td>4</td>\n",
       "      <td>3</td>\n",
       "      <td>7</td>\n",
       "      <td>57.0</td>\n",
       "    </tr>\n",
       "    <tr>\n",
       "      <th>129</th>\n",
       "      <td>demian</td>\n",
       "      <td>Vincent Adinolfi</td>\n",
       "      <td>4</td>\n",
       "      <td>2</td>\n",
       "      <td>6</td>\n",
       "      <td>67.0</td>\n",
       "    </tr>\n",
       "    <tr>\n",
       "      <th>130</th>\n",
       "      <td>hex1206</td>\n",
       "      <td>Marvin Thomas</td>\n",
       "      <td>4</td>\n",
       "      <td>8</td>\n",
       "      <td>12</td>\n",
       "      <td>33.0</td>\n",
       "    </tr>\n",
       "    <tr>\n",
       "      <th>131</th>\n",
       "      <td>krazylawlko</td>\n",
       "      <td>remi bouchard</td>\n",
       "      <td>4</td>\n",
       "      <td>2</td>\n",
       "      <td>6</td>\n",
       "      <td>67.0</td>\n",
       "    </tr>\n",
       "    <tr>\n",
       "      <th>132</th>\n",
       "      <td>phattemer</td>\n",
       "      <td>Peter Hattemer</td>\n",
       "      <td>4</td>\n",
       "      <td>2</td>\n",
       "      <td>6</td>\n",
       "      <td>67.0</td>\n",
       "    </tr>\n",
       "    <tr>\n",
       "      <th>133</th>\n",
       "      <td>raisans</td>\n",
       "      <td>Blair Splett</td>\n",
       "      <td>4</td>\n",
       "      <td>7</td>\n",
       "      <td>11</td>\n",
       "      <td>36.0</td>\n",
       "    </tr>\n",
       "    <tr>\n",
       "      <th>134</th>\n",
       "      <td>sushiske</td>\n",
       "      <td>sushiske</td>\n",
       "      <td>4</td>\n",
       "      <td>2</td>\n",
       "      <td>6</td>\n",
       "      <td>67.0</td>\n",
       "    </tr>\n",
       "    <tr>\n",
       "      <th>135</th>\n",
       "      <td>Cabalasp</td>\n",
       "      <td>Andrew Robinson</td>\n",
       "      <td>3</td>\n",
       "      <td>3</td>\n",
       "      <td>6</td>\n",
       "      <td>50.0</td>\n",
       "    </tr>\n",
       "    <tr>\n",
       "      <th>136</th>\n",
       "      <td>EricSlashGreg</td>\n",
       "      <td>Eric Benson</td>\n",
       "      <td>3</td>\n",
       "      <td>6</td>\n",
       "      <td>9</td>\n",
       "      <td>33.0</td>\n",
       "    </tr>\n",
       "    <tr>\n",
       "      <th>137</th>\n",
       "      <td>Hito</td>\n",
       "      <td>Michael Kochis</td>\n",
       "      <td>3</td>\n",
       "      <td>3</td>\n",
       "      <td>6</td>\n",
       "      <td>50.0</td>\n",
       "    </tr>\n",
       "    <tr>\n",
       "      <th>138</th>\n",
       "      <td>Jessazin</td>\n",
       "      <td>Jesse Chasson</td>\n",
       "      <td>3</td>\n",
       "      <td>2</td>\n",
       "      <td>5</td>\n",
       "      <td>60.0</td>\n",
       "    </tr>\n",
       "    <tr>\n",
       "      <th>139</th>\n",
       "      <td>JunkTier</td>\n",
       "      <td>Brendan Cevasco</td>\n",
       "      <td>3</td>\n",
       "      <td>3</td>\n",
       "      <td>6</td>\n",
       "      <td>50.0</td>\n",
       "    </tr>\n",
       "    <tr>\n",
       "      <th>140</th>\n",
       "      <td>Karatedom</td>\n",
       "      <td>Dominick Paolercio</td>\n",
       "      <td>3</td>\n",
       "      <td>3</td>\n",
       "      <td>6</td>\n",
       "      <td>50.0</td>\n",
       "    </tr>\n",
       "    <tr>\n",
       "      <th>141</th>\n",
       "      <td>Lampalot</td>\n",
       "      <td>Michael Bonde</td>\n",
       "      <td>3</td>\n",
       "      <td>5</td>\n",
       "      <td>8</td>\n",
       "      <td>38.0</td>\n",
       "    </tr>\n",
       "    <tr>\n",
       "      <th>142</th>\n",
       "      <td>MTGOSaturn</td>\n",
       "      <td>MTGO Saturn</td>\n",
       "      <td>3</td>\n",
       "      <td>3</td>\n",
       "      <td>6</td>\n",
       "      <td>50.0</td>\n",
       "    </tr>\n",
       "    <tr>\n",
       "      <th>143</th>\n",
       "      <td>MikeBrillIOH</td>\n",
       "      <td>Mike Brill</td>\n",
       "      <td>3</td>\n",
       "      <td>3</td>\n",
       "      <td>6</td>\n",
       "      <td>50.0</td>\n",
       "    </tr>\n",
       "    <tr>\n",
       "      <th>144</th>\n",
       "      <td>Mzfroste</td>\n",
       "      <td>Topher Stitson</td>\n",
       "      <td>3</td>\n",
       "      <td>2</td>\n",
       "      <td>5</td>\n",
       "      <td>60.0</td>\n",
       "    </tr>\n",
       "    <tr>\n",
       "      <th>145</th>\n",
       "      <td>RealUlysse</td>\n",
       "      <td>Ulysse Gagnon Paradis</td>\n",
       "      <td>3</td>\n",
       "      <td>3</td>\n",
       "      <td>6</td>\n",
       "      <td>50.0</td>\n",
       "    </tr>\n",
       "    <tr>\n",
       "      <th>146</th>\n",
       "      <td>TSpain</td>\n",
       "      <td>TSpain</td>\n",
       "      <td>3</td>\n",
       "      <td>6</td>\n",
       "      <td>9</td>\n",
       "      <td>33.0</td>\n",
       "    </tr>\n",
       "    <tr>\n",
       "      <th>147</th>\n",
       "      <td>VTCLA</td>\n",
       "      <td>Baker Neenan</td>\n",
       "      <td>3</td>\n",
       "      <td>3</td>\n",
       "      <td>6</td>\n",
       "      <td>50.0</td>\n",
       "    </tr>\n",
       "    <tr>\n",
       "      <th>148</th>\n",
       "      <td>VinceFerraiuolo</td>\n",
       "      <td>Vince Ferraiuolo</td>\n",
       "      <td>3</td>\n",
       "      <td>3</td>\n",
       "      <td>6</td>\n",
       "      <td>50.0</td>\n",
       "    </tr>\n",
       "    <tr>\n",
       "      <th>149</th>\n",
       "      <td>WailordShark</td>\n",
       "      <td>Russell Smith</td>\n",
       "      <td>3</td>\n",
       "      <td>5</td>\n",
       "      <td>8</td>\n",
       "      <td>38.0</td>\n",
       "    </tr>\n",
       "    <tr>\n",
       "      <th>150</th>\n",
       "      <td>Yumcheuk</td>\n",
       "      <td>Christophe Vaugeois</td>\n",
       "      <td>3</td>\n",
       "      <td>3</td>\n",
       "      <td>6</td>\n",
       "      <td>50.0</td>\n",
       "    </tr>\n",
       "    <tr>\n",
       "      <th>151</th>\n",
       "      <td>bradcaulien</td>\n",
       "      <td>Brad Caulien</td>\n",
       "      <td>3</td>\n",
       "      <td>3</td>\n",
       "      <td>6</td>\n",
       "      <td>50.0</td>\n",
       "    </tr>\n",
       "    <tr>\n",
       "      <th>152</th>\n",
       "      <td>iBroadband</td>\n",
       "      <td>Alexander Gimmi</td>\n",
       "      <td>3</td>\n",
       "      <td>3</td>\n",
       "      <td>6</td>\n",
       "      <td>50.0</td>\n",
       "    </tr>\n",
       "    <tr>\n",
       "      <th>153</th>\n",
       "      <td>lokonat0r</td>\n",
       "      <td>Lars Rosengren</td>\n",
       "      <td>3</td>\n",
       "      <td>3</td>\n",
       "      <td>6</td>\n",
       "      <td>50.0</td>\n",
       "    </tr>\n",
       "    <tr>\n",
       "      <th>154</th>\n",
       "      <td>njso18</td>\n",
       "      <td>Nick Owen</td>\n",
       "      <td>3</td>\n",
       "      <td>2</td>\n",
       "      <td>5</td>\n",
       "      <td>60.0</td>\n",
       "    </tr>\n",
       "    <tr>\n",
       "      <th>155</th>\n",
       "      <td>slatorade</td>\n",
       "      <td>Slater Claudel</td>\n",
       "      <td>3</td>\n",
       "      <td>5</td>\n",
       "      <td>8</td>\n",
       "      <td>38.0</td>\n",
       "    </tr>\n",
       "    <tr>\n",
       "      <th>156</th>\n",
       "      <td>AshesAshes</td>\n",
       "      <td>Aidan Johnson</td>\n",
       "      <td>2</td>\n",
       "      <td>2</td>\n",
       "      <td>4</td>\n",
       "      <td>50.0</td>\n",
       "    </tr>\n",
       "    <tr>\n",
       "      <th>157</th>\n",
       "      <td>Burnt_Ramen</td>\n",
       "      <td>Case Johnson</td>\n",
       "      <td>2</td>\n",
       "      <td>4</td>\n",
       "      <td>6</td>\n",
       "      <td>33.0</td>\n",
       "    </tr>\n",
       "    <tr>\n",
       "      <th>158</th>\n",
       "      <td>Cryptomancerrb</td>\n",
       "      <td>Rowan BK</td>\n",
       "      <td>2</td>\n",
       "      <td>3</td>\n",
       "      <td>5</td>\n",
       "      <td>40.0</td>\n",
       "    </tr>\n",
       "    <tr>\n",
       "      <th>159</th>\n",
       "      <td>DeftJackal</td>\n",
       "      <td>James Lloyd</td>\n",
       "      <td>2</td>\n",
       "      <td>4</td>\n",
       "      <td>6</td>\n",
       "      <td>33.0</td>\n",
       "    </tr>\n",
       "    <tr>\n",
       "      <th>160</th>\n",
       "      <td>DrawCardsWinGames</td>\n",
       "      <td>Sam Loprete</td>\n",
       "      <td>2</td>\n",
       "      <td>5</td>\n",
       "      <td>7</td>\n",
       "      <td>29.0</td>\n",
       "    </tr>\n",
       "    <tr>\n",
       "      <th>161</th>\n",
       "      <td>Elf_Kicker</td>\n",
       "      <td>Jason Moon</td>\n",
       "      <td>2</td>\n",
       "      <td>4</td>\n",
       "      <td>6</td>\n",
       "      <td>33.0</td>\n",
       "    </tr>\n",
       "    <tr>\n",
       "      <th>162</th>\n",
       "      <td>Em_TeeGee</td>\n",
       "      <td>Emma Handy</td>\n",
       "      <td>2</td>\n",
       "      <td>2</td>\n",
       "      <td>4</td>\n",
       "      <td>50.0</td>\n",
       "    </tr>\n",
       "    <tr>\n",
       "      <th>163</th>\n",
       "      <td>Goloom92</td>\n",
       "      <td>Nicholas Paquette</td>\n",
       "      <td>2</td>\n",
       "      <td>7</td>\n",
       "      <td>9</td>\n",
       "      <td>22.0</td>\n",
       "    </tr>\n",
       "    <tr>\n",
       "      <th>164</th>\n",
       "      <td>JDM83</td>\n",
       "      <td>Jack Morehead</td>\n",
       "      <td>2</td>\n",
       "      <td>4</td>\n",
       "      <td>6</td>\n",
       "      <td>33.0</td>\n",
       "    </tr>\n",
       "    <tr>\n",
       "      <th>165</th>\n",
       "      <td>Limdewell</td>\n",
       "      <td>LimDewell 1</td>\n",
       "      <td>2</td>\n",
       "      <td>3</td>\n",
       "      <td>5</td>\n",
       "      <td>40.0</td>\n",
       "    </tr>\n",
       "    <tr>\n",
       "      <th>166</th>\n",
       "      <td>MMajors</td>\n",
       "      <td>Michael Majors</td>\n",
       "      <td>2</td>\n",
       "      <td>2</td>\n",
       "      <td>4</td>\n",
       "      <td>50.0</td>\n",
       "    </tr>\n",
       "    <tr>\n",
       "      <th>167</th>\n",
       "      <td>NazSmith</td>\n",
       "      <td>Steven Nelson</td>\n",
       "      <td>2</td>\n",
       "      <td>3</td>\n",
       "      <td>5</td>\n",
       "      <td>40.0</td>\n",
       "    </tr>\n",
       "    <tr>\n",
       "      <th>168</th>\n",
       "      <td>Nknox</td>\n",
       "      <td>Nathaniel Knox</td>\n",
       "      <td>2</td>\n",
       "      <td>2</td>\n",
       "      <td>4</td>\n",
       "      <td>50.0</td>\n",
       "    </tr>\n",
       "    <tr>\n",
       "      <th>169</th>\n",
       "      <td>QuiGonDJinn</td>\n",
       "      <td>Mitch Sachs</td>\n",
       "      <td>2</td>\n",
       "      <td>6</td>\n",
       "      <td>8</td>\n",
       "      <td>25.0</td>\n",
       "    </tr>\n",
       "    <tr>\n",
       "      <th>170</th>\n",
       "      <td>Rayyn</td>\n",
       "      <td>Jonathan Ahrens</td>\n",
       "      <td>2</td>\n",
       "      <td>4</td>\n",
       "      <td>6</td>\n",
       "      <td>33.0</td>\n",
       "    </tr>\n",
       "    <tr>\n",
       "      <th>171</th>\n",
       "      <td>Sherwinator</td>\n",
       "      <td>Steven Sherwin</td>\n",
       "      <td>2</td>\n",
       "      <td>2</td>\n",
       "      <td>4</td>\n",
       "      <td>50.0</td>\n",
       "    </tr>\n",
       "    <tr>\n",
       "      <th>172</th>\n",
       "      <td>WhiteFaces</td>\n",
       "      <td>Callum Smith</td>\n",
       "      <td>2</td>\n",
       "      <td>3</td>\n",
       "      <td>5</td>\n",
       "      <td>40.0</td>\n",
       "    </tr>\n",
       "    <tr>\n",
       "      <th>173</th>\n",
       "      <td>bbqpork</td>\n",
       "      <td>Gavin Bennett</td>\n",
       "      <td>2</td>\n",
       "      <td>3</td>\n",
       "      <td>5</td>\n",
       "      <td>40.0</td>\n",
       "    </tr>\n",
       "    <tr>\n",
       "      <th>174</th>\n",
       "      <td>dionykos</td>\n",
       "      <td>Nicolas Genieis</td>\n",
       "      <td>2</td>\n",
       "      <td>2</td>\n",
       "      <td>4</td>\n",
       "      <td>50.0</td>\n",
       "    </tr>\n",
       "    <tr>\n",
       "      <th>175</th>\n",
       "      <td>hfang</td>\n",
       "      <td>Harrison Fang</td>\n",
       "      <td>2</td>\n",
       "      <td>3</td>\n",
       "      <td>5</td>\n",
       "      <td>40.0</td>\n",
       "    </tr>\n",
       "    <tr>\n",
       "      <th>176</th>\n",
       "      <td>kanedaly23</td>\n",
       "      <td>kane daly</td>\n",
       "      <td>2</td>\n",
       "      <td>4</td>\n",
       "      <td>6</td>\n",
       "      <td>33.0</td>\n",
       "    </tr>\n",
       "    <tr>\n",
       "      <th>177</th>\n",
       "      <td>mustbenice</td>\n",
       "      <td>Kasey Jarvis</td>\n",
       "      <td>2</td>\n",
       "      <td>5</td>\n",
       "      <td>7</td>\n",
       "      <td>29.0</td>\n",
       "    </tr>\n",
       "    <tr>\n",
       "      <th>178</th>\n",
       "      <td>pantaloons</td>\n",
       "      <td>David Tardif</td>\n",
       "      <td>2</td>\n",
       "      <td>3</td>\n",
       "      <td>5</td>\n",
       "      <td>40.0</td>\n",
       "    </tr>\n",
       "    <tr>\n",
       "      <th>179</th>\n",
       "      <td>shan3</td>\n",
       "      <td>Shane Remelt</td>\n",
       "      <td>2</td>\n",
       "      <td>2</td>\n",
       "      <td>4</td>\n",
       "      <td>50.0</td>\n",
       "    </tr>\n",
       "    <tr>\n",
       "      <th>180</th>\n",
       "      <td>swiftwarkite2</td>\n",
       "      <td>Ethan BROWN</td>\n",
       "      <td>2</td>\n",
       "      <td>3</td>\n",
       "      <td>5</td>\n",
       "      <td>40.0</td>\n",
       "    </tr>\n",
       "    <tr>\n",
       "      <th>181</th>\n",
       "      <td>tashizm</td>\n",
       "      <td>Benjamin Tash</td>\n",
       "      <td>2</td>\n",
       "      <td>2</td>\n",
       "      <td>4</td>\n",
       "      <td>50.0</td>\n",
       "    </tr>\n",
       "    <tr>\n",
       "      <th>182</th>\n",
       "      <td>xaraz202</td>\n",
       "      <td>Bobby Fitzgerald</td>\n",
       "      <td>2</td>\n",
       "      <td>3</td>\n",
       "      <td>5</td>\n",
       "      <td>40.0</td>\n",
       "    </tr>\n",
       "    <tr>\n",
       "      <th>183</th>\n",
       "      <td>yoman5</td>\n",
       "      <td>Adam Hernandez</td>\n",
       "      <td>2</td>\n",
       "      <td>2</td>\n",
       "      <td>4</td>\n",
       "      <td>50.0</td>\n",
       "    </tr>\n",
       "    <tr>\n",
       "      <th>184</th>\n",
       "      <td>AJV20</td>\n",
       "      <td>Anthony Valentine</td>\n",
       "      <td>1</td>\n",
       "      <td>3</td>\n",
       "      <td>4</td>\n",
       "      <td>25.0</td>\n",
       "    </tr>\n",
       "    <tr>\n",
       "      <th>185</th>\n",
       "      <td>Abombdiggity</td>\n",
       "      <td>Adam Wallace</td>\n",
       "      <td>1</td>\n",
       "      <td>2</td>\n",
       "      <td>3</td>\n",
       "      <td>33.0</td>\n",
       "    </tr>\n",
       "    <tr>\n",
       "      <th>186</th>\n",
       "      <td>Bmchafa</td>\n",
       "      <td>Bmchafa</td>\n",
       "      <td>1</td>\n",
       "      <td>2</td>\n",
       "      <td>3</td>\n",
       "      <td>33.0</td>\n",
       "    </tr>\n",
       "    <tr>\n",
       "      <th>187</th>\n",
       "      <td>DismalToken</td>\n",
       "      <td>Dalton Mekis</td>\n",
       "      <td>1</td>\n",
       "      <td>7</td>\n",
       "      <td>8</td>\n",
       "      <td>13.0</td>\n",
       "    </tr>\n",
       "    <tr>\n",
       "      <th>188</th>\n",
       "      <td>Flakle</td>\n",
       "      <td>John Radcliffe</td>\n",
       "      <td>1</td>\n",
       "      <td>5</td>\n",
       "      <td>6</td>\n",
       "      <td>17.0</td>\n",
       "    </tr>\n",
       "    <tr>\n",
       "      <th>189</th>\n",
       "      <td>Frumpenpuff</td>\n",
       "      <td>Jason Lewis</td>\n",
       "      <td>1</td>\n",
       "      <td>4</td>\n",
       "      <td>5</td>\n",
       "      <td>20.0</td>\n",
       "    </tr>\n",
       "    <tr>\n",
       "      <th>190</th>\n",
       "      <td>GeneralSmallChild</td>\n",
       "      <td>AJ Kerrigan</td>\n",
       "      <td>1</td>\n",
       "      <td>3</td>\n",
       "      <td>4</td>\n",
       "      <td>25.0</td>\n",
       "    </tr>\n",
       "    <tr>\n",
       "      <th>191</th>\n",
       "      <td>Ja3k</td>\n",
       "      <td>Jake Koenig</td>\n",
       "      <td>1</td>\n",
       "      <td>2</td>\n",
       "      <td>3</td>\n",
       "      <td>33.0</td>\n",
       "    </tr>\n",
       "    <tr>\n",
       "      <th>192</th>\n",
       "      <td>JustJoe</td>\n",
       "      <td>Joe Pampalon</td>\n",
       "      <td>1</td>\n",
       "      <td>3</td>\n",
       "      <td>4</td>\n",
       "      <td>25.0</td>\n",
       "    </tr>\n",
       "    <tr>\n",
       "      <th>193</th>\n",
       "      <td>Kaleidocops</td>\n",
       "      <td>Kaleidocops</td>\n",
       "      <td>1</td>\n",
       "      <td>5</td>\n",
       "      <td>6</td>\n",
       "      <td>17.0</td>\n",
       "    </tr>\n",
       "    <tr>\n",
       "      <th>194</th>\n",
       "      <td>Laurentt</td>\n",
       "      <td>Darryl Hill</td>\n",
       "      <td>1</td>\n",
       "      <td>2</td>\n",
       "      <td>3</td>\n",
       "      <td>33.0</td>\n",
       "    </tr>\n",
       "    <tr>\n",
       "      <th>195</th>\n",
       "      <td>Mhurley</td>\n",
       "      <td>Matt Hurley</td>\n",
       "      <td>1</td>\n",
       "      <td>2</td>\n",
       "      <td>3</td>\n",
       "      <td>33.0</td>\n",
       "    </tr>\n",
       "    <tr>\n",
       "      <th>196</th>\n",
       "      <td>Mic_Biron</td>\n",
       "      <td>Michael Boissonneault-Biron</td>\n",
       "      <td>1</td>\n",
       "      <td>2</td>\n",
       "      <td>3</td>\n",
       "      <td>33.0</td>\n",
       "    </tr>\n",
       "    <tr>\n",
       "      <th>197</th>\n",
       "      <td>Punted_Wumpus</td>\n",
       "      <td>ian heinig</td>\n",
       "      <td>1</td>\n",
       "      <td>2</td>\n",
       "      <td>3</td>\n",
       "      <td>33.0</td>\n",
       "    </tr>\n",
       "    <tr>\n",
       "      <th>198</th>\n",
       "      <td>Scudzworth</td>\n",
       "      <td>jeffrey fernandes</td>\n",
       "      <td>1</td>\n",
       "      <td>9</td>\n",
       "      <td>10</td>\n",
       "      <td>10.0</td>\n",
       "    </tr>\n",
       "    <tr>\n",
       "      <th>199</th>\n",
       "      <td>ShirKahn</td>\n",
       "      <td>Nico Bohny</td>\n",
       "      <td>1</td>\n",
       "      <td>2</td>\n",
       "      <td>3</td>\n",
       "      <td>33.0</td>\n",
       "    </tr>\n",
       "    <tr>\n",
       "      <th>200</th>\n",
       "      <td>StaticGripped</td>\n",
       "      <td>David Lance</td>\n",
       "      <td>1</td>\n",
       "      <td>1</td>\n",
       "      <td>2</td>\n",
       "      <td>50.0</td>\n",
       "    </tr>\n",
       "    <tr>\n",
       "      <th>201</th>\n",
       "      <td>SuperCow12653</td>\n",
       "      <td>Seth Fogelsonger</td>\n",
       "      <td>1</td>\n",
       "      <td>4</td>\n",
       "      <td>5</td>\n",
       "      <td>20.0</td>\n",
       "    </tr>\n",
       "    <tr>\n",
       "      <th>202</th>\n",
       "      <td>TheBlindEternity</td>\n",
       "      <td>Logan Long</td>\n",
       "      <td>1</td>\n",
       "      <td>3</td>\n",
       "      <td>4</td>\n",
       "      <td>25.0</td>\n",
       "    </tr>\n",
       "    <tr>\n",
       "      <th>203</th>\n",
       "      <td>Yannie</td>\n",
       "      <td>David Yannarella</td>\n",
       "      <td>1</td>\n",
       "      <td>2</td>\n",
       "      <td>3</td>\n",
       "      <td>33.0</td>\n",
       "    </tr>\n",
       "    <tr>\n",
       "      <th>204</th>\n",
       "      <td>Yoshikiki</td>\n",
       "      <td>Riccardo Monico</td>\n",
       "      <td>1</td>\n",
       "      <td>3</td>\n",
       "      <td>4</td>\n",
       "      <td>25.0</td>\n",
       "    </tr>\n",
       "    <tr>\n",
       "      <th>205</th>\n",
       "      <td>angel_of_grace</td>\n",
       "      <td>angel_of_grace</td>\n",
       "      <td>1</td>\n",
       "      <td>3</td>\n",
       "      <td>4</td>\n",
       "      <td>25.0</td>\n",
       "    </tr>\n",
       "    <tr>\n",
       "      <th>206</th>\n",
       "      <td>arturas</td>\n",
       "      <td>mitchell castaldini</td>\n",
       "      <td>1</td>\n",
       "      <td>3</td>\n",
       "      <td>4</td>\n",
       "      <td>25.0</td>\n",
       "    </tr>\n",
       "    <tr>\n",
       "      <th>207</th>\n",
       "      <td>azax</td>\n",
       "      <td>Aryeh Zax</td>\n",
       "      <td>1</td>\n",
       "      <td>2</td>\n",
       "      <td>3</td>\n",
       "      <td>33.0</td>\n",
       "    </tr>\n",
       "    <tr>\n",
       "      <th>208</th>\n",
       "      <td>esol927</td>\n",
       "      <td>Ethan Solomon</td>\n",
       "      <td>1</td>\n",
       "      <td>2</td>\n",
       "      <td>3</td>\n",
       "      <td>33.0</td>\n",
       "    </tr>\n",
       "    <tr>\n",
       "      <th>209</th>\n",
       "      <td>evankraabel</td>\n",
       "      <td>evankraabel</td>\n",
       "      <td>1</td>\n",
       "      <td>3</td>\n",
       "      <td>4</td>\n",
       "      <td>25.0</td>\n",
       "    </tr>\n",
       "    <tr>\n",
       "      <th>210</th>\n",
       "      <td>fear_these</td>\n",
       "      <td>Charles Sears</td>\n",
       "      <td>1</td>\n",
       "      <td>3</td>\n",
       "      <td>4</td>\n",
       "      <td>25.0</td>\n",
       "    </tr>\n",
       "    <tr>\n",
       "      <th>211</th>\n",
       "      <td>hibananafish</td>\n",
       "      <td>Montse Garcia Ayensa</td>\n",
       "      <td>1</td>\n",
       "      <td>4</td>\n",
       "      <td>5</td>\n",
       "      <td>20.0</td>\n",
       "    </tr>\n",
       "    <tr>\n",
       "      <th>212</th>\n",
       "      <td>izzet_blissful</td>\n",
       "      <td>Callum Singleton</td>\n",
       "      <td>1</td>\n",
       "      <td>3</td>\n",
       "      <td>4</td>\n",
       "      <td>25.0</td>\n",
       "    </tr>\n",
       "    <tr>\n",
       "      <th>213</th>\n",
       "      <td>luinil</td>\n",
       "      <td>Jason Murray</td>\n",
       "      <td>1</td>\n",
       "      <td>6</td>\n",
       "      <td>7</td>\n",
       "      <td>14.0</td>\n",
       "    </tr>\n",
       "    <tr>\n",
       "      <th>214</th>\n",
       "      <td>notmi</td>\n",
       "      <td>Austin Pipp</td>\n",
       "      <td>1</td>\n",
       "      <td>3</td>\n",
       "      <td>4</td>\n",
       "      <td>25.0</td>\n",
       "    </tr>\n",
       "    <tr>\n",
       "      <th>215</th>\n",
       "      <td>rancid</td>\n",
       "      <td>Markku Rikola</td>\n",
       "      <td>1</td>\n",
       "      <td>3</td>\n",
       "      <td>4</td>\n",
       "      <td>25.0</td>\n",
       "    </tr>\n",
       "    <tr>\n",
       "      <th>216</th>\n",
       "      <td>spicychicken420</td>\n",
       "      <td>Erik Bertelsen</td>\n",
       "      <td>1</td>\n",
       "      <td>2</td>\n",
       "      <td>3</td>\n",
       "      <td>33.0</td>\n",
       "    </tr>\n",
       "    <tr>\n",
       "      <th>217</th>\n",
       "      <td>trappedunderice</td>\n",
       "      <td>Kyle Koeppe</td>\n",
       "      <td>1</td>\n",
       "      <td>3</td>\n",
       "      <td>4</td>\n",
       "      <td>25.0</td>\n",
       "    </tr>\n",
       "    <tr>\n",
       "      <th>218</th>\n",
       "      <td>1mrlee</td>\n",
       "      <td>LEE HUNG NGUYEN</td>\n",
       "      <td>0</td>\n",
       "      <td>4</td>\n",
       "      <td>4</td>\n",
       "      <td>0.0</td>\n",
       "    </tr>\n",
       "    <tr>\n",
       "      <th>219</th>\n",
       "      <td>AmersonAvenger</td>\n",
       "      <td>Mason Gray</td>\n",
       "      <td>0</td>\n",
       "      <td>2</td>\n",
       "      <td>2</td>\n",
       "      <td>0.0</td>\n",
       "    </tr>\n",
       "    <tr>\n",
       "      <th>220</th>\n",
       "      <td>ArcticWalrus</td>\n",
       "      <td>Malcolm St. John</td>\n",
       "      <td>0</td>\n",
       "      <td>2</td>\n",
       "      <td>2</td>\n",
       "      <td>0.0</td>\n",
       "    </tr>\n",
       "    <tr>\n",
       "      <th>221</th>\n",
       "      <td>Astrotech</td>\n",
       "      <td>Arthur Reynolds</td>\n",
       "      <td>0</td>\n",
       "      <td>2</td>\n",
       "      <td>2</td>\n",
       "      <td>0.0</td>\n",
       "    </tr>\n",
       "    <tr>\n",
       "      <th>222</th>\n",
       "      <td>Bel_the_oracle</td>\n",
       "      <td>Bel Robelen</td>\n",
       "      <td>0</td>\n",
       "      <td>1</td>\n",
       "      <td>1</td>\n",
       "      <td>0.0</td>\n",
       "    </tr>\n",
       "    <tr>\n",
       "      <th>223</th>\n",
       "      <td>Broboat</td>\n",
       "      <td>Sean Rowe</td>\n",
       "      <td>0</td>\n",
       "      <td>2</td>\n",
       "      <td>2</td>\n",
       "      <td>0.0</td>\n",
       "    </tr>\n",
       "    <tr>\n",
       "      <th>224</th>\n",
       "      <td>ChaseMasters</td>\n",
       "      <td>Chase Masters</td>\n",
       "      <td>0</td>\n",
       "      <td>1</td>\n",
       "      <td>1</td>\n",
       "      <td>0.0</td>\n",
       "    </tr>\n",
       "    <tr>\n",
       "      <th>225</th>\n",
       "      <td>ClassZClown</td>\n",
       "      <td>Zachery Byrd</td>\n",
       "      <td>0</td>\n",
       "      <td>2</td>\n",
       "      <td>2</td>\n",
       "      <td>0.0</td>\n",
       "    </tr>\n",
       "    <tr>\n",
       "      <th>226</th>\n",
       "      <td>Dewbz</td>\n",
       "      <td>Dilon Dubyk</td>\n",
       "      <td>0</td>\n",
       "      <td>2</td>\n",
       "      <td>2</td>\n",
       "      <td>0.0</td>\n",
       "    </tr>\n",
       "    <tr>\n",
       "      <th>227</th>\n",
       "      <td>DysposableHero</td>\n",
       "      <td>Kyle Norman</td>\n",
       "      <td>0</td>\n",
       "      <td>2</td>\n",
       "      <td>2</td>\n",
       "      <td>0.0</td>\n",
       "    </tr>\n",
       "    <tr>\n",
       "      <th>228</th>\n",
       "      <td>FenrirFangs</td>\n",
       "      <td>Derick Brobst</td>\n",
       "      <td>0</td>\n",
       "      <td>2</td>\n",
       "      <td>2</td>\n",
       "      <td>0.0</td>\n",
       "    </tr>\n",
       "    <tr>\n",
       "      <th>229</th>\n",
       "      <td>FerranRelat</td>\n",
       "      <td>Ferran Relat</td>\n",
       "      <td>0</td>\n",
       "      <td>3</td>\n",
       "      <td>3</td>\n",
       "      <td>0.0</td>\n",
       "    </tr>\n",
       "    <tr>\n",
       "      <th>230</th>\n",
       "      <td>IanKleinMTG</td>\n",
       "      <td>Ian Klein</td>\n",
       "      <td>0</td>\n",
       "      <td>2</td>\n",
       "      <td>2</td>\n",
       "      <td>0.0</td>\n",
       "    </tr>\n",
       "    <tr>\n",
       "      <th>231</th>\n",
       "      <td>JeremyJung</td>\n",
       "      <td>Jeremy Jung</td>\n",
       "      <td>0</td>\n",
       "      <td>2</td>\n",
       "      <td>2</td>\n",
       "      <td>0.0</td>\n",
       "    </tr>\n",
       "    <tr>\n",
       "      <th>232</th>\n",
       "      <td>Larryfields1990</td>\n",
       "      <td>Larry Fields</td>\n",
       "      <td>0</td>\n",
       "      <td>1</td>\n",
       "      <td>1</td>\n",
       "      <td>0.0</td>\n",
       "    </tr>\n",
       "    <tr>\n",
       "      <th>233</th>\n",
       "      <td>LotsOfLavaLamps</td>\n",
       "      <td>Oliver Black</td>\n",
       "      <td>0</td>\n",
       "      <td>1</td>\n",
       "      <td>1</td>\n",
       "      <td>0.0</td>\n",
       "    </tr>\n",
       "    <tr>\n",
       "      <th>234</th>\n",
       "      <td>MTGMarmot</td>\n",
       "      <td>Fergus Bolton</td>\n",
       "      <td>0</td>\n",
       "      <td>2</td>\n",
       "      <td>2</td>\n",
       "      <td>0.0</td>\n",
       "    </tr>\n",
       "    <tr>\n",
       "      <th>235</th>\n",
       "      <td>NainFeroce</td>\n",
       "      <td>Sébastien Perron</td>\n",
       "      <td>0</td>\n",
       "      <td>1</td>\n",
       "      <td>1</td>\n",
       "      <td>0.0</td>\n",
       "    </tr>\n",
       "    <tr>\n",
       "      <th>236</th>\n",
       "      <td>NathanLipetz</td>\n",
       "      <td>Nathan Lipetz</td>\n",
       "      <td>0</td>\n",
       "      <td>3</td>\n",
       "      <td>3</td>\n",
       "      <td>0.0</td>\n",
       "    </tr>\n",
       "    <tr>\n",
       "      <th>237</th>\n",
       "      <td>NewBaconings</td>\n",
       "      <td>Peter Frank</td>\n",
       "      <td>0</td>\n",
       "      <td>4</td>\n",
       "      <td>4</td>\n",
       "      <td>0.0</td>\n",
       "    </tr>\n",
       "    <tr>\n",
       "      <th>238</th>\n",
       "      <td>PhysPrez</td>\n",
       "      <td>Alexandre Livernoche</td>\n",
       "      <td>0</td>\n",
       "      <td>2</td>\n",
       "      <td>2</td>\n",
       "      <td>0.0</td>\n",
       "    </tr>\n",
       "    <tr>\n",
       "      <th>239</th>\n",
       "      <td>PuertoFreakin</td>\n",
       "      <td>Chris Gonzalez</td>\n",
       "      <td>0</td>\n",
       "      <td>2</td>\n",
       "      <td>2</td>\n",
       "      <td>0.0</td>\n",
       "    </tr>\n",
       "    <tr>\n",
       "      <th>240</th>\n",
       "      <td>Smdster</td>\n",
       "      <td>Smdster</td>\n",
       "      <td>0</td>\n",
       "      <td>3</td>\n",
       "      <td>3</td>\n",
       "      <td>0.0</td>\n",
       "    </tr>\n",
       "    <tr>\n",
       "      <th>241</th>\n",
       "      <td>StevenJacobsen</td>\n",
       "      <td>Steven Jacobsen</td>\n",
       "      <td>0</td>\n",
       "      <td>1</td>\n",
       "      <td>1</td>\n",
       "      <td>0.0</td>\n",
       "    </tr>\n",
       "    <tr>\n",
       "      <th>242</th>\n",
       "      <td>TeferiMTG</td>\n",
       "      <td>Santiago Rivera</td>\n",
       "      <td>0</td>\n",
       "      <td>1</td>\n",
       "      <td>1</td>\n",
       "      <td>0.0</td>\n",
       "    </tr>\n",
       "    <tr>\n",
       "      <th>243</th>\n",
       "      <td>ThePillowFortress</td>\n",
       "      <td>Tyler Anderson</td>\n",
       "      <td>0</td>\n",
       "      <td>3</td>\n",
       "      <td>3</td>\n",
       "      <td>0.0</td>\n",
       "    </tr>\n",
       "    <tr>\n",
       "      <th>244</th>\n",
       "      <td>chevarieg</td>\n",
       "      <td>Guillaume Chevarie</td>\n",
       "      <td>0</td>\n",
       "      <td>5</td>\n",
       "      <td>5</td>\n",
       "      <td>0.0</td>\n",
       "    </tr>\n",
       "    <tr>\n",
       "      <th>245</th>\n",
       "      <td>chrpow</td>\n",
       "      <td>Chris Powell</td>\n",
       "      <td>0</td>\n",
       "      <td>2</td>\n",
       "      <td>2</td>\n",
       "      <td>0.0</td>\n",
       "    </tr>\n",
       "    <tr>\n",
       "      <th>246</th>\n",
       "      <td>cvance</td>\n",
       "      <td>Cory Vance</td>\n",
       "      <td>0</td>\n",
       "      <td>2</td>\n",
       "      <td>2</td>\n",
       "      <td>0.0</td>\n",
       "    </tr>\n",
       "    <tr>\n",
       "      <th>247</th>\n",
       "      <td>drugulubudul</td>\n",
       "      <td>Yanick Giard</td>\n",
       "      <td>0</td>\n",
       "      <td>2</td>\n",
       "      <td>2</td>\n",
       "      <td>0.0</td>\n",
       "    </tr>\n",
       "    <tr>\n",
       "      <th>248</th>\n",
       "      <td>hydrabroodmaster</td>\n",
       "      <td>emma teti</td>\n",
       "      <td>0</td>\n",
       "      <td>2</td>\n",
       "      <td>2</td>\n",
       "      <td>0.0</td>\n",
       "    </tr>\n",
       "    <tr>\n",
       "      <th>249</th>\n",
       "      <td>questionmuppet</td>\n",
       "      <td>Jason Schousboe</td>\n",
       "      <td>0</td>\n",
       "      <td>3</td>\n",
       "      <td>3</td>\n",
       "      <td>0.0</td>\n",
       "    </tr>\n",
       "    <tr>\n",
       "      <th>250</th>\n",
       "      <td>reinhardtlogan</td>\n",
       "      <td>logan reinhardt</td>\n",
       "      <td>0</td>\n",
       "      <td>2</td>\n",
       "      <td>2</td>\n",
       "      <td>0.0</td>\n",
       "    </tr>\n",
       "    <tr>\n",
       "      <th>251</th>\n",
       "      <td>rightshark</td>\n",
       "      <td>Hakeem Henson</td>\n",
       "      <td>0</td>\n",
       "      <td>2</td>\n",
       "      <td>2</td>\n",
       "      <td>0.0</td>\n",
       "    </tr>\n",
       "    <tr>\n",
       "      <th>252</th>\n",
       "      <td>samdsherman</td>\n",
       "      <td>Sam Sherman</td>\n",
       "      <td>0</td>\n",
       "      <td>2</td>\n",
       "      <td>2</td>\n",
       "      <td>0.0</td>\n",
       "    </tr>\n",
       "    <tr>\n",
       "      <th>253</th>\n",
       "      <td>theNathMEISTER</td>\n",
       "      <td>Nathaniel Quisel</td>\n",
       "      <td>0</td>\n",
       "      <td>4</td>\n",
       "      <td>4</td>\n",
       "      <td>0.0</td>\n",
       "    </tr>\n",
       "    <tr>\n",
       "      <th>254</th>\n",
       "      <td>wscottjackson</td>\n",
       "      <td>William Jackson</td>\n",
       "      <td>0</td>\n",
       "      <td>2</td>\n",
       "      <td>2</td>\n",
       "      <td>0.0</td>\n",
       "    </tr>\n",
       "  </tbody>\n",
       "</table>\n",
       "</div>"
      ],
      "text/plain": [
       "                player                         name  wins  losses  \\\n",
       "0           Juggler314                  Jack Kiefer    48      23   \n",
       "1           zach_dubin                   Zach Dubin    45      31   \n",
       "2            TESpacito                 Jamie Miller    41      30   \n",
       "3            TombSimon                Simon Nielsen    41      26   \n",
       "4          CeciliaJupe                  Ty Thomason    39      17   \n",
       "5             bparis15                  Bryan Paris    38      21   \n",
       "6          Worldwaker2               Philip Steudel    37      24   \n",
       "7               Valorj                Joshua Bausch    35      25   \n",
       "8               fabfoe                Fabian Thiele    35      30   \n",
       "9           BanjoCargo                  Jacob Nagro    32      20   \n",
       "10        AlexPoulosky                Alex Poulosky    30      26   \n",
       "11     fadetoblack1183                 Andrew Frank    30      34   \n",
       "12           DrumDevil                    Alec Levy    28      26   \n",
       "13                 pg8                   Paul Green    28      20   \n",
       "14          Alakazimdk               Anders Thiesen    27      10   \n",
       "15     ElectricSweater              Stuart Fleisher    26      23   \n",
       "16              domhrv               Dominic Harvey    26      19   \n",
       "17            Ferrando             Matthew Ferrando    25      31   \n",
       "18           alanalana                  Jess Robkin    24      21   \n",
       "19           fireshoes                Robert Taylor    22      15   \n",
       "20         greenprinny                michael smith    22      18   \n",
       "21             Shadaro             Mason Buonadonna    21      12   \n",
       "22          jaaaaabs21                  Andrew Jabs    21      14   \n",
       "23     FrostytheSnoman                 John Forsyth    19      18   \n",
       "24             thelguy                       Luca M    19      22   \n",
       "25             Massapo              Elijah Woodbury    18      18   \n",
       "26              MdvWin                Miles Voenell    18      11   \n",
       "27              1yo2yo                 Jack Cummins    17      13   \n",
       "28         Trivialriot                   Will Lowry    17      18   \n",
       "29            djbeatle                 Max Richards    17      23   \n",
       "30             faradan               Hunter Garrett    17      18   \n",
       "31      HandsomeValley                  John Slimak    16      21   \n",
       "32             Scuta04                  Koby Keller    16      11   \n",
       "33               Tsq11               Shea Strausman    16      16   \n",
       "34             bsweitz                    Ben Weitz    16       8   \n",
       "35          specialkid                Tyler Hatchel    16      12   \n",
       "36           Ranchtr33              Collin Rountree    15      12   \n",
       "37           watsonx71                Matthew Watts    15      16   \n",
       "38              mrkatz                    Matt Katz    14      14   \n",
       "39                timp                  tim pollard    14      25   \n",
       "40           Axehurdle                 Andrew Blank    13      22   \n",
       "41        Metal_Buddha                   Bryan Cole    13      13   \n",
       "42      SaborDeSoledad              Matthew Heising    13      10   \n",
       "43          SparksCoop            Cooper Livingston    13      22   \n",
       "44           adamwasmo           Adam Wasburn-Moses    13      20   \n",
       "45             popohad                 Avi Grinberg    13      15   \n",
       "46        Can_of_Chips                 Can_of_Chips    12      13   \n",
       "47         JimDavisMTG                    Jim Davis    12      11   \n",
       "48           kewentian                    Ryan Kerr    12      14   \n",
       "49            Amnesiac              Matthew Garnham    11       8   \n",
       "50         RemiFortier                 Rémi Fortier    11       3   \n",
       "51            Searzist             Jason Williamson    11       7   \n",
       "52          crazy_alex        Alexander Rosenberger    11       9   \n",
       "53           papamat25                    Matt Iles    11      17   \n",
       "54          ANDYWILSON                   ANDYWILSON    10       7   \n",
       "55      Telperionkaadu              Samantha Murphy    10      17   \n",
       "56            d00mwake              Devon O'Donnell    10       7   \n",
       "57          wingsfan24                   wingsfan24    10      13   \n",
       "58        AnarchistAbe                 Randy Larsen     9       9   \n",
       "59               DrMaD                        DrMaD     9      10   \n",
       "60         FabianKlein                 Fabian Klein     9      10   \n",
       "61               FlxEx                      Felix G     9      16   \n",
       "62             Kwestin                  Kyle Weston     9       9   \n",
       "63               L3D91                  Lev Ducenko     9      12   \n",
       "64      SamuelGraebner              Samuel Graebner     9      10   \n",
       "65              dknox5                  Daniel Knox     9       4   \n",
       "66       indianpancake              Travis Williams     9       8   \n",
       "67             klbaxxx         Bastien Perez Assael     9       4   \n",
       "68         sandydogmtg                  sandydogmtg     9       5   \n",
       "69          Borowicz50             Brandon Borowicz     8       5   \n",
       "70          BrentCohen                  Brent Cohen     8      18   \n",
       "71         MoxSquirrel              Steven Stierman     8       8   \n",
       "72             Nephtyz                Stefan Jacobs     8       5   \n",
       "73                TISH                Isaac Sherman     8       4   \n",
       "74             Xenoneb                      Xenoneb     8      11   \n",
       "75           killersuv  Mciahel DeBenedetto-Plummer     8       4   \n",
       "76       EldraziWinter                Cameron Eaton     7       9   \n",
       "77         Hologram001            Grant Christopher     7      14   \n",
       "78                 JMM            Jan-Moritz Merkel     7       7   \n",
       "79           Kalamence                 Ryan Sheehan     7       8   \n",
       "80          PTarts2win                   PTarts2win     7       2   \n",
       "81          Pethanator                   Ethan King     7       8   \n",
       "82        PhoenixFlame                Anna Heggerud     7      10   \n",
       "83           Sunbird17                Lydia Aldrich     7      20   \n",
       "84          eappleton1                Evan Appleton     7       2   \n",
       "85            jarvisyu                    Jarvis Yu     7       4   \n",
       "86              Boofra              Benjamin Briggs     6       1   \n",
       "87         DuelmasterJ                   Joe Schram     6       9   \n",
       "88        TheBigSmooth                Collin Holson     6       4   \n",
       "89     WanderingVenser                Steven Boston     6       2   \n",
       "90    Zach_ofalltrades             Zach_ofalltrades     6       8   \n",
       "91             asihtos               Dmitri Konorev     6       5   \n",
       "92               cpata         Christopher Patalano     6       9   \n",
       "93           fr0z3nsun                    Tim Hatch     6       2   \n",
       "94     pistols4pandas5                    Ian Carle     6       7   \n",
       "95          redryansox                  Ryan Condon     6       6   \n",
       "96         BalexBelson                  Alex Nelson     5       2   \n",
       "97     DreamingofDucks                  Albert Hahn     5       5   \n",
       "98           HarryCook                   Harry Cook     5       7   \n",
       "99            IGotDead               Victoria McCoy     5      10   \n",
       "100       IslandGoSAMe                    Sam Bogue     5       4   \n",
       "101        KhanofDakir             Aleksandar Dakic     5       2   \n",
       "102         ManicAxiom                 Josef Welbes     5       2   \n",
       "103            Mazemtg                 Oliver Frith     5       2   \n",
       "104         Stroodle43               Austin Herrick     5       6   \n",
       "105          Terragoth                    Dan Gluck     5       8   \n",
       "106                Wub             Aaron Cunningham     5       5   \n",
       "107              armlx                      Ari Lax     5       3   \n",
       "108              awebb                  Andrew Webb     5       6   \n",
       "109          e_mouchet               Martin KRAWIES     5       3   \n",
       "110          einbrick1                   Eric Baker     5       5   \n",
       "111             louigi                       louigi     5       2   \n",
       "112       mlgskeletons               Ryan Brozovich     5       2   \n",
       "113          mtgpirate                 Quinn Kiefer     5       7   \n",
       "114       nathansteuer                Nathan Steuer     5       2   \n",
       "115           oppodump             Cameron Sullivan     5       7   \n",
       "116             tobyr6                  Tobias Roos     5       2   \n",
       "117      ElasticSalmon                 Keith Murray     4       6   \n",
       "118        GhostEmpire               Markus Thibeau     4       2   \n",
       "119          Liam_mtgo                 Liam Cahalan     4       5   \n",
       "120               Ma7x               Maxim Bélanger     4       3   \n",
       "121         Masongrode                  Mason Grode     4       7   \n",
       "122             Raydan               Richard Nguyen     4       2   \n",
       "123          Slasher21                  Ryan Haddad     4       3   \n",
       "124           Stompy45                     Stompy45     4       8   \n",
       "125             Zlaxen                   Zach Laxen     4       4   \n",
       "126        baiburqueno          Christopher Clawson     4       3   \n",
       "127          bakedkale                  Qail Shivji     4       2   \n",
       "128         chauckster              Christian Hauck     4       3   \n",
       "129             demian             Vincent Adinolfi     4       2   \n",
       "130            hex1206                Marvin Thomas     4       8   \n",
       "131        krazylawlko                remi bouchard     4       2   \n",
       "132          phattemer               Peter Hattemer     4       2   \n",
       "133            raisans                 Blair Splett     4       7   \n",
       "134           sushiske                     sushiske     4       2   \n",
       "135           Cabalasp              Andrew Robinson     3       3   \n",
       "136      EricSlashGreg                  Eric Benson     3       6   \n",
       "137               Hito               Michael Kochis     3       3   \n",
       "138           Jessazin                Jesse Chasson     3       2   \n",
       "139           JunkTier              Brendan Cevasco     3       3   \n",
       "140          Karatedom           Dominick Paolercio     3       3   \n",
       "141           Lampalot                Michael Bonde     3       5   \n",
       "142         MTGOSaturn                  MTGO Saturn     3       3   \n",
       "143       MikeBrillIOH                   Mike Brill     3       3   \n",
       "144           Mzfroste               Topher Stitson     3       2   \n",
       "145         RealUlysse        Ulysse Gagnon Paradis     3       3   \n",
       "146             TSpain                       TSpain     3       6   \n",
       "147              VTCLA                 Baker Neenan     3       3   \n",
       "148    VinceFerraiuolo             Vince Ferraiuolo     3       3   \n",
       "149       WailordShark                Russell Smith     3       5   \n",
       "150           Yumcheuk          Christophe Vaugeois     3       3   \n",
       "151        bradcaulien                 Brad Caulien     3       3   \n",
       "152         iBroadband              Alexander Gimmi     3       3   \n",
       "153          lokonat0r               Lars Rosengren     3       3   \n",
       "154             njso18                    Nick Owen     3       2   \n",
       "155          slatorade               Slater Claudel     3       5   \n",
       "156         AshesAshes                Aidan Johnson     2       2   \n",
       "157        Burnt_Ramen                 Case Johnson     2       4   \n",
       "158     Cryptomancerrb                     Rowan BK     2       3   \n",
       "159         DeftJackal                  James Lloyd     2       4   \n",
       "160  DrawCardsWinGames                  Sam Loprete     2       5   \n",
       "161         Elf_Kicker                   Jason Moon     2       4   \n",
       "162          Em_TeeGee                   Emma Handy     2       2   \n",
       "163           Goloom92            Nicholas Paquette     2       7   \n",
       "164              JDM83                Jack Morehead     2       4   \n",
       "165          Limdewell                  LimDewell 1     2       3   \n",
       "166            MMajors               Michael Majors     2       2   \n",
       "167           NazSmith                Steven Nelson     2       3   \n",
       "168              Nknox               Nathaniel Knox     2       2   \n",
       "169        QuiGonDJinn                  Mitch Sachs     2       6   \n",
       "170              Rayyn              Jonathan Ahrens     2       4   \n",
       "171        Sherwinator               Steven Sherwin     2       2   \n",
       "172         WhiteFaces                 Callum Smith     2       3   \n",
       "173            bbqpork                Gavin Bennett     2       3   \n",
       "174           dionykos              Nicolas Genieis     2       2   \n",
       "175              hfang                Harrison Fang     2       3   \n",
       "176         kanedaly23                    kane daly     2       4   \n",
       "177         mustbenice                 Kasey Jarvis     2       5   \n",
       "178         pantaloons                 David Tardif     2       3   \n",
       "179              shan3                 Shane Remelt     2       2   \n",
       "180      swiftwarkite2                  Ethan BROWN     2       3   \n",
       "181            tashizm                Benjamin Tash     2       2   \n",
       "182           xaraz202             Bobby Fitzgerald     2       3   \n",
       "183             yoman5               Adam Hernandez     2       2   \n",
       "184              AJV20            Anthony Valentine     1       3   \n",
       "185       Abombdiggity                 Adam Wallace     1       2   \n",
       "186            Bmchafa                      Bmchafa     1       2   \n",
       "187        DismalToken                 Dalton Mekis     1       7   \n",
       "188             Flakle               John Radcliffe     1       5   \n",
       "189        Frumpenpuff                  Jason Lewis     1       4   \n",
       "190  GeneralSmallChild                  AJ Kerrigan     1       3   \n",
       "191               Ja3k                  Jake Koenig     1       2   \n",
       "192            JustJoe                 Joe Pampalon     1       3   \n",
       "193        Kaleidocops                  Kaleidocops     1       5   \n",
       "194           Laurentt                  Darryl Hill     1       2   \n",
       "195            Mhurley                  Matt Hurley     1       2   \n",
       "196          Mic_Biron  Michael Boissonneault-Biron     1       2   \n",
       "197      Punted_Wumpus                   ian heinig     1       2   \n",
       "198         Scudzworth            jeffrey fernandes     1       9   \n",
       "199           ShirKahn                   Nico Bohny     1       2   \n",
       "200      StaticGripped                  David Lance     1       1   \n",
       "201      SuperCow12653             Seth Fogelsonger     1       4   \n",
       "202   TheBlindEternity                   Logan Long     1       3   \n",
       "203             Yannie             David Yannarella     1       2   \n",
       "204          Yoshikiki              Riccardo Monico     1       3   \n",
       "205     angel_of_grace               angel_of_grace     1       3   \n",
       "206            arturas          mitchell castaldini     1       3   \n",
       "207               azax                    Aryeh Zax     1       2   \n",
       "208            esol927                Ethan Solomon     1       2   \n",
       "209        evankraabel                  evankraabel     1       3   \n",
       "210         fear_these                Charles Sears     1       3   \n",
       "211       hibananafish         Montse Garcia Ayensa     1       4   \n",
       "212     izzet_blissful             Callum Singleton     1       3   \n",
       "213             luinil                 Jason Murray     1       6   \n",
       "214              notmi                  Austin Pipp     1       3   \n",
       "215             rancid                Markku Rikola     1       3   \n",
       "216    spicychicken420               Erik Bertelsen     1       2   \n",
       "217    trappedunderice                  Kyle Koeppe     1       3   \n",
       "218             1mrlee              LEE HUNG NGUYEN     0       4   \n",
       "219     AmersonAvenger                   Mason Gray     0       2   \n",
       "220       ArcticWalrus             Malcolm St. John     0       2   \n",
       "221          Astrotech              Arthur Reynolds     0       2   \n",
       "222     Bel_the_oracle                  Bel Robelen     0       1   \n",
       "223            Broboat                    Sean Rowe     0       2   \n",
       "224       ChaseMasters                Chase Masters     0       1   \n",
       "225        ClassZClown                 Zachery Byrd     0       2   \n",
       "226              Dewbz                  Dilon Dubyk     0       2   \n",
       "227     DysposableHero                  Kyle Norman     0       2   \n",
       "228        FenrirFangs                Derick Brobst     0       2   \n",
       "229        FerranRelat                 Ferran Relat     0       3   \n",
       "230        IanKleinMTG                    Ian Klein     0       2   \n",
       "231         JeremyJung                  Jeremy Jung     0       2   \n",
       "232    Larryfields1990                 Larry Fields     0       1   \n",
       "233    LotsOfLavaLamps                 Oliver Black     0       1   \n",
       "234          MTGMarmot                Fergus Bolton     0       2   \n",
       "235         NainFeroce             Sébastien Perron     0       1   \n",
       "236       NathanLipetz                Nathan Lipetz     0       3   \n",
       "237       NewBaconings                  Peter Frank     0       4   \n",
       "238           PhysPrez         Alexandre Livernoche     0       2   \n",
       "239      PuertoFreakin               Chris Gonzalez     0       2   \n",
       "240            Smdster                      Smdster     0       3   \n",
       "241     StevenJacobsen              Steven Jacobsen     0       1   \n",
       "242          TeferiMTG              Santiago Rivera     0       1   \n",
       "243  ThePillowFortress               Tyler Anderson     0       3   \n",
       "244          chevarieg           Guillaume Chevarie     0       5   \n",
       "245             chrpow                 Chris Powell     0       2   \n",
       "246             cvance                   Cory Vance     0       2   \n",
       "247       drugulubudul                 Yanick Giard     0       2   \n",
       "248   hydrabroodmaster                    emma teti     0       2   \n",
       "249     questionmuppet              Jason Schousboe     0       3   \n",
       "250     reinhardtlogan              logan reinhardt     0       2   \n",
       "251         rightshark                Hakeem Henson     0       2   \n",
       "252        samdsherman                  Sam Sherman     0       2   \n",
       "253     theNathMEISTER             Nathaniel Quisel     0       4   \n",
       "254      wscottjackson              William Jackson     0       2   \n",
       "\n",
       "     matches_played  win_pct  \n",
       "0                71     68.0  \n",
       "1                76     59.0  \n",
       "2                71     58.0  \n",
       "3                67     61.0  \n",
       "4                56     70.0  \n",
       "5                59     64.0  \n",
       "6                61     61.0  \n",
       "7                60     58.0  \n",
       "8                65     54.0  \n",
       "9                52     62.0  \n",
       "10               56     54.0  \n",
       "11               64     47.0  \n",
       "12               54     52.0  \n",
       "13               48     58.0  \n",
       "14               37     73.0  \n",
       "15               49     53.0  \n",
       "16               45     58.0  \n",
       "17               56     45.0  \n",
       "18               45     53.0  \n",
       "19               37     59.0  \n",
       "20               40     55.0  \n",
       "21               33     64.0  \n",
       "22               35     60.0  \n",
       "23               37     51.0  \n",
       "24               41     46.0  \n",
       "25               36     50.0  \n",
       "26               29     62.0  \n",
       "27               30     57.0  \n",
       "28               35     49.0  \n",
       "29               40     43.0  \n",
       "30               35     49.0  \n",
       "31               37     43.0  \n",
       "32               27     59.0  \n",
       "33               32     50.0  \n",
       "34               24     67.0  \n",
       "35               28     57.0  \n",
       "36               27     56.0  \n",
       "37               31     48.0  \n",
       "38               28     50.0  \n",
       "39               39     36.0  \n",
       "40               35     37.0  \n",
       "41               26     50.0  \n",
       "42               23     57.0  \n",
       "43               35     37.0  \n",
       "44               33     39.0  \n",
       "45               28     46.0  \n",
       "46               25     48.0  \n",
       "47               23     52.0  \n",
       "48               26     46.0  \n",
       "49               19     58.0  \n",
       "50               14     79.0  \n",
       "51               18     61.0  \n",
       "52               20     55.0  \n",
       "53               28     39.0  \n",
       "54               17     59.0  \n",
       "55               27     37.0  \n",
       "56               17     59.0  \n",
       "57               23     43.0  \n",
       "58               18     50.0  \n",
       "59               19     47.0  \n",
       "60               19     47.0  \n",
       "61               25     36.0  \n",
       "62               18     50.0  \n",
       "63               21     43.0  \n",
       "64               19     47.0  \n",
       "65               13     69.0  \n",
       "66               17     53.0  \n",
       "67               13     69.0  \n",
       "68               14     64.0  \n",
       "69               13     62.0  \n",
       "70               26     31.0  \n",
       "71               16     50.0  \n",
       "72               13     62.0  \n",
       "73               12     67.0  \n",
       "74               19     42.0  \n",
       "75               12     67.0  \n",
       "76               16     44.0  \n",
       "77               21     33.0  \n",
       "78               14     50.0  \n",
       "79               15     47.0  \n",
       "80                9     78.0  \n",
       "81               15     47.0  \n",
       "82               17     41.0  \n",
       "83               27     26.0  \n",
       "84                9     78.0  \n",
       "85               11     64.0  \n",
       "86                7     86.0  \n",
       "87               15     40.0  \n",
       "88               10     60.0  \n",
       "89                8     75.0  \n",
       "90               14     43.0  \n",
       "91               11     55.0  \n",
       "92               15     40.0  \n",
       "93                8     75.0  \n",
       "94               13     46.0  \n",
       "95               12     50.0  \n",
       "96                7     71.0  \n",
       "97               10     50.0  \n",
       "98               12     42.0  \n",
       "99               15     33.0  \n",
       "100               9     56.0  \n",
       "101               7     71.0  \n",
       "102               7     71.0  \n",
       "103               7     71.0  \n",
       "104              11     45.0  \n",
       "105              13     38.0  \n",
       "106              10     50.0  \n",
       "107               8     63.0  \n",
       "108              11     45.0  \n",
       "109               8     63.0  \n",
       "110              10     50.0  \n",
       "111               7     71.0  \n",
       "112               7     71.0  \n",
       "113              12     42.0  \n",
       "114               7     71.0  \n",
       "115              12     42.0  \n",
       "116               7     71.0  \n",
       "117              10     40.0  \n",
       "118               6     67.0  \n",
       "119               9     44.0  \n",
       "120               7     57.0  \n",
       "121              11     36.0  \n",
       "122               6     67.0  \n",
       "123               7     57.0  \n",
       "124              12     33.0  \n",
       "125               8     50.0  \n",
       "126               7     57.0  \n",
       "127               6     67.0  \n",
       "128               7     57.0  \n",
       "129               6     67.0  \n",
       "130              12     33.0  \n",
       "131               6     67.0  \n",
       "132               6     67.0  \n",
       "133              11     36.0  \n",
       "134               6     67.0  \n",
       "135               6     50.0  \n",
       "136               9     33.0  \n",
       "137               6     50.0  \n",
       "138               5     60.0  \n",
       "139               6     50.0  \n",
       "140               6     50.0  \n",
       "141               8     38.0  \n",
       "142               6     50.0  \n",
       "143               6     50.0  \n",
       "144               5     60.0  \n",
       "145               6     50.0  \n",
       "146               9     33.0  \n",
       "147               6     50.0  \n",
       "148               6     50.0  \n",
       "149               8     38.0  \n",
       "150               6     50.0  \n",
       "151               6     50.0  \n",
       "152               6     50.0  \n",
       "153               6     50.0  \n",
       "154               5     60.0  \n",
       "155               8     38.0  \n",
       "156               4     50.0  \n",
       "157               6     33.0  \n",
       "158               5     40.0  \n",
       "159               6     33.0  \n",
       "160               7     29.0  \n",
       "161               6     33.0  \n",
       "162               4     50.0  \n",
       "163               9     22.0  \n",
       "164               6     33.0  \n",
       "165               5     40.0  \n",
       "166               4     50.0  \n",
       "167               5     40.0  \n",
       "168               4     50.0  \n",
       "169               8     25.0  \n",
       "170               6     33.0  \n",
       "171               4     50.0  \n",
       "172               5     40.0  \n",
       "173               5     40.0  \n",
       "174               4     50.0  \n",
       "175               5     40.0  \n",
       "176               6     33.0  \n",
       "177               7     29.0  \n",
       "178               5     40.0  \n",
       "179               4     50.0  \n",
       "180               5     40.0  \n",
       "181               4     50.0  \n",
       "182               5     40.0  \n",
       "183               4     50.0  \n",
       "184               4     25.0  \n",
       "185               3     33.0  \n",
       "186               3     33.0  \n",
       "187               8     13.0  \n",
       "188               6     17.0  \n",
       "189               5     20.0  \n",
       "190               4     25.0  \n",
       "191               3     33.0  \n",
       "192               4     25.0  \n",
       "193               6     17.0  \n",
       "194               3     33.0  \n",
       "195               3     33.0  \n",
       "196               3     33.0  \n",
       "197               3     33.0  \n",
       "198              10     10.0  \n",
       "199               3     33.0  \n",
       "200               2     50.0  \n",
       "201               5     20.0  \n",
       "202               4     25.0  \n",
       "203               3     33.0  \n",
       "204               4     25.0  \n",
       "205               4     25.0  \n",
       "206               4     25.0  \n",
       "207               3     33.0  \n",
       "208               3     33.0  \n",
       "209               4     25.0  \n",
       "210               4     25.0  \n",
       "211               5     20.0  \n",
       "212               4     25.0  \n",
       "213               7     14.0  \n",
       "214               4     25.0  \n",
       "215               4     25.0  \n",
       "216               3     33.0  \n",
       "217               4     25.0  \n",
       "218               4      0.0  \n",
       "219               2      0.0  \n",
       "220               2      0.0  \n",
       "221               2      0.0  \n",
       "222               1      0.0  \n",
       "223               2      0.0  \n",
       "224               1      0.0  \n",
       "225               2      0.0  \n",
       "226               2      0.0  \n",
       "227               2      0.0  \n",
       "228               2      0.0  \n",
       "229               3      0.0  \n",
       "230               2      0.0  \n",
       "231               2      0.0  \n",
       "232               1      0.0  \n",
       "233               1      0.0  \n",
       "234               2      0.0  \n",
       "235               1      0.0  \n",
       "236               3      0.0  \n",
       "237               4      0.0  \n",
       "238               2      0.0  \n",
       "239               2      0.0  \n",
       "240               3      0.0  \n",
       "241               1      0.0  \n",
       "242               1      0.0  \n",
       "243               3      0.0  \n",
       "244               5      0.0  \n",
       "245               2      0.0  \n",
       "246               2      0.0  \n",
       "247               2      0.0  \n",
       "248               2      0.0  \n",
       "249               3      0.0  \n",
       "250               2      0.0  \n",
       "251               2      0.0  \n",
       "252               2      0.0  \n",
       "253               4      0.0  \n",
       "254               2      0.0  "
      ]
     },
     "execution_count": 56,
     "metadata": {},
     "output_type": "execute_result"
    }
   ],
   "source": [
    "conn = sqlite3.connect(\"../mtgmelee.db\")\n",
    "query = \"\"\"\n",
    "WITH full_results as (\n",
    "SELECT\n",
    "  player1_id,\n",
    "  player1_deck_id,\n",
    "  winner_id\n",
    "FROM results\n",
    "WHERE player2_id IS NOT NULL\n",
    "\n",
    "UNION ALL\n",
    "SELECT\n",
    "  player2_id as player1_id,\n",
    "  player2_deck_id as player1_deck_id,\n",
    "  winner_id\n",
    "FROM results\n",
    "WHERE player2_id IS NOT NULL\n",
    ")\n",
    "\n",
    "SELECT\n",
    "    player1_id as player,\n",
    "    p.name as name,\n",
    "    SUM(CASE WHEN winner_id = player1_id THEN 1 ELSE 0 END) as wins,\n",
    "    SUM(CASE WHEN winner_id != player1_id THEN 1 ELSE 0 END) as losses,\n",
    "    COUNT(*) as matches_played,\n",
    "    ROUND(SUM(CASE WHEN winner_id = player1_id THEN 1 ELSE 0 END) * 100.0 / COUNT(*)) as win_pct\n",
    "FROM full_results r\n",
    "JOIN players p\n",
    "    ON r.player1_id = p.id\n",
    "GROUP BY 1, 2\n",
    "ORDER BY 3 DESC\n",
    "\"\"\"\n",
    "\n",
    "df = pd.read_sql_query(query, conn)\n",
    "df\n",
    "\n"
   ]
  },
  {
   "cell_type": "markdown",
   "id": "51a331fd",
   "metadata": {},
   "source": [
    "### Most-Played Cards in Top-8s"
   ]
  },
  {
   "cell_type": "code",
   "execution_count": 62,
   "id": "6f528389",
   "metadata": {},
   "outputs": [
    {
     "data": {
      "text/html": [
       "<div>\n",
       "<style scoped>\n",
       "    .dataframe tbody tr th:only-of-type {\n",
       "        vertical-align: middle;\n",
       "    }\n",
       "\n",
       "    .dataframe tbody tr th {\n",
       "        vertical-align: top;\n",
       "    }\n",
       "\n",
       "    .dataframe thead th {\n",
       "        text-align: right;\n",
       "    }\n",
       "</style>\n",
       "<table border=\"1\" class=\"dataframe\">\n",
       "  <thead>\n",
       "    <tr style=\"text-align: right;\">\n",
       "      <th></th>\n",
       "      <th>tournament_id</th>\n",
       "      <th>name</th>\n",
       "      <th>quantity</th>\n",
       "    </tr>\n",
       "  </thead>\n",
       "  <tbody>\n",
       "    <tr>\n",
       "      <th>0</th>\n",
       "      <td>389</td>\n",
       "      <td>Swamp</td>\n",
       "      <td>86</td>\n",
       "    </tr>\n",
       "    <tr>\n",
       "      <th>1</th>\n",
       "      <td>389</td>\n",
       "      <td>Dark Ritual</td>\n",
       "      <td>23</td>\n",
       "    </tr>\n",
       "    <tr>\n",
       "      <th>2</th>\n",
       "      <td>389</td>\n",
       "      <td>Graveyard Marshal</td>\n",
       "      <td>20</td>\n",
       "    </tr>\n",
       "    <tr>\n",
       "      <th>3</th>\n",
       "      <td>389</td>\n",
       "      <td>Gravecrawler</td>\n",
       "      <td>20</td>\n",
       "    </tr>\n",
       "    <tr>\n",
       "      <th>4</th>\n",
       "      <td>389</td>\n",
       "      <td>Geralf's Messenger</td>\n",
       "      <td>20</td>\n",
       "    </tr>\n",
       "    <tr>\n",
       "      <th>5</th>\n",
       "      <td>389</td>\n",
       "      <td>Diregraf Ghoul</td>\n",
       "      <td>20</td>\n",
       "    </tr>\n",
       "    <tr>\n",
       "      <th>6</th>\n",
       "      <td>389</td>\n",
       "      <td>Death Baron</td>\n",
       "      <td>19</td>\n",
       "    </tr>\n",
       "    <tr>\n",
       "      <th>7</th>\n",
       "      <td>389</td>\n",
       "      <td>Lord of the Undead</td>\n",
       "      <td>15</td>\n",
       "    </tr>\n",
       "    <tr>\n",
       "      <th>8</th>\n",
       "      <td>389</td>\n",
       "      <td>Plains</td>\n",
       "      <td>14</td>\n",
       "    </tr>\n",
       "    <tr>\n",
       "      <th>9</th>\n",
       "      <td>389</td>\n",
       "      <td>Polluted Delta</td>\n",
       "      <td>12</td>\n",
       "    </tr>\n",
       "    <tr>\n",
       "      <th>10</th>\n",
       "      <td>389</td>\n",
       "      <td>Bloodstained Mire</td>\n",
       "      <td>12</td>\n",
       "    </tr>\n",
       "    <tr>\n",
       "      <th>11</th>\n",
       "      <td>389</td>\n",
       "      <td>Duress</td>\n",
       "      <td>11</td>\n",
       "    </tr>\n",
       "    <tr>\n",
       "      <th>12</th>\n",
       "      <td>389</td>\n",
       "      <td>Tragic Slip</td>\n",
       "      <td>10</td>\n",
       "    </tr>\n",
       "    <tr>\n",
       "      <th>13</th>\n",
       "      <td>389</td>\n",
       "      <td>Stitcher's Supplier</td>\n",
       "      <td>10</td>\n",
       "    </tr>\n",
       "    <tr>\n",
       "      <th>14</th>\n",
       "      <td>389</td>\n",
       "      <td>Murderous Cut</td>\n",
       "      <td>10</td>\n",
       "    </tr>\n",
       "    <tr>\n",
       "      <th>15</th>\n",
       "      <td>389</td>\n",
       "      <td>Contamination</td>\n",
       "      <td>10</td>\n",
       "    </tr>\n",
       "    <tr>\n",
       "      <th>16</th>\n",
       "      <td>389</td>\n",
       "      <td>Blood Scrivener</td>\n",
       "      <td>10</td>\n",
       "    </tr>\n",
       "    <tr>\n",
       "      <th>17</th>\n",
       "      <td>389</td>\n",
       "      <td>Phyrexian Tower</td>\n",
       "      <td>9</td>\n",
       "    </tr>\n",
       "    <tr>\n",
       "      <th>18</th>\n",
       "      <td>389</td>\n",
       "      <td>Siege Rhino</td>\n",
       "      <td>8</td>\n",
       "    </tr>\n",
       "    <tr>\n",
       "      <th>19</th>\n",
       "      <td>389</td>\n",
       "      <td>Sandsteppe Citadel</td>\n",
       "      <td>8</td>\n",
       "    </tr>\n",
       "    <tr>\n",
       "      <th>20</th>\n",
       "      <td>389</td>\n",
       "      <td>Lingering Souls</td>\n",
       "      <td>8</td>\n",
       "    </tr>\n",
       "    <tr>\n",
       "      <th>21</th>\n",
       "      <td>389</td>\n",
       "      <td>Evolving Wilds</td>\n",
       "      <td>8</td>\n",
       "    </tr>\n",
       "    <tr>\n",
       "      <th>22</th>\n",
       "      <td>389</td>\n",
       "      <td>Forest</td>\n",
       "      <td>7</td>\n",
       "    </tr>\n",
       "    <tr>\n",
       "      <th>23</th>\n",
       "      <td>389</td>\n",
       "      <td>Anafenza, the Foremost</td>\n",
       "      <td>7</td>\n",
       "    </tr>\n",
       "    <tr>\n",
       "      <th>24</th>\n",
       "      <td>389</td>\n",
       "      <td>Scoured Barrens</td>\n",
       "      <td>6</td>\n",
       "    </tr>\n",
       "    <tr>\n",
       "      <th>25</th>\n",
       "      <td>389</td>\n",
       "      <td>Liliana, Untouched by Death</td>\n",
       "      <td>6</td>\n",
       "    </tr>\n",
       "    <tr>\n",
       "      <th>26</th>\n",
       "      <td>389</td>\n",
       "      <td>Fertile Ground</td>\n",
       "      <td>6</td>\n",
       "    </tr>\n",
       "    <tr>\n",
       "      <th>27</th>\n",
       "      <td>389</td>\n",
       "      <td>Bloodsoaked Champion</td>\n",
       "      <td>6</td>\n",
       "    </tr>\n",
       "    <tr>\n",
       "      <th>28</th>\n",
       "      <td>389</td>\n",
       "      <td>Sorin, Solemn Visitor</td>\n",
       "      <td>5</td>\n",
       "    </tr>\n",
       "    <tr>\n",
       "      <th>29</th>\n",
       "      <td>389</td>\n",
       "      <td>Remorseful Cleric</td>\n",
       "      <td>5</td>\n",
       "    </tr>\n",
       "    <tr>\n",
       "      <th>30</th>\n",
       "      <td>389</td>\n",
       "      <td>Jungle Hollow</td>\n",
       "      <td>5</td>\n",
       "    </tr>\n",
       "    <tr>\n",
       "      <th>31</th>\n",
       "      <td>389</td>\n",
       "      <td>Blood Baron of Vizkopa</td>\n",
       "      <td>5</td>\n",
       "    </tr>\n",
       "    <tr>\n",
       "      <th>32</th>\n",
       "      <td>389</td>\n",
       "      <td>Windswept Heath</td>\n",
       "      <td>4</td>\n",
       "    </tr>\n",
       "    <tr>\n",
       "      <th>33</th>\n",
       "      <td>389</td>\n",
       "      <td>Vivien Reid</td>\n",
       "      <td>4</td>\n",
       "    </tr>\n",
       "    <tr>\n",
       "      <th>34</th>\n",
       "      <td>389</td>\n",
       "      <td>Thorn Lieutenant</td>\n",
       "      <td>4</td>\n",
       "    </tr>\n",
       "    <tr>\n",
       "      <th>35</th>\n",
       "      <td>389</td>\n",
       "      <td>Star Compass</td>\n",
       "      <td>4</td>\n",
       "    </tr>\n",
       "    <tr>\n",
       "      <th>36</th>\n",
       "      <td>389</td>\n",
       "      <td>Sorin, Lord of Innistrad</td>\n",
       "      <td>4</td>\n",
       "    </tr>\n",
       "    <tr>\n",
       "      <th>37</th>\n",
       "      <td>389</td>\n",
       "      <td>Diabolic Intent</td>\n",
       "      <td>4</td>\n",
       "    </tr>\n",
       "    <tr>\n",
       "      <th>38</th>\n",
       "      <td>389</td>\n",
       "      <td>Voice of Resurgence</td>\n",
       "      <td>3</td>\n",
       "    </tr>\n",
       "    <tr>\n",
       "      <th>39</th>\n",
       "      <td>389</td>\n",
       "      <td>Utter End</td>\n",
       "      <td>3</td>\n",
       "    </tr>\n",
       "    <tr>\n",
       "      <th>40</th>\n",
       "      <td>389</td>\n",
       "      <td>Thraben Doomsayer</td>\n",
       "      <td>3</td>\n",
       "    </tr>\n",
       "    <tr>\n",
       "      <th>41</th>\n",
       "      <td>389</td>\n",
       "      <td>Thalia, Guardian of Thraben</td>\n",
       "      <td>3</td>\n",
       "    </tr>\n",
       "    <tr>\n",
       "      <th>42</th>\n",
       "      <td>389</td>\n",
       "      <td>Gather the Townsfolk</td>\n",
       "      <td>3</td>\n",
       "    </tr>\n",
       "    <tr>\n",
       "      <th>43</th>\n",
       "      <td>389</td>\n",
       "      <td>Blossoming Sands</td>\n",
       "      <td>3</td>\n",
       "    </tr>\n",
       "    <tr>\n",
       "      <th>44</th>\n",
       "      <td>389</td>\n",
       "      <td>Abzan Charm</td>\n",
       "      <td>3</td>\n",
       "    </tr>\n",
       "    <tr>\n",
       "      <th>45</th>\n",
       "      <td>389</td>\n",
       "      <td>Wingmate Roc</td>\n",
       "      <td>2</td>\n",
       "    </tr>\n",
       "    <tr>\n",
       "      <th>46</th>\n",
       "      <td>389</td>\n",
       "      <td>Putrefy</td>\n",
       "      <td>2</td>\n",
       "    </tr>\n",
       "    <tr>\n",
       "      <th>47</th>\n",
       "      <td>389</td>\n",
       "      <td>Grim Haruspex</td>\n",
       "      <td>2</td>\n",
       "    </tr>\n",
       "    <tr>\n",
       "      <th>48</th>\n",
       "      <td>389</td>\n",
       "      <td>Disciple of Grace</td>\n",
       "      <td>2</td>\n",
       "    </tr>\n",
       "    <tr>\n",
       "      <th>49</th>\n",
       "      <td>389</td>\n",
       "      <td>Worship</td>\n",
       "      <td>1</td>\n",
       "    </tr>\n",
       "    <tr>\n",
       "      <th>50</th>\n",
       "      <td>389</td>\n",
       "      <td>Resplendent Angel</td>\n",
       "      <td>1</td>\n",
       "    </tr>\n",
       "    <tr>\n",
       "      <th>51</th>\n",
       "      <td>389</td>\n",
       "      <td>Polluted Mire</td>\n",
       "      <td>1</td>\n",
       "    </tr>\n",
       "    <tr>\n",
       "      <th>52</th>\n",
       "      <td>389</td>\n",
       "      <td>Pestilence</td>\n",
       "      <td>1</td>\n",
       "    </tr>\n",
       "    <tr>\n",
       "      <th>53</th>\n",
       "      <td>389</td>\n",
       "      <td>Persecute</td>\n",
       "      <td>1</td>\n",
       "    </tr>\n",
       "    <tr>\n",
       "      <th>54</th>\n",
       "      <td>389</td>\n",
       "      <td>Mentor of the Meek</td>\n",
       "      <td>1</td>\n",
       "    </tr>\n",
       "    <tr>\n",
       "      <th>55</th>\n",
       "      <td>691</td>\n",
       "      <td>Island</td>\n",
       "      <td>22</td>\n",
       "    </tr>\n",
       "    <tr>\n",
       "      <th>56</th>\n",
       "      <td>691</td>\n",
       "      <td>Woodland Wanderer</td>\n",
       "      <td>20</td>\n",
       "    </tr>\n",
       "    <tr>\n",
       "      <th>57</th>\n",
       "      <td>691</td>\n",
       "      <td>Tropical Island</td>\n",
       "      <td>20</td>\n",
       "    </tr>\n",
       "    <tr>\n",
       "      <th>58</th>\n",
       "      <td>691</td>\n",
       "      <td>Breeding Pool</td>\n",
       "      <td>20</td>\n",
       "    </tr>\n",
       "    <tr>\n",
       "      <th>59</th>\n",
       "      <td>691</td>\n",
       "      <td>Bayou</td>\n",
       "      <td>20</td>\n",
       "    </tr>\n",
       "    <tr>\n",
       "      <th>60</th>\n",
       "      <td>691</td>\n",
       "      <td>Trygon Predator</td>\n",
       "      <td>16</td>\n",
       "    </tr>\n",
       "    <tr>\n",
       "      <th>61</th>\n",
       "      <td>691</td>\n",
       "      <td>Mana Drain</td>\n",
       "      <td>16</td>\n",
       "    </tr>\n",
       "    <tr>\n",
       "      <th>62</th>\n",
       "      <td>691</td>\n",
       "      <td>Elves of Deep Shadow</td>\n",
       "      <td>16</td>\n",
       "    </tr>\n",
       "    <tr>\n",
       "      <th>63</th>\n",
       "      <td>691</td>\n",
       "      <td>Utopia Sprawl</td>\n",
       "      <td>15</td>\n",
       "    </tr>\n",
       "    <tr>\n",
       "      <th>64</th>\n",
       "      <td>691</td>\n",
       "      <td>Mind Twist</td>\n",
       "      <td>15</td>\n",
       "    </tr>\n",
       "    <tr>\n",
       "      <th>65</th>\n",
       "      <td>691</td>\n",
       "      <td>Skyrider Elf</td>\n",
       "      <td>13</td>\n",
       "    </tr>\n",
       "    <tr>\n",
       "      <th>66</th>\n",
       "      <td>691</td>\n",
       "      <td>Hallowed Fountain</td>\n",
       "      <td>13</td>\n",
       "    </tr>\n",
       "    <tr>\n",
       "      <th>67</th>\n",
       "      <td>691</td>\n",
       "      <td>Forest</td>\n",
       "      <td>13</td>\n",
       "    </tr>\n",
       "    <tr>\n",
       "      <th>68</th>\n",
       "      <td>691</td>\n",
       "      <td>Skullclamp</td>\n",
       "      <td>12</td>\n",
       "    </tr>\n",
       "    <tr>\n",
       "      <th>69</th>\n",
       "      <td>691</td>\n",
       "      <td>Volcanic Island</td>\n",
       "      <td>11</td>\n",
       "    </tr>\n",
       "    <tr>\n",
       "      <th>70</th>\n",
       "      <td>691</td>\n",
       "      <td>Fact or Fiction</td>\n",
       "      <td>11</td>\n",
       "    </tr>\n",
       "    <tr>\n",
       "      <th>71</th>\n",
       "      <td>691</td>\n",
       "      <td>Plains</td>\n",
       "      <td>10</td>\n",
       "    </tr>\n",
       "    <tr>\n",
       "      <th>72</th>\n",
       "      <td>691</td>\n",
       "      <td>Three Visits</td>\n",
       "      <td>8</td>\n",
       "    </tr>\n",
       "    <tr>\n",
       "      <th>73</th>\n",
       "      <td>691</td>\n",
       "      <td>Scrubland</td>\n",
       "      <td>8</td>\n",
       "    </tr>\n",
       "    <tr>\n",
       "      <th>74</th>\n",
       "      <td>691</td>\n",
       "      <td>Recoil</td>\n",
       "      <td>8</td>\n",
       "    </tr>\n",
       "    <tr>\n",
       "      <th>75</th>\n",
       "      <td>691</td>\n",
       "      <td>Sword of Fire and Ice</td>\n",
       "      <td>7</td>\n",
       "    </tr>\n",
       "    <tr>\n",
       "      <th>76</th>\n",
       "      <td>691</td>\n",
       "      <td>Swamp</td>\n",
       "      <td>7</td>\n",
       "    </tr>\n",
       "    <tr>\n",
       "      <th>77</th>\n",
       "      <td>691</td>\n",
       "      <td>Eldrazi Skyspawner</td>\n",
       "      <td>7</td>\n",
       "    </tr>\n",
       "    <tr>\n",
       "      <th>78</th>\n",
       "      <td>691</td>\n",
       "      <td>Pulse of the Grid</td>\n",
       "      <td>6</td>\n",
       "    </tr>\n",
       "    <tr>\n",
       "      <th>79</th>\n",
       "      <td>691</td>\n",
       "      <td>Lumbering Falls</td>\n",
       "      <td>6</td>\n",
       "    </tr>\n",
       "    <tr>\n",
       "      <th>80</th>\n",
       "      <td>691</td>\n",
       "      <td>Ulamog, the Ceaseless Hunger</td>\n",
       "      <td>4</td>\n",
       "    </tr>\n",
       "    <tr>\n",
       "      <th>81</th>\n",
       "      <td>691</td>\n",
       "      <td>Tribal Flames</td>\n",
       "      <td>4</td>\n",
       "    </tr>\n",
       "    <tr>\n",
       "      <th>82</th>\n",
       "      <td>691</td>\n",
       "      <td>Smoldering Marsh</td>\n",
       "      <td>4</td>\n",
       "    </tr>\n",
       "    <tr>\n",
       "      <th>83</th>\n",
       "      <td>691</td>\n",
       "      <td>Sludge Crawler</td>\n",
       "      <td>4</td>\n",
       "    </tr>\n",
       "    <tr>\n",
       "      <th>84</th>\n",
       "      <td>691</td>\n",
       "      <td>Ravenous Rats</td>\n",
       "      <td>4</td>\n",
       "    </tr>\n",
       "    <tr>\n",
       "      <th>85</th>\n",
       "      <td>691</td>\n",
       "      <td>Prairie Stream</td>\n",
       "      <td>4</td>\n",
       "    </tr>\n",
       "    <tr>\n",
       "      <th>86</th>\n",
       "      <td>691</td>\n",
       "      <td>Opt</td>\n",
       "      <td>4</td>\n",
       "    </tr>\n",
       "    <tr>\n",
       "      <th>87</th>\n",
       "      <td>691</td>\n",
       "      <td>Mountain</td>\n",
       "      <td>4</td>\n",
       "    </tr>\n",
       "    <tr>\n",
       "      <th>88</th>\n",
       "      <td>691</td>\n",
       "      <td>Loyal Retainers</td>\n",
       "      <td>4</td>\n",
       "    </tr>\n",
       "    <tr>\n",
       "      <th>89</th>\n",
       "      <td>691</td>\n",
       "      <td>Forerunner of Slaughter</td>\n",
       "      <td>4</td>\n",
       "    </tr>\n",
       "    <tr>\n",
       "      <th>90</th>\n",
       "      <td>691</td>\n",
       "      <td>Fire Ambush</td>\n",
       "      <td>4</td>\n",
       "    </tr>\n",
       "    <tr>\n",
       "      <th>91</th>\n",
       "      <td>691</td>\n",
       "      <td>Drana, Liberator of Malakir</td>\n",
       "      <td>4</td>\n",
       "    </tr>\n",
       "    <tr>\n",
       "      <th>92</th>\n",
       "      <td>691</td>\n",
       "      <td>Disenchant</td>\n",
       "      <td>4</td>\n",
       "    </tr>\n",
       "    <tr>\n",
       "      <th>93</th>\n",
       "      <td>691</td>\n",
       "      <td>Coiling Oracle</td>\n",
       "      <td>4</td>\n",
       "    </tr>\n",
       "    <tr>\n",
       "      <th>94</th>\n",
       "      <td>691</td>\n",
       "      <td>Chain Lightning</td>\n",
       "      <td>4</td>\n",
       "    </tr>\n",
       "    <tr>\n",
       "      <th>95</th>\n",
       "      <td>691</td>\n",
       "      <td>Bring to Light</td>\n",
       "      <td>4</td>\n",
       "    </tr>\n",
       "    <tr>\n",
       "      <th>96</th>\n",
       "      <td>691</td>\n",
       "      <td>Blood Crypt</td>\n",
       "      <td>4</td>\n",
       "    </tr>\n",
       "    <tr>\n",
       "      <th>97</th>\n",
       "      <td>691</td>\n",
       "      <td>Blisterpod</td>\n",
       "      <td>4</td>\n",
       "    </tr>\n",
       "    <tr>\n",
       "      <th>98</th>\n",
       "      <td>691</td>\n",
       "      <td>Azorius Signet</td>\n",
       "      <td>4</td>\n",
       "    </tr>\n",
       "    <tr>\n",
       "      <th>99</th>\n",
       "      <td>691</td>\n",
       "      <td>Azorius Chancery</td>\n",
       "      <td>4</td>\n",
       "    </tr>\n",
       "    <tr>\n",
       "      <th>100</th>\n",
       "      <td>691</td>\n",
       "      <td>Akoum Firebird</td>\n",
       "      <td>4</td>\n",
       "    </tr>\n",
       "    <tr>\n",
       "      <th>101</th>\n",
       "      <td>691</td>\n",
       "      <td>Aether Vial</td>\n",
       "      <td>4</td>\n",
       "    </tr>\n",
       "    <tr>\n",
       "      <th>102</th>\n",
       "      <td>691</td>\n",
       "      <td>Absorb</td>\n",
       "      <td>4</td>\n",
       "    </tr>\n",
       "    <tr>\n",
       "      <th>103</th>\n",
       "      <td>691</td>\n",
       "      <td>Strategic Planning</td>\n",
       "      <td>3</td>\n",
       "    </tr>\n",
       "    <tr>\n",
       "      <th>104</th>\n",
       "      <td>691</td>\n",
       "      <td>Rout</td>\n",
       "      <td>3</td>\n",
       "    </tr>\n",
       "    <tr>\n",
       "      <th>105</th>\n",
       "      <td>691</td>\n",
       "      <td>Pulse of the Forge</td>\n",
       "      <td>3</td>\n",
       "    </tr>\n",
       "    <tr>\n",
       "      <th>106</th>\n",
       "      <td>691</td>\n",
       "      <td>Probe</td>\n",
       "      <td>3</td>\n",
       "    </tr>\n",
       "    <tr>\n",
       "      <th>107</th>\n",
       "      <td>691</td>\n",
       "      <td>Painful Truths</td>\n",
       "      <td>3</td>\n",
       "    </tr>\n",
       "    <tr>\n",
       "      <th>108</th>\n",
       "      <td>691</td>\n",
       "      <td>Land Tax</td>\n",
       "      <td>3</td>\n",
       "    </tr>\n",
       "    <tr>\n",
       "      <th>109</th>\n",
       "      <td>691</td>\n",
       "      <td>Gobhobbler Rats</td>\n",
       "      <td>3</td>\n",
       "    </tr>\n",
       "    <tr>\n",
       "      <th>110</th>\n",
       "      <td>691</td>\n",
       "      <td>Gideon, Ally of Zendikar</td>\n",
       "      <td>3</td>\n",
       "    </tr>\n",
       "    <tr>\n",
       "      <th>111</th>\n",
       "      <td>691</td>\n",
       "      <td>Force Spike</td>\n",
       "      <td>3</td>\n",
       "    </tr>\n",
       "    <tr>\n",
       "      <th>112</th>\n",
       "      <td>691</td>\n",
       "      <td>Condemn</td>\n",
       "      <td>3</td>\n",
       "    </tr>\n",
       "    <tr>\n",
       "      <th>113</th>\n",
       "      <td>691</td>\n",
       "      <td>Cinder Glade</td>\n",
       "      <td>3</td>\n",
       "    </tr>\n",
       "    <tr>\n",
       "      <th>114</th>\n",
       "      <td>691</td>\n",
       "      <td>Capture of Jingzhou</td>\n",
       "      <td>3</td>\n",
       "    </tr>\n",
       "    <tr>\n",
       "      <th>115</th>\n",
       "      <td>691</td>\n",
       "      <td>Blinkmoth Nexus</td>\n",
       "      <td>3</td>\n",
       "    </tr>\n",
       "    <tr>\n",
       "      <th>116</th>\n",
       "      <td>691</td>\n",
       "      <td>Urborg Volcano</td>\n",
       "      <td>2</td>\n",
       "    </tr>\n",
       "    <tr>\n",
       "      <th>117</th>\n",
       "      <td>691</td>\n",
       "      <td>Scatter to the Winds</td>\n",
       "      <td>2</td>\n",
       "    </tr>\n",
       "    <tr>\n",
       "      <th>118</th>\n",
       "      <td>691</td>\n",
       "      <td>Rasputin Dreamweaver</td>\n",
       "      <td>2</td>\n",
       "    </tr>\n",
       "    <tr>\n",
       "      <th>119</th>\n",
       "      <td>691</td>\n",
       "      <td>Quarantine Field</td>\n",
       "      <td>2</td>\n",
       "    </tr>\n",
       "    <tr>\n",
       "      <th>120</th>\n",
       "      <td>691</td>\n",
       "      <td>Pristine Angel</td>\n",
       "      <td>2</td>\n",
       "    </tr>\n",
       "    <tr>\n",
       "      <th>121</th>\n",
       "      <td>691</td>\n",
       "      <td>Karakas</td>\n",
       "      <td>2</td>\n",
       "    </tr>\n",
       "    <tr>\n",
       "      <th>122</th>\n",
       "      <td>691</td>\n",
       "      <td>Harrow</td>\n",
       "      <td>2</td>\n",
       "    </tr>\n",
       "    <tr>\n",
       "      <th>123</th>\n",
       "      <td>691</td>\n",
       "      <td>False Defeat</td>\n",
       "      <td>2</td>\n",
       "    </tr>\n",
       "    <tr>\n",
       "      <th>124</th>\n",
       "      <td>691</td>\n",
       "      <td>Echoing Decay</td>\n",
       "      <td>2</td>\n",
       "    </tr>\n",
       "    <tr>\n",
       "      <th>125</th>\n",
       "      <td>691</td>\n",
       "      <td>Canopy Vista</td>\n",
       "      <td>2</td>\n",
       "    </tr>\n",
       "    <tr>\n",
       "      <th>126</th>\n",
       "      <td>691</td>\n",
       "      <td>Blazing Specter</td>\n",
       "      <td>2</td>\n",
       "    </tr>\n",
       "    <tr>\n",
       "      <th>127</th>\n",
       "      <td>691</td>\n",
       "      <td>Sword of Light and Shadow</td>\n",
       "      <td>1</td>\n",
       "    </tr>\n",
       "    <tr>\n",
       "      <th>128</th>\n",
       "      <td>691</td>\n",
       "      <td>Spell Snare</td>\n",
       "      <td>1</td>\n",
       "    </tr>\n",
       "    <tr>\n",
       "      <th>129</th>\n",
       "      <td>691</td>\n",
       "      <td>Ruinous Path</td>\n",
       "      <td>1</td>\n",
       "    </tr>\n",
       "    <tr>\n",
       "      <th>130</th>\n",
       "      <td>691</td>\n",
       "      <td>Rise // Fall</td>\n",
       "      <td>1</td>\n",
       "    </tr>\n",
       "    <tr>\n",
       "      <th>131</th>\n",
       "      <td>691</td>\n",
       "      <td>Oxidize</td>\n",
       "      <td>1</td>\n",
       "    </tr>\n",
       "    <tr>\n",
       "      <th>132</th>\n",
       "      <td>691</td>\n",
       "      <td>Noyan Dar, Roil Shaper</td>\n",
       "      <td>1</td>\n",
       "    </tr>\n",
       "    <tr>\n",
       "      <th>133</th>\n",
       "      <td>691</td>\n",
       "      <td>Disrupt</td>\n",
       "      <td>1</td>\n",
       "    </tr>\n",
       "    <tr>\n",
       "      <th>134</th>\n",
       "      <td>1463</td>\n",
       "      <td>Mountain</td>\n",
       "      <td>24</td>\n",
       "    </tr>\n",
       "    <tr>\n",
       "      <th>135</th>\n",
       "      <td>1463</td>\n",
       "      <td>Bloodbraid Elf</td>\n",
       "      <td>16</td>\n",
       "    </tr>\n",
       "    <tr>\n",
       "      <th>136</th>\n",
       "      <td>1463</td>\n",
       "      <td>Forest</td>\n",
       "      <td>14</td>\n",
       "    </tr>\n",
       "    <tr>\n",
       "      <th>137</th>\n",
       "      <td>1463</td>\n",
       "      <td>Wooded Foothills</td>\n",
       "      <td>12</td>\n",
       "    </tr>\n",
       "    <tr>\n",
       "      <th>138</th>\n",
       "      <td>1463</td>\n",
       "      <td>Terminate</td>\n",
       "      <td>12</td>\n",
       "    </tr>\n",
       "    <tr>\n",
       "      <th>139</th>\n",
       "      <td>1463</td>\n",
       "      <td>Swamp</td>\n",
       "      <td>12</td>\n",
       "    </tr>\n",
       "    <tr>\n",
       "      <th>140</th>\n",
       "      <td>1463</td>\n",
       "      <td>Graven Cairns</td>\n",
       "      <td>12</td>\n",
       "    </tr>\n",
       "    <tr>\n",
       "      <th>141</th>\n",
       "      <td>1463</td>\n",
       "      <td>Fire-Lit Thicket</td>\n",
       "      <td>12</td>\n",
       "    </tr>\n",
       "    <tr>\n",
       "      <th>142</th>\n",
       "      <td>1463</td>\n",
       "      <td>Earthshaker Khenra</td>\n",
       "      <td>12</td>\n",
       "    </tr>\n",
       "    <tr>\n",
       "      <th>143</th>\n",
       "      <td>1463</td>\n",
       "      <td>Boggart Ram-Gang</td>\n",
       "      <td>12</td>\n",
       "    </tr>\n",
       "    <tr>\n",
       "      <th>144</th>\n",
       "      <td>1463</td>\n",
       "      <td>Bloodstained Mire</td>\n",
       "      <td>10</td>\n",
       "    </tr>\n",
       "    <tr>\n",
       "      <th>145</th>\n",
       "      <td>1463</td>\n",
       "      <td>Shock</td>\n",
       "      <td>9</td>\n",
       "    </tr>\n",
       "    <tr>\n",
       "      <th>146</th>\n",
       "      <td>1463</td>\n",
       "      <td>Wooded Bastion</td>\n",
       "      <td>8</td>\n",
       "    </tr>\n",
       "    <tr>\n",
       "      <th>147</th>\n",
       "      <td>1463</td>\n",
       "      <td>Volcanic Hammer</td>\n",
       "      <td>8</td>\n",
       "    </tr>\n",
       "    <tr>\n",
       "      <th>148</th>\n",
       "      <td>1463</td>\n",
       "      <td>Tattermunge Maniac</td>\n",
       "      <td>8</td>\n",
       "    </tr>\n",
       "    <tr>\n",
       "      <th>149</th>\n",
       "      <td>1463</td>\n",
       "      <td>Swans of Bryn Argoll</td>\n",
       "      <td>8</td>\n",
       "    </tr>\n",
       "    <tr>\n",
       "      <th>150</th>\n",
       "      <td>1463</td>\n",
       "      <td>Ramunap Ruins</td>\n",
       "      <td>8</td>\n",
       "    </tr>\n",
       "    <tr>\n",
       "      <th>151</th>\n",
       "      <td>1463</td>\n",
       "      <td>Mudbrawler Cohort</td>\n",
       "      <td>8</td>\n",
       "    </tr>\n",
       "    <tr>\n",
       "      <th>152</th>\n",
       "      <td>1463</td>\n",
       "      <td>Mana Leak</td>\n",
       "      <td>8</td>\n",
       "    </tr>\n",
       "    <tr>\n",
       "      <th>153</th>\n",
       "      <td>1463</td>\n",
       "      <td>Kitchen Finks</td>\n",
       "      <td>8</td>\n",
       "    </tr>\n",
       "    <tr>\n",
       "      <th>154</th>\n",
       "      <td>1463</td>\n",
       "      <td>Intimidator Initiate</td>\n",
       "      <td>8</td>\n",
       "    </tr>\n",
       "    <tr>\n",
       "      <th>155</th>\n",
       "      <td>1463</td>\n",
       "      <td>Flame Javelin</td>\n",
       "      <td>8</td>\n",
       "    </tr>\n",
       "    <tr>\n",
       "      <th>156</th>\n",
       "      <td>1463</td>\n",
       "      <td>Champion of Wits</td>\n",
       "      <td>8</td>\n",
       "    </tr>\n",
       "    <tr>\n",
       "      <th>157</th>\n",
       "      <td>1463</td>\n",
       "      <td>Birds of Paradise</td>\n",
       "      <td>8</td>\n",
       "    </tr>\n",
       "    <tr>\n",
       "      <th>158</th>\n",
       "      <td>1463</td>\n",
       "      <td>Reflecting Pool</td>\n",
       "      <td>7</td>\n",
       "    </tr>\n",
       "    <tr>\n",
       "      <th>159</th>\n",
       "      <td>1463</td>\n",
       "      <td>Plains</td>\n",
       "      <td>7</td>\n",
       "    </tr>\n",
       "    <tr>\n",
       "      <th>160</th>\n",
       "      <td>1463</td>\n",
       "      <td>Island</td>\n",
       "      <td>7</td>\n",
       "    </tr>\n",
       "    <tr>\n",
       "      <th>161</th>\n",
       "      <td>1463</td>\n",
       "      <td>Seismic Assault</td>\n",
       "      <td>6</td>\n",
       "    </tr>\n",
       "    <tr>\n",
       "      <th>162</th>\n",
       "      <td>1463</td>\n",
       "      <td>Polluted Delta</td>\n",
       "      <td>6</td>\n",
       "    </tr>\n",
       "    <tr>\n",
       "      <th>163</th>\n",
       "      <td>1463</td>\n",
       "      <td>City of Brass</td>\n",
       "      <td>6</td>\n",
       "    </tr>\n",
       "    <tr>\n",
       "      <th>164</th>\n",
       "      <td>1463</td>\n",
       "      <td>Forgotten Cave</td>\n",
       "      <td>5</td>\n",
       "    </tr>\n",
       "    <tr>\n",
       "      <th>165</th>\n",
       "      <td>1463</td>\n",
       "      <td>Windswept Heath</td>\n",
       "      <td>4</td>\n",
       "    </tr>\n",
       "    <tr>\n",
       "      <th>166</th>\n",
       "      <td>1463</td>\n",
       "      <td>Wilt-Leaf Liege</td>\n",
       "      <td>4</td>\n",
       "    </tr>\n",
       "    <tr>\n",
       "      <th>167</th>\n",
       "      <td>1463</td>\n",
       "      <td>Vile Manifestation</td>\n",
       "      <td>4</td>\n",
       "    </tr>\n",
       "    <tr>\n",
       "      <th>168</th>\n",
       "      <td>1463</td>\n",
       "      <td>Tranquil Thicket</td>\n",
       "      <td>4</td>\n",
       "    </tr>\n",
       "    <tr>\n",
       "      <th>169</th>\n",
       "      <td>1463</td>\n",
       "      <td>Strategic Planning</td>\n",
       "      <td>4</td>\n",
       "    </tr>\n",
       "    <tr>\n",
       "      <th>170</th>\n",
       "      <td>1463</td>\n",
       "      <td>Sphinx of the Steel Wind</td>\n",
       "      <td>4</td>\n",
       "    </tr>\n",
       "    <tr>\n",
       "      <th>171</th>\n",
       "      <td>1463</td>\n",
       "      <td>Shield of the Oversoul</td>\n",
       "      <td>4</td>\n",
       "    </tr>\n",
       "    <tr>\n",
       "      <th>172</th>\n",
       "      <td>1463</td>\n",
       "      <td>Seedcradle Witch</td>\n",
       "      <td>4</td>\n",
       "    </tr>\n",
       "    <tr>\n",
       "      <th>173</th>\n",
       "      <td>1463</td>\n",
       "      <td>Safehold Elite</td>\n",
       "      <td>4</td>\n",
       "    </tr>\n",
       "    <tr>\n",
       "      <th>174</th>\n",
       "      <td>1463</td>\n",
       "      <td>Resilient Khenra</td>\n",
       "      <td>4</td>\n",
       "    </tr>\n",
       "    <tr>\n",
       "      <th>175</th>\n",
       "      <td>1463</td>\n",
       "      <td>Read the Runes</td>\n",
       "      <td>4</td>\n",
       "    </tr>\n",
       "    <tr>\n",
       "      <th>176</th>\n",
       "      <td>1463</td>\n",
       "      <td>Qasali Pridemage</td>\n",
       "      <td>4</td>\n",
       "    </tr>\n",
       "    <tr>\n",
       "      <th>177</th>\n",
       "      <td>1463</td>\n",
       "      <td>Mystic Gate</td>\n",
       "      <td>4</td>\n",
       "    </tr>\n",
       "    <tr>\n",
       "      <th>178</th>\n",
       "      <td>1463</td>\n",
       "      <td>Monstrous Carabid</td>\n",
       "      <td>4</td>\n",
       "    </tr>\n",
       "    <tr>\n",
       "      <th>179</th>\n",
       "      <td>1463</td>\n",
       "      <td>Mind Stone</td>\n",
       "      <td>4</td>\n",
       "    </tr>\n",
       "    <tr>\n",
       "      <th>180</th>\n",
       "      <td>1463</td>\n",
       "      <td>Maelstrom Pulse</td>\n",
       "      <td>4</td>\n",
       "    </tr>\n",
       "    <tr>\n",
       "      <th>181</th>\n",
       "      <td>1463</td>\n",
       "      <td>Lurching Rotbeast</td>\n",
       "      <td>4</td>\n",
       "    </tr>\n",
       "    <tr>\n",
       "      <th>182</th>\n",
       "      <td>1463</td>\n",
       "      <td>Lotus Vale</td>\n",
       "      <td>4</td>\n",
       "    </tr>\n",
       "    <tr>\n",
       "      <th>183</th>\n",
       "      <td>1463</td>\n",
       "      <td>Grand Coliseum</td>\n",
       "      <td>4</td>\n",
       "    </tr>\n",
       "    <tr>\n",
       "      <th>184</th>\n",
       "      <td>1463</td>\n",
       "      <td>Gemstone Mine</td>\n",
       "      <td>4</td>\n",
       "    </tr>\n",
       "    <tr>\n",
       "      <th>185</th>\n",
       "      <td>1463</td>\n",
       "      <td>Flooded Strand</td>\n",
       "      <td>4</td>\n",
       "    </tr>\n",
       "    <tr>\n",
       "      <th>186</th>\n",
       "      <td>1463</td>\n",
       "      <td>Demigod of Revenge</td>\n",
       "      <td>4</td>\n",
       "    </tr>\n",
       "    <tr>\n",
       "      <th>187</th>\n",
       "      <td>1463</td>\n",
       "      <td>Dauntless Escort</td>\n",
       "      <td>4</td>\n",
       "    </tr>\n",
       "    <tr>\n",
       "      <th>188</th>\n",
       "      <td>1463</td>\n",
       "      <td>Coastal Tower</td>\n",
       "      <td>4</td>\n",
       "    </tr>\n",
       "    <tr>\n",
       "      <th>189</th>\n",
       "      <td>1463</td>\n",
       "      <td>Chain of Plasma</td>\n",
       "      <td>4</td>\n",
       "    </tr>\n",
       "    <tr>\n",
       "      <th>190</th>\n",
       "      <td>1463</td>\n",
       "      <td>Boartusk Liege</td>\n",
       "      <td>4</td>\n",
       "    </tr>\n",
       "    <tr>\n",
       "      <th>191</th>\n",
       "      <td>1463</td>\n",
       "      <td>Barren Moor</td>\n",
       "      <td>4</td>\n",
       "    </tr>\n",
       "    <tr>\n",
       "      <th>192</th>\n",
       "      <td>1463</td>\n",
       "      <td>Argivian Restoration</td>\n",
       "      <td>4</td>\n",
       "    </tr>\n",
       "    <tr>\n",
       "      <th>193</th>\n",
       "      <td>1463</td>\n",
       "      <td>Architects of Will</td>\n",
       "      <td>4</td>\n",
       "    </tr>\n",
       "    <tr>\n",
       "      <th>194</th>\n",
       "      <td>1463</td>\n",
       "      <td>Appeal // Authority</td>\n",
       "      <td>4</td>\n",
       "    </tr>\n",
       "    <tr>\n",
       "      <th>195</th>\n",
       "      <td>1463</td>\n",
       "      <td>Urborg Volcano</td>\n",
       "      <td>3</td>\n",
       "    </tr>\n",
       "    <tr>\n",
       "      <th>196</th>\n",
       "      <td>1463</td>\n",
       "      <td>The Scarab God</td>\n",
       "      <td>3</td>\n",
       "    </tr>\n",
       "    <tr>\n",
       "      <th>197</th>\n",
       "      <td>1463</td>\n",
       "      <td>Salt Marsh</td>\n",
       "      <td>3</td>\n",
       "    </tr>\n",
       "    <tr>\n",
       "      <th>198</th>\n",
       "      <td>1463</td>\n",
       "      <td>Oversold Cemetery</td>\n",
       "      <td>3</td>\n",
       "    </tr>\n",
       "    <tr>\n",
       "      <th>199</th>\n",
       "      <td>1463</td>\n",
       "      <td>Merfolk Traders</td>\n",
       "      <td>3</td>\n",
       "    </tr>\n",
       "    <tr>\n",
       "      <th>200</th>\n",
       "      <td>1463</td>\n",
       "      <td>Hashep Oasis</td>\n",
       "      <td>3</td>\n",
       "    </tr>\n",
       "    <tr>\n",
       "      <th>201</th>\n",
       "      <td>1463</td>\n",
       "      <td>Buried Alive</td>\n",
       "      <td>3</td>\n",
       "    </tr>\n",
       "    <tr>\n",
       "      <th>202</th>\n",
       "      <td>1463</td>\n",
       "      <td>Wrath of God</td>\n",
       "      <td>2</td>\n",
       "    </tr>\n",
       "    <tr>\n",
       "      <th>203</th>\n",
       "      <td>1463</td>\n",
       "      <td>The Scorpion God</td>\n",
       "      <td>2</td>\n",
       "    </tr>\n",
       "    <tr>\n",
       "      <th>204</th>\n",
       "      <td>1463</td>\n",
       "      <td>Supreme Will</td>\n",
       "      <td>2</td>\n",
       "    </tr>\n",
       "    <tr>\n",
       "      <th>205</th>\n",
       "      <td>1463</td>\n",
       "      <td>Sunken Ruins</td>\n",
       "      <td>2</td>\n",
       "    </tr>\n",
       "    <tr>\n",
       "      <th>206</th>\n",
       "      <td>1463</td>\n",
       "      <td>Shefet Dunes</td>\n",
       "      <td>2</td>\n",
       "    </tr>\n",
       "    <tr>\n",
       "      <th>207</th>\n",
       "      <td>1463</td>\n",
       "      <td>Manamorphose</td>\n",
       "      <td>2</td>\n",
       "    </tr>\n",
       "    <tr>\n",
       "      <th>208</th>\n",
       "      <td>1463</td>\n",
       "      <td>Lightning Rift</td>\n",
       "      <td>2</td>\n",
       "    </tr>\n",
       "    <tr>\n",
       "      <th>209</th>\n",
       "      <td>1463</td>\n",
       "      <td>Lightning Reaver</td>\n",
       "      <td>2</td>\n",
       "    </tr>\n",
       "    <tr>\n",
       "      <th>210</th>\n",
       "      <td>1463</td>\n",
       "      <td>God-Pharaoh's Gift</td>\n",
       "      <td>2</td>\n",
       "    </tr>\n",
       "    <tr>\n",
       "      <th>211</th>\n",
       "      <td>1463</td>\n",
       "      <td>Desert of the Indomitable</td>\n",
       "      <td>2</td>\n",
       "    </tr>\n",
       "    <tr>\n",
       "      <th>212</th>\n",
       "      <td>1463</td>\n",
       "      <td>Desert of the Fervent</td>\n",
       "      <td>2</td>\n",
       "    </tr>\n",
       "    <tr>\n",
       "      <th>213</th>\n",
       "      <td>1463</td>\n",
       "      <td>Captured Sunlight</td>\n",
       "      <td>2</td>\n",
       "    </tr>\n",
       "    <tr>\n",
       "      <th>214</th>\n",
       "      <td>1463</td>\n",
       "      <td>Bituminous Blast</td>\n",
       "      <td>2</td>\n",
       "    </tr>\n",
       "    <tr>\n",
       "      <th>215</th>\n",
       "      <td>1463</td>\n",
       "      <td>Bant Sureblade</td>\n",
       "      <td>2</td>\n",
       "    </tr>\n",
       "    <tr>\n",
       "      <th>216</th>\n",
       "      <td>1463</td>\n",
       "      <td>Anathemancer</td>\n",
       "      <td>2</td>\n",
       "    </tr>\n",
       "    <tr>\n",
       "      <th>217</th>\n",
       "      <td>1463</td>\n",
       "      <td>Ammit Eternal</td>\n",
       "      <td>2</td>\n",
       "    </tr>\n",
       "    <tr>\n",
       "      <th>218</th>\n",
       "      <td>1463</td>\n",
       "      <td>Abrade</td>\n",
       "      <td>2</td>\n",
       "    </tr>\n",
       "    <tr>\n",
       "      <th>219</th>\n",
       "      <td>1463</td>\n",
       "      <td>Struggle // Survive</td>\n",
       "      <td>1</td>\n",
       "    </tr>\n",
       "    <tr>\n",
       "      <th>220</th>\n",
       "      <td>1463</td>\n",
       "      <td>Scavenger Grounds</td>\n",
       "      <td>1</td>\n",
       "    </tr>\n",
       "    <tr>\n",
       "      <th>221</th>\n",
       "      <td>1463</td>\n",
       "      <td>Oona, Queen of the Fae</td>\n",
       "      <td>1</td>\n",
       "    </tr>\n",
       "    <tr>\n",
       "      <th>222</th>\n",
       "      <td>1463</td>\n",
       "      <td>Krosan Tusker</td>\n",
       "      <td>1</td>\n",
       "    </tr>\n",
       "    <tr>\n",
       "      <th>223</th>\n",
       "      <td>1463</td>\n",
       "      <td>Hour of Devastation</td>\n",
       "      <td>1</td>\n",
       "    </tr>\n",
       "    <tr>\n",
       "      <th>224</th>\n",
       "      <td>1463</td>\n",
       "      <td>Fulminator Mage</td>\n",
       "      <td>1</td>\n",
       "    </tr>\n",
       "    <tr>\n",
       "      <th>225</th>\n",
       "      <td>1463</td>\n",
       "      <td>Faerie Macabre</td>\n",
       "      <td>1</td>\n",
       "    </tr>\n",
       "    <tr>\n",
       "      <th>226</th>\n",
       "      <td>1463</td>\n",
       "      <td>Akroma's Blessing</td>\n",
       "      <td>1</td>\n",
       "    </tr>\n",
       "    <tr>\n",
       "      <th>227</th>\n",
       "      <td>2112</td>\n",
       "      <td>Forest</td>\n",
       "      <td>28</td>\n",
       "    </tr>\n",
       "    <tr>\n",
       "      <th>228</th>\n",
       "      <td>2112</td>\n",
       "      <td>Attune with Aether</td>\n",
       "      <td>24</td>\n",
       "    </tr>\n",
       "    <tr>\n",
       "      <th>229</th>\n",
       "      <td>2112</td>\n",
       "      <td>Aether Hub</td>\n",
       "      <td>24</td>\n",
       "    </tr>\n",
       "    <tr>\n",
       "      <th>230</th>\n",
       "      <td>2112</td>\n",
       "      <td>Servant of the Conduit</td>\n",
       "      <td>20</td>\n",
       "    </tr>\n",
       "    <tr>\n",
       "      <th>231</th>\n",
       "      <td>2112</td>\n",
       "      <td>Woodweaver's Puzzleknot</td>\n",
       "      <td>16</td>\n",
       "    </tr>\n",
       "    <tr>\n",
       "      <th>232</th>\n",
       "      <td>2112</td>\n",
       "      <td>Botanical Sanctum</td>\n",
       "      <td>16</td>\n",
       "    </tr>\n",
       "    <tr>\n",
       "      <th>233</th>\n",
       "      <td>2112</td>\n",
       "      <td>Aetherworks Marvel</td>\n",
       "      <td>16</td>\n",
       "    </tr>\n",
       "    <tr>\n",
       "      <th>234</th>\n",
       "      <td>2112</td>\n",
       "      <td>Harnessed Lightning</td>\n",
       "      <td>15</td>\n",
       "    </tr>\n",
       "    <tr>\n",
       "      <th>235</th>\n",
       "      <td>2112</td>\n",
       "      <td>Time Stretch</td>\n",
       "      <td>13</td>\n",
       "    </tr>\n",
       "    <tr>\n",
       "      <th>236</th>\n",
       "      <td>2112</td>\n",
       "      <td>Terastodon</td>\n",
       "      <td>13</td>\n",
       "    </tr>\n",
       "    <tr>\n",
       "      <th>237</th>\n",
       "      <td>2112</td>\n",
       "      <td>Karplusan Forest</td>\n",
       "      <td>13</td>\n",
       "    </tr>\n",
       "    <tr>\n",
       "      <th>238</th>\n",
       "      <td>2112</td>\n",
       "      <td>Mountain</td>\n",
       "      <td>12</td>\n",
       "    </tr>\n",
       "    <tr>\n",
       "      <th>239</th>\n",
       "      <td>2112</td>\n",
       "      <td>Jace, the Mind Sculptor</td>\n",
       "      <td>12</td>\n",
       "    </tr>\n",
       "    <tr>\n",
       "      <th>240</th>\n",
       "      <td>2112</td>\n",
       "      <td>Yavimaya Coast</td>\n",
       "      <td>11</td>\n",
       "    </tr>\n",
       "    <tr>\n",
       "      <th>241</th>\n",
       "      <td>2112</td>\n",
       "      <td>Raging Ravine</td>\n",
       "      <td>10</td>\n",
       "    </tr>\n",
       "    <tr>\n",
       "      <th>242</th>\n",
       "      <td>2112</td>\n",
       "      <td>Whirler Virtuoso</td>\n",
       "      <td>9</td>\n",
       "    </tr>\n",
       "    <tr>\n",
       "      <th>243</th>\n",
       "      <td>2112</td>\n",
       "      <td>Voltaic Brawler</td>\n",
       "      <td>8</td>\n",
       "    </tr>\n",
       "    <tr>\n",
       "      <th>244</th>\n",
       "      <td>2112</td>\n",
       "      <td>Toolcraft Exemplar</td>\n",
       "      <td>8</td>\n",
       "    </tr>\n",
       "    <tr>\n",
       "      <th>245</th>\n",
       "      <td>2112</td>\n",
       "      <td>Sulfurous Springs</td>\n",
       "      <td>8</td>\n",
       "    </tr>\n",
       "    <tr>\n",
       "      <th>246</th>\n",
       "      <td>2112</td>\n",
       "      <td>Smuggler's Copter</td>\n",
       "      <td>8</td>\n",
       "    </tr>\n",
       "    <tr>\n",
       "      <th>247</th>\n",
       "      <td>2112</td>\n",
       "      <td>Scrapheap Scrounger</td>\n",
       "      <td>8</td>\n",
       "    </tr>\n",
       "    <tr>\n",
       "      <th>248</th>\n",
       "      <td>2112</td>\n",
       "      <td>Longtusk Cub</td>\n",
       "      <td>8</td>\n",
       "    </tr>\n",
       "    <tr>\n",
       "      <th>249</th>\n",
       "      <td>2112</td>\n",
       "      <td>Inventor's Apprentice</td>\n",
       "      <td>8</td>\n",
       "    </tr>\n",
       "    <tr>\n",
       "      <th>250</th>\n",
       "      <td>2112</td>\n",
       "      <td>Inspiring Vantage</td>\n",
       "      <td>8</td>\n",
       "    </tr>\n",
       "    <tr>\n",
       "      <th>251</th>\n",
       "      <td>2112</td>\n",
       "      <td>Incinerate</td>\n",
       "      <td>8</td>\n",
       "    </tr>\n",
       "    <tr>\n",
       "      <th>252</th>\n",
       "      <td>2112</td>\n",
       "      <td>Concealed Courtyard</td>\n",
       "      <td>8</td>\n",
       "    </tr>\n",
       "    <tr>\n",
       "      <th>253</th>\n",
       "      <td>2112</td>\n",
       "      <td>Bristling Hydra</td>\n",
       "      <td>8</td>\n",
       "    </tr>\n",
       "    <tr>\n",
       "      <th>254</th>\n",
       "      <td>2112</td>\n",
       "      <td>Bomat Courier</td>\n",
       "      <td>8</td>\n",
       "    </tr>\n",
       "    <tr>\n",
       "      <th>255</th>\n",
       "      <td>2112</td>\n",
       "      <td>Blossoming Defense</td>\n",
       "      <td>8</td>\n",
       "    </tr>\n",
       "    <tr>\n",
       "      <th>256</th>\n",
       "      <td>2112</td>\n",
       "      <td>Birds of Paradise</td>\n",
       "      <td>8</td>\n",
       "    </tr>\n",
       "    <tr>\n",
       "      <th>257</th>\n",
       "      <td>2112</td>\n",
       "      <td>Battlefield Forge</td>\n",
       "      <td>8</td>\n",
       "    </tr>\n",
       "    <tr>\n",
       "      <th>258</th>\n",
       "      <td>2112</td>\n",
       "      <td>Unlicensed Disintegration</td>\n",
       "      <td>7</td>\n",
       "    </tr>\n",
       "    <tr>\n",
       "      <th>259</th>\n",
       "      <td>2112</td>\n",
       "      <td>Electrostatic Pummeler</td>\n",
       "      <td>7</td>\n",
       "    </tr>\n",
       "    <tr>\n",
       "      <th>260</th>\n",
       "      <td>2112</td>\n",
       "      <td>Spirebluff Canal</td>\n",
       "      <td>6</td>\n",
       "    </tr>\n",
       "    <tr>\n",
       "      <th>261</th>\n",
       "      <td>2112</td>\n",
       "      <td>Larger Than Life</td>\n",
       "      <td>6</td>\n",
       "    </tr>\n",
       "    <tr>\n",
       "      <th>262</th>\n",
       "      <td>2112</td>\n",
       "      <td>Island</td>\n",
       "      <td>6</td>\n",
       "    </tr>\n",
       "    <tr>\n",
       "      <th>263</th>\n",
       "      <td>2112</td>\n",
       "      <td>Caves of Koilos</td>\n",
       "      <td>6</td>\n",
       "    </tr>\n",
       "    <tr>\n",
       "      <th>264</th>\n",
       "      <td>2112</td>\n",
       "      <td>Pia Nalaar</td>\n",
       "      <td>5</td>\n",
       "    </tr>\n",
       "    <tr>\n",
       "      <th>265</th>\n",
       "      <td>2112</td>\n",
       "      <td>Veteran Motorist</td>\n",
       "      <td>4</td>\n",
       "    </tr>\n",
       "    <tr>\n",
       "      <th>266</th>\n",
       "      <td>2112</td>\n",
       "      <td>Stoneforge Mystic</td>\n",
       "      <td>4</td>\n",
       "    </tr>\n",
       "    <tr>\n",
       "      <th>267</th>\n",
       "      <td>2112</td>\n",
       "      <td>Serum Visions</td>\n",
       "      <td>4</td>\n",
       "    </tr>\n",
       "    <tr>\n",
       "      <th>268</th>\n",
       "      <td>2112</td>\n",
       "      <td>Glimmer of Genius</td>\n",
       "      <td>4</td>\n",
       "    </tr>\n",
       "    <tr>\n",
       "      <th>269</th>\n",
       "      <td>2112</td>\n",
       "      <td>Built to Smash</td>\n",
       "      <td>4</td>\n",
       "    </tr>\n",
       "    <tr>\n",
       "      <th>270</th>\n",
       "      <td>2112</td>\n",
       "      <td>Rush of Vitality</td>\n",
       "      <td>3</td>\n",
       "    </tr>\n",
       "    <tr>\n",
       "      <th>271</th>\n",
       "      <td>2112</td>\n",
       "      <td>Reckless Charge</td>\n",
       "      <td>3</td>\n",
       "    </tr>\n",
       "    <tr>\n",
       "      <th>272</th>\n",
       "      <td>2112</td>\n",
       "      <td>Plains</td>\n",
       "      <td>3</td>\n",
       "    </tr>\n",
       "    <tr>\n",
       "      <th>273</th>\n",
       "      <td>2112</td>\n",
       "      <td>Moment's Peace</td>\n",
       "      <td>3</td>\n",
       "    </tr>\n",
       "    <tr>\n",
       "      <th>274</th>\n",
       "      <td>2112</td>\n",
       "      <td>Lathnu Hellion</td>\n",
       "      <td>3</td>\n",
       "    </tr>\n",
       "    <tr>\n",
       "      <th>275</th>\n",
       "      <td>2112</td>\n",
       "      <td>Glassblower's Puzzleknot</td>\n",
       "      <td>3</td>\n",
       "    </tr>\n",
       "    <tr>\n",
       "      <th>276</th>\n",
       "      <td>2112</td>\n",
       "      <td>Chandra, Torch of Defiance</td>\n",
       "      <td>3</td>\n",
       "    </tr>\n",
       "    <tr>\n",
       "      <th>277</th>\n",
       "      <td>2112</td>\n",
       "      <td>Blooming Marsh</td>\n",
       "      <td>3</td>\n",
       "    </tr>\n",
       "    <tr>\n",
       "      <th>278</th>\n",
       "      <td>2112</td>\n",
       "      <td>Shivan Reef</td>\n",
       "      <td>2</td>\n",
       "    </tr>\n",
       "    <tr>\n",
       "      <th>279</th>\n",
       "      <td>2112</td>\n",
       "      <td>Mind Stone</td>\n",
       "      <td>2</td>\n",
       "    </tr>\n",
       "    <tr>\n",
       "      <th>280</th>\n",
       "      <td>2112</td>\n",
       "      <td>Lavaclaw Reaches</td>\n",
       "      <td>2</td>\n",
       "    </tr>\n",
       "    <tr>\n",
       "      <th>281</th>\n",
       "      <td>2112</td>\n",
       "      <td>Eternal Witness</td>\n",
       "      <td>2</td>\n",
       "    </tr>\n",
       "    <tr>\n",
       "      <th>282</th>\n",
       "      <td>2112</td>\n",
       "      <td>Engineered Explosives</td>\n",
       "      <td>2</td>\n",
       "    </tr>\n",
       "    <tr>\n",
       "      <th>283</th>\n",
       "      <td>2112</td>\n",
       "      <td>Viridian Shaman</td>\n",
       "      <td>1</td>\n",
       "    </tr>\n",
       "    <tr>\n",
       "      <th>284</th>\n",
       "      <td>2112</td>\n",
       "      <td>Treetop Village</td>\n",
       "      <td>1</td>\n",
       "    </tr>\n",
       "    <tr>\n",
       "      <th>285</th>\n",
       "      <td>2112</td>\n",
       "      <td>Swamp</td>\n",
       "      <td>1</td>\n",
       "    </tr>\n",
       "    <tr>\n",
       "      <th>286</th>\n",
       "      <td>2112</td>\n",
       "      <td>Siege-Gang Commander</td>\n",
       "      <td>1</td>\n",
       "    </tr>\n",
       "    <tr>\n",
       "      <th>287</th>\n",
       "      <td>2112</td>\n",
       "      <td>Saheeli Rai</td>\n",
       "      <td>1</td>\n",
       "    </tr>\n",
       "    <tr>\n",
       "      <th>288</th>\n",
       "      <td>2112</td>\n",
       "      <td>Nissa, Vital Force</td>\n",
       "      <td>1</td>\n",
       "    </tr>\n",
       "    <tr>\n",
       "      <th>289</th>\n",
       "      <td>2112</td>\n",
       "      <td>Llanowar Elves</td>\n",
       "      <td>1</td>\n",
       "    </tr>\n",
       "    <tr>\n",
       "      <th>290</th>\n",
       "      <td>2112</td>\n",
       "      <td>Grafted Wargear</td>\n",
       "      <td>1</td>\n",
       "    </tr>\n",
       "    <tr>\n",
       "      <th>291</th>\n",
       "      <td>2112</td>\n",
       "      <td>Fragmentize</td>\n",
       "      <td>1</td>\n",
       "    </tr>\n",
       "    <tr>\n",
       "      <th>292</th>\n",
       "      <td>2112</td>\n",
       "      <td>Cranial Plating</td>\n",
       "      <td>1</td>\n",
       "    </tr>\n",
       "    <tr>\n",
       "      <th>293</th>\n",
       "      <td>2112</td>\n",
       "      <td>Basilisk Collar</td>\n",
       "      <td>1</td>\n",
       "    </tr>\n",
       "    <tr>\n",
       "      <th>294</th>\n",
       "      <td>2480</td>\n",
       "      <td>Island</td>\n",
       "      <td>76</td>\n",
       "    </tr>\n",
       "    <tr>\n",
       "      <th>295</th>\n",
       "      <td>2480</td>\n",
       "      <td>Sleight of Hand</td>\n",
       "      <td>24</td>\n",
       "    </tr>\n",
       "    <tr>\n",
       "      <th>296</th>\n",
       "      <td>2480</td>\n",
       "      <td>Worldspine Wurm</td>\n",
       "      <td>23</td>\n",
       "    </tr>\n",
       "    <tr>\n",
       "      <th>297</th>\n",
       "      <td>2480</td>\n",
       "      <td>Mystical Tutor</td>\n",
       "      <td>20</td>\n",
       "    </tr>\n",
       "    <tr>\n",
       "      <th>298</th>\n",
       "      <td>2480</td>\n",
       "      <td>Mountain</td>\n",
       "      <td>20</td>\n",
       "    </tr>\n",
       "    <tr>\n",
       "      <th>299</th>\n",
       "      <td>2480</td>\n",
       "      <td>Flash</td>\n",
       "      <td>20</td>\n",
       "    </tr>\n",
       "    <tr>\n",
       "      <th>300</th>\n",
       "      <td>2480</td>\n",
       "      <td>Counterspell</td>\n",
       "      <td>20</td>\n",
       "    </tr>\n",
       "    <tr>\n",
       "      <th>301</th>\n",
       "      <td>2480</td>\n",
       "      <td>Duress</td>\n",
       "      <td>16</td>\n",
       "    </tr>\n",
       "    <tr>\n",
       "      <th>302</th>\n",
       "      <td>2480</td>\n",
       "      <td>Daze</td>\n",
       "      <td>16</td>\n",
       "    </tr>\n",
       "    <tr>\n",
       "      <th>303</th>\n",
       "      <td>2480</td>\n",
       "      <td>Accumulated Knowledge</td>\n",
       "      <td>16</td>\n",
       "    </tr>\n",
       "    <tr>\n",
       "      <th>304</th>\n",
       "      <td>2480</td>\n",
       "      <td>Cunning Wish</td>\n",
       "      <td>15</td>\n",
       "    </tr>\n",
       "    <tr>\n",
       "      <th>305</th>\n",
       "      <td>2480</td>\n",
       "      <td>Dispel</td>\n",
       "      <td>14</td>\n",
       "    </tr>\n",
       "    <tr>\n",
       "      <th>306</th>\n",
       "      <td>2480</td>\n",
       "      <td>City of Brass</td>\n",
       "      <td>14</td>\n",
       "    </tr>\n",
       "    <tr>\n",
       "      <th>307</th>\n",
       "      <td>2480</td>\n",
       "      <td>Swamp</td>\n",
       "      <td>13</td>\n",
       "    </tr>\n",
       "    <tr>\n",
       "      <th>308</th>\n",
       "      <td>2480</td>\n",
       "      <td>Underground River</td>\n",
       "      <td>12</td>\n",
       "    </tr>\n",
       "    <tr>\n",
       "      <th>309</th>\n",
       "      <td>2480</td>\n",
       "      <td>Cabal Therapy</td>\n",
       "      <td>12</td>\n",
       "    </tr>\n",
       "    <tr>\n",
       "      <th>310</th>\n",
       "      <td>2480</td>\n",
       "      <td>Bad River</td>\n",
       "      <td>10</td>\n",
       "    </tr>\n",
       "    <tr>\n",
       "      <th>311</th>\n",
       "      <td>2480</td>\n",
       "      <td>Steam Vents</td>\n",
       "      <td>9</td>\n",
       "    </tr>\n",
       "    <tr>\n",
       "      <th>312</th>\n",
       "      <td>2480</td>\n",
       "      <td>Mental Note</td>\n",
       "      <td>8</td>\n",
       "    </tr>\n",
       "    <tr>\n",
       "      <th>313</th>\n",
       "      <td>2480</td>\n",
       "      <td>Incinerate</td>\n",
       "      <td>7</td>\n",
       "    </tr>\n",
       "    <tr>\n",
       "      <th>314</th>\n",
       "      <td>2480</td>\n",
       "      <td>Memory Lapse</td>\n",
       "      <td>6</td>\n",
       "    </tr>\n",
       "    <tr>\n",
       "      <th>315</th>\n",
       "      <td>2480</td>\n",
       "      <td>Consecrated Sphinx</td>\n",
       "      <td>5</td>\n",
       "    </tr>\n",
       "    <tr>\n",
       "      <th>316</th>\n",
       "      <td>2480</td>\n",
       "      <td>Volcanic Hammer</td>\n",
       "      <td>4</td>\n",
       "    </tr>\n",
       "    <tr>\n",
       "      <th>317</th>\n",
       "      <td>2480</td>\n",
       "      <td>Shock</td>\n",
       "      <td>4</td>\n",
       "    </tr>\n",
       "    <tr>\n",
       "      <th>318</th>\n",
       "      <td>2480</td>\n",
       "      <td>Rakdos Cackler</td>\n",
       "      <td>4</td>\n",
       "    </tr>\n",
       "    <tr>\n",
       "      <th>319</th>\n",
       "      <td>2480</td>\n",
       "      <td>Pack Rat</td>\n",
       "      <td>4</td>\n",
       "    </tr>\n",
       "    <tr>\n",
       "      <th>320</th>\n",
       "      <td>2480</td>\n",
       "      <td>Mountain Valley</td>\n",
       "      <td>4</td>\n",
       "    </tr>\n",
       "    <tr>\n",
       "      <th>321</th>\n",
       "      <td>2480</td>\n",
       "      <td>Living Wish</td>\n",
       "      <td>4</td>\n",
       "    </tr>\n",
       "    <tr>\n",
       "      <th>322</th>\n",
       "      <td>2480</td>\n",
       "      <td>Lava Dart</td>\n",
       "      <td>4</td>\n",
       "    </tr>\n",
       "    <tr>\n",
       "      <th>323</th>\n",
       "      <td>2480</td>\n",
       "      <td>Karplusan Forest</td>\n",
       "      <td>4</td>\n",
       "    </tr>\n",
       "    <tr>\n",
       "      <th>324</th>\n",
       "      <td>2480</td>\n",
       "      <td>Jace, Architect of Thought</td>\n",
       "      <td>4</td>\n",
       "    </tr>\n",
       "    <tr>\n",
       "      <th>325</th>\n",
       "      <td>2480</td>\n",
       "      <td>Inkmoth Nexus</td>\n",
       "      <td>4</td>\n",
       "    </tr>\n",
       "    <tr>\n",
       "      <th>326</th>\n",
       "      <td>2480</td>\n",
       "      <td>Guttersnipe</td>\n",
       "      <td>4</td>\n",
       "    </tr>\n",
       "    <tr>\n",
       "      <th>327</th>\n",
       "      <td>2480</td>\n",
       "      <td>Goblin Electromancer</td>\n",
       "      <td>4</td>\n",
       "    </tr>\n",
       "    <tr>\n",
       "      <th>328</th>\n",
       "      <td>2480</td>\n",
       "      <td>Flash of Insight</td>\n",
       "      <td>4</td>\n",
       "    </tr>\n",
       "    <tr>\n",
       "      <th>329</th>\n",
       "      <td>2480</td>\n",
       "      <td>Flame Rift</td>\n",
       "      <td>4</td>\n",
       "    </tr>\n",
       "    <tr>\n",
       "      <th>330</th>\n",
       "      <td>2480</td>\n",
       "      <td>Blood Crypt</td>\n",
       "      <td>4</td>\n",
       "    </tr>\n",
       "    <tr>\n",
       "      <th>331</th>\n",
       "      <td>2480</td>\n",
       "      <td>Blistercoil Weird</td>\n",
       "      <td>4</td>\n",
       "    </tr>\n",
       "    <tr>\n",
       "      <th>332</th>\n",
       "      <td>2480</td>\n",
       "      <td>Ash Zealot</td>\n",
       "      <td>4</td>\n",
       "    </tr>\n",
       "    <tr>\n",
       "      <th>333</th>\n",
       "      <td>2480</td>\n",
       "      <td>Stronghold Gambit</td>\n",
       "      <td>3</td>\n",
       "    </tr>\n",
       "    <tr>\n",
       "      <th>334</th>\n",
       "      <td>2480</td>\n",
       "      <td>Persecute</td>\n",
       "      <td>3</td>\n",
       "    </tr>\n",
       "    <tr>\n",
       "      <th>335</th>\n",
       "      <td>2480</td>\n",
       "      <td>Judge's Familiar</td>\n",
       "      <td>3</td>\n",
       "    </tr>\n",
       "    <tr>\n",
       "      <th>336</th>\n",
       "      <td>2480</td>\n",
       "      <td>Dark Ritual</td>\n",
       "      <td>3</td>\n",
       "    </tr>\n",
       "    <tr>\n",
       "      <th>337</th>\n",
       "      <td>2480</td>\n",
       "      <td>Ultimate Price</td>\n",
       "      <td>2</td>\n",
       "    </tr>\n",
       "    <tr>\n",
       "      <th>338</th>\n",
       "      <td>2480</td>\n",
       "      <td>Rocky Tar Pit</td>\n",
       "      <td>2</td>\n",
       "    </tr>\n",
       "    <tr>\n",
       "      <th>339</th>\n",
       "      <td>2480</td>\n",
       "      <td>Overgrown Tomb</td>\n",
       "      <td>2</td>\n",
       "    </tr>\n",
       "    <tr>\n",
       "      <th>340</th>\n",
       "      <td>2480</td>\n",
       "      <td>Ostracize</td>\n",
       "      <td>2</td>\n",
       "    </tr>\n",
       "    <tr>\n",
       "      <th>341</th>\n",
       "      <td>2480</td>\n",
       "      <td>Nivmagus Elemental</td>\n",
       "      <td>2</td>\n",
       "    </tr>\n",
       "    <tr>\n",
       "      <th>342</th>\n",
       "      <td>2480</td>\n",
       "      <td>Mana Clash</td>\n",
       "      <td>2</td>\n",
       "    </tr>\n",
       "    <tr>\n",
       "      <th>343</th>\n",
       "      <td>2480</td>\n",
       "      <td>Go for the Throat</td>\n",
       "      <td>2</td>\n",
       "    </tr>\n",
       "    <tr>\n",
       "      <th>344</th>\n",
       "      <td>2480</td>\n",
       "      <td>Burning Wish</td>\n",
       "      <td>2</td>\n",
       "    </tr>\n",
       "    <tr>\n",
       "      <th>345</th>\n",
       "      <td>2480</td>\n",
       "      <td>Worldly Tutor</td>\n",
       "      <td>1</td>\n",
       "    </tr>\n",
       "    <tr>\n",
       "      <th>346</th>\n",
       "      <td>2480</td>\n",
       "      <td>Sulfurous Springs</td>\n",
       "      <td>1</td>\n",
       "    </tr>\n",
       "    <tr>\n",
       "      <th>347</th>\n",
       "      <td>2480</td>\n",
       "      <td>Polymorph</td>\n",
       "      <td>1</td>\n",
       "    </tr>\n",
       "    <tr>\n",
       "      <th>348</th>\n",
       "      <td>2480</td>\n",
       "      <td>Hibernation</td>\n",
       "      <td>1</td>\n",
       "    </tr>\n",
       "    <tr>\n",
       "      <th>349</th>\n",
       "      <td>2480</td>\n",
       "      <td>Forest</td>\n",
       "      <td>1</td>\n",
       "    </tr>\n",
       "    <tr>\n",
       "      <th>350</th>\n",
       "      <td>2480</td>\n",
       "      <td>Cyclonic Rift</td>\n",
       "      <td>1</td>\n",
       "    </tr>\n",
       "    <tr>\n",
       "      <th>351</th>\n",
       "      <td>2480</td>\n",
       "      <td>Blue Sun's Zenith</td>\n",
       "      <td>1</td>\n",
       "    </tr>\n",
       "    <tr>\n",
       "      <th>352</th>\n",
       "      <td>2480</td>\n",
       "      <td>Black Sun's Zenith</td>\n",
       "      <td>1</td>\n",
       "    </tr>\n",
       "    <tr>\n",
       "      <th>353</th>\n",
       "      <td>3223</td>\n",
       "      <td>Mountain</td>\n",
       "      <td>45</td>\n",
       "    </tr>\n",
       "    <tr>\n",
       "      <th>354</th>\n",
       "      <td>3223</td>\n",
       "      <td>Arid Mesa</td>\n",
       "      <td>28</td>\n",
       "    </tr>\n",
       "    <tr>\n",
       "      <th>355</th>\n",
       "      <td>3223</td>\n",
       "      <td>Scalding Tarn</td>\n",
       "      <td>24</td>\n",
       "    </tr>\n",
       "    <tr>\n",
       "      <th>356</th>\n",
       "      <td>3223</td>\n",
       "      <td>Lightning Bolt</td>\n",
       "      <td>23</td>\n",
       "    </tr>\n",
       "    <tr>\n",
       "      <th>357</th>\n",
       "      <td>3223</td>\n",
       "      <td>Stomping Ground</td>\n",
       "      <td>17</td>\n",
       "    </tr>\n",
       "    <tr>\n",
       "      <th>358</th>\n",
       "      <td>3223</td>\n",
       "      <td>Valakut, the Molten Pinnacle</td>\n",
       "      <td>16</td>\n",
       "    </tr>\n",
       "    <tr>\n",
       "      <th>359</th>\n",
       "      <td>3223</td>\n",
       "      <td>Primeval Titan</td>\n",
       "      <td>16</td>\n",
       "    </tr>\n",
       "    <tr>\n",
       "      <th>360</th>\n",
       "      <td>3223</td>\n",
       "      <td>Khalni Heart Expedition</td>\n",
       "      <td>15</td>\n",
       "    </tr>\n",
       "    <tr>\n",
       "      <th>361</th>\n",
       "      <td>3223</td>\n",
       "      <td>Gruul Signet</td>\n",
       "      <td>15</td>\n",
       "    </tr>\n",
       "    <tr>\n",
       "      <th>362</th>\n",
       "      <td>3223</td>\n",
       "      <td>Cultivate</td>\n",
       "      <td>15</td>\n",
       "    </tr>\n",
       "    <tr>\n",
       "      <th>363</th>\n",
       "      <td>3223</td>\n",
       "      <td>Inferno Titan</td>\n",
       "      <td>14</td>\n",
       "    </tr>\n",
       "    <tr>\n",
       "      <th>364</th>\n",
       "      <td>3223</td>\n",
       "      <td>Plains</td>\n",
       "      <td>12</td>\n",
       "    </tr>\n",
       "    <tr>\n",
       "      <th>365</th>\n",
       "      <td>3223</td>\n",
       "      <td>Lotus Cobra</td>\n",
       "      <td>12</td>\n",
       "    </tr>\n",
       "    <tr>\n",
       "      <th>366</th>\n",
       "      <td>3223</td>\n",
       "      <td>Harrow</td>\n",
       "      <td>11</td>\n",
       "    </tr>\n",
       "    <tr>\n",
       "      <th>367</th>\n",
       "      <td>3223</td>\n",
       "      <td>Island</td>\n",
       "      <td>9</td>\n",
       "    </tr>\n",
       "    <tr>\n",
       "      <th>368</th>\n",
       "      <td>3223</td>\n",
       "      <td>Forest</td>\n",
       "      <td>9</td>\n",
       "    </tr>\n",
       "    <tr>\n",
       "      <th>369</th>\n",
       "      <td>3223</td>\n",
       "      <td>Verdant Catacombs</td>\n",
       "      <td>8</td>\n",
       "    </tr>\n",
       "    <tr>\n",
       "      <th>370</th>\n",
       "      <td>3223</td>\n",
       "      <td>Preordain</td>\n",
       "      <td>8</td>\n",
       "    </tr>\n",
       "    <tr>\n",
       "      <th>371</th>\n",
       "      <td>3223</td>\n",
       "      <td>Figure of Destiny</td>\n",
       "      <td>8</td>\n",
       "    </tr>\n",
       "    <tr>\n",
       "      <th>372</th>\n",
       "      <td>3223</td>\n",
       "      <td>Birds of Paradise</td>\n",
       "      <td>8</td>\n",
       "    </tr>\n",
       "    <tr>\n",
       "      <th>373</th>\n",
       "      <td>3223</td>\n",
       "      <td>Misty Rainforest</td>\n",
       "      <td>7</td>\n",
       "    </tr>\n",
       "    <tr>\n",
       "      <th>374</th>\n",
       "      <td>3223</td>\n",
       "      <td>Wistful Selkie</td>\n",
       "      <td>4</td>\n",
       "    </tr>\n",
       "    <tr>\n",
       "      <th>375</th>\n",
       "      <td>3223</td>\n",
       "      <td>Vexing Devil</td>\n",
       "      <td>4</td>\n",
       "    </tr>\n",
       "    <tr>\n",
       "      <th>376</th>\n",
       "      <td>3223</td>\n",
       "      <td>Thermo-Alchemist</td>\n",
       "      <td>4</td>\n",
       "    </tr>\n",
       "    <tr>\n",
       "      <th>377</th>\n",
       "      <td>3223</td>\n",
       "      <td>Sylvan Ranger</td>\n",
       "      <td>4</td>\n",
       "    </tr>\n",
       "    <tr>\n",
       "      <th>378</th>\n",
       "      <td>3223</td>\n",
       "      <td>Steppe Lynx</td>\n",
       "      <td>4</td>\n",
       "    </tr>\n",
       "    <tr>\n",
       "      <th>379</th>\n",
       "      <td>3223</td>\n",
       "      <td>Steam Vents</td>\n",
       "      <td>4</td>\n",
       "    </tr>\n",
       "    <tr>\n",
       "      <th>380</th>\n",
       "      <td>3223</td>\n",
       "      <td>Squadron Hawk</td>\n",
       "      <td>4</td>\n",
       "    </tr>\n",
       "    <tr>\n",
       "      <th>381</th>\n",
       "      <td>3223</td>\n",
       "      <td>Selfless Spirit</td>\n",
       "      <td>4</td>\n",
       "    </tr>\n",
       "    <tr>\n",
       "      <th>382</th>\n",
       "      <td>3223</td>\n",
       "      <td>Sejiri Refuge</td>\n",
       "      <td>4</td>\n",
       "    </tr>\n",
       "    <tr>\n",
       "      <th>383</th>\n",
       "      <td>3223</td>\n",
       "      <td>Pillar of Flame</td>\n",
       "      <td>4</td>\n",
       "    </tr>\n",
       "    <tr>\n",
       "      <th>384</th>\n",
       "      <td>3223</td>\n",
       "      <td>Oracle of Mul Daya</td>\n",
       "      <td>4</td>\n",
       "    </tr>\n",
       "    <tr>\n",
       "      <th>385</th>\n",
       "      <td>3223</td>\n",
       "      <td>Marsh Flats</td>\n",
       "      <td>4</td>\n",
       "    </tr>\n",
       "    <tr>\n",
       "      <th>386</th>\n",
       "      <td>3223</td>\n",
       "      <td>Mana Leak</td>\n",
       "      <td>4</td>\n",
       "    </tr>\n",
       "    <tr>\n",
       "      <th>387</th>\n",
       "      <td>3223</td>\n",
       "      <td>Llanowar Elves</td>\n",
       "      <td>4</td>\n",
       "    </tr>\n",
       "    <tr>\n",
       "      <th>388</th>\n",
       "      <td>3223</td>\n",
       "      <td>Leyline of Sanctity</td>\n",
       "      <td>4</td>\n",
       "    </tr>\n",
       "    <tr>\n",
       "      <th>389</th>\n",
       "      <td>3223</td>\n",
       "      <td>Honor of the Pure</td>\n",
       "      <td>4</td>\n",
       "    </tr>\n",
       "    <tr>\n",
       "      <th>390</th>\n",
       "      <td>3223</td>\n",
       "      <td>Gwyllion Hedge-Mage</td>\n",
       "      <td>4</td>\n",
       "    </tr>\n",
       "    <tr>\n",
       "      <th>391</th>\n",
       "      <td>3223</td>\n",
       "      <td>Godless Shrine</td>\n",
       "      <td>4</td>\n",
       "    </tr>\n",
       "    <tr>\n",
       "      <th>392</th>\n",
       "      <td>3223</td>\n",
       "      <td>Goblin Guide</td>\n",
       "      <td>4</td>\n",
       "    </tr>\n",
       "    <tr>\n",
       "      <th>393</th>\n",
       "      <td>3223</td>\n",
       "      <td>Goblin Bushwhacker</td>\n",
       "      <td>4</td>\n",
       "    </tr>\n",
       "    <tr>\n",
       "      <th>394</th>\n",
       "      <td>3223</td>\n",
       "      <td>Glacial Fortress</td>\n",
       "      <td>4</td>\n",
       "    </tr>\n",
       "    <tr>\n",
       "      <th>395</th>\n",
       "      <td>3223</td>\n",
       "      <td>Foul Emissary</td>\n",
       "      <td>4</td>\n",
       "    </tr>\n",
       "    <tr>\n",
       "      <th>396</th>\n",
       "      <td>3223</td>\n",
       "      <td>Foresee</td>\n",
       "      <td>4</td>\n",
       "    </tr>\n",
       "    <tr>\n",
       "      <th>397</th>\n",
       "      <td>3223</td>\n",
       "      <td>Elite Vanguard</td>\n",
       "      <td>4</td>\n",
       "    </tr>\n",
       "    <tr>\n",
       "      <th>398</th>\n",
       "      <td>3223</td>\n",
       "      <td>Elder Deep-Fiend</td>\n",
       "      <td>4</td>\n",
       "    </tr>\n",
       "    <tr>\n",
       "      <th>399</th>\n",
       "      <td>3223</td>\n",
       "      <td>Day of Judgment</td>\n",
       "      <td>4</td>\n",
       "    </tr>\n",
       "    <tr>\n",
       "      <th>400</th>\n",
       "      <td>3223</td>\n",
       "      <td>Condemn</td>\n",
       "      <td>4</td>\n",
       "    </tr>\n",
       "    <tr>\n",
       "      <th>401</th>\n",
       "      <td>3223</td>\n",
       "      <td>Burst Lightning</td>\n",
       "      <td>4</td>\n",
       "    </tr>\n",
       "    <tr>\n",
       "      <th>402</th>\n",
       "      <td>3223</td>\n",
       "      <td>Brave the Elements</td>\n",
       "      <td>4</td>\n",
       "    </tr>\n",
       "    <tr>\n",
       "      <th>403</th>\n",
       "      <td>3223</td>\n",
       "      <td>Thunderous Wrath</td>\n",
       "      <td>3</td>\n",
       "    </tr>\n",
       "    <tr>\n",
       "      <th>404</th>\n",
       "      <td>3223</td>\n",
       "      <td>Obstinate Baloth</td>\n",
       "      <td>3</td>\n",
       "    </tr>\n",
       "    <tr>\n",
       "      <th>405</th>\n",
       "      <td>3223</td>\n",
       "      <td>Incendiary Flow</td>\n",
       "      <td>3</td>\n",
       "    </tr>\n",
       "    <tr>\n",
       "      <th>406</th>\n",
       "      <td>3223</td>\n",
       "      <td>Cancel</td>\n",
       "      <td>3</td>\n",
       "    </tr>\n",
       "    <tr>\n",
       "      <th>407</th>\n",
       "      <td>3223</td>\n",
       "      <td>Bonfire of the Damned</td>\n",
       "      <td>3</td>\n",
       "    </tr>\n",
       "    <tr>\n",
       "      <th>408</th>\n",
       "      <td>3223</td>\n",
       "      <td>Ajani Goldmane</td>\n",
       "      <td>3</td>\n",
       "    </tr>\n",
       "    <tr>\n",
       "      <th>409</th>\n",
       "      <td>3223</td>\n",
       "      <td>Wolfir Silverheart</td>\n",
       "      <td>2</td>\n",
       "    </tr>\n",
       "    <tr>\n",
       "      <th>410</th>\n",
       "      <td>3223</td>\n",
       "      <td>Thalia, Heretic Cathar</td>\n",
       "      <td>2</td>\n",
       "    </tr>\n",
       "    <tr>\n",
       "      <th>411</th>\n",
       "      <td>3223</td>\n",
       "      <td>Teetering Peaks</td>\n",
       "      <td>2</td>\n",
       "    </tr>\n",
       "    <tr>\n",
       "      <th>412</th>\n",
       "      <td>3223</td>\n",
       "      <td>Summoning Trap</td>\n",
       "      <td>2</td>\n",
       "    </tr>\n",
       "    <tr>\n",
       "      <th>413</th>\n",
       "      <td>3223</td>\n",
       "      <td>Quicken</td>\n",
       "      <td>2</td>\n",
       "    </tr>\n",
       "    <tr>\n",
       "      <th>414</th>\n",
       "      <td>3223</td>\n",
       "      <td>Pyroclasm</td>\n",
       "      <td>2</td>\n",
       "    </tr>\n",
       "    <tr>\n",
       "      <th>415</th>\n",
       "      <td>3223</td>\n",
       "      <td>Frost Titan</td>\n",
       "      <td>2</td>\n",
       "    </tr>\n",
       "    <tr>\n",
       "      <th>416</th>\n",
       "      <td>3223</td>\n",
       "      <td>Cavern of Souls</td>\n",
       "      <td>2</td>\n",
       "    </tr>\n",
       "    <tr>\n",
       "      <th>417</th>\n",
       "      <td>3223</td>\n",
       "      <td>Blessed Alliance</td>\n",
       "      <td>2</td>\n",
       "    </tr>\n",
       "    <tr>\n",
       "      <th>418</th>\n",
       "      <td>3223</td>\n",
       "      <td>Bedlam Reveler</td>\n",
       "      <td>2</td>\n",
       "    </tr>\n",
       "    <tr>\n",
       "      <th>419</th>\n",
       "      <td>3223</td>\n",
       "      <td>Jace's Ingenuity</td>\n",
       "      <td>1</td>\n",
       "    </tr>\n",
       "    <tr>\n",
       "      <th>420</th>\n",
       "      <td>3223</td>\n",
       "      <td>Imprisoned in the Moon</td>\n",
       "      <td>1</td>\n",
       "    </tr>\n",
       "    <tr>\n",
       "      <th>421</th>\n",
       "      <td>3223</td>\n",
       "      <td>Gaea's Revenge</td>\n",
       "      <td>1</td>\n",
       "    </tr>\n",
       "    <tr>\n",
       "      <th>422</th>\n",
       "      <td>3223</td>\n",
       "      <td>Entreat the Angels</td>\n",
       "      <td>1</td>\n",
       "    </tr>\n",
       "    <tr>\n",
       "      <th>423</th>\n",
       "      <td>3223</td>\n",
       "      <td>Elixir of Immortality</td>\n",
       "      <td>1</td>\n",
       "    </tr>\n",
       "    <tr>\n",
       "      <th>424</th>\n",
       "      <td>3223</td>\n",
       "      <td>Desolate Lighthouse</td>\n",
       "      <td>1</td>\n",
       "    </tr>\n",
       "    <tr>\n",
       "      <th>425</th>\n",
       "      <td>3668</td>\n",
       "      <td>Snow-Covered Mountain</td>\n",
       "      <td>43</td>\n",
       "    </tr>\n",
       "    <tr>\n",
       "      <th>426</th>\n",
       "      <td>3668</td>\n",
       "      <td>Plains</td>\n",
       "      <td>20</td>\n",
       "    </tr>\n",
       "    <tr>\n",
       "      <th>427</th>\n",
       "      <td>3668</td>\n",
       "      <td>Great Furnace</td>\n",
       "      <td>16</td>\n",
       "    </tr>\n",
       "    <tr>\n",
       "      <th>428</th>\n",
       "      <td>3668</td>\n",
       "      <td>Shrapnel Blast</td>\n",
       "      <td>13</td>\n",
       "    </tr>\n",
       "    <tr>\n",
       "      <th>429</th>\n",
       "      <td>3668</td>\n",
       "      <td>Wasteland</td>\n",
       "      <td>12</td>\n",
       "    </tr>\n",
       "    <tr>\n",
       "      <th>430</th>\n",
       "      <td>3668</td>\n",
       "      <td>Lotus Petal</td>\n",
       "      <td>12</td>\n",
       "    </tr>\n",
       "    <tr>\n",
       "      <th>431</th>\n",
       "      <td>3668</td>\n",
       "      <td>Chrome Mox</td>\n",
       "      <td>12</td>\n",
       "    </tr>\n",
       "    <tr>\n",
       "      <th>432</th>\n",
       "      <td>3668</td>\n",
       "      <td>Ancient Tomb</td>\n",
       "      <td>12</td>\n",
       "    </tr>\n",
       "    <tr>\n",
       "      <th>433</th>\n",
       "      <td>3668</td>\n",
       "      <td>Thundermaw Hellkite</td>\n",
       "      <td>11</td>\n",
       "    </tr>\n",
       "    <tr>\n",
       "      <th>434</th>\n",
       "      <td>3668</td>\n",
       "      <td>Island</td>\n",
       "      <td>10</td>\n",
       "    </tr>\n",
       "    <tr>\n",
       "      <th>435</th>\n",
       "      <td>3668</td>\n",
       "      <td>Bonesplitter</td>\n",
       "      <td>10</td>\n",
       "    </tr>\n",
       "    <tr>\n",
       "      <th>436</th>\n",
       "      <td>3668</td>\n",
       "      <td>Cursed Scroll</td>\n",
       "      <td>9</td>\n",
       "    </tr>\n",
       "    <tr>\n",
       "      <th>437</th>\n",
       "      <td>3668</td>\n",
       "      <td>Thoughtcast</td>\n",
       "      <td>8</td>\n",
       "    </tr>\n",
       "    <tr>\n",
       "      <th>438</th>\n",
       "      <td>3668</td>\n",
       "      <td>Solemn Simulacrum</td>\n",
       "      <td>8</td>\n",
       "    </tr>\n",
       "    <tr>\n",
       "      <th>439</th>\n",
       "      <td>3668</td>\n",
       "      <td>Snow-Covered Forest</td>\n",
       "      <td>8</td>\n",
       "    </tr>\n",
       "    <tr>\n",
       "      <th>440</th>\n",
       "      <td>3668</td>\n",
       "      <td>Slith Firewalker</td>\n",
       "      <td>8</td>\n",
       "    </tr>\n",
       "    <tr>\n",
       "      <th>441</th>\n",
       "      <td>3668</td>\n",
       "      <td>Seat of the Synod</td>\n",
       "      <td>8</td>\n",
       "    </tr>\n",
       "    <tr>\n",
       "      <th>442</th>\n",
       "      <td>3668</td>\n",
       "      <td>Searing Spear</td>\n",
       "      <td>8</td>\n",
       "    </tr>\n",
       "    <tr>\n",
       "      <th>443</th>\n",
       "      <td>3668</td>\n",
       "      <td>Ornithopter</td>\n",
       "      <td>8</td>\n",
       "    </tr>\n",
       "    <tr>\n",
       "      <th>444</th>\n",
       "      <td>3668</td>\n",
       "      <td>Mogg Fanatic</td>\n",
       "      <td>8</td>\n",
       "    </tr>\n",
       "    <tr>\n",
       "      <th>445</th>\n",
       "      <td>3668</td>\n",
       "      <td>Jackal Pup</td>\n",
       "      <td>8</td>\n",
       "    </tr>\n",
       "    <tr>\n",
       "      <th>446</th>\n",
       "      <td>3668</td>\n",
       "      <td>Frogmite</td>\n",
       "      <td>8</td>\n",
       "    </tr>\n",
       "    <tr>\n",
       "      <th>447</th>\n",
       "      <td>3668</td>\n",
       "      <td>Eidolon of the Great Revel</td>\n",
       "      <td>8</td>\n",
       "    </tr>\n",
       "    <tr>\n",
       "      <th>448</th>\n",
       "      <td>3668</td>\n",
       "      <td>Somber Hoverguard</td>\n",
       "      <td>7</td>\n",
       "    </tr>\n",
       "    <tr>\n",
       "      <th>449</th>\n",
       "      <td>3668</td>\n",
       "      <td>Skred</td>\n",
       "      <td>7</td>\n",
       "    </tr>\n",
       "    <tr>\n",
       "      <th>450</th>\n",
       "      <td>3668</td>\n",
       "      <td>Myr Enforcer</td>\n",
       "      <td>7</td>\n",
       "    </tr>\n",
       "    <tr>\n",
       "      <th>451</th>\n",
       "      <td>3668</td>\n",
       "      <td>Coldsteel Heart</td>\n",
       "      <td>7</td>\n",
       "    </tr>\n",
       "    <tr>\n",
       "      <th>452</th>\n",
       "      <td>3668</td>\n",
       "      <td>Rootbound Crag</td>\n",
       "      <td>6</td>\n",
       "    </tr>\n",
       "    <tr>\n",
       "      <th>453</th>\n",
       "      <td>3668</td>\n",
       "      <td>Glimmervoid</td>\n",
       "      <td>6</td>\n",
       "    </tr>\n",
       "    <tr>\n",
       "      <th>454</th>\n",
       "      <td>3668</td>\n",
       "      <td>Thragtusk</td>\n",
       "      <td>5</td>\n",
       "    </tr>\n",
       "    <tr>\n",
       "      <th>455</th>\n",
       "      <td>3668</td>\n",
       "      <td>Swamp</td>\n",
       "      <td>5</td>\n",
       "    </tr>\n",
       "    <tr>\n",
       "      <th>456</th>\n",
       "      <td>3668</td>\n",
       "      <td>Welding Jar</td>\n",
       "      <td>4</td>\n",
       "    </tr>\n",
       "    <tr>\n",
       "      <th>457</th>\n",
       "      <td>3668</td>\n",
       "      <td>War Falcon</td>\n",
       "      <td>4</td>\n",
       "    </tr>\n",
       "    <tr>\n",
       "      <th>458</th>\n",
       "      <td>3668</td>\n",
       "      <td>Vault of Whispers</td>\n",
       "      <td>4</td>\n",
       "    </tr>\n",
       "    <tr>\n",
       "      <th>459</th>\n",
       "      <td>3668</td>\n",
       "      <td>Tree of Tales</td>\n",
       "      <td>4</td>\n",
       "    </tr>\n",
       "    <tr>\n",
       "      <th>460</th>\n",
       "      <td>3668</td>\n",
       "      <td>Thirst for Knowledge</td>\n",
       "      <td>4</td>\n",
       "    </tr>\n",
       "    <tr>\n",
       "      <th>461</th>\n",
       "      <td>3668</td>\n",
       "      <td>Sublime Archangel</td>\n",
       "      <td>4</td>\n",
       "    </tr>\n",
       "    <tr>\n",
       "      <th>462</th>\n",
       "      <td>3668</td>\n",
       "      <td>Stone Rain</td>\n",
       "      <td>4</td>\n",
       "    </tr>\n",
       "    <tr>\n",
       "      <th>463</th>\n",
       "      <td>3668</td>\n",
       "      <td>Soltari Trooper</td>\n",
       "      <td>4</td>\n",
       "    </tr>\n",
       "    <tr>\n",
       "      <th>464</th>\n",
       "      <td>3668</td>\n",
       "      <td>Soltari Foot Soldier</td>\n",
       "      <td>4</td>\n",
       "    </tr>\n",
       "    <tr>\n",
       "      <th>465</th>\n",
       "      <td>3668</td>\n",
       "      <td>Seething Song</td>\n",
       "      <td>4</td>\n",
       "    </tr>\n",
       "    <tr>\n",
       "      <th>466</th>\n",
       "      <td>3668</td>\n",
       "      <td>Rite of Flame</td>\n",
       "      <td>4</td>\n",
       "    </tr>\n",
       "    <tr>\n",
       "      <th>467</th>\n",
       "      <td>3668</td>\n",
       "      <td>Reanimate</td>\n",
       "      <td>4</td>\n",
       "    </tr>\n",
       "    <tr>\n",
       "      <th>468</th>\n",
       "      <td>3668</td>\n",
       "      <td>Prophetic Flamespeaker</td>\n",
       "      <td>4</td>\n",
       "    </tr>\n",
       "    <tr>\n",
       "      <th>469</th>\n",
       "      <td>3668</td>\n",
       "      <td>Mogis's Warhound</td>\n",
       "      <td>4</td>\n",
       "    </tr>\n",
       "    <tr>\n",
       "      <th>470</th>\n",
       "      <td>3668</td>\n",
       "      <td>Mishra's Bauble</td>\n",
       "      <td>4</td>\n",
       "    </tr>\n",
       "    <tr>\n",
       "      <th>471</th>\n",
       "      <td>3668</td>\n",
       "      <td>Living Death</td>\n",
       "      <td>4</td>\n",
       "    </tr>\n",
       "    <tr>\n",
       "      <th>472</th>\n",
       "      <td>3668</td>\n",
       "      <td>Knight of Glory</td>\n",
       "      <td>4</td>\n",
       "    </tr>\n",
       "    <tr>\n",
       "      <th>473</th>\n",
       "      <td>3668</td>\n",
       "      <td>Kataki, War's Wage</td>\n",
       "      <td>4</td>\n",
       "    </tr>\n",
       "    <tr>\n",
       "      <th>474</th>\n",
       "      <td>3668</td>\n",
       "      <td>Jinxed Choker</td>\n",
       "      <td>4</td>\n",
       "    </tr>\n",
       "    <tr>\n",
       "      <th>475</th>\n",
       "      <td>3668</td>\n",
       "      <td>Intuition</td>\n",
       "      <td>4</td>\n",
       "    </tr>\n",
       "    <tr>\n",
       "      <th>476</th>\n",
       "      <td>3668</td>\n",
       "      <td>Ideas Unbound</td>\n",
       "      <td>4</td>\n",
       "    </tr>\n",
       "    <tr>\n",
       "      <th>477</th>\n",
       "      <td>3668</td>\n",
       "      <td>Erayo, Soratami Ascendant // Erayo's Essence</td>\n",
       "      <td>4</td>\n",
       "    </tr>\n",
       "    <tr>\n",
       "      <th>478</th>\n",
       "      <td>3668</td>\n",
       "      <td>Drowned Catacomb</td>\n",
       "      <td>4</td>\n",
       "    </tr>\n",
       "    <tr>\n",
       "      <th>479</th>\n",
       "      <td>3668</td>\n",
       "      <td>Dark Ritual</td>\n",
       "      <td>4</td>\n",
       "    </tr>\n",
       "    <tr>\n",
       "      <th>480</th>\n",
       "      <td>3668</td>\n",
       "      <td>Chromatic Sphere</td>\n",
       "      <td>4</td>\n",
       "    </tr>\n",
       "    <tr>\n",
       "      <th>481</th>\n",
       "      <td>3668</td>\n",
       "      <td>Arc-Slogger</td>\n",
       "      <td>4</td>\n",
       "    </tr>\n",
       "    <tr>\n",
       "      <th>482</th>\n",
       "      <td>3668</td>\n",
       "      <td>Ancient Den</td>\n",
       "      <td>4</td>\n",
       "    </tr>\n",
       "    <tr>\n",
       "      <th>483</th>\n",
       "      <td>3668</td>\n",
       "      <td>Ajani, Caller of the Pride</td>\n",
       "      <td>4</td>\n",
       "    </tr>\n",
       "    <tr>\n",
       "      <th>484</th>\n",
       "      <td>3668</td>\n",
       "      <td>Talisman of Impulse</td>\n",
       "      <td>3</td>\n",
       "    </tr>\n",
       "    <tr>\n",
       "      <th>485</th>\n",
       "      <td>3668</td>\n",
       "      <td>Talisman of Dominance</td>\n",
       "      <td>3</td>\n",
       "    </tr>\n",
       "    <tr>\n",
       "      <th>486</th>\n",
       "      <td>3668</td>\n",
       "      <td>Sphinx of Uthuun</td>\n",
       "      <td>3</td>\n",
       "    </tr>\n",
       "    <tr>\n",
       "      <th>487</th>\n",
       "      <td>3668</td>\n",
       "      <td>Molten Rain</td>\n",
       "      <td>3</td>\n",
       "    </tr>\n",
       "    <tr>\n",
       "      <th>488</th>\n",
       "      <td>3668</td>\n",
       "      <td>Into the North</td>\n",
       "      <td>3</td>\n",
       "    </tr>\n",
       "    <tr>\n",
       "      <th>489</th>\n",
       "      <td>3668</td>\n",
       "      <td>Chandra, the Firebrand</td>\n",
       "      <td>3</td>\n",
       "    </tr>\n",
       "    <tr>\n",
       "      <th>490</th>\n",
       "      <td>3668</td>\n",
       "      <td>Acidic Slime</td>\n",
       "      <td>3</td>\n",
       "    </tr>\n",
       "    <tr>\n",
       "      <th>491</th>\n",
       "      <td>3668</td>\n",
       "      <td>Viridian Shaman</td>\n",
       "      <td>2</td>\n",
       "    </tr>\n",
       "    <tr>\n",
       "      <th>492</th>\n",
       "      <td>3668</td>\n",
       "      <td>Triskelion</td>\n",
       "      <td>2</td>\n",
       "    </tr>\n",
       "    <tr>\n",
       "      <th>493</th>\n",
       "      <td>3668</td>\n",
       "      <td>Smelt // Herd // Saw</td>\n",
       "      <td>2</td>\n",
       "    </tr>\n",
       "    <tr>\n",
       "      <th>494</th>\n",
       "      <td>3668</td>\n",
       "      <td>Scrying Sheets</td>\n",
       "      <td>2</td>\n",
       "    </tr>\n",
       "    <tr>\n",
       "      <th>495</th>\n",
       "      <td>3668</td>\n",
       "      <td>Pyrite Spellbomb</td>\n",
       "      <td>2</td>\n",
       "    </tr>\n",
       "    <tr>\n",
       "      <th>496</th>\n",
       "      <td>3668</td>\n",
       "      <td>Leonin Skyhunter</td>\n",
       "      <td>2</td>\n",
       "    </tr>\n",
       "    <tr>\n",
       "      <th>497</th>\n",
       "      <td>3668</td>\n",
       "      <td>Elderscale Wurm</td>\n",
       "      <td>2</td>\n",
       "    </tr>\n",
       "    <tr>\n",
       "      <th>498</th>\n",
       "      <td>3668</td>\n",
       "      <td>Dictate of Heliod</td>\n",
       "      <td>2</td>\n",
       "    </tr>\n",
       "    <tr>\n",
       "      <th>499</th>\n",
       "      <td>3668</td>\n",
       "      <td>Ajani's Presence</td>\n",
       "      <td>2</td>\n",
       "    </tr>\n",
       "    <tr>\n",
       "      <th>500</th>\n",
       "      <td>3668</td>\n",
       "      <td>Pithing Needle</td>\n",
       "      <td>1</td>\n",
       "    </tr>\n",
       "    <tr>\n",
       "      <th>501</th>\n",
       "      <td>3668</td>\n",
       "      <td>Oblivion Ring</td>\n",
       "      <td>1</td>\n",
       "    </tr>\n",
       "    <tr>\n",
       "      <th>502</th>\n",
       "      <td>3668</td>\n",
       "      <td>Mouth of Ronom</td>\n",
       "      <td>1</td>\n",
       "    </tr>\n",
       "    <tr>\n",
       "      <th>503</th>\n",
       "      <td>3668</td>\n",
       "      <td>Mind's Eye</td>\n",
       "      <td>1</td>\n",
       "    </tr>\n",
       "    <tr>\n",
       "      <th>504</th>\n",
       "      <td>3668</td>\n",
       "      <td>Magmaquake</td>\n",
       "      <td>1</td>\n",
       "    </tr>\n",
       "    <tr>\n",
       "      <th>505</th>\n",
       "      <td>3668</td>\n",
       "      <td>Highland Weald</td>\n",
       "      <td>1</td>\n",
       "    </tr>\n",
       "    <tr>\n",
       "      <th>506</th>\n",
       "      <td>3668</td>\n",
       "      <td>Frost Marsh</td>\n",
       "      <td>1</td>\n",
       "    </tr>\n",
       "    <tr>\n",
       "      <th>507</th>\n",
       "      <td>3668</td>\n",
       "      <td>Evolving Wilds</td>\n",
       "      <td>1</td>\n",
       "    </tr>\n",
       "    <tr>\n",
       "      <th>508</th>\n",
       "      <td>3668</td>\n",
       "      <td>Duplicant</td>\n",
       "      <td>1</td>\n",
       "    </tr>\n",
       "    <tr>\n",
       "      <th>509</th>\n",
       "      <td>3668</td>\n",
       "      <td>Banishing Light</td>\n",
       "      <td>1</td>\n",
       "    </tr>\n",
       "    <tr>\n",
       "      <th>510</th>\n",
       "      <td>3668</td>\n",
       "      <td>Atog</td>\n",
       "      <td>1</td>\n",
       "    </tr>\n",
       "    <tr>\n",
       "      <th>511</th>\n",
       "      <td>3956</td>\n",
       "      <td>Swamp</td>\n",
       "      <td>63</td>\n",
       "    </tr>\n",
       "    <tr>\n",
       "      <th>512</th>\n",
       "      <td>3956</td>\n",
       "      <td>Forest</td>\n",
       "      <td>53</td>\n",
       "    </tr>\n",
       "    <tr>\n",
       "      <th>513</th>\n",
       "      <td>3956</td>\n",
       "      <td>Dismember</td>\n",
       "      <td>24</td>\n",
       "    </tr>\n",
       "    <tr>\n",
       "      <th>514</th>\n",
       "      <td>3956</td>\n",
       "      <td>Island</td>\n",
       "      <td>20</td>\n",
       "    </tr>\n",
       "    <tr>\n",
       "      <th>515</th>\n",
       "      <td>3956</td>\n",
       "      <td>Greenbelt Rampager</td>\n",
       "      <td>15</td>\n",
       "    </tr>\n",
       "    <tr>\n",
       "      <th>516</th>\n",
       "      <td>3956</td>\n",
       "      <td>Rishkar, Peema Renegade</td>\n",
       "      <td>12</td>\n",
       "    </tr>\n",
       "    <tr>\n",
       "      <th>517</th>\n",
       "      <td>3956</td>\n",
       "      <td>Glint-Sleeve Siphoner</td>\n",
       "      <td>12</td>\n",
       "    </tr>\n",
       "    <tr>\n",
       "      <th>518</th>\n",
       "      <td>3956</td>\n",
       "      <td>Chameleon Colossus</td>\n",
       "      <td>12</td>\n",
       "    </tr>\n",
       "    <tr>\n",
       "      <th>519</th>\n",
       "      <td>3956</td>\n",
       "      <td>Walking Ballista</td>\n",
       "      <td>11</td>\n",
       "    </tr>\n",
       "    <tr>\n",
       "      <th>520</th>\n",
       "      <td>3956</td>\n",
       "      <td>Plains</td>\n",
       "      <td>11</td>\n",
       "    </tr>\n",
       "    <tr>\n",
       "      <th>521</th>\n",
       "      <td>3956</td>\n",
       "      <td>Fatal Push</td>\n",
       "      <td>11</td>\n",
       "    </tr>\n",
       "    <tr>\n",
       "      <th>522</th>\n",
       "      <td>3956</td>\n",
       "      <td>Karn, Scion of Urza</td>\n",
       "      <td>10</td>\n",
       "    </tr>\n",
       "    <tr>\n",
       "      <th>523</th>\n",
       "      <td>3956</td>\n",
       "      <td>Woodland Cemetery</td>\n",
       "      <td>8</td>\n",
       "    </tr>\n",
       "    <tr>\n",
       "      <th>524</th>\n",
       "      <td>3956</td>\n",
       "      <td>Winding Constrictor</td>\n",
       "      <td>8</td>\n",
       "    </tr>\n",
       "    <tr>\n",
       "      <th>525</th>\n",
       "      <td>3956</td>\n",
       "      <td>Vendilion Clique</td>\n",
       "      <td>8</td>\n",
       "    </tr>\n",
       "    <tr>\n",
       "      <th>526</th>\n",
       "      <td>3956</td>\n",
       "      <td>Urza's Ruinous Blast</td>\n",
       "      <td>8</td>\n",
       "    </tr>\n",
       "    <tr>\n",
       "      <th>527</th>\n",
       "      <td>3956</td>\n",
       "      <td>Teferi, Hero of Dominaria</td>\n",
       "      <td>8</td>\n",
       "    </tr>\n",
       "    <tr>\n",
       "      <th>528</th>\n",
       "      <td>3956</td>\n",
       "      <td>Syncopate</td>\n",
       "      <td>8</td>\n",
       "    </tr>\n",
       "    <tr>\n",
       "      <th>529</th>\n",
       "      <td>3956</td>\n",
       "      <td>Steel Leaf Champion</td>\n",
       "      <td>8</td>\n",
       "    </tr>\n",
       "    <tr>\n",
       "      <th>530</th>\n",
       "      <td>3956</td>\n",
       "      <td>Scavenging Ooze</td>\n",
       "      <td>8</td>\n",
       "    </tr>\n",
       "    <tr>\n",
       "      <th>531</th>\n",
       "      <td>3956</td>\n",
       "      <td>Meandering River</td>\n",
       "      <td>8</td>\n",
       "    </tr>\n",
       "    <tr>\n",
       "      <th>532</th>\n",
       "      <td>3956</td>\n",
       "      <td>Llanowar Elves</td>\n",
       "      <td>8</td>\n",
       "    </tr>\n",
       "    <tr>\n",
       "      <th>533</th>\n",
       "      <td>3956</td>\n",
       "      <td>Kalonian Tusker</td>\n",
       "      <td>8</td>\n",
       "    </tr>\n",
       "    <tr>\n",
       "      <th>534</th>\n",
       "      <td>3956</td>\n",
       "      <td>Heart of Kiran</td>\n",
       "      <td>8</td>\n",
       "    </tr>\n",
       "    <tr>\n",
       "      <th>535</th>\n",
       "      <td>3956</td>\n",
       "      <td>Elvish Mystic</td>\n",
       "      <td>8</td>\n",
       "    </tr>\n",
       "    <tr>\n",
       "      <th>536</th>\n",
       "      <td>3956</td>\n",
       "      <td>Baral, Chief of Compliance</td>\n",
       "      <td>8</td>\n",
       "    </tr>\n",
       "    <tr>\n",
       "      <th>537</th>\n",
       "      <td>3956</td>\n",
       "      <td>Aethersphere Harvester</td>\n",
       "      <td>8</td>\n",
       "    </tr>\n",
       "    <tr>\n",
       "      <th>538</th>\n",
       "      <td>3956</td>\n",
       "      <td>Disallow</td>\n",
       "      <td>7</td>\n",
       "    </tr>\n",
       "    <tr>\n",
       "      <th>539</th>\n",
       "      <td>3956</td>\n",
       "      <td>Opt</td>\n",
       "      <td>6</td>\n",
       "    </tr>\n",
       "    <tr>\n",
       "      <th>540</th>\n",
       "      <td>3956</td>\n",
       "      <td>Mutavault</td>\n",
       "      <td>6</td>\n",
       "    </tr>\n",
       "    <tr>\n",
       "      <th>541</th>\n",
       "      <td>3956</td>\n",
       "      <td>The Eldest Reborn</td>\n",
       "      <td>5</td>\n",
       "    </tr>\n",
       "    <tr>\n",
       "      <th>542</th>\n",
       "      <td>3956</td>\n",
       "      <td>Memorial to Folly</td>\n",
       "      <td>5</td>\n",
       "    </tr>\n",
       "    <tr>\n",
       "      <th>543</th>\n",
       "      <td>3956</td>\n",
       "      <td>Yahenni's Expertise</td>\n",
       "      <td>4</td>\n",
       "    </tr>\n",
       "    <tr>\n",
       "      <th>544</th>\n",
       "      <td>3956</td>\n",
       "      <td>Renegade Map</td>\n",
       "      <td>4</td>\n",
       "    </tr>\n",
       "    <tr>\n",
       "      <th>545</th>\n",
       "      <td>3956</td>\n",
       "      <td>Pristine Talisman</td>\n",
       "      <td>4</td>\n",
       "    </tr>\n",
       "    <tr>\n",
       "      <th>546</th>\n",
       "      <td>3956</td>\n",
       "      <td>Mutagenic Growth</td>\n",
       "      <td>4</td>\n",
       "    </tr>\n",
       "    <tr>\n",
       "      <th>547</th>\n",
       "      <td>3956</td>\n",
       "      <td>Lashwrithe</td>\n",
       "      <td>4</td>\n",
       "    </tr>\n",
       "    <tr>\n",
       "      <th>548</th>\n",
       "      <td>3956</td>\n",
       "      <td>Dread Shade</td>\n",
       "      <td>4</td>\n",
       "    </tr>\n",
       "    <tr>\n",
       "      <th>549</th>\n",
       "      <td>3956</td>\n",
       "      <td>Doom Blade</td>\n",
       "      <td>4</td>\n",
       "    </tr>\n",
       "    <tr>\n",
       "      <th>550</th>\n",
       "      <td>3956</td>\n",
       "      <td>Cabal Stronghold</td>\n",
       "      <td>4</td>\n",
       "    </tr>\n",
       "    <tr>\n",
       "      <th>551</th>\n",
       "      <td>3956</td>\n",
       "      <td>Bitterblossom</td>\n",
       "      <td>4</td>\n",
       "    </tr>\n",
       "    <tr>\n",
       "      <th>552</th>\n",
       "      <td>3956</td>\n",
       "      <td>Ridgescale Tusker</td>\n",
       "      <td>3</td>\n",
       "    </tr>\n",
       "    <tr>\n",
       "      <th>553</th>\n",
       "      <td>3956</td>\n",
       "      <td>Okina, Temple to the Grandfathers</td>\n",
       "      <td>3</td>\n",
       "    </tr>\n",
       "    <tr>\n",
       "      <th>554</th>\n",
       "      <td>3956</td>\n",
       "      <td>Karn Liberated</td>\n",
       "      <td>3</td>\n",
       "    </tr>\n",
       "    <tr>\n",
       "      <th>555</th>\n",
       "      <td>3956</td>\n",
       "      <td>Gifted Aetherborn</td>\n",
       "      <td>3</td>\n",
       "    </tr>\n",
       "    <tr>\n",
       "      <th>556</th>\n",
       "      <td>3956</td>\n",
       "      <td>Eiganjo Castle</td>\n",
       "      <td>3</td>\n",
       "    </tr>\n",
       "    <tr>\n",
       "      <th>557</th>\n",
       "      <td>3956</td>\n",
       "      <td>Batterskull</td>\n",
       "      <td>3</td>\n",
       "    </tr>\n",
       "    <tr>\n",
       "      <th>558</th>\n",
       "      <td>3956</td>\n",
       "      <td>Seal Away</td>\n",
       "      <td>2</td>\n",
       "    </tr>\n",
       "    <tr>\n",
       "      <th>559</th>\n",
       "      <td>3956</td>\n",
       "      <td>Phyrexian Obliterator</td>\n",
       "      <td>2</td>\n",
       "    </tr>\n",
       "    <tr>\n",
       "      <th>560</th>\n",
       "      <td>3956</td>\n",
       "      <td>Negate</td>\n",
       "      <td>2</td>\n",
       "    </tr>\n",
       "    <tr>\n",
       "      <th>561</th>\n",
       "      <td>3956</td>\n",
       "      <td>Minamo, School at Water's Edge</td>\n",
       "      <td>2</td>\n",
       "    </tr>\n",
       "    <tr>\n",
       "      <th>562</th>\n",
       "      <td>3956</td>\n",
       "      <td>Memorial to Genius</td>\n",
       "      <td>2</td>\n",
       "    </tr>\n",
       "    <tr>\n",
       "      <th>563</th>\n",
       "      <td>3956</td>\n",
       "      <td>Karn's Temporal Sundering</td>\n",
       "      <td>2</td>\n",
       "    </tr>\n",
       "    <tr>\n",
       "      <th>564</th>\n",
       "      <td>3956</td>\n",
       "      <td>Duress</td>\n",
       "      <td>2</td>\n",
       "    </tr>\n",
       "    <tr>\n",
       "      <th>565</th>\n",
       "      <td>3956</td>\n",
       "      <td>Distress</td>\n",
       "      <td>2</td>\n",
       "    </tr>\n",
       "    <tr>\n",
       "      <th>566</th>\n",
       "      <td>3956</td>\n",
       "      <td>Blink of an Eye</td>\n",
       "      <td>2</td>\n",
       "    </tr>\n",
       "    <tr>\n",
       "      <th>567</th>\n",
       "      <td>3956</td>\n",
       "      <td>Sensei's Divining Top</td>\n",
       "      <td>1</td>\n",
       "    </tr>\n",
       "    <tr>\n",
       "      <th>568</th>\n",
       "      <td>3956</td>\n",
       "      <td>Murmuring Bosk</td>\n",
       "      <td>1</td>\n",
       "    </tr>\n",
       "    <tr>\n",
       "      <th>569</th>\n",
       "      <td>3956</td>\n",
       "      <td>Life's Finale</td>\n",
       "      <td>1</td>\n",
       "    </tr>\n",
       "    <tr>\n",
       "      <th>570</th>\n",
       "      <td>3956</td>\n",
       "      <td>Kalonian Hydra</td>\n",
       "      <td>1</td>\n",
       "    </tr>\n",
       "    <tr>\n",
       "      <th>571</th>\n",
       "      <td>3956</td>\n",
       "      <td>Essence Scatter</td>\n",
       "      <td>1</td>\n",
       "    </tr>\n",
       "    <tr>\n",
       "      <th>572</th>\n",
       "      <td>4315</td>\n",
       "      <td>Forest</td>\n",
       "      <td>62</td>\n",
       "    </tr>\n",
       "    <tr>\n",
       "      <th>573</th>\n",
       "      <td>4315</td>\n",
       "      <td>Vengevine</td>\n",
       "      <td>20</td>\n",
       "    </tr>\n",
       "    <tr>\n",
       "      <th>574</th>\n",
       "      <td>4315</td>\n",
       "      <td>Survival of the Fittest</td>\n",
       "      <td>20</td>\n",
       "    </tr>\n",
       "    <tr>\n",
       "      <th>575</th>\n",
       "      <td>4315</td>\n",
       "      <td>Joraga Treespeaker</td>\n",
       "      <td>20</td>\n",
       "    </tr>\n",
       "    <tr>\n",
       "      <th>576</th>\n",
       "      <td>4315</td>\n",
       "      <td>Hangarback Walker</td>\n",
       "      <td>20</td>\n",
       "    </tr>\n",
       "    <tr>\n",
       "      <th>577</th>\n",
       "      <td>4315</td>\n",
       "      <td>Breeding Pool</td>\n",
       "      <td>16</td>\n",
       "    </tr>\n",
       "    <tr>\n",
       "      <th>578</th>\n",
       "      <td>4315</td>\n",
       "      <td>Yavimaya Coast</td>\n",
       "      <td>14</td>\n",
       "    </tr>\n",
       "    <tr>\n",
       "      <th>579</th>\n",
       "      <td>4315</td>\n",
       "      <td>Plains</td>\n",
       "      <td>14</td>\n",
       "    </tr>\n",
       "    <tr>\n",
       "      <th>580</th>\n",
       "      <td>4315</td>\n",
       "      <td>Bounding Krasis</td>\n",
       "      <td>13</td>\n",
       "    </tr>\n",
       "    <tr>\n",
       "      <th>581</th>\n",
       "      <td>4315</td>\n",
       "      <td>Inquisition of Kozilek</td>\n",
       "      <td>12</td>\n",
       "    </tr>\n",
       "    <tr>\n",
       "      <th>582</th>\n",
       "      <td>4315</td>\n",
       "      <td>Umezawa's Jitte</td>\n",
       "      <td>11</td>\n",
       "    </tr>\n",
       "    <tr>\n",
       "      <th>583</th>\n",
       "      <td>4315</td>\n",
       "      <td>Watery Grave</td>\n",
       "      <td>8</td>\n",
       "    </tr>\n",
       "    <tr>\n",
       "      <th>584</th>\n",
       "      <td>4315</td>\n",
       "      <td>Stomping Ground</td>\n",
       "      <td>8</td>\n",
       "    </tr>\n",
       "    <tr>\n",
       "      <th>585</th>\n",
       "      <td>4315</td>\n",
       "      <td>Simic Guildgate</td>\n",
       "      <td>8</td>\n",
       "    </tr>\n",
       "    <tr>\n",
       "      <th>586</th>\n",
       "      <td>4315</td>\n",
       "      <td>Sea Gate Oracle</td>\n",
       "      <td>8</td>\n",
       "    </tr>\n",
       "    <tr>\n",
       "      <th>587</th>\n",
       "      <td>4315</td>\n",
       "      <td>Nest Invader</td>\n",
       "      <td>8</td>\n",
       "    </tr>\n",
       "    <tr>\n",
       "      <th>588</th>\n",
       "      <td>4315</td>\n",
       "      <td>Miscalculation</td>\n",
       "      <td>8</td>\n",
       "    </tr>\n",
       "    <tr>\n",
       "      <th>589</th>\n",
       "      <td>4315</td>\n",
       "      <td>Jace, Vryn's Prodigy // Jace, Telepath Unbound</td>\n",
       "      <td>8</td>\n",
       "    </tr>\n",
       "    <tr>\n",
       "      <th>590</th>\n",
       "      <td>4315</td>\n",
       "      <td>Godless Shrine</td>\n",
       "      <td>8</td>\n",
       "    </tr>\n",
       "    <tr>\n",
       "      <th>591</th>\n",
       "      <td>4315</td>\n",
       "      <td>Experiment One</td>\n",
       "      <td>8</td>\n",
       "    </tr>\n",
       "    <tr>\n",
       "      <th>592</th>\n",
       "      <td>4315</td>\n",
       "      <td>Caves of Koilos</td>\n",
       "      <td>8</td>\n",
       "    </tr>\n",
       "    <tr>\n",
       "      <th>593</th>\n",
       "      <td>4315</td>\n",
       "      <td>Caustic Caterpillar</td>\n",
       "      <td>8</td>\n",
       "    </tr>\n",
       "    <tr>\n",
       "      <th>594</th>\n",
       "      <td>4315</td>\n",
       "      <td>Treetop Village</td>\n",
       "      <td>6</td>\n",
       "    </tr>\n",
       "    <tr>\n",
       "      <th>595</th>\n",
       "      <td>4315</td>\n",
       "      <td>Island</td>\n",
       "      <td>6</td>\n",
       "    </tr>\n",
       "    <tr>\n",
       "      <th>596</th>\n",
       "      <td>4315</td>\n",
       "      <td>Evolving Wilds</td>\n",
       "      <td>6</td>\n",
       "    </tr>\n",
       "    <tr>\n",
       "      <th>597</th>\n",
       "      <td>4315</td>\n",
       "      <td>Cloud of Faeries</td>\n",
       "      <td>6</td>\n",
       "    </tr>\n",
       "    <tr>\n",
       "      <th>598</th>\n",
       "      <td>4315</td>\n",
       "      <td>Vendetta</td>\n",
       "      <td>5</td>\n",
       "    </tr>\n",
       "    <tr>\n",
       "      <th>599</th>\n",
       "      <td>4315</td>\n",
       "      <td>Swamp</td>\n",
       "      <td>5</td>\n",
       "    </tr>\n",
       "    <tr>\n",
       "      <th>600</th>\n",
       "      <td>4315</td>\n",
       "      <td>Orzhov Guildgate</td>\n",
       "      <td>5</td>\n",
       "    </tr>\n",
       "    <tr>\n",
       "      <th>601</th>\n",
       "      <td>4315</td>\n",
       "      <td>Elvish Visionary</td>\n",
       "      <td>5</td>\n",
       "    </tr>\n",
       "    <tr>\n",
       "      <th>602</th>\n",
       "      <td>4315</td>\n",
       "      <td>Student of Warfare</td>\n",
       "      <td>4</td>\n",
       "    </tr>\n",
       "    <tr>\n",
       "      <th>603</th>\n",
       "      <td>4315</td>\n",
       "      <td>Splinter Twin</td>\n",
       "      <td>4</td>\n",
       "    </tr>\n",
       "    <tr>\n",
       "      <th>604</th>\n",
       "      <td>4315</td>\n",
       "      <td>Skyshroud Elite</td>\n",
       "      <td>4</td>\n",
       "    </tr>\n",
       "    <tr>\n",
       "      <th>605</th>\n",
       "      <td>4315</td>\n",
       "      <td>Shivan Reef</td>\n",
       "      <td>4</td>\n",
       "    </tr>\n",
       "    <tr>\n",
       "      <th>606</th>\n",
       "      <td>4315</td>\n",
       "      <td>See Beyond</td>\n",
       "      <td>4</td>\n",
       "    </tr>\n",
       "    <tr>\n",
       "      <th>607</th>\n",
       "      <td>4315</td>\n",
       "      <td>Negate</td>\n",
       "      <td>4</td>\n",
       "    </tr>\n",
       "    <tr>\n",
       "      <th>608</th>\n",
       "      <td>4315</td>\n",
       "      <td>Managorger Hydra</td>\n",
       "      <td>4</td>\n",
       "    </tr>\n",
       "    <tr>\n",
       "      <th>609</th>\n",
       "      <td>4315</td>\n",
       "      <td>Llanowar Wastes</td>\n",
       "      <td>4</td>\n",
       "    </tr>\n",
       "    <tr>\n",
       "      <th>610</th>\n",
       "      <td>4315</td>\n",
       "      <td>Knight of the White Orchid</td>\n",
       "      <td>4</td>\n",
       "    </tr>\n",
       "    <tr>\n",
       "      <th>611</th>\n",
       "      <td>4315</td>\n",
       "      <td>Goryo's Vengeance</td>\n",
       "      <td>4</td>\n",
       "    </tr>\n",
       "    <tr>\n",
       "      <th>612</th>\n",
       "      <td>4315</td>\n",
       "      <td>Fiery Impulse</td>\n",
       "      <td>4</td>\n",
       "    </tr>\n",
       "    <tr>\n",
       "      <th>613</th>\n",
       "      <td>4315</td>\n",
       "      <td>Burning-Tree Emissary</td>\n",
       "      <td>4</td>\n",
       "    </tr>\n",
       "    <tr>\n",
       "      <th>614</th>\n",
       "      <td>4315</td>\n",
       "      <td>Boros Reckoner</td>\n",
       "      <td>4</td>\n",
       "    </tr>\n",
       "    <tr>\n",
       "      <th>615</th>\n",
       "      <td>4315</td>\n",
       "      <td>Archangel of Tithes</td>\n",
       "      <td>4</td>\n",
       "    </tr>\n",
       "    <tr>\n",
       "      <th>616</th>\n",
       "      <td>4315</td>\n",
       "      <td>Wood Elves</td>\n",
       "      <td>3</td>\n",
       "    </tr>\n",
       "    <tr>\n",
       "      <th>617</th>\n",
       "      <td>4315</td>\n",
       "      <td>Wall of Omens</td>\n",
       "      <td>3</td>\n",
       "    </tr>\n",
       "    <tr>\n",
       "      <th>618</th>\n",
       "      <td>4315</td>\n",
       "      <td>Slaughterhorn</td>\n",
       "      <td>3</td>\n",
       "    </tr>\n",
       "    <tr>\n",
       "      <th>619</th>\n",
       "      <td>4315</td>\n",
       "      <td>Obzedat, Ghost Council</td>\n",
       "      <td>3</td>\n",
       "    </tr>\n",
       "    <tr>\n",
       "      <th>620</th>\n",
       "      <td>4315</td>\n",
       "      <td>Naturalize</td>\n",
       "      <td>3</td>\n",
       "    </tr>\n",
       "    <tr>\n",
       "      <th>621</th>\n",
       "      <td>4315</td>\n",
       "      <td>Languish</td>\n",
       "      <td>3</td>\n",
       "    </tr>\n",
       "    <tr>\n",
       "      <th>622</th>\n",
       "      <td>4315</td>\n",
       "      <td>Infinite Obliteration</td>\n",
       "      <td>3</td>\n",
       "    </tr>\n",
       "    <tr>\n",
       "      <th>623</th>\n",
       "      <td>4315</td>\n",
       "      <td>Gideon Jura</td>\n",
       "      <td>3</td>\n",
       "    </tr>\n",
       "    <tr>\n",
       "      <th>624</th>\n",
       "      <td>4315</td>\n",
       "      <td>Artificer's Epiphany</td>\n",
       "      <td>3</td>\n",
       "    </tr>\n",
       "    <tr>\n",
       "      <th>625</th>\n",
       "      <td>4315</td>\n",
       "      <td>Whirler Rogue</td>\n",
       "      <td>2</td>\n",
       "    </tr>\n",
       "    <tr>\n",
       "      <th>626</th>\n",
       "      <td>4315</td>\n",
       "      <td>Teardrop Kami</td>\n",
       "      <td>2</td>\n",
       "    </tr>\n",
       "    <tr>\n",
       "      <th>627</th>\n",
       "      <td>4315</td>\n",
       "      <td>Tajuru Preserver</td>\n",
       "      <td>2</td>\n",
       "    </tr>\n",
       "    <tr>\n",
       "      <th>628</th>\n",
       "      <td>4315</td>\n",
       "      <td>Recurring Nightmare</td>\n",
       "      <td>2</td>\n",
       "    </tr>\n",
       "    <tr>\n",
       "      <th>629</th>\n",
       "      <td>4315</td>\n",
       "      <td>Read the Bones</td>\n",
       "      <td>2</td>\n",
       "    </tr>\n",
       "    <tr>\n",
       "      <th>630</th>\n",
       "      <td>4315</td>\n",
       "      <td>Raven Familiar</td>\n",
       "      <td>2</td>\n",
       "    </tr>\n",
       "    <tr>\n",
       "      <th>631</th>\n",
       "      <td>4315</td>\n",
       "      <td>Opportunity</td>\n",
       "      <td>2</td>\n",
       "    </tr>\n",
       "    <tr>\n",
       "      <th>632</th>\n",
       "      <td>4315</td>\n",
       "      <td>Mountain</td>\n",
       "      <td>2</td>\n",
       "    </tr>\n",
       "    <tr>\n",
       "      <th>633</th>\n",
       "      <td>4315</td>\n",
       "      <td>Frantic Search</td>\n",
       "      <td>2</td>\n",
       "    </tr>\n",
       "    <tr>\n",
       "      <th>634</th>\n",
       "      <td>4315</td>\n",
       "      <td>Faerie Conclave</td>\n",
       "      <td>2</td>\n",
       "    </tr>\n",
       "    <tr>\n",
       "      <th>635</th>\n",
       "      <td>4315</td>\n",
       "      <td>Evolutionary Leap</td>\n",
       "      <td>2</td>\n",
       "    </tr>\n",
       "    <tr>\n",
       "      <th>636</th>\n",
       "      <td>4315</td>\n",
       "      <td>Erase</td>\n",
       "      <td>2</td>\n",
       "    </tr>\n",
       "    <tr>\n",
       "      <th>637</th>\n",
       "      <td>4315</td>\n",
       "      <td>Disrupting Shoal</td>\n",
       "      <td>2</td>\n",
       "    </tr>\n",
       "    <tr>\n",
       "      <th>638</th>\n",
       "      <td>4315</td>\n",
       "      <td>Dimir Guildgate</td>\n",
       "      <td>2</td>\n",
       "    </tr>\n",
       "    <tr>\n",
       "      <th>639</th>\n",
       "      <td>4315</td>\n",
       "      <td>Devour Flesh</td>\n",
       "      <td>2</td>\n",
       "    </tr>\n",
       "    <tr>\n",
       "      <th>640</th>\n",
       "      <td>4315</td>\n",
       "      <td>Cloudfin Raptor</td>\n",
       "      <td>2</td>\n",
       "    </tr>\n",
       "    <tr>\n",
       "      <th>641</th>\n",
       "      <td>4315</td>\n",
       "      <td>Weatherseed Treefolk</td>\n",
       "      <td>1</td>\n",
       "    </tr>\n",
       "    <tr>\n",
       "      <th>642</th>\n",
       "      <td>4315</td>\n",
       "      <td>Ulamog, the Infinite Gyre</td>\n",
       "      <td>1</td>\n",
       "    </tr>\n",
       "    <tr>\n",
       "      <th>643</th>\n",
       "      <td>4315</td>\n",
       "      <td>Thrull Parasite</td>\n",
       "      <td>1</td>\n",
       "    </tr>\n",
       "    <tr>\n",
       "      <th>644</th>\n",
       "      <td>4315</td>\n",
       "      <td>Suffer the Past</td>\n",
       "      <td>1</td>\n",
       "    </tr>\n",
       "    <tr>\n",
       "      <th>645</th>\n",
       "      <td>4315</td>\n",
       "      <td>Spike Weaver</td>\n",
       "      <td>1</td>\n",
       "    </tr>\n",
       "    <tr>\n",
       "      <th>646</th>\n",
       "      <td>4315</td>\n",
       "      <td>Palinchron</td>\n",
       "      <td>1</td>\n",
       "    </tr>\n",
       "    <tr>\n",
       "      <th>647</th>\n",
       "      <td>4315</td>\n",
       "      <td>Nissa, Vastwood Seer // Nissa, Sage Animist</td>\n",
       "      <td>1</td>\n",
       "    </tr>\n",
       "    <tr>\n",
       "      <th>648</th>\n",
       "      <td>4315</td>\n",
       "      <td>Legion Loyalist</td>\n",
       "      <td>1</td>\n",
       "    </tr>\n",
       "    <tr>\n",
       "      <th>649</th>\n",
       "      <td>4315</td>\n",
       "      <td>Fleshbag Marauder</td>\n",
       "      <td>1</td>\n",
       "    </tr>\n",
       "    <tr>\n",
       "      <th>650</th>\n",
       "      <td>4315</td>\n",
       "      <td>Emrakul, the Aeons Torn</td>\n",
       "      <td>1</td>\n",
       "    </tr>\n",
       "    <tr>\n",
       "      <th>651</th>\n",
       "      <td>4610</td>\n",
       "      <td>Sol Ring</td>\n",
       "      <td>27</td>\n",
       "    </tr>\n",
       "    <tr>\n",
       "      <th>652</th>\n",
       "      <td>4610</td>\n",
       "      <td>Thought-Knot Seer</td>\n",
       "      <td>24</td>\n",
       "    </tr>\n",
       "    <tr>\n",
       "      <th>653</th>\n",
       "      <td>4610</td>\n",
       "      <td>Strip Mine</td>\n",
       "      <td>24</td>\n",
       "    </tr>\n",
       "    <tr>\n",
       "      <th>654</th>\n",
       "      <td>4610</td>\n",
       "      <td>Mana Vault</td>\n",
       "      <td>24</td>\n",
       "    </tr>\n",
       "    <tr>\n",
       "      <th>655</th>\n",
       "      <td>4610</td>\n",
       "      <td>Bayou</td>\n",
       "      <td>24</td>\n",
       "    </tr>\n",
       "    <tr>\n",
       "      <th>656</th>\n",
       "      <td>4610</td>\n",
       "      <td>Reality Smasher</td>\n",
       "      <td>20</td>\n",
       "    </tr>\n",
       "    <tr>\n",
       "      <th>657</th>\n",
       "      <td>4610</td>\n",
       "      <td>Demonic Tutor</td>\n",
       "      <td>20</td>\n",
       "    </tr>\n",
       "    <tr>\n",
       "      <th>658</th>\n",
       "      <td>4610</td>\n",
       "      <td>Llanowar Wastes</td>\n",
       "      <td>16</td>\n",
       "    </tr>\n",
       "    <tr>\n",
       "      <th>659</th>\n",
       "      <td>4610</td>\n",
       "      <td>Kozilek, the Great Distortion</td>\n",
       "      <td>16</td>\n",
       "    </tr>\n",
       "    <tr>\n",
       "      <th>660</th>\n",
       "      <td>4610</td>\n",
       "      <td>Forest</td>\n",
       "      <td>16</td>\n",
       "    </tr>\n",
       "    <tr>\n",
       "      <th>661</th>\n",
       "      <td>4610</td>\n",
       "      <td>Channel</td>\n",
       "      <td>16</td>\n",
       "    </tr>\n",
       "    <tr>\n",
       "      <th>662</th>\n",
       "      <td>4610</td>\n",
       "      <td>Warping Wail</td>\n",
       "      <td>12</td>\n",
       "    </tr>\n",
       "    <tr>\n",
       "      <th>663</th>\n",
       "      <td>4610</td>\n",
       "      <td>Rishadan Port</td>\n",
       "      <td>12</td>\n",
       "    </tr>\n",
       "    <tr>\n",
       "      <th>664</th>\n",
       "      <td>4610</td>\n",
       "      <td>Fastbond</td>\n",
       "      <td>12</td>\n",
       "    </tr>\n",
       "    <tr>\n",
       "      <th>665</th>\n",
       "      <td>4610</td>\n",
       "      <td>Eldrazi Mimic</td>\n",
       "      <td>12</td>\n",
       "    </tr>\n",
       "    <tr>\n",
       "      <th>666</th>\n",
       "      <td>4610</td>\n",
       "      <td>Golgari Signet</td>\n",
       "      <td>10</td>\n",
       "    </tr>\n",
       "    <tr>\n",
       "      <th>667</th>\n",
       "      <td>4610</td>\n",
       "      <td>Underground Sea</td>\n",
       "      <td>8</td>\n",
       "    </tr>\n",
       "    <tr>\n",
       "      <th>668</th>\n",
       "      <td>4610</td>\n",
       "      <td>Tropical Island</td>\n",
       "      <td>8</td>\n",
       "    </tr>\n",
       "    <tr>\n",
       "      <th>669</th>\n",
       "      <td>4610</td>\n",
       "      <td>Overgrown Tomb</td>\n",
       "      <td>8</td>\n",
       "    </tr>\n",
       "    <tr>\n",
       "      <th>670</th>\n",
       "      <td>4610</td>\n",
       "      <td>Natural State</td>\n",
       "      <td>8</td>\n",
       "    </tr>\n",
       "    <tr>\n",
       "      <th>671</th>\n",
       "      <td>4610</td>\n",
       "      <td>Land Grant</td>\n",
       "      <td>8</td>\n",
       "    </tr>\n",
       "    <tr>\n",
       "      <th>672</th>\n",
       "      <td>4610</td>\n",
       "      <td>Gush</td>\n",
       "      <td>8</td>\n",
       "    </tr>\n",
       "    <tr>\n",
       "      <th>673</th>\n",
       "      <td>4610</td>\n",
       "      <td>Brainstorm</td>\n",
       "      <td>8</td>\n",
       "    </tr>\n",
       "    <tr>\n",
       "      <th>674</th>\n",
       "      <td>4610</td>\n",
       "      <td>Library of Alexandria</td>\n",
       "      <td>7</td>\n",
       "    </tr>\n",
       "    <tr>\n",
       "      <th>675</th>\n",
       "      <td>4610</td>\n",
       "      <td>Swords to Plowshares</td>\n",
       "      <td>6</td>\n",
       "    </tr>\n",
       "    <tr>\n",
       "      <th>676</th>\n",
       "      <td>4610</td>\n",
       "      <td>Juggernaut</td>\n",
       "      <td>6</td>\n",
       "    </tr>\n",
       "    <tr>\n",
       "      <th>677</th>\n",
       "      <td>4610</td>\n",
       "      <td>Eldrazi Displacer</td>\n",
       "      <td>6</td>\n",
       "    </tr>\n",
       "    <tr>\n",
       "      <th>678</th>\n",
       "      <td>4610</td>\n",
       "      <td>Sea Gate Wreckage</td>\n",
       "      <td>5</td>\n",
       "    </tr>\n",
       "    <tr>\n",
       "      <th>679</th>\n",
       "      <td>4610</td>\n",
       "      <td>Endbringer</td>\n",
       "      <td>5</td>\n",
       "    </tr>\n",
       "    <tr>\n",
       "      <th>680</th>\n",
       "      <td>4610</td>\n",
       "      <td>World Breaker</td>\n",
       "      <td>4</td>\n",
       "    </tr>\n",
       "    <tr>\n",
       "      <th>681</th>\n",
       "      <td>4610</td>\n",
       "      <td>Wheel of Fortune</td>\n",
       "      <td>4</td>\n",
       "    </tr>\n",
       "    <tr>\n",
       "      <th>682</th>\n",
       "      <td>4610</td>\n",
       "      <td>Volcanic Island</td>\n",
       "      <td>4</td>\n",
       "    </tr>\n",
       "    <tr>\n",
       "      <th>683</th>\n",
       "      <td>4610</td>\n",
       "      <td>Temple Garden</td>\n",
       "      <td>4</td>\n",
       "    </tr>\n",
       "    <tr>\n",
       "      <th>684</th>\n",
       "      <td>4610</td>\n",
       "      <td>Taiga</td>\n",
       "      <td>4</td>\n",
       "    </tr>\n",
       "    <tr>\n",
       "      <th>685</th>\n",
       "      <td>4610</td>\n",
       "      <td>Savannah</td>\n",
       "      <td>4</td>\n",
       "    </tr>\n",
       "    <tr>\n",
       "      <th>686</th>\n",
       "      <td>4610</td>\n",
       "      <td>Remand</td>\n",
       "      <td>4</td>\n",
       "    </tr>\n",
       "    <tr>\n",
       "      <th>687</th>\n",
       "      <td>4610</td>\n",
       "      <td>Regrowth</td>\n",
       "      <td>4</td>\n",
       "    </tr>\n",
       "    <tr>\n",
       "      <th>688</th>\n",
       "      <td>4610</td>\n",
       "      <td>Plateau</td>\n",
       "      <td>4</td>\n",
       "    </tr>\n",
       "    <tr>\n",
       "      <th>689</th>\n",
       "      <td>4610</td>\n",
       "      <td>Monkey Cage</td>\n",
       "      <td>4</td>\n",
       "    </tr>\n",
       "    <tr>\n",
       "      <th>690</th>\n",
       "      <td>4610</td>\n",
       "      <td>Matter Reshaper</td>\n",
       "      <td>4</td>\n",
       "    </tr>\n",
       "    <tr>\n",
       "      <th>691</th>\n",
       "      <td>4610</td>\n",
       "      <td>Horn of Ramos</td>\n",
       "      <td>4</td>\n",
       "    </tr>\n",
       "    <tr>\n",
       "      <th>692</th>\n",
       "      <td>4610</td>\n",
       "      <td>Hickory Woodlot</td>\n",
       "      <td>4</td>\n",
       "    </tr>\n",
       "    <tr>\n",
       "      <th>693</th>\n",
       "      <td>4610</td>\n",
       "      <td>Eldrazi Obligator</td>\n",
       "      <td>4</td>\n",
       "    </tr>\n",
       "    <tr>\n",
       "      <th>694</th>\n",
       "      <td>4610</td>\n",
       "      <td>Dark Ritual</td>\n",
       "      <td>4</td>\n",
       "    </tr>\n",
       "    <tr>\n",
       "      <th>695</th>\n",
       "      <td>4610</td>\n",
       "      <td>Battlefield Forge</td>\n",
       "      <td>4</td>\n",
       "    </tr>\n",
       "    <tr>\n",
       "      <th>696</th>\n",
       "      <td>4610</td>\n",
       "      <td>Sacred Foundry</td>\n",
       "      <td>3</td>\n",
       "    </tr>\n",
       "    <tr>\n",
       "      <th>697</th>\n",
       "      <td>4610</td>\n",
       "      <td>Life from the Loam</td>\n",
       "      <td>3</td>\n",
       "    </tr>\n",
       "    <tr>\n",
       "      <th>698</th>\n",
       "      <td>4610</td>\n",
       "      <td>Dark Heart of the Wood</td>\n",
       "      <td>3</td>\n",
       "    </tr>\n",
       "    <tr>\n",
       "      <th>699</th>\n",
       "      <td>4610</td>\n",
       "      <td>Counterspell</td>\n",
       "      <td>3</td>\n",
       "    </tr>\n",
       "    <tr>\n",
       "      <th>700</th>\n",
       "      <td>4610</td>\n",
       "      <td>Caves of Koilos</td>\n",
       "      <td>3</td>\n",
       "    </tr>\n",
       "    <tr>\n",
       "      <th>701</th>\n",
       "      <td>4610</td>\n",
       "      <td>Watery Grave</td>\n",
       "      <td>2</td>\n",
       "    </tr>\n",
       "    <tr>\n",
       "      <th>702</th>\n",
       "      <td>4610</td>\n",
       "      <td>Snuff Out</td>\n",
       "      <td>2</td>\n",
       "    </tr>\n",
       "    <tr>\n",
       "      <th>703</th>\n",
       "      <td>4610</td>\n",
       "      <td>Selesnya Signet</td>\n",
       "      <td>2</td>\n",
       "    </tr>\n",
       "    <tr>\n",
       "      <th>704</th>\n",
       "      <td>4610</td>\n",
       "      <td>Muddle the Mixture</td>\n",
       "      <td>2</td>\n",
       "    </tr>\n",
       "    <tr>\n",
       "      <th>705</th>\n",
       "      <td>4610</td>\n",
       "      <td>Island</td>\n",
       "      <td>2</td>\n",
       "    </tr>\n",
       "    <tr>\n",
       "      <th>706</th>\n",
       "      <td>4610</td>\n",
       "      <td>Ghalta, Primal Hunger</td>\n",
       "      <td>2</td>\n",
       "    </tr>\n",
       "    <tr>\n",
       "      <th>707</th>\n",
       "      <td>4610</td>\n",
       "      <td>Dust Bowl</td>\n",
       "      <td>2</td>\n",
       "    </tr>\n",
       "    <tr>\n",
       "      <th>708</th>\n",
       "      <td>4610</td>\n",
       "      <td>Crush of Tentacles</td>\n",
       "      <td>2</td>\n",
       "    </tr>\n",
       "    <tr>\n",
       "      <th>709</th>\n",
       "      <td>4610</td>\n",
       "      <td>City of Brass</td>\n",
       "      <td>2</td>\n",
       "    </tr>\n",
       "    <tr>\n",
       "      <th>710</th>\n",
       "      <td>4610</td>\n",
       "      <td>The Immortal Sun</td>\n",
       "      <td>1</td>\n",
       "    </tr>\n",
       "    <tr>\n",
       "      <th>711</th>\n",
       "      <td>4610</td>\n",
       "      <td>Nezahal, Primal Tide</td>\n",
       "      <td>1</td>\n",
       "    </tr>\n",
       "    <tr>\n",
       "      <th>712</th>\n",
       "      <td>4610</td>\n",
       "      <td>Natural Affinity</td>\n",
       "      <td>1</td>\n",
       "    </tr>\n",
       "    <tr>\n",
       "      <th>713</th>\n",
       "      <td>4610</td>\n",
       "      <td>Last Chance</td>\n",
       "      <td>1</td>\n",
       "    </tr>\n",
       "    <tr>\n",
       "      <th>714</th>\n",
       "      <td>4610</td>\n",
       "      <td>Flood of Recollection</td>\n",
       "      <td>1</td>\n",
       "    </tr>\n",
       "    <tr>\n",
       "      <th>715</th>\n",
       "      <td>4610</td>\n",
       "      <td>Bottled Cloister</td>\n",
       "      <td>1</td>\n",
       "    </tr>\n",
       "    <tr>\n",
       "      <th>716</th>\n",
       "      <td>4610</td>\n",
       "      <td>Bearer of Silence</td>\n",
       "      <td>1</td>\n",
       "    </tr>\n",
       "    <tr>\n",
       "      <th>717</th>\n",
       "      <td>4985</td>\n",
       "      <td>Forest</td>\n",
       "      <td>101</td>\n",
       "    </tr>\n",
       "    <tr>\n",
       "      <th>718</th>\n",
       "      <td>4985</td>\n",
       "      <td>Mountain</td>\n",
       "      <td>21</td>\n",
       "    </tr>\n",
       "    <tr>\n",
       "      <th>719</th>\n",
       "      <td>4985</td>\n",
       "      <td>Rofellos, Llanowar Emissary</td>\n",
       "      <td>20</td>\n",
       "    </tr>\n",
       "    <tr>\n",
       "      <th>720</th>\n",
       "      <td>4985</td>\n",
       "      <td>Natural Order</td>\n",
       "      <td>20</td>\n",
       "    </tr>\n",
       "    <tr>\n",
       "      <th>721</th>\n",
       "      <td>4985</td>\n",
       "      <td>Llanowar Elves</td>\n",
       "      <td>20</td>\n",
       "    </tr>\n",
       "    <tr>\n",
       "      <th>722</th>\n",
       "      <td>4985</td>\n",
       "      <td>Birds of Paradise</td>\n",
       "      <td>20</td>\n",
       "    </tr>\n",
       "    <tr>\n",
       "      <th>723</th>\n",
       "      <td>4985</td>\n",
       "      <td>Garruk, Primal Hunter</td>\n",
       "      <td>17</td>\n",
       "    </tr>\n",
       "    <tr>\n",
       "      <th>724</th>\n",
       "      <td>4985</td>\n",
       "      <td>Island</td>\n",
       "      <td>16</td>\n",
       "    </tr>\n",
       "    <tr>\n",
       "      <th>725</th>\n",
       "      <td>4985</td>\n",
       "      <td>Primeval Titan</td>\n",
       "      <td>15</td>\n",
       "    </tr>\n",
       "    <tr>\n",
       "      <th>726</th>\n",
       "      <td>4985</td>\n",
       "      <td>Tireless Tracker</td>\n",
       "      <td>14</td>\n",
       "    </tr>\n",
       "    <tr>\n",
       "      <th>727</th>\n",
       "      <td>4985</td>\n",
       "      <td>Quirion Ranger</td>\n",
       "      <td>12</td>\n",
       "    </tr>\n",
       "    <tr>\n",
       "      <th>728</th>\n",
       "      <td>4985</td>\n",
       "      <td>Elvish Archdruid</td>\n",
       "      <td>11</td>\n",
       "    </tr>\n",
       "    <tr>\n",
       "      <th>729</th>\n",
       "      <td>4985</td>\n",
       "      <td>Ugin, the Spirit Dragon</td>\n",
       "      <td>10</td>\n",
       "    </tr>\n",
       "    <tr>\n",
       "      <th>730</th>\n",
       "      <td>4985</td>\n",
       "      <td>Mana Leak</td>\n",
       "      <td>8</td>\n",
       "    </tr>\n",
       "    <tr>\n",
       "      <th>731</th>\n",
       "      <td>4985</td>\n",
       "      <td>Impulse</td>\n",
       "      <td>8</td>\n",
       "    </tr>\n",
       "    <tr>\n",
       "      <th>732</th>\n",
       "      <td>4985</td>\n",
       "      <td>Doom Blade</td>\n",
       "      <td>8</td>\n",
       "    </tr>\n",
       "    <tr>\n",
       "      <th>733</th>\n",
       "      <td>4985</td>\n",
       "      <td>Swamp</td>\n",
       "      <td>7</td>\n",
       "    </tr>\n",
       "    <tr>\n",
       "      <th>734</th>\n",
       "      <td>4985</td>\n",
       "      <td>Drowned Catacomb</td>\n",
       "      <td>7</td>\n",
       "    </tr>\n",
       "    <tr>\n",
       "      <th>735</th>\n",
       "      <td>4985</td>\n",
       "      <td>Whisperwood Elemental</td>\n",
       "      <td>6</td>\n",
       "    </tr>\n",
       "    <tr>\n",
       "      <th>736</th>\n",
       "      <td>4985</td>\n",
       "      <td>Dungrove Elder</td>\n",
       "      <td>6</td>\n",
       "    </tr>\n",
       "    <tr>\n",
       "      <th>737</th>\n",
       "      <td>4985</td>\n",
       "      <td>Jace, Unraveler of Secrets</td>\n",
       "      <td>5</td>\n",
       "    </tr>\n",
       "    <tr>\n",
       "      <th>738</th>\n",
       "      <td>4985</td>\n",
       "      <td>Hellkite Overlord</td>\n",
       "      <td>5</td>\n",
       "    </tr>\n",
       "    <tr>\n",
       "      <th>739</th>\n",
       "      <td>4985</td>\n",
       "      <td>Yavimaya Hollow</td>\n",
       "      <td>4</td>\n",
       "    </tr>\n",
       "    <tr>\n",
       "      <th>740</th>\n",
       "      <td>4985</td>\n",
       "      <td>Wild Slash</td>\n",
       "      <td>4</td>\n",
       "    </tr>\n",
       "    <tr>\n",
       "      <th>741</th>\n",
       "      <td>4985</td>\n",
       "      <td>Stormblood Berserker</td>\n",
       "      <td>4</td>\n",
       "    </tr>\n",
       "    <tr>\n",
       "      <th>742</th>\n",
       "      <td>4985</td>\n",
       "      <td>Shock</td>\n",
       "      <td>4</td>\n",
       "    </tr>\n",
       "    <tr>\n",
       "      <th>743</th>\n",
       "      <td>4985</td>\n",
       "      <td>Rampant Growth</td>\n",
       "      <td>4</td>\n",
       "    </tr>\n",
       "    <tr>\n",
       "      <th>744</th>\n",
       "      <td>4985</td>\n",
       "      <td>Ponder</td>\n",
       "      <td>4</td>\n",
       "    </tr>\n",
       "    <tr>\n",
       "      <th>745</th>\n",
       "      <td>4985</td>\n",
       "      <td>Plains</td>\n",
       "      <td>4</td>\n",
       "    </tr>\n",
       "    <tr>\n",
       "      <th>746</th>\n",
       "      <td>4985</td>\n",
       "      <td>Incinerate</td>\n",
       "      <td>4</td>\n",
       "    </tr>\n",
       "    <tr>\n",
       "      <th>747</th>\n",
       "      <td>4985</td>\n",
       "      <td>Goblin Fireslinger</td>\n",
       "      <td>4</td>\n",
       "    </tr>\n",
       "    <tr>\n",
       "      <th>748</th>\n",
       "      <td>4985</td>\n",
       "      <td>Glacial Fortress</td>\n",
       "      <td>4</td>\n",
       "    </tr>\n",
       "    <tr>\n",
       "      <th>749</th>\n",
       "      <td>4985</td>\n",
       "      <td>Funeral Charm</td>\n",
       "      <td>4</td>\n",
       "    </tr>\n",
       "    <tr>\n",
       "      <th>750</th>\n",
       "      <td>4985</td>\n",
       "      <td>Fireblast</td>\n",
       "      <td>4</td>\n",
       "    </tr>\n",
       "    <tr>\n",
       "      <th>751</th>\n",
       "      <td>4985</td>\n",
       "      <td>Falkenrath Gorger</td>\n",
       "      <td>4</td>\n",
       "    </tr>\n",
       "    <tr>\n",
       "      <th>752</th>\n",
       "      <td>4985</td>\n",
       "      <td>Esper Charm</td>\n",
       "      <td>4</td>\n",
       "    </tr>\n",
       "    <tr>\n",
       "      <th>753</th>\n",
       "      <td>4985</td>\n",
       "      <td>Day of Judgment</td>\n",
       "      <td>4</td>\n",
       "    </tr>\n",
       "    <tr>\n",
       "      <th>754</th>\n",
       "      <td>4985</td>\n",
       "      <td>Choked Estuary</td>\n",
       "      <td>4</td>\n",
       "    </tr>\n",
       "    <tr>\n",
       "      <th>755</th>\n",
       "      <td>4985</td>\n",
       "      <td>Chandra's Phoenix</td>\n",
       "      <td>4</td>\n",
       "    </tr>\n",
       "    <tr>\n",
       "      <th>756</th>\n",
       "      <td>4985</td>\n",
       "      <td>Broken Concentration</td>\n",
       "      <td>4</td>\n",
       "    </tr>\n",
       "    <tr>\n",
       "      <th>757</th>\n",
       "      <td>4985</td>\n",
       "      <td>Arcane Sanctum</td>\n",
       "      <td>4</td>\n",
       "    </tr>\n",
       "    <tr>\n",
       "      <th>758</th>\n",
       "      <td>4985</td>\n",
       "      <td>Treachery</td>\n",
       "      <td>3</td>\n",
       "    </tr>\n",
       "    <tr>\n",
       "      <th>759</th>\n",
       "      <td>4985</td>\n",
       "      <td>Tasigur, the Golden Fang</td>\n",
       "      <td>3</td>\n",
       "    </tr>\n",
       "    <tr>\n",
       "      <th>760</th>\n",
       "      <td>4985</td>\n",
       "      <td>Scoured Barrens</td>\n",
       "      <td>3</td>\n",
       "    </tr>\n",
       "    <tr>\n",
       "      <th>761</th>\n",
       "      <td>4985</td>\n",
       "      <td>Negate</td>\n",
       "      <td>3</td>\n",
       "    </tr>\n",
       "    <tr>\n",
       "      <th>762</th>\n",
       "      <td>4985</td>\n",
       "      <td>Heart Warden</td>\n",
       "      <td>3</td>\n",
       "    </tr>\n",
       "    <tr>\n",
       "      <th>763</th>\n",
       "      <td>4985</td>\n",
       "      <td>Grave Titan</td>\n",
       "      <td>3</td>\n",
       "    </tr>\n",
       "    <tr>\n",
       "      <th>764</th>\n",
       "      <td>4985</td>\n",
       "      <td>Elvish Visionary</td>\n",
       "      <td>3</td>\n",
       "    </tr>\n",
       "    <tr>\n",
       "      <th>765</th>\n",
       "      <td>4985</td>\n",
       "      <td>Acidic Slime</td>\n",
       "      <td>3</td>\n",
       "    </tr>\n",
       "    <tr>\n",
       "      <th>766</th>\n",
       "      <td>4985</td>\n",
       "      <td>Westvale Abbey // Ormendahl, Profane Prince</td>\n",
       "      <td>2</td>\n",
       "    </tr>\n",
       "    <tr>\n",
       "      <th>767</th>\n",
       "      <td>4985</td>\n",
       "      <td>Temur Sabertooth</td>\n",
       "      <td>2</td>\n",
       "    </tr>\n",
       "    <tr>\n",
       "      <th>768</th>\n",
       "      <td>4985</td>\n",
       "      <td>Reckless Abandon</td>\n",
       "      <td>2</td>\n",
       "    </tr>\n",
       "    <tr>\n",
       "      <th>769</th>\n",
       "      <td>4985</td>\n",
       "      <td>Mardu Scout</td>\n",
       "      <td>2</td>\n",
       "    </tr>\n",
       "    <tr>\n",
       "      <th>770</th>\n",
       "      <td>4985</td>\n",
       "      <td>Grim Lavamancer</td>\n",
       "      <td>2</td>\n",
       "    </tr>\n",
       "    <tr>\n",
       "      <th>771</th>\n",
       "      <td>4985</td>\n",
       "      <td>Gideon Jura</td>\n",
       "      <td>2</td>\n",
       "    </tr>\n",
       "    <tr>\n",
       "      <th>772</th>\n",
       "      <td>4985</td>\n",
       "      <td>Crux of Fate</td>\n",
       "      <td>2</td>\n",
       "    </tr>\n",
       "    <tr>\n",
       "      <th>773</th>\n",
       "      <td>4985</td>\n",
       "      <td>Anguished Unmaking</td>\n",
       "      <td>2</td>\n",
       "    </tr>\n",
       "    <tr>\n",
       "      <th>774</th>\n",
       "      <td>4985</td>\n",
       "      <td>Timely Reinforcements</td>\n",
       "      <td>1</td>\n",
       "    </tr>\n",
       "    <tr>\n",
       "      <th>775</th>\n",
       "      <td>4985</td>\n",
       "      <td>Stingerfling Spider</td>\n",
       "      <td>1</td>\n",
       "    </tr>\n",
       "    <tr>\n",
       "      <th>776</th>\n",
       "      <td>4985</td>\n",
       "      <td>Solemn Simulacrum</td>\n",
       "      <td>1</td>\n",
       "    </tr>\n",
       "    <tr>\n",
       "      <th>777</th>\n",
       "      <td>4985</td>\n",
       "      <td>Goblin Heelcutter</td>\n",
       "      <td>1</td>\n",
       "    </tr>\n",
       "    <tr>\n",
       "      <th>778</th>\n",
       "      <td>4985</td>\n",
       "      <td>Flashfreeze</td>\n",
       "      <td>1</td>\n",
       "    </tr>\n",
       "    <tr>\n",
       "      <th>779</th>\n",
       "      <td>4985</td>\n",
       "      <td>Dismal Backwater</td>\n",
       "      <td>1</td>\n",
       "    </tr>\n",
       "    <tr>\n",
       "      <th>780</th>\n",
       "      <td>4985</td>\n",
       "      <td>Deathmark</td>\n",
       "      <td>1</td>\n",
       "    </tr>\n",
       "    <tr>\n",
       "      <th>781</th>\n",
       "      <td>5437</td>\n",
       "      <td>Forest</td>\n",
       "      <td>47</td>\n",
       "    </tr>\n",
       "    <tr>\n",
       "      <th>782</th>\n",
       "      <td>5437</td>\n",
       "      <td>Swamp</td>\n",
       "      <td>44</td>\n",
       "    </tr>\n",
       "    <tr>\n",
       "      <th>783</th>\n",
       "      <td>5437</td>\n",
       "      <td>Island</td>\n",
       "      <td>30</td>\n",
       "    </tr>\n",
       "    <tr>\n",
       "      <th>784</th>\n",
       "      <td>5437</td>\n",
       "      <td>Plains</td>\n",
       "      <td>18</td>\n",
       "    </tr>\n",
       "    <tr>\n",
       "      <th>785</th>\n",
       "      <td>5437</td>\n",
       "      <td>Garruk Wildspeaker</td>\n",
       "      <td>13</td>\n",
       "    </tr>\n",
       "    <tr>\n",
       "      <th>786</th>\n",
       "      <td>5437</td>\n",
       "      <td>Birds of Paradise</td>\n",
       "      <td>12</td>\n",
       "    </tr>\n",
       "    <tr>\n",
       "      <th>787</th>\n",
       "      <td>5437</td>\n",
       "      <td>Thoughtseize</td>\n",
       "      <td>8</td>\n",
       "    </tr>\n",
       "    <tr>\n",
       "      <th>788</th>\n",
       "      <td>5437</td>\n",
       "      <td>Sunpetal Grove</td>\n",
       "      <td>8</td>\n",
       "    </tr>\n",
       "    <tr>\n",
       "      <th>789</th>\n",
       "      <td>5437</td>\n",
       "      <td>Noble Hierarch</td>\n",
       "      <td>8</td>\n",
       "    </tr>\n",
       "    <tr>\n",
       "      <th>790</th>\n",
       "      <td>5437</td>\n",
       "      <td>Gray Merchant of Asphodel</td>\n",
       "      <td>8</td>\n",
       "    </tr>\n",
       "    <tr>\n",
       "      <th>791</th>\n",
       "      <td>5437</td>\n",
       "      <td>Fleecemane Lion</td>\n",
       "      <td>8</td>\n",
       "    </tr>\n",
       "    <tr>\n",
       "      <th>792</th>\n",
       "      <td>5437</td>\n",
       "      <td>Boon Satyr</td>\n",
       "      <td>8</td>\n",
       "    </tr>\n",
       "    <tr>\n",
       "      <th>793</th>\n",
       "      <td>5437</td>\n",
       "      <td>Polukranos, World Eater</td>\n",
       "      <td>7</td>\n",
       "    </tr>\n",
       "    <tr>\n",
       "      <th>794</th>\n",
       "      <td>5437</td>\n",
       "      <td>Path to Exile</td>\n",
       "      <td>7</td>\n",
       "    </tr>\n",
       "    <tr>\n",
       "      <th>795</th>\n",
       "      <td>5437</td>\n",
       "      <td>Nykthos, Shrine to Nyx</td>\n",
       "      <td>7</td>\n",
       "    </tr>\n",
       "    <tr>\n",
       "      <th>796</th>\n",
       "      <td>5437</td>\n",
       "      <td>Nantuko Shade</td>\n",
       "      <td>7</td>\n",
       "    </tr>\n",
       "    <tr>\n",
       "      <th>797</th>\n",
       "      <td>5437</td>\n",
       "      <td>Griffin Guide</td>\n",
       "      <td>7</td>\n",
       "    </tr>\n",
       "    <tr>\n",
       "      <th>798</th>\n",
       "      <td>5437</td>\n",
       "      <td>Ancestral Vision</td>\n",
       "      <td>7</td>\n",
       "    </tr>\n",
       "    <tr>\n",
       "      <th>799</th>\n",
       "      <td>5437</td>\n",
       "      <td>Sign in Blood</td>\n",
       "      <td>6</td>\n",
       "    </tr>\n",
       "    <tr>\n",
       "      <th>800</th>\n",
       "      <td>5437</td>\n",
       "      <td>Call of the Herd</td>\n",
       "      <td>6</td>\n",
       "    </tr>\n",
       "    <tr>\n",
       "      <th>801</th>\n",
       "      <td>5437</td>\n",
       "      <td>Walk the Aeons</td>\n",
       "      <td>5</td>\n",
       "    </tr>\n",
       "    <tr>\n",
       "      <th>802</th>\n",
       "      <td>5437</td>\n",
       "      <td>Temple of Abandon</td>\n",
       "      <td>5</td>\n",
       "    </tr>\n",
       "    <tr>\n",
       "      <th>803</th>\n",
       "      <td>5437</td>\n",
       "      <td>White Knight</td>\n",
       "      <td>4</td>\n",
       "    </tr>\n",
       "    <tr>\n",
       "      <th>804</th>\n",
       "      <td>5437</td>\n",
       "      <td>Voyaging Satyr</td>\n",
       "      <td>4</td>\n",
       "    </tr>\n",
       "    <tr>\n",
       "      <th>805</th>\n",
       "      <td>5437</td>\n",
       "      <td>Underworld Dreams</td>\n",
       "      <td>4</td>\n",
       "    </tr>\n",
       "    <tr>\n",
       "      <th>806</th>\n",
       "      <td>5437</td>\n",
       "      <td>Tormented Hero</td>\n",
       "      <td>4</td>\n",
       "    </tr>\n",
       "    <tr>\n",
       "      <th>807</th>\n",
       "      <td>5437</td>\n",
       "      <td>Time Warp</td>\n",
       "      <td>4</td>\n",
       "    </tr>\n",
       "    <tr>\n",
       "      <th>808</th>\n",
       "      <td>5437</td>\n",
       "      <td>Temple of Mystery</td>\n",
       "      <td>4</td>\n",
       "    </tr>\n",
       "    <tr>\n",
       "      <th>809</th>\n",
       "      <td>5437</td>\n",
       "      <td>Sylvan Caryatid</td>\n",
       "      <td>4</td>\n",
       "    </tr>\n",
       "    <tr>\n",
       "      <th>810</th>\n",
       "      <td>5437</td>\n",
       "      <td>Stormbreath Dragon</td>\n",
       "      <td>4</td>\n",
       "    </tr>\n",
       "    <tr>\n",
       "      <th>811</th>\n",
       "      <td>5437</td>\n",
       "      <td>Soltari Priest</td>\n",
       "      <td>4</td>\n",
       "    </tr>\n",
       "    <tr>\n",
       "      <th>812</th>\n",
       "      <td>5437</td>\n",
       "      <td>Soldier of the Pantheon</td>\n",
       "      <td>4</td>\n",
       "    </tr>\n",
       "    <tr>\n",
       "      <th>813</th>\n",
       "      <td>5437</td>\n",
       "      <td>Search for Tomorrow</td>\n",
       "      <td>4</td>\n",
       "    </tr>\n",
       "    <tr>\n",
       "      <th>814</th>\n",
       "      <td>5437</td>\n",
       "      <td>Sangrophage</td>\n",
       "      <td>4</td>\n",
       "    </tr>\n",
       "    <tr>\n",
       "      <th>815</th>\n",
       "      <td>5437</td>\n",
       "      <td>Rootbound Crag</td>\n",
       "      <td>4</td>\n",
       "    </tr>\n",
       "    <tr>\n",
       "      <th>816</th>\n",
       "      <td>5437</td>\n",
       "      <td>Rampant Growth</td>\n",
       "      <td>4</td>\n",
       "    </tr>\n",
       "    <tr>\n",
       "      <th>817</th>\n",
       "      <td>5437</td>\n",
       "      <td>Prismatic Lens</td>\n",
       "      <td>4</td>\n",
       "    </tr>\n",
       "    <tr>\n",
       "      <th>818</th>\n",
       "      <td>5437</td>\n",
       "      <td>Ponder</td>\n",
       "      <td>4</td>\n",
       "    </tr>\n",
       "    <tr>\n",
       "      <th>819</th>\n",
       "      <td>5437</td>\n",
       "      <td>Mesmeric Fiend</td>\n",
       "      <td>4</td>\n",
       "    </tr>\n",
       "    <tr>\n",
       "      <th>820</th>\n",
       "      <td>5437</td>\n",
       "      <td>Master of the Wild Hunt</td>\n",
       "      <td>4</td>\n",
       "    </tr>\n",
       "    <tr>\n",
       "      <th>821</th>\n",
       "      <td>5437</td>\n",
       "      <td>Mana Leak</td>\n",
       "      <td>4</td>\n",
       "    </tr>\n",
       "    <tr>\n",
       "      <th>822</th>\n",
       "      <td>5437</td>\n",
       "      <td>Llanowar Elves</td>\n",
       "      <td>4</td>\n",
       "    </tr>\n",
       "    <tr>\n",
       "      <th>823</th>\n",
       "      <td>5437</td>\n",
       "      <td>Lightning Bolt</td>\n",
       "      <td>4</td>\n",
       "    </tr>\n",
       "    <tr>\n",
       "      <th>824</th>\n",
       "      <td>5437</td>\n",
       "      <td>Knight of the Holy Nimbus</td>\n",
       "      <td>4</td>\n",
       "    </tr>\n",
       "    <tr>\n",
       "      <th>825</th>\n",
       "      <td>5437</td>\n",
       "      <td>Jace Beleren</td>\n",
       "      <td>4</td>\n",
       "    </tr>\n",
       "    <tr>\n",
       "      <th>826</th>\n",
       "      <td>5437</td>\n",
       "      <td>Icatian Javelineers</td>\n",
       "      <td>4</td>\n",
       "    </tr>\n",
       "    <tr>\n",
       "      <th>827</th>\n",
       "      <td>5437</td>\n",
       "      <td>Hypnotic Specter</td>\n",
       "      <td>4</td>\n",
       "    </tr>\n",
       "    <tr>\n",
       "      <th>828</th>\n",
       "      <td>5437</td>\n",
       "      <td>Howling Mine</td>\n",
       "      <td>4</td>\n",
       "    </tr>\n",
       "    <tr>\n",
       "      <th>829</th>\n",
       "      <td>5437</td>\n",
       "      <td>Honor of the Pure</td>\n",
       "      <td>4</td>\n",
       "    </tr>\n",
       "    <tr>\n",
       "      <th>830</th>\n",
       "      <td>5437</td>\n",
       "      <td>Flagstones of Trokair</td>\n",
       "      <td>4</td>\n",
       "    </tr>\n",
       "    <tr>\n",
       "      <th>831</th>\n",
       "      <td>5437</td>\n",
       "      <td>Elvish Archdruid</td>\n",
       "      <td>4</td>\n",
       "    </tr>\n",
       "    <tr>\n",
       "      <th>832</th>\n",
       "      <td>5437</td>\n",
       "      <td>Elite Vanguard</td>\n",
       "      <td>4</td>\n",
       "    </tr>\n",
       "    <tr>\n",
       "      <th>833</th>\n",
       "      <td>5437</td>\n",
       "      <td>Dream Halls</td>\n",
       "      <td>4</td>\n",
       "    </tr>\n",
       "    <tr>\n",
       "      <th>834</th>\n",
       "      <td>5437</td>\n",
       "      <td>Dauthi Slayer</td>\n",
       "      <td>4</td>\n",
       "    </tr>\n",
       "    <tr>\n",
       "      <th>835</th>\n",
       "      <td>5437</td>\n",
       "      <td>Conflux</td>\n",
       "      <td>4</td>\n",
       "    </tr>\n",
       "    <tr>\n",
       "      <th>836</th>\n",
       "      <td>5437</td>\n",
       "      <td>Acidic Slime</td>\n",
       "      <td>4</td>\n",
       "    </tr>\n",
       "    <tr>\n",
       "      <th>837</th>\n",
       "      <td>5437</td>\n",
       "      <td>Xenagos, the Reveler</td>\n",
       "      <td>3</td>\n",
       "    </tr>\n",
       "    <tr>\n",
       "      <th>838</th>\n",
       "      <td>5437</td>\n",
       "      <td>Think Twice</td>\n",
       "      <td>3</td>\n",
       "    </tr>\n",
       "    <tr>\n",
       "      <th>839</th>\n",
       "      <td>5437</td>\n",
       "      <td>Temple of Triumph</td>\n",
       "      <td>3</td>\n",
       "    </tr>\n",
       "    <tr>\n",
       "      <th>840</th>\n",
       "      <td>5437</td>\n",
       "      <td>Nyxathid</td>\n",
       "      <td>3</td>\n",
       "    </tr>\n",
       "    <tr>\n",
       "      <th>841</th>\n",
       "      <td>5437</td>\n",
       "      <td>Nostalgic Dreams</td>\n",
       "      <td>3</td>\n",
       "    </tr>\n",
       "    <tr>\n",
       "      <th>842</th>\n",
       "      <td>5437</td>\n",
       "      <td>Mogis's Marauder</td>\n",
       "      <td>3</td>\n",
       "    </tr>\n",
       "    <tr>\n",
       "      <th>843</th>\n",
       "      <td>5437</td>\n",
       "      <td>Mistcutter Hydra</td>\n",
       "      <td>3</td>\n",
       "    </tr>\n",
       "    <tr>\n",
       "      <th>844</th>\n",
       "      <td>5437</td>\n",
       "      <td>Hero's Downfall</td>\n",
       "      <td>3</td>\n",
       "    </tr>\n",
       "    <tr>\n",
       "      <th>845</th>\n",
       "      <td>5437</td>\n",
       "      <td>Gods Willing</td>\n",
       "      <td>3</td>\n",
       "    </tr>\n",
       "    <tr>\n",
       "      <th>846</th>\n",
       "      <td>5437</td>\n",
       "      <td>Wipe Away</td>\n",
       "      <td>2</td>\n",
       "    </tr>\n",
       "    <tr>\n",
       "      <th>847</th>\n",
       "      <td>5437</td>\n",
       "      <td>Swan Song</td>\n",
       "      <td>2</td>\n",
       "    </tr>\n",
       "    <tr>\n",
       "      <th>848</th>\n",
       "      <td>5437</td>\n",
       "      <td>Snapback</td>\n",
       "      <td>2</td>\n",
       "    </tr>\n",
       "    <tr>\n",
       "      <th>849</th>\n",
       "      <td>5437</td>\n",
       "      <td>Serra Avenger</td>\n",
       "      <td>2</td>\n",
       "    </tr>\n",
       "    <tr>\n",
       "      <th>850</th>\n",
       "      <td>5437</td>\n",
       "      <td>Mox Diamond</td>\n",
       "      <td>2</td>\n",
       "    </tr>\n",
       "    <tr>\n",
       "      <th>851</th>\n",
       "      <td>5437</td>\n",
       "      <td>Ichorid</td>\n",
       "      <td>2</td>\n",
       "    </tr>\n",
       "    <tr>\n",
       "      <th>852</th>\n",
       "      <td>5437</td>\n",
       "      <td>Funeral Charm</td>\n",
       "      <td>2</td>\n",
       "    </tr>\n",
       "    <tr>\n",
       "      <th>853</th>\n",
       "      <td>5437</td>\n",
       "      <td>Erebos, God of the Dead</td>\n",
       "      <td>2</td>\n",
       "    </tr>\n",
       "    <tr>\n",
       "      <th>854</th>\n",
       "      <td>5437</td>\n",
       "      <td>Elspeth, Sun's Champion</td>\n",
       "      <td>2</td>\n",
       "    </tr>\n",
       "    <tr>\n",
       "      <th>855</th>\n",
       "      <td>5437</td>\n",
       "      <td>Constant Mists</td>\n",
       "      <td>2</td>\n",
       "    </tr>\n",
       "    <tr>\n",
       "      <th>856</th>\n",
       "      <td>5437</td>\n",
       "      <td>Chainer's Edict</td>\n",
       "      <td>2</td>\n",
       "    </tr>\n",
       "    <tr>\n",
       "      <th>857</th>\n",
       "      <td>5437</td>\n",
       "      <td>Basking Rootwalla</td>\n",
       "      <td>2</td>\n",
       "    </tr>\n",
       "    <tr>\n",
       "      <th>858</th>\n",
       "      <td>5437</td>\n",
       "      <td>Withered Wretch</td>\n",
       "      <td>1</td>\n",
       "    </tr>\n",
       "    <tr>\n",
       "      <th>859</th>\n",
       "      <td>5437</td>\n",
       "      <td>Volrath's Stronghold</td>\n",
       "      <td>1</td>\n",
       "    </tr>\n",
       "    <tr>\n",
       "      <th>860</th>\n",
       "      <td>5437</td>\n",
       "      <td>Thornling</td>\n",
       "      <td>1</td>\n",
       "    </tr>\n",
       "    <tr>\n",
       "      <th>861</th>\n",
       "      <td>5437</td>\n",
       "      <td>Spear of Heliod</td>\n",
       "      <td>1</td>\n",
       "    </tr>\n",
       "    <tr>\n",
       "      <th>862</th>\n",
       "      <td>5437</td>\n",
       "      <td>Progenitus</td>\n",
       "      <td>1</td>\n",
       "    </tr>\n",
       "    <tr>\n",
       "      <th>863</th>\n",
       "      <td>5437</td>\n",
       "      <td>Pendelhaven</td>\n",
       "      <td>1</td>\n",
       "    </tr>\n",
       "    <tr>\n",
       "      <th>864</th>\n",
       "      <td>5437</td>\n",
       "      <td>Nylea, God of the Hunt</td>\n",
       "      <td>1</td>\n",
       "    </tr>\n",
       "    <tr>\n",
       "      <th>865</th>\n",
       "      <td>5437</td>\n",
       "      <td>Nicol Bolas, Planeswalker</td>\n",
       "      <td>1</td>\n",
       "    </tr>\n",
       "    <tr>\n",
       "      <th>866</th>\n",
       "      <td>5437</td>\n",
       "      <td>Mountain</td>\n",
       "      <td>1</td>\n",
       "    </tr>\n",
       "    <tr>\n",
       "      <th>867</th>\n",
       "      <td>5437</td>\n",
       "      <td>Might of Oaks</td>\n",
       "      <td>1</td>\n",
       "    </tr>\n",
       "    <tr>\n",
       "      <th>868</th>\n",
       "      <td>5437</td>\n",
       "      <td>Gargoyle Castle</td>\n",
       "      <td>1</td>\n",
       "    </tr>\n",
       "    <tr>\n",
       "      <th>869</th>\n",
       "      <td>5437</td>\n",
       "      <td>Fungal Reaches</td>\n",
       "      <td>1</td>\n",
       "    </tr>\n",
       "    <tr>\n",
       "      <th>870</th>\n",
       "      <td>5437</td>\n",
       "      <td>Dreadship Reef</td>\n",
       "      <td>1</td>\n",
       "    </tr>\n",
       "    <tr>\n",
       "      <th>871</th>\n",
       "      <td>5437</td>\n",
       "      <td>Cabal Coffers</td>\n",
       "      <td>1</td>\n",
       "    </tr>\n",
       "    <tr>\n",
       "      <th>872</th>\n",
       "      <td>5437</td>\n",
       "      <td>Banefire</td>\n",
       "      <td>1</td>\n",
       "    </tr>\n",
       "    <tr>\n",
       "      <th>873</th>\n",
       "      <td>5437</td>\n",
       "      <td>Arbor Colossus</td>\n",
       "      <td>1</td>\n",
       "    </tr>\n",
       "    <tr>\n",
       "      <th>874</th>\n",
       "      <td>5437</td>\n",
       "      <td>Ant Queen</td>\n",
       "      <td>1</td>\n",
       "    </tr>\n",
       "    <tr>\n",
       "      <th>875</th>\n",
       "      <td>5940</td>\n",
       "      <td>Mountain</td>\n",
       "      <td>44</td>\n",
       "    </tr>\n",
       "    <tr>\n",
       "      <th>876</th>\n",
       "      <td>5940</td>\n",
       "      <td>Swamp</td>\n",
       "      <td>39</td>\n",
       "    </tr>\n",
       "    <tr>\n",
       "      <th>877</th>\n",
       "      <td>5940</td>\n",
       "      <td>Lightning Bolt</td>\n",
       "      <td>24</td>\n",
       "    </tr>\n",
       "    <tr>\n",
       "      <th>878</th>\n",
       "      <td>5940</td>\n",
       "      <td>Kitchen Finks</td>\n",
       "      <td>16</td>\n",
       "    </tr>\n",
       "    <tr>\n",
       "      <th>879</th>\n",
       "      <td>5940</td>\n",
       "      <td>Forest</td>\n",
       "      <td>16</td>\n",
       "    </tr>\n",
       "    <tr>\n",
       "      <th>880</th>\n",
       "      <td>5940</td>\n",
       "      <td>Incendiary Flow</td>\n",
       "      <td>15</td>\n",
       "    </tr>\n",
       "    <tr>\n",
       "      <th>881</th>\n",
       "      <td>5940</td>\n",
       "      <td>Stomping Ground</td>\n",
       "      <td>12</td>\n",
       "    </tr>\n",
       "    <tr>\n",
       "      <th>882</th>\n",
       "      <td>5940</td>\n",
       "      <td>Demigod of Revenge</td>\n",
       "      <td>12</td>\n",
       "    </tr>\n",
       "    <tr>\n",
       "      <th>883</th>\n",
       "      <td>5940</td>\n",
       "      <td>Sign in Blood</td>\n",
       "      <td>11</td>\n",
       "    </tr>\n",
       "    <tr>\n",
       "      <th>884</th>\n",
       "      <td>5940</td>\n",
       "      <td>Boros Reckoner</td>\n",
       "      <td>11</td>\n",
       "    </tr>\n",
       "    <tr>\n",
       "      <th>885</th>\n",
       "      <td>5940</td>\n",
       "      <td>Thermo-Alchemist</td>\n",
       "      <td>8</td>\n",
       "    </tr>\n",
       "    <tr>\n",
       "      <th>886</th>\n",
       "      <td>5940</td>\n",
       "      <td>Safehold Elite</td>\n",
       "      <td>8</td>\n",
       "    </tr>\n",
       "    <tr>\n",
       "      <th>887</th>\n",
       "      <td>5940</td>\n",
       "      <td>Sacred Foundry</td>\n",
       "      <td>8</td>\n",
       "    </tr>\n",
       "    <tr>\n",
       "      <th>888</th>\n",
       "      <td>5940</td>\n",
       "      <td>Rootbound Crag</td>\n",
       "      <td>8</td>\n",
       "    </tr>\n",
       "    <tr>\n",
       "      <th>889</th>\n",
       "      <td>5940</td>\n",
       "      <td>Liliana, the Last Hope</td>\n",
       "      <td>8</td>\n",
       "    </tr>\n",
       "    <tr>\n",
       "      <th>890</th>\n",
       "      <td>5940</td>\n",
       "      <td>Ghor-Clan Rampager</td>\n",
       "      <td>8</td>\n",
       "    </tr>\n",
       "    <tr>\n",
       "      <th>891</th>\n",
       "      <td>5940</td>\n",
       "      <td>Flame Javelin</td>\n",
       "      <td>8</td>\n",
       "    </tr>\n",
       "    <tr>\n",
       "      <th>892</th>\n",
       "      <td>5940</td>\n",
       "      <td>Dragonskull Summit</td>\n",
       "      <td>8</td>\n",
       "    </tr>\n",
       "    <tr>\n",
       "      <th>893</th>\n",
       "      <td>5940</td>\n",
       "      <td>Carrion Feeder</td>\n",
       "      <td>8</td>\n",
       "    </tr>\n",
       "    <tr>\n",
       "      <th>894</th>\n",
       "      <td>5940</td>\n",
       "      <td>Birds of Paradise</td>\n",
       "      <td>8</td>\n",
       "    </tr>\n",
       "    <tr>\n",
       "      <th>895</th>\n",
       "      <td>5940</td>\n",
       "      <td>Murderous Redcap</td>\n",
       "      <td>7</td>\n",
       "    </tr>\n",
       "    <tr>\n",
       "      <th>896</th>\n",
       "      <td>5940</td>\n",
       "      <td>Domri Rade</td>\n",
       "      <td>7</td>\n",
       "    </tr>\n",
       "    <tr>\n",
       "      <th>897</th>\n",
       "      <td>5940</td>\n",
       "      <td>Boggart Ram-Gang</td>\n",
       "      <td>7</td>\n",
       "    </tr>\n",
       "    <tr>\n",
       "      <th>898</th>\n",
       "      <td>5940</td>\n",
       "      <td>Reflecting Pool</td>\n",
       "      <td>6</td>\n",
       "    </tr>\n",
       "    <tr>\n",
       "      <th>899</th>\n",
       "      <td>5940</td>\n",
       "      <td>Graven Cairns</td>\n",
       "      <td>6</td>\n",
       "    </tr>\n",
       "    <tr>\n",
       "      <th>900</th>\n",
       "      <td>5940</td>\n",
       "      <td>Collective Defiance</td>\n",
       "      <td>6</td>\n",
       "    </tr>\n",
       "    <tr>\n",
       "      <th>901</th>\n",
       "      <td>5940</td>\n",
       "      <td>Wooded Bastion</td>\n",
       "      <td>4</td>\n",
       "    </tr>\n",
       "    <tr>\n",
       "      <th>902</th>\n",
       "      <td>5940</td>\n",
       "      <td>Wilt-Leaf Liege</td>\n",
       "      <td>4</td>\n",
       "    </tr>\n",
       "    <tr>\n",
       "      <th>903</th>\n",
       "      <td>5940</td>\n",
       "      <td>Watery Grave</td>\n",
       "      <td>4</td>\n",
       "    </tr>\n",
       "    <tr>\n",
       "      <th>904</th>\n",
       "      <td>5940</td>\n",
       "      <td>Tainted Peak</td>\n",
       "      <td>4</td>\n",
       "    </tr>\n",
       "    <tr>\n",
       "      <th>905</th>\n",
       "      <td>5940</td>\n",
       "      <td>Sulfuric Vortex</td>\n",
       "      <td>4</td>\n",
       "    </tr>\n",
       "    <tr>\n",
       "      <th>906</th>\n",
       "      <td>5940</td>\n",
       "      <td>Spark Spray</td>\n",
       "      <td>4</td>\n",
       "    </tr>\n",
       "    <tr>\n",
       "      <th>907</th>\n",
       "      <td>5940</td>\n",
       "      <td>Overmaster</td>\n",
       "      <td>4</td>\n",
       "    </tr>\n",
       "    <tr>\n",
       "      <th>908</th>\n",
       "      <td>5940</td>\n",
       "      <td>Orzhov Guildgate</td>\n",
       "      <td>4</td>\n",
       "    </tr>\n",
       "    <tr>\n",
       "      <th>909</th>\n",
       "      <td>5940</td>\n",
       "      <td>Mutilate</td>\n",
       "      <td>4</td>\n",
       "    </tr>\n",
       "    <tr>\n",
       "      <th>910</th>\n",
       "      <td>5940</td>\n",
       "      <td>Mesmeric Fiend</td>\n",
       "      <td>4</td>\n",
       "    </tr>\n",
       "    <tr>\n",
       "      <th>911</th>\n",
       "      <td>5940</td>\n",
       "      <td>Master Biomancer</td>\n",
       "      <td>4</td>\n",
       "    </tr>\n",
       "    <tr>\n",
       "      <th>912</th>\n",
       "      <td>5940</td>\n",
       "      <td>Manamorphose</td>\n",
       "      <td>4</td>\n",
       "    </tr>\n",
       "    <tr>\n",
       "      <th>913</th>\n",
       "      <td>5940</td>\n",
       "      <td>Llanowar Elves</td>\n",
       "      <td>4</td>\n",
       "    </tr>\n",
       "    <tr>\n",
       "      <th>914</th>\n",
       "      <td>5940</td>\n",
       "      <td>Hanweir Garrison</td>\n",
       "      <td>4</td>\n",
       "    </tr>\n",
       "    <tr>\n",
       "      <th>915</th>\n",
       "      <td>5940</td>\n",
       "      <td>Gyre Sage</td>\n",
       "      <td>4</td>\n",
       "    </tr>\n",
       "    <tr>\n",
       "      <th>916</th>\n",
       "      <td>5940</td>\n",
       "      <td>Grim Lavamancer</td>\n",
       "      <td>4</td>\n",
       "    </tr>\n",
       "    <tr>\n",
       "      <th>917</th>\n",
       "      <td>5940</td>\n",
       "      <td>Godless Shrine</td>\n",
       "      <td>4</td>\n",
       "    </tr>\n",
       "    <tr>\n",
       "      <th>918</th>\n",
       "      <td>5940</td>\n",
       "      <td>Garruk Wildspeaker</td>\n",
       "      <td>4</td>\n",
       "    </tr>\n",
       "    <tr>\n",
       "      <th>919</th>\n",
       "      <td>5940</td>\n",
       "      <td>Galvanic Bombardment</td>\n",
       "      <td>4</td>\n",
       "    </tr>\n",
       "    <tr>\n",
       "      <th>920</th>\n",
       "      <td>5940</td>\n",
       "      <td>Elvish Visionary</td>\n",
       "      <td>4</td>\n",
       "    </tr>\n",
       "    <tr>\n",
       "      <th>921</th>\n",
       "      <td>5940</td>\n",
       "      <td>Eldritch Evolution</td>\n",
       "      <td>4</td>\n",
       "    </tr>\n",
       "    <tr>\n",
       "      <th>922</th>\n",
       "      <td>5940</td>\n",
       "      <td>Dark Salvation</td>\n",
       "      <td>4</td>\n",
       "    </tr>\n",
       "    <tr>\n",
       "      <th>923</th>\n",
       "      <td>5940</td>\n",
       "      <td>Cryptbreaker</td>\n",
       "      <td>4</td>\n",
       "    </tr>\n",
       "    <tr>\n",
       "      <th>924</th>\n",
       "      <td>5940</td>\n",
       "      <td>Collective Brutality</td>\n",
       "      <td>4</td>\n",
       "    </tr>\n",
       "    <tr>\n",
       "      <th>925</th>\n",
       "      <td>5940</td>\n",
       "      <td>Cemetery Reaper</td>\n",
       "      <td>4</td>\n",
       "    </tr>\n",
       "    <tr>\n",
       "      <th>926</th>\n",
       "      <td>5940</td>\n",
       "      <td>Burning-Tree Emissary</td>\n",
       "      <td>4</td>\n",
       "    </tr>\n",
       "    <tr>\n",
       "      <th>927</th>\n",
       "      <td>5940</td>\n",
       "      <td>Breeding Pool</td>\n",
       "      <td>4</td>\n",
       "    </tr>\n",
       "    <tr>\n",
       "      <th>928</th>\n",
       "      <td>5940</td>\n",
       "      <td>Boros Guildgate</td>\n",
       "      <td>4</td>\n",
       "    </tr>\n",
       "    <tr>\n",
       "      <th>929</th>\n",
       "      <td>5940</td>\n",
       "      <td>Bedlam Reveler</td>\n",
       "      <td>4</td>\n",
       "    </tr>\n",
       "    <tr>\n",
       "      <th>930</th>\n",
       "      <td>5940</td>\n",
       "      <td>Undead Warchief</td>\n",
       "      <td>3</td>\n",
       "    </tr>\n",
       "    <tr>\n",
       "      <th>931</th>\n",
       "      <td>5940</td>\n",
       "      <td>Fulminator Mage</td>\n",
       "      <td>3</td>\n",
       "    </tr>\n",
       "    <tr>\n",
       "      <th>932</th>\n",
       "      <td>5940</td>\n",
       "      <td>Doom Blade</td>\n",
       "      <td>3</td>\n",
       "    </tr>\n",
       "    <tr>\n",
       "      <th>933</th>\n",
       "      <td>5940</td>\n",
       "      <td>Distended Mindbender</td>\n",
       "      <td>3</td>\n",
       "    </tr>\n",
       "    <tr>\n",
       "      <th>934</th>\n",
       "      <td>5940</td>\n",
       "      <td>Cabal Interrogator</td>\n",
       "      <td>3</td>\n",
       "    </tr>\n",
       "    <tr>\n",
       "      <th>935</th>\n",
       "      <td>5940</td>\n",
       "      <td>Baneslayer Angel</td>\n",
       "      <td>3</td>\n",
       "    </tr>\n",
       "    <tr>\n",
       "      <th>936</th>\n",
       "      <td>5940</td>\n",
       "      <td>Terramorphic Expanse</td>\n",
       "      <td>2</td>\n",
       "    </tr>\n",
       "    <tr>\n",
       "      <th>937</th>\n",
       "      <td>5940</td>\n",
       "      <td>Sunpetal Grove</td>\n",
       "      <td>2</td>\n",
       "    </tr>\n",
       "    <tr>\n",
       "      <th>938</th>\n",
       "      <td>5940</td>\n",
       "      <td>Skullcrack</td>\n",
       "      <td>2</td>\n",
       "    </tr>\n",
       "    <tr>\n",
       "      <th>939</th>\n",
       "      <td>5940</td>\n",
       "      <td>Pyroclasm</td>\n",
       "      <td>2</td>\n",
       "    </tr>\n",
       "    <tr>\n",
       "      <th>940</th>\n",
       "      <td>5940</td>\n",
       "      <td>Primal Druid</td>\n",
       "      <td>2</td>\n",
       "    </tr>\n",
       "    <tr>\n",
       "      <th>941</th>\n",
       "      <td>5940</td>\n",
       "      <td>Merciless Eviction</td>\n",
       "      <td>2</td>\n",
       "    </tr>\n",
       "    <tr>\n",
       "      <th>942</th>\n",
       "      <td>5940</td>\n",
       "      <td>Fire-Lit Thicket</td>\n",
       "      <td>2</td>\n",
       "    </tr>\n",
       "    <tr>\n",
       "      <th>943</th>\n",
       "      <td>5940</td>\n",
       "      <td>Devoted Druid</td>\n",
       "      <td>2</td>\n",
       "    </tr>\n",
       "    <tr>\n",
       "      <th>944</th>\n",
       "      <td>5940</td>\n",
       "      <td>Chainer's Edict</td>\n",
       "      <td>2</td>\n",
       "    </tr>\n",
       "    <tr>\n",
       "      <th>945</th>\n",
       "      <td>5940</td>\n",
       "      <td>Boros Charm</td>\n",
       "      <td>2</td>\n",
       "    </tr>\n",
       "    <tr>\n",
       "      <th>946</th>\n",
       "      <td>5940</td>\n",
       "      <td>Boartusk Liege</td>\n",
       "      <td>2</td>\n",
       "    </tr>\n",
       "    <tr>\n",
       "      <th>947</th>\n",
       "      <td>5940</td>\n",
       "      <td>Siege-Gang Commander</td>\n",
       "      <td>1</td>\n",
       "    </tr>\n",
       "    <tr>\n",
       "      <th>948</th>\n",
       "      <td>5940</td>\n",
       "      <td>Master of the Wild Hunt</td>\n",
       "      <td>1</td>\n",
       "    </tr>\n",
       "    <tr>\n",
       "      <th>949</th>\n",
       "      <td>5940</td>\n",
       "      <td>Island</td>\n",
       "      <td>1</td>\n",
       "    </tr>\n",
       "    <tr>\n",
       "      <th>950</th>\n",
       "      <td>5940</td>\n",
       "      <td>Gargoyle Castle</td>\n",
       "      <td>1</td>\n",
       "    </tr>\n",
       "    <tr>\n",
       "      <th>951</th>\n",
       "      <td>5940</td>\n",
       "      <td>Decree of Pain</td>\n",
       "      <td>1</td>\n",
       "    </tr>\n",
       "  </tbody>\n",
       "</table>\n",
       "</div>"
      ],
      "text/plain": [
       "     tournament_id                                            name  quantity\n",
       "0              389                                           Swamp        86\n",
       "1              389                                     Dark Ritual        23\n",
       "2              389                               Graveyard Marshal        20\n",
       "3              389                                    Gravecrawler        20\n",
       "4              389                              Geralf's Messenger        20\n",
       "5              389                                  Diregraf Ghoul        20\n",
       "6              389                                     Death Baron        19\n",
       "7              389                              Lord of the Undead        15\n",
       "8              389                                          Plains        14\n",
       "9              389                                  Polluted Delta        12\n",
       "10             389                               Bloodstained Mire        12\n",
       "11             389                                          Duress        11\n",
       "12             389                                     Tragic Slip        10\n",
       "13             389                             Stitcher's Supplier        10\n",
       "14             389                                   Murderous Cut        10\n",
       "15             389                                   Contamination        10\n",
       "16             389                                 Blood Scrivener        10\n",
       "17             389                                 Phyrexian Tower         9\n",
       "18             389                                     Siege Rhino         8\n",
       "19             389                              Sandsteppe Citadel         8\n",
       "20             389                                 Lingering Souls         8\n",
       "21             389                                  Evolving Wilds         8\n",
       "22             389                                          Forest         7\n",
       "23             389                          Anafenza, the Foremost         7\n",
       "24             389                                 Scoured Barrens         6\n",
       "25             389                     Liliana, Untouched by Death         6\n",
       "26             389                                  Fertile Ground         6\n",
       "27             389                            Bloodsoaked Champion         6\n",
       "28             389                           Sorin, Solemn Visitor         5\n",
       "29             389                               Remorseful Cleric         5\n",
       "30             389                                   Jungle Hollow         5\n",
       "31             389                          Blood Baron of Vizkopa         5\n",
       "32             389                                 Windswept Heath         4\n",
       "33             389                                     Vivien Reid         4\n",
       "34             389                                Thorn Lieutenant         4\n",
       "35             389                                    Star Compass         4\n",
       "36             389                        Sorin, Lord of Innistrad         4\n",
       "37             389                                 Diabolic Intent         4\n",
       "38             389                             Voice of Resurgence         3\n",
       "39             389                                       Utter End         3\n",
       "40             389                               Thraben Doomsayer         3\n",
       "41             389                     Thalia, Guardian of Thraben         3\n",
       "42             389                            Gather the Townsfolk         3\n",
       "43             389                                Blossoming Sands         3\n",
       "44             389                                     Abzan Charm         3\n",
       "45             389                                    Wingmate Roc         2\n",
       "46             389                                         Putrefy         2\n",
       "47             389                                   Grim Haruspex         2\n",
       "48             389                               Disciple of Grace         2\n",
       "49             389                                         Worship         1\n",
       "50             389                               Resplendent Angel         1\n",
       "51             389                                   Polluted Mire         1\n",
       "52             389                                      Pestilence         1\n",
       "53             389                                       Persecute         1\n",
       "54             389                              Mentor of the Meek         1\n",
       "55             691                                          Island        22\n",
       "56             691                               Woodland Wanderer        20\n",
       "57             691                                 Tropical Island        20\n",
       "58             691                                   Breeding Pool        20\n",
       "59             691                                           Bayou        20\n",
       "60             691                                 Trygon Predator        16\n",
       "61             691                                      Mana Drain        16\n",
       "62             691                            Elves of Deep Shadow        16\n",
       "63             691                                   Utopia Sprawl        15\n",
       "64             691                                      Mind Twist        15\n",
       "65             691                                    Skyrider Elf        13\n",
       "66             691                               Hallowed Fountain        13\n",
       "67             691                                          Forest        13\n",
       "68             691                                      Skullclamp        12\n",
       "69             691                                 Volcanic Island        11\n",
       "70             691                                 Fact or Fiction        11\n",
       "71             691                                          Plains        10\n",
       "72             691                                    Three Visits         8\n",
       "73             691                                       Scrubland         8\n",
       "74             691                                          Recoil         8\n",
       "75             691                           Sword of Fire and Ice         7\n",
       "76             691                                           Swamp         7\n",
       "77             691                              Eldrazi Skyspawner         7\n",
       "78             691                               Pulse of the Grid         6\n",
       "79             691                                 Lumbering Falls         6\n",
       "80             691                    Ulamog, the Ceaseless Hunger         4\n",
       "81             691                                   Tribal Flames         4\n",
       "82             691                                Smoldering Marsh         4\n",
       "83             691                                  Sludge Crawler         4\n",
       "84             691                                   Ravenous Rats         4\n",
       "85             691                                  Prairie Stream         4\n",
       "86             691                                             Opt         4\n",
       "87             691                                        Mountain         4\n",
       "88             691                                 Loyal Retainers         4\n",
       "89             691                         Forerunner of Slaughter         4\n",
       "90             691                                     Fire Ambush         4\n",
       "91             691                     Drana, Liberator of Malakir         4\n",
       "92             691                                      Disenchant         4\n",
       "93             691                                  Coiling Oracle         4\n",
       "94             691                                 Chain Lightning         4\n",
       "95             691                                  Bring to Light         4\n",
       "96             691                                     Blood Crypt         4\n",
       "97             691                                      Blisterpod         4\n",
       "98             691                                  Azorius Signet         4\n",
       "99             691                                Azorius Chancery         4\n",
       "100            691                                  Akoum Firebird         4\n",
       "101            691                                     Aether Vial         4\n",
       "102            691                                          Absorb         4\n",
       "103            691                              Strategic Planning         3\n",
       "104            691                                            Rout         3\n",
       "105            691                              Pulse of the Forge         3\n",
       "106            691                                           Probe         3\n",
       "107            691                                  Painful Truths         3\n",
       "108            691                                        Land Tax         3\n",
       "109            691                                 Gobhobbler Rats         3\n",
       "110            691                        Gideon, Ally of Zendikar         3\n",
       "111            691                                     Force Spike         3\n",
       "112            691                                         Condemn         3\n",
       "113            691                                    Cinder Glade         3\n",
       "114            691                             Capture of Jingzhou         3\n",
       "115            691                                 Blinkmoth Nexus         3\n",
       "116            691                                  Urborg Volcano         2\n",
       "117            691                            Scatter to the Winds         2\n",
       "118            691                            Rasputin Dreamweaver         2\n",
       "119            691                                Quarantine Field         2\n",
       "120            691                                  Pristine Angel         2\n",
       "121            691                                         Karakas         2\n",
       "122            691                                          Harrow         2\n",
       "123            691                                    False Defeat         2\n",
       "124            691                                   Echoing Decay         2\n",
       "125            691                                    Canopy Vista         2\n",
       "126            691                                 Blazing Specter         2\n",
       "127            691                       Sword of Light and Shadow         1\n",
       "128            691                                     Spell Snare         1\n",
       "129            691                                    Ruinous Path         1\n",
       "130            691                                    Rise // Fall         1\n",
       "131            691                                         Oxidize         1\n",
       "132            691                          Noyan Dar, Roil Shaper         1\n",
       "133            691                                         Disrupt         1\n",
       "134           1463                                        Mountain        24\n",
       "135           1463                                  Bloodbraid Elf        16\n",
       "136           1463                                          Forest        14\n",
       "137           1463                                Wooded Foothills        12\n",
       "138           1463                                       Terminate        12\n",
       "139           1463                                           Swamp        12\n",
       "140           1463                                   Graven Cairns        12\n",
       "141           1463                                Fire-Lit Thicket        12\n",
       "142           1463                              Earthshaker Khenra        12\n",
       "143           1463                                Boggart Ram-Gang        12\n",
       "144           1463                               Bloodstained Mire        10\n",
       "145           1463                                           Shock         9\n",
       "146           1463                                  Wooded Bastion         8\n",
       "147           1463                                 Volcanic Hammer         8\n",
       "148           1463                              Tattermunge Maniac         8\n",
       "149           1463                            Swans of Bryn Argoll         8\n",
       "150           1463                                   Ramunap Ruins         8\n",
       "151           1463                               Mudbrawler Cohort         8\n",
       "152           1463                                       Mana Leak         8\n",
       "153           1463                                   Kitchen Finks         8\n",
       "154           1463                            Intimidator Initiate         8\n",
       "155           1463                                   Flame Javelin         8\n",
       "156           1463                                Champion of Wits         8\n",
       "157           1463                               Birds of Paradise         8\n",
       "158           1463                                 Reflecting Pool         7\n",
       "159           1463                                          Plains         7\n",
       "160           1463                                          Island         7\n",
       "161           1463                                 Seismic Assault         6\n",
       "162           1463                                  Polluted Delta         6\n",
       "163           1463                                   City of Brass         6\n",
       "164           1463                                  Forgotten Cave         5\n",
       "165           1463                                 Windswept Heath         4\n",
       "166           1463                                 Wilt-Leaf Liege         4\n",
       "167           1463                              Vile Manifestation         4\n",
       "168           1463                                Tranquil Thicket         4\n",
       "169           1463                              Strategic Planning         4\n",
       "170           1463                        Sphinx of the Steel Wind         4\n",
       "171           1463                          Shield of the Oversoul         4\n",
       "172           1463                                Seedcradle Witch         4\n",
       "173           1463                                  Safehold Elite         4\n",
       "174           1463                                Resilient Khenra         4\n",
       "175           1463                                  Read the Runes         4\n",
       "176           1463                                Qasali Pridemage         4\n",
       "177           1463                                     Mystic Gate         4\n",
       "178           1463                               Monstrous Carabid         4\n",
       "179           1463                                      Mind Stone         4\n",
       "180           1463                                 Maelstrom Pulse         4\n",
       "181           1463                               Lurching Rotbeast         4\n",
       "182           1463                                      Lotus Vale         4\n",
       "183           1463                                  Grand Coliseum         4\n",
       "184           1463                                   Gemstone Mine         4\n",
       "185           1463                                  Flooded Strand         4\n",
       "186           1463                              Demigod of Revenge         4\n",
       "187           1463                                Dauntless Escort         4\n",
       "188           1463                                   Coastal Tower         4\n",
       "189           1463                                 Chain of Plasma         4\n",
       "190           1463                                  Boartusk Liege         4\n",
       "191           1463                                     Barren Moor         4\n",
       "192           1463                            Argivian Restoration         4\n",
       "193           1463                              Architects of Will         4\n",
       "194           1463                             Appeal // Authority         4\n",
       "195           1463                                  Urborg Volcano         3\n",
       "196           1463                                  The Scarab God         3\n",
       "197           1463                                      Salt Marsh         3\n",
       "198           1463                               Oversold Cemetery         3\n",
       "199           1463                                 Merfolk Traders         3\n",
       "200           1463                                    Hashep Oasis         3\n",
       "201           1463                                    Buried Alive         3\n",
       "202           1463                                    Wrath of God         2\n",
       "203           1463                                The Scorpion God         2\n",
       "204           1463                                    Supreme Will         2\n",
       "205           1463                                    Sunken Ruins         2\n",
       "206           1463                                    Shefet Dunes         2\n",
       "207           1463                                    Manamorphose         2\n",
       "208           1463                                  Lightning Rift         2\n",
       "209           1463                                Lightning Reaver         2\n",
       "210           1463                              God-Pharaoh's Gift         2\n",
       "211           1463                       Desert of the Indomitable         2\n",
       "212           1463                           Desert of the Fervent         2\n",
       "213           1463                               Captured Sunlight         2\n",
       "214           1463                                Bituminous Blast         2\n",
       "215           1463                                  Bant Sureblade         2\n",
       "216           1463                                    Anathemancer         2\n",
       "217           1463                                   Ammit Eternal         2\n",
       "218           1463                                          Abrade         2\n",
       "219           1463                             Struggle // Survive         1\n",
       "220           1463                               Scavenger Grounds         1\n",
       "221           1463                          Oona, Queen of the Fae         1\n",
       "222           1463                                   Krosan Tusker         1\n",
       "223           1463                             Hour of Devastation         1\n",
       "224           1463                                 Fulminator Mage         1\n",
       "225           1463                                  Faerie Macabre         1\n",
       "226           1463                               Akroma's Blessing         1\n",
       "227           2112                                          Forest        28\n",
       "228           2112                              Attune with Aether        24\n",
       "229           2112                                      Aether Hub        24\n",
       "230           2112                          Servant of the Conduit        20\n",
       "231           2112                         Woodweaver's Puzzleknot        16\n",
       "232           2112                               Botanical Sanctum        16\n",
       "233           2112                              Aetherworks Marvel        16\n",
       "234           2112                             Harnessed Lightning        15\n",
       "235           2112                                    Time Stretch        13\n",
       "236           2112                                      Terastodon        13\n",
       "237           2112                                Karplusan Forest        13\n",
       "238           2112                                        Mountain        12\n",
       "239           2112                         Jace, the Mind Sculptor        12\n",
       "240           2112                                  Yavimaya Coast        11\n",
       "241           2112                                   Raging Ravine        10\n",
       "242           2112                                Whirler Virtuoso         9\n",
       "243           2112                                 Voltaic Brawler         8\n",
       "244           2112                              Toolcraft Exemplar         8\n",
       "245           2112                               Sulfurous Springs         8\n",
       "246           2112                               Smuggler's Copter         8\n",
       "247           2112                             Scrapheap Scrounger         8\n",
       "248           2112                                    Longtusk Cub         8\n",
       "249           2112                           Inventor's Apprentice         8\n",
       "250           2112                               Inspiring Vantage         8\n",
       "251           2112                                      Incinerate         8\n",
       "252           2112                             Concealed Courtyard         8\n",
       "253           2112                                 Bristling Hydra         8\n",
       "254           2112                                   Bomat Courier         8\n",
       "255           2112                              Blossoming Defense         8\n",
       "256           2112                               Birds of Paradise         8\n",
       "257           2112                               Battlefield Forge         8\n",
       "258           2112                       Unlicensed Disintegration         7\n",
       "259           2112                          Electrostatic Pummeler         7\n",
       "260           2112                                Spirebluff Canal         6\n",
       "261           2112                                Larger Than Life         6\n",
       "262           2112                                          Island         6\n",
       "263           2112                                 Caves of Koilos         6\n",
       "264           2112                                      Pia Nalaar         5\n",
       "265           2112                                Veteran Motorist         4\n",
       "266           2112                               Stoneforge Mystic         4\n",
       "267           2112                                   Serum Visions         4\n",
       "268           2112                               Glimmer of Genius         4\n",
       "269           2112                                  Built to Smash         4\n",
       "270           2112                                Rush of Vitality         3\n",
       "271           2112                                 Reckless Charge         3\n",
       "272           2112                                          Plains         3\n",
       "273           2112                                  Moment's Peace         3\n",
       "274           2112                                  Lathnu Hellion         3\n",
       "275           2112                        Glassblower's Puzzleknot         3\n",
       "276           2112                      Chandra, Torch of Defiance         3\n",
       "277           2112                                  Blooming Marsh         3\n",
       "278           2112                                     Shivan Reef         2\n",
       "279           2112                                      Mind Stone         2\n",
       "280           2112                                Lavaclaw Reaches         2\n",
       "281           2112                                 Eternal Witness         2\n",
       "282           2112                           Engineered Explosives         2\n",
       "283           2112                                 Viridian Shaman         1\n",
       "284           2112                                 Treetop Village         1\n",
       "285           2112                                           Swamp         1\n",
       "286           2112                            Siege-Gang Commander         1\n",
       "287           2112                                     Saheeli Rai         1\n",
       "288           2112                              Nissa, Vital Force         1\n",
       "289           2112                                  Llanowar Elves         1\n",
       "290           2112                                 Grafted Wargear         1\n",
       "291           2112                                     Fragmentize         1\n",
       "292           2112                                 Cranial Plating         1\n",
       "293           2112                                 Basilisk Collar         1\n",
       "294           2480                                          Island        76\n",
       "295           2480                                 Sleight of Hand        24\n",
       "296           2480                                 Worldspine Wurm        23\n",
       "297           2480                                  Mystical Tutor        20\n",
       "298           2480                                        Mountain        20\n",
       "299           2480                                           Flash        20\n",
       "300           2480                                    Counterspell        20\n",
       "301           2480                                          Duress        16\n",
       "302           2480                                            Daze        16\n",
       "303           2480                           Accumulated Knowledge        16\n",
       "304           2480                                    Cunning Wish        15\n",
       "305           2480                                          Dispel        14\n",
       "306           2480                                   City of Brass        14\n",
       "307           2480                                           Swamp        13\n",
       "308           2480                               Underground River        12\n",
       "309           2480                                   Cabal Therapy        12\n",
       "310           2480                                       Bad River        10\n",
       "311           2480                                     Steam Vents         9\n",
       "312           2480                                     Mental Note         8\n",
       "313           2480                                      Incinerate         7\n",
       "314           2480                                    Memory Lapse         6\n",
       "315           2480                              Consecrated Sphinx         5\n",
       "316           2480                                 Volcanic Hammer         4\n",
       "317           2480                                           Shock         4\n",
       "318           2480                                  Rakdos Cackler         4\n",
       "319           2480                                        Pack Rat         4\n",
       "320           2480                                 Mountain Valley         4\n",
       "321           2480                                     Living Wish         4\n",
       "322           2480                                       Lava Dart         4\n",
       "323           2480                                Karplusan Forest         4\n",
       "324           2480                      Jace, Architect of Thought         4\n",
       "325           2480                                   Inkmoth Nexus         4\n",
       "326           2480                                     Guttersnipe         4\n",
       "327           2480                            Goblin Electromancer         4\n",
       "328           2480                                Flash of Insight         4\n",
       "329           2480                                      Flame Rift         4\n",
       "330           2480                                     Blood Crypt         4\n",
       "331           2480                               Blistercoil Weird         4\n",
       "332           2480                                      Ash Zealot         4\n",
       "333           2480                               Stronghold Gambit         3\n",
       "334           2480                                       Persecute         3\n",
       "335           2480                                Judge's Familiar         3\n",
       "336           2480                                     Dark Ritual         3\n",
       "337           2480                                  Ultimate Price         2\n",
       "338           2480                                   Rocky Tar Pit         2\n",
       "339           2480                                  Overgrown Tomb         2\n",
       "340           2480                                       Ostracize         2\n",
       "341           2480                              Nivmagus Elemental         2\n",
       "342           2480                                      Mana Clash         2\n",
       "343           2480                               Go for the Throat         2\n",
       "344           2480                                    Burning Wish         2\n",
       "345           2480                                   Worldly Tutor         1\n",
       "346           2480                               Sulfurous Springs         1\n",
       "347           2480                                       Polymorph         1\n",
       "348           2480                                     Hibernation         1\n",
       "349           2480                                          Forest         1\n",
       "350           2480                                   Cyclonic Rift         1\n",
       "351           2480                               Blue Sun's Zenith         1\n",
       "352           2480                              Black Sun's Zenith         1\n",
       "353           3223                                        Mountain        45\n",
       "354           3223                                       Arid Mesa        28\n",
       "355           3223                                   Scalding Tarn        24\n",
       "356           3223                                  Lightning Bolt        23\n",
       "357           3223                                 Stomping Ground        17\n",
       "358           3223                    Valakut, the Molten Pinnacle        16\n",
       "359           3223                                  Primeval Titan        16\n",
       "360           3223                         Khalni Heart Expedition        15\n",
       "361           3223                                    Gruul Signet        15\n",
       "362           3223                                       Cultivate        15\n",
       "363           3223                                   Inferno Titan        14\n",
       "364           3223                                          Plains        12\n",
       "365           3223                                     Lotus Cobra        12\n",
       "366           3223                                          Harrow        11\n",
       "367           3223                                          Island         9\n",
       "368           3223                                          Forest         9\n",
       "369           3223                               Verdant Catacombs         8\n",
       "370           3223                                       Preordain         8\n",
       "371           3223                               Figure of Destiny         8\n",
       "372           3223                               Birds of Paradise         8\n",
       "373           3223                                Misty Rainforest         7\n",
       "374           3223                                  Wistful Selkie         4\n",
       "375           3223                                    Vexing Devil         4\n",
       "376           3223                                Thermo-Alchemist         4\n",
       "377           3223                                   Sylvan Ranger         4\n",
       "378           3223                                     Steppe Lynx         4\n",
       "379           3223                                     Steam Vents         4\n",
       "380           3223                                   Squadron Hawk         4\n",
       "381           3223                                 Selfless Spirit         4\n",
       "382           3223                                   Sejiri Refuge         4\n",
       "383           3223                                 Pillar of Flame         4\n",
       "384           3223                              Oracle of Mul Daya         4\n",
       "385           3223                                     Marsh Flats         4\n",
       "386           3223                                       Mana Leak         4\n",
       "387           3223                                  Llanowar Elves         4\n",
       "388           3223                             Leyline of Sanctity         4\n",
       "389           3223                               Honor of the Pure         4\n",
       "390           3223                             Gwyllion Hedge-Mage         4\n",
       "391           3223                                  Godless Shrine         4\n",
       "392           3223                                    Goblin Guide         4\n",
       "393           3223                              Goblin Bushwhacker         4\n",
       "394           3223                                Glacial Fortress         4\n",
       "395           3223                                   Foul Emissary         4\n",
       "396           3223                                         Foresee         4\n",
       "397           3223                                  Elite Vanguard         4\n",
       "398           3223                                Elder Deep-Fiend         4\n",
       "399           3223                                 Day of Judgment         4\n",
       "400           3223                                         Condemn         4\n",
       "401           3223                                 Burst Lightning         4\n",
       "402           3223                              Brave the Elements         4\n",
       "403           3223                                Thunderous Wrath         3\n",
       "404           3223                                Obstinate Baloth         3\n",
       "405           3223                                 Incendiary Flow         3\n",
       "406           3223                                          Cancel         3\n",
       "407           3223                           Bonfire of the Damned         3\n",
       "408           3223                                  Ajani Goldmane         3\n",
       "409           3223                              Wolfir Silverheart         2\n",
       "410           3223                          Thalia, Heretic Cathar         2\n",
       "411           3223                                 Teetering Peaks         2\n",
       "412           3223                                  Summoning Trap         2\n",
       "413           3223                                         Quicken         2\n",
       "414           3223                                       Pyroclasm         2\n",
       "415           3223                                     Frost Titan         2\n",
       "416           3223                                 Cavern of Souls         2\n",
       "417           3223                                Blessed Alliance         2\n",
       "418           3223                                  Bedlam Reveler         2\n",
       "419           3223                                Jace's Ingenuity         1\n",
       "420           3223                          Imprisoned in the Moon         1\n",
       "421           3223                                  Gaea's Revenge         1\n",
       "422           3223                              Entreat the Angels         1\n",
       "423           3223                           Elixir of Immortality         1\n",
       "424           3223                             Desolate Lighthouse         1\n",
       "425           3668                           Snow-Covered Mountain        43\n",
       "426           3668                                          Plains        20\n",
       "427           3668                                   Great Furnace        16\n",
       "428           3668                                  Shrapnel Blast        13\n",
       "429           3668                                       Wasteland        12\n",
       "430           3668                                     Lotus Petal        12\n",
       "431           3668                                      Chrome Mox        12\n",
       "432           3668                                    Ancient Tomb        12\n",
       "433           3668                             Thundermaw Hellkite        11\n",
       "434           3668                                          Island        10\n",
       "435           3668                                    Bonesplitter        10\n",
       "436           3668                                   Cursed Scroll         9\n",
       "437           3668                                     Thoughtcast         8\n",
       "438           3668                               Solemn Simulacrum         8\n",
       "439           3668                             Snow-Covered Forest         8\n",
       "440           3668                                Slith Firewalker         8\n",
       "441           3668                               Seat of the Synod         8\n",
       "442           3668                                   Searing Spear         8\n",
       "443           3668                                     Ornithopter         8\n",
       "444           3668                                    Mogg Fanatic         8\n",
       "445           3668                                      Jackal Pup         8\n",
       "446           3668                                        Frogmite         8\n",
       "447           3668                      Eidolon of the Great Revel         8\n",
       "448           3668                               Somber Hoverguard         7\n",
       "449           3668                                           Skred         7\n",
       "450           3668                                    Myr Enforcer         7\n",
       "451           3668                                 Coldsteel Heart         7\n",
       "452           3668                                  Rootbound Crag         6\n",
       "453           3668                                     Glimmervoid         6\n",
       "454           3668                                       Thragtusk         5\n",
       "455           3668                                           Swamp         5\n",
       "456           3668                                     Welding Jar         4\n",
       "457           3668                                      War Falcon         4\n",
       "458           3668                               Vault of Whispers         4\n",
       "459           3668                                   Tree of Tales         4\n",
       "460           3668                            Thirst for Knowledge         4\n",
       "461           3668                               Sublime Archangel         4\n",
       "462           3668                                      Stone Rain         4\n",
       "463           3668                                 Soltari Trooper         4\n",
       "464           3668                            Soltari Foot Soldier         4\n",
       "465           3668                                   Seething Song         4\n",
       "466           3668                                   Rite of Flame         4\n",
       "467           3668                                       Reanimate         4\n",
       "468           3668                          Prophetic Flamespeaker         4\n",
       "469           3668                                Mogis's Warhound         4\n",
       "470           3668                                 Mishra's Bauble         4\n",
       "471           3668                                    Living Death         4\n",
       "472           3668                                 Knight of Glory         4\n",
       "473           3668                              Kataki, War's Wage         4\n",
       "474           3668                                   Jinxed Choker         4\n",
       "475           3668                                       Intuition         4\n",
       "476           3668                                   Ideas Unbound         4\n",
       "477           3668    Erayo, Soratami Ascendant // Erayo's Essence         4\n",
       "478           3668                                Drowned Catacomb         4\n",
       "479           3668                                     Dark Ritual         4\n",
       "480           3668                                Chromatic Sphere         4\n",
       "481           3668                                     Arc-Slogger         4\n",
       "482           3668                                     Ancient Den         4\n",
       "483           3668                      Ajani, Caller of the Pride         4\n",
       "484           3668                             Talisman of Impulse         3\n",
       "485           3668                           Talisman of Dominance         3\n",
       "486           3668                                Sphinx of Uthuun         3\n",
       "487           3668                                     Molten Rain         3\n",
       "488           3668                                  Into the North         3\n",
       "489           3668                          Chandra, the Firebrand         3\n",
       "490           3668                                    Acidic Slime         3\n",
       "491           3668                                 Viridian Shaman         2\n",
       "492           3668                                      Triskelion         2\n",
       "493           3668                            Smelt // Herd // Saw         2\n",
       "494           3668                                  Scrying Sheets         2\n",
       "495           3668                                Pyrite Spellbomb         2\n",
       "496           3668                                Leonin Skyhunter         2\n",
       "497           3668                                 Elderscale Wurm         2\n",
       "498           3668                               Dictate of Heliod         2\n",
       "499           3668                                Ajani's Presence         2\n",
       "500           3668                                  Pithing Needle         1\n",
       "501           3668                                   Oblivion Ring         1\n",
       "502           3668                                  Mouth of Ronom         1\n",
       "503           3668                                      Mind's Eye         1\n",
       "504           3668                                      Magmaquake         1\n",
       "505           3668                                  Highland Weald         1\n",
       "506           3668                                     Frost Marsh         1\n",
       "507           3668                                  Evolving Wilds         1\n",
       "508           3668                                       Duplicant         1\n",
       "509           3668                                 Banishing Light         1\n",
       "510           3668                                            Atog         1\n",
       "511           3956                                           Swamp        63\n",
       "512           3956                                          Forest        53\n",
       "513           3956                                       Dismember        24\n",
       "514           3956                                          Island        20\n",
       "515           3956                              Greenbelt Rampager        15\n",
       "516           3956                         Rishkar, Peema Renegade        12\n",
       "517           3956                           Glint-Sleeve Siphoner        12\n",
       "518           3956                              Chameleon Colossus        12\n",
       "519           3956                                Walking Ballista        11\n",
       "520           3956                                          Plains        11\n",
       "521           3956                                      Fatal Push        11\n",
       "522           3956                             Karn, Scion of Urza        10\n",
       "523           3956                               Woodland Cemetery         8\n",
       "524           3956                             Winding Constrictor         8\n",
       "525           3956                                Vendilion Clique         8\n",
       "526           3956                            Urza's Ruinous Blast         8\n",
       "527           3956                       Teferi, Hero of Dominaria         8\n",
       "528           3956                                       Syncopate         8\n",
       "529           3956                             Steel Leaf Champion         8\n",
       "530           3956                                 Scavenging Ooze         8\n",
       "531           3956                                Meandering River         8\n",
       "532           3956                                  Llanowar Elves         8\n",
       "533           3956                                 Kalonian Tusker         8\n",
       "534           3956                                  Heart of Kiran         8\n",
       "535           3956                                   Elvish Mystic         8\n",
       "536           3956                      Baral, Chief of Compliance         8\n",
       "537           3956                          Aethersphere Harvester         8\n",
       "538           3956                                        Disallow         7\n",
       "539           3956                                             Opt         6\n",
       "540           3956                                       Mutavault         6\n",
       "541           3956                               The Eldest Reborn         5\n",
       "542           3956                               Memorial to Folly         5\n",
       "543           3956                             Yahenni's Expertise         4\n",
       "544           3956                                    Renegade Map         4\n",
       "545           3956                               Pristine Talisman         4\n",
       "546           3956                                Mutagenic Growth         4\n",
       "547           3956                                      Lashwrithe         4\n",
       "548           3956                                     Dread Shade         4\n",
       "549           3956                                      Doom Blade         4\n",
       "550           3956                                Cabal Stronghold         4\n",
       "551           3956                                   Bitterblossom         4\n",
       "552           3956                               Ridgescale Tusker         3\n",
       "553           3956               Okina, Temple to the Grandfathers         3\n",
       "554           3956                                  Karn Liberated         3\n",
       "555           3956                               Gifted Aetherborn         3\n",
       "556           3956                                  Eiganjo Castle         3\n",
       "557           3956                                     Batterskull         3\n",
       "558           3956                                       Seal Away         2\n",
       "559           3956                           Phyrexian Obliterator         2\n",
       "560           3956                                          Negate         2\n",
       "561           3956                  Minamo, School at Water's Edge         2\n",
       "562           3956                              Memorial to Genius         2\n",
       "563           3956                       Karn's Temporal Sundering         2\n",
       "564           3956                                          Duress         2\n",
       "565           3956                                        Distress         2\n",
       "566           3956                                 Blink of an Eye         2\n",
       "567           3956                           Sensei's Divining Top         1\n",
       "568           3956                                  Murmuring Bosk         1\n",
       "569           3956                                   Life's Finale         1\n",
       "570           3956                                  Kalonian Hydra         1\n",
       "571           3956                                 Essence Scatter         1\n",
       "572           4315                                          Forest        62\n",
       "573           4315                                       Vengevine        20\n",
       "574           4315                         Survival of the Fittest        20\n",
       "575           4315                              Joraga Treespeaker        20\n",
       "576           4315                               Hangarback Walker        20\n",
       "577           4315                                   Breeding Pool        16\n",
       "578           4315                                  Yavimaya Coast        14\n",
       "579           4315                                          Plains        14\n",
       "580           4315                                 Bounding Krasis        13\n",
       "581           4315                          Inquisition of Kozilek        12\n",
       "582           4315                                 Umezawa's Jitte        11\n",
       "583           4315                                    Watery Grave         8\n",
       "584           4315                                 Stomping Ground         8\n",
       "585           4315                                 Simic Guildgate         8\n",
       "586           4315                                 Sea Gate Oracle         8\n",
       "587           4315                                    Nest Invader         8\n",
       "588           4315                                  Miscalculation         8\n",
       "589           4315  Jace, Vryn's Prodigy // Jace, Telepath Unbound         8\n",
       "590           4315                                  Godless Shrine         8\n",
       "591           4315                                  Experiment One         8\n",
       "592           4315                                 Caves of Koilos         8\n",
       "593           4315                             Caustic Caterpillar         8\n",
       "594           4315                                 Treetop Village         6\n",
       "595           4315                                          Island         6\n",
       "596           4315                                  Evolving Wilds         6\n",
       "597           4315                                Cloud of Faeries         6\n",
       "598           4315                                        Vendetta         5\n",
       "599           4315                                           Swamp         5\n",
       "600           4315                                Orzhov Guildgate         5\n",
       "601           4315                                Elvish Visionary         5\n",
       "602           4315                              Student of Warfare         4\n",
       "603           4315                                   Splinter Twin         4\n",
       "604           4315                                 Skyshroud Elite         4\n",
       "605           4315                                     Shivan Reef         4\n",
       "606           4315                                      See Beyond         4\n",
       "607           4315                                          Negate         4\n",
       "608           4315                                Managorger Hydra         4\n",
       "609           4315                                 Llanowar Wastes         4\n",
       "610           4315                      Knight of the White Orchid         4\n",
       "611           4315                               Goryo's Vengeance         4\n",
       "612           4315                                   Fiery Impulse         4\n",
       "613           4315                           Burning-Tree Emissary         4\n",
       "614           4315                                  Boros Reckoner         4\n",
       "615           4315                             Archangel of Tithes         4\n",
       "616           4315                                      Wood Elves         3\n",
       "617           4315                                   Wall of Omens         3\n",
       "618           4315                                   Slaughterhorn         3\n",
       "619           4315                          Obzedat, Ghost Council         3\n",
       "620           4315                                      Naturalize         3\n",
       "621           4315                                        Languish         3\n",
       "622           4315                           Infinite Obliteration         3\n",
       "623           4315                                     Gideon Jura         3\n",
       "624           4315                            Artificer's Epiphany         3\n",
       "625           4315                                   Whirler Rogue         2\n",
       "626           4315                                   Teardrop Kami         2\n",
       "627           4315                                Tajuru Preserver         2\n",
       "628           4315                             Recurring Nightmare         2\n",
       "629           4315                                  Read the Bones         2\n",
       "630           4315                                  Raven Familiar         2\n",
       "631           4315                                     Opportunity         2\n",
       "632           4315                                        Mountain         2\n",
       "633           4315                                  Frantic Search         2\n",
       "634           4315                                 Faerie Conclave         2\n",
       "635           4315                               Evolutionary Leap         2\n",
       "636           4315                                           Erase         2\n",
       "637           4315                                Disrupting Shoal         2\n",
       "638           4315                                 Dimir Guildgate         2\n",
       "639           4315                                    Devour Flesh         2\n",
       "640           4315                                 Cloudfin Raptor         2\n",
       "641           4315                            Weatherseed Treefolk         1\n",
       "642           4315                       Ulamog, the Infinite Gyre         1\n",
       "643           4315                                 Thrull Parasite         1\n",
       "644           4315                                 Suffer the Past         1\n",
       "645           4315                                    Spike Weaver         1\n",
       "646           4315                                      Palinchron         1\n",
       "647           4315     Nissa, Vastwood Seer // Nissa, Sage Animist         1\n",
       "648           4315                                 Legion Loyalist         1\n",
       "649           4315                               Fleshbag Marauder         1\n",
       "650           4315                         Emrakul, the Aeons Torn         1\n",
       "651           4610                                        Sol Ring        27\n",
       "652           4610                               Thought-Knot Seer        24\n",
       "653           4610                                      Strip Mine        24\n",
       "654           4610                                      Mana Vault        24\n",
       "655           4610                                           Bayou        24\n",
       "656           4610                                 Reality Smasher        20\n",
       "657           4610                                   Demonic Tutor        20\n",
       "658           4610                                 Llanowar Wastes        16\n",
       "659           4610                   Kozilek, the Great Distortion        16\n",
       "660           4610                                          Forest        16\n",
       "661           4610                                         Channel        16\n",
       "662           4610                                    Warping Wail        12\n",
       "663           4610                                   Rishadan Port        12\n",
       "664           4610                                        Fastbond        12\n",
       "665           4610                                   Eldrazi Mimic        12\n",
       "666           4610                                  Golgari Signet        10\n",
       "667           4610                                 Underground Sea         8\n",
       "668           4610                                 Tropical Island         8\n",
       "669           4610                                  Overgrown Tomb         8\n",
       "670           4610                                   Natural State         8\n",
       "671           4610                                      Land Grant         8\n",
       "672           4610                                            Gush         8\n",
       "673           4610                                      Brainstorm         8\n",
       "674           4610                           Library of Alexandria         7\n",
       "675           4610                            Swords to Plowshares         6\n",
       "676           4610                                      Juggernaut         6\n",
       "677           4610                               Eldrazi Displacer         6\n",
       "678           4610                               Sea Gate Wreckage         5\n",
       "679           4610                                      Endbringer         5\n",
       "680           4610                                   World Breaker         4\n",
       "681           4610                                Wheel of Fortune         4\n",
       "682           4610                                 Volcanic Island         4\n",
       "683           4610                                   Temple Garden         4\n",
       "684           4610                                           Taiga         4\n",
       "685           4610                                        Savannah         4\n",
       "686           4610                                          Remand         4\n",
       "687           4610                                        Regrowth         4\n",
       "688           4610                                         Plateau         4\n",
       "689           4610                                     Monkey Cage         4\n",
       "690           4610                                 Matter Reshaper         4\n",
       "691           4610                                   Horn of Ramos         4\n",
       "692           4610                                 Hickory Woodlot         4\n",
       "693           4610                               Eldrazi Obligator         4\n",
       "694           4610                                     Dark Ritual         4\n",
       "695           4610                               Battlefield Forge         4\n",
       "696           4610                                  Sacred Foundry         3\n",
       "697           4610                              Life from the Loam         3\n",
       "698           4610                          Dark Heart of the Wood         3\n",
       "699           4610                                    Counterspell         3\n",
       "700           4610                                 Caves of Koilos         3\n",
       "701           4610                                    Watery Grave         2\n",
       "702           4610                                       Snuff Out         2\n",
       "703           4610                                 Selesnya Signet         2\n",
       "704           4610                              Muddle the Mixture         2\n",
       "705           4610                                          Island         2\n",
       "706           4610                           Ghalta, Primal Hunger         2\n",
       "707           4610                                       Dust Bowl         2\n",
       "708           4610                              Crush of Tentacles         2\n",
       "709           4610                                   City of Brass         2\n",
       "710           4610                                The Immortal Sun         1\n",
       "711           4610                            Nezahal, Primal Tide         1\n",
       "712           4610                                Natural Affinity         1\n",
       "713           4610                                     Last Chance         1\n",
       "714           4610                           Flood of Recollection         1\n",
       "715           4610                                Bottled Cloister         1\n",
       "716           4610                               Bearer of Silence         1\n",
       "717           4985                                          Forest       101\n",
       "718           4985                                        Mountain        21\n",
       "719           4985                     Rofellos, Llanowar Emissary        20\n",
       "720           4985                                   Natural Order        20\n",
       "721           4985                                  Llanowar Elves        20\n",
       "722           4985                               Birds of Paradise        20\n",
       "723           4985                           Garruk, Primal Hunter        17\n",
       "724           4985                                          Island        16\n",
       "725           4985                                  Primeval Titan        15\n",
       "726           4985                                Tireless Tracker        14\n",
       "727           4985                                  Quirion Ranger        12\n",
       "728           4985                                Elvish Archdruid        11\n",
       "729           4985                         Ugin, the Spirit Dragon        10\n",
       "730           4985                                       Mana Leak         8\n",
       "731           4985                                         Impulse         8\n",
       "732           4985                                      Doom Blade         8\n",
       "733           4985                                           Swamp         7\n",
       "734           4985                                Drowned Catacomb         7\n",
       "735           4985                           Whisperwood Elemental         6\n",
       "736           4985                                  Dungrove Elder         6\n",
       "737           4985                      Jace, Unraveler of Secrets         5\n",
       "738           4985                               Hellkite Overlord         5\n",
       "739           4985                                 Yavimaya Hollow         4\n",
       "740           4985                                      Wild Slash         4\n",
       "741           4985                            Stormblood Berserker         4\n",
       "742           4985                                           Shock         4\n",
       "743           4985                                  Rampant Growth         4\n",
       "744           4985                                          Ponder         4\n",
       "745           4985                                          Plains         4\n",
       "746           4985                                      Incinerate         4\n",
       "747           4985                              Goblin Fireslinger         4\n",
       "748           4985                                Glacial Fortress         4\n",
       "749           4985                                   Funeral Charm         4\n",
       "750           4985                                       Fireblast         4\n",
       "751           4985                               Falkenrath Gorger         4\n",
       "752           4985                                     Esper Charm         4\n",
       "753           4985                                 Day of Judgment         4\n",
       "754           4985                                  Choked Estuary         4\n",
       "755           4985                               Chandra's Phoenix         4\n",
       "756           4985                            Broken Concentration         4\n",
       "757           4985                                  Arcane Sanctum         4\n",
       "758           4985                                       Treachery         3\n",
       "759           4985                        Tasigur, the Golden Fang         3\n",
       "760           4985                                 Scoured Barrens         3\n",
       "761           4985                                          Negate         3\n",
       "762           4985                                    Heart Warden         3\n",
       "763           4985                                     Grave Titan         3\n",
       "764           4985                                Elvish Visionary         3\n",
       "765           4985                                    Acidic Slime         3\n",
       "766           4985     Westvale Abbey // Ormendahl, Profane Prince         2\n",
       "767           4985                                Temur Sabertooth         2\n",
       "768           4985                                Reckless Abandon         2\n",
       "769           4985                                     Mardu Scout         2\n",
       "770           4985                                 Grim Lavamancer         2\n",
       "771           4985                                     Gideon Jura         2\n",
       "772           4985                                    Crux of Fate         2\n",
       "773           4985                              Anguished Unmaking         2\n",
       "774           4985                           Timely Reinforcements         1\n",
       "775           4985                             Stingerfling Spider         1\n",
       "776           4985                               Solemn Simulacrum         1\n",
       "777           4985                               Goblin Heelcutter         1\n",
       "778           4985                                     Flashfreeze         1\n",
       "779           4985                                Dismal Backwater         1\n",
       "780           4985                                       Deathmark         1\n",
       "781           5437                                          Forest        47\n",
       "782           5437                                           Swamp        44\n",
       "783           5437                                          Island        30\n",
       "784           5437                                          Plains        18\n",
       "785           5437                              Garruk Wildspeaker        13\n",
       "786           5437                               Birds of Paradise        12\n",
       "787           5437                                    Thoughtseize         8\n",
       "788           5437                                  Sunpetal Grove         8\n",
       "789           5437                                  Noble Hierarch         8\n",
       "790           5437                       Gray Merchant of Asphodel         8\n",
       "791           5437                                 Fleecemane Lion         8\n",
       "792           5437                                      Boon Satyr         8\n",
       "793           5437                         Polukranos, World Eater         7\n",
       "794           5437                                   Path to Exile         7\n",
       "795           5437                          Nykthos, Shrine to Nyx         7\n",
       "796           5437                                   Nantuko Shade         7\n",
       "797           5437                                   Griffin Guide         7\n",
       "798           5437                                Ancestral Vision         7\n",
       "799           5437                                   Sign in Blood         6\n",
       "800           5437                                Call of the Herd         6\n",
       "801           5437                                  Walk the Aeons         5\n",
       "802           5437                               Temple of Abandon         5\n",
       "803           5437                                    White Knight         4\n",
       "804           5437                                  Voyaging Satyr         4\n",
       "805           5437                               Underworld Dreams         4\n",
       "806           5437                                  Tormented Hero         4\n",
       "807           5437                                       Time Warp         4\n",
       "808           5437                               Temple of Mystery         4\n",
       "809           5437                                 Sylvan Caryatid         4\n",
       "810           5437                              Stormbreath Dragon         4\n",
       "811           5437                                  Soltari Priest         4\n",
       "812           5437                         Soldier of the Pantheon         4\n",
       "813           5437                             Search for Tomorrow         4\n",
       "814           5437                                     Sangrophage         4\n",
       "815           5437                                  Rootbound Crag         4\n",
       "816           5437                                  Rampant Growth         4\n",
       "817           5437                                  Prismatic Lens         4\n",
       "818           5437                                          Ponder         4\n",
       "819           5437                                  Mesmeric Fiend         4\n",
       "820           5437                         Master of the Wild Hunt         4\n",
       "821           5437                                       Mana Leak         4\n",
       "822           5437                                  Llanowar Elves         4\n",
       "823           5437                                  Lightning Bolt         4\n",
       "824           5437                       Knight of the Holy Nimbus         4\n",
       "825           5437                                    Jace Beleren         4\n",
       "826           5437                             Icatian Javelineers         4\n",
       "827           5437                                Hypnotic Specter         4\n",
       "828           5437                                    Howling Mine         4\n",
       "829           5437                               Honor of the Pure         4\n",
       "830           5437                           Flagstones of Trokair         4\n",
       "831           5437                                Elvish Archdruid         4\n",
       "832           5437                                  Elite Vanguard         4\n",
       "833           5437                                     Dream Halls         4\n",
       "834           5437                                   Dauthi Slayer         4\n",
       "835           5437                                         Conflux         4\n",
       "836           5437                                    Acidic Slime         4\n",
       "837           5437                            Xenagos, the Reveler         3\n",
       "838           5437                                     Think Twice         3\n",
       "839           5437                               Temple of Triumph         3\n",
       "840           5437                                        Nyxathid         3\n",
       "841           5437                                Nostalgic Dreams         3\n",
       "842           5437                                Mogis's Marauder         3\n",
       "843           5437                                Mistcutter Hydra         3\n",
       "844           5437                                 Hero's Downfall         3\n",
       "845           5437                                    Gods Willing         3\n",
       "846           5437                                       Wipe Away         2\n",
       "847           5437                                       Swan Song         2\n",
       "848           5437                                        Snapback         2\n",
       "849           5437                                   Serra Avenger         2\n",
       "850           5437                                     Mox Diamond         2\n",
       "851           5437                                         Ichorid         2\n",
       "852           5437                                   Funeral Charm         2\n",
       "853           5437                         Erebos, God of the Dead         2\n",
       "854           5437                         Elspeth, Sun's Champion         2\n",
       "855           5437                                  Constant Mists         2\n",
       "856           5437                                 Chainer's Edict         2\n",
       "857           5437                               Basking Rootwalla         2\n",
       "858           5437                                 Withered Wretch         1\n",
       "859           5437                            Volrath's Stronghold         1\n",
       "860           5437                                       Thornling         1\n",
       "861           5437                                 Spear of Heliod         1\n",
       "862           5437                                      Progenitus         1\n",
       "863           5437                                     Pendelhaven         1\n",
       "864           5437                          Nylea, God of the Hunt         1\n",
       "865           5437                       Nicol Bolas, Planeswalker         1\n",
       "866           5437                                        Mountain         1\n",
       "867           5437                                   Might of Oaks         1\n",
       "868           5437                                 Gargoyle Castle         1\n",
       "869           5437                                  Fungal Reaches         1\n",
       "870           5437                                  Dreadship Reef         1\n",
       "871           5437                                   Cabal Coffers         1\n",
       "872           5437                                        Banefire         1\n",
       "873           5437                                  Arbor Colossus         1\n",
       "874           5437                                       Ant Queen         1\n",
       "875           5940                                        Mountain        44\n",
       "876           5940                                           Swamp        39\n",
       "877           5940                                  Lightning Bolt        24\n",
       "878           5940                                   Kitchen Finks        16\n",
       "879           5940                                          Forest        16\n",
       "880           5940                                 Incendiary Flow        15\n",
       "881           5940                                 Stomping Ground        12\n",
       "882           5940                              Demigod of Revenge        12\n",
       "883           5940                                   Sign in Blood        11\n",
       "884           5940                                  Boros Reckoner        11\n",
       "885           5940                                Thermo-Alchemist         8\n",
       "886           5940                                  Safehold Elite         8\n",
       "887           5940                                  Sacred Foundry         8\n",
       "888           5940                                  Rootbound Crag         8\n",
       "889           5940                          Liliana, the Last Hope         8\n",
       "890           5940                              Ghor-Clan Rampager         8\n",
       "891           5940                                   Flame Javelin         8\n",
       "892           5940                              Dragonskull Summit         8\n",
       "893           5940                                  Carrion Feeder         8\n",
       "894           5940                               Birds of Paradise         8\n",
       "895           5940                                Murderous Redcap         7\n",
       "896           5940                                      Domri Rade         7\n",
       "897           5940                                Boggart Ram-Gang         7\n",
       "898           5940                                 Reflecting Pool         6\n",
       "899           5940                                   Graven Cairns         6\n",
       "900           5940                             Collective Defiance         6\n",
       "901           5940                                  Wooded Bastion         4\n",
       "902           5940                                 Wilt-Leaf Liege         4\n",
       "903           5940                                    Watery Grave         4\n",
       "904           5940                                    Tainted Peak         4\n",
       "905           5940                                 Sulfuric Vortex         4\n",
       "906           5940                                     Spark Spray         4\n",
       "907           5940                                      Overmaster         4\n",
       "908           5940                                Orzhov Guildgate         4\n",
       "909           5940                                        Mutilate         4\n",
       "910           5940                                  Mesmeric Fiend         4\n",
       "911           5940                                Master Biomancer         4\n",
       "912           5940                                    Manamorphose         4\n",
       "913           5940                                  Llanowar Elves         4\n",
       "914           5940                                Hanweir Garrison         4\n",
       "915           5940                                       Gyre Sage         4\n",
       "916           5940                                 Grim Lavamancer         4\n",
       "917           5940                                  Godless Shrine         4\n",
       "918           5940                              Garruk Wildspeaker         4\n",
       "919           5940                            Galvanic Bombardment         4\n",
       "920           5940                                Elvish Visionary         4\n",
       "921           5940                              Eldritch Evolution         4\n",
       "922           5940                                  Dark Salvation         4\n",
       "923           5940                                    Cryptbreaker         4\n",
       "924           5940                            Collective Brutality         4\n",
       "925           5940                                 Cemetery Reaper         4\n",
       "926           5940                           Burning-Tree Emissary         4\n",
       "927           5940                                   Breeding Pool         4\n",
       "928           5940                                 Boros Guildgate         4\n",
       "929           5940                                  Bedlam Reveler         4\n",
       "930           5940                                 Undead Warchief         3\n",
       "931           5940                                 Fulminator Mage         3\n",
       "932           5940                                      Doom Blade         3\n",
       "933           5940                            Distended Mindbender         3\n",
       "934           5940                              Cabal Interrogator         3\n",
       "935           5940                                Baneslayer Angel         3\n",
       "936           5940                            Terramorphic Expanse         2\n",
       "937           5940                                  Sunpetal Grove         2\n",
       "938           5940                                      Skullcrack         2\n",
       "939           5940                                       Pyroclasm         2\n",
       "940           5940                                    Primal Druid         2\n",
       "941           5940                              Merciless Eviction         2\n",
       "942           5940                                Fire-Lit Thicket         2\n",
       "943           5940                                   Devoted Druid         2\n",
       "944           5940                                 Chainer's Edict         2\n",
       "945           5940                                     Boros Charm         2\n",
       "946           5940                                  Boartusk Liege         2\n",
       "947           5940                            Siege-Gang Commander         1\n",
       "948           5940                         Master of the Wild Hunt         1\n",
       "949           5940                                          Island         1\n",
       "950           5940                                 Gargoyle Castle         1\n",
       "951           5940                                  Decree of Pain         1"
      ]
     },
     "execution_count": 62,
     "metadata": {},
     "output_type": "execute_result"
    }
   ],
   "source": [
    "conn = sqlite3.connect(\"../mtgmelee.db\")\n",
    "query = \"\"\"\n",
    "WITH top8_results as (\n",
    "SELECT\n",
    "    player1_deck_id as deck_id\n",
    "FROM results\n",
    "WHERE\n",
    "    rnd NOT LIKE 'Round%'\n",
    "    \n",
    "UNION ALL\n",
    "SELECT\n",
    "    player2_deck_id as deck_id\n",
    "FROM results\n",
    "WHERE\n",
    "    rnd NOT LIKE 'Round%'\n",
    "),\n",
    "\n",
    "top8_decks as (\n",
    "SELECT\n",
    "    distinct deck_id\n",
    "FROM top8_results)\n",
    "\n",
    "SELECT\n",
    "    d.tournament_id,\n",
    "    c.name,\n",
    "    SUM(quantity) as quantity\n",
    "FROM top8_decks r\n",
    "JOIN decks d\n",
    "    ON r.deck_id = d.id\n",
    "JOIN cards c\n",
    "    ON r.deck_id = c.deck_id\n",
    "    AND c.is_sideboard = 0\n",
    "GROUP BY 1, 2\n",
    "ORDER BY 1, 3 DESC\n",
    "\"\"\"\n",
    "\n",
    "df = pd.read_sql_query(query, conn)\n",
    "df\n",
    "\n"
   ]
  }
 ],
 "metadata": {
  "kernelspec": {
   "display_name": "Python 3",
   "language": "python",
   "name": "python3"
  },
  "language_info": {
   "codemirror_mode": {
    "name": "ipython",
    "version": 3
   },
   "file_extension": ".py",
   "mimetype": "text/x-python",
   "name": "python",
   "nbconvert_exporter": "python",
   "pygments_lexer": "ipython3",
   "version": "3.9.4"
  }
 },
 "nbformat": 4,
 "nbformat_minor": 5
}
